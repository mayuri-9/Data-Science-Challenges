{
  "nbformat": 4,
  "nbformat_minor": 0,
  "metadata": {
    "colab": {
      "name": "survey_analysis.ipynb",
      "provenance": []
    },
    "kernelspec": {
      "name": "python3",
      "display_name": "Python 3"
    },
    "language_info": {
      "name": "python"
    }
  },
  "cells": [
    {
      "cell_type": "markdown",
      "source": [
        "# Food Delivery Analysis\n",
        "\n",
        "We have data from a food delivery app that contains several features related to food delivery from restaurants in various cities. The dataset can be found [here](https://machinehack.com/hackathon/visualization/visualization_challenge_1_analyze_and_visualize_the_food_delivery_time_for_different_cuisines/overview). In this notebook, we will preprocess the data and perform exploratory data analysis and visualization to obtain some meaningful insights into the data."
      ],
      "metadata": {
        "id": "_qdv9Bk7MHrN"
      }
    },
    {
      "cell_type": "code",
      "source": [
        "#! pip install plotly==5.5.0"
      ],
      "metadata": {
        "id": "oSOAIRzLN7xR"
      },
      "execution_count": 1,
      "outputs": []
    },
    {
      "cell_type": "code",
      "source": [
        "import plotly\n",
        "plotly.__version__"
      ],
      "metadata": {
        "colab": {
          "base_uri": "https://localhost:8080/",
          "height": 37
        },
        "id": "IyWhzM6rQkEV",
        "outputId": "1286403b-3f44-4321-ed40-2e87fff0d2eb"
      },
      "execution_count": 2,
      "outputs": [
        {
          "output_type": "execute_result",
          "data": {
            "application/vnd.google.colaboratory.intrinsic+json": {
              "type": "string"
            },
            "text/plain": [
              "'5.5.0'"
            ]
          },
          "metadata": {},
          "execution_count": 2
        }
      ]
    },
    {
      "cell_type": "code",
      "execution_count": 3,
      "metadata": {
        "id": "qFXlSx65GnJa"
      },
      "outputs": [],
      "source": [
        "#required libraries\n",
        "import pandas as pd\n",
        "import matplotlib\n",
        "import matplotlib.pyplot as plt\n",
        "\n",
        "import plotly.express as px\n",
        "import plotly.graph_objects as go\n",
        "import seaborn as sns\n",
        "import re"
      ]
    },
    {
      "cell_type": "code",
      "source": [
        "df = pd.read_csv(\"food_delivery.csv\")\n",
        "df.head()"
      ],
      "metadata": {
        "colab": {
          "base_uri": "https://localhost:8080/",
          "height": 206
        },
        "id": "GkVZdR6rHcf4",
        "outputId": "9e8e496f-f941-417c-b3d7-b573ea01a3af"
      },
      "execution_count": 4,
      "outputs": [
        {
          "output_type": "execute_result",
          "data": {
            "text/html": [
              "\n",
              "  <div id=\"df-e260f5fc-672d-4535-a02a-2aa924b00ec2\">\n",
              "    <div class=\"colab-df-container\">\n",
              "      <div>\n",
              "<style scoped>\n",
              "    .dataframe tbody tr th:only-of-type {\n",
              "        vertical-align: middle;\n",
              "    }\n",
              "\n",
              "    .dataframe tbody tr th {\n",
              "        vertical-align: top;\n",
              "    }\n",
              "\n",
              "    .dataframe thead th {\n",
              "        text-align: right;\n",
              "    }\n",
              "</style>\n",
              "<table border=\"1\" class=\"dataframe\">\n",
              "  <thead>\n",
              "    <tr style=\"text-align: right;\">\n",
              "      <th></th>\n",
              "      <th>Restaurant</th>\n",
              "      <th>Location</th>\n",
              "      <th>Cuisines</th>\n",
              "      <th>Average_Cost</th>\n",
              "      <th>Minimum_Order</th>\n",
              "      <th>Rating</th>\n",
              "      <th>Votes</th>\n",
              "      <th>Reviews</th>\n",
              "      <th>Delivery_Time</th>\n",
              "    </tr>\n",
              "  </thead>\n",
              "  <tbody>\n",
              "    <tr>\n",
              "      <th>0</th>\n",
              "      <td>ID_6321</td>\n",
              "      <td>FTI College, Law College Road, Pune</td>\n",
              "      <td>Fast Food, Rolls, Burger, Salad, Wraps</td>\n",
              "      <td>₹200</td>\n",
              "      <td>₹50</td>\n",
              "      <td>3.5</td>\n",
              "      <td>12</td>\n",
              "      <td>4</td>\n",
              "      <td>30 minutes</td>\n",
              "    </tr>\n",
              "    <tr>\n",
              "      <th>1</th>\n",
              "      <td>ID_5192</td>\n",
              "      <td>FTI College, Law College Road, Pune</td>\n",
              "      <td>Bakery, Fast Food, Rolls, Beverages</td>\n",
              "      <td>₹200</td>\n",
              "      <td>₹50</td>\n",
              "      <td>3.1</td>\n",
              "      <td>279</td>\n",
              "      <td>74</td>\n",
              "      <td>45 minutes</td>\n",
              "    </tr>\n",
              "    <tr>\n",
              "      <th>2</th>\n",
              "      <td>ID_6857</td>\n",
              "      <td>FTI College, Law College Road, Pune</td>\n",
              "      <td>South Indian, North Indian</td>\n",
              "      <td>₹150</td>\n",
              "      <td>₹50</td>\n",
              "      <td>3.1</td>\n",
              "      <td>253</td>\n",
              "      <td>35</td>\n",
              "      <td>30 minutes</td>\n",
              "    </tr>\n",
              "    <tr>\n",
              "      <th>3</th>\n",
              "      <td>ID_3429</td>\n",
              "      <td>FTI College, Law College Road, Pune</td>\n",
              "      <td>Biryani, Chinese</td>\n",
              "      <td>₹150</td>\n",
              "      <td>₹50</td>\n",
              "      <td>3.2</td>\n",
              "      <td>4</td>\n",
              "      <td>4</td>\n",
              "      <td>30 minutes</td>\n",
              "    </tr>\n",
              "    <tr>\n",
              "      <th>4</th>\n",
              "      <td>ID_4654</td>\n",
              "      <td>FTI College, Law College Road, Pune</td>\n",
              "      <td>Burger, Fast Food</td>\n",
              "      <td>₹200</td>\n",
              "      <td>₹50</td>\n",
              "      <td>3.9</td>\n",
              "      <td>326</td>\n",
              "      <td>106</td>\n",
              "      <td>30 minutes</td>\n",
              "    </tr>\n",
              "  </tbody>\n",
              "</table>\n",
              "</div>\n",
              "      <button class=\"colab-df-convert\" onclick=\"convertToInteractive('df-e260f5fc-672d-4535-a02a-2aa924b00ec2')\"\n",
              "              title=\"Convert this dataframe to an interactive table.\"\n",
              "              style=\"display:none;\">\n",
              "        \n",
              "  <svg xmlns=\"http://www.w3.org/2000/svg\" height=\"24px\"viewBox=\"0 0 24 24\"\n",
              "       width=\"24px\">\n",
              "    <path d=\"M0 0h24v24H0V0z\" fill=\"none\"/>\n",
              "    <path d=\"M18.56 5.44l.94 2.06.94-2.06 2.06-.94-2.06-.94-.94-2.06-.94 2.06-2.06.94zm-11 1L8.5 8.5l.94-2.06 2.06-.94-2.06-.94L8.5 2.5l-.94 2.06-2.06.94zm10 10l.94 2.06.94-2.06 2.06-.94-2.06-.94-.94-2.06-.94 2.06-2.06.94z\"/><path d=\"M17.41 7.96l-1.37-1.37c-.4-.4-.92-.59-1.43-.59-.52 0-1.04.2-1.43.59L10.3 9.45l-7.72 7.72c-.78.78-.78 2.05 0 2.83L4 21.41c.39.39.9.59 1.41.59.51 0 1.02-.2 1.41-.59l7.78-7.78 2.81-2.81c.8-.78.8-2.07 0-2.86zM5.41 20L4 18.59l7.72-7.72 1.47 1.35L5.41 20z\"/>\n",
              "  </svg>\n",
              "      </button>\n",
              "      \n",
              "  <style>\n",
              "    .colab-df-container {\n",
              "      display:flex;\n",
              "      flex-wrap:wrap;\n",
              "      gap: 12px;\n",
              "    }\n",
              "\n",
              "    .colab-df-convert {\n",
              "      background-color: #E8F0FE;\n",
              "      border: none;\n",
              "      border-radius: 50%;\n",
              "      cursor: pointer;\n",
              "      display: none;\n",
              "      fill: #1967D2;\n",
              "      height: 32px;\n",
              "      padding: 0 0 0 0;\n",
              "      width: 32px;\n",
              "    }\n",
              "\n",
              "    .colab-df-convert:hover {\n",
              "      background-color: #E2EBFA;\n",
              "      box-shadow: 0px 1px 2px rgba(60, 64, 67, 0.3), 0px 1px 3px 1px rgba(60, 64, 67, 0.15);\n",
              "      fill: #174EA6;\n",
              "    }\n",
              "\n",
              "    [theme=dark] .colab-df-convert {\n",
              "      background-color: #3B4455;\n",
              "      fill: #D2E3FC;\n",
              "    }\n",
              "\n",
              "    [theme=dark] .colab-df-convert:hover {\n",
              "      background-color: #434B5C;\n",
              "      box-shadow: 0px 1px 3px 1px rgba(0, 0, 0, 0.15);\n",
              "      filter: drop-shadow(0px 1px 2px rgba(0, 0, 0, 0.3));\n",
              "      fill: #FFFFFF;\n",
              "    }\n",
              "  </style>\n",
              "\n",
              "      <script>\n",
              "        const buttonEl =\n",
              "          document.querySelector('#df-e260f5fc-672d-4535-a02a-2aa924b00ec2 button.colab-df-convert');\n",
              "        buttonEl.style.display =\n",
              "          google.colab.kernel.accessAllowed ? 'block' : 'none';\n",
              "\n",
              "        async function convertToInteractive(key) {\n",
              "          const element = document.querySelector('#df-e260f5fc-672d-4535-a02a-2aa924b00ec2');\n",
              "          const dataTable =\n",
              "            await google.colab.kernel.invokeFunction('convertToInteractive',\n",
              "                                                     [key], {});\n",
              "          if (!dataTable) return;\n",
              "\n",
              "          const docLinkHtml = 'Like what you see? Visit the ' +\n",
              "            '<a target=\"_blank\" href=https://colab.research.google.com/notebooks/data_table.ipynb>data table notebook</a>'\n",
              "            + ' to learn more about interactive tables.';\n",
              "          element.innerHTML = '';\n",
              "          dataTable['output_type'] = 'display_data';\n",
              "          await google.colab.output.renderOutput(dataTable, element);\n",
              "          const docLink = document.createElement('div');\n",
              "          docLink.innerHTML = docLinkHtml;\n",
              "          element.appendChild(docLink);\n",
              "        }\n",
              "      </script>\n",
              "    </div>\n",
              "  </div>\n",
              "  "
            ],
            "text/plain": [
              "  Restaurant                             Location  ... Reviews Delivery_Time\n",
              "0    ID_6321  FTI College, Law College Road, Pune  ...       4    30 minutes\n",
              "1    ID_5192  FTI College, Law College Road, Pune  ...      74    45 minutes\n",
              "2    ID_6857  FTI College, Law College Road, Pune  ...      35    30 minutes\n",
              "3    ID_3429  FTI College, Law College Road, Pune  ...       4    30 minutes\n",
              "4    ID_4654  FTI College, Law College Road, Pune  ...     106    30 minutes\n",
              "\n",
              "[5 rows x 9 columns]"
            ]
          },
          "metadata": {},
          "execution_count": 4
        }
      ]
    },
    {
      "cell_type": "markdown",
      "source": [
        "### Data Preprocessing"
      ],
      "metadata": {
        "id": "7PJtzJhQItiZ"
      }
    },
    {
      "cell_type": "code",
      "source": [
        "df.info()"
      ],
      "metadata": {
        "colab": {
          "base_uri": "https://localhost:8080/"
        },
        "id": "B8cptWsCIw0k",
        "outputId": "d2424633-3dac-46a6-ec32-fc15f194e73f"
      },
      "execution_count": 5,
      "outputs": [
        {
          "output_type": "stream",
          "name": "stdout",
          "text": [
            "<class 'pandas.core.frame.DataFrame'>\n",
            "RangeIndex: 9937 entries, 0 to 9936\n",
            "Data columns (total 9 columns):\n",
            " #   Column         Non-Null Count  Dtype \n",
            "---  ------         --------------  ----- \n",
            " 0   Restaurant     9937 non-null   object\n",
            " 1   Location       9937 non-null   object\n",
            " 2   Cuisines       9937 non-null   object\n",
            " 3   Average_Cost   9937 non-null   object\n",
            " 4   Minimum_Order  9937 non-null   object\n",
            " 5   Rating         9937 non-null   object\n",
            " 6   Votes          9937 non-null   object\n",
            " 7   Reviews        9937 non-null   object\n",
            " 8   Delivery_Time  9937 non-null   object\n",
            "dtypes: object(9)\n",
            "memory usage: 698.8+ KB\n"
          ]
        }
      ]
    },
    {
      "cell_type": "markdown",
      "source": [
        "There are no null values in the dataset and all the columns are of object data type. `Restaurant`, `Location`, `Cuisines` are categorical whereas the rest of the columns are numerical.\n",
        "\n",
        "*Let's see the different cuisines in our dataset.*"
      ],
      "metadata": {
        "id": "G4atJ8YyI4lG"
      }
    },
    {
      "cell_type": "code",
      "source": [
        "print(\"Different cuisines count: \",df.Cuisines.nunique())\n",
        "df.Cuisines.value_counts()"
      ],
      "metadata": {
        "colab": {
          "base_uri": "https://localhost:8080/"
        },
        "id": "JbQ2I7rKI4YI",
        "outputId": "25b87c2d-74df-4de6-cee9-125c40002454"
      },
      "execution_count": 6,
      "outputs": [
        {
          "output_type": "stream",
          "name": "stdout",
          "text": [
            "Different cuisines count:  1967\n"
          ]
        },
        {
          "output_type": "execute_result",
          "data": {
            "text/plain": [
              "North Indian                                   801\n",
              "North Indian, Chinese                          556\n",
              "Fast Food                                      417\n",
              "South Indian                                   241\n",
              "Chinese                                        229\n",
              "                                              ... \n",
              "Cafe, Fast Food, Chinese                         1\n",
              "Chinese, Thai, Seafood, North Indian, Momos      1\n",
              "Chinese, Thai, Continental, North Indian         1\n",
              "Chinese, Fast Food, Beverages, North Indian      1\n",
              "Asian, Chinese, Sushi, Thai, Japanese, Poké      1\n",
              "Name: Cuisines, Length: 1967, dtype: int64"
            ]
          },
          "metadata": {},
          "execution_count": 6
        }
      ]
    },
    {
      "cell_type": "markdown",
      "source": [
        "Most of the restaurants offer multiple cuisines with `North Indian` and `Chinese` being popular ones."
      ],
      "metadata": {
        "id": "YD7MGuD4JME1"
      }
    },
    {
      "cell_type": "code",
      "source": [
        "print(\"Number of Restaurants: \", df.Restaurant.nunique())"
      ],
      "metadata": {
        "colab": {
          "base_uri": "https://localhost:8080/"
        },
        "id": "2u9sS1jEJfk_",
        "outputId": "95add21c-2949-4d87-eba1-f85a6043dcb4"
      },
      "execution_count": null,
      "outputs": [
        {
          "output_type": "stream",
          "name": "stdout",
          "text": [
            "Number of Restaurants:  6736\n"
          ]
        }
      ]
    },
    {
      "cell_type": "code",
      "source": [
        "df.Delivery_Time.value_counts()"
      ],
      "metadata": {
        "colab": {
          "base_uri": "https://localhost:8080/"
        },
        "id": "1ihrGXA6JiBj",
        "outputId": "6d3b4e08-c5d2-480b-f0f1-fc569c550479"
      },
      "execution_count": null,
      "outputs": [
        {
          "output_type": "execute_result",
          "data": {
            "text/plain": [
              "30 minutes     6641\n",
              "45 minutes     2394\n",
              "65 minutes      819\n",
              "120 minutes      59\n",
              "80 minutes       14\n",
              "20 minutes        6\n",
              "10 minutes        4\n",
              "Name: Delivery_Time, dtype: int64"
            ]
          },
          "metadata": {},
          "execution_count": 12
        }
      ]
    },
    {
      "cell_type": "markdown",
      "source": [
        "On average the longest time it takes to deliver food is around 2 hours and the shortest time is 10 minutes.\n",
        "\n",
        "*Further we need to convert the numerical variables of object data type to numeric data type.*"
      ],
      "metadata": {
        "id": "lDRqwPsVJvxU"
      }
    },
    {
      "cell_type": "code",
      "source": [
        "#delivery time\n",
        "t = df.Delivery_Time\n",
        "y=[]\n",
        "for i in range(0, len(t)):\n",
        " y.append(int(re.findall('[0-9]+', t[i])[0]))\n",
        "df[\"deliveryTime\"] = y"
      ],
      "metadata": {
        "id": "-p5FPXHUPve6"
      },
      "execution_count": 7,
      "outputs": []
    },
    {
      "cell_type": "code",
      "source": [
        "#convert rating to float data type\n",
        "df['numRating']=df.Rating.str.replace(r'[^0-9.]+','0')\n",
        "df['numRating']=df.numRating.astype('float').round(2)\n",
        "\n",
        "#convert votes and reviews to integer data type\n",
        "df[\"Votes\"] = df.Votes.replace(\"-\",\"0\").astype('int')\n",
        "df[\"Reviews\"] = df.Reviews.replace(\"-\",\"0\").astype('int')"
      ],
      "metadata": {
        "id": "Y056ThYQS5Ls"
      },
      "execution_count": 8,
      "outputs": []
    },
    {
      "cell_type": "code",
      "source": [
        "#average and minimum order value\n",
        "df['avgCost'] = df.Average_Cost.str.replace('[^0-9]','')\n",
        "df['minOrder'] = df.Minimum_Order.str.replace('[^0-9]','')"
      ],
      "metadata": {
        "id": "Xy3Q1W9DPvcS"
      },
      "execution_count": 9,
      "outputs": []
    },
    {
      "cell_type": "markdown",
      "source": [
        "*Let's now look at the summary statistics of the numerical columns.*"
      ],
      "metadata": {
        "id": "_c0ko4vqt4dh"
      }
    },
    {
      "cell_type": "code",
      "source": [
        "#summary stats\n",
        "df.describe()"
      ],
      "metadata": {
        "colab": {
          "base_uri": "https://localhost:8080/",
          "height": 300
        },
        "id": "MIAK40i8YU6-",
        "outputId": "4ce27b67-925d-4c1f-d07c-c72c9dc55086"
      },
      "execution_count": 10,
      "outputs": [
        {
          "output_type": "execute_result",
          "data": {
            "text/html": [
              "\n",
              "  <div id=\"df-87b9804a-eaf7-4fd6-ba96-6c1655c5ac0e\">\n",
              "    <div class=\"colab-df-container\">\n",
              "      <div>\n",
              "<style scoped>\n",
              "    .dataframe tbody tr th:only-of-type {\n",
              "        vertical-align: middle;\n",
              "    }\n",
              "\n",
              "    .dataframe tbody tr th {\n",
              "        vertical-align: top;\n",
              "    }\n",
              "\n",
              "    .dataframe thead th {\n",
              "        text-align: right;\n",
              "    }\n",
              "</style>\n",
              "<table border=\"1\" class=\"dataframe\">\n",
              "  <thead>\n",
              "    <tr style=\"text-align: right;\">\n",
              "      <th></th>\n",
              "      <th>Votes</th>\n",
              "      <th>Reviews</th>\n",
              "      <th>deliveryTime</th>\n",
              "      <th>numRating</th>\n",
              "    </tr>\n",
              "  </thead>\n",
              "  <tbody>\n",
              "    <tr>\n",
              "      <th>count</th>\n",
              "      <td>9937.000000</td>\n",
              "      <td>9937.000000</td>\n",
              "      <td>9937.000000</td>\n",
              "      <td>9937.000000</td>\n",
              "    </tr>\n",
              "    <tr>\n",
              "      <th>mean</th>\n",
              "      <td>201.042769</td>\n",
              "      <td>98.393479</td>\n",
              "      <td>37.089162</td>\n",
              "      <td>2.974872</td>\n",
              "    </tr>\n",
              "    <tr>\n",
              "      <th>std</th>\n",
              "      <td>498.393173</td>\n",
              "      <td>274.736765</td>\n",
              "      <td>12.520631</td>\n",
              "      <td>1.428590</td>\n",
              "    </tr>\n",
              "    <tr>\n",
              "      <th>min</th>\n",
              "      <td>0.000000</td>\n",
              "      <td>0.000000</td>\n",
              "      <td>10.000000</td>\n",
              "      <td>0.000000</td>\n",
              "    </tr>\n",
              "    <tr>\n",
              "      <th>25%</th>\n",
              "      <td>7.000000</td>\n",
              "      <td>2.000000</td>\n",
              "      <td>30.000000</td>\n",
              "      <td>3.000000</td>\n",
              "    </tr>\n",
              "    <tr>\n",
              "      <th>50%</th>\n",
              "      <td>38.000000</td>\n",
              "      <td>14.000000</td>\n",
              "      <td>30.000000</td>\n",
              "      <td>3.500000</td>\n",
              "    </tr>\n",
              "    <tr>\n",
              "      <th>75%</th>\n",
              "      <td>161.000000</td>\n",
              "      <td>66.000000</td>\n",
              "      <td>45.000000</td>\n",
              "      <td>3.800000</td>\n",
              "    </tr>\n",
              "    <tr>\n",
              "      <th>max</th>\n",
              "      <td>7661.000000</td>\n",
              "      <td>4966.000000</td>\n",
              "      <td>120.000000</td>\n",
              "      <td>4.900000</td>\n",
              "    </tr>\n",
              "  </tbody>\n",
              "</table>\n",
              "</div>\n",
              "      <button class=\"colab-df-convert\" onclick=\"convertToInteractive('df-87b9804a-eaf7-4fd6-ba96-6c1655c5ac0e')\"\n",
              "              title=\"Convert this dataframe to an interactive table.\"\n",
              "              style=\"display:none;\">\n",
              "        \n",
              "  <svg xmlns=\"http://www.w3.org/2000/svg\" height=\"24px\"viewBox=\"0 0 24 24\"\n",
              "       width=\"24px\">\n",
              "    <path d=\"M0 0h24v24H0V0z\" fill=\"none\"/>\n",
              "    <path d=\"M18.56 5.44l.94 2.06.94-2.06 2.06-.94-2.06-.94-.94-2.06-.94 2.06-2.06.94zm-11 1L8.5 8.5l.94-2.06 2.06-.94-2.06-.94L8.5 2.5l-.94 2.06-2.06.94zm10 10l.94 2.06.94-2.06 2.06-.94-2.06-.94-.94-2.06-.94 2.06-2.06.94z\"/><path d=\"M17.41 7.96l-1.37-1.37c-.4-.4-.92-.59-1.43-.59-.52 0-1.04.2-1.43.59L10.3 9.45l-7.72 7.72c-.78.78-.78 2.05 0 2.83L4 21.41c.39.39.9.59 1.41.59.51 0 1.02-.2 1.41-.59l7.78-7.78 2.81-2.81c.8-.78.8-2.07 0-2.86zM5.41 20L4 18.59l7.72-7.72 1.47 1.35L5.41 20z\"/>\n",
              "  </svg>\n",
              "      </button>\n",
              "      \n",
              "  <style>\n",
              "    .colab-df-container {\n",
              "      display:flex;\n",
              "      flex-wrap:wrap;\n",
              "      gap: 12px;\n",
              "    }\n",
              "\n",
              "    .colab-df-convert {\n",
              "      background-color: #E8F0FE;\n",
              "      border: none;\n",
              "      border-radius: 50%;\n",
              "      cursor: pointer;\n",
              "      display: none;\n",
              "      fill: #1967D2;\n",
              "      height: 32px;\n",
              "      padding: 0 0 0 0;\n",
              "      width: 32px;\n",
              "    }\n",
              "\n",
              "    .colab-df-convert:hover {\n",
              "      background-color: #E2EBFA;\n",
              "      box-shadow: 0px 1px 2px rgba(60, 64, 67, 0.3), 0px 1px 3px 1px rgba(60, 64, 67, 0.15);\n",
              "      fill: #174EA6;\n",
              "    }\n",
              "\n",
              "    [theme=dark] .colab-df-convert {\n",
              "      background-color: #3B4455;\n",
              "      fill: #D2E3FC;\n",
              "    }\n",
              "\n",
              "    [theme=dark] .colab-df-convert:hover {\n",
              "      background-color: #434B5C;\n",
              "      box-shadow: 0px 1px 3px 1px rgba(0, 0, 0, 0.15);\n",
              "      filter: drop-shadow(0px 1px 2px rgba(0, 0, 0, 0.3));\n",
              "      fill: #FFFFFF;\n",
              "    }\n",
              "  </style>\n",
              "\n",
              "      <script>\n",
              "        const buttonEl =\n",
              "          document.querySelector('#df-87b9804a-eaf7-4fd6-ba96-6c1655c5ac0e button.colab-df-convert');\n",
              "        buttonEl.style.display =\n",
              "          google.colab.kernel.accessAllowed ? 'block' : 'none';\n",
              "\n",
              "        async function convertToInteractive(key) {\n",
              "          const element = document.querySelector('#df-87b9804a-eaf7-4fd6-ba96-6c1655c5ac0e');\n",
              "          const dataTable =\n",
              "            await google.colab.kernel.invokeFunction('convertToInteractive',\n",
              "                                                     [key], {});\n",
              "          if (!dataTable) return;\n",
              "\n",
              "          const docLinkHtml = 'Like what you see? Visit the ' +\n",
              "            '<a target=\"_blank\" href=https://colab.research.google.com/notebooks/data_table.ipynb>data table notebook</a>'\n",
              "            + ' to learn more about interactive tables.';\n",
              "          element.innerHTML = '';\n",
              "          dataTable['output_type'] = 'display_data';\n",
              "          await google.colab.output.renderOutput(dataTable, element);\n",
              "          const docLink = document.createElement('div');\n",
              "          docLink.innerHTML = docLinkHtml;\n",
              "          element.appendChild(docLink);\n",
              "        }\n",
              "      </script>\n",
              "    </div>\n",
              "  </div>\n",
              "  "
            ],
            "text/plain": [
              "             Votes      Reviews  deliveryTime    numRating\n",
              "count  9937.000000  9937.000000   9937.000000  9937.000000\n",
              "mean    201.042769    98.393479     37.089162     2.974872\n",
              "std     498.393173   274.736765     12.520631     1.428590\n",
              "min       0.000000     0.000000     10.000000     0.000000\n",
              "25%       7.000000     2.000000     30.000000     3.000000\n",
              "50%      38.000000    14.000000     30.000000     3.500000\n",
              "75%     161.000000    66.000000     45.000000     3.800000\n",
              "max    7661.000000  4966.000000    120.000000     4.900000"
            ]
          },
          "metadata": {},
          "execution_count": 10
        }
      ]
    },
    {
      "cell_type": "markdown",
      "source": [
        "`Votes` and `Reviews` column seems to have potential outliers, as we can observe the huge difference in the mean and median values for these features. The average number of votes is almost double of the reviews."
      ],
      "metadata": {
        "id": "5ps4P5HAYDwU"
      }
    },
    {
      "cell_type": "code",
      "source": [
        "#number of unique locations\n",
        "df.Location.nunique()"
      ],
      "metadata": {
        "colab": {
          "base_uri": "https://localhost:8080/"
        },
        "id": "vW-Hc3wSZo4J",
        "outputId": "aa80ccfb-cfa1-48ed-b3a0-dfffbf3032d5"
      },
      "execution_count": 11,
      "outputs": [
        {
          "output_type": "execute_result",
          "data": {
            "text/plain": [
              "32"
            ]
          },
          "metadata": {},
          "execution_count": 11
        }
      ]
    },
    {
      "cell_type": "code",
      "source": [
        "df.Location.unique()[:2]"
      ],
      "metadata": {
        "colab": {
          "base_uri": "https://localhost:8080/"
        },
        "id": "dqZr3WrCbtrN",
        "outputId": "ed42126a-d174-423e-d32e-bd78eed4ef1f"
      },
      "execution_count": 12,
      "outputs": [
        {
          "output_type": "execute_result",
          "data": {
            "text/plain": [
              "array(['FTI College, Law College Road, Pune', 'Mumbai Central'],\n",
              "      dtype=object)"
            ]
          },
          "metadata": {},
          "execution_count": 12
        }
      ]
    },
    {
      "cell_type": "code",
      "source": [
        "city_list = ['banglore','delhi','gurgaon', 'hyderabad', 'kolkata','mumbai','noida','pune']\n",
        "city_dict = {}\n",
        "unknown_loc = []\n",
        "\n",
        "for loc in df.Location.unique():\n",
        "  #split into individual words\n",
        "  t = re.sub(',',' ',loc).split(' ')\n",
        "  found=False\n",
        "  for word in t:\n",
        "    if word.lower() in city_list:\n",
        "      city_dict[loc] = word\n",
        "      found=True\n",
        "      break\n",
        "  if not found:\n",
        "    city_dict[loc] = \"unknown\"\n",
        "    unknown_loc.append(loc)\n",
        "\n",
        "#locations where city is not from the list\n",
        "unknown_loc"
      ],
      "metadata": {
        "colab": {
          "base_uri": "https://localhost:8080/"
        },
        "id": "u4vHzCkujcRA",
        "outputId": "b757ced7-c09f-4310-fb05-0291a4ab771d"
      },
      "execution_count": 13,
      "outputs": [
        {
          "output_type": "execute_result",
          "data": {
            "text/plain": [
              "['Mico Layout, Stage 2, BTM Layout,Bangalore',\n",
              " 'Laxman Vihar Industrial Area, Sector 3A, Gurgoan',\n",
              " 'BTM Layout 1, Electronic City']"
            ]
          },
          "metadata": {},
          "execution_count": 13
        }
      ]
    },
    {
      "cell_type": "markdown",
      "source": [
        "We can observe that these three locations have no city name and different spellings, so we'll correct these values and create a new city column using the `city_dict` dictionary."
      ],
      "metadata": {
        "id": "J0U4D7ejxpcf"
      }
    },
    {
      "cell_type": "code",
      "source": [
        "#extracting cities from location\n",
        "city_dict[unknown_loc[0]] = 'Banglore'\n",
        "city_dict[unknown_loc[1]] = 'Gurgaon'\n",
        "city_dict[unknown_loc[2]] = 'Banglore'\n",
        "df['city'] = df.Location.map(city_dict)\n",
        "df.city.unique()"
      ],
      "metadata": {
        "colab": {
          "base_uri": "https://localhost:8080/"
        },
        "id": "OzOW0UU7blYO",
        "outputId": "125a11ea-0bc7-4fb7-e8a8-32d740d35016"
      },
      "execution_count": 14,
      "outputs": [
        {
          "output_type": "execute_result",
          "data": {
            "text/plain": [
              "array(['Pune', 'Mumbai', 'Noida', 'Delhi', 'Kolkata', 'Banglore',\n",
              "       'Gurgaon', 'Hyderabad'], dtype=object)"
            ]
          },
          "metadata": {},
          "execution_count": 14
        }
      ]
    },
    {
      "cell_type": "code",
      "source": [
        "#splitting multiple cuisines into separate rows\n",
        "df['Cuisines']=df.Cuisines.str.replace(', ',',') \n",
        "df1=df.assign(cuisine=df.Cuisines.str.split(',')).explode('cuisine')\n",
        "df1.cuisine.value_counts()"
      ],
      "metadata": {
        "colab": {
          "base_uri": "https://localhost:8080/"
        },
        "id": "Iet1G57R9xAt",
        "outputId": "894b552e-8ff4-4157-b6a6-7983d9e30b33"
      },
      "execution_count": 15,
      "outputs": [
        {
          "output_type": "execute_result",
          "data": {
            "text/plain": [
              "North Indian    4299\n",
              "Chinese         3079\n",
              "Fast Food       2831\n",
              "Beverages       1232\n",
              "Desserts        1069\n",
              "                ... \n",
              "Hot dogs           2\n",
              "Sri Lankan         1\n",
              "Bohri              1\n",
              "Greek              1\n",
              "African            1\n",
              "Name: cuisine, Length: 100, dtype: int64"
            ]
          },
          "metadata": {},
          "execution_count": 15
        }
      ]
    },
    {
      "cell_type": "markdown",
      "source": [
        "The most popular among the cuisines include `North Indian`, `Chinese`, `Fast Food`, `Beverages` and `Desserts`. There are total 100 different cuisines available in the dataset."
      ],
      "metadata": {
        "id": "mO6kr5wAMwY_"
      }
    },
    {
      "cell_type": "code",
      "source": [
        "#dropping redundant features\n",
        "df1 = df1.drop(columns=['Cuisines','Average_Cost','Minimum_Order','Rating','Delivery_Time'])\n",
        "df1.columns"
      ],
      "metadata": {
        "colab": {
          "base_uri": "https://localhost:8080/"
        },
        "id": "uW_WRD-HweeF",
        "outputId": "5e22b87c-d5fa-441b-ad57-03531db343f5"
      },
      "execution_count": 16,
      "outputs": [
        {
          "output_type": "execute_result",
          "data": {
            "text/plain": [
              "Index(['Restaurant', 'Location', 'Votes', 'Reviews', 'deliveryTime',\n",
              "       'numRating', 'avgCost', 'minOrder', 'city', 'cuisine'],\n",
              "      dtype='object')"
            ]
          },
          "metadata": {},
          "execution_count": 16
        }
      ]
    },
    {
      "cell_type": "markdown",
      "source": [
        "### Exploratory Data Analysis & Data Visualization"
      ],
      "metadata": {
        "id": "0eS135CaJ_0z"
      }
    },
    {
      "cell_type": "code",
      "source": [
        "#default template and color for different cities\n",
        "template = 'plotly'\n",
        "cityColor = {}\n",
        "bgcolor = ['rgb(124, 235, 163)','rgb(85, 188, 194)','rgb(122, 158, 230)','rgb(192, 198, 240)', 'rgb(154, 114, 207)',\n",
        "           'rgb(218, 161, 237)', 'rgb(235, 164, 225)', 'rgb(222, 133, 175)']\n",
        "linecolor = ['rgb(58, 153, 91)','rgb(32, 93, 97)','rgb(44, 79, 148)','rgb(20, 46, 224)', 'rgb(79, 32, 140)',\n",
        "             'rgb(86, 30, 105)', 'rgb(145, 31, 130)', 'rgb(181, 27, 99)']\n",
        "i=0\n",
        "for city in df1.city.unique():\n",
        "  cityColor[city] = [bgcolor[i], linecolor[i]]\n",
        "  i+=1"
      ],
      "metadata": {
        "id": "hWGOvD0THgAm"
      },
      "execution_count": 108,
      "outputs": []
    },
    {
      "cell_type": "markdown",
      "source": [
        "First we'll look at the number of restaurants in each location and their average rating,"
      ],
      "metadata": {
        "id": "jkRl04V4VwfV"
      }
    },
    {
      "cell_type": "code",
      "source": [
        "loc_wise_ratings = df1.groupby(\"Location\")[\"numRating\"].agg([\"mean\",\"count\"])\n",
        "loc_wise_ratings['mean'] = loc_wise_ratings['mean'].round(2)\n",
        "loc_wise_ratings[:5]"
      ],
      "metadata": {
        "colab": {
          "base_uri": "https://localhost:8080/",
          "height": 237
        },
        "id": "4CEmO-nJ5br5",
        "outputId": "9301e7f2-4b1c-4521-8c76-b6f35d277ff9"
      },
      "execution_count": 17,
      "outputs": [
        {
          "output_type": "execute_result",
          "data": {
            "text/html": [
              "\n",
              "  <div id=\"df-cb3076f1-e913-467e-932d-52d775e0f933\">\n",
              "    <div class=\"colab-df-container\">\n",
              "      <div>\n",
              "<style scoped>\n",
              "    .dataframe tbody tr th:only-of-type {\n",
              "        vertical-align: middle;\n",
              "    }\n",
              "\n",
              "    .dataframe tbody tr th {\n",
              "        vertical-align: top;\n",
              "    }\n",
              "\n",
              "    .dataframe thead th {\n",
              "        text-align: right;\n",
              "    }\n",
              "</style>\n",
              "<table border=\"1\" class=\"dataframe\">\n",
              "  <thead>\n",
              "    <tr style=\"text-align: right;\">\n",
              "      <th></th>\n",
              "      <th>mean</th>\n",
              "      <th>count</th>\n",
              "    </tr>\n",
              "    <tr>\n",
              "      <th>Location</th>\n",
              "      <th></th>\n",
              "      <th></th>\n",
              "    </tr>\n",
              "  </thead>\n",
              "  <tbody>\n",
              "    <tr>\n",
              "      <th>BTM Layout 1, Electronic City</th>\n",
              "      <td>3.96</td>\n",
              "      <td>64</td>\n",
              "    </tr>\n",
              "    <tr>\n",
              "      <th>Babarpur, New Delhi, Delhi</th>\n",
              "      <td>2.66</td>\n",
              "      <td>550</td>\n",
              "    </tr>\n",
              "    <tr>\n",
              "      <th>Chandni Chowk, Kolkata</th>\n",
              "      <td>3.24</td>\n",
              "      <td>299</td>\n",
              "    </tr>\n",
              "    <tr>\n",
              "      <th>Chatta Bazaar, Malakpet, Hyderabad</th>\n",
              "      <td>3.00</td>\n",
              "      <td>117</td>\n",
              "    </tr>\n",
              "    <tr>\n",
              "      <th>D-Block, Sector 63, Noida</th>\n",
              "      <td>3.01</td>\n",
              "      <td>1797</td>\n",
              "    </tr>\n",
              "  </tbody>\n",
              "</table>\n",
              "</div>\n",
              "      <button class=\"colab-df-convert\" onclick=\"convertToInteractive('df-cb3076f1-e913-467e-932d-52d775e0f933')\"\n",
              "              title=\"Convert this dataframe to an interactive table.\"\n",
              "              style=\"display:none;\">\n",
              "        \n",
              "  <svg xmlns=\"http://www.w3.org/2000/svg\" height=\"24px\"viewBox=\"0 0 24 24\"\n",
              "       width=\"24px\">\n",
              "    <path d=\"M0 0h24v24H0V0z\" fill=\"none\"/>\n",
              "    <path d=\"M18.56 5.44l.94 2.06.94-2.06 2.06-.94-2.06-.94-.94-2.06-.94 2.06-2.06.94zm-11 1L8.5 8.5l.94-2.06 2.06-.94-2.06-.94L8.5 2.5l-.94 2.06-2.06.94zm10 10l.94 2.06.94-2.06 2.06-.94-2.06-.94-.94-2.06-.94 2.06-2.06.94z\"/><path d=\"M17.41 7.96l-1.37-1.37c-.4-.4-.92-.59-1.43-.59-.52 0-1.04.2-1.43.59L10.3 9.45l-7.72 7.72c-.78.78-.78 2.05 0 2.83L4 21.41c.39.39.9.59 1.41.59.51 0 1.02-.2 1.41-.59l7.78-7.78 2.81-2.81c.8-.78.8-2.07 0-2.86zM5.41 20L4 18.59l7.72-7.72 1.47 1.35L5.41 20z\"/>\n",
              "  </svg>\n",
              "      </button>\n",
              "      \n",
              "  <style>\n",
              "    .colab-df-container {\n",
              "      display:flex;\n",
              "      flex-wrap:wrap;\n",
              "      gap: 12px;\n",
              "    }\n",
              "\n",
              "    .colab-df-convert {\n",
              "      background-color: #E8F0FE;\n",
              "      border: none;\n",
              "      border-radius: 50%;\n",
              "      cursor: pointer;\n",
              "      display: none;\n",
              "      fill: #1967D2;\n",
              "      height: 32px;\n",
              "      padding: 0 0 0 0;\n",
              "      width: 32px;\n",
              "    }\n",
              "\n",
              "    .colab-df-convert:hover {\n",
              "      background-color: #E2EBFA;\n",
              "      box-shadow: 0px 1px 2px rgba(60, 64, 67, 0.3), 0px 1px 3px 1px rgba(60, 64, 67, 0.15);\n",
              "      fill: #174EA6;\n",
              "    }\n",
              "\n",
              "    [theme=dark] .colab-df-convert {\n",
              "      background-color: #3B4455;\n",
              "      fill: #D2E3FC;\n",
              "    }\n",
              "\n",
              "    [theme=dark] .colab-df-convert:hover {\n",
              "      background-color: #434B5C;\n",
              "      box-shadow: 0px 1px 3px 1px rgba(0, 0, 0, 0.15);\n",
              "      filter: drop-shadow(0px 1px 2px rgba(0, 0, 0, 0.3));\n",
              "      fill: #FFFFFF;\n",
              "    }\n",
              "  </style>\n",
              "\n",
              "      <script>\n",
              "        const buttonEl =\n",
              "          document.querySelector('#df-cb3076f1-e913-467e-932d-52d775e0f933 button.colab-df-convert');\n",
              "        buttonEl.style.display =\n",
              "          google.colab.kernel.accessAllowed ? 'block' : 'none';\n",
              "\n",
              "        async function convertToInteractive(key) {\n",
              "          const element = document.querySelector('#df-cb3076f1-e913-467e-932d-52d775e0f933');\n",
              "          const dataTable =\n",
              "            await google.colab.kernel.invokeFunction('convertToInteractive',\n",
              "                                                     [key], {});\n",
              "          if (!dataTable) return;\n",
              "\n",
              "          const docLinkHtml = 'Like what you see? Visit the ' +\n",
              "            '<a target=\"_blank\" href=https://colab.research.google.com/notebooks/data_table.ipynb>data table notebook</a>'\n",
              "            + ' to learn more about interactive tables.';\n",
              "          element.innerHTML = '';\n",
              "          dataTable['output_type'] = 'display_data';\n",
              "          await google.colab.output.renderOutput(dataTable, element);\n",
              "          const docLink = document.createElement('div');\n",
              "          docLink.innerHTML = docLinkHtml;\n",
              "          element.appendChild(docLink);\n",
              "        }\n",
              "      </script>\n",
              "    </div>\n",
              "  </div>\n",
              "  "
            ],
            "text/plain": [
              "                                    mean  count\n",
              "Location                                       \n",
              "BTM Layout 1, Electronic City       3.96     64\n",
              "Babarpur, New Delhi, Delhi          2.66    550\n",
              "Chandni Chowk, Kolkata              3.24    299\n",
              "Chatta Bazaar, Malakpet, Hyderabad  3.00    117\n",
              "D-Block, Sector 63, Noida           3.01   1797"
            ]
          },
          "metadata": {},
          "execution_count": 17
        }
      ]
    },
    {
      "cell_type": "code",
      "source": [
        "fig = px.bar(loc_wise_ratings, x= 'mean', y=loc_wise_ratings.index, color = \"count\", labels={'count':'Number of Restaurants','mean':'Average Ratings'}, \n",
        "             orientation='h', height = 1000, width = 700, template=template)\n",
        "fig.update_layout(title = \"<b>Location wise Average Ratings</b>\")\n",
        "fig.show()"
      ],
      "metadata": {
        "colab": {
          "base_uri": "https://localhost:8080/",
          "height": 1000
        },
        "id": "VruUjb_K2D64",
        "outputId": "32fed1ef-b7da-4f05-ebac-bc050118e826"
      },
      "execution_count": 127,
      "outputs": [
        {
          "output_type": "display_data",
          "data": {
            "text/html": [
              "<html>\n",
              "<head><meta charset=\"utf-8\" /></head>\n",
              "<body>\n",
              "    <div>            <script src=\"https://cdnjs.cloudflare.com/ajax/libs/mathjax/2.7.5/MathJax.js?config=TeX-AMS-MML_SVG\"></script><script type=\"text/javascript\">if (window.MathJax) {MathJax.Hub.Config({SVG: {font: \"STIX-Web\"}});}</script>                <script type=\"text/javascript\">window.PlotlyConfig = {MathJaxConfig: 'local'};</script>\n",
              "        <script src=\"https://cdn.plot.ly/plotly-2.8.3.min.js\"></script>                <div id=\"457c44b3-523c-4424-b690-8cea7958c163\" class=\"plotly-graph-div\" style=\"height:1000px; width:700px;\"></div>            <script type=\"text/javascript\">                                    window.PLOTLYENV=window.PLOTLYENV || {};                                    if (document.getElementById(\"457c44b3-523c-4424-b690-8cea7958c163\")) {                    Plotly.newPlot(                        \"457c44b3-523c-4424-b690-8cea7958c163\",                        [{\"alignmentgroup\":\"True\",\"hovertemplate\":\"Average Ratings=%{x}<br>Location=%{y}<br>Number of Restaurants=%{marker.color}<extra></extra>\",\"legendgroup\":\"\",\"marker\":{\"color\":[64,550,299,117,1797,1010,727,1045,1170,694,1336,194,204,85,1081,943,2370,342,1116,126,965,132,106,673,262,915,1821,1151,611,244,223,804],\"coloraxis\":\"coloraxis\",\"pattern\":{\"shape\":\"\"}},\"name\":\"\",\"offsetgroup\":\"\",\"orientation\":\"h\",\"showlegend\":false,\"textposition\":\"auto\",\"x\":[3.96,2.66,3.24,3.0,3.01,3.13,2.93,3.45,3.14,3.25,3.0,2.69,3.35,3.21,2.85,3.21,3.26,3.2,3.28,3.16,3.39,3.03,3.06,3.32,2.99,3.28,2.96,3.28,2.83,2.58,3.1,3.35],\"xaxis\":\"x\",\"y\":[\"BTM Layout 1, Electronic City\",\"Babarpur, New Delhi, Delhi\",\"Chandni Chowk, Kolkata\",\"Chatta Bazaar, Malakpet, Hyderabad\",\"D-Block, Sector 63, Noida\",\"Delhi Administration Flats, Timarpur\",\"Delhi Cantt.\",\"Delhi High Court, India Gate\",\"Delhi University-GTB Nagar\",\"Dockyard Road, Mumbai CST Area\",\"FTI College, Law College Road, Pune\",\"Gora Bazar, Rajbari, North Dumdum, Kolkata\",\"Hyderabad Public School, Begumpet\",\"Jaya Nagar, Saidabad, Hyderabad\",\"Laxman Vihar Industrial Area, Sector 3A, Gurgoan\",\"MG Road, Pune\",\"Mico Layout, Stage 2, BTM Layout,Bangalore\",\"Moulali, Kolkata\",\"Mumbai Central\",\"Musi Nagar, Malakpet, Hyderabad\",\"Nathan Road, Mangaldas Road, Pune\",\"Noorkhan Bazaar, Malakpet, Hyderabad\",\"Panjetan Colony, Malakpet, Hyderabad\",\"Pune University\",\"Raja Bazar, Kolkata\",\"Sandhurst Road, Mumbai CST Area\",\"Sector 1, Noida\",\"Sector 14, Noida\",\"Sector 63A,Gurgaon\",\"Tejas Nagar Colony, Wadala West, Mumbai\",\"Tiretti, Kolkata\",\"Yerawada, Pune, Maharashtra\"],\"yaxis\":\"y\",\"type\":\"bar\"}],                        {\"template\":{\"data\":{\"bar\":[{\"error_x\":{\"color\":\"#2a3f5f\"},\"error_y\":{\"color\":\"#2a3f5f\"},\"marker\":{\"line\":{\"color\":\"#E5ECF6\",\"width\":0.5},\"pattern\":{\"fillmode\":\"overlay\",\"size\":10,\"solidity\":0.2}},\"type\":\"bar\"}],\"barpolar\":[{\"marker\":{\"line\":{\"color\":\"#E5ECF6\",\"width\":0.5},\"pattern\":{\"fillmode\":\"overlay\",\"size\":10,\"solidity\":0.2}},\"type\":\"barpolar\"}],\"carpet\":[{\"aaxis\":{\"endlinecolor\":\"#2a3f5f\",\"gridcolor\":\"white\",\"linecolor\":\"white\",\"minorgridcolor\":\"white\",\"startlinecolor\":\"#2a3f5f\"},\"baxis\":{\"endlinecolor\":\"#2a3f5f\",\"gridcolor\":\"white\",\"linecolor\":\"white\",\"minorgridcolor\":\"white\",\"startlinecolor\":\"#2a3f5f\"},\"type\":\"carpet\"}],\"choropleth\":[{\"colorbar\":{\"outlinewidth\":0,\"ticks\":\"\"},\"type\":\"choropleth\"}],\"contour\":[{\"colorbar\":{\"outlinewidth\":0,\"ticks\":\"\"},\"colorscale\":[[0.0,\"#0d0887\"],[0.1111111111111111,\"#46039f\"],[0.2222222222222222,\"#7201a8\"],[0.3333333333333333,\"#9c179e\"],[0.4444444444444444,\"#bd3786\"],[0.5555555555555556,\"#d8576b\"],[0.6666666666666666,\"#ed7953\"],[0.7777777777777778,\"#fb9f3a\"],[0.8888888888888888,\"#fdca26\"],[1.0,\"#f0f921\"]],\"type\":\"contour\"}],\"contourcarpet\":[{\"colorbar\":{\"outlinewidth\":0,\"ticks\":\"\"},\"type\":\"contourcarpet\"}],\"heatmap\":[{\"colorbar\":{\"outlinewidth\":0,\"ticks\":\"\"},\"colorscale\":[[0.0,\"#0d0887\"],[0.1111111111111111,\"#46039f\"],[0.2222222222222222,\"#7201a8\"],[0.3333333333333333,\"#9c179e\"],[0.4444444444444444,\"#bd3786\"],[0.5555555555555556,\"#d8576b\"],[0.6666666666666666,\"#ed7953\"],[0.7777777777777778,\"#fb9f3a\"],[0.8888888888888888,\"#fdca26\"],[1.0,\"#f0f921\"]],\"type\":\"heatmap\"}],\"heatmapgl\":[{\"colorbar\":{\"outlinewidth\":0,\"ticks\":\"\"},\"colorscale\":[[0.0,\"#0d0887\"],[0.1111111111111111,\"#46039f\"],[0.2222222222222222,\"#7201a8\"],[0.3333333333333333,\"#9c179e\"],[0.4444444444444444,\"#bd3786\"],[0.5555555555555556,\"#d8576b\"],[0.6666666666666666,\"#ed7953\"],[0.7777777777777778,\"#fb9f3a\"],[0.8888888888888888,\"#fdca26\"],[1.0,\"#f0f921\"]],\"type\":\"heatmapgl\"}],\"histogram\":[{\"marker\":{\"pattern\":{\"fillmode\":\"overlay\",\"size\":10,\"solidity\":0.2}},\"type\":\"histogram\"}],\"histogram2d\":[{\"colorbar\":{\"outlinewidth\":0,\"ticks\":\"\"},\"colorscale\":[[0.0,\"#0d0887\"],[0.1111111111111111,\"#46039f\"],[0.2222222222222222,\"#7201a8\"],[0.3333333333333333,\"#9c179e\"],[0.4444444444444444,\"#bd3786\"],[0.5555555555555556,\"#d8576b\"],[0.6666666666666666,\"#ed7953\"],[0.7777777777777778,\"#fb9f3a\"],[0.8888888888888888,\"#fdca26\"],[1.0,\"#f0f921\"]],\"type\":\"histogram2d\"}],\"histogram2dcontour\":[{\"colorbar\":{\"outlinewidth\":0,\"ticks\":\"\"},\"colorscale\":[[0.0,\"#0d0887\"],[0.1111111111111111,\"#46039f\"],[0.2222222222222222,\"#7201a8\"],[0.3333333333333333,\"#9c179e\"],[0.4444444444444444,\"#bd3786\"],[0.5555555555555556,\"#d8576b\"],[0.6666666666666666,\"#ed7953\"],[0.7777777777777778,\"#fb9f3a\"],[0.8888888888888888,\"#fdca26\"],[1.0,\"#f0f921\"]],\"type\":\"histogram2dcontour\"}],\"mesh3d\":[{\"colorbar\":{\"outlinewidth\":0,\"ticks\":\"\"},\"type\":\"mesh3d\"}],\"parcoords\":[{\"line\":{\"colorbar\":{\"outlinewidth\":0,\"ticks\":\"\"}},\"type\":\"parcoords\"}],\"pie\":[{\"automargin\":true,\"type\":\"pie\"}],\"scatter\":[{\"marker\":{\"colorbar\":{\"outlinewidth\":0,\"ticks\":\"\"}},\"type\":\"scatter\"}],\"scatter3d\":[{\"line\":{\"colorbar\":{\"outlinewidth\":0,\"ticks\":\"\"}},\"marker\":{\"colorbar\":{\"outlinewidth\":0,\"ticks\":\"\"}},\"type\":\"scatter3d\"}],\"scattercarpet\":[{\"marker\":{\"colorbar\":{\"outlinewidth\":0,\"ticks\":\"\"}},\"type\":\"scattercarpet\"}],\"scattergeo\":[{\"marker\":{\"colorbar\":{\"outlinewidth\":0,\"ticks\":\"\"}},\"type\":\"scattergeo\"}],\"scattergl\":[{\"marker\":{\"colorbar\":{\"outlinewidth\":0,\"ticks\":\"\"}},\"type\":\"scattergl\"}],\"scattermapbox\":[{\"marker\":{\"colorbar\":{\"outlinewidth\":0,\"ticks\":\"\"}},\"type\":\"scattermapbox\"}],\"scatterpolar\":[{\"marker\":{\"colorbar\":{\"outlinewidth\":0,\"ticks\":\"\"}},\"type\":\"scatterpolar\"}],\"scatterpolargl\":[{\"marker\":{\"colorbar\":{\"outlinewidth\":0,\"ticks\":\"\"}},\"type\":\"scatterpolargl\"}],\"scatterternary\":[{\"marker\":{\"colorbar\":{\"outlinewidth\":0,\"ticks\":\"\"}},\"type\":\"scatterternary\"}],\"surface\":[{\"colorbar\":{\"outlinewidth\":0,\"ticks\":\"\"},\"colorscale\":[[0.0,\"#0d0887\"],[0.1111111111111111,\"#46039f\"],[0.2222222222222222,\"#7201a8\"],[0.3333333333333333,\"#9c179e\"],[0.4444444444444444,\"#bd3786\"],[0.5555555555555556,\"#d8576b\"],[0.6666666666666666,\"#ed7953\"],[0.7777777777777778,\"#fb9f3a\"],[0.8888888888888888,\"#fdca26\"],[1.0,\"#f0f921\"]],\"type\":\"surface\"}],\"table\":[{\"cells\":{\"fill\":{\"color\":\"#EBF0F8\"},\"line\":{\"color\":\"white\"}},\"header\":{\"fill\":{\"color\":\"#C8D4E3\"},\"line\":{\"color\":\"white\"}},\"type\":\"table\"}]},\"layout\":{\"annotationdefaults\":{\"arrowcolor\":\"#2a3f5f\",\"arrowhead\":0,\"arrowwidth\":1},\"autotypenumbers\":\"strict\",\"coloraxis\":{\"colorbar\":{\"outlinewidth\":0,\"ticks\":\"\"}},\"colorscale\":{\"diverging\":[[0,\"#8e0152\"],[0.1,\"#c51b7d\"],[0.2,\"#de77ae\"],[0.3,\"#f1b6da\"],[0.4,\"#fde0ef\"],[0.5,\"#f7f7f7\"],[0.6,\"#e6f5d0\"],[0.7,\"#b8e186\"],[0.8,\"#7fbc41\"],[0.9,\"#4d9221\"],[1,\"#276419\"]],\"sequential\":[[0.0,\"#0d0887\"],[0.1111111111111111,\"#46039f\"],[0.2222222222222222,\"#7201a8\"],[0.3333333333333333,\"#9c179e\"],[0.4444444444444444,\"#bd3786\"],[0.5555555555555556,\"#d8576b\"],[0.6666666666666666,\"#ed7953\"],[0.7777777777777778,\"#fb9f3a\"],[0.8888888888888888,\"#fdca26\"],[1.0,\"#f0f921\"]],\"sequentialminus\":[[0.0,\"#0d0887\"],[0.1111111111111111,\"#46039f\"],[0.2222222222222222,\"#7201a8\"],[0.3333333333333333,\"#9c179e\"],[0.4444444444444444,\"#bd3786\"],[0.5555555555555556,\"#d8576b\"],[0.6666666666666666,\"#ed7953\"],[0.7777777777777778,\"#fb9f3a\"],[0.8888888888888888,\"#fdca26\"],[1.0,\"#f0f921\"]]},\"colorway\":[\"#636efa\",\"#EF553B\",\"#00cc96\",\"#ab63fa\",\"#FFA15A\",\"#19d3f3\",\"#FF6692\",\"#B6E880\",\"#FF97FF\",\"#FECB52\"],\"font\":{\"color\":\"#2a3f5f\"},\"geo\":{\"bgcolor\":\"white\",\"lakecolor\":\"white\",\"landcolor\":\"#E5ECF6\",\"showlakes\":true,\"showland\":true,\"subunitcolor\":\"white\"},\"hoverlabel\":{\"align\":\"left\"},\"hovermode\":\"closest\",\"mapbox\":{\"style\":\"light\"},\"paper_bgcolor\":\"white\",\"plot_bgcolor\":\"#E5ECF6\",\"polar\":{\"angularaxis\":{\"gridcolor\":\"white\",\"linecolor\":\"white\",\"ticks\":\"\"},\"bgcolor\":\"#E5ECF6\",\"radialaxis\":{\"gridcolor\":\"white\",\"linecolor\":\"white\",\"ticks\":\"\"}},\"scene\":{\"xaxis\":{\"backgroundcolor\":\"#E5ECF6\",\"gridcolor\":\"white\",\"gridwidth\":2,\"linecolor\":\"white\",\"showbackground\":true,\"ticks\":\"\",\"zerolinecolor\":\"white\"},\"yaxis\":{\"backgroundcolor\":\"#E5ECF6\",\"gridcolor\":\"white\",\"gridwidth\":2,\"linecolor\":\"white\",\"showbackground\":true,\"ticks\":\"\",\"zerolinecolor\":\"white\"},\"zaxis\":{\"backgroundcolor\":\"#E5ECF6\",\"gridcolor\":\"white\",\"gridwidth\":2,\"linecolor\":\"white\",\"showbackground\":true,\"ticks\":\"\",\"zerolinecolor\":\"white\"}},\"shapedefaults\":{\"line\":{\"color\":\"#2a3f5f\"}},\"ternary\":{\"aaxis\":{\"gridcolor\":\"white\",\"linecolor\":\"white\",\"ticks\":\"\"},\"baxis\":{\"gridcolor\":\"white\",\"linecolor\":\"white\",\"ticks\":\"\"},\"bgcolor\":\"#E5ECF6\",\"caxis\":{\"gridcolor\":\"white\",\"linecolor\":\"white\",\"ticks\":\"\"}},\"title\":{\"x\":0.05},\"xaxis\":{\"automargin\":true,\"gridcolor\":\"white\",\"linecolor\":\"white\",\"ticks\":\"\",\"title\":{\"standoff\":15},\"zerolinecolor\":\"white\",\"zerolinewidth\":2},\"yaxis\":{\"automargin\":true,\"gridcolor\":\"white\",\"linecolor\":\"white\",\"ticks\":\"\",\"title\":{\"standoff\":15},\"zerolinecolor\":\"white\",\"zerolinewidth\":2}}},\"xaxis\":{\"anchor\":\"y\",\"domain\":[0.0,1.0],\"title\":{\"text\":\"Average Ratings\"}},\"yaxis\":{\"anchor\":\"x\",\"domain\":[0.0,1.0],\"title\":{\"text\":\"Location\"}},\"coloraxis\":{\"colorbar\":{\"title\":{\"text\":\"Number of Restaurants\"}},\"colorscale\":[[0.0,\"#0d0887\"],[0.1111111111111111,\"#46039f\"],[0.2222222222222222,\"#7201a8\"],[0.3333333333333333,\"#9c179e\"],[0.4444444444444444,\"#bd3786\"],[0.5555555555555556,\"#d8576b\"],[0.6666666666666666,\"#ed7953\"],[0.7777777777777778,\"#fb9f3a\"],[0.8888888888888888,\"#fdca26\"],[1.0,\"#f0f921\"]]},\"legend\":{\"tracegroupgap\":0},\"margin\":{\"t\":60},\"barmode\":\"relative\",\"height\":1000,\"width\":700,\"title\":{\"text\":\"<b>Location wise Average Ratings</b>\"}},                        {\"responsive\": true}                    ).then(function(){\n",
              "                            \n",
              "var gd = document.getElementById('457c44b3-523c-4424-b690-8cea7958c163');\n",
              "var x = new MutationObserver(function (mutations, observer) {{\n",
              "        var display = window.getComputedStyle(gd).display;\n",
              "        if (!display || display === 'none') {{\n",
              "            console.log([gd, 'removed!']);\n",
              "            Plotly.purge(gd);\n",
              "            observer.disconnect();\n",
              "        }}\n",
              "}});\n",
              "\n",
              "// Listen for the removal of the full notebook cells\n",
              "var notebookContainer = gd.closest('#notebook-container');\n",
              "if (notebookContainer) {{\n",
              "    x.observe(notebookContainer, {childList: true});\n",
              "}}\n",
              "\n",
              "// Listen for the clearing of the current output cell\n",
              "var outputEl = gd.closest('.output');\n",
              "if (outputEl) {{\n",
              "    x.observe(outputEl, {childList: true});\n",
              "}}\n",
              "\n",
              "                        })                };                            </script>        </div>\n",
              "</body>\n",
              "</html>"
            ]
          },
          "metadata": {}
        }
      ]
    },
    {
      "cell_type": "markdown",
      "source": [
        "The Location wise average ratings plot shows the average of the ratings taken from the number of restaurants. `BTM Layout 1, Electronic City` has the highest average rating of 3.9 stars with 64 restaurants in it."
      ],
      "metadata": {
        "id": "gQiTeLAEcL2c"
      }
    },
    {
      "cell_type": "code",
      "source": [
        "restaurants = df1.groupby('city')['Restaurant'].agg('count')\n",
        "title=\"<b>Total Number of Restaurants</b>\"\n",
        "fig = px.pie(values=restaurants, names=restaurants.index, title=title, labels={'value':'Number of Restaurants'}, width=400, height=400, template=template)\n",
        "fig.show()"
      ],
      "metadata": {
        "colab": {
          "base_uri": "https://localhost:8080/",
          "height": 417
        },
        "id": "8SAvcqlsGhki",
        "outputId": "f0322751-d974-4d99-827c-42cd58c462d0"
      },
      "execution_count": 102,
      "outputs": [
        {
          "output_type": "display_data",
          "data": {
            "text/html": [
              "<html>\n",
              "<head><meta charset=\"utf-8\" /></head>\n",
              "<body>\n",
              "    <div>            <script src=\"https://cdnjs.cloudflare.com/ajax/libs/mathjax/2.7.5/MathJax.js?config=TeX-AMS-MML_SVG\"></script><script type=\"text/javascript\">if (window.MathJax) {MathJax.Hub.Config({SVG: {font: \"STIX-Web\"}});}</script>                <script type=\"text/javascript\">window.PlotlyConfig = {MathJaxConfig: 'local'};</script>\n",
              "        <script src=\"https://cdn.plot.ly/plotly-2.8.3.min.js\"></script>                <div id=\"fc5adef2-5280-42e7-832c-089c08765653\" class=\"plotly-graph-div\" style=\"height:400px; width:400px;\"></div>            <script type=\"text/javascript\">                                    window.PLOTLYENV=window.PLOTLYENV || {};                                    if (document.getElementById(\"fc5adef2-5280-42e7-832c-089c08765653\")) {                    Plotly.newPlot(                        \"fc5adef2-5280-42e7-832c-089c08765653\",                        [{\"domain\":{\"x\":[0.0,1.0],\"y\":[0.0,1.0]},\"hovertemplate\":\"label=%{label}<br>value=%{value}<extra></extra>\",\"labels\":[\"Banglore\",\"Delhi\",\"Gurgaon\",\"Hyderabad\",\"Kolkata\",\"Mumbai\",\"Noida\",\"Pune\"],\"legendgroup\":\"\",\"name\":\"\",\"showlegend\":true,\"values\":[2434,4502,1692,770,1320,2969,4769,4721],\"type\":\"pie\"}],                        {\"template\":{\"data\":{\"bar\":[{\"error_x\":{\"color\":\"#2a3f5f\"},\"error_y\":{\"color\":\"#2a3f5f\"},\"marker\":{\"line\":{\"color\":\"#E5ECF6\",\"width\":0.5},\"pattern\":{\"fillmode\":\"overlay\",\"size\":10,\"solidity\":0.2}},\"type\":\"bar\"}],\"barpolar\":[{\"marker\":{\"line\":{\"color\":\"#E5ECF6\",\"width\":0.5},\"pattern\":{\"fillmode\":\"overlay\",\"size\":10,\"solidity\":0.2}},\"type\":\"barpolar\"}],\"carpet\":[{\"aaxis\":{\"endlinecolor\":\"#2a3f5f\",\"gridcolor\":\"white\",\"linecolor\":\"white\",\"minorgridcolor\":\"white\",\"startlinecolor\":\"#2a3f5f\"},\"baxis\":{\"endlinecolor\":\"#2a3f5f\",\"gridcolor\":\"white\",\"linecolor\":\"white\",\"minorgridcolor\":\"white\",\"startlinecolor\":\"#2a3f5f\"},\"type\":\"carpet\"}],\"choropleth\":[{\"colorbar\":{\"outlinewidth\":0,\"ticks\":\"\"},\"type\":\"choropleth\"}],\"contour\":[{\"colorbar\":{\"outlinewidth\":0,\"ticks\":\"\"},\"colorscale\":[[0.0,\"#0d0887\"],[0.1111111111111111,\"#46039f\"],[0.2222222222222222,\"#7201a8\"],[0.3333333333333333,\"#9c179e\"],[0.4444444444444444,\"#bd3786\"],[0.5555555555555556,\"#d8576b\"],[0.6666666666666666,\"#ed7953\"],[0.7777777777777778,\"#fb9f3a\"],[0.8888888888888888,\"#fdca26\"],[1.0,\"#f0f921\"]],\"type\":\"contour\"}],\"contourcarpet\":[{\"colorbar\":{\"outlinewidth\":0,\"ticks\":\"\"},\"type\":\"contourcarpet\"}],\"heatmap\":[{\"colorbar\":{\"outlinewidth\":0,\"ticks\":\"\"},\"colorscale\":[[0.0,\"#0d0887\"],[0.1111111111111111,\"#46039f\"],[0.2222222222222222,\"#7201a8\"],[0.3333333333333333,\"#9c179e\"],[0.4444444444444444,\"#bd3786\"],[0.5555555555555556,\"#d8576b\"],[0.6666666666666666,\"#ed7953\"],[0.7777777777777778,\"#fb9f3a\"],[0.8888888888888888,\"#fdca26\"],[1.0,\"#f0f921\"]],\"type\":\"heatmap\"}],\"heatmapgl\":[{\"colorbar\":{\"outlinewidth\":0,\"ticks\":\"\"},\"colorscale\":[[0.0,\"#0d0887\"],[0.1111111111111111,\"#46039f\"],[0.2222222222222222,\"#7201a8\"],[0.3333333333333333,\"#9c179e\"],[0.4444444444444444,\"#bd3786\"],[0.5555555555555556,\"#d8576b\"],[0.6666666666666666,\"#ed7953\"],[0.7777777777777778,\"#fb9f3a\"],[0.8888888888888888,\"#fdca26\"],[1.0,\"#f0f921\"]],\"type\":\"heatmapgl\"}],\"histogram\":[{\"marker\":{\"pattern\":{\"fillmode\":\"overlay\",\"size\":10,\"solidity\":0.2}},\"type\":\"histogram\"}],\"histogram2d\":[{\"colorbar\":{\"outlinewidth\":0,\"ticks\":\"\"},\"colorscale\":[[0.0,\"#0d0887\"],[0.1111111111111111,\"#46039f\"],[0.2222222222222222,\"#7201a8\"],[0.3333333333333333,\"#9c179e\"],[0.4444444444444444,\"#bd3786\"],[0.5555555555555556,\"#d8576b\"],[0.6666666666666666,\"#ed7953\"],[0.7777777777777778,\"#fb9f3a\"],[0.8888888888888888,\"#fdca26\"],[1.0,\"#f0f921\"]],\"type\":\"histogram2d\"}],\"histogram2dcontour\":[{\"colorbar\":{\"outlinewidth\":0,\"ticks\":\"\"},\"colorscale\":[[0.0,\"#0d0887\"],[0.1111111111111111,\"#46039f\"],[0.2222222222222222,\"#7201a8\"],[0.3333333333333333,\"#9c179e\"],[0.4444444444444444,\"#bd3786\"],[0.5555555555555556,\"#d8576b\"],[0.6666666666666666,\"#ed7953\"],[0.7777777777777778,\"#fb9f3a\"],[0.8888888888888888,\"#fdca26\"],[1.0,\"#f0f921\"]],\"type\":\"histogram2dcontour\"}],\"mesh3d\":[{\"colorbar\":{\"outlinewidth\":0,\"ticks\":\"\"},\"type\":\"mesh3d\"}],\"parcoords\":[{\"line\":{\"colorbar\":{\"outlinewidth\":0,\"ticks\":\"\"}},\"type\":\"parcoords\"}],\"pie\":[{\"automargin\":true,\"type\":\"pie\"}],\"scatter\":[{\"marker\":{\"colorbar\":{\"outlinewidth\":0,\"ticks\":\"\"}},\"type\":\"scatter\"}],\"scatter3d\":[{\"line\":{\"colorbar\":{\"outlinewidth\":0,\"ticks\":\"\"}},\"marker\":{\"colorbar\":{\"outlinewidth\":0,\"ticks\":\"\"}},\"type\":\"scatter3d\"}],\"scattercarpet\":[{\"marker\":{\"colorbar\":{\"outlinewidth\":0,\"ticks\":\"\"}},\"type\":\"scattercarpet\"}],\"scattergeo\":[{\"marker\":{\"colorbar\":{\"outlinewidth\":0,\"ticks\":\"\"}},\"type\":\"scattergeo\"}],\"scattergl\":[{\"marker\":{\"colorbar\":{\"outlinewidth\":0,\"ticks\":\"\"}},\"type\":\"scattergl\"}],\"scattermapbox\":[{\"marker\":{\"colorbar\":{\"outlinewidth\":0,\"ticks\":\"\"}},\"type\":\"scattermapbox\"}],\"scatterpolar\":[{\"marker\":{\"colorbar\":{\"outlinewidth\":0,\"ticks\":\"\"}},\"type\":\"scatterpolar\"}],\"scatterpolargl\":[{\"marker\":{\"colorbar\":{\"outlinewidth\":0,\"ticks\":\"\"}},\"type\":\"scatterpolargl\"}],\"scatterternary\":[{\"marker\":{\"colorbar\":{\"outlinewidth\":0,\"ticks\":\"\"}},\"type\":\"scatterternary\"}],\"surface\":[{\"colorbar\":{\"outlinewidth\":0,\"ticks\":\"\"},\"colorscale\":[[0.0,\"#0d0887\"],[0.1111111111111111,\"#46039f\"],[0.2222222222222222,\"#7201a8\"],[0.3333333333333333,\"#9c179e\"],[0.4444444444444444,\"#bd3786\"],[0.5555555555555556,\"#d8576b\"],[0.6666666666666666,\"#ed7953\"],[0.7777777777777778,\"#fb9f3a\"],[0.8888888888888888,\"#fdca26\"],[1.0,\"#f0f921\"]],\"type\":\"surface\"}],\"table\":[{\"cells\":{\"fill\":{\"color\":\"#EBF0F8\"},\"line\":{\"color\":\"white\"}},\"header\":{\"fill\":{\"color\":\"#C8D4E3\"},\"line\":{\"color\":\"white\"}},\"type\":\"table\"}]},\"layout\":{\"annotationdefaults\":{\"arrowcolor\":\"#2a3f5f\",\"arrowhead\":0,\"arrowwidth\":1},\"autotypenumbers\":\"strict\",\"coloraxis\":{\"colorbar\":{\"outlinewidth\":0,\"ticks\":\"\"}},\"colorscale\":{\"diverging\":[[0,\"#8e0152\"],[0.1,\"#c51b7d\"],[0.2,\"#de77ae\"],[0.3,\"#f1b6da\"],[0.4,\"#fde0ef\"],[0.5,\"#f7f7f7\"],[0.6,\"#e6f5d0\"],[0.7,\"#b8e186\"],[0.8,\"#7fbc41\"],[0.9,\"#4d9221\"],[1,\"#276419\"]],\"sequential\":[[0.0,\"#0d0887\"],[0.1111111111111111,\"#46039f\"],[0.2222222222222222,\"#7201a8\"],[0.3333333333333333,\"#9c179e\"],[0.4444444444444444,\"#bd3786\"],[0.5555555555555556,\"#d8576b\"],[0.6666666666666666,\"#ed7953\"],[0.7777777777777778,\"#fb9f3a\"],[0.8888888888888888,\"#fdca26\"],[1.0,\"#f0f921\"]],\"sequentialminus\":[[0.0,\"#0d0887\"],[0.1111111111111111,\"#46039f\"],[0.2222222222222222,\"#7201a8\"],[0.3333333333333333,\"#9c179e\"],[0.4444444444444444,\"#bd3786\"],[0.5555555555555556,\"#d8576b\"],[0.6666666666666666,\"#ed7953\"],[0.7777777777777778,\"#fb9f3a\"],[0.8888888888888888,\"#fdca26\"],[1.0,\"#f0f921\"]]},\"colorway\":[\"#636efa\",\"#EF553B\",\"#00cc96\",\"#ab63fa\",\"#FFA15A\",\"#19d3f3\",\"#FF6692\",\"#B6E880\",\"#FF97FF\",\"#FECB52\"],\"font\":{\"color\":\"#2a3f5f\"},\"geo\":{\"bgcolor\":\"white\",\"lakecolor\":\"white\",\"landcolor\":\"#E5ECF6\",\"showlakes\":true,\"showland\":true,\"subunitcolor\":\"white\"},\"hoverlabel\":{\"align\":\"left\"},\"hovermode\":\"closest\",\"mapbox\":{\"style\":\"light\"},\"paper_bgcolor\":\"white\",\"plot_bgcolor\":\"#E5ECF6\",\"polar\":{\"angularaxis\":{\"gridcolor\":\"white\",\"linecolor\":\"white\",\"ticks\":\"\"},\"bgcolor\":\"#E5ECF6\",\"radialaxis\":{\"gridcolor\":\"white\",\"linecolor\":\"white\",\"ticks\":\"\"}},\"scene\":{\"xaxis\":{\"backgroundcolor\":\"#E5ECF6\",\"gridcolor\":\"white\",\"gridwidth\":2,\"linecolor\":\"white\",\"showbackground\":true,\"ticks\":\"\",\"zerolinecolor\":\"white\"},\"yaxis\":{\"backgroundcolor\":\"#E5ECF6\",\"gridcolor\":\"white\",\"gridwidth\":2,\"linecolor\":\"white\",\"showbackground\":true,\"ticks\":\"\",\"zerolinecolor\":\"white\"},\"zaxis\":{\"backgroundcolor\":\"#E5ECF6\",\"gridcolor\":\"white\",\"gridwidth\":2,\"linecolor\":\"white\",\"showbackground\":true,\"ticks\":\"\",\"zerolinecolor\":\"white\"}},\"shapedefaults\":{\"line\":{\"color\":\"#2a3f5f\"}},\"ternary\":{\"aaxis\":{\"gridcolor\":\"white\",\"linecolor\":\"white\",\"ticks\":\"\"},\"baxis\":{\"gridcolor\":\"white\",\"linecolor\":\"white\",\"ticks\":\"\"},\"bgcolor\":\"#E5ECF6\",\"caxis\":{\"gridcolor\":\"white\",\"linecolor\":\"white\",\"ticks\":\"\"}},\"title\":{\"x\":0.05},\"xaxis\":{\"automargin\":true,\"gridcolor\":\"white\",\"linecolor\":\"white\",\"ticks\":\"\",\"title\":{\"standoff\":15},\"zerolinecolor\":\"white\",\"zerolinewidth\":2},\"yaxis\":{\"automargin\":true,\"gridcolor\":\"white\",\"linecolor\":\"white\",\"ticks\":\"\",\"title\":{\"standoff\":15},\"zerolinecolor\":\"white\",\"zerolinewidth\":2}}},\"legend\":{\"tracegroupgap\":0},\"title\":{\"text\":\"<b>Total Number of Restaurants</b>\"},\"height\":400,\"width\":400},                        {\"responsive\": true}                    ).then(function(){\n",
              "                            \n",
              "var gd = document.getElementById('fc5adef2-5280-42e7-832c-089c08765653');\n",
              "var x = new MutationObserver(function (mutations, observer) {{\n",
              "        var display = window.getComputedStyle(gd).display;\n",
              "        if (!display || display === 'none') {{\n",
              "            console.log([gd, 'removed!']);\n",
              "            Plotly.purge(gd);\n",
              "            observer.disconnect();\n",
              "        }}\n",
              "}});\n",
              "\n",
              "// Listen for the removal of the full notebook cells\n",
              "var notebookContainer = gd.closest('#notebook-container');\n",
              "if (notebookContainer) {{\n",
              "    x.observe(notebookContainer, {childList: true});\n",
              "}}\n",
              "\n",
              "// Listen for the clearing of the current output cell\n",
              "var outputEl = gd.closest('.output');\n",
              "if (outputEl) {{\n",
              "    x.observe(outputEl, {childList: true});\n",
              "}}\n",
              "\n",
              "                        })                };                            </script>        </div>\n",
              "</body>\n",
              "</html>"
            ]
          },
          "metadata": {}
        }
      ]
    },
    {
      "cell_type": "markdown",
      "source": [
        "`Noida`, `Delhi` and `Pune` are the cities that have more than four thousand restaurants in our food delivery dataset."
      ],
      "metadata": {
        "id": "GYAqvew0XsZc"
      }
    },
    {
      "cell_type": "code",
      "source": [
        "fig = px.scatter(df1, x=\"Votes\", y=\"Reviews\", width=640, height=400, template=template)\n",
        "fig.update_layout(title = \"<b>Votes vs Reviews</b>\")\n",
        "fig.show()"
      ],
      "metadata": {
        "colab": {
          "base_uri": "https://localhost:8080/",
          "height": 417
        },
        "id": "TDiEU_YBudWf",
        "outputId": "63f8e97b-f683-4107-f4d8-bae6007bb50f"
      },
      "execution_count": 103,
      "outputs": [
        {
          "output_type": "display_data",
          "data": {
            "text/html": [
              "<html>\n",
              "<head><meta charset=\"utf-8\" /></head>\n",
              "<body>\n",
              "    <div>            <script src=\"https://cdnjs.cloudflare.com/ajax/libs/mathjax/2.7.5/MathJax.js?config=TeX-AMS-MML_SVG\"></script><script type=\"text/javascript\">if (window.MathJax) {MathJax.Hub.Config({SVG: {font: \"STIX-Web\"}});}</script>                <script type=\"text/javascript\">window.PlotlyConfig = {MathJaxConfig: 'local'};</script>\n",
              "        <script src=\"https://cdn.plot.ly/plotly-2.8.3.min.js\"></script>                <div id=\"c80c032b-b883-42fb-9a9b-9bee3e300f9c\" class=\"plotly-graph-div\" style=\"height:400px; width:640px;\"></div>            <script type=\"text/javascript\">                                    window.PLOTLYENV=window.PLOTLYENV || {};                                    if (document.getElementById(\"c80c032b-b883-42fb-9a9b-9bee3e300f9c\")) {                    Plotly.newPlot(                        \"c80c032b-b883-42fb-9a9b-9bee3e300f9c\",                        [{\"hovertemplate\":\"Votes=%{x}<br>Reviews=%{y}<extra></extra>\",\"legendgroup\":\"\",\"marker\":{\"color\":\"#636efa\",\"symbol\":\"circle\"},\"mode\":\"markers\",\"name\":\"\",\"showlegend\":false,\"x\":[12,12,12,12,12,279,279,279,279,253,253,4,4,326,326,28,28,4,0,175,175,4,0,61,0,0,0,0,3394,3394,3394,3394,12,107,107,6,50,50,50,0,0,101,101,31,31,31,0,0,0,0,1507,1507,1507,14,542,542,542,13,13,4,4,33,689,689,689,0,421,421,421,21,21,21,21,140,19,263,263,400,203,203,203,203,11,11,125,125,0,0,0,60,60,143,391,64,64,30,30,16,0,0,0,527,527,527,12,12,12,0,0,772,772,772,415,415,415,415,415,143,143,0,0,0,4,1000,1000,1000,1000,9,9,237,112,1434,1434,1434,496,496,496,496,12,32,32,32,170,170,0,0,0,0,0,275,275,759,759,759,759,120,0,0,0,0,385,385,385,385,0,0,27,0,0,443,16,16,3975,3975,3975,3975,3975,3975,3975,14,14,538,538,538,538,538,538,0,644,644,644,644,11,11,11,0,0,0,26,646,646,646,646,646,19,0,0,0,0,10,35,35,35,0,0,0,0,0,0,0,0,486,486,486,486,0,0,0,0,0,0,0,0,0,0,0,104,31,4,295,295,295,295,12,12,12,12,46,46,46,6,64,64,295,295,140,140,140,152,152,152,0,0,112,6,91,91,91,179,179,179,179,179,179,27,27,27,22,350,350,10,10,10,10,40,40,40,40,5,5,195,195,195,198,198,198,198,614,207,569,569,4,5,5,0,0,7,49,181,66,66,0,0,0,0,0,0,0,0,110,110,110,0,0,7,7,7,4617,4617,4617,4617,4617,4617,4617,0,0,0,0,0,0,0,0,0,0,1978,1978,1978,1978,0,0,136,136,136,0,21,21,21,22,22,71,71,44,44,88,34,34,4,4,85,85,85,7,21,669,669,669,30,30,345,345,0,0,2164,2164,256,256,256,39,39,0,0,18,18,0,0,0,6,6,6,92,92,92,117,117,34,34,0,1926,1926,1926,1926,1926,1926,1926,1926,15,15,15,8,56,56,270,270,270,270,270,0,64,64,11,383,383,4,451,451,451,10,0,0,0,0,0,0,0,9,9,9,0,5,10,10,14,14,0,0,116,116,12,12,12,241,241,241,241,763,21,63,63,63,63,16,16,39,39,1326,1326,1326,0,23,23,23,58,6,6,6,0,0,0,14,14,538,538,538,7,598,598,8,25,93,93,93,308,308,308,64,64,64,57,57,6975,109,109,161,34,34,34,5,0,0,6,93,93,690,690,690,690,690,0,74,74,74,238,238,103,103,37,37,153,153,153,153,153,50,16,16,57,225,225,225,1048,0,0,0,0,323,323,93,93,6,6,16,16,16,866,866,866,866,866,157,157,5,5,0,0,0,0,124,124,124,124,9,9,161,161,161,161,12,12,2602,2602,2602,0,0,0,0,51,23,23,23,8,8,45,4,2138,2138,2138,2138,18,18,18,8,8,170,170,170,170,170,110,9,9,70,264,264,264,264,264,6,0,11,11,188,188,48,0,0,41,41,41,41,557,557,557,557,557,24,23,23,0,0,7,7,7,5,29,4,4,90,90,0,21,21,0,542,542,542,221,221,6,342,342,245,10,10,5,0,0,237,237,22,22,4,4,51,0,0,0,23,23,23,23,9,36,36,231,231,231,55,55,55,26,84,84,27,27,27,27,27,5,423,423,8,8,65,65,65,37,37,37,42,42,6,6,89,89,89,16,0,0,36,36,36,36,26,26,462,6,200,200,200,200,9,1435,17,0,0,0,6,6,418,418,418,418,418,418,418,343,343,343,343,343,343,23,29,29,30,34,34,227,227,672,672,672,28,28,22,22,22,22,172,172,348,348,348,33,7,7,124,124,124,124,161,161,0,0,0,78,15,20,20,20,8,8,8,8,12,12,12,12,14,14,640,82,82,11,11,11,11,9,9,844,844,844,844,844,14,14,14,231,231,231,397,397,8,8,8,8,217,217,217,514,514,514,514,287,287,287,8,8,8,591,591,591,591,591,591,591,592,592,592,0,0,0,36,36,51,51,1053,32,36,36,315,315,54,54,0,0,0,21,85,85,27,27,0,45,0,0,30,9,9,9,9,0,6,6,410,410,43,43,43,15,15,109,9,9,410,410,0,298,298,298,298,0,0,0,0,0,0,0,0,0,0,507,0,55,55,81,81,6,9,9,9,36,36,36,23,23,23,78,78,78,0,299,299,21,862,862,862,862,37,37,37,37,474,474,474,474,7,5,5628,5628,5628,0,9,9,109,109,9,9,0,0,0,63,63,406,406,406,406,2527,2527,18,69,88,88,88,88,0,0,0,0,1490,1490,1490,1490,1490,1490,44,44,2649,2649,2649,2649,432,432,432,432,18,18,18,18,773,773,773,773,773,773,773,68,44,44,44,53,53,53,53,0,0,0,301,301,0,0,0,263,263,4,4,4,4,58,5,27,14,14,14,14,0,0,0,0,0,27,27,0,13,13,13,0,7,7,9,9,167,167,199,199,35,0,0,848,848,848,10,10,10,29,62,62,263,0,0,0,86,86,86,86,86,1808,180,180,440,440,440,288,288,288,7,7,31,0,0,0,0,11,18,0,0,0,0,13,13,9,9,0,0,0,0,0,0,0,0,0,0,0,0,9,13,13,13,13,8,42,42,21,0,0,0,0,129,129,129,0,0,45,45,21,47,47,47,47,47,47,90,90,0,62,62,62,60,60,11,12,30,30,30,38,255,7,7,20,20,4,4,105,18,18,0,0,9,9,9,9,9,0,53,0,27,27,4,194,194,194,194,423,423,423,423,423,0,1105,1105,1105,187,187,255,255,966,966,284,284,284,99,8,8,0,0,31,31,31,31,31,8,5,5,5,5,52,52,152,152,152,0,0,4,4,98,98,32,32,32,32,32,0,73,73,4,19,19,19,9,121,121,121,121,121,5,4,4,4,39,39,7,20,20,20,88,22,22,591,591,6,6,168,168,11,11,100,100,58,58,58,58,0,0,865,865,109,109,109,109,109,9,12,12,31,77,77,77,57,57,57,57,57,57,12,318,318,318,318,318,318,54,54,70,70,295,295,295,295,19,95,95,95,0,0,27,0,290,290,3837,3837,3837,313,313,313,0,0,99,99,99,108,108,186,186,186,15,15,15,806,806,128,128,128,107,107,107,63,20,20,72,72,5,163,163,19,19,19,19,116,116,0,36,36,36,36,10,77,4,4,110,277,277,25,246,246,246,785,785,785,785,785,785,73,73,0,0,12,28,28,0,0,0,0,168,0,74,74,74,74,0,239,239,239,239,4,4,40,68,68,68,68,68,305,305,305,305,305,19,63,63,63,10,10,0,0,4,221,221,11,18,46,46,46,130,98,98,262,262,262,4,4,16,16,16,16,7,442,180,180,26,26,26,35,439,439,152,0,15,15,15,27,27,27,24,24,39,53,53,55,55,277,277,277,773,773,773,8,171,73,551,551,551,294,294,294,294,294,279,20,20,44,219,219,219,12,12,1057,1057,1057,257,257,257,257,2534,2534,2534,4438,4438,12,12,12,12,689,689,689,421,421,421,33,33,31,26,26,26,26,214,214,7,322,322,322,322,322,0,0,0,40,385,385,385,385,385,9,9,68,68,287,287,287,287,0,83,83,83,83,0,23,23,23,0,270,270,270,270,544,544,544,544,544,289,289,62,0,0,0,0,29,33,33,33,33,1268,1268,1268,512,512,206,206,1199,1199,1199,1199,3386,3386,3386,52,52,18,18,0,0,0,0,0,0,127,352,352,352,0,0,0,353,67,67,67,67,149,149,149,149,149,30,1655,1655,1655,1655,1655,1655,1655,2032,2032,135,135,135,125,125,125,125,90,90,90,0,0,0,0,0,0,0,38,0,0,610,610,610,610,11,11,11,91,91,91,91,0,1256,1256,1256,1256,50,0,0,0,0,0,50,50,121,121,669,669,669,669,2521,2521,2521,2521,177,177,11,11,11,9,9,2866,2866,2866,2866,232,232,232,232,232,82,82,82,9,4,4,4,65,65,12,93,172,172,172,55,26,26,3143,3143,3143,3143,3143,36,36,31,31,0,0,0,0,232,0,0,8,406,406,451,451,451,451,22,89,89,89,89,445,445,445,445,16,16,18,18,18,16,16,42,42,42,42,2996,2996,687,5,5,86,86,86,86,86,1408,1408,0,0,0,0,0,0,0,0,59,59,84,84,0,0,48,48,48,1446,1446,1446,493,493,20,20,139,139,139,139,1102,1102,1102,1102,1102,2896,2896,2896,2896,2896,75,75,75,501,501,501,8,81,15,0,0,58,58,23,23,23,23,23,23,23,23,13,13,13,8,8,8,6,6,92,92,92,92,92,5,5,5,5,0,0,29,29,110,110,577,577,577,24,507,507,507,927,0,0,0,27,27,27,27,65,65,81,81,222,222,222,222,112,112,112,0,87,87,87,7,7,7,6,6,18,27,27,27,15,15,15,0,85,85,85,0,70,70,45,45,0,147,147,147,147,6,6,4883,4883,100,100,0,0,0,60,60,363,0,5,5,5,0,895,895,895,76,76,155,155,157,157,7,7,7,272,272,272,272,272,7,7,79,79,28,28,611,27,27,27,127,2947,2947,51,51,51,51,51,0,5,92,92,92,282,282,282,282,282,212,212,212,212,9,9,723,723,723,26,48,48,48,21,21,50,50,50,50,0,0,243,243,243,102,102,748,748,2139,2139,2139,2139,4,4,4,4,91,91,25,25,4,4,255,255,227,227,227,61,83,83,83,83,41,41,29,29,0,67,67,439,439,0,77,77,77,7,7,7,238,8,8,63,63,8,8,64,64,64,5,60,60,44,20,20,86,86,86,55,55,55,0,0,140,140,82,82,244,26,26,26,585,585,585,585,0,36,7,7,22,43,1828,1828,1828,1828,1828,584,584,584,6,6,6,6,1054,1054,1054,1054,1054,1054,529,529,529,0,0,0,0,0,0,0,550,550,550,550,550,550,550,241,241,241,90,90,159,159,11,11,497,497,497,50,50,0,77,77,77,0,115,115,115,115,115,38,38,30,30,100,100,100,100,82,8,60,15,15,4,4,4,0,24,24,146,146,60,267,267,644,644,644,194,194,194,3218,3218,3218,3218,60,24,24,24,432,432,432,9,9,210,210,210,2707,2707,2707,2707,304,304,51,51,21,21,168,168,168,37,37,302,302,302,302,302,302,59,56,77,77,30,30,30,30,4,178,178,178,174,174,174,0,0,0,90,90,160,210,210,210,210,36,84,224,224,224,0,12,0,1482,1482,1482,1482,35,35,226,3346,3346,3346,3346,131,131,131,131,131,326,326,9,9,9,1940,1940,1940,0,0,0,29,29,29,59,59,59,59,59,6,6,6,6,6,267,267,267,267,45,45,37,37,37,1060,1060,1060,1060,1060,0,345,345,345,84,84,84,84,36,36,36,36,0,0,0,0,24,603,603,603,10,6,6,114,114,42,42,106,106,10,34,34,0,0,0,13,13,0,295,295,295,295,295,80,80,80,287,287,287,287,278,278,278,1911,1911,1911,1911,1911,1911,16,0,0,0,0,0,0,144,144,144,0,34,0,313,313,108,108,108,94,94,94,0,0,1719,1719,2211,2211,1719,1719,1719,1719,106,1387,1387,18,18,18,991,991,991,197,197,197,197,197,18,14,14,14,4,22,22,22,85,85,35,35,35,6,841,841,841,83,83,14,10,10,10,0,0,6,6,120,120,27,27,34,34,34,155,239,239,239,239,239,81,81,176,176,176,562,562,562,562,562,562,0,0,0,0,0,18,18,914,914,914,914,914,914,914,914,49,49,0,0,0,39,39,26,26,0,0,417,417,417,417,417,417,417,417,9,40,0,0,173,173,173,53,53,125,125,27,27,43,43,0,0,0,0,76,76,76,20,20,15,32,32,43,43,0,0,78,78,78,16,16,0,0,0,21,0,81,66,66,15,15,7,7,903,903,903,0,0,0,0,0,684,684,4,4,4,4,4,11,11,64,64,64,1262,1262,1262,37,580,580,580,580,60,60,60,564,564,19,19,1155,1155,261,261,4,4,60,60,49,68,68,68,68,68,315,315,315,315,315,315,0,0,0,0,0,0,0,0,0,0,0,0,60,60,33,33,0,0,10,10,0,0,0,0,450,450,450,19,12,12,12,79,42,42,0,0,153,153,153,343,343,343,15,1473,1473,1473,1473,1473,76,76,17,17,17,47,47,47,7,7,0,0,510,510,8,1291,1291,1291,1291,1291,80,80,80,238,238,17,17,4903,4903,4903,4903,49,28,7,12,716,716,17,0,0,186,12,12,59,11,44,66,179,179,179,206,206,206,206,206,864,864,864,864,864,36,0,0,0,0,206,206,206,206,206,5,5,5,7,7,217,217,217,196,196,835,835,835,835,187,187,31,31,66,345,345,345,7,7,5,83,7,7,7,0,0,0,8,73,73,551,551,551,551,129,129,129,0,0,277,277,277,0,0,0,133,27,9,9,9,269,269,269,305,242,242,242,356,356,356,356,356,182,182,14,14,14,0,0,175,175,175,7,7,7,7,7,133,491,491,491,491,9,324,324,0,23,23,742,742,742,4,37,37,176,176,92,92,52,52,52,0,0,0,112,112,276,276,276,276,1515,1515,1515,1515,11,58,12,12,617,617,617,617,617,69,69,136,136,21,21,107,42,42,42,299,299,44,99,99,99,99,49,49,49,49,49,0,168,168,0,0,0,177,106,106,106,77,77,80,172,172,87,87,28,28,28,28,4,88,88,0,0,127,0,71,71,71,136,136,136,4,1112,1112,66,66,0,280,280,280,0,0,0,0,0,0,0,0,205,0,745,2257,2257,2257,2257,2257,2257,95,44,37,37,37,76,76,76,0,2133,2133,2133,11,11,570,570,17,17,17,17,17,17,21,21,25,25,25,125,125,49,49,49,71,71,75,75,75,0,0,249,249,249,249,260,260,31,31,31,0,0,38,38,38,38,40,40,53,53,26,26,0,0,100,100,100,0,71,13,0,0,0,11,523,523,523,71,71,71,0,121,121,0,277,277,277,277,277,277,0,0,7,0,0,4,117,117,117,117,332,332,332,332,58,58,58,58,58,58,58,58,25,38,38,38,16,13,13,7,0,0,0,0,0,0,0,0,0,0,794,794,6,6,6,6,70,70,8,8,8,505,505,505,80,80,13,13,147,147,147,26,26,32,32,129,129,129,75,75,2058,2058,2058,2058,104,104,14,14,172,172,0,0,390,390,0,0,552,9,9,120,120,120,120,120,120,14,1687,1687,1687,1687,0,839,839,0,113,113,113,113,1138,1138,1138,100,0,0,355,39,0,0,0,146,146,8,8,0,17,17,56,56,56,21,289,289,289,34,34,34,34,0,0,12,427,20,20,791,392,1980,1980,1980,123,123,123,123,276,276,276,0,130,130,78,78,0,216,216,216,216,216,216,103,103,103,16,108,108,108,181,17,17,17,1112,1112,1112,1112,0,0,0,111,111,111,111,111,62,62,38,0,0,3519,3519,3519,0,0,0,4,10,10,0,78,78,7,6,0,0,0,0,3315,3315,3315,110,18,18,686,686,686,686,0,0,0,0,0,0,24,24,22,22,7,79,8,8,8,36,36,51,0,29,29,29,49,49,35,35,35,3289,3289,3289,3289,3289,3289,3289,0,0,13,13,13,434,434,10,10,0,6,6,0,95,95,0,0,134,134,37,37,564,564,0,0,0,0,0,0,0,0,431,431,0,0,0,0,0,292,292,292,0,0,0,286,286,286,124,124,7,7,7,7,0,0,6,0,0,366,366,366,366,366,75,75,104,104,104,1563,1563,23,23,551,551,0,142,0,0,0,0,67,67,67,431,431,0,0,0,0,0,254,254,254,0,19,39,39,39,0,0,0,0,0,0,0,0,0,122,122,122,66,66,0,0,9,9,511,511,511,27,27,32,67,254,254,254,254,91,91,91,318,318,318,318,6,6,6,0,0,0,35,35,35,35,35,604,604,604,604,140,140,140,140,14,14,76,76,76,76,76,61,38,38,38,1952,1952,83,138,138,456,722,722,722,43,43,101,101,101,0,0,0,0,0,0,269,269,269,269,0,78,78,78,10,10,22,22,0,0,0,0,40,40,1260,1260,1260,1260,53,53,25,0,0,0,17,0,0,72,72,0,0,254,254,18,18,18,79,79,79,0,0,0,0,0,6,6,6,6,6,6,6,6,204,204,204,97,33,33,33,33,33,164,164,66,66,66,66,26,222,222,222,222,222,222,222,222,57,123,123,0,0,0,0,0,26,26,174,174,174,62,62,62,0,1265,1265,282,0,0,135,135,135,39,39,11,11,11,11,7,7,7,5,17,17,12,0,0,0,0,164,164,1037,1037,1037,1037,1037,6,6,132,132,132,132,0,7,0,0,0,0,66,66,66,67,67,0,12,12,974,974,9,50,50,0,0,36,20,20,20,45,45,0,0,7,7,7,7,44,44,999,999,5,713,713,713,0,0,0,0,185,108,108,108,568,568,568,568,0,436,436,0,0,0,0,0,16,16,21,0,0,10,32,17,17,17,18,18,167,167,167,11,11,1389,1389,1389,1389,0,0,0,0,0,0,0,343,343,343,343,161,161,161,51,51,19,19,19,408,408,254,254,254,16,16,0,4,0,0,31,31,23,23,38,38,146,146,146,7,7,0,0,0,0,0,0,40,14,14,12,12,12,28,608,608,608,608,608,608,608,608,4,78,4,4,0,0,0,0,148,0,0,19,19,19,19,19,23,23,14,14,14,1265,1265,35,35,35,15,15,208,208,208,208,26,26,9,9,9,125,125,103,103,330,330,330,444,444,134,134,0,347,347,61,61,61,216,0,0,0,0,0,0,0,182,0,0,0,0,0,19,19,116,116,28,205,5,5,5,5,0,0,112,112,112,22,22,22,26,67,735,735,735,460,460,460,19,0,0,0,0,0,72,18,18,18,18,4,4,31,31,50,50,50,4,4,27,27,0,0,14,41,41,41,0,34,34,0,0,127,127,127,0,0,0,0,0,79,0,101,101,0,0,87,87,51,51,51,51,51,60,297,297,297,308,308,8,8,8,26,26,8,8,0,0,0,36,36,36,110,110,157,157,269,269,409,409,409,409,70,70,70,313,313,313,0,66,66,66,66,237,237,0,0,5,5,8,8,0,0,0,0,0,0,0,53,0,0,0,0,0,390,26,24,24,686,686,686,686,341,341,0,34,34,0,0,601,601,601,424,424,0,0,8,8,130,36,75,75,75,61,61,61,93,93,93,156,156,156,0,0,0,109,109,109,12,12,0,0,344,344,0,0,4,4,0,1327,1327,1327,1327,183,183,183,183,336,336,26,26,200,200,200,17,17,17,117,106,106,106,644,644,644,644,90,90,150,150,150,150,6,0,0,91,91,91,22,365,365,365,13,34,34,152,152,152,20,20,20,173,173,0,0,0,49,0,0,161,46,46,46,11,11,15,15,10,77,77,0,153,21,21,21,31,9,9,67,76,76,0,2664,2664,2664,2664,0,66,66,161,161,33,33,56,56,178,178,0,8,8,8,17,17,6,6,48,48,48,48,48,48,1109,1109,1109,1109,115,19,0,0,0,857,857,857,238,238,238,32,0,775,775,18,118,118,118,113,113,140,140,360,360,360,34,34,10,255,255,255,0,0,41,62,62,50,50,0,1298,1298,1298,1298,5,5,5,152,152,152,13,13,13,363,363,363,242,242,242,181,181,181,181,0,23,23,133,133,133,6,6,0,18,18,18,0,0,19,267,267,36,36,71,71,519,519,519,814,814,15,15,15,0,0,280,280,280,0,0,22,63,96,96,455,455,8,7,846,846,846,846,846,1322,1322,1322,1322,1322,294,294,31,31,16,13,21,21,16,16,28,28,252,252,252,252,0,0,0,0,2868,2868,2868,71,71,71,71,9,9,0,0,20,66,66,142,142,142,260,260,715,715,715,715,1731,1731,1731,110,110,184,305,305,63,63,0,19,90,0,0,253,253,4,11,11,0,0,0,0,32,32,32,4,4,297,297,297,803,803,803,22,22,22,0,0,9,9,140,302,302,302,488,11,387,387,387,387,0,0,0,0,0,0,0,22,1270,1270,1270,1270,1270,9,9,0,207,207,389,389,389,43,32,793,793,793,793,793,793,11,22,22,22,75,75,75,130,130,479,479,251,6,89,89,89,489,489,489,489,2080,51,51,51,20,20,0,7,8,8,4,86,10,10,10,740,740,740,713,713,713,713,84,84,76,76,76,76,1105,1105,1105,52,4,10,0,0,13,13,109,109,109,221,221,221,52,304,978,978,978,142,142,142,142,142,43,43,43,43,0,373,373,95,95,16,0,30,30,36,4,4,12,229,229,44,44,6,6,943,943,943,943,269,269,269,11,11,110,107,416,182,182,72,72,72,630,630,438,438,438,73,73,73,73,48,0,0,0,0,0,0,0,0,61,61,61,25,25,25,25,165,809,809,91,91,173,173,8,30,30,275,275,275,0,0,0,0,0,0,441,441,441,5,67,67,67,67,138,0,0,8,9,55,0,0,0,4207,4207,4207,4207,4207,0,62,940,940,940,940,940,426,426,426,0,0,0,0,0,0,1415,1415,7,7,25,25,439,439,0,0,0,0,47,0,0,0,0,902,902,402,402,189,189,65,65,65,13,0,0,0,0,25,25,28,28,913,913,0,25,25,41,41,513,513,513,24,0,0,0,0,0,1254,1254,1254,1254,1254,0,33,33,0,0,0,0,0,0,0,58,58,318,318,49,49,0,0,21,21,185,94,504,504,31,31,177,177,177,177,13,13,108,247,357,34,34,0,0,0,0,0,0,373,373,373,373,373,0,0,0,67,67,15,1240,1240,0,42,42,125,125,937,937,937,937,9,138,1448,1448,1448,1448,1448,1448,1448,1448,10,446,446,446,37,37,37,38,57,57,7,7,72,72,72,0,81,81,161,68,540,19,19,19,15,160,160,0,0,0,0,0,344,243,0,0,0,7,174,174,174,174,4,87,87,0,95,0,0,0,127,127,127,127,1990,1990,1990,1990,1990,1990,151,234,234,234,234,0,0,57,57,0,106,106,106,106,397,397,302,302,302,302,302,0,0,4,4,4,245,245,0,115,164,164,164,160,151,151,9,9,40,40,0,0,0,798,798,798,798,0,0,0,0,0,65,293,6,6,26,26,173,173,10,10,366,366,366,366,131,131,10,10,10,0,0,316,316,316,316,316,4,0,0,594,22,22,1594,1594,386,386,215,215,215,473,14,14,14,215,215,8,8,8,9,9,381,381,381,910,910,910,910,17,345,83,83,81,4,0,0,0,253,253,437,437,437,0,5,5,853,853,192,192,6,64,0,0,6,6,6,6,6,889,889,889,5,0,81,132,575,575,77,77,77,0,154,154,154,154,221,221,221,73,0,0,0,293,293,298,298,335,335,60,66,254,254,0,563,563,0,0,0,0,89,89,110,4,4,0,0,250,250,712,712,712,100,100,321,321,321,321,321,0,0,0,0,0,126,17,48,0,28,1739,1739,1739,61,0,150,150,150,150,150,150,150,4,4,4,4,0,13,13,100,100,62,62,0,0,11,11,323,323,323,0,0,131,131,248,248,0,0,16,16,16,382,382,382,382,382,37,37,37,284,284,284,284,284,284,321,321,321,152,152,152,58,0,0,0,160,4,30,30,92,92,162,39,39,31,45,45,45,0,8,8,0,0,11,99,99,788,788,340,166,166,166,772,772,772,772,87,87,188,188,188,48,16,16,16,16,4,4,4,30,30,30,30,71,71,71,10,10,70,70,0,0,53,53,207,207,10,94,94,94,6,6,0,0,260,260,260,26,26,43,43,43,43,43,15,0,76,76,76,76,35,6,6,5,5,11,35,35,42,42,0,0,374,374,15,37,37,37,37,37,10,12,287,287,287,44,0,0,0,16,16,16,0,23,0,11,11,11,73,73,27,27,285,285,285,972,972,972,972,11,18,725,725,725,725,260,260,260,0,233,53,53,53,178,178,237,237,104,104,13,0,106,106,34,0,6,6,6,6,6,215,215,215,215,25,6,399,399,20,43,43,90,90,90,90,551,551,551,551,9,9,229,229,229,105,105,0,0,212,212,212,212,212,808,808,808,808,0,11,12,12,12,9,9,148,15,4,4,89,0,28,0,0,52,52,466,466,100,100,100,7,28,28,219,185,278,497,6,6,6,148,148,148,51,117,151,0,0,0,668,668,31,31,31,125,125,125,250,250,604,604,604,604,604,349,349,319,319,0,1032,1032,1032,2936,2936,2936,2936,2936,2936,0,0,0,0,0,0,280,280,96,96,160,41,56,56,166,166,166,0,0,11,11,68,68,68,2261,2261,2261,0,170,170,170,170,10,10,10,0,43,43,82,82,51,54,54,66,66,66,113,27,27,0,0,90,90,133,133,220,331,331,331,23,23,141,23,16,16,191,191,391,391,391,391,391,391,391,157,157,104,104,203,203,0,0,0,0,582,101,101,280,280,280,280,280,29,29,41,23,9,0,62,598,598,598,109,52,52,28,0,97,166,2214,2214,2214,2214,230,230,11,11,0,0,24,422,22,22,22,73,73,73,4,4,4,541,541,541,8,8,8,313,355,355,51,51,51,287,287,287,4,4,83,83,83,8,80,80,38,38,1693,1693,1693,1693,391,391,391,391,391,391,12,12,1665,1665,1665,696,696,696,0,0,90,90,3248,3248,3248,3248,3248,3248,3248,3248,186,186,186,186,186,6,6,0,0,0,1392,1392,1392,1392,1392,242,59,59,13,656,656,18,0,0,425,425,5,5,5,5,5,4,4,341,341,341,341,99,99,99,2221,2221,2221,2221,50,50,9,9,9,296,296,296,296,296,46,46,46,119,119,829,829,829,829,28,28,28,0,92,92,92,14,14,195,195,195,195,195,2133,523,523,61,61,61,0,0,0,42,0,0,14,14,14,14,14,498,498,498,498,498,498,498,498,4,4,0,0,98,98,6,6,4814,4814,4814,4814,4814,4814,4814,479,479,755,755,755,0,0,195,195,195,1372,1372,1372,1372,441,441,16,16,16,16,242,242,242,876,876,876,35,1549,1549,1549,1549,51,51,4,4,4,4,19,828,828,828,828,107,107,107,107,107,4,33,33,33,74,74,291,291,300,300,300,300,1627,1627,1627,1627,1627,1627,0,0,0,0,0,0,0,0,64,34,10,343,343,343,431,431,431,431,431,965,965,965,965,47,47,47,87,87,87,46,46,1114,1114,1114,1114,1114,0,37,37,33,33,33,0,21,21,1552,1552,1552,1552,1033,1033,1033,46,46,46,46,21,21,21,2687,2687,2687,52,52,9,9,92,92,29,29,15,15,2896,2896,2896,2896,82,82,82,82,332,332,332,117,117,554,554,554,554,554,554,554,554,75,75,75,20,25,25,297,297,297,340,340,340,144,144,84,64,64,0,0,12,12,12,0,0,34,483,483,483,483,22,22,22,22,33,0,4,647,647,647,739,739,39,15,120,120,0,61,15,15,557,557,36,36,0,0,0,0,0,26,26,26,26,80,226,226,0,120,120,120,153,153,1522,0,0,199,199,199,151,151,151,10,10,0,331,331,0,0,0,0,0,6,5,1666,1666,1666,0,0,0,0,0,0,324,324,9,9,9,509,509,509,13,13,13,33,33,13,13,13,375,375,44,44,108,108,108,424,424,424,424,424,424,5,69,0,0,191,191,191,191,5,5,5,88,88,88,812,812,812,6,1918,1918,1918,1918,2377,2377,2377,13,13,133,133,47,47,47,0,0,0,0,734,734,734,101,78,78,21,21,35,35,35,35,0,0,36,36,81,81,81,74,74,74,74,1710,1710,1710,1710,47,0,391,391,391,11,108,108,108,0,0,0,0,0,738,738,738,392,392,392,392,0,417,417,417,71,0,21,126,126,16,16,16,16,16,16,237,237,0,1090,1090,1090,87,87,10,10,10,10,16,16,16,4691,4691,4691,2618,2618,2618,2618,8,8,8,61,0,0,0,0,0,0,0,166,166,166,166,166,14,60,60,26,26,26,3727,3727,3727,3727,3727,462,462,5,5,5,238,320,320,320,320,320,320,897,897,897,14,14,14,14,63,920,920,920,920,220,220,220,162,32,32,33,33,33,33,10,10,10,699,699,699,699,0,0,0,0,245,245,245,245,245,245,245,51,51,51,51,61,61,19,19,19,19,19,186,186,85,85,85,85,85,114,330,330,330,423,423,423,34,5,5,1146,1146,47,18,8,13,13,13,13,508,508,95,95,473,473,473,24,134,0,0,20,20,5,5,21,0,2709,2709,2709,48,48,4,4,127,127,127,60,60,40,40,40,40,327,327,327,0,0,0,30,30,145,145,652,652,652,271,271,271,271,917,917,917,917,78,78,6,0,0,0,954,954,954,954,954,954,384,384,311,311,311,311,311,311,311,14,14,14,48,48,48,48,48,438,438,438,438,95,95,95,15,15,73,179,179,0,0,0,0,0,19,19,0,0,0,0,74,74,216,17,53,53,53,94,94,190,190,41,41,41,1502,1502,1502,1502,1502,35,35,35,131,131,0,15,23,7,7,7,62,62,35,35,37,37,37,0,0,0,0,0,297,297,297,25,25,25,25,374,374,0,575,575,126,0,0,286,286,286,286,0,0,177,177,323,323,323,250,250,630,630,6,6,298,298,298,298,298,298,229,229,229,8,8,8,110,110,12,897,897,897,897,41,41,0,910,910,910,910,397,397,90,90,90,90,8,8,88,88,88,49,49,133,133,4,442,442,20,30,30,11,22,0,0,23,23,18,18,207,207,215,215,215,12,12,12,40,40,110,110,138,129,129,161,134,134,33,33,100,100,16,16,16,937,937,937,937,391,391,391,391,391,391,391,0,43,43,143,143,12,9,9,9,266,0,0,0,0,0,0,913,913,81,89,166,0,0,52,52,52,67,67,0,0,123,123,0,0,143,143,0,0,90,6,0,5,26,26,37,37,37,886,886,886,148,148,148,0,0,0,126,126,126,15,636,9,9,798,798,798,798,166,166,166,0,0,0,0,284,284,284,284,284,284,11,11,0,0,0,0,0,1626,1626,1626,1626,14,14,14,178,178,10,10,10,52,27,27,27,27,221,221,221,17,17,4,0,0,288,288,6,160,0,0,0,148,285,285,285,22,22,313,313,313,35,808,808,808,808,373,373,373,373,373,35,0,95,95,173,173,229,229,48,254,254,151,13,13,19,19,19,10,0,0,0,5,5,12,12,8,0,0,73,594,113,61,61,0,0,0,0,6,6,260,260,260,4,4,92,92,92,92,92,0,0,0,75,75,75,84,84,185,8,8,32,131,131,6,6,6,6,6,29,29,382,382,382,382,382,0,0,8,8,438,438,438,0,0,335,335,67,67,0,63,63,7,42,42,293,65,11,1448,1448,1448,1448,1448,1448,1448,1448,27,27,233,15,15,4,13,25,25,0,0,189,189,0,0,0,51,51,51,373,373,389,389,389,0,0,0,0,55,5,5,20,20,783,783,783,783,783,340,0,206,345,105,105,476,476,476,476,110,4,0,0,0,0,0,42,42,90,90,32,151,0,0,0,11,11,0,497,121,121,100,100,100,0,0,140,182,182,32,32,32,39,39,0,0,0,0,164,164,164,1270,1270,1270,1270,1270,541,541,73,73,25,2936,2936,2936,2936,2936,2936,28,0,0,321,321,321,36,0,191,191,5,5,0,0,0,36,9,95,9,9,150,150,150,150,150,150,150,0,0,127,127,127,127,7,66,0,0,5,5,220,13,13,13,10,10,10,30,30,131,131,0,0,66,66,66,8,243,306,306,306,302,302,302,1240,1240,1990,1990,1990,1990,1990,1990,11,11,0,0,0,0,13,23,1731,1731,1731,11,11,972,972,972,972,63,0,0,41,4,4,11,83,83,83,12,0,0,125,125,125,228,228,228,9,9,30,30,58,58,196,196,196,196,196,25,25,25,13,13,7,7,16,0,17,280,280,0,551,551,551,551,10,10,151,151,20,17,34,34,83,83,102,102,2261,2261,2261,0,0,940,940,940,940,940,0,18,0,33,33,0,155,155,303,303,125,125,24,0,0,0,0,29,29,31,31,31,51,6,6,2862,2862,2862,219,130,130,53,53,16,16,81,81,943,943,943,943,331,331,331,84,25,25,21,21,15,89,89,43,162,87,87,73,73,73,53,53,53,58,39,253,253,23,541,541,541,248,248,159,123,123,0,0,0,0,0,0,22,43,72,72,72,1032,1032,1032,0,0,13,13,106,106,106,106,20,20,0,0,0,0,0,0,0,0,92,62,22,245,245,803,803,803,5,38,38,208,208,1597,1597,1597,0,94,94,94,160,386,386,122,122,122,19,19,17,17,73,34,76,76,76,76,37,37,37,793,793,793,793,793,793,437,437,437,713,713,713,713,47,318,318,6,44,44,17,0,23,23,0,109,109,109,63,234,234,234,234,154,154,154,154,313,11,11,70,70,269,269,269,27,27,4,4,349,349,7,0,1739,1739,1739,22,22,22,117,9,9,441,441,441,135,31,31,31,889,889,889,0,0,0,0,0,0,7,0,90,90,4,4,12,12,337,250,250,51,0,30,30,157,157,48,416,0,0,42,42,87,87,48,159,0,0,0,148,10,10,0,5,260,260,260,287,287,287,0,0,82,82,16,6,6,64,0,0,0,0,22,22,22,212,212,212,212,212,182,182,24,24,66,66,66,1415,1415,0,0,0,0,0,100,100,0,112,252,252,4,4,19,19,10,399,399,402,402,109,230,230,0,381,381,381,6,6,0,0,0,31,31,31,12,12,12,101,101,234,234,234,0,173,173,0,0,10,563,563,0,0,546,546,0,0,0,0,1545,1545,35,35,12,537,537,537,13,13,57,0,0,353,353,105,105,381,381,381,62,62,54,54,17,17,232,232,232,132,132,132,132,0,0,0,7,7,0,0,0,0,1332,1332,1332,1332,1332,1094,1094,7,7,0,0,29,29,29,7,7,7,7,98,272,272,272,77,77,77,1801,1801,1801,1801,1801,1801,4606,4606,4606,0,0,133,133,7,113,113,113,113,113,359,359,359,359,359,359,359,0,0,0,0,0,0,0,304,304,304,52,52,1177,1177,1177,1177,1177,1177,50,50,50,1046,1046,1046,1046,17,17,17,0,0,10,10,10,10,0,59,59,176,176,176,144,144,276,276,276,208,11,0,0,0,170,170,170,655,655,8,8,8,925,925,925,925,925,925,925,101,101,26,26,26,26,26,190,190,190,158,158,158,94,94,273,273,273,273,2090,2090,2090,34,34,116,724,724,177,150,150,150,150,589,589,227,0,7,7,7,7,0,0,226,226,226,226,410,410,0,0,23,20,19,19,19,224,224,224,453,453,453,15,15,15,15,15,9,9,9,12,12,0,1028,1028,1028,0,194,194,194,61,303,303,0,0,3083,3083,3083,1185,1185,248,248,248,248,533,533,533,533,31,31,275,275,1124,1124,1124,29,11,11,27,57,172,172,376,182,274,274,274,1512,0,0,0,733,733,119,119,0,9,9,9,9,287,425,225,225,260,130,106,5,5,5,31,31,31,31,564,564,7,108,108,15,15,16,16,16,16,0,0,13,13,13,624,31,31,31,262,262,262,262,398,398,561,561,147,147,147,210,210,210,8,0,0,0,36,36,37,37,38,38,36,36,36,0,0,929,929,929,15,15,139,139,139,139,44,22,18,4335,4335,76,76,77,77,77,60,15,15,15,426,426,426,426,426,53,53,47,47,47,44,1210,1210,1210,1210,16,16,9,9,55,55,100,100,100,182,182,182,110,110,4,4,4,4,24,24,6,6,269,269,269,269,269,269,269,2521,2521,2521,2521,33,33,33,33,89,89,89,89,6,6,4,27,27,0,294,294,294,294,294,14,14,29,29,30,30,212,212,212,212,35,6,6,0,7,7,94,94,94,94,94,94,26,26,26,0,0,90,90,406,406,0,406,406,84,20,20,363,172,172,172,109,109,4,4,15,15,15,15,12,241,241,241,1102,1102,1102,1102,1102,16,16,16,8,8,41,41,128,128,128,15,15,0,0,135,135,219,219,219,28,28,11,11,67,67,67,60,60,14,14,14,0,0,42,42,6,6,6,6,0,0,17,17,115,115,115,115,115,27,27,27,50,50,131,131,131,131,131,206,206,12,12,12,41,41,41,179,24,46,46,37,37,37,190,190,5,5,38,38,4,4,4,87,87,87,21,21,85,85,85,57,57,57,57,4,4,1389,5,7,7,7,65,65,24,24,107,107,107,400,400,20,67,67,67,67,18,11,56,0,0,29,29,9,9,9,304,304,197,197,197,197,197,0,214,214,50,0,10,0,109,109,0,9,9,0,0,113,113,113,5,86,6,6,6,551,551,551,37,37,8,267,267,267,267,0,0,0,28,28,19,19,19,19,159,159,84,84,84,84,0,0,603,603,603,1387,1387,1387,33,33,33,33,12,64,64,64,6,6,22,22,3353,3353,3353,3353,3353,73,73,36,36,36,36,90,90,90,550,550,550,550,550,550,550,19,762,762,762,304,304,304,50,277,277,277,79,79,178,178,178,226,6,6,2534,2534,2534,5,5,5,238,149,149,149,149,0,0,0,0,0,0,60,31,74,74,74,74,60,60,194,194,194,9,8,8,8,172,172,172,172,0,0,22,106,149,149,149,149,149,0,437,52,52,34,34,92,92,92,92,92,16,16,16,16,16,7,7,7,7,7,112,112,112,26,26,10,35,35,11,11,74,74,74,74,116,116,24,0,442,862,862,29,29,29,255,255,100,100,0,0,155,155,20,20,0,0,0,0,0,100,100,100,100,0,0,0,0,0,256,256,256,81,81,29,41,9,21,21,0,0,0,232,232,232,232,232,6,6,267,267,26,26,26,22,22,0,14,36,36,36,36,577,577,577,18,18,18,64,64,64,55,23,23,23,67,67,0,0,0,53,53,53,53,51,51,85,85,4,4,4,27,27,27,0,270,270,270,270,11,11,11,0,6,6,36,50,50,0,40,40,40,77,77,77,12,12,353,14,127,0,0,4,4,0,0,0,108,108,98,98,246,246,246,102,102,243,243,243,30,30,30,45,45,439,439,168,168,168,956,1408,1408,255,255,278,278,278,335,0,9,9,174,174,210,210,210,210,26,26,26,26,0,125,125,125,125,189,189,189,189,50,50,50,50,60,60,733,733,733,9,9,9,9,9,9,9,75,75,75,75,75,84,84,0,0,75,75,75,0,0,30,36,36,12,18,723,723,723,91,91,206,86,86,86,63,63,63,0,0,23,348,348,348,12,12,12,584,9,9,0,0,0,87,0,0,0,0,707,707,160,160,0,0,0,31,986,986,986,73,73,337,81,81,0,170,170,170,170,6,94,1762,1762,1762,1762,27,27,15,2831,2831,2831,2831,2831,11,11,54,54,54,11,11,39,39,20,20,20,0,91,0,0,0,35,35,35,71,71,14,14,14,34,34,15,15,198,198,198,198,40,40,40,20,20,22,12,12,12,26,26,26,20,20,0,167,167,167,167,64,64,492,492,87,87,70,656,656,656,86,86,80,80,27,40,40,39,20,20,57,246,246,246,0,0,14,14,14,90,90,7,0,0,0,0,145,145,98,98,5,5,794,794,794,128,200,200,200,200,9,109,109,109,109,109,410,410,22,16,0,0,3837,3837,3837,654,654,654,654,174,174,0,0,406,406,406,406,197,197,197,197,1240,1240,5,5,0,48,48,0,0,0,0,220,220,61,61,61,273,273,63,1357,1357,18,18,18,18,35,35,35,114,114,115,115,115,115,115,13,13,179,179,179,179,179,179,7,7,548,548,548,548,208,208,763,0,109,109,733,73,73,3142,3142,3142,3142,65,65,0,0,0,0,0,0,14,14,776,776,776,97,97,31,31,6,205,205,205,32,32,31,31,0,0,0,21,21,25,6,89,19,107,107,0,0,336,336,9,13,13,13,604,604,604,604,604,604,604,604,10,10,27,154,154,154,144,144,144,16,16,71,71,71,359,359,359,200,11,95,95,95,411,411,0,2879,2879,6,6,270,270,12,49,96,96,96,96,96,96,96,0,0,788,788,5,112,190,190,569,569,70,70,16,256,256,8,8,8,0,73,155,155,155,155,155,155,155,117,117,565,565,565,565,227,227,12,1435,0,297,297,297,10,198,198,198,198,198,229,672,672,672,114,114,92,92,92,92,28,28,90,90,7,29,29,112,1000,1000,1000,1000,162,162,162,257,257,0,0,31,31,18,18,18,4,1208,1208,1208,1208,196,196,2244,318,318,318,318,318,318,316,316,316,35,93,93,144,144,440,440,440,1973,1973,1973,1973,307,307,307,0,0,0,564,564,464,464,464,464,464,464,464,464,93,93,93,57,57,57,17,36,36,8,8,8,8,64,0,0,0,0,0,127,127,127,0,0,124,124,124,124,483,1105,1105,1105,135,77,77,77,77,418,418,418,418,418,418,418,36,36,1485,1485,1485,1485,1485,1485,1485,2266,2266,2266,2266,2266,5,5,5,2649,2649,2649,2649,1926,1926,1926,1926,1926,1926,1926,1926,799,799,799,799,799,592,592,592,9,9,9,9,9,76,76,33,70,26,37,37,0,0,69,69,0,0,5,298,298,298,62,62,231,231,231,343,343,343,343,343,343,197,197,16,16,16,16,0,123,123,123,123,123,123,123,38,263,263,263,263,27,27,27,67,67,67,2527,2527,214,16,2660,2660,2660,2660,2660,457,457,45,252,252,252,252,591,591,591,591,591,591,591,848,848,848,105,90,90,5,5,527,527,527,61,61,61,42,6,0,45,203,203,203,203,2138,2138,2138,2138,34,34,773,773,773,773,773,17,0,0,0,0,0,114,114,114,114,159,18,6,6,6,75,13,13,43,43,43,7,0,0,26,25,25,25,25,69,0,0,0,22,22,1556,1556,1556,38,38,373,373,373,373,1155,1155,1155,1155,141,141,141,141,8,8,8,8,0,0,0,254,254,124,124,124,0,0,0,112,112,0,0,0,0,0,0,0,47,47,0,18,56,56,53,53,53,53,0,0,0,16,67,67,10,10,0,0,0,85,85,85,85,0,0,7,7,10,10,10,10,10,359,359,359,359,359,359,359,0,8,8,30,0,0,0,0,0,0,0,18,18,18,29,29,12,12,12,0,0,0,0,0,39,68,68,68,68,68,68,0,5,5,136,6,6,6,6,3270,3270,3270,3270,3270,0,0,66,66,66,0,0,0,0,343,343,92,92,92,31,31,31,31,0,0,8,8,23,23,20,20,20,0,116,116,116,116,116,291,291,291,291,0,320,320,429,429,0,67,67,67,67,5,5,138,138,110,110,189,189,189,189,189,22,22,45,45,0,0,69,69,69,0,0,9,13,24,150,150,12,143,143,7,124,706,706,706,706,706,0,6,6,66,66,0,0,0,11,47,47,47,112,112,112,112,112,112,112,0,0,479,479,479,479,67,67,67,67,129,129,258,258,29,29,29,0,76,76,0,0,0,0,0,6,6,11,11,11,11,92,92,92,0,0,0,334,334,214,214,50,50,50,50,50,318,318,318,49,49,40,40,119,119,1398,1398,1398,1398,14,14,221,17,17,17,0,0,394,7,7,7,416,416,5,13,13,7,7,22,22,15,15,47,47,72,72,46,21,21,21,37,37,0,0,31,174,0,0,0,0,6,6,6,27,27,13,13,20,52,52,52,332,332,332,10,10,103,103,27,27,27,27,27,27,27,27,0,0,19,4,0,0,2465,2465,196,196,196,196,16,16,22,22,22,14,167,167,167,7,159,159,159,18,18,18,18,22,22,211,211,211,211,31,31,0,14,5,1094,27,27,27,35,35,35,20,0,149,149,0,25,45,54,54,54,47,365,365,365,0,0,8,96,96,0,0,0,164,164,164,0,0,0,0,112,112,45,45,6,217,1298,1298,1298,1298,123,123,15,15,15,15,0,0,82,82,39,39,39,0,0,0,0,0,15,49,49,30,23,23,13,13,13,0,0,0,0,52,182,182,0,0,15,10,10,10,51,0,11,11,11,347,347,0,45,45,45,14,14,20,20,8,8,8,121,241,241,16,6,85,85,85,85,0,18,18,50,50,50,51,51,53,86,86,86,24,31,31,0,0,4,33,33,33,75,75,75,0,0,0,0,913,913,913,5,11,11,53,53,53,10,10,10,42,42,0,4,4,0,171,171,171,0,0,0,77,77,334,334,334,0,0,0,0,0,0,17,17,100,36,11,11,162,14,12,12,41,112,112,112,4,1367,1367,1367,30,30,30,17,19,19,19,163,163,0,0,0,0,895,895,895,901,901,901,5,5,39,39,54,54,54,49,49,49,49,562,562,562,562,9,61,4,55,55,55,102,102,91,91,91,56,56,151,151,504,504,0,0,35,35,35,20,20,12,12,112,5,5,537,537,16,16,97,97,97,97,87,87,87,143,143,143,4,120,0,0,0,153,153,153,18,18,0,38,64,64,64,0,0,152,152,152,6,6,6,0,0,0,97,97,97,97,97,0,0,0,213,213,213,213,213,44,44,153,153,30,30,63,0,121,121,121,121,0,0,0,0,0,0,53,53,53,53,12,12,12,22,22,22,22,22,191,191,191,0,0,12,12,0,0,193,193,193,6,0,0,0,105,105,6,6,53,225,52,52,426,426,426,1033,1033,1033,1033,1033,25,25,25,8,9,9,9,9,9,1949,1949,1949,1949,1949,80,80,6,6,59,59,59,0,0,184,184,76,76,133,10,10,10,171,171,171,25,25,14,14,15,8,376,376,22,22,22,22,0,0,36,28,28,30,30,30,0,402,402,402,37,37,0,0,127,127,0,0,24,58,58,58,58,1122,1122,1122,1122,1122,69,69,69,69,69,4,4,4,13,13,54,54,338,338,52,52,52,52,12,12,12,179,179,30,0,20,20,156,156,20,20,4,4,4,78,78,43,43,43,11,11,123,123,578,578,578,578,578,578,578,578,332,332,332,332,116,12,12,12,12,12,12,12,12,0,0,4,51,51,580,580,580,580,580,580,580,580,72,146,146,146,146,146,142,142,211,211,14,14,154,154,154,160,160,160,7,7,7,8,8,8,20,100,100,61,21,21,0,10,10,0,516,516,516,516,5,0,0,153,4,467,467,467,0,0,0,9,9,67,46,28,5,5,34,34,34,47,47,47,47,0,0,50,50,2153,2153,23,23,23,23,0,0,0,7,7,7,7,568,568,568,25,145,145,0,12,12,67,4,83,83,83,0,0,29,46,46,6,6,6,6,116,116,0,0,0,35,53,53,4,629,629,12,12,18,18,0,75,75,75,30,30,0,0,0,0,0,0,4,4,11,0,16,16,93,524,524,524,524,524,524,245,245,47,8,60,60,60,60,60,263,263,18,18,0,0,0,0,423,423,0,0,55,55,0,18,18,12,12,60,41,41,41,0,16,16,0,0,0,0,0,0,46,46,0,4,5,0,0,0,51,51,51,20,20,93,93,93,125,108,108,6,6,6,6,53,53,189,189,144,144,0,0,0,70,70,70,15,15,15,12,12,12,23,23,52,52,52,114,114,18,18,18,0,0,0,34,34,61,61,66,0,1056,164,164,11,11,96,96,99,0,166,166,73,73,73,113,0,67,67,67,38,38,38,0,0,0,66,66,66,1094,1094,1094,1094,1094,52,52,97,97,526,526,526,526,33,33,33,26,26,401,401,401,0,94,84,131,131,131,14,14,17,28,27,27,27,77,77,77,203,203,203,80,80,109,109,109,109,12,12,25,20,20,10,10,167,167,421,421,421,27,27,27,26,26,648,648,648,648,24,24,24,0,0,0,6,6,92,92,28,28,8,8,107,107,64,64,95,95,95,13,13,7,7,7,189,189,32,32,32,32,31,31,98,98,98,98,794,794,794,794,4,4,4,65,551,551,551,551,0,0,0,856,856,65,627,627,8,8,16,79,79,0,0,0,23,59,59,80,80,80,55,55,55,22,22,482,482,0,0,0,32,32,32,32,32,193,193,0,0,0,0,0,0,0,0,0,25,25,89,89,89,145,160,0,131,0,0,11,11,17,17,58,15,15,34,34,34,607,607,607,0,0,529,529,529,1069,1069,1069,1069,472,472,472,234,234,21,21,8,17,17,745,745,745,745,745,163,22,22,0,1250,1250,1250,7,0,64,43,43,12,0,0,6,4,4,43,43,10,6,6,6,6,1077,1077,1077,4,4,62,62,57,42,0,114,114,140,140,140,21,9,9,9,9,0,0,0,49,597,597,597,597,597,105,105,0,0,0,377,377,116,116,116,0,0,0,17,17,17,13,13,13,13,122,122,122,0,0,10,39,39,4,4,25,276,276,276,11,40,0,125,125,93,93,93,93,203,203,350,350,350,39,39,39,99,6,0,0,13,13,13,831,831,831,17,42,42,0,0,421,421,421,5,5,5,116,116,5,5,9,468,468,468,468,655,655,655,655,1037,1037,1037,251,251,251,142,142,0,0,0,0,0,0,0,0,45,45,45,14,14,7,7,70,0,121,121,407,407,407,0,0,0,119,119,94,94,94,0,0,44,44,0,0,58,58,56,56,56,44,44,0,419,419,0,26,26,28,522,522,0,365,365,365,0,0,0,4,38,38,38,42,42,629,629,80,80,80,80,154,154,23,23,0,22,22,22,22,22,22,22,22,11,1617,1617,1617,9,9,11,11,0,8,105,105,105,128,128,128,128,362,362,248,248,26,26,51,51,60,0,0,0,0,0,0,0,837,837,837,837,800,800,800,800,800,800,800,74,74,0,0,0,31,31,219,219,219,219,219,219,66,66,119,119,0,0,0,0,0,0,20,20,52,0,0,0,27,27,27,28,28,399,399,399,399,68,68,68,42,31,31,0,998,998,103,103,121,121,8,8,57,57,13,11,70,70,70,70,20,0,0,0,0,0,0,29,29,49,390,4,4,4,0,0,1171,1171,1171,1171,1171,79,79,79,0,0,0,0,7,7,7,7,19,19,19,11,11,9,9,15,61,1166,1166,1166,0,47,47,47,47,0,0,0,0,0,0,5,7,7,7,0,250,250,19,360,360,360,6,201,173,173,357,321,321,53,53,53,53,145,145,145,0,0,31,31,0,0,0,0,17,17,88,88,88,88,18,18,18,18,0,0,110,110,273,273,20,20,20,46,115,115,21,21,17,17,17,80,80,80,80,80,80,80,80,1159,1159,1159,1159,8,425,425,28,28,715,715,715,715,0,455,455,153,153,153,153,0,0,45,45,53,26,26,26,0,0,0,0,0,8,8,479,213,11,0,0,14,14,44,145,83,83,83,83,469,469,469,152,152,152,15,0,0,70,34,34,92,92,24,0,0,37,30,30,0,0,0,0,0,0,31,31,31,49,49,349,349,37,13,13,13,190,190,48,48,0,0,32,173,173,173,40,40,40,63,63,132,132,387,387,116,0,385,385,7,187,187,0,19,123,123,123,123,36,36,69,69,14,22,37,110,110,79,17,17,17,179,179,179,0,0,43,43,0,857,857,857,0,0,0,8,8,343,343,343,0,38,38,562,562,562,562,562,562,348,348,348,348,348,348,348,1262,1262,1262,318,318,318,318,51,51,51,51,51,1072,1072,1072,0,118,118,118,315,315,315,315,315,315,50,50,355,147,147,147,28,28,0,0,80,80,60,60,6,27,282,0,650,650,650,650,650,16,15,15,424,424,134,134,125,125,27,27,0,0,53,206,206,206,206,206,6,6,6,6,6,6,6,6,1112,1112,1112,1112,39,39,88,88,88,205,343,343,343,343,110,427,16,66,66,66,66,20,20,1473,1473,1473,1473,1473,835,835,835,835,11,34,34,0,0,0,0,0,8,73,73,657,657,66,66,14,81,32,32,79,122,122,122,104,104,44,11,11,42,42,108,108,108,21,21,91,91,91,87,87,8,25,25,25,71,71,914,914,914,914,914,914,914,914,62,62,25,53,53,5,17,17,130,130,606,606,20,20,109,109,109,109,109,9,1327,1327,1327,1327,101,101,101,0,0,23,23,16,16,839,839,33,33,173,173,173,735,735,735,0,0,408,408,267,267,23,23,43,43,1328,1328,1328,775,775,34,34,8,8,8,607,277,277,277,277,277,277,292,292,292,61,61,61,57,1515,1515,1515,1515,66,0,0,71,71,71,0,20,20,20,627,627,627,117,117,117,117,146,146,17,17,17,17,17,17,237,237,0,434,434,0,305,260,260,46,46,46,46,46,1309,1309,0,0,0,0,1322,1322,1322,1322,1322,116,116,72,72,0,0,116,116,116,103,103,0,0,0,17,17,17,71,71,71,71,35,35,35,142,456,4903,4903,4903,4903,28,28,0,76,76,6,6,6,6,21,58,58,0,0,67,67,73,73,11,9,9,2058,2058,2058,2058,297,297,297,1090,1090,1090,77,77,945,945,28,106,106,106,59,4,4,121,121,36,36,36,504,504,504,27,27,5,5,5,186,31,31,205,50,50,50,5,88,88,115,254,254,0,0,0,0,0,0,23,23,0,12,12,12,0,0,855,855,855,855,855,855,855,182,182,0,90,90,12,62,62,27,27,79,3519,3519,3519,140,140,332,332,332,332,11,11,168,168,344,344,22,22,176,176,176,20,113,113,113,1109,1109,1109,1109,392,1255,1255,1255,242,242,242,195,53,53,261,261,608,608,608,608,608,608,608,608,40,185,26,814,814,66,66,66,164,164,2257,2257,2257,2257,2257,2257,25,42,42,0,28,336,336,436,436,1563,1563,185,185,1265,1265,11,11,14,71,71,217,217,217,363,363,363,62,62,60,60,0,0,76,76,76,371,371,18,18,71,71,71,57,49,49,49,49,49,269,269,269,12,12,5,5,5,5,43,43,238,238,238,32,17,15,11,11,11,11,365,365,365,127,4,4,26,26,903,903,903,31,31,9,9,70,70,70,13,13,13,13,13,13,64,0,0,100,13,254,254,254,254,8,8,8,123,123,106,106,106,206,206,206,206,206,0,0,286,286,286,0,0,0,57,0,0,0,0,0,0,0,136,136,136,0,0,0,0,36,16,16,1389,1389,1389,1389,14,14,14,0,0,0,0,111,111,111,111,111,183,183,183,183,125,125,0,0,255,255,255,36,79,66,4,4,95,95,0,108,2133,2133,2133,794,794,93,93,93,1687,1687,1687,1687,1260,1260,1260,1260,60,269,196,196,15,15,75,107,0,269,269,8,8,99,99,99,99,80,4,78,78,0,0,771,71,71,39,791,314,314,314,0,0,31,31,31,460,460,460,0,0,84,0,0,0,36,36,36,5,260,260,1265,1265,974,974,745,156,156,156,0,0,8,12,19,417,417,417,417,417,417,417,417,30,30,0,0,61,61,61,5,5,5,133,133,133,0,0,10,10,10,10,10,11,11,280,280,280,38,38,22,22,22,51,51,150,150,150,150,680,680,22,18,18,18,18,115,115,38,38,38,6,6,0,177,8,8,216,78,78,686,686,686,686,70,70,56,56,17,17,347,347,0,7,7,7,7,7,134,134,0,8,8,8,1112,1112,62,62,62,67,9,9,0,366,366,366,366,366,31,33,33,164,164,13,13,13,43,43,7,292,292,292,178,178,0,0,0,0,0,0,36,4,4,0,0,0,0,78,78,78,0,0,0,0,91,91,91,14,4,4,216,216,216,37,37,0,0,580,580,580,580,7,4,4,999,999,1037,1037,1037,1037,1037,10,113,113,0,0,330,330,330,0,0,0,0,0,0,864,864,864,864,864,26,26,319,319,319,319,47,47,604,604,604,604,0,176,176,21,564,564,83,76,76,3315,3315,3315,19,19,19,19,19,401,401,181,66,66,66,66,67,1952,1952,39,39,39,568,568,568,568,14,601,601,601,79,79,79,71,9,9,0,0,0,0,249,249,249,249,47,47,47,823,823,0,130,0,527,527,0,0,109,109,109,254,254,254,6,58,58,58,58,58,252,252,252,252,0,0,0,0,0,152,152,152,21,21,0,0,60,60,60,24,24,182,16,16,0,0,18,0,0,236,236,236,236,236,236,0,0,52,68,68,68,68,68,39,39,8,8,8,238,238,40,40,76,76,76,14,14,14,511,511,511,108,108,108,0,0,0,7,7,7,7,36,0,0,0,18,18,51,51,51,27,27,15,15,87,0,89,89,89,89,349,349,0,0,123,123,298,298,298,298,192,192,2828,2828,2828,2805,2805,2805,2805,2805,37,37,37,37,0,0,0,633,633,633,49,925,925,925,925,236,59,59,59,59,59,59,59,59,62,62,201,201,201,201,534,534,534,5,313,313,313,313,313,51,51,51,51,58,58,14,14,113,113,113,237,237,237,9,9,0,124,124,124,96,96,154,154,0,0,9,11,0,0,0,0,431,431,431,431,431,431,0,0,0,0,249,249,249,249,205,205,205,318,318,318,697,697,697,697,697,697,697,697,39,39,39,17,17,7,7,8,81,13,13,82,82,12,497,497,497,307,8,41,41,41,41,35,3782,3782,3782,3782,3782,3782,3782,338,338,87,87,87,588,588,588,588,173,173,173,0,1276,1276,0,46,46,46,33,33,693,693,693,55,55,55,326,326,326,326,8,8,1950,1950,1950,1950,0,0,0,144,144,0,0,0,52,52,52,0,0,27,27,27,180,180,7,22,22,22,128,128,12,12,7,7,12,12,0,0,0,19,19,19,68,230,230,230,15,15,55,55,10,10,36,36,36,246,246,246,246,246,11,11,11,11,0,0,166,166,166,166,0,0,0,328,328,328,82,82,62,62,372,372,372,372,611,611,611,83,83,83,34,34,78,78,73,73,73,17,17,17,71,71,71,51,51,51,58,58,1444,1444,1444,1444,1444,1444,0,0,0,19,19,114,114,114,11,11,720,720,720,45,45,45,171,171,171,13,13,714,714,357,357,316,316,316,2264,2264,20,20,41,41,41,726,80,80,80,80,6,6,6,0,55,55,208,208,208,208,121,121,121,121,121,15,15,19,30,30,30,893,893,893,1016,1016,1016,276,276,276,276,61,28,28,28,929,929,929,6,6,16,16,16,16,16,16,551,551,551,433,433,433,433,51,51,51,120,120,6,6,6,4,4,4,28,28,28,28,28,94,94,94,94,902,902,902,467,467,467,467,22,0,0,0,0,9,9,159,159,289,289,289,21,886,27,27,14,14,20,20,35,35,390,390,390,390,100,100,100,100,100,0,0,335,335,335,335,335,0,0,0,8,32,32,24,24,247,60,60,25,25,0,0,0,271,271,49,49,49,354,354,354,25,25,150,150,791,791,791,791,373,373,121,121,121,121,121,121,2437,2437,2437,2437,5,19,19,0,0,0,0,1074,1074,1074,0,0,11,11,11,0,0,0,7,7,7,59,59,59,148,148,148,167,167,569,569,569,569,527,20,20,20,94,94,269,269,269,269,120,120,120,0,0,22,22,12,12,46,46,91,91,61,61,0,0,34,34,34,0,0,4,4,32,32,32,32,223,223,223,223,1101,1101,1101,1101,1101,73,22,22,22,2470,2470,2470,2470,19,19,167,167,0,0,0,0,71,71,14,14,14,4528,4528,104,104,104,0,222,5,5,159,159,17,66,66,25,82,82,71,28,28,24,24,104,0,0,0,26,89,89,271,718,718,718,747,747,747,9,9,13,13,17,17,17,17,17,23,23,23,0,0,0,0,0,0,20,0,0,0,0,0,0,72,72,72,72,72,72,8,8,0,0,0,103,35,35,24,24,75,75,36,36,967,967,967,142,34,34,1647,1647,1647,1647,1647,17,32,32,32,78,78,51,5421,5421,5421,5421,5421,5421,11,11,10,10,81,81,81,81,81,81,94,94,94,524,84,84,84,84,84,254,137,137,137,35,35,35,12,12,59,43,43,43,5,0,0,4,4,935,935,935,0,70,70,70,70,19,10,10,6,6,6,10,10,10,0,0,161,161,161,161,161,1216,70,70,70,9,9,9,9,9,0,69,69,83,10,10,10,0,0,0,0,130,130,130,16,16,16,442,442,442,442,0,7,7,52,52,52,1133,1133,1133,122,122,122,188,188,210,210,0,0,0,38,38,18,18,18,7,96,96,96,261,261,261,0,0,479,5,5,45,45,45,184,184,184,184,44,44,902,902,902,902,902,584,584,336,336,336,13,41,41,66,66,9,9,9,6,6,6,6,6,18,18,18,18,18,5,5,23,23,37,37,37,345,345,10,10,10,49,49,9,0,0,64,64,4,16,16,102,102,102,102,102,102,82,82,2129,2129,2129,66,56,218,218,218,218,0,0,0,2122,2122,271,271,271,271,271,271,271,271,8,8,707,116,116,116,70,70,70,0,0,45,45,45,45,45,585,585,585,158,158,158,265,265,46,82,82,82,429,429,429,429,40,40,0,0,0,110,143,143,143,143,332,332,332,0,0,14,14,14,28,105,105,11,11,0,0,11,24,0,0,23,23,23,7,7,15,15,15,15,36,36,36,35,35,0,0,0,158,158,104,104,215,215,215,4,4,1132,1132,1132,0,11,11,8,8,374,374,374,374,6,6,14,14,14,28,8,8,8,285,285,383,383,383,401,137,46,46,46,46,95,95,0,34,34,34,0,0,0,14,240,240,240,240,240,0,0,180,180,180,7,7,1136,1136,1136,1487,1487,1487,0,0,8,8,8,8,75,75,75,75,300,1881,1881,1881,1881,42,7,6,6,6,851,851,0,0,53,247,685,685,685,41,41,41,41,6,6,6,11,11,0,395,395,395,37,37,37,104,104,18,1515,1515,1515,1515,0,0,14,14,14,3588,3588,3588,3588,12,12,0,0,0,500,500,500,534,534,534,534,534,0,0,20,4,4,40,40,25,25,25,501,501,501,140,140,38,38,38,72,72,72,0,244,129,129,0,0,0,10,10,10,63,63,63,97,97,97,97,4,9,9,0,10,10,35,28,203,203,200,0,0,21,21,26,26,26,21,21,21,21,1977,1977,1977,1977,1977,491,491,491,491,154,154,13,0,6,6,6,6,257,257,257,0,0,0,0,0,4,0,0,0,0,0,383,383,383,22,22,22,1723,1723,1723,10,230,230,1000,1000,1000,1000,186,116,116,116,420,420,420,420,420,7661,7661,7661,7661,48,48,17,17,17,17,17,17,17,17,148,148,148,282,282,282,11,11,11,11,4,4,9,0,0,96,96,126,126,4,27,27,67,67,67,254,254,88,88,88,88,17,17,10,10,10,0,0,11,11,11,11,357,357,357,28,28,86,86,86,1368,1368,13,13,13,0,0,0,9,9,1652,1652,388,388,2583,2583,0,195,0,0,0,62,62,47,47,15,15,246,246,246,58,28,28,28,22,22,22,160,106,106,106,34,34,0,0,0,477,477,477,477,6,6,6,7,7,0,0,0,8,64,64,64,398,398,406,406,406,37,37,30,30,30,30,30,22,22,7,97,10,291,291,291,534,534,227,227,85,85,0,20,20,0,0,15,15,69,69,6,6,0,0,0,106,106,106,17,661,390,390,390,54,277,277,0,0,0,6,6,6,6,6,15,104,0,175,175,53,53,933,933,933,933,933,221,0,0,0,28,28,79,0,171,171,15,15,15,26,26,26,104,104,52,52,52,52,52,5,5,5,5,0,0,131,131,131,131,0,96,96,96,0,0,48,4,4,0,115,115,115,200,200,27,27,0,0,0,0,14,14,14,0,0,0,736,736,736,0,50,50,50,50,197,197,66,66,66,66,49,49,49,49,29,29,105,105,70,70,9,0,0,49,24,24,24,466,466,466,466,466,772,772,772,772,782,782,11,31,5,5,5,377,377,34,34,25,41,41,35,35,35,13,13,0,0,59,59,59,59,53,1954,1954,1954,1954,686,686,686,686,42,42,0,345,345,345,345,345,132,132,10,10,10,6,6,156,156,65,65,65,55,55,55,55,23,23,23,58,58,371,371,132,51,51,38,38,22,22,22,191,191,0,0,0,9,166,166,166,166,7,0,0,0,711,711,711,507,507,507,507,0,6,6,0,0,89,89,89,451,451,451,451,451,451,0,0,0,0,25,25,35,35,35,35,35,35,35,27,27,74,74,0,228,228,228,228,51,51,432,432,19,19,19,0,0,0,1820,1820,30,30,30,14,14,14,14,568,568,568,12,12,76,5,138,138,138,138,138,129,129,12,12,299,299,0,0,18,18,18,18,12,12,419,419,0,0,65,65,65,65,25,25,25,0,0,372,372,372,6,6,41,41,41,49,0,0,0,30,0,0,0,230,230,5,5,335,335,335,59,59,287,287,9,160,0,0,0,0,0,0,0,0,61,61,61,0,0,0,0,75,75,75,30,6,6,80,80,80,59,59,59,59,0,0,0,0,24,24,24,24,24,25,25,25,25,69,69,69,3651,3651,3651,3651,102,102,470,470,470,56,56,16,16,16,142,69,0,0,0,0,0,0,1256,1256,190,190,190,34,34,34,34,111,111,111,111,143,143,143,143,60,60,60,60,14,14,11,11,139,139,139,5,12,12,621,621,621,4,4,0,0,0,25,25,11,11,11,11,37,206,206,206,4,4,0,0,0,0,991,991,991,991,191,191,191,0,0,273,273,273,273,27,27,27,448,448,448,448,448,134,134,134,0,0,8,8,8,53,53,53,18,15,15,416,416,416,416,286,286,0,0,21,59,59,0,0,168,168,63,63,37,37,0,0,8,8,8,11,11,11,11,10,10,10,0,0,0,0,0,0,0,0,8,45,45,274,274,7,7,29,29,29,29,4,4,4,25,25,185,185,185,185,692,692,692,692,53,53,53,19,19,19,19,234,234,234,25,16,16,16,7,7,4,0,0,926,7,112,112,120,120,120,27,43,43,43,110,23,42,42,57,57,87,87,6,6,4,4,4,1201,1201,1201,1201,1201,22,22,22,22,22,8,8,193,193,193,193,0,0,0,37,37,1518,1518,1518,1518,1518,1518,1518,45,45,45,45,13,13,13,46,46,46,209,209,209,209,10,10,10,10,5,5,17,52,52,87,87,87,0,1111,1111,1111,1111,84,84,84,84,77,77,77,77,77,77,77,694,694,694,694,4,0,0,42,42,42,45,0,98,98,98,98,120,208,208,105,105,105,2052,2052,2052,2052,43,43,157,157,157,19,19,52,52,73,73,73,73,0,0,159,159,159,38,38,38,338,338,44,44,11,11,38,38,62,62,62,12,19,17,17,46,46,342,342,342,68,68,168,168,168,375,375,375,60,60,60,12,12,12,12,12,5572,5572,5572,5572,134,13,13,13,9,133,133,133,262,262,45,45,0,0,447,447,447,447,447,447,95,95,20,20,20,11,9,26,26,0,43,43,291,291,291,291,1013,15,15,15,15,15,15,12,12,0,0,0,0,0,0,0,1484,1484,1484,12,12,30,33,33,33,33,144,144,144,144,53,1508,1508,1508,1508,1508,1508,1508,65,0,0,32,32,15,15,15,75,603,603,603,603,22,22,22,22,171,171,171,134,134,134,115,115,196,196,0,0,0,23,102,102,0,0,5,5,5,376,136,136,45,2091,2091,2091,29,29,29,64,64,11,94,94,94,94,94,3309,3309,3309,3309,230,230,230,230,220,220,9,9,9,9,9,80,189,74,74,388,388,388,0,0,0,0,5,5,0,24,24,6,6,581,70,9,9,11,47,47,0,0,0,6,6,6,45,45,9,4,26,26,23,23,0,0,0,0,0,0,0,0,0,37,37,0,17,17,671,671,671,0,0,0,0,0,26,26,9,29,29,29,61,0,64,64,64,64,64,14,14,14,14,5,5,354,354,354,354,6,6,0,0,166,166,71,71,71,9,9,6,27,27,27,32,32,0,0,25,15,15,0,0,0,133,49,49,49,0,0,0,0,0,0,0,5,5,5,5,0,0,0,25,25,46,46,30,0,0,0,16,0,9,9,9,55,435,435,435,435,435,0,0,56,68,38,38,38,38,38,34,34,34,17,17,154,154,10,0,0,0,0,0,56,56,56,64,64,64,4,0,146,8,8,106,106,11,11,11,51,51,224,224,224,224,224,205,205,21,9,9,242,242,242,0,362,20,20,0,0,0,9,4,9,9,8,8,8,8,9,9,111,111,111,69,0,18,18,18,12,12,859,859,859,859,859,56,56,56,56,0,0,276,276,276,7,7,151,151,164,164,0,0,6,6,49,34,34,0,0,0,0,246,246,246,246,246,246,246,61,61,208,208,208,208,75,0,0,11,11,11,31,31,31,16,16,78,78,78,78,78,217,217,69,14,14,0,0,0,0,0,129,13,13,16,16,103,34,115,115,115,17,17,200,200,102,102,102,70,70,76,76,354,354,0,0,0,15,23,23,23,10,10,0,0,9,185,78,78,32,8,8,8,0,798,798,0,149,149,149,149,141,141,141,141,141,179,179,27,8,8,8,6,6,6,227,227,0,0,0,49,49,0,0,0,101,101,101,27,27,27,116,116,20,20,4,4,65,0,0,0,50,50,0,0,0,0,120,120,22,22,138,138,8,0,37,37,52,52,13,37,191,191,191,59,0,0,0,461,461,461,461,461,9,0,7,7,6,88,88,88,64,64,0,0,0,0,0,0,0,142,0,0,0,307,307,307,47,108,108,108,11,11,123,123,0,0,396,396,396,75,75,75,75,52,52,52,16,16,16,16,8,8,0,0,0,0,28,0,567,567,567,567,567,567,60,60,8,0,0,21,0,0,0,0,31,7,7,0,275,275,28,28,28,9,9,0,0,0,208,208,714,6,6,6,16,11,83,73,73,73,30,128,128,0,0,235,235,0,273,273,0,4,6,6,46,46,46,59,59,59,0,0,0,0,0,268,268,268,4,4,13,13,13,50,73,73,18,18,208,208,208,254,254,254,11,316,316,316,27,321,321,321,16,16,96,96,96,31,31,31,337,0,0,0,0,28,28,0,0,74,74,8,8,0,0,366,366,4,4,89,89,89,21,21,21,21,0,0,0,0,6,6,95,95,434,434,434,434,101,101,101,44,44,47,47,47,47,47,21,14,14,14,14,4018,4018,4018,38,38,38,38,1110,81,81,81,9,9,9,0,0,856,856,856,57,76,76,76,192,192,126,126,126,19,19,0,0,0,0,0,4,0,0,0,35,28,28,54,13,341,0,0,0,0,30,30,0,0,54,54,54,54,54,21,21,21,302,302,302,302,302,6,6,0,162,162,162,0,0,6,6,6,6,6,6,6,0,0,0,106,202,202,202,202,43,43,43,51,8,44,44,44,82,82,0,40,40,143,143,143,0,0,0,0,8,8,0,0,0,0,0,7,7,7,4,4,77,19,19,133,133,133,133,133,49,49,49,0,91,91,155,0,0,0,19,19,96,96,27,16,16,0,0,245,245,0,0,15,5,0,29,29,29,12,12,0,0,30,30,10,10,10,7,15,15,0,0,0,0,0,0,403,403,1355,1355,1355,1355,6,10,10,18,18,18,0,0,4,9,9,9,9,149,149,149,60,0,33,33,35,35,13,13,106,54,54,54,43,43,43,32,32,32,227,227,227,0,425,425,425,164,164,164,164,135,157,157,157,157,157,62,224,224,168,168,168,168,8,8,6,6,4,4,4,4,4,4,4,120,120,9,9,24,7,0,0,0,104,104,4,66,275,275,275,0,0,0,284,284,200,200,200,40,40,27,67,67,79,79,79,0,0,0,25,175,175,175,10,341,341,341,341,39,39,4,125,110,45,45,321,321,62,62,62,124,124,38,38,50,50,50,50,0,0,0,5,5,0,0,0,182,182,182,18,18,18,0,0,0,0,0,439,439,439,439,439,439,439,35,35,22,22,20,20,0,38,22,22,6,6,0,0,0,5,0,0,52,52,52,148,148,31,244,244,244,244,244,9,124,124,124,16,16,16,5,5,8,8,171,171,171,171,12,12,12,38,0,0,0,47,918,918,34,60,15,130,130,53,53,53,0,0,0,0,0,0,111,0,0,0,5,5,5,5,5,37,205,205,205,91,91,28,28,28,14,56,133,19,0,264,264,264,37,78,78,41,85,85,85,85,8,117,117,0,27,27,27,27,15,28,28,186,186,186,129,550,550,550,550,0,0,42,0,0,0,0,0,54,54,106,85,85,12,12,31,31,31,15,15,61,0,0,0,1512,0,7,7,77,77,77,139,133,133,1028,1028,1028,0,1307,1307,1307,1307,1307,1307,0,0,50,50,50,304,304,304,243,243,564,564,16,16,16,16,15,15,15,15,15,5,5,5,23,7,7,7,7,3083,3083,3083,0,0,0,0,210,210,210,8,8,8,410,410,108,108,172,172,98,381,381,381,163,163,163,55,55,55,10,10,10,10,0,0,7,20,0,0,0,0,63,150,150,150,150,59,59,533,533,533,533,11,11,26,26,26,26,26,1094,1094,4,7,7,29,11,0,9,9,9,453,453,453,0,147,147,147,37,37,17,17,0,0,0,724,724,69,69,69,69,425,54,54,54,182,5,5,5,9,9,9,9,109,232,232,232,0,1330,1330,0,0,0,287,0,0,353,353,28,28,119,119,29,29,29,273,273,273,273,57,27,73,73,73,272,272,272,101,101,275,275,113,113,113,113,113,92,0,0,0,0,20,20,34,34,441,441,94,94,1408,1408,12,12,3124,3124,3124,3124,85,85,182,182,182,102,102,4335,4335,0,1102,1102,1102,1102,1102,0,0,0,256,256,256,127,127,353,305,305,305,305,305,4,4,4,4,10,189,189,189,189,6,6,23,23,23,35,35,35,304,304,806,806,0,430,430,5,50,50,50,50,18,18,18,12,0,0,0,0,0,0,1719,1719,48,48,48,0,0,0,0,108,108,431,431,431,13,13,13,59,59,254,254,254,254,429,429,429,12,4,1256,1256,1256,1256,190,190,0,7,748,748,36,36,36,36,9,9,0,0,4,4,281,281,0,0,22,22,11,11,11,35,84,1975,255,255,24,0,4,14,14,426,426,426,426,426,644,644,644,109,109,172,172,172,172,577,577,577,100,100,100,186,186,186,6,6,206,206,14,927,28,28,28,28,8,8,8,18,4438,4438,2534,2534,2534,6,18,400,400,112,112,112,131,131,131,131,131,0,0,0,210,210,210,210,19,37,37,37,20,140,140,178,178,178,155,155,1940,1940,1940,26,0,0,0,9,9,6,6,30,30,29,91,91,91,780,780,780,780,780,214,214,56,90,90,16,16,76,76,60,60,0,0,0,0,197,197,197,197,197,109,109,139,139,139,139,79,79,79,9,294,294,294,294,294,63,12,12,12,41,41,37,37,895,895,895,603,603,603,224,224,224,100,100,2896,2896,2896,2896,2896,17,232,232,232,232,232,6,6,6,6,241,241,241,113,113,113,442,383,383,383,383,120,120,6,6,289,289,956,44,100,100,100,100,27,27,27,7,7,9,9,9,179,234,234,234,234,234,55,55,21,21,5,406,406,91,91,16,16,16,16,222,222,222,222,0,0,11,11,11,0,0,30,18,16,16,28,28,4,4,4,0,86,106,56,56,56,0,0,0,84,84,304,304,304,9,9,15,15,15,94,94,94,94,94,94,16,16,26,26,26,73,149,149,149,149,99,99,99,0,0,0,79,79,0,3218,3218,3218,3218,12,7,7,120,120,19,19,19,19,64,64,64,157,157,31,60,60,287,287,287,287,21,21,81,81,0,0,50,50,128,128,128,12,432,432,432,50,9,9,9,9,9,9,9,20,20,0,0,0,226,55,0,0,0,0,0,209,209,90,90,90,206,136,0,0,15,15,15,80,80,80,80,353,353,353,60,60,111,1723,1723,1723,2521,2521,2521,2521,10,16,16,16,27,27,27,7,7,77,77,77,65,65,127,221,221,279,212,212,212,212,60,4,4,4,87,87,87,0,0,86,86,86,7,7,7,46,46,107,107,107,81,81,50,6,6,363,47,47,47,125,125,125,125,59,439,439,9,9,393,393,393,255,255,14,0,114,114,246,246,246,27,27,27,172,172,172,3346,3346,3346,3346,75,75,75,43,0,0,12,12,5,0,502,502,267,267,22,26,26,26,1636,1636,1636,270,270,270,270,14,60,9,278,278,278,42,42,66,66,51,51,41,41,1719,1719,1719,1719,45,45,18,18,0,318,445,445,445,445,352,352,352,67,67,919,919,919,919,74,74,74,74,42,42,42,42,42,0,22,400,400,7,7,277,277,277,277,22,0,0,10,10,10,94,94,94,238,17,17,762,762,762,24,24,73,73,73,73,74,74,74,74,437,322,322,322,322,322,7,85,85,85,48,48,48,1210,1210,1210,1210,159,159,53,53,285,285,285,285,285,285,285,0,365,365,27,27,26,26,26,26,256,256,4,4,53,53,53,53,35,35,92,92,92,92,92,64,64,64,0,18,84,84,84,84,7,7,4,4,4,4,4,36,36,36,36,439,439,6,6,6,243,243,243,0,61,89,89,89,89,1387,1387,1387,57,57,57,57,0,0,0,29,29,8,8,174,174,174,0,0,0,16,16,194,194,194,5,5,5,86,86,86,511,511,511,511,511,511,733,733,733,32,32,32,32,32,0,0,0,41,41,41,63,63,63,73,73,269,269,269,269,269,269,269,5,5,42,42,42,42,14,14,14,168,168,168,285,285,285,285,285,1060,1060,1060,1060,1060,52,52,77,77,77,551,551,551,67,67,67,67,723,723,723,550,550,550,550,550,550,550,58,58,11,11,63,63,50,50,92,92,92,67,67,67,1489,1489,10,10,155,304,304,20,20,0,41,41,41,327,327,327,8,8,8,16,16,96,96,55,55,55,28,0,0,0,6,6,219,12,12,12,101,101,26,33,12,46,46,46,0,192,157,157,366,366,366,1552,1552,1552,1552,648,648,648,648,2768,2768,2768,68,68,68,150,150,150,109,109,109,18,18,19,19,189,189,184,184,111,111,111,20,46,46,46,45,0,109,109,0,108,108,108,0,0,145,238,467,467,467,0,0,0,0,696,696,696,87,87,87,87,90,90,281,281,12,12,0,0,582,582,61,61,90,90,90,14,14,1502,1502,1502,1502,1502,12,15,15,28,28,4,4,4,4,107,107,0,3860,3860,3860,3860,3860,3860,647,647,647,0,5,5,5,494,494,494,494,1372,1372,1372,1372,193,193,193,193,155,155,155,155,155,155,155,155,387,387,6,0,17,17,17,9,9,9,30,30,35,35,35,9,9,55,55,16,16,47,47,47,47,509,509,509,200,200,200,200,200,200,0,0,23,23,19,0,0,13,13,13,13,13,0,0,26,216,23,23,23,0,580,580,580,580,0,0,100,100,3404,425,425,237,27,27,30,30,30,302,302,135,135,11,11,0,74,74,0,0,1741,1741,1741,1741,5,5,6,6,6,6,38,38,38,70,0,78,78,61,56,56,0,0,15,15,97,97,0,0,0,45,0,6,52,52,52,52,8,10,10,10,10,92,92,92,21,0,0,0,10,10,13,13,283,79,79,473,473,473,6,6,734,734,734,5,5,5,0,331,331,103,103,0,0,29,400,10,10,10,143,488,488,488,23,23,23,3727,3727,3727,3727,3727,0,0,0,0,8,8,8,8,40,40,0,474,474,474,474,0,117,117,473,473,473,0,0,0,6,6,1392,1392,1392,1392,1392,6,6,6,271,271,271,271,16,16,16,49,9,9,207,207,207,207,12,12,5,5,5,4,16,16,16,0,7,7,7,0,0,435,435,435,435,12,12,16,40,40,40,4,4,6,36,36,36,0,0,0,0,0,9,9,9,5,5,5,2380,2380,2380,2380,699,699,699,699,64,64,95,95,557,557,183,183,183,37,37,59,59,0,10,10,10,6,6,582,582,8,3248,3248,3248,3248,3248,3248,3248,3248,17,17,17,104,33,33,33,33,0,114,103,103,656,656,656,656,656,22,22,22,22,591,591,591,591,8,8,1322,1322,1322,1322,6,6,6,35,152,152,87,87,87,12,7,7,7,7,0,0,0,152,152,75,2709,2709,2709,185,185,15,15,19,19,19,199,199,199,5,0,0,0,40,40,40,40,61,61,21,21,4,27,27,27,965,965,965,965,200,200,9,9,9,0,39,39,39,812,812,812,6,6,6,285,285,285,4,483,483,483,483,66,66,8,8,16,16,16,78,78,78,78,6,8,14,14,14,179,179,179,179,14,23,23,0,140,18,102,19,0,0,0,0,256,256,23,96,96,5,137,137,137,0,10,10,10,0,0,0,365,365,4814,4814,4814,4814,4814,4814,4814,37,37,37,4,34,5,5,5,133,133,120,220,220,220,21,21,29,304,304,67,53,53,53,134,134,146,146,8,8,8,21,21,21,21,11,25,25,19,19,73,73,73,897,897,897,14,0,0,0,223,223,223,223,223,232,232,232,232,37,37,37,37,31,80,5,5,5,342,342,40,40,40,58,5,5,0,56,56,109,109,61,4,0,0,0,0,30,8,8,9,9,167,167,75,132,132,0,57,57,10,96,96,4,10,10,10,10,15,15,1977,1977,1977,1977,1977,18,0,198,198,166,166,4,4,4,0,204,204,94,202,202,202,175,175,175,134,0,0,0,0,36,348,348,348,0,0,285,285,88,88,88,36,36,52,29,29,107,107,107,107,107,199,199,41,41,41,41,41,238,238,238,238,297,297,297,297,297,0,417,417,417,554,554,554,554,554,554,554,554,0,0,479,479,71,71,71,1319,1319,1319,1319,1319,1319,0,6,6,108,108,108,4691,4691,4691,565,565,565,565,81,81,81,0,0,0,0,1882,1882,1882,13,20,20,16,20,20,20,1759,1759,1759,35,577,577,577,577,0,0,0,0,0,8,10,10,10,20,20,20,135,135,9,9,0,0,0,0,10,2618,2618,2618,2618,63,63,63,103,0,42,42,28,28,4,4,4,95,95,95,24,24,24,98,98,98,98,1472,1472,1472,1472,1472,0,0,0,8,8,8,5,0,0,58,58,24,22,22,22,31,31,6,6,0,100,19,19,19,19,892,892,892,0,71,71,71,71,3021,3021,3021,3021,213,213,213,19,19,19,19,19,87,953,36,36,36,36,36,36,36,36,50,50,50,50,50,432,432,432,432,432,157,157,157,203,58,58,58,305,305,305,29,29,29,29,1189,1189,1189,46,46,46,148,148,587,11,11,11,14,14,14,14,17,17,389,389,389,111,111,111,40,6,6,68,68,68,68,62,0,0,0,0,12,12,0,22,32,564,564,564,259,905,905,905,205,205,205,205,144,144,2513,2513,2513,73,73,336,336,131,11,11,11,40,40,40,40,87,87,4,24,18,18,18,18,18,18,18,113,113,178,178,178,108,61,61,61,11,11,11,26,26,0,42,33,33,33,110,110,0,0,72,389,389,389,389,389,27,27,7,7,0,0,0,18,28,28,167,8,8,8,0,0,37,37,37,48,48,77,77,835,835,835,588,588,588,588,273,273,273,6,6,10,11,0,0,0,0,0,0,0,7,7,260,262,262,262,262,61,1177,1177,1177,1177,1177,1177,5,5,5,144,144,73,73,73,108,108,139,0,117,117,52,52,163,163,7,7,7,7,1307,1307,1307,1307,1307,1307,16,16,16,16,7,1094,1094,287,59,59,3083,3083,3083,34,34,410,410,381,381,381,36,36,36,29,177,20,172,172,275,275,170,170,170,441,441,28,28,226,226,226,589,589,353,353,8,150,150,150,150,0,0,232,232,232,84,84,0,0,37,37,709,0,0,1512,0,0,0,0,0,0,77,77,77,7,0,929,929,929,101,101,132,132,132,132,116,105,105,9,9,9,9,50,50,50,17,17,11,11,7,7,272,272,272,227,98,163,163,163,94,94,0,0,0,1028,1028,1028,276,276,276,2090,2090,2090,63,113,113,113,113,113,9,9,9,454,161,161,161,161,533,533,533,533,13,13,13,85,85,26,26,26,26,26,147,147,147,425,12,12,4606,4606,4606,15,15,15,15,15,0,0,0,0,0,158,158,158,304,304,304,224,224,224,359,359,359,359,359,359,359,0,0,0,0,0,564,564,124,133,133,36,36,798,798,798,1330,1330,31,31,659,659,106,69,69,69,69,71,624,0,0,0,303,303,109,925,925,925,925,925,925,925,38,38,8,8,8,54,54,54,19,19,19,55,55,55,251,251,251,176,176,176,57,182,92,9,9,25,81,81,81,81,191,191,191,191,2653,2653,721,721,721,750,750,750,87,87,87,126,126,126,1141,1141,65,65,267,267,267,267,267,80,80,0,20,104,104,104,8,8,8,8,646,646,649,649,1349,1349,368,241,241,83,83,394,48,4,4,4,138,138,7,7,677,11,0,129,129,78,78,443,443,443,443,443,443,9,51,51,51,214,214,214,214,81,81,27,87,87,87,87,244,0,2664,2664,2664,2664,34,87,87,87,9,1608,1608,79,79,79,13,175,0,0,0,0,1504,1504,1504,1504,1504,233,233,233,2340,2340,2340,570,570,7,1233,1233,1261,1261,0,83,83,83,264,264,264,264,4,4,0,0,452,452,452,452,17,17,17,6,6,906,906,906,906,0,842,842,842,7,7,7,10,10,10,1857,1857,1857,1857,51,51,559,559,453,453,453,453,453,40,57,57,57,57,57,50,94,186,186,186,186,186,186,48,48,13,113,113,113,0,0,1261,1261,1261,1261,1261,971,971,246,333,38,338,338,338,338,338,342,342,342,53,53,53,53,211,211,211,28,28,43,43,40,40,40,23,0,0,265,265,265,265,684,684,0,0,900,900,900,30,30,30,165,524,524,50,50,371,1682,1682,56,56,1894,1894,1894,1894,12,21,21,21,280,280,280,34,34,135,135,135,135,135,0,0,2178,2178,28,28,28,28,456,456,100,100,0,0,4109,21,21,21,21,592,592,66,66,1098,1098,1098,1098,1098,0,0,0,1116,1116,1116,1116,443,443,443,31,31,31,1106,1106,2783,2783,2783,2783,2783,0,584,584,17,268,268,268,268,268,268,0,27,0,369,369,369,369,98,98,98,98,98,0,11,18,18,18,124,124,124,40,1759,1759,1759,12,12,12,255,255,255,18,18,18,334,126,126,126,126,126,33,33,23,23,368,12,12,231,231,231,20,20,0,0,5,5,1543,1543,1543,1543,1543,1543,1543,127,127,127,127,127,90,90,772,772,772,772,772,47,63,63,63,63,63,595,595,595,595,54,54,54,54,54,89,1699,1699,430,430,430,430,430,430,72,16,16,16,608,608,608,608,0,0,0,1127,1127,1127,1127,117,1023,1023,1023,31,31,31,31,287,287,468,468,0,0,0,0,7,0,808,808,808,808,443,443,4,27,27,591,591,591,637,637,45,45,45,271,271,61,756,756,756,756,47,0,0,0,349,349,349,349,349,349,349,168,168,168,168,168,0,461,461,461,461,461,12,92,92,92,1137,1137,1137,1137,1068,1068,4151,4151,4151,246,246,0,0,23,23,6,6,105,105,105,20,20,116,116,374,1882,1882,1882,20,20,20,1334,1334,0,81,81,81,198,198,198,198,426,426,597,597,597,19,0,0,0,0,37,16,379,379,1788,1788,1788,432,432,432,432,432,432,25,1425,1425,1425,1425,1425,143,143,143,975,0,0,0,0,0,0,348,348,125,125,125,125,125,160,160,198,198,198,198,54,54,0,1676,1676,1676,268,268,42,42,42,47,47,47,579,579,579,579,399,399,70,0,287,287,3633,3633,3633,3633,1083,1083,1083,600,600,600,1249,1249,1249,1249,64,64,1100,1100,1100,1100,6,17,17,22,927,927,927,15,15,16,16,16,91,91,193,193,193,11,11,0,287,588,0,298,298,298,439,238,238,43,43,16,8,8,114,114,114,5187,59,59,165,165,165,0,0,0,0,73,73,73,3203,3203,3203,3203,0,0,0,0,66,59,20,2036,2036,2036,1793,1793,1793,1793,1793,28,28,28,755,755,1160,505,505,505,505,5,5,413,413,413,413,0,157,157,157,412,412,0,0,26,26,186,186,186,186,186,186,3807,3807,3807,3807,37,37,37,185,52,234,234,234,2962,2962,2962,26,1483,1483,81,406,406,406,9,475,475,475,0,10,10,54,54,43,43,43,43,325,325,325,2158,2158,2158,2158,2158,2158,2158,4,4,80,80,80,92,92,92,25,368,368,368,111,111,156,156,0,0,0,77,77,77,273,273,273,273,0,0,433,433,31,31,0,23,23,23,92,92,92,220,220,746,746,107,107,107,225,0,0,159,159,0,0,0,113,419,0,0,0,10,429,429,429,429,429,429,1144,1144,1144,1144,0,0,127,127,127,1419,1419,1419,36,36,1727,1727,1727,1727,208,208,56,56,53,124,449,449,449,225,93,93,93,141,141,141,408,408,408,408,251,7,7,7,0,0,0,51,51,51,51,41,41,671,671,671,671,196,196,1136,1136,1136,1136,81,81,1597,1597,1597,503,503,503,16,16,0,156,156,156,156,24,24,24,51,51,51,51,51,226,226,226,226,226,226,0,337,337,136,136,136,0,0,0,2990,2990,2990,2990,2990,2990,2990,777,777,777,777,777,777,777,777,79,309,309,1852,1852,1852,1852,7062,7062,7062,7062,7062,7062,587,587,587,587,38,38,0,0,0,101,101,343,343,343,343,343,29,29,29,29,0,0,60,7,159,159,159,48,48,48,99,99,0,456,456,59,59,131,131,1027,1027,1027,698,698,698,698,3700,3700,3700,3700,12,158,158,158,158,1097,1097,157,157,157,157,551,98,19,19,385,4,4,4,4,4,0,0,0,9,111,111,248,248,248,248,22,818,818,818,818,818,26,0,257,31,31,31,31,765,765,7,37,37,10,10,10,1008,0,8,23,12,12,14,14,99,99,99,0,0,0,0,0,0,0,148,148,148,0,0,0,743,743,743,6,76,76,76,5,112,112,112,418,418,5,5,4,4,327,327,327,0,40,11,41,1033,1033,1033,1033,0,0,51,51,190,190,190,0,18,18,18,18,18,0,0,0,0,0,334,334,334,334,34,34,34,34,35,35,35,144,530,530,22,22,81,1169,1169,1169,1169,1169,41,41,41,41,41,41,41,41,872,872,872,4,5,5,179,179,0,0,0,381,381,0,0,0,1545,1545,1545,440,440,440,440,440,88,88,88,88,0,0,19,19,169,169,169,0,0,4,4,164,164,0,0,0,5,5,70,250,250,662,662,0,0,0,0,56,56,56,56,0,0,0,0,68,68,272,0,45,45,503,503,36,1104,1104,1104,91,47,0,0,0,174,174,197,197,197,197,15,15,15,75,0,0,118,118,23,23,16,16,16,0,0,0,0,0,0,0,0,0,37,37,29,29,29,368,368,368,368,46,46,0,138,138,0,0,0,0,0,0,0,0,37,37,52,52,52,52,625,625,625,625,625,40,5,5,645,645,645,34,34,34,86,86,86,86,86,0,55,55,105,105,105,209,209,209,173,173,173,173,11,75,75,0,0,0,0,0,335,335,335,28,28,48,4,4,4,0,416,416,416,416,57,57,57,46,46,126,126,202,202,202,202,475,475,475,475,0,4,4,25,25,47,47,47,166,166,42,9,9,0,464,464,19,19,98,98,98,98,15,66,66,66,15,47,47,47,0,0,0,0,6,6,0,44,44,11,11,11,11,11,0,0,0,0,0,0,0,59,59,46,0,109,630,630,630,34,34,283,283,283,283,22,22,271,271,619,619,10,10,10,10,1093,27,5,5,0,0,0,0,0,4,4,0,0,439,439,439,439,718,718,718,718,718,4,4,211,211,562,562,32,0,0,0,0,0,78,78,114,114,114,114,0,132,132,132,132,132,132,488,488,0,318,318,116,116,90,90,55,55,55,0,0,707,707,707,707,707,46,46,46,8,8,237,237,237,237,0,15,15,212,212,8,8,6,6,23,23,0,129,304,304,304,0,0,0,0,0,182,0,0,0,0,0,0,0,0,0,4,4,7,7,164,164,164,195,195,98,176,176,176,176,0,0,4,301,301,301,301,589,589,24,24,131,131,227,227,0,0,47,47,285,0,0,0,119,0,0,713,713,713,713,13,43,43,24,24,24,0,386,386,11,11,4,4,754,754,754,0,0,0,874,874,874,0,0,310,310,310,0,488,26,26,0,0,19,0,29,29,29,19,19,19,57,842,842,0,0,0,49,47,47,0,0,0,0,0,0,0,372,372,372,372,372,5,66,66,107,107,107,6,6,0,46,46,6,6,4,4,59,0,0,0,0,0,202,202,26,26,26,0,0,638,638,29,29,29,58,58,58,0,0,0,9,9,0,0,0,4,4,55,55,430,430,430,430,0,297,0,0,284,29,29,29,296,296,296,955,955,6,6,0,0,0,166,166,166,0,148,148,162,162,162,0,0,0,0,0,7,0,326,326,326,6,62,62,37,150,4,179,179,4,1450,1450,52,52,0,0,0,0,0,0,0,21,21,915,915,0,0,121,121,121,121,992,992,992,992,992,0,0,0,570,570,10,0,0,0,17,17,19,19,41,41,41,41,41,13,500,500,112,112,0,0,0,0,0,0,0,0,9,9,18,36,36,61,0,0,0,619,619,619,58,58,9,8,8,0,0,31,31,31,31,33,33,7,7,26,26,26,26,0,27,27,87,87,0,0,0,0,0,24,24,428,428,428,428,19,19,25,25,0,0,0,94,94,94,0,0,33,33,18,113,113,0,0,0,0,0,0,9,0,0,11,11,0,0,136,136,0,41,41,41,431,431,431,431,462,462,462,76,5,5,5,16,64,15,15,24,24,116,116,11,11,0,539,539,887,887,14,0,0,13,76,8,8,425,425,425,95,95,95,95,95,0,0,663,663,663,663,663,663,663,25,12,0,0,0,0,321,321,24,24,0,26,26,42,42,84,84,0,28,28,11,11,0,0,0,0,0,18,18,51,51,0,167,167,167,167,131,131,131,131,131,836,836,836,836,0,0,0,33,33,167,167,46,46,51,51,51,0,4,4,326,326,16,331,331,0,0,0,63,0,13,13,13,0,77,77,0,0,676,676,676,676,676,715,715,16,16,230,230,10,10,10,87,87,87,323,323,323,323,14,14,96,96,0,0,0,8,8,8,7,7,8,99,99,5,5,5,213,213,213,0,0,0,0,0,244,0,43,260,260,260,28,28,161,161,161,4,4,23,23,106,29,29,29,0,0,0,0,0,0,190,6,153,153,153,153,21,201,51,51,18,18,0,0,0,9,9,500,500,500,8,8,0,0,0,9,9,0,0,0,202,202,202,69,69,3759,3759,113,113,136,136,65,90,90,66,66,676,676,676,676,676,248,15,15,138,138,0,0,304,304,304,0,266,266,266,31,31,59,85,85,198,5,5,131,131,131,131,4,4,30,30,30,22,22,0,0,6,280,280,280,280,280,280,280,228,228,0,24,24,0,7,7,7,749,749,8,8,8,8,73,73,73,73,73,14,14,607,607,607,607,0,4,18,18,16,112,112,112,18,18,0,13,13,255,255,255,255,839,839,839,839,839,22,22,92,92,92,5,5,108,108,108,108,108,113,113,113,18,18,24,3055,3055,3055,3055,0,166,166,166,13,13,20,99,79,79,79,79,65,43,43,58,58,55,5,93,93,84,82,82,82,82,42,42,137,137,0,14,0,0,0,0,0,0,8,8,8,8,646,646,646,7,368,5,5,7,7,154,154,154,254,254,254,254,254,0,0,0,0,0,48,0,0,45,45,23,23,23,601,14,14,139,139,66,66,66,381,381,381,381,381,381,292,292,292,292,18,18,18,41,41,41,41,41,28,7,7,7,134,703,703,703,703,703,11,11,29,29,29,29,9,5116,5116,5116,48,12,20,0,0,380,639,639,639,0,89,89,14,17,17,17,17,7,7,793,793,21,11,262,262,0,0,28,33,33,108,108,0,0,15,15,0,0,0,0,0,0,0,0,65,65,5,0,0,0,0,0,5,5,30,0,0,9,9,160,160,77,6,6,104,104,104,104,104,104,104,104,17,105,105,105,105,8,8,0,0,0,0,55,55,0,5,26,26,1297,1297,0,0,0,0,0,16,0,102,102,102,102,268,268,268,268,0,0,0,521,521,521,0,0,404,404,20,20,12,0,0,0,19,19,148,148,108,0,0,0,46,46,46,46,0,0,264,264,329,329,329,329,211,0,0,6,15,15,15,15,0,0,12,32,32,32,0,0,77,0,0,46,46,46,25,64,64,11,11,11,0,19,19,0,1389,0,0,4,4,90,90,22,22,0,0,8,8,10,10,109,109,109,142,142,214,214,214,214,214,214,214,45,45,407,0,0,5,6,6,10,10,57,57,57,57,0,0,0,25,26,26,168,45,45,0,0,0,0,0,77,77,35,35,35,11,11,100,100,100,0,69,69,69,69,0,0,0,0,0,82,82,82,82,87,87,4,4,4,4,4,4,40,39,39,0,0,0,0,0,0,0,0,0,0,8,8,782,782,782,554,554,554,0,0,68,68,68,68,138,138,138,138,138,27,27,0,0,0,0,0,0,0,0,0,0,0,36,36,36,175,175,175,175,175,175,8,8,8,8,165,165,165,165,0,0,11,11,72,72,0,0,54,54,54,54,15,15,15,27,27,10,10,0,0,0,0,0,40,40,40,5,0,27,27,27,18,16,228,228,228,228,228,14,14,16,19,19,7,0,0,22,0,23,15,7,0,0,428,428,428,8,21,21,42,29,29,0,73,73,73,0,546,546,20,0,0,0,0,0,201,201,0,0,0,0,0,0,0,0,0,41,0,0,14,24,24,24,19,19,0,0,0,0,58,0,0,0,14,14,14,14,12,12,7,29,29,29,29,0,0,0,0,20,20,0,0,0,191,191,191,20,20,20,20,0,0,0,251,251,0,0,35,35,35,35,77,77,0,293,293,18,18,12,25,25,25,85,85,85,15,82,82,82,82,9,10,10,31,31,31,0,13,13,5,5,0,0,0,0,0,0,20,20,20,20,11,11,115,29,67,13,13,0,0,219,219,219,219,13,13,0,0,0,31,31,89,89,89,89,35,35,52,52,52,52,52,29,37,9,6,6,5,5,0,7,7,7,7,7,180,24,24,24,1068,1068,1068,4,80,80,157,157,157,24,24,24,24,121,121,4,4,4,13,13,0,10,10,10,0,36,36,36,36,36,36,36,0,81,81,0,0,0,9,9,0,7,7,0,35,35,35,28,15,15,95,95,95,0,0,0,106,106,106,45,4,4,0,0,0,0,0,42,42,21,21,9,9,22,22,22,19,19,43,0,13,13,13,22,0,881,881,881,881,881,881,881,4,4,49,0,0,0,194,67,16,10,10,0,27,27,27,0,101,0,0,0,0,0,11,11,11,34,34,4,4,9,8,8,0,0,43,154,154,7,7,29,29,4,4,4,9,18,18,0,0,144,144,0,0,18,18,0,99,99,0,0,0,15,0,0,0,0,0,12,12,12,12,22,22,7,7,0,0,39,8,17,17,4,7,7,12,25,25,36,36,36,264,264,264,4,4,4,4,0,0,21,0,0,40,36,36,0,0,0,22,22,15,6,6,6,0,8,8,4,4,4,4,6,9,9,9,0,0,63,63,63,54,54,6,6,19,12,4,213,213,213,20,20,0,0,29,29,312,312,34,34,34,34,34,0,0,22,42,42,4,59,59,24,16,0,0,0,0,0,0,10,10,6,0,0,63,63,4,11,24,24,36,7,0,10,10,7,7,50,50,0,70,70,70,5,5,33,0,0,31,31,31,0,0,20,20,18,18,33,0,0,0,0,8,8,13,0,0,24,11,11,10,10,0,0,24,21,21,21,21,21,21,21,21,21,21,21,21,63,4,4,4691,4691,4691,302,302,441,441,13,13,13,9,9,9,8,8,8,0,1319,1319,1319,1319,1319,1319,47,47,47,95,95,29,29,29,12,20,20,20,0,391,391,391,126,126,57,57,0,0,0,1114,1114,1114,1114,1114,124,124,656,656,245,245,245,245,245,245,245,0,4,152,152,51,51,51,51,205,205,21,580,580,580,580,738,738,738,297,297,297,297,297,20,20,20,365,365,8,8,8,8,8,296,296,296,296,296,0,16,16,16,297,297,297,557,557,8,8,14,324,324,42,42,42,195,195,195,195,195,139,494,494,494,494,80,840,840,840,840,15,15,3535,3535,3535,33,33,33,48,48,0,8,8,8,0,271,271,271,271,473,473,473,384,384,63,19,19,30,30,107,107,107,107,107,242,242,242,60,60,0,0,111,111,111,1918,1918,1918,1918,1033,1033,1033,14,14,14,14,14,4814,4814,4814,4814,4814,4814,4814,417,417,417,473,473,473,12,12,12,120,120,120,8,8,8,8,3577,3577,3577,3577,10,10,5,5,0,0,134,134,0,769,0,0,7,300,300,300,300,320,320,320,320,320,320,483,483,483,483,31,31,7,7,90,90,45,45,9,9,12,12,226,226,238,39,45,45,45,179,179,195,195,195,1627,1627,1627,1627,1627,1627,2377,2377,2377,5,5,5,0,0,0,0,117,117,199,199,0,78,78,58,58,216,51,51,48,48,10,10,60,60,0,0,101,101,812,812,812,151,151,151,151,17,17,17,0,0,30,30,829,829,829,829,0,0,0,917,917,917,917,0,6,6,200,200,200,200,200,200,14,14,14,420,420,420,420,37,37,12,12,12,15,15,204,204,0,0,0,20,20,435,435,435,1502,1502,1502,1502,1502,29,29,392,392,392,392,0,0,0,36,36,0,0,0,14,14,14,696,696,696,3727,3727,3727,3727,3727,29,29,29,1693,1693,1693,1693,15,15,58,58,58,0,6,6,1552,1552,1552,1552,21,14,14,14,14,56,56,223,223,223,223,223,40,40,40,40,186,186,186,186,186,35,19,25,25,90,90,90,134,134,134,134,3860,3860,3860,3860,3860,3860,200,200,0,0,8,8,193,193,193,193,21,21,81,81,81,15,1090,1090,1090,11,11,366,366,366,79,79,61,61,61,8,8,8,0,3727,3727,3727,3727,3727,10,10,10,61,61,68,68,68,0,2687,2687,2687,5,5,13,47,47,47,47,0,0,0,19,19,897,897,897,5,18,18,18,108,108,108,6,0,331,331,13,13,13,13,337,337,0,19,19,19,19,19,10,237,237,283,109,109,109,0,876,876,876,26,26,50,50,50,50,7,2618,2618,2618,2618,7,7,30,1882,1882,1882,50,69,0,0,0,0,0,0,2380,2380,2380,2380,22,22,22,431,431,431,431,431,0,0,0,0,11,4,4,0,0,0,0,57,57,57,696,696,696,696,696,920,920,920,920,26,26,26,46,46,46,46,577,577,577,577,9,9,10,10,10,10,1759,1759,1759,26,26,28,28,28,54,54,54,9,9,9,46,46,0,0,25,25,14,14,14,311,311,311,311,311,311,311,739,739,23,23,23,647,647,647,2221,2221,2221,2221,63,63,63,237,179,179,179,179,17,17,17,59,59,26,26,26,26,196,196,196,196,0,0,220,220,220,4,32,32,43,43,6,0,343,343,343,132,132,103,103,0,0,0,0,199,199,199,509,509,509,2709,2709,2709,16,16,16,46,46,46,462,462,195,195,195,332,332,332,34,1710,1710,1710,1710,75,75,75,0,0,734,734,734,19,19,19,391,391,391,391,391,391,51,51,25,25,18,0,1392,1392,1392,1392,1392,70,965,965,965,965,1422,1422,1422,87,87,0,8,908,908,908,908,202,202,202,263,699,699,699,699,0,0,15,15,74,74,35,35,35,0,13,13,13,13,479,479,0,0,327,327,327,10,10,10,392,392,32,32,32,0,423,423,423,36,36,36,36,35,250,250,250,250,0,0,17,0,99,99,99,0,29,134,9,9,0,0,1666,1666,1666,163,163,163,163,163,163,348,348,348,16,16,3248,3248,3248,3248,3248,3248,3248,3248,155,155,155,155,155,155,155,155,242,0,0,0,582,582,18,6,6,6,12,6,6,6,92,92,92,304,304,75,192,162,30,0,0,0,0,20,34,53,53,53,4,75,20,20,78,78,78,78,0,2896,2896,2896,2896,67,1322,1322,1322,1322,6,6,83,83,17,73,41,41,41,41,41,116,116,116,9,9,9,186,186,102,18,0,92,92,5,5,5,11,11,11,689,689,689,689,1741,1741,1741,1741,109,4,4,98,418,418,418,418,418,9,18,18,0,0,8,11,327,327,327,1008,0,0,49,49,0,0,0,0,30,12,12,743,743,743,765,765,4,4,47,47,22,14,14,4,4,4,4,4,5,5,566,566,76,76,76,99,99,99,18,18,18,149,40,418,418,10,10,10,56,56,56,12,18,0,551,385,5,7,98,112,112,112,0,0,0,37,37,41,190,190,190,0,51,51,1097,1097,0,1033,1033,1033,1033,0,97,7,19,19,224,224,224,101,101,353,353,0,1307,1307,1307,1307,1307,1307,139,381,381,381,152,152,152,0,0,15,15,9,9,9,0,0,0,0,1512,67,67,251,251,251,27,109,0,0,5,5,5,133,133,177,4,4,4,0,0,0,0,29,29,29,19,19,19,172,172,7,7,0,0,8,8,8,5,5,5,54,54,54,453,453,453,17,17,0,0,0,0,0,0,119,119,36,36,272,272,272,92,94,94,425,0,659,659,77,77,77,0,0,61,13,13,410,410,161,161,161,161,0,0,0,69,69,69,69,63,7,0,0,0,0,0,0,0,0,0,303,303,37,37,0,0,0,0,20,7,7,7,7,50,50,50,10,10,10,10,163,163,31,31,31,31,138,138,138,57,106,7,7,798,798,798,28,28,12,12,568,568,124,304,304,304,15,15,15,15,15,29,1177,1177,1177,1177,1177,1177,210,210,210,23,105,105,0,0,8,8,8,8,8,0,243,243,0,0,0,182,147,147,147,287,929,929,929,1028,1028,1028,655,655,275,275,9,9,9,9,232,232,232,31,31,31,9,9,9,533,533,533,533,3083,3083,3083,0,0,113,113,113,113,113,1330,1330,26,26,26,26,26,163,163,163,0,382,0,145,141,143,143,143,57,343,254,254,254,254,5,5,0,0,30,869,869,869,41,41,41,41,41,10,10,10,18,100,100,0,0,12,27,27,27,38,88,37,37,46,196,158,158,158,158,15,14,14,0,0,0,21,32,32,10,7,791,791,791,38,0,13,13,117,148,148,15,15,127,266,52,52,566,566,4,25,25,25,66,66,0,237,76,76,76,1008,18,0,0,0,0,0,37,37,1097,1097,566,566,0,0,0,149,765,765,31,31,31,31,112,112,112,0,56,56,56,7,418,418,418,418,418,327,327,327,190,190,190,0,551,817,817,817,49,49,4,4,4,4,4,385,819,1033,1033,1033,1033,257,5,7,41,18,18,18,22,418,418,40,12,7,52,52,0,0,0,47,47,148,148,148,30,9,0,14,14,7,99,99,99,5,5,98,109,51,51,248,248,248,248,6,0,0,4,4,0,0,19,19,4,4,743,743,743,10,10,10,12,12,11,97,18,18,0,0,8,158,158,158,158,0,0,0,385,12,76,76,76,266,1008,98,402,402,237,551,11,27,0,5,5,5,5,5,327,327,327,0,0,49,14,14,19,19,0,0,26,18,1097,1097,9,0,0,37,37,52,52,47,47,4,112,112,112,127,7,12,12,89,37,37,37,42,42,42,141,56,56,56,51,51,16,16,0,4,4,99,99,99,0,26,0,0,0,566,566,0,257,1033,1033,1033,1033,194,194,194,22,40,374,374,374,374,190,190,190,41,49,49,818,818,818,818,818,418,418,817,817,817,97,148,148,148,4,4,6,568,568,568,208,208,4179,4179,4179,4179,1977,1977,1977,1977,1977,650,650,419,419,262,262,577,577,577,714,714,94,94,94,94,36,368,368,368,368,157,157,157,2470,2470,2470,2470,62,62,62,227,227,682,682,682,374,374,374,374,91,167,167,65,65,65,65,326,326,326,326],\"xaxis\":\"x\",\"y\":[4,4,4,4,4,74,74,74,74,35,35,4,4,106,106,13,13,0,0,59,59,0,0,40,0,0,0,0,1845,1845,1845,1845,1,32,32,2,26,26,26,0,0,44,44,17,17,17,0,0,0,0,1131,1131,1131,0,366,366,366,9,9,2,2,8,310,310,310,0,165,165,165,9,9,9,9,55,6,120,120,189,107,107,107,107,7,7,42,42,0,0,0,30,30,33,159,24,24,14,14,5,0,0,0,232,232,232,7,7,7,0,0,357,357,357,193,193,193,193,193,32,32,0,0,0,3,205,205,205,205,3,3,90,63,941,941,941,207,207,207,207,5,7,7,7,86,86,0,0,0,0,0,62,62,545,545,545,545,72,0,0,0,0,191,191,191,191,0,0,7,0,0,177,9,9,2359,2359,2359,2359,2359,2359,2359,10,10,314,314,314,314,314,314,0,325,325,325,325,2,2,2,0,0,0,7,370,370,370,370,370,6,0,0,0,0,5,4,4,4,0,0,0,0,0,0,0,0,244,244,244,244,0,0,0,0,0,0,0,0,0,0,0,40,6,0,103,103,103,103,4,4,4,4,12,12,12,0,27,27,135,135,83,83,83,78,78,78,0,0,91,1,37,37,37,93,93,93,93,93,93,9,9,9,5,117,117,6,6,6,6,20,20,20,20,1,1,90,90,90,69,69,69,69,222,97,291,291,0,0,0,0,0,1,23,40,26,26,0,0,0,0,0,0,0,0,67,67,67,0,0,0,0,0,2340,2340,2340,2340,2340,2340,2340,0,0,0,0,0,0,0,0,0,0,1164,1164,1164,1164,0,0,54,54,54,0,13,13,13,10,10,14,14,20,20,62,21,21,1,1,10,10,10,3,9,144,144,144,12,12,225,225,0,0,1289,1289,144,144,144,21,21,0,0,7,7,0,0,0,0,0,0,33,33,33,16,16,23,23,0,1191,1191,1191,1191,1191,1191,1191,1191,8,8,8,0,9,9,148,148,148,148,148,0,25,25,1,54,54,0,255,255,255,0,0,0,0,0,0,0,0,4,4,4,0,1,4,4,1,1,0,0,29,29,1,1,1,147,147,147,147,391,10,28,28,28,28,3,3,2,2,149,149,149,0,10,10,10,30,6,6,6,0,0,0,6,6,150,150,150,5,257,257,1,0,53,53,53,159,159,159,10,10,10,26,26,2931,55,55,40,9,9,9,0,0,0,2,18,18,342,342,342,342,342,0,26,26,26,61,61,62,62,25,25,78,78,78,78,78,26,11,11,35,96,96,96,634,0,0,0,0,145,145,14,14,3,3,8,8,8,503,503,503,503,503,75,75,3,3,0,0,0,0,72,72,72,72,1,1,80,80,80,80,2,2,1510,1510,1510,0,0,0,0,10,9,9,9,1,1,28,1,1318,1318,1318,1318,0,0,0,1,1,111,111,111,111,111,52,1,1,37,117,117,117,117,117,3,0,5,5,66,66,16,0,0,9,9,9,9,259,259,259,259,259,11,5,5,0,0,2,2,2,3,4,1,1,13,13,0,14,14,0,335,335,335,123,123,3,112,112,25,3,3,3,0,0,175,175,9,9,0,0,24,0,0,0,14,14,10,10,0,18,18,123,123,123,20,20,20,10,34,34,18,18,18,18,18,3,244,244,0,0,23,23,23,19,19,19,23,23,3,3,21,21,21,2,0,0,25,25,25,25,7,7,254,1,62,62,62,62,1,991,9,0,0,0,0,0,220,220,220,220,220,220,220,97,97,97,97,97,97,9,24,24,14,24,24,60,60,336,336,336,11,11,10,10,10,10,61,61,105,105,105,15,3,3,43,43,43,43,37,37,0,0,0,30,2,12,12,12,4,4,4,4,9,9,9,5,2,2,174,44,44,5,5,5,5,2,2,334,334,334,334,334,4,4,4,135,135,135,262,262,7,7,7,7,96,96,96,281,281,281,281,141,141,141,3,3,3,318,318,318,318,318,318,318,368,368,368,0,0,0,4,4,23,23,714,19,15,15,206,206,17,17,0,0,0,5,31,31,6,6,0,11,0,0,12,4,4,4,4,0,0,0,99,99,31,31,31,5,5,44,6,6,50,50,0,112,112,112,112,0,0,0,0,0,0,0,0,0,0,175,0,15,15,55,55,4,0,0,0,21,21,21,10,10,10,33,33,33,0,24,24,7,514,514,514,514,13,13,13,13,230,230,230,230,1,1,2503,2503,2503,0,0,0,53,53,1,1,0,0,0,37,37,260,260,260,260,1009,1009,6,14,43,43,43,43,0,0,0,0,625,625,625,625,625,625,7,7,1131,1131,1131,1131,258,258,258,258,15,15,15,15,449,449,449,449,449,449,449,19,14,14,14,15,15,15,15,0,0,0,190,190,0,0,0,160,160,2,2,2,2,25,2,5,3,3,3,3,0,0,0,0,0,7,7,0,1,1,1,0,3,3,2,2,62,62,73,73,10,0,0,536,536,536,3,3,3,8,33,33,35,0,0,0,45,45,45,45,45,818,12,12,122,122,122,147,147,147,2,2,9,0,0,0,0,2,15,0,0,0,0,3,3,3,3,0,0,0,0,0,0,0,0,0,0,0,0,0,4,4,4,4,2,20,20,3,0,0,0,0,37,37,37,0,0,19,19,6,35,35,35,35,35,35,58,58,0,7,7,7,27,27,4,1,17,17,17,16,112,2,2,9,9,0,0,58,7,7,0,0,3,3,3,3,3,0,21,0,18,18,1,107,107,107,107,245,245,245,245,245,0,630,630,630,127,127,94,94,148,148,121,121,121,32,1,1,0,0,20,20,20,20,20,1,1,1,1,1,16,16,28,28,28,0,0,3,3,62,62,20,20,20,20,20,0,26,26,0,7,7,7,0,38,38,38,38,38,2,2,2,2,15,15,1,5,5,5,13,15,15,133,133,4,4,109,109,6,6,23,23,29,29,29,29,0,0,366,366,55,55,55,55,55,7,4,4,8,45,45,45,12,12,12,12,12,12,3,185,185,185,185,185,185,13,13,31,31,108,108,108,108,10,36,36,36,0,0,13,0,137,137,2217,2217,2217,193,193,193,0,0,30,30,30,31,31,61,61,61,9,9,9,513,513,30,30,30,47,47,47,36,16,16,33,33,2,72,72,5,5,5,5,66,66,0,24,24,24,24,4,52,1,1,53,89,89,17,83,83,83,399,399,399,399,399,399,28,28,0,0,6,11,11,0,0,0,0,102,0,36,36,36,36,0,98,98,98,98,2,2,17,25,25,25,25,25,167,167,167,167,167,4,34,34,34,4,4,0,0,2,115,115,7,1,23,23,23,72,51,51,112,112,112,4,4,4,4,4,4,1,98,110,110,13,13,13,12,202,202,88,0,7,7,7,9,9,9,10,10,19,18,18,34,34,143,143,143,426,426,426,6,56,46,310,310,310,58,58,58,58,58,90,8,8,4,97,97,97,6,6,626,626,626,172,172,172,172,1336,1336,1336,2576,2576,8,8,8,8,304,304,304,189,189,189,13,13,9,15,15,15,15,110,110,2,131,131,131,131,131,0,0,0,15,206,206,206,206,206,2,2,32,32,155,155,155,155,0,56,56,56,56,0,12,12,12,0,139,139,139,139,195,195,195,195,195,113,113,41,0,0,0,0,11,12,12,12,12,647,647,647,237,237,93,93,582,582,582,582,2126,2126,2126,33,33,13,13,0,0,0,0,0,0,46,130,130,130,0,0,0,176,29,29,29,29,74,74,74,74,74,18,771,771,771,771,771,771,771,830,830,80,80,80,45,45,45,45,26,26,26,0,0,0,0,0,0,0,7,0,0,228,228,228,228,7,7,7,35,35,35,35,0,925,925,925,925,32,0,0,0,0,0,20,20,80,80,344,344,344,344,1150,1150,1150,1150,84,84,5,5,5,4,4,1961,1961,1961,1961,100,100,100,100,100,28,28,28,4,3,3,3,32,32,3,56,70,70,70,22,17,17,2212,2212,2212,2212,2212,13,13,16,16,0,0,0,0,132,0,0,2,241,241,176,176,176,176,17,34,34,34,34,218,218,218,218,4,4,5,5,5,13,13,24,24,24,24,1501,1501,274,0,0,53,53,53,53,53,851,851,0,0,0,0,0,0,0,0,12,12,62,62,0,0,29,29,29,500,500,500,254,254,14,14,47,47,47,47,766,766,766,766,766,1444,1444,1444,1444,1444,30,30,30,259,259,259,0,23,7,0,0,44,44,3,3,3,3,3,3,3,3,3,3,3,5,5,5,3,3,56,56,56,56,56,4,4,4,4,0,0,12,12,76,76,277,277,277,8,246,246,246,290,0,0,0,13,13,13,13,33,33,47,47,99,99,99,99,36,36,36,0,41,41,41,4,4,4,0,0,8,7,7,7,14,14,14,0,31,31,31,0,44,44,38,38,0,64,64,64,64,2,2,2649,2649,41,41,0,0,0,47,47,163,0,0,0,0,0,538,538,538,36,36,98,98,68,68,0,0,0,128,128,128,128,128,4,4,43,43,16,16,332,7,7,7,39,1508,1508,28,28,28,28,28,0,1,58,58,58,199,199,199,199,199,101,101,101,101,5,5,426,426,426,18,19,19,19,8,8,14,14,14,14,0,0,80,80,80,48,48,387,387,1131,1131,1131,1131,3,3,3,3,44,44,24,24,1,1,106,106,213,213,213,8,44,44,44,44,28,28,15,15,0,52,52,220,220,0,39,39,39,2,2,2,131,5,5,22,22,4,4,20,20,20,2,25,25,19,9,9,40,40,40,29,29,29,0,0,80,80,47,47,119,13,13,13,394,394,394,394,0,15,2,2,9,17,896,896,896,896,896,331,331,331,5,5,0,0,604,604,604,604,604,604,232,232,232,0,0,0,0,0,0,0,263,263,263,263,263,263,263,148,148,148,56,56,86,86,2,2,145,145,145,15,15,0,23,23,23,0,55,55,55,55,55,18,18,28,28,36,36,36,36,44,5,21,1,1,3,3,3,0,2,2,22,22,23,143,143,341,341,341,51,51,51,1429,1429,1429,1429,15,6,6,6,201,201,201,3,3,48,48,48,1329,1329,1329,1329,108,108,14,14,11,11,72,72,72,18,18,186,186,186,186,186,186,45,24,12,12,26,26,26,26,2,84,84,84,71,71,71,0,0,0,40,40,74,70,70,70,70,9,40,155,155,155,0,6,0,677,677,677,677,15,15,119,1641,1641,1641,1641,42,42,42,42,42,136,136,4,4,4,926,926,926,0,0,0,12,12,12,23,23,23,23,23,1,1,1,2,2,64,64,64,64,8,8,32,32,32,528,528,528,528,528,0,162,162,162,39,39,39,39,17,17,17,17,0,0,0,0,9,340,340,340,3,1,1,54,54,18,18,38,38,4,18,18,0,0,0,8,8,0,184,184,184,184,184,59,59,59,78,78,78,78,124,124,124,761,761,761,761,761,761,7,0,0,0,0,0,0,64,64,64,0,11,0,161,161,41,41,41,39,39,39,0,0,1260,1260,628,628,664,664,664,664,16,737,737,10,10,10,558,558,558,90,90,90,90,90,2,7,7,7,1,11,11,11,40,40,18,18,18,5,378,378,378,74,74,9,3,3,3,0,0,3,3,61,61,10,10,4,4,4,48,136,136,136,136,136,22,22,95,95,95,294,294,294,294,294,294,0,0,0,0,0,18,18,499,499,499,499,499,499,499,499,36,36,0,0,0,11,11,16,16,0,0,181,181,181,181,181,181,181,181,2,6,0,0,29,29,29,24,24,29,29,11,11,9,9,0,0,0,0,38,38,38,16,16,1,3,3,15,15,0,0,44,44,44,10,10,0,0,0,20,0,74,4,4,7,7,1,1,556,556,556,0,0,0,0,0,97,97,3,3,3,3,3,5,5,26,26,26,758,758,758,14,455,455,455,455,31,31,31,131,131,8,8,845,845,109,109,1,1,9,9,23,35,35,35,35,35,248,248,248,248,248,248,0,0,0,0,0,0,0,0,0,0,0,0,17,17,15,15,0,0,5,5,0,0,0,0,285,285,285,1,2,2,2,55,6,6,0,0,13,13,13,256,256,256,1,849,849,849,849,849,18,18,2,2,2,16,16,16,2,2,0,0,230,230,3,366,366,366,366,366,47,47,47,172,172,8,8,3989,3989,3989,3989,39,5,4,11,539,539,6,0,0,78,9,9,30,1,11,23,95,95,95,55,55,55,55,55,362,362,362,362,362,2,0,0,0,0,68,68,68,68,68,2,2,2,3,3,145,145,145,109,109,593,593,593,593,65,65,15,15,15,154,154,154,3,3,0,46,2,2,2,0,0,0,2,51,51,173,173,173,173,79,79,79,0,0,101,101,101,0,0,0,27,5,9,9,9,46,46,46,85,53,53,53,230,230,230,230,230,65,65,5,5,5,0,0,78,78,78,6,6,6,6,6,10,238,238,238,238,2,76,76,0,2,2,540,540,540,2,15,15,62,62,60,60,31,31,31,0,0,0,49,49,72,72,72,72,1067,1067,1067,1067,2,27,3,3,424,424,424,424,424,26,26,62,62,8,8,82,28,28,28,142,142,35,43,43,43,43,12,12,12,12,12,0,38,38,0,0,0,63,50,50,50,21,21,64,33,33,57,57,26,26,26,26,2,32,32,0,0,36,0,56,56,56,34,34,34,1,662,662,20,20,0,101,101,101,0,0,0,0,0,0,0,0,133,0,148,1708,1708,1708,1708,1708,1708,22,18,24,24,24,65,65,65,0,1005,1005,1005,4,4,224,224,6,6,6,6,6,6,1,1,14,14,14,81,81,15,15,15,43,43,31,31,31,0,0,235,235,235,235,40,40,11,11,11,0,0,10,10,10,10,8,8,29,29,18,18,0,0,23,23,23,0,55,5,0,0,0,8,338,338,338,31,31,31,0,42,42,0,185,185,185,185,185,185,0,0,1,0,0,0,91,91,91,91,279,279,279,279,23,23,23,23,23,23,23,23,1,15,15,15,3,1,1,5,0,0,0,0,0,0,0,0,0,0,482,482,3,3,3,3,14,14,2,2,2,146,146,146,31,31,2,2,72,72,72,12,12,14,14,83,83,83,21,21,1538,1538,1538,1538,47,47,8,8,31,31,0,0,224,224,0,0,123,2,2,40,40,40,40,40,40,4,696,696,696,696,0,406,406,0,70,70,70,70,544,544,544,33,0,0,260,17,0,0,0,119,119,5,5,0,4,4,16,16,16,15,178,178,178,16,16,16,16,0,0,1,225,6,6,278,83,1199,1199,1199,49,49,49,49,151,151,151,0,90,90,62,62,0,97,97,97,97,97,97,75,75,75,3,43,43,43,122,4,4,4,972,972,972,972,0,0,0,83,83,83,83,83,38,38,22,0,0,1971,1971,1971,0,0,0,0,2,2,0,38,38,4,2,0,0,0,0,2084,2084,2084,62,7,7,384,384,384,384,0,0,0,0,0,0,12,12,8,8,1,30,2,2,2,8,8,20,0,15,15,15,17,17,7,7,7,2454,2454,2454,2454,2454,2454,2454,0,0,0,0,0,230,230,8,8,0,4,4,0,55,55,0,0,43,43,18,18,223,223,0,0,0,0,0,0,0,0,138,138,0,0,0,0,0,168,168,168,0,0,0,78,78,78,20,20,6,6,6,1,0,0,3,0,0,182,182,182,182,182,38,38,44,44,44,872,872,10,10,161,161,0,61,0,0,0,0,42,42,42,255,255,0,0,0,0,0,154,154,154,0,6,16,16,16,0,0,0,0,0,0,0,0,0,85,85,85,37,37,0,0,1,1,312,312,312,2,2,16,17,189,189,189,189,46,46,46,235,235,235,235,1,1,1,0,0,0,18,18,18,18,18,413,413,413,413,89,89,89,89,8,8,45,45,45,45,45,34,22,22,22,1135,1135,21,70,70,126,382,382,382,18,18,26,26,26,0,0,0,0,0,0,153,153,153,153,0,32,32,32,0,0,6,6,0,0,0,0,3,3,906,906,906,906,41,41,18,0,0,0,8,0,0,17,17,0,0,78,78,12,12,12,23,23,23,0,0,0,0,0,6,6,6,6,6,6,6,6,88,88,88,22,13,13,13,13,13,56,56,18,18,18,18,1,90,90,90,90,90,90,90,90,25,40,40,0,0,0,0,0,15,15,102,102,102,29,29,29,0,497,497,96,0,0,67,67,67,25,25,2,2,2,2,4,4,4,0,3,3,4,0,0,0,0,26,26,539,539,539,539,539,0,0,33,33,33,33,0,3,0,0,0,0,12,12,12,20,20,0,2,2,705,705,6,35,35,0,0,12,6,6,6,23,23,0,0,3,3,3,3,31,31,527,527,1,351,351,351,0,0,0,0,58,48,48,48,135,135,135,135,0,237,237,0,0,0,0,0,6,6,13,0,0,1,17,8,8,8,10,10,89,89,89,2,2,888,888,888,888,0,0,0,0,0,0,0,292,292,292,292,72,72,72,17,17,5,5,5,265,265,126,126,126,9,9,0,1,0,0,24,24,14,14,12,12,92,92,92,1,1,0,0,0,0,0,0,26,3,3,2,2,2,11,380,380,380,380,380,380,380,380,4,2,4,4,0,0,0,0,74,0,0,8,8,8,8,8,6,6,13,13,13,587,587,4,4,4,4,4,64,64,64,64,2,2,3,3,3,24,24,84,84,210,210,210,331,331,66,66,0,146,146,19,19,19,61,0,0,0,0,0,0,0,53,0,0,0,0,0,11,11,98,98,17,116,3,3,3,3,0,0,44,44,44,8,8,8,8,28,464,464,464,110,110,110,7,0,0,0,0,0,18,6,6,6,6,0,0,21,21,18,18,18,2,2,9,9,0,0,12,17,17,17,0,27,27,0,0,44,44,44,0,0,0,0,0,12,0,68,68,0,0,23,23,38,38,38,38,38,36,42,42,42,175,175,4,4,4,4,4,3,3,0,0,0,23,23,23,35,35,74,74,113,113,90,90,90,90,30,30,30,140,140,140,0,40,40,40,40,141,141,0,0,1,1,6,6,0,0,0,0,0,0,0,35,0,0,0,0,0,176,4,17,17,484,484,484,484,248,248,0,5,5,0,0,400,400,400,278,278,0,0,4,4,40,10,41,41,41,24,24,24,46,46,46,48,48,48,0,0,0,48,48,48,9,9,0,0,285,285,0,0,0,0,0,527,527,527,527,124,124,124,124,217,217,10,10,74,74,74,12,12,12,66,61,61,61,441,441,441,441,53,53,84,84,84,84,0,0,0,63,63,63,15,125,125,125,4,23,23,61,61,61,12,12,12,57,57,0,0,0,43,0,0,120,28,28,28,1,1,3,3,6,33,33,0,61,10,10,10,14,3,3,36,20,20,0,1356,1356,1356,1356,0,16,16,20,20,2,2,34,34,67,67,0,8,8,8,9,9,2,2,36,36,36,36,36,23,553,553,553,553,22,11,0,0,0,621,621,621,28,28,28,20,0,353,353,2,72,72,72,30,30,38,38,234,234,234,24,24,2,43,43,43,0,0,16,4,4,9,9,0,450,450,450,450,2,2,2,90,90,90,4,4,4,228,228,228,193,193,193,34,34,34,34,0,8,8,52,52,52,4,4,0,6,6,6,0,0,6,46,46,22,22,28,28,208,208,208,251,251,7,7,7,0,0,41,41,41,0,0,1,12,48,48,182,182,1,1,572,572,572,572,572,777,777,777,777,777,126,126,13,13,4,5,14,14,2,2,5,5,129,129,129,129,0,0,0,0,1681,1681,1681,52,52,52,52,0,0,0,0,19,22,22,72,72,72,77,77,422,422,422,422,1235,1235,1235,26,26,128,29,29,8,8,0,15,31,0,0,118,118,1,6,6,0,0,0,0,10,10,10,3,3,145,145,145,554,554,554,10,10,10,0,0,4,4,36,155,155,155,169,0,220,220,220,220,0,0,0,0,0,0,0,3,741,741,741,741,741,2,2,0,107,107,252,252,252,11,1,513,513,513,513,513,513,2,3,3,3,31,31,31,55,55,322,322,14,1,23,23,23,241,241,241,241,268,18,18,18,6,6,0,3,1,1,1,28,2,2,2,268,268,268,560,560,560,560,51,51,38,38,38,38,751,751,751,47,3,7,0,0,4,4,78,78,78,126,126,126,8,113,360,360,360,42,42,42,42,42,39,39,39,39,0,168,168,51,51,4,0,12,12,8,0,0,0,64,64,10,10,1,1,580,580,580,580,173,173,173,1,1,18,32,225,104,104,29,29,29,240,240,273,273,273,39,39,39,39,29,0,0,0,0,0,0,0,0,11,11,11,20,20,20,20,41,214,214,23,23,104,104,6,6,6,88,88,88,0,0,0,0,0,0,207,207,207,0,43,43,43,43,46,0,0,4,7,11,0,0,0,2167,2167,2167,2167,2167,0,26,421,421,421,421,421,141,141,141,0,0,0,0,0,0,351,351,0,0,6,6,207,207,0,0,0,0,23,0,0,0,0,170,170,255,255,58,58,33,33,33,0,0,0,0,0,18,18,18,18,751,751,0,8,8,15,15,209,209,209,13,0,0,0,0,0,771,771,771,771,771,0,1,1,0,0,0,0,0,0,0,44,44,181,181,9,9,0,0,5,5,33,16,137,137,13,13,72,72,72,72,4,4,21,155,134,28,28,0,0,0,0,0,0,122,122,122,122,122,0,0,0,48,48,3,887,887,0,38,38,32,32,278,278,278,278,2,50,971,971,971,971,971,971,971,971,4,297,297,297,16,16,16,14,20,20,3,3,48,48,48,0,40,40,35,19,178,7,7,7,4,69,69,0,0,0,0,0,20,176,0,0,0,4,103,103,103,103,2,29,29,0,34,0,0,0,83,83,83,83,1091,1091,1091,1091,1091,1091,12,85,85,85,85,0,0,23,23,0,60,60,60,60,119,119,89,89,89,89,89,0,0,1,1,1,75,75,0,28,81,81,81,78,50,50,2,2,22,22,0,0,0,554,554,554,554,0,0,0,0,0,18,102,3,3,3,3,60,60,4,4,220,220,220,220,52,52,1,1,1,0,0,194,194,194,194,194,0,0,0,72,8,8,897,897,230,230,35,35,35,89,10,10,10,111,111,3,3,3,5,5,207,207,207,572,572,572,572,7,20,22,22,28,0,0,0,0,87,87,364,364,364,0,3,3,198,198,31,31,1,22,0,0,5,5,5,5,5,571,571,571,0,0,42,74,104,104,25,25,25,0,110,110,110,110,22,22,22,33,0,0,0,138,138,134,134,72,72,21,20,118,118,0,293,293,0,0,0,0,25,25,78,0,0,0,0,121,121,405,405,405,24,24,146,146,146,146,146,0,0,0,0,0,53,8,15,0,11,823,823,823,28,0,75,75,75,75,75,75,75,2,2,0,0,0,3,3,26,26,10,10,0,0,2,2,141,141,141,0,0,40,40,36,36,0,0,1,1,1,240,240,240,240,240,13,13,13,111,111,111,111,111,111,161,161,161,116,116,116,45,0,0,0,49,0,4,4,44,44,42,22,22,8,9,9,9,0,1,1,0,0,3,13,13,273,273,61,30,30,30,581,581,581,581,34,34,109,109,109,45,7,7,7,7,0,0,0,6,6,6,6,47,47,47,1,1,23,23,0,0,23,23,74,74,2,49,49,49,0,0,0,0,68,68,68,13,13,38,38,38,38,38,4,0,67,67,67,67,31,3,3,1,1,6,21,21,9,9,0,0,87,87,8,31,31,31,31,31,3,2,112,112,112,20,0,0,0,5,5,5,0,9,0,3,3,3,51,51,9,9,132,132,132,695,695,695,695,4,7,494,494,494,494,156,156,156,0,113,32,32,32,39,39,143,143,45,45,5,0,51,51,6,0,5,5,5,5,5,62,62,62,62,15,0,321,321,4,14,14,60,60,60,60,75,75,75,75,5,5,30,30,30,61,61,0,0,156,156,156,156,156,465,465,465,465,0,3,3,3,3,0,0,41,2,0,0,54,0,8,0,0,15,15,268,268,60,60,60,2,8,8,65,22,72,262,1,1,1,72,72,72,20,68,21,0,0,0,173,173,14,14,14,56,56,56,205,205,331,331,331,331,331,154,154,90,90,0,334,334,334,1992,1992,1992,1992,1992,1992,0,0,0,0,0,0,120,120,19,19,52,14,40,40,48,48,48,0,0,1,1,36,36,36,1317,1317,1317,0,36,36,36,36,6,6,6,0,14,14,22,22,13,38,38,47,47,47,63,9,9,0,0,54,54,72,72,143,112,112,112,11,11,35,8,7,7,96,96,83,83,83,83,83,83,83,77,77,27,27,64,64,0,0,0,0,294,24,24,108,108,108,108,108,11,11,25,5,0,0,17,164,164,164,18,19,19,8,0,82,79,1457,1457,1457,1457,141,141,4,4,0,0,18,192,10,10,10,39,39,39,1,1,1,400,400,400,2,2,2,119,142,142,32,32,32,68,68,68,3,3,66,66,66,3,38,38,21,21,1239,1239,1239,1239,174,174,174,174,174,174,5,5,690,690,690,296,296,296,0,0,45,45,1603,1603,1603,1603,1603,1603,1603,1603,114,114,114,114,114,3,3,0,0,0,739,739,739,739,739,94,21,21,1,183,183,14,0,0,258,258,2,2,2,2,2,1,1,215,215,215,215,50,50,50,1276,1276,1276,1276,19,19,3,3,3,187,187,187,187,187,32,32,32,51,51,432,432,432,432,23,23,23,0,62,62,62,10,10,117,117,117,117,117,981,206,206,32,32,32,0,0,0,7,0,0,8,8,8,8,8,272,272,272,272,272,272,272,272,2,2,0,0,62,62,2,2,2224,2224,2224,2224,2224,2224,2224,235,235,444,444,444,0,0,124,124,124,609,609,609,609,259,259,8,8,8,8,108,108,108,364,364,364,8,772,772,772,772,30,30,1,1,1,1,7,346,346,346,346,56,56,56,56,56,0,23,23,23,30,30,174,174,201,201,201,201,923,923,923,923,923,923,0,0,0,0,0,0,0,0,28,13,8,169,169,169,193,193,193,193,193,518,518,518,518,23,23,23,47,47,47,10,10,453,453,453,453,453,0,13,13,30,30,30,0,11,11,855,855,855,855,485,485,485,25,25,25,25,5,5,5,1319,1319,1319,41,41,4,4,26,26,20,20,2,2,1967,1967,1967,1967,33,33,33,33,202,202,202,77,77,320,320,320,320,320,320,320,320,38,38,38,13,16,16,205,205,205,194,194,194,75,75,50,28,28,0,0,9,9,9,0,0,26,229,229,229,229,15,15,15,15,9,0,0,251,251,251,389,389,21,4,83,83,0,32,10,10,358,358,19,19,0,0,0,0,0,6,6,6,6,35,124,124,0,89,89,89,101,101,1159,0,0,96,96,96,69,69,69,3,3,0,186,186,0,0,0,0,0,4,1,876,876,876,0,0,0,0,0,0,125,125,5,5,5,296,296,296,10,10,10,30,30,4,4,4,159,159,15,15,67,67,67,199,199,199,199,199,199,1,38,0,0,64,64,64,64,3,3,3,31,31,31,457,457,457,0,1112,1112,1112,1112,1479,1479,1479,5,5,88,88,31,31,31,0,0,0,0,393,393,393,38,26,26,11,11,18,18,18,18,0,0,17,17,42,42,42,39,39,39,39,895,895,895,895,17,0,220,220,220,9,63,63,63,0,0,0,0,0,400,400,400,266,266,266,266,0,247,247,247,28,0,10,70,70,10,10,10,10,10,10,134,134,0,667,667,667,82,82,4,4,4,4,7,7,7,2547,2547,2547,1246,1246,1246,1246,2,2,2,44,0,0,0,0,0,0,0,50,50,50,50,50,3,30,30,5,5,5,1818,1818,1818,1818,1818,185,185,2,2,2,153,168,168,168,168,168,168,529,529,529,6,6,6,6,23,436,436,436,436,154,154,154,91,9,9,15,15,15,15,3,3,3,369,369,369,369,0,0,0,0,120,120,120,120,120,120,120,29,29,29,29,24,24,4,4,4,4,4,53,53,25,25,25,25,25,58,156,156,156,188,188,188,3,0,0,721,721,26,15,6,5,5,5,5,302,302,53,53,294,294,294,10,103,0,0,2,2,1,1,15,0,1616,1616,1616,16,16,1,1,49,49,49,39,39,29,29,29,29,173,173,173,0,0,0,14,14,73,73,228,228,228,143,143,143,143,385,385,385,385,33,33,1,0,0,0,575,575,575,575,575,575,214,214,177,177,177,177,177,177,177,2,2,2,39,39,39,39,39,239,239,239,239,59,59,59,3,3,36,91,91,0,0,0,0,0,3,3,0,0,0,0,41,41,101,9,42,42,42,45,45,77,77,22,22,22,819,819,819,819,819,8,8,8,68,68,0,4,5,2,2,2,10,10,21,21,16,16,16,0,0,0,0,0,145,145,145,20,20,20,20,87,87,0,104,104,53,0,0,77,77,77,77,0,0,30,30,141,141,141,121,121,240,240,1,1,66,66,66,66,66,66,30,30,30,2,2,2,56,56,2,565,565,565,565,15,15,0,572,572,572,572,119,119,60,60,60,60,3,3,25,25,25,9,9,72,72,2,118,118,4,6,6,0,3,0,0,17,17,11,11,107,107,35,35,35,3,3,3,22,22,26,26,50,85,85,35,41,41,5,5,1,1,5,5,5,278,278,278,278,83,83,83,83,83,83,83,0,14,14,31,31,1,1,1,1,85,0,0,0,0,0,0,751,751,42,54,79,0,0,10,10,10,17,17,0,0,61,61,0,0,112,112,0,0,31,1,0,0,13,13,11,11,11,563,563,563,72,72,72,0,0,0,22,22,22,8,159,4,4,554,554,554,554,48,48,48,0,0,0,0,111,111,111,111,111,111,6,6,0,0,0,0,0,1031,1031,1031,1031,10,10,10,39,39,1,1,1,47,10,10,10,10,126,126,126,3,3,0,0,0,148,148,0,49,0,0,0,46,140,140,140,8,8,50,50,50,31,465,465,465,465,122,122,122,122,122,30,0,51,51,34,34,64,64,45,118,118,21,4,4,7,7,7,2,0,0,0,3,3,6,6,3,0,0,7,72,63,56,56,0,0,0,0,2,2,68,68,68,1,1,47,47,47,47,47,0,0,0,31,31,31,51,51,33,1,1,8,52,52,5,5,5,5,5,11,11,240,240,240,240,240,0,0,1,1,273,273,273,0,0,72,72,48,48,0,8,8,2,26,26,102,18,4,971,971,971,971,971,971,971,971,9,9,113,7,7,2,1,12,12,0,0,126,126,0,0,0,18,18,18,168,168,252,252,252,0,0,0,0,11,2,2,6,6,167,167,167,167,167,61,0,56,20,61,61,160,160,160,160,32,3,0,0,0,0,0,9,9,54,54,1,12,0,0,0,1,1,0,262,55,55,60,60,60,0,0,36,52,52,10,10,10,22,22,0,0,0,0,81,81,81,741,741,741,741,741,358,358,51,51,15,1992,1992,1992,1992,1992,1992,10,0,0,161,161,161,9,0,96,96,3,3,0,0,0,7,7,34,5,5,75,75,75,75,75,75,75,0,0,83,83,83,83,0,18,0,0,1,1,143,8,8,8,5,5,5,4,4,40,40,0,0,47,47,47,4,176,223,223,223,155,155,155,887,887,1091,1091,1091,1091,1091,1091,2,2,0,0,0,0,0,9,1235,1235,1235,1,1,695,695,695,695,7,0,0,25,0,0,2,66,66,66,0,0,0,56,56,56,87,87,87,0,0,13,13,44,44,90,90,90,90,90,7,7,7,3,3,0,0,4,0,8,120,120,0,75,75,75,75,2,2,50,50,5,13,28,28,22,22,19,19,1317,1317,1317,0,0,421,421,421,421,421,0,7,0,1,1,0,76,76,62,62,39,39,0,0,0,0,0,7,7,14,14,14,20,1,1,1464,1464,1464,65,55,55,23,23,7,7,40,40,580,580,580,580,112,112,112,29,6,6,8,8,2,25,25,11,42,29,29,42,42,42,26,26,26,45,22,87,87,8,400,400,400,36,36,100,63,63,0,0,0,0,0,0,7,7,48,48,48,334,334,334,0,0,2,2,60,60,60,60,4,4,0,0,0,0,0,0,0,0,41,17,11,75,75,554,554,554,3,21,21,105,105,288,288,288,0,49,49,49,78,230,230,47,47,47,5,5,1,1,33,6,67,67,67,67,13,13,13,513,513,513,513,513,513,364,364,364,560,560,560,560,23,181,181,1,10,10,11,0,6,6,0,78,78,78,10,85,85,85,85,110,110,110,110,119,6,6,23,23,173,173,173,9,9,0,0,154,154,2,0,823,823,823,10,10,10,68,4,4,207,207,207,41,6,6,6,571,571,571,0,0,0,0,0,0,1,0,30,30,3,3,2,2,103,205,205,13,0,12,12,77,77,15,225,0,0,38,38,34,34,29,11,0,0,0,41,1,1,0,1,156,156,156,68,68,68,0,0,22,22,2,0,0,22,0,0,0,0,3,3,3,156,156,156,156,156,104,104,6,6,30,30,30,351,351,0,0,0,0,0,24,24,0,24,189,189,0,0,4,4,2,321,321,255,255,18,141,141,0,207,207,207,3,3,0,0,0,14,14,14,6,6,6,24,24,46,46,46,0,104,104,0,0,3,293,293,0,0,53,53,0,0,0,0,271,271,0,0,1,351,351,351,4,4,12,0,0,53,53,53,53,89,89,89,50,50,34,34,5,5,105,105,105,52,52,52,52,0,0,0,0,0,0,0,0,0,668,668,668,668,668,249,249,3,3,0,0,6,6,6,2,2,2,2,21,55,55,55,37,37,37,965,965,965,965,965,965,2311,2311,2311,0,0,99,99,3,74,74,74,74,74,192,192,192,192,192,192,192,0,0,0,0,0,0,0,127,127,127,36,36,696,696,696,696,696,696,14,14,14,633,633,633,633,11,11,11,0,0,3,3,3,3,0,17,17,94,94,94,68,68,158,158,158,47,1,0,0,0,48,48,48,358,358,2,2,2,582,582,582,582,582,582,582,53,53,10,10,10,10,10,95,95,95,69,69,69,36,36,41,41,41,41,1046,1046,1046,7,7,57,399,399,81,26,26,26,26,346,346,130,0,4,4,4,4,0,0,52,52,52,52,234,234,0,0,9,10,0,0,0,129,129,129,153,153,153,11,11,11,11,11,3,3,3,6,6,0,728,728,728,0,107,107,107,11,157,157,0,0,1804,1804,1804,743,743,86,86,86,86,287,287,287,287,12,12,38,38,516,516,516,12,3,3,5,13,73,73,155,42,171,171,171,579,0,0,0,55,55,38,38,0,4,4,4,4,26,131,96,96,123,57,32,1,1,1,19,19,19,19,72,72,0,80,80,6,6,4,4,4,4,0,0,2,2,2,320,15,15,15,143,143,143,143,223,223,158,158,56,56,56,144,144,144,3,0,0,0,11,11,22,22,20,20,13,13,13,0,0,633,633,633,4,4,47,47,47,47,19,9,8,2363,2363,36,36,39,39,39,15,7,7,7,196,196,196,196,196,18,18,6,6,6,4,503,503,503,503,4,4,2,2,25,25,13,13,13,107,107,107,76,76,3,3,3,3,10,10,2,2,127,127,127,127,127,127,127,1150,1150,1150,1150,23,23,23,23,34,34,34,34,2,2,2,10,10,0,58,58,58,58,58,13,13,15,15,28,28,101,101,101,101,12,0,0,0,2,2,49,49,49,49,49,49,13,13,13,0,0,40,40,111,111,0,241,241,40,16,16,163,70,70,70,64,64,2,2,6,6,6,6,6,148,148,148,766,766,766,766,766,1,1,1,2,2,28,28,30,30,30,1,1,0,0,65,65,97,97,97,16,16,4,4,37,37,37,34,34,7,7,7,0,0,18,18,4,4,4,4,0,0,10,10,55,55,55,55,55,7,7,7,15,15,42,42,42,42,42,93,93,3,3,3,16,16,16,79,11,14,14,32,32,32,27,27,2,2,18,18,4,4,4,41,41,41,11,11,31,31,31,41,41,41,41,1,1,699,2,5,5,5,33,33,2,2,47,47,47,84,84,14,29,29,29,29,1,3,24,0,0,12,12,4,4,4,108,108,90,90,90,90,90,0,110,110,32,0,3,0,56,56,0,3,3,0,0,23,23,23,2,30,1,1,1,310,310,310,18,18,0,64,64,64,64,0,0,0,21,21,5,5,5,5,86,86,39,39,39,39,0,0,340,340,340,651,651,651,12,12,12,12,6,20,20,20,3,3,18,18,1532,1532,1532,1532,1532,28,28,17,17,17,17,26,26,26,263,263,263,263,263,263,263,4,393,393,393,124,124,124,30,143,143,143,43,43,84,84,84,119,3,3,1336,1336,1336,0,0,0,131,74,74,74,74,0,0,0,0,0,0,23,9,24,24,24,24,47,47,51,51,51,4,7,7,7,63,63,63,63,0,0,11,16,74,74,74,74,74,0,215,33,33,18,18,56,56,56,56,56,8,8,8,8,8,6,6,6,6,6,36,36,36,17,17,4,6,6,2,2,36,36,36,36,66,66,9,0,98,352,352,12,12,12,106,106,41,41,0,0,98,98,8,8,0,0,0,0,0,36,36,36,36,0,0,0,0,0,90,90,90,22,22,11,13,2,8,8,0,0,0,100,100,100,100,100,2,2,143,143,13,13,13,16,16,0,3,24,24,24,24,277,277,277,10,10,10,27,27,27,22,12,12,12,52,52,0,0,0,45,45,45,45,14,14,40,40,3,3,3,7,7,7,0,139,139,139,139,5,5,5,0,1,1,15,20,20,0,12,12,12,23,23,23,4,4,176,11,39,0,0,2,2,0,0,0,31,31,51,51,83,83,83,48,48,80,80,80,14,14,14,8,8,202,202,72,72,72,431,851,851,47,47,124,124,124,143,0,5,5,58,58,70,70,70,70,15,15,15,15,0,45,45,45,45,84,84,84,84,14,14,14,14,25,25,222,222,222,8,8,8,8,8,8,8,58,58,58,58,58,62,62,0,0,30,30,30,0,0,18,13,13,7,4,426,426,426,44,44,81,40,40,40,34,34,34,0,0,7,105,105,105,1,1,1,343,3,3,0,0,0,45,0,0,0,0,453,453,83,83,0,0,0,23,691,691,691,34,34,199,11,11,0,62,62,62,62,1,43,899,899,899,899,7,7,2,1415,1415,1415,1415,1415,3,3,17,17,17,5,5,17,17,6,6,6,0,3,0,0,0,7,7,7,14,14,2,2,2,21,21,9,9,69,69,69,69,20,20,20,9,9,6,9,9,9,8,8,8,7,7,0,73,73,73,73,25,25,111,111,51,51,36,268,268,268,48,48,38,38,6,17,17,3,2,2,10,145,145,145,0,0,10,10,10,19,19,1,0,0,0,0,81,81,70,70,1,1,497,497,497,100,62,62,62,62,1,55,55,55,55,55,99,99,5,2,0,0,2217,2217,2217,344,344,344,344,101,101,0,0,260,260,260,260,104,104,104,104,635,635,4,4,0,20,20,0,0,0,0,140,140,40,40,40,110,110,20,609,609,10,10,10,10,19,19,19,74,74,68,68,68,68,68,4,4,93,93,93,93,93,93,3,3,353,353,353,353,26,26,391,0,83,83,370,30,30,2036,2036,2036,2036,46,46,0,0,0,0,0,0,1,1,463,463,463,11,11,19,19,0,66,66,66,10,10,7,7,0,0,0,8,8,13,0,40,3,53,53,0,0,194,194,0,7,7,7,405,405,405,405,405,405,405,405,5,5,6,54,54,54,70,70,70,6,6,28,28,28,148,148,148,94,4,50,50,50,223,223,0,1263,1263,2,2,51,51,2,23,77,77,77,77,77,77,77,0,0,519,519,4,91,109,109,291,291,31,31,3,78,78,3,3,3,0,20,74,74,74,74,74,74,74,16,16,322,322,322,322,68,68,5,991,0,108,108,108,2,106,106,106,106,106,152,336,336,336,38,38,55,55,55,55,17,17,58,58,1,24,24,63,205,205,205,205,75,75,75,129,129,0,0,6,6,8,8,8,0,781,781,781,781,127,127,1318,185,185,185,185,185,185,209,209,209,20,18,18,86,86,122,122,122,1079,1079,1079,1079,179,179,179,0,0,0,289,289,218,218,218,218,218,218,218,218,53,53,53,37,37,37,6,20,20,6,6,6,6,40,0,0,0,0,0,53,53,53,0,0,72,72,72,72,90,630,630,630,38,26,26,26,26,220,220,220,220,220,220,220,4,4,860,860,860,860,860,860,860,1224,1224,1224,1224,1224,0,0,0,1131,1131,1131,1131,1191,1191,1191,1191,1191,1191,1191,1191,467,467,467,467,467,368,368,368,2,2,2,2,2,33,33,15,37,12,12,12,0,0,50,50,0,0,3,169,169,169,10,10,123,123,123,97,97,97,97,97,97,104,104,5,5,5,5,0,72,72,72,72,72,72,72,16,137,137,137,137,19,19,19,53,53,53,1009,1009,97,5,1353,1353,1353,1353,1353,194,194,18,63,63,63,63,318,318,318,318,318,318,318,536,536,536,58,40,40,0,0,232,232,232,44,44,44,11,3,0,9,107,107,107,107,1318,1318,1318,1318,23,23,477,477,477,477,477,4,0,0,0,0,0,50,50,50,50,46,7,5,5,5,16,5,5,11,11,11,1,0,0,8,10,10,10,10,26,0,0,0,11,11,472,472,472,21,21,171,171,171,171,566,566,566,566,63,63,63,63,2,2,2,2,0,0,0,172,172,19,19,19,0,0,0,73,73,0,0,0,0,0,0,0,16,16,0,4,23,23,15,19,19,19,0,0,0,7,39,39,4,4,0,0,0,45,45,45,45,0,0,1,1,1,1,1,1,1,116,116,116,116,116,116,116,0,3,3,7,0,0,0,0,0,0,0,1,1,1,11,11,0,0,0,0,0,0,0,0,23,49,49,49,49,49,49,0,3,3,35,3,3,3,3,463,463,463,463,463,0,0,23,23,23,0,0,0,0,71,71,36,36,36,16,16,16,16,0,0,4,4,14,14,8,8,8,0,39,39,39,39,39,218,218,218,218,0,82,82,275,275,0,23,23,23,23,2,2,26,26,38,38,132,132,132,132,132,13,13,37,37,0,0,37,37,37,0,0,5,4,1,89,89,2,110,110,3,109,490,490,490,490,490,0,4,4,42,42,0,0,0,1,25,25,25,41,41,41,41,41,41,41,0,0,247,247,247,247,11,11,11,11,42,42,99,99,17,17,17,0,40,40,0,0,0,0,0,2,2,5,5,5,5,49,49,49,0,0,0,189,189,169,169,30,30,30,30,30,64,64,64,27,27,35,35,47,47,906,906,906,906,5,5,76,5,5,5,0,0,207,0,0,0,231,231,1,5,5,2,2,4,4,10,10,43,43,29,29,35,10,10,10,6,6,0,0,20,45,0,0,0,0,2,2,2,9,9,1,1,1,40,40,40,148,148,148,4,4,78,78,16,16,16,16,16,16,16,16,0,0,6,1,0,0,860,860,88,88,88,88,10,10,12,12,12,9,89,89,89,0,68,68,68,12,12,12,12,8,8,155,155,155,155,7,7,0,1,0,574,19,19,19,18,18,18,16,0,49,49,0,13,28,27,27,27,9,208,208,208,0,0,3,61,61,0,0,0,84,84,84,0,0,0,0,19,19,20,20,2,57,450,450,450,450,62,62,6,6,6,6,0,0,53,53,29,29,29,0,0,0,0,0,12,19,19,4,17,17,2,2,2,0,0,0,0,20,84,84,0,0,10,4,4,4,39,0,7,7,7,246,246,0,11,11,11,5,5,4,4,2,2,2,94,124,124,6,1,56,56,56,56,0,2,2,20,20,20,24,24,40,42,42,42,22,7,7,0,0,3,10,10,10,35,35,35,0,0,0,0,181,181,181,0,1,1,45,45,45,4,4,4,2,2,0,3,3,0,117,117,117,0,0,0,53,53,256,256,256,0,0,0,0,0,0,6,6,76,8,6,6,40,8,4,4,18,49,49,49,0,1002,1002,1002,15,15,15,10,7,7,7,59,59,0,0,0,0,512,512,512,301,301,301,1,1,30,30,45,45,45,35,35,35,35,211,211,211,211,2,21,0,32,32,32,68,68,46,46,46,10,10,50,50,249,249,0,0,17,17,17,8,8,3,3,79,0,0,154,154,9,9,68,68,68,68,53,53,53,79,79,79,0,103,0,0,0,90,90,90,8,8,0,12,26,26,26,0,0,86,86,86,1,1,1,0,0,0,70,70,70,70,70,0,0,0,66,66,66,66,66,11,11,22,22,18,18,34,0,95,95,95,95,0,0,0,0,0,0,14,14,14,14,5,5,5,11,11,11,11,11,33,33,33,0,0,6,6,0,0,64,64,64,1,0,0,0,78,78,1,1,31,102,17,17,202,202,202,222,222,222,222,222,9,9,9,1,8,8,8,8,8,1165,1165,1165,1165,1165,31,31,4,4,33,33,33,0,0,81,81,50,50,10,8,8,8,88,88,88,13,13,5,5,2,2,273,273,3,3,3,3,0,0,20,10,10,13,13,13,0,205,205,205,11,11,0,0,79,79,0,0,22,39,39,39,39,308,308,308,308,308,53,53,53,53,53,2,2,2,3,3,8,8,183,183,28,28,28,28,1,1,1,67,67,14,0,1,1,74,74,12,12,0,0,0,58,58,13,13,13,6,6,31,31,235,235,235,235,235,235,235,235,90,90,90,90,14,6,6,6,6,6,6,6,6,0,0,3,27,27,342,342,342,342,342,342,342,342,49,107,107,107,107,107,118,118,126,126,3,3,98,98,98,134,134,134,2,2,2,0,0,0,5,30,30,28,9,9,0,5,5,0,201,201,201,201,1,0,0,108,2,197,197,197,0,0,0,7,7,57,24,13,4,4,8,8,8,34,34,34,34,0,0,21,21,1412,1412,16,16,16,16,0,0,0,2,2,2,2,347,347,347,9,22,22,0,6,6,24,0,54,54,54,0,0,26,27,27,3,3,3,3,26,26,0,0,0,23,12,12,0,533,533,3,3,5,5,0,41,41,41,13,13,0,0,0,0,0,0,0,0,2,0,6,6,66,237,237,237,237,237,237,121,121,32,2,39,39,39,39,39,128,128,4,4,0,0,0,0,181,181,0,0,39,39,0,12,12,9,9,22,33,33,33,0,4,4,0,0,0,0,0,0,44,44,0,2,1,0,0,0,28,28,28,7,7,51,51,51,54,14,14,2,2,2,2,20,20,160,160,54,54,0,0,0,46,46,46,9,9,9,1,1,1,17,17,19,19,19,68,68,3,11,11,0,0,0,18,18,43,43,55,0,329,106,106,4,4,44,44,82,0,64,64,16,16,16,101,0,16,16,16,17,17,17,0,0,0,40,40,40,458,458,458,458,458,17,17,35,35,224,224,224,224,14,14,14,9,9,223,223,223,0,23,42,92,92,92,6,6,9,23,24,24,24,58,58,58,98,98,98,36,36,73,73,73,73,3,3,14,7,7,1,1,116,116,270,270,270,12,12,12,13,13,209,209,209,209,13,13,13,0,0,0,3,3,70,70,17,17,3,3,40,40,27,27,62,62,62,5,5,3,3,3,65,65,26,26,26,26,17,17,26,26,26,26,336,336,336,336,1,1,1,36,173,173,173,173,0,0,0,370,370,57,264,264,2,2,4,40,40,0,0,0,9,27,27,35,35,35,16,16,16,13,13,200,200,0,0,0,4,4,4,4,4,83,83,0,0,0,0,0,0,0,0,0,13,13,55,55,55,36,97,0,86,0,0,3,3,2,2,33,15,15,24,24,24,260,260,260,0,0,145,145,145,655,655,655,655,175,175,175,57,57,2,2,5,10,10,458,458,458,458,458,133,4,4,0,947,947,947,4,0,50,3,3,9,0,0,2,3,3,30,30,10,1,1,1,1,764,764,764,3,3,32,32,31,28,0,7,7,45,45,45,8,3,3,3,3,0,0,0,1,342,342,342,342,342,50,50,0,0,0,195,195,105,105,105,0,0,0,9,9,9,9,9,9,9,85,85,85,0,0,8,15,15,4,4,16,80,80,80,4,26,0,41,41,42,42,42,42,121,121,188,188,188,20,20,20,32,4,0,0,2,2,2,326,326,326,4,32,32,0,0,119,119,119,3,3,3,28,28,5,5,1,211,211,211,211,499,499,499,499,381,381,381,104,104,104,123,123,0,0,0,0,0,0,0,0,7,7,7,9,9,1,1,43,0,76,76,360,360,360,0,0,0,44,44,43,43,43,0,0,21,21,0,0,42,42,24,24,24,39,39,0,195,195,0,15,15,6,265,265,0,247,247,247,0,0,0,0,8,8,8,34,34,83,83,21,21,21,21,41,41,3,3,0,15,15,15,15,15,15,15,15,6,777,777,777,3,3,0,0,0,2,56,56,56,107,107,107,107,172,172,94,94,15,15,33,33,18,0,0,0,0,0,0,0,605,605,605,605,389,389,389,389,389,389,389,29,29,0,0,0,30,30,114,114,114,114,114,114,16,16,73,73,0,0,0,0,0,0,10,10,18,0,0,0,12,12,12,18,18,175,175,175,175,39,39,39,17,27,27,0,456,456,56,56,42,42,3,3,12,12,7,6,58,58,58,58,0,0,0,0,0,0,0,13,13,23,147,1,1,1,0,0,275,275,275,275,275,38,38,38,0,0,0,0,4,4,4,4,4,4,4,7,7,9,9,3,8,889,889,889,0,18,18,18,18,0,0,0,0,0,0,0,4,4,4,0,138,138,6,194,194,194,0,58,155,155,257,62,62,22,22,22,22,102,102,102,0,0,23,23,0,0,0,0,10,10,56,56,56,56,10,10,10,10,0,0,75,75,83,83,12,12,12,7,67,67,5,5,14,14,14,71,71,71,71,71,71,71,71,710,710,710,710,0,150,150,15,15,189,189,189,189,0,166,166,67,67,67,67,0,0,9,9,37,6,6,6,0,0,0,0,0,8,8,142,57,4,0,0,6,6,29,62,33,33,33,33,413,413,413,46,46,46,11,0,0,48,20,20,43,43,13,0,0,3,6,6,0,0,0,0,0,0,16,16,16,27,27,120,120,27,8,8,8,112,112,15,15,0,0,8,98,98,98,21,21,21,52,52,47,47,160,160,19,0,71,71,1,65,65,0,11,49,49,49,49,12,12,26,26,8,13,14,35,35,12,4,4,4,95,95,95,0,0,11,11,0,621,621,621,0,0,0,5,5,256,256,256,0,12,12,294,294,294,294,294,294,139,139,139,139,139,139,139,758,758,758,235,235,235,235,38,38,38,38,38,609,609,609,0,72,72,72,248,248,248,248,248,248,9,9,260,72,72,72,5,5,0,0,31,31,17,17,2,5,96,0,423,423,423,423,423,3,4,4,278,278,43,43,24,24,14,14,0,0,19,68,68,68,68,68,6,6,6,6,6,6,6,6,972,972,972,972,25,25,43,43,43,116,292,292,292,292,62,225,4,18,18,18,18,6,6,849,849,849,849,849,593,593,593,593,8,27,27,0,0,0,0,0,3,59,59,383,383,20,20,12,74,20,20,18,85,85,85,47,47,18,2,2,6,6,43,43,43,8,8,63,63,63,23,23,5,14,14,14,49,49,499,499,499,499,499,499,499,499,4,4,1,29,29,1,4,4,90,90,219,219,16,16,81,81,81,81,81,6,527,527,527,527,26,26,26,0,0,10,10,2,2,406,406,15,15,29,29,29,464,464,464,0,0,265,265,46,46,8,8,18,18,805,805,805,353,353,5,5,1,1,1,323,185,185,185,185,185,185,163,163,163,24,24,24,10,1067,1067,1067,1067,15,0,0,31,31,31,0,6,6,6,100,100,100,91,91,91,91,119,119,6,6,6,6,6,6,141,141,0,230,230,0,85,40,40,24,24,24,24,24,563,563,0,0,0,0,777,777,777,777,777,98,98,17,17,0,0,41,41,41,84,84,0,0,0,7,7,7,52,52,52,52,4,4,4,61,126,3989,3989,3989,3989,5,5,0,18,18,3,3,3,3,13,31,31,0,0,20,20,51,51,7,0,0,1538,1538,1538,1538,42,42,42,377,377,377,33,33,603,603,5,61,61,61,30,0,0,42,42,23,23,23,369,369,369,18,18,2,2,2,78,24,24,133,18,18,18,0,46,46,22,46,46,0,0,0,0,0,0,14,14,0,3,3,3,0,0,341,341,341,341,341,341,341,65,65,0,53,53,4,38,38,9,9,55,1971,1971,1971,38,38,279,279,279,279,4,4,38,38,285,285,6,6,95,95,95,3,51,51,51,553,553,553,553,83,495,495,495,193,193,193,111,41,41,109,109,380,380,380,380,380,380,380,380,26,58,8,251,251,12,12,12,56,56,1708,1708,1708,1708,1708,1708,18,10,10,0,11,217,217,237,237,872,872,29,29,587,587,4,4,1,28,28,145,145,145,228,228,228,29,29,9,9,0,0,38,38,38,97,97,18,18,56,56,56,25,12,12,12,12,12,46,46,46,1,1,3,3,3,3,15,15,28,28,28,20,8,9,2,2,2,2,125,125,125,36,1,1,2,2,556,556,556,15,15,0,0,30,30,30,2,2,2,2,2,2,24,0,0,33,4,189,189,189,189,4,4,4,40,40,50,50,50,55,55,55,55,55,0,0,78,78,78,0,0,0,9,0,0,0,0,0,0,0,34,34,34,0,0,0,0,10,9,9,888,888,888,888,13,13,13,0,0,0,0,83,83,83,83,83,124,124,124,124,29,29,0,0,43,43,43,2,30,23,0,0,55,55,0,40,1005,1005,1005,482,482,46,46,46,696,696,696,696,906,906,906,906,36,111,109,109,7,7,23,82,0,113,113,4,4,43,43,43,43,64,2,62,62,0,0,149,43,43,17,278,176,176,176,0,0,11,11,11,110,110,110,0,0,32,0,0,0,24,24,24,0,77,77,497,497,705,705,148,48,48,48,0,0,7,1,1,181,181,181,181,181,181,181,181,5,5,0,0,19,19,19,2,2,2,52,52,52,0,0,6,6,6,6,6,5,5,99,99,99,14,14,8,8,8,16,16,84,84,84,84,158,158,1,6,6,6,6,57,57,22,22,22,2,2,0,63,4,4,61,38,38,484,484,484,484,14,14,34,34,8,8,146,146,0,6,6,6,6,6,66,66,0,2,2,2,662,662,29,29,29,28,1,1,0,182,182,182,182,182,14,9,9,26,26,4,4,4,9,9,1,168,168,168,67,67,0,0,0,0,0,0,12,2,2,0,0,0,0,44,44,44,0,0,0,0,46,46,46,3,3,3,101,101,101,18,18,0,0,455,455,455,455,3,2,2,527,527,539,539,539,539,539,2,30,30,0,0,210,210,210,0,0,0,0,0,0,362,362,362,362,362,4,4,172,172,172,172,23,23,413,413,413,413,0,62,62,4,223,223,21,20,20,2084,2084,2084,8,8,8,8,8,137,137,122,40,40,40,40,17,1135,1135,17,17,17,135,135,135,135,4,400,400,400,23,23,23,55,4,4,0,0,0,0,235,235,235,235,16,16,16,173,173,0,40,0,242,242,0,0,48,48,48,154,154,154,0,33,33,33,33,33,129,129,129,129,0,0,0,0,0,61,61,61,1,1,0,0,31,31,31,17,17,53,10,10,0,0,2,0,0,114,114,114,114,114,114,0,0,13,35,35,35,35,35,11,11,5,5,5,172,172,8,8,65,65,65,5,5,5,312,312,312,48,48,48,0,0,0,3,3,3,3,16,0,0,0,6,6,29,29,29,5,5,7,7,37,0,10,10,10,10,159,159,0,0,37,37,175,175,175,175,50,50,1443,1443,1443,1457,1457,1457,1457,1457,30,30,30,30,0,0,0,269,269,269,7,589,589,589,589,72,31,31,31,31,31,31,31,31,32,32,54,54,54,54,318,318,318,2,205,205,205,205,205,34,34,34,34,45,45,3,3,41,41,41,95,95,95,1,1,0,88,88,88,55,55,71,71,0,0,0,4,0,0,0,0,259,259,259,259,259,259,0,0,0,0,139,139,139,139,97,97,97,187,187,187,314,314,314,314,314,314,314,314,25,25,25,4,4,3,3,1,26,0,0,23,23,1,287,287,287,62,2,18,18,18,18,11,1948,1948,1948,1948,1948,1948,1948,152,152,48,48,48,236,236,236,236,85,85,85,0,671,671,0,19,19,19,7,7,233,233,233,28,28,28,158,158,158,158,5,5,950,950,950,950,0,0,0,25,25,0,0,0,23,23,23,0,0,17,17,17,76,76,1,9,9,9,32,32,5,5,3,3,5,5,0,0,0,10,10,10,26,54,54,54,3,3,14,14,3,3,14,14,14,100,100,100,100,100,3,3,3,3,0,0,54,54,54,54,0,0,0,97,97,97,26,26,30,30,226,226,226,226,320,320,320,31,31,31,20,20,34,34,44,44,44,8,8,8,36,36,36,27,27,27,32,32,675,675,675,675,675,675,0,0,0,7,7,71,71,71,5,5,405,405,405,24,24,24,61,61,61,5,5,220,220,152,152,196,196,196,1211,1211,11,11,17,17,17,110,47,47,47,47,1,1,1,0,29,29,86,86,86,86,43,43,43,43,43,8,8,4,10,10,10,196,196,196,437,437,437,59,59,59,59,26,7,7,7,160,160,160,1,1,6,6,6,6,6,6,53,53,53,201,201,201,201,24,24,24,55,55,0,0,0,2,2,2,21,21,21,21,21,29,29,29,29,362,362,362,262,262,262,262,8,0,0,0,0,3,3,24,24,181,181,181,5,530,7,7,3,3,6,6,12,12,207,207,207,207,46,46,46,46,46,0,0,76,76,76,76,76,0,0,0,1,21,21,10,10,178,26,26,7,7,0,0,0,172,172,6,6,6,151,151,151,13,13,30,30,186,186,186,186,96,96,54,54,54,54,54,54,1370,1370,1370,1370,1,12,12,0,0,0,0,650,650,650,0,0,2,2,2,0,0,0,5,5,5,37,37,37,39,39,39,40,40,303,303,303,303,264,7,7,7,34,34,109,109,109,109,18,18,18,0,0,15,15,7,7,25,25,13,13,22,22,0,0,25,25,25,0,0,0,0,17,17,17,17,62,62,62,62,600,600,600,600,600,30,6,6,6,495,495,495,495,2,2,64,64,0,0,0,0,32,32,6,6,6,2171,2171,58,58,58,0,77,1,1,78,78,4,27,27,5,33,33,42,12,12,5,5,34,0,0,0,9,52,52,127,369,369,369,426,426,426,3,3,7,7,9,9,9,9,9,11,11,11,0,0,0,0,0,0,4,0,0,0,0,0,0,25,25,25,25,25,25,2,2,0,0,0,31,10,10,15,15,7,7,5,5,436,436,436,66,9,9,809,809,809,809,809,3,8,8,8,39,39,19,3371,3371,3371,3371,3371,3371,8,8,5,5,39,39,39,39,39,39,46,46,46,171,40,40,40,40,40,116,66,66,66,13,13,13,7,7,23,14,14,14,4,0,0,3,3,499,499,499,0,35,35,35,35,7,3,3,5,5,5,1,1,1,0,0,105,105,105,105,105,355,55,55,55,4,4,4,4,4,0,17,17,51,5,5,5,0,0,0,0,51,51,51,1,1,1,256,256,256,256,0,1,1,16,16,16,739,739,739,32,32,32,89,89,24,24,0,0,0,14,14,10,10,10,2,51,51,51,99,99,99,0,0,248,2,2,23,23,23,44,44,44,44,16,16,394,394,394,394,394,301,301,202,202,202,4,13,13,25,25,4,4,4,4,4,4,4,4,5,5,5,5,5,2,2,5,5,17,17,17,32,32,0,0,0,24,24,1,0,0,21,21,0,12,12,49,49,49,49,49,49,42,42,815,815,815,30,13,132,132,132,132,0,0,0,1239,1239,134,134,134,134,134,134,134,134,3,3,434,27,27,27,35,35,35,0,0,20,20,20,20,20,301,301,301,72,72,72,115,115,22,41,41,41,279,279,279,279,25,25,0,0,0,68,89,89,89,89,50,50,50,0,0,7,7,5,7,38,38,3,3,0,0,1,3,0,0,10,10,10,5,5,8,8,8,8,23,23,23,7,7,0,0,0,104,104,41,41,109,109,109,3,3,734,734,734,0,4,4,1,1,117,117,117,117,2,2,2,2,2,5,2,2,2,121,121,193,193,193,44,34,17,17,17,17,52,52,0,20,20,20,0,0,0,4,60,60,60,60,60,0,0,65,65,65,1,1,369,369,369,885,885,885,0,0,5,5,5,5,16,16,16,16,99,1509,1509,1509,1509,13,2,1,1,1,381,381,0,0,43,47,366,366,366,18,18,18,18,1,1,1,4,4,0,91,91,91,23,23,23,40,40,6,771,771,771,771,0,0,5,5,5,1798,1798,1798,1798,9,9,0,0,0,199,199,199,328,328,328,328,328,0,0,10,1,1,11,11,8,8,8,253,253,253,82,82,14,14,14,29,29,29,0,123,74,74,0,0,0,7,7,7,30,30,30,54,54,54,54,2,1,1,0,6,6,14,16,91,91,118,0,0,5,5,13,13,13,1,1,1,1,999,999,999,999,999,225,225,225,225,69,69,8,0,1,1,1,1,74,74,74,0,0,0,0,0,1,0,0,0,0,0,235,235,235,6,6,6,1133,1133,1133,7,36,36,417,417,417,417,79,36,36,36,187,187,187,187,187,2724,2724,2724,2724,23,23,2,2,2,2,2,2,2,2,70,70,70,50,50,50,3,3,3,3,2,2,2,0,0,62,62,39,39,1,14,14,28,28,28,39,39,33,33,33,33,2,2,3,3,3,0,0,1,1,1,1,114,114,114,6,6,49,49,49,719,719,10,10,10,0,0,0,2,2,858,858,217,217,1213,1213,0,124,0,0,0,23,23,31,31,3,3,115,115,115,32,7,7,7,5,5,5,63,63,63,63,2,2,0,0,0,184,184,184,184,3,3,3,1,1,0,0,0,4,33,33,33,53,53,140,140,140,11,11,19,19,19,19,19,13,13,1,39,4,30,30,30,169,169,132,132,35,35,0,10,10,0,0,8,8,43,43,2,2,0,0,0,54,54,54,10,332,110,110,110,22,195,195,0,0,0,2,2,2,2,2,5,68,0,97,97,8,8,438,438,438,438,438,119,0,0,0,6,6,22,0,92,92,5,5,5,7,7,7,52,52,16,16,16,16,16,4,4,4,4,0,0,67,67,67,67,0,38,38,38,0,0,5,0,0,0,42,42,42,132,132,9,9,0,0,0,0,7,7,7,0,0,0,297,297,297,0,13,13,13,13,48,48,25,25,25,25,15,15,15,15,13,13,71,71,24,24,6,0,0,15,8,8,8,218,218,218,218,218,446,446,446,446,468,468,4,8,1,1,1,160,160,21,21,7,25,25,21,21,21,3,3,0,0,27,27,27,27,27,967,967,967,967,379,379,379,379,14,14,0,104,104,104,104,104,67,67,0,0,0,2,2,58,58,20,20,20,17,17,17,17,15,15,15,20,20,110,110,84,22,22,18,18,7,7,7,91,91,0,0,0,2,65,65,65,65,3,0,0,0,399,399,399,221,221,221,221,0,2,2,0,0,27,27,27,282,282,282,282,282,282,0,0,0,0,11,11,21,21,21,21,21,21,21,0,0,54,54,0,76,76,76,76,13,13,79,79,8,8,8,0,0,0,1148,1148,5,5,5,3,3,3,3,133,133,133,4,4,9,1,82,82,82,82,82,71,71,4,4,118,118,0,0,10,10,8,8,9,9,78,78,0,0,25,25,25,25,12,12,12,0,0,86,86,86,3,3,14,14,14,21,0,0,0,5,0,0,0,103,103,1,1,125,125,125,21,21,116,116,4,63,0,0,0,0,0,0,0,0,16,16,16,0,0,0,0,32,32,32,22,1,1,23,23,23,31,31,31,31,0,0,0,0,15,15,15,15,15,13,13,13,13,29,29,29,2031,2031,2031,2031,63,63,308,308,308,37,37,5,5,5,76,19,0,0,0,0,0,0,430,430,87,87,87,9,9,9,9,52,52,52,52,55,55,55,55,28,28,28,28,7,7,6,6,40,40,40,4,3,3,410,410,410,4,4,0,0,0,20,20,5,5,5,5,19,22,22,22,1,1,0,0,0,0,675,675,675,675,27,27,27,0,0,157,157,157,157,10,10,10,198,198,198,198,198,25,25,25,0,0,3,3,3,15,15,15,5,11,11,125,125,125,125,91,91,0,0,9,36,36,0,0,14,14,23,23,12,12,0,0,3,3,3,5,5,5,5,6,6,6,0,0,0,0,0,0,0,0,0,26,26,115,115,5,5,8,8,8,8,2,2,2,11,11,105,105,105,105,448,448,448,448,23,23,23,14,14,14,14,124,124,124,9,2,2,2,3,3,0,0,0,577,5,57,57,66,66,66,9,17,17,17,46,3,26,26,32,32,24,24,0,0,1,1,1,626,626,626,626,626,9,9,9,9,9,3,3,89,89,89,89,0,0,0,6,6,805,805,805,805,805,805,805,16,16,16,16,2,2,2,15,15,15,131,131,131,131,1,1,1,1,0,0,5,12,12,27,27,27,0,482,482,482,482,19,19,19,19,41,41,41,41,41,41,41,344,344,344,344,3,0,0,20,20,20,17,0,19,19,19,19,34,124,124,66,66,66,1073,1073,1073,1073,31,31,24,24,24,7,7,27,27,47,47,47,47,0,0,96,96,96,14,14,14,102,102,32,32,1,1,5,5,34,34,34,10,11,12,12,14,14,180,180,180,33,33,49,49,49,266,266,266,31,31,31,3,3,3,3,4,3753,3753,3753,3753,47,7,7,7,5,43,43,43,86,86,8,8,0,0,211,211,211,211,211,211,44,44,7,7,7,3,3,14,14,0,23,23,56,56,56,56,476,10,10,10,10,10,10,5,5,0,0,0,0,0,0,0,690,690,690,4,4,8,7,7,7,7,91,91,91,91,6,499,499,499,499,499,499,499,30,0,0,7,7,5,5,5,3,262,262,262,262,9,9,9,9,66,66,66,56,56,56,65,65,82,82,0,0,0,15,68,68,0,0,1,1,1,293,21,21,18,1414,1414,1414,2,2,2,40,40,3,42,42,42,42,42,1890,1890,1890,1890,122,122,122,122,96,96,3,3,3,3,3,22,85,36,36,176,176,176,0,0,0,0,1,1,0,3,3,4,4,111,9,2,2,2,10,10,0,0,0,2,2,2,12,12,1,1,6,6,6,6,0,0,0,0,0,0,0,0,0,7,7,0,4,4,301,301,301,0,0,0,0,0,2,2,1,12,12,12,7,0,11,11,11,11,15,0,0,0,0,0,0,171,171,171,171,3,3,0,0,69,69,22,22,22,3,3,2,23,23,23,4,4,0,0,15,0,0,0,0,0,126,23,23,23,0,0,0,0,0,0,0,0,0,0,0,0,0,0,9,9,41,41,4,0,0,0,2,0,5,5,5,24,184,184,184,184,184,0,0,3,14,4,4,4,4,4,6,6,6,11,11,67,67,5,0,0,0,0,0,19,19,19,35,35,35,0,0,31,0,0,43,43,4,4,4,11,11,147,147,147,147,147,49,49,12,3,3,157,157,157,0,108,10,10,0,0,0,1,0,6,6,2,2,2,2,1,1,67,67,67,42,0,7,7,7,2,2,164,164,164,164,164,32,32,32,32,0,0,125,125,125,3,3,45,45,57,57,0,0,0,0,31,10,10,0,0,0,0,77,77,77,77,77,77,77,18,18,104,104,104,104,19,0,0,0,0,0,21,21,21,10,10,40,40,40,40,40,75,75,41,2,2,0,0,0,0,0,30,3,3,5,5,76,6,71,71,71,13,13,55,55,48,48,48,11,11,46,46,285,285,0,0,0,1,19,19,19,1,1,0,0,4,127,43,43,17,2,2,2,0,405,405,0,37,37,37,37,21,21,21,21,21,46,46,6,2,2,2,2,2,2,104,104,0,0,0,22,22,0,0,0,32,32,32,16,16,16,58,58,12,12,2,2,25,0,0,0,4,4,0,0,0,0,65,65,12,12,40,40,3,0,24,24,16,16,6,8,94,94,94,14,0,0,0,194,194,194,194,194,3,0,1,1,0,45,45,45,37,37,0,0,0,0,0,0,0,21,0,0,0,227,227,227,3,71,71,71,4,4,59,59,0,0,169,169,169,13,13,13,13,12,12,12,7,7,7,7,1,1,0,0,0,0,2,0,348,348,348,348,348,348,25,25,3,0,0,2,0,0,0,0,4,4,4,0,64,64,13,13,13,6,2,0,0,0,93,93,130,0,0,0,8,4,14,16,16,16,6,48,48,0,0,144,144,0,193,193,0,2,3,3,14,14,14,14,14,14,0,0,0,0,0,118,118,118,3,3,3,3,3,38,62,62,3,3,71,71,71,124,124,124,4,156,156,156,12,197,197,197,2,2,21,21,21,14,14,14,143,0,0,0,0,5,5,0,0,11,11,0,0,0,0,209,209,0,0,84,84,84,3,3,3,3,0,0,0,0,2,2,44,44,128,128,128,128,97,97,97,10,10,17,17,17,17,17,3,5,5,5,5,2922,2922,2922,11,11,11,11,455,32,32,32,3,3,3,0,0,364,364,364,9,47,47,47,87,87,49,49,49,4,4,0,0,0,0,0,2,0,0,0,10,5,5,31,8,80,0,0,0,0,15,15,0,0,13,13,13,13,13,9,9,9,102,102,102,102,102,3,3,0,98,98,98,0,0,3,3,3,3,3,3,3,0,0,0,27,98,98,98,98,16,16,16,16,2,30,30,30,27,27,0,9,9,110,110,110,0,0,0,0,1,1,0,0,0,0,0,3,3,3,1,1,39,10,10,81,81,81,81,81,36,36,36,0,39,39,15,0,0,0,15,15,27,27,7,7,7,0,0,25,25,0,0,7,4,0,6,6,6,2,2,0,0,9,9,6,6,6,2,8,8,0,0,0,0,0,0,262,262,748,748,748,748,1,1,1,7,7,7,0,0,5,6,6,6,6,87,87,87,22,0,18,18,11,11,1,1,17,22,22,22,6,6,6,12,12,12,76,76,76,0,84,84,84,109,109,109,109,26,102,102,102,102,102,49,33,33,71,71,71,71,5,5,1,1,3,3,2,2,2,2,2,17,17,3,3,6,3,0,0,0,28,28,0,23,85,85,85,0,0,0,108,108,78,78,78,31,31,6,9,9,19,19,19,0,0,0,7,144,144,144,3,232,232,232,232,16,16,1,55,76,19,19,178,178,13,13,13,90,90,8,8,38,38,38,38,0,0,0,3,3,0,0,0,80,80,80,4,4,4,0,0,0,0,0,201,201,201,201,201,201,201,9,9,8,8,4,4,0,5,8,8,2,2,0,0,0,3,0,0,37,37,37,40,40,4,167,167,167,167,167,0,57,57,57,8,8,8,0,0,7,7,70,70,70,70,5,5,5,4,0,0,0,16,111,111,30,8,9,25,25,5,5,5,0,0,0,0,0,0,14,0,0,0,3,3,2,2,2,21,80,80,80,49,49,26,26,26,4,24,51,10,0,46,46,46,15,49,49,30,17,17,17,17,4,27,27,0,15,15,15,15,14,5,5,132,132,132,65,215,215,215,215,0,0,12,0,0,0,0,0,34,34,32,27,27,7,7,15,15,15,4,4,11,0,0,0,579,0,3,3,35,35,35,70,99,99,728,728,728,0,794,794,794,794,794,794,0,0,14,14,14,127,127,127,73,73,72,72,4,4,4,4,11,11,11,11,11,1,1,1,9,4,4,4,4,1804,1804,1804,0,0,0,0,144,144,144,2,2,2,234,234,80,80,73,73,21,89,89,89,24,24,24,8,8,8,3,3,3,3,0,0,0,10,0,0,0,0,28,26,26,26,26,17,17,287,287,287,287,3,3,10,10,10,10,10,249,249,1,0,0,12,1,0,3,3,3,153,153,153,0,56,56,56,22,22,5,5,0,0,0,399,399,46,46,46,46,131,31,31,31,42,0,0,0,4,4,4,4,24,105,105,105,0,520,520,0,0,0,26,0,0,53,53,2,2,38,38,6,6,6,41,41,41,41,13,5,14,14,14,55,55,55,53,53,38,38,74,74,74,74,74,18,0,0,0,0,5,5,7,7,137,137,36,36,851,851,6,6,1660,1660,1660,1660,40,40,107,107,107,48,48,2363,2363,0,766,766,766,766,766,0,0,0,90,90,90,80,80,176,167,167,167,167,167,3,3,3,3,4,84,84,84,84,2,2,12,12,12,18,18,18,108,108,513,513,0,257,257,2,14,14,14,14,5,5,5,7,0,0,0,0,0,0,1260,1260,19,19,19,0,0,0,0,31,31,108,108,108,3,3,3,12,12,91,91,91,91,257,257,257,6,1,925,925,925,925,27,27,0,5,387,387,24,24,24,24,3,3,0,0,2,2,127,127,0,0,16,16,4,4,4,12,40,1138,47,47,8,0,2,13,13,196,196,196,196,196,341,341,341,56,56,63,63,63,63,277,277,277,13,13,13,61,61,61,3,3,93,93,3,290,13,13,13,13,7,7,7,8,2576,2576,1336,1336,1336,5,1,282,282,36,36,36,42,42,42,42,42,0,0,0,70,70,70,70,4,32,32,32,7,80,80,84,84,84,98,98,926,926,926,18,0,0,0,3,3,0,0,28,28,11,55,55,55,412,412,412,412,412,110,110,24,40,40,4,4,36,36,47,47,0,0,0,0,90,90,90,90,90,64,64,47,47,47,47,37,37,37,4,58,58,58,58,58,36,3,3,3,28,28,18,18,538,538,538,340,340,340,155,155,155,41,41,1444,1444,1444,1444,1444,4,100,100,100,100,100,4,4,4,4,148,148,148,23,23,23,98,177,177,177,177,34,34,0,0,113,113,431,4,36,36,36,36,7,7,7,2,2,4,4,4,79,109,109,109,109,109,25,25,11,11,1,111,111,44,44,4,4,4,4,99,99,99,99,0,0,5,5,5,0,0,18,2,8,8,16,16,3,3,3,0,30,16,9,9,9,0,0,0,62,62,124,124,124,4,4,9,9,9,49,49,49,49,49,49,8,8,13,13,13,46,74,74,74,74,30,30,30,0,0,0,43,43,0,1429,1429,1429,1429,6,5,5,61,61,5,5,5,5,27,27,27,68,68,9,34,34,155,155,155,155,8,8,47,47,0,0,15,15,30,30,30,3,201,201,201,32,8,8,8,8,8,8,8,8,8,0,0,0,119,22,0,0,0,0,0,57,57,26,26,26,81,82,0,0,14,14,14,47,47,47,47,141,141,141,25,25,67,1251,1251,1251,1150,1150,1150,1150,3,1,1,1,7,7,7,4,4,39,39,39,32,32,46,115,115,90,101,101,101,101,23,4,4,4,41,41,41,0,0,48,48,48,0,0,0,14,14,47,47,47,22,22,13,2,2,163,6,6,6,45,45,45,45,26,220,220,5,5,256,256,256,106,106,11,0,54,54,83,83,83,9,9,9,70,70,70,1641,1641,1641,1641,30,30,30,17,0,0,7,7,2,0,228,228,143,143,17,13,13,13,1357,1357,1357,139,139,139,139,9,15,2,124,124,124,18,18,37,37,14,14,20,20,664,664,664,664,8,8,13,13,0,133,218,218,218,218,130,130,130,52,52,361,361,361,361,24,24,24,24,0,0,0,0,0,0,9,84,84,2,2,116,116,116,116,8,0,0,3,3,3,39,39,39,131,10,10,393,393,393,2,2,38,38,38,38,36,36,36,36,215,131,131,131,131,131,1,31,31,31,29,29,29,503,503,503,503,86,86,18,18,139,139,139,139,139,139,139,0,234,234,10,10,15,15,15,15,158,158,1,1,45,45,45,45,6,6,56,56,56,56,56,20,20,20,0,4,39,39,39,39,4,4,2,2,2,2,2,17,17,17,17,202,202,1,1,1,80,80,80,0,8,34,34,34,34,651,651,651,41,41,41,41,0,0,0,15,15,2,2,71,71,71,0,0,0,10,10,51,51,51,0,0,0,40,40,40,276,276,276,276,276,276,222,222,222,24,24,24,24,24,0,0,0,16,16,16,34,34,34,28,28,127,127,127,127,127,127,127,2,2,24,24,24,24,7,7,7,72,72,72,113,113,113,113,113,528,528,528,528,528,33,33,23,23,23,310,310,310,29,29,29,29,426,426,426,263,263,263,263,263,263,263,44,44,2,2,22,22,20,20,58,58,58,37,37,37,664,664,4,4,48,87,87,14,14,0,22,22,22,173,173,173,5,5,5,8,8,41,41,20,20,20,9,0,0,0,1,1,108,7,7,7,29,29,10,8,1,32,32,32,0,110,83,83,232,232,232,855,855,855,855,305,305,305,305,1369,1369,1369,26,26,26,64,64,64,8,8,8,7,7,10,10,47,47,67,67,61,61,61,13,32,32,32,11,0,53,53,0,67,67,67,0,0,12,153,242,242,242,0,0,0,0,296,296,296,37,37,37,37,14,14,111,111,3,3,0,0,256,256,33,33,64,64,64,7,7,819,819,819,819,819,5,2,2,11,11,1,1,1,1,43,43,0,1962,1962,1962,1962,1962,1962,251,251,251,0,2,2,2,294,294,294,294,609,609,609,609,90,90,90,90,59,59,59,59,59,59,59,59,158,158,4,0,5,5,5,3,3,7,2,2,14,14,14,5,5,23,23,3,3,24,24,24,24,296,296,296,123,123,123,123,123,123,0,0,6,6,6,0,0,8,4,4,4,4,0,0,7,101,10,10,10,0,317,317,317,317,0,0,23,23,1914,106,106,96,23,23,17,17,17,138,138,64,64,2,2,0,30,30,0,0,736,736,736,736,0,0,2,2,2,2,15,15,15,24,0,33,33,40,20,20,0,0,3,3,38,38,0,0,0,28,0,4,21,21,21,21,1,4,4,4,4,62,62,62,11,0,0,0,5,5,5,5,139,51,51,306,306,306,2,2,393,393,393,3,3,3,0,186,186,31,31,0,0,4,189,5,5,5,33,164,164,164,9,9,9,1818,1818,1818,1818,1818,0,0,0,0,4,4,4,4,23,23,0,230,230,230,230,0,77,77,294,294,294,0,0,0,3,3,739,739,739,739,739,1,1,1,143,143,143,143,7,7,7,20,1,1,109,109,109,109,5,5,2,2,2,3,8,8,8,0,2,2,2,0,0,236,236,236,236,8,8,3,22,22,22,3,3,1,21,21,21,0,0,0,0,0,1,1,1,3,0,0,1116,1116,1116,1116,369,369,369,369,27,27,53,53,358,358,18,18,18,13,13,21,21,0,6,6,6,5,5,256,256,5,1603,1603,1603,1603,1603,1603,1603,1603,4,4,4,62,15,15,15,15,0,58,62,62,301,301,301,301,301,10,10,10,10,125,125,125,125,4,4,606,606,606,606,4,4,4,10,81,81,32,32,32,6,0,0,0,0,0,0,0,20,20,47,1616,1616,1616,110,110,8,8,7,7,7,96,96,96,2,0,0,0,20,20,20,20,24,24,7,7,0,11,11,11,518,518,518,518,13,13,5,5,5,0,7,7,7,457,457,457,6,6,6,191,191,191,2,229,229,229,229,29,29,1,1,8,8,8,34,34,34,34,2,1,2,2,2,31,31,31,31,4,14,14,0,57,7,13,10,0,0,0,0,41,41,10,41,41,2,91,91,91,0,3,3,3,0,0,0,206,206,2224,2224,2224,2224,2224,2224,2224,19,19,19,3,26,0,0,0,88,88,72,154,154,154,13,13,11,147,147,13,24,24,24,23,23,60,60,3,3,3,14,14,11,11,6,7,7,10,10,42,42,42,529,529,529,7,0,0,0,103,103,103,103,103,119,119,119,119,22,22,22,22,6,35,1,1,1,112,112,31,31,31,30,3,3,0,35,35,55,55,32,0,0,0,0,0,4,6,6,2,2,73,73,51,75,75,0,13,13,8,34,34,4,6,6,6,6,10,10,995,995,995,995,995,7,0,22,22,145,145,1,1,1,0,95,95,15,89,89,89,105,105,105,103,0,0,0,0,21,215,215,215,0,0,97,97,31,31,31,15,15,30,20,20,56,56,56,56,56,74,74,26,26,26,26,26,72,72,72,72,168,168,168,168,168,0,247,247,247,320,320,320,320,320,320,320,320,0,0,235,235,35,35,35,659,659,659,659,659,659,0,2,2,63,63,63,2547,2547,2547,347,347,347,347,43,43,43,0,0,0,0,848,848,848,8,5,5,13,5,5,5,375,375,375,8,313,313,313,313,0,0,0,0,0,0,3,3,3,12,12,12,57,57,4,4,0,0,0,0,0,1246,1246,1246,1246,36,36,36,48,0,26,26,16,16,1,1,1,36,36,36,17,17,17,46,46,46,46,751,751,751,751,751,0,0,0,3,3,3,1,0,0,20,20,10,11,11,11,23,23,3,3,0,27,10,10,10,10,70,70,70,0,34,34,34,34,1174,1174,1174,1174,53,53,53,14,14,14,14,14,21,43,31,31,31,31,31,31,31,31,5,5,5,5,5,105,105,105,105,105,68,68,68,67,30,30,30,65,65,65,8,8,8,8,63,63,63,7,7,7,30,30,299,1,1,1,8,8,8,8,3,3,54,54,54,13,13,13,8,1,1,41,41,41,41,31,0,0,0,0,5,5,0,2,3,52,52,52,47,18,18,18,60,60,60,60,67,67,291,291,291,15,15,194,194,25,4,4,4,24,24,24,24,7,7,0,7,9,9,9,9,9,9,9,12,12,43,43,43,80,14,14,14,2,2,2,22,22,0,13,11,11,11,43,43,0,0,9,126,126,126,126,126,8,8,2,2,0,0,0,12,20,20,3,2,2,2,0,0,10,10,10,19,19,51,51,389,389,389,12,12,12,12,116,116,116,2,2,4,1,0,0,0,0,0,0,0,2,2,123,143,143,143,143,11,696,696,696,696,696,696,0,0,0,68,68,14,14,14,80,80,70,0,41,41,36,36,80,80,4,4,4,4,794,794,794,794,794,794,4,4,4,4,0,249,249,26,17,17,1804,1804,1804,7,7,234,234,89,89,89,13,13,13,12,81,10,73,73,38,38,48,48,48,137,137,2,2,83,83,83,346,346,53,53,3,26,26,26,26,0,0,105,105,105,43,43,0,0,22,22,133,0,0,579,0,0,0,0,0,0,35,35,35,3,0,633,633,633,53,53,52,52,52,52,57,53,53,4,4,4,4,14,14,14,5,5,3,3,0,0,55,55,55,130,21,24,24,24,36,36,0,0,0,728,728,728,158,158,158,1046,1046,1046,28,74,74,74,74,74,3,3,3,204,87,87,87,87,287,287,287,287,2,2,2,27,27,10,10,10,10,10,56,56,56,131,6,6,2311,2311,2311,11,11,11,11,11,0,0,0,0,0,69,69,69,127,127,127,129,129,129,192,192,192,192,192,192,192,0,0,0,0,0,72,72,35,99,99,11,11,346,346,346,520,520,12,12,407,407,32,46,46,46,46,44,320,0,0,0,157,157,24,582,582,582,582,582,582,582,20,20,2,2,2,31,31,31,0,0,0,8,8,8,105,105,105,94,94,94,13,42,18,1,1,16,42,42,42,42,72,72,72,72,1581,1581,390,390,390,536,536,536,28,28,28,51,51,51,478,478,39,39,165,165,165,165,165,27,27,0,11,47,47,47,1,1,1,1,351,351,351,351,972,972,136,88,88,41,41,305,20,0,0,0,26,26,1,1,372,8,0,65,65,31,31,243,243,243,243,243,243,3,28,28,28,116,116,116,116,18,18,23,69,69,69,69,158,0,1356,1356,1356,1356,16,30,30,30,7,986,986,23,23,23,3,94,0,0,0,0,938,938,938,938,938,117,117,117,1133,1133,1133,224,224,0,581,581,652,652,0,35,35,35,131,131,131,131,1,1,0,0,243,243,243,243,2,2,2,1,1,569,569,569,569,0,405,405,405,7,7,7,3,3,3,1306,1306,1306,1306,30,30,228,228,246,246,246,246,246,8,35,35,35,35,35,12,32,84,84,84,84,84,84,25,25,7,51,51,51,0,0,977,977,977,977,977,461,461,133,99,8,137,137,137,137,137,177,177,177,23,23,23,23,54,54,54,24,24,29,29,20,20,20,9,0,0,137,137,137,137,409,409,0,0,525,525,525,23,23,23,58,256,256,34,34,140,1061,1061,34,34,997,997,997,997,4,13,13,13,126,126,126,11,11,81,81,81,81,81,0,0,1200,1200,25,25,25,25,171,171,59,59,0,0,2303,19,19,19,19,439,439,46,46,548,548,548,548,548,0,0,0,707,707,707,707,279,279,279,16,16,16,506,506,1589,1589,1589,1589,1589,0,208,208,3,156,156,156,156,156,156,0,7,0,246,246,246,246,51,51,51,51,51,0,6,4,4,4,53,53,53,19,983,983,983,5,5,5,79,79,79,8,8,8,250,81,81,81,81,81,12,12,8,8,273,2,2,139,139,139,7,7,0,0,1,1,1079,1079,1079,1079,1079,1079,1079,35,35,35,35,35,60,60,567,567,567,567,567,11,25,25,25,25,25,221,221,221,221,26,26,26,26,26,20,992,992,201,201,201,201,201,201,50,8,8,8,467,467,467,467,0,0,0,726,726,726,726,58,498,498,498,17,17,17,17,76,76,218,218,0,0,0,0,1,0,391,391,391,391,270,270,1,11,11,324,324,324,334,334,16,16,16,168,168,45,387,387,387,387,21,0,0,0,140,140,140,140,140,140,140,84,84,84,84,84,0,231,231,231,231,231,2,34,34,34,763,763,763,763,220,220,2203,2203,2203,113,113,0,0,9,9,1,1,46,46,46,3,3,48,48,251,1172,1172,1172,9,9,9,767,767,0,31,31,31,64,64,64,64,242,242,153,153,153,4,0,0,0,0,3,11,192,192,1130,1130,1130,186,186,186,186,186,186,23,840,840,840,840,840,85,85,85,511,0,0,0,0,0,0,161,161,79,79,79,79,79,19,19,71,71,71,71,34,34,0,971,971,971,85,85,25,25,25,24,24,24,371,371,371,371,114,114,18,0,130,130,2155,2155,2155,2155,800,800,800,88,88,88,883,883,883,883,42,42,553,553,553,553,2,1,1,11,424,424,424,9,9,2,2,2,28,28,75,75,75,1,7,0,198,354,0,175,175,175,60,58,58,20,20,4,1,1,57,57,57,3337,33,33,49,49,49,0,0,0,0,22,22,22,1979,1979,1979,1979,0,0,0,0,23,9,11,1252,1252,1252,1028,1028,1028,1028,1028,18,18,18,543,543,602,299,299,299,299,4,4,240,240,240,240,0,54,54,54,302,302,0,0,23,23,109,109,109,109,109,109,2567,2567,2567,2567,21,21,21,89,18,186,186,186,1734,1734,1734,14,926,926,57,114,114,114,9,296,296,296,0,0,0,27,27,34,34,34,34,183,183,183,1199,1199,1199,1199,1199,1199,1199,2,2,27,27,27,47,47,47,14,266,266,266,22,22,94,94,0,0,0,35,35,35,189,189,189,189,0,0,271,271,16,16,0,16,16,16,25,25,25,79,79,328,328,41,41,41,30,0,0,113,113,0,0,0,33,104,0,0,0,0,189,189,189,189,189,189,704,704,704,704,0,0,99,99,99,766,766,766,9,9,1225,1225,1225,1225,72,72,42,42,17,58,184,184,184,135,37,37,37,91,91,91,316,316,316,316,162,1,1,1,0,0,0,18,18,18,18,10,10,357,357,357,357,90,90,508,508,508,508,53,53,887,887,887,323,323,323,4,4,0,89,89,89,89,3,3,3,26,26,26,26,26,128,128,128,128,128,128,0,75,75,40,40,40,0,0,0,1787,1787,1787,1787,1787,1787,1787,261,261,261,261,261,261,261,261,45,212,212,1130,1130,1130,1130,4966,4966,4966,4966,4966,4966,323,323,323,323,30,30,0,0,0,32,32,214,214,214,214,214,14,14,14,14,0,0,43,1,81,81,81,41,41,41,54,54,0,293,293,36,36,68,68,570,570,570,422,422,422,422,2483,2483,2483,2483,2,44,44,44,44,57,57,17,17,17,17,24,10,4,4,20,2,2,2,2,2,0,0,0,3,9,9,47,47,47,47,8,147,147,147,147,147,4,0,68,12,12,12,12,143,143,1,5,5,1,1,1,245,0,3,2,1,1,3,3,24,24,24,0,0,0,0,0,0,0,25,25,25,0,0,0,150,150,150,1,22,22,22,1,33,33,33,30,30,0,0,2,2,59,59,59,0,4,3,9,39,39,39,39,0,0,17,17,10,10,10,0,7,7,4,4,4,0,0,0,0,0,164,164,164,164,27,27,27,27,16,16,16,33,165,165,4,4,47,336,336,336,336,336,25,25,25,25,25,25,25,25,502,502,502,1,3,3,84,84,0,0,0,204,204,0,0,0,1095,1095,1095,294,294,294,294,294,43,43,43,43,0,0,11,11,44,44,44,0,0,4,4,115,115,0,0,0,3,3,64,89,89,410,410,0,0,0,0,8,8,8,8,0,0,0,0,56,56,172,0,30,30,238,238,23,681,681,681,71,25,0,0,0,124,124,106,106,106,106,6,6,6,43,0,0,91,91,11,11,14,14,8,0,0,0,0,0,0,0,0,0,29,29,9,9,9,176,176,176,176,23,23,0,57,57,0,0,0,0,0,0,0,0,24,24,35,35,35,35,305,305,305,305,305,12,2,2,291,291,291,10,10,10,42,42,42,42,42,0,13,13,62,62,62,160,160,160,107,107,107,107,6,45,45,0,0,0,0,0,130,130,130,12,12,23,1,1,1,0,113,113,113,113,30,30,30,21,21,88,88,102,102,102,102,397,397,397,397,0,0,0,23,23,26,26,26,78,78,40,7,7,0,310,310,10,10,74,74,74,74,5,41,41,41,10,22,22,22,0,0,0,0,3,3,0,37,37,7,7,7,7,7,0,0,0,0,0,0,0,27,27,9,0,63,318,318,318,21,21,138,138,138,138,13,13,90,90,415,415,5,5,5,5,471,2,1,1,0,0,0,0,0,2,2,0,0,196,196,196,196,426,426,426,426,426,1,1,139,139,281,281,20,0,0,0,0,0,52,52,73,73,73,73,0,92,92,92,92,92,92,285,285,0,142,142,30,30,24,24,24,24,24,0,0,377,377,377,377,377,16,16,16,7,7,150,150,150,150,0,11,11,125,125,2,2,3,3,14,14,0,32,187,187,187,0,0,0,0,0,135,0,0,0,0,0,0,0,0,0,2,2,3,3,103,103,103,105,105,42,137,137,137,137,0,0,2,162,162,162,162,249,249,9,9,30,30,126,126,0,0,20,20,122,0,0,0,66,0,0,414,414,414,414,4,14,14,5,5,5,0,88,88,6,6,1,1,364,364,364,0,0,0,530,530,530,0,0,210,210,210,0,290,12,12,0,0,6,0,18,18,18,3,3,3,44,282,282,0,0,0,27,18,18,0,0,0,0,0,0,0,131,131,131,131,131,2,14,14,62,62,62,2,2,0,18,18,2,2,2,2,4,0,0,0,0,0,79,79,21,21,21,0,0,419,419,27,27,27,34,34,34,0,0,0,3,3,0,0,0,2,2,32,32,228,228,228,228,0,171,0,0,118,8,8,8,152,152,152,515,515,5,5,0,0,0,84,84,84,0,90,90,96,96,96,0,0,0,0,0,3,0,234,234,234,2,22,22,16,15,1,53,53,0,307,307,11,11,0,0,0,0,0,0,0,3,3,721,721,0,0,41,41,41,41,513,513,513,513,513,0,0,0,127,127,0,0,0,0,4,4,7,7,19,19,19,19,19,5,335,335,18,18,0,0,0,0,0,0,0,0,1,1,6,1,1,18,0,0,0,137,137,137,27,27,5,5,5,0,0,14,14,14,14,11,11,5,5,21,21,21,21,0,10,10,23,23,0,0,0,0,0,12,12,133,133,133,133,7,7,2,2,0,0,0,38,38,38,0,0,12,12,5,74,74,0,0,0,0,0,0,3,0,0,1,1,0,0,88,88,0,31,31,31,212,212,212,212,246,246,246,34,4,4,4,1,8,6,6,2,2,17,17,2,2,0,171,171,276,276,0,0,0,3,13,7,7,285,285,285,20,20,20,20,20,0,0,320,320,320,320,320,320,320,1,10,0,0,0,0,177,177,11,11,0,5,5,20,20,17,17,0,5,5,4,4,0,0,0,0,0,13,13,12,12,0,111,111,111,111,75,75,75,75,75,525,525,525,525,0,0,0,12,12,86,86,3,3,7,7,7,0,1,1,229,229,6,233,233,0,0,0,29,0,7,7,7,0,10,10,0,0,532,532,532,532,532,390,390,3,3,123,123,2,2,2,69,69,69,256,256,256,256,8,8,34,34,0,0,0,4,4,4,6,6,2,49,49,2,2,2,95,95,95,0,0,0,0,0,155,0,23,176,176,176,15,15,58,58,58,1,1,4,4,10,5,5,5,0,0,0,0,0,0,40,1,94,94,94,94,4,99,14,14,5,5,0,0,0,5,5,139,139,139,3,3,0,0,0,4,4,0,0,0,51,51,51,11,11,1877,1877,88,88,88,88,19,28,28,28,28,474,474,474,474,474,126,0,0,95,95,0,0,119,119,119,0,217,217,217,14,14,16,17,17,71,0,0,25,25,25,25,3,3,13,13,13,12,12,0,0,2,134,134,134,134,134,134,134,113,113,0,17,17,0,3,3,3,309,309,5,5,5,5,34,34,34,34,34,4,4,467,467,467,467,0,2,2,2,10,38,38,38,5,5,0,2,2,146,146,146,146,359,359,359,359,359,9,9,26,26,26,0,0,88,88,88,88,88,68,68,68,9,9,4,2098,2098,2098,2098,0,97,97,97,1,1,5,26,38,38,38,38,48,23,23,22,22,20,2,48,48,18,24,24,24,24,16,16,72,72,0,14,0,0,0,0,0,0,2,2,2,2,291,291,291,0,136,0,0,3,3,95,95,95,205,205,205,205,205,0,0,0,0,0,30,0,0,9,9,4,4,4,511,4,4,40,40,30,30,30,139,139,139,139,139,139,206,206,206,206,2,2,2,19,19,19,19,19,4,1,1,1,28,475,475,475,475,475,10,10,4,4,4,4,1,3019,3019,3019,9,7,1,0,0,158,402,402,402,0,67,67,3,7,7,7,7,1,1,418,418,14,2,152,152,0,0,11,13,13,32,32,0,0,4,4,0,0,0,0,0,0,0,0,21,21,3,0,0,0,0,0,3,3,3,0,0,2,2,57,57,37,2,2,29,29,29,29,29,29,29,29,2,47,47,47,47,0,0,0,0,0,0,21,21,0,3,9,9,549,549,0,0,0,0,0,8,0,76,76,76,76,142,142,142,142,0,0,0,258,258,258,0,0,188,188,14,14,2,0,0,0,3,3,104,104,46,0,0,0,41,41,41,41,0,0,168,168,250,250,250,250,129,0,0,2,6,6,6,6,0,0,4,12,12,12,0,0,56,0,0,23,23,23,15,49,49,6,6,6,0,17,17,0,699,0,0,0,0,59,59,10,10,0,0,2,2,5,5,55,55,55,44,44,107,107,107,107,107,107,107,31,31,190,0,0,0,0,0,6,6,30,30,30,30,0,0,0,13,5,5,108,15,15,0,0,0,0,0,41,41,16,16,16,4,4,63,63,63,0,36,36,36,36,0,0,0,0,0,35,35,35,35,81,81,1,1,1,1,1,1,3,38,38,0,0,0,0,0,0,0,0,0,0,3,3,316,316,316,385,385,385,0,0,47,47,47,47,84,84,84,84,84,21,21,0,0,0,0,0,0,0,0,0,0,0,30,30,30,113,113,113,113,113,113,1,1,1,1,101,101,101,101,0,0,6,6,22,22,0,0,16,16,16,16,7,7,7,12,12,0,0,0,0,0,0,0,7,7,7,0,0,10,10,10,8,4,94,94,94,94,94,8,8,5,10,10,3,0,0,7,0,5,2,3,0,0,160,160,160,3,7,7,3,7,7,0,30,30,30,0,53,53,1,0,0,0,0,0,118,118,0,0,0,0,0,0,0,0,0,7,0,0,4,4,4,4,7,7,0,0,0,0,44,0,0,0,5,5,5,5,2,2,1,6,6,6,6,0,0,0,0,13,13,0,0,0,80,80,80,11,11,11,11,0,0,0,68,68,0,0,23,23,23,23,12,12,0,108,108,4,4,4,7,7,7,28,28,28,8,23,23,23,23,0,2,2,6,6,6,0,1,1,2,2,0,0,0,0,0,0,4,4,4,4,5,5,2,11,1,1,1,0,0,132,132,132,132,6,6,0,0,0,8,8,28,28,28,28,19,19,26,26,26,26,26,10,16,1,4,4,3,3,0,2,2,2,2,2,125,7,7,7,208,208,208,2,11,11,80,80,80,7,7,7,7,22,22,1,1,1,5,5,0,2,2,2,0,25,25,25,25,25,25,25,0,70,70,0,0,0,1,1,0,2,2,0,17,17,17,9,0,0,31,31,31,0,0,0,32,32,32,5,1,1,0,0,0,0,0,8,8,6,6,0,0,7,7,7,2,2,13,0,5,5,5,11,0,291,291,291,291,291,291,291,1,1,8,0,0,0,35,49,5,8,8,0,25,25,25,0,35,0,0,0,0,0,3,3,3,3,3,0,0,1,2,2,0,0,8,39,39,2,2,13,13,2,2,2,2,4,4,0,0,86,86,0,0,12,12,0,87,87,0,0,0,3,0,0,0,0,0,6,6,6,6,8,8,0,0,0,0,9,4,5,5,2,4,4,1,18,18,8,8,8,139,139,139,2,1,1,1,0,0,18,0,0,20,3,3,0,0,0,2,2,9,1,1,1,0,4,4,2,2,2,2,0,1,1,1,0,0,31,31,31,17,17,0,0,2,2,1,96,96,96,2,2,0,0,7,7,63,63,14,14,14,14,14,0,0,2,15,15,1,10,10,2,0,0,0,0,0,0,0,6,6,2,0,0,27,27,0,5,6,6,5,2,0,4,4,2,2,23,23,0,60,60,60,4,4,15,0,0,14,14,14,0,0,4,4,11,11,8,0,0,0,0,3,3,4,0,0,20,4,4,3,3,0,0,3,3,3,3,3,3,3,3,3,3,5,5,5,7,1,1,2547,2547,2547,138,138,259,259,10,10,10,1,1,1,5,5,5,0,659,659,659,659,659,659,23,23,23,53,53,11,11,11,1,5,5,5,0,220,220,220,70,70,13,13,0,0,0,453,453,453,453,453,56,56,183,183,120,120,120,120,120,120,120,0,3,81,81,29,29,29,29,47,47,15,317,317,317,317,400,400,400,168,168,168,168,168,5,5,5,206,206,4,4,4,4,4,187,187,187,187,187,0,7,7,7,205,205,205,358,358,4,4,4,125,125,14,14,14,117,117,117,117,117,74,294,294,294,294,35,399,399,399,399,10,10,1631,1631,1631,23,23,23,16,16,0,3,3,3,0,143,143,143,143,294,294,294,214,214,23,9,9,15,15,56,56,56,56,56,108,108,108,30,30,0,0,61,61,61,1112,1112,1112,1112,485,485,485,8,8,8,8,8,2224,2224,2224,2224,2224,2224,2224,247,247,247,306,306,306,9,9,9,89,89,89,7,7,7,7,2640,2640,2640,2640,5,5,0,0,0,0,23,23,0,319,0,0,6,201,201,201,201,168,168,168,168,168,168,229,229,229,229,23,23,2,2,45,45,30,30,4,4,8,8,124,124,153,21,12,12,12,91,91,124,124,124,923,923,923,923,923,923,1479,1479,1479,3,3,3,0,0,0,0,77,77,74,74,0,33,33,13,13,101,21,21,22,22,3,3,39,39,0,0,29,29,457,457,457,86,86,86,86,5,5,5,0,0,14,14,432,432,432,432,0,0,0,385,385,385,385,0,3,3,123,123,123,123,123,123,2,2,2,264,264,264,264,13,13,4,4,4,2,2,95,95,0,0,0,8,8,91,91,91,819,819,819,819,819,20,20,266,266,266,266,0,0,0,17,17,0,0,0,7,7,7,296,296,296,1818,1818,1818,1818,1818,7,7,7,1239,1239,1239,1239,10,10,39,39,39,0,5,5,855,855,855,855,10,6,6,6,6,20,20,103,103,103,103,103,29,29,29,29,114,114,114,114,114,8,7,7,7,35,35,35,73,73,73,73,1962,1962,1962,1962,1962,1962,13,13,0,0,6,6,90,90,90,90,11,11,43,43,43,4,667,667,667,2,2,232,232,232,39,39,32,32,32,3,3,3,0,1819,1819,1819,1819,1819,6,6,6,33,33,26,26,26,0,1319,1319,1319,0,0,8,24,24,24,24,0,0,0,10,10,529,529,529,2,10,10,10,63,63,63,4,0,186,186,2,2,2,2,209,209,0,4,4,4,4,4,0,134,134,139,32,32,32,0,364,364,364,9,9,34,34,34,34,3,1246,1246,1246,1246,2,2,4,848,848,848,30,38,0,0,0,0,0,0,1116,1116,1116,1116,11,11,11,193,193,193,193,193,0,0,0,0,6,1,1,0,0,0,0,35,35,35,392,392,392,392,392,436,436,436,436,5,5,5,22,22,22,22,313,313,313,313,5,5,4,4,4,4,375,375,375,9,9,23,23,23,18,18,18,3,3,3,10,10,0,0,16,16,2,2,2,177,177,177,177,177,177,177,389,389,9,9,9,251,251,251,1276,1276,1276,1276,36,36,36,96,31,31,31,31,4,4,4,21,21,6,6,6,6,78,78,78,78,0,0,154,154,154,2,9,9,17,17,1,0,169,169,169,75,75,31,31,0,0,0,0,96,96,96,296,296,296,1616,1616,1616,8,8,8,32,32,32,185,185,96,96,96,202,202,202,13,895,895,895,895,38,38,38,0,0,393,393,393,1,1,1,174,174,174,174,174,174,30,30,5,5,15,0,739,739,739,739,739,24,518,518,518,518,646,646,646,82,82,0,1,559,559,559,559,89,89,89,112,369,369,369,369,0,0,8,8,41,41,14,14,14,0,5,5,5,5,235,235,0,0,173,173,173,3,3,3,175,175,11,11,11,0,188,188,188,22,22,22,22,10,100,100,100,100,0,0,9,0,50,50,50,0,11,103,1,1,0,0,876,876,876,77,77,77,77,77,77,215,215,215,11,11,1603,1603,1603,1603,1603,1603,1603,1603,59,59,59,59,59,59,59,59,94,0,0,0,256,256,4,4,4,4,6,6,6,6,62,62,62,147,147,47,110,91,12,0,0,0,0,13,3,24,24,24,1,51,2,2,34,34,34,34,0,1967,1967,1967,1967,13,606,606,606,606,4,4,12,12,12,36,26,26,26,26,26,71,71,71,5,5,5,53,53,13,7,0,26,26,2,2,2,3,3,3,341,341,341,341,736,736,736,736,28,2,2,10,121,121,121,121,121,3,7,7,0,0,3,3,59,59,59,245,0,0,12,12,0,0,0,0,4,1,1,150,150,150,143,143,3,3,11,11,8,3,3,2,2,2,2,2,0,0,77,77,22,22,22,24,24,24,4,4,4,21,4,30,30,1,1,1,9,9,9,2,1,0,24,20,1,2,10,33,33,33,0,0,0,5,5,9,10,10,10,0,17,17,57,57,0,39,39,39,39,0,17,0,4,4,129,129,129,53,53,53,53,0,794,794,794,794,794,794,70,89,89,89,62,62,62,0,0,4,4,3,3,3,0,0,0,0,579,55,55,105,105,105,5,24,0,0,0,0,0,99,99,81,1,1,1,0,0,0,0,16,16,16,0,0,0,73,73,3,3,0,0,2,2,2,1,1,1,31,31,31,153,153,153,5,5,0,0,0,0,0,0,38,38,11,11,55,55,55,18,36,36,131,0,407,407,35,35,35,0,0,11,4,4,234,234,87,87,87,87,0,0,0,46,46,46,46,28,3,0,0,0,0,0,0,0,0,0,157,157,22,22,0,0,0,0,10,4,4,4,4,14,14,14,3,3,3,3,80,80,19,19,19,19,89,89,89,13,32,0,0,346,346,346,2,2,7,7,463,463,35,127,127,127,11,11,11,11,11,12,696,696,696,696,696,696,144,144,144,9,53,53,0,0,1,1,1,1,1,0,73,73,0,0,0,42,56,56,56,26,633,633,633,728,728,728,358,358,38,38,4,4,4,4,105,105,105,15,15,15,7,7,7,287,287,287,287,1804,1804,1804,0,0,74,74,74,74,74,520,520,10,10,10,10,10,24,24,24,0,110,0,52,19,33,33,33,24,36,22,22,22,22,0,0,0,0,4,24,24,24,30,30,30,30,30,1,1,1,1,5,5,0,0,3,9,9,9,3,57,3,3,12,11,44,44,44,44,3,3,3,0,0,0,5,5,5,2,1,127,127,127,3,0,2,2,12,15,15,3,3,16,25,7,7,77,77,1,6,6,6,14,14,0,2,22,22,22,245,1,0,0,0,0,0,5,5,57,57,77,77,0,0,0,21,143,143,12,12,12,12,33,33,33,0,9,9,9,3,121,121,121,121,121,59,59,59,10,10,10,0,24,103,103,103,12,12,2,2,2,2,2,20,153,39,39,39,39,68,1,1,9,4,4,4,8,30,30,4,2,0,7,7,0,0,0,11,11,25,25,25,4,3,0,3,3,2,24,24,24,0,0,10,28,17,17,47,47,47,47,1,0,0,3,3,0,0,4,4,2,2,150,150,150,1,1,1,1,1,3,17,7,7,0,0,3,44,44,44,44,0,0,0,20,2,22,22,22,25,245,10,9,9,2,24,3,9,0,0,0,0,0,0,59,59,59,0,0,10,5,5,4,4,0,0,4,1,57,57,3,0,0,5,5,7,7,11,11,1,33,33,33,16,0,1,1,17,9,9,9,5,5,5,19,9,9,9,17,17,1,1,0,2,2,24,24,24,0,3,0,0,0,77,77,0,68,39,39,39,39,60,60,60,8,4,128,128,128,128,10,10,10,9,12,12,147,147,147,147,147,30,30,103,103,103,17,25,25,25,3,3,1,133,133,133,124,124,1605,1605,1605,1605,999,999,999,999,999,256,256,78,78,86,86,196,196,196,220,220,29,29,29,29,16,144,144,144,144,24,24,24,495,495,495,495,21,21,21,132,132,212,212,212,117,117,117,117,30,40,40,25,25,25,25,189,189,189,189],\"yaxis\":\"y\",\"type\":\"scattergl\"}],                        {\"template\":{\"data\":{\"bar\":[{\"error_x\":{\"color\":\"#2a3f5f\"},\"error_y\":{\"color\":\"#2a3f5f\"},\"marker\":{\"line\":{\"color\":\"#E5ECF6\",\"width\":0.5},\"pattern\":{\"fillmode\":\"overlay\",\"size\":10,\"solidity\":0.2}},\"type\":\"bar\"}],\"barpolar\":[{\"marker\":{\"line\":{\"color\":\"#E5ECF6\",\"width\":0.5},\"pattern\":{\"fillmode\":\"overlay\",\"size\":10,\"solidity\":0.2}},\"type\":\"barpolar\"}],\"carpet\":[{\"aaxis\":{\"endlinecolor\":\"#2a3f5f\",\"gridcolor\":\"white\",\"linecolor\":\"white\",\"minorgridcolor\":\"white\",\"startlinecolor\":\"#2a3f5f\"},\"baxis\":{\"endlinecolor\":\"#2a3f5f\",\"gridcolor\":\"white\",\"linecolor\":\"white\",\"minorgridcolor\":\"white\",\"startlinecolor\":\"#2a3f5f\"},\"type\":\"carpet\"}],\"choropleth\":[{\"colorbar\":{\"outlinewidth\":0,\"ticks\":\"\"},\"type\":\"choropleth\"}],\"contour\":[{\"colorbar\":{\"outlinewidth\":0,\"ticks\":\"\"},\"colorscale\":[[0.0,\"#0d0887\"],[0.1111111111111111,\"#46039f\"],[0.2222222222222222,\"#7201a8\"],[0.3333333333333333,\"#9c179e\"],[0.4444444444444444,\"#bd3786\"],[0.5555555555555556,\"#d8576b\"],[0.6666666666666666,\"#ed7953\"],[0.7777777777777778,\"#fb9f3a\"],[0.8888888888888888,\"#fdca26\"],[1.0,\"#f0f921\"]],\"type\":\"contour\"}],\"contourcarpet\":[{\"colorbar\":{\"outlinewidth\":0,\"ticks\":\"\"},\"type\":\"contourcarpet\"}],\"heatmap\":[{\"colorbar\":{\"outlinewidth\":0,\"ticks\":\"\"},\"colorscale\":[[0.0,\"#0d0887\"],[0.1111111111111111,\"#46039f\"],[0.2222222222222222,\"#7201a8\"],[0.3333333333333333,\"#9c179e\"],[0.4444444444444444,\"#bd3786\"],[0.5555555555555556,\"#d8576b\"],[0.6666666666666666,\"#ed7953\"],[0.7777777777777778,\"#fb9f3a\"],[0.8888888888888888,\"#fdca26\"],[1.0,\"#f0f921\"]],\"type\":\"heatmap\"}],\"heatmapgl\":[{\"colorbar\":{\"outlinewidth\":0,\"ticks\":\"\"},\"colorscale\":[[0.0,\"#0d0887\"],[0.1111111111111111,\"#46039f\"],[0.2222222222222222,\"#7201a8\"],[0.3333333333333333,\"#9c179e\"],[0.4444444444444444,\"#bd3786\"],[0.5555555555555556,\"#d8576b\"],[0.6666666666666666,\"#ed7953\"],[0.7777777777777778,\"#fb9f3a\"],[0.8888888888888888,\"#fdca26\"],[1.0,\"#f0f921\"]],\"type\":\"heatmapgl\"}],\"histogram\":[{\"marker\":{\"pattern\":{\"fillmode\":\"overlay\",\"size\":10,\"solidity\":0.2}},\"type\":\"histogram\"}],\"histogram2d\":[{\"colorbar\":{\"outlinewidth\":0,\"ticks\":\"\"},\"colorscale\":[[0.0,\"#0d0887\"],[0.1111111111111111,\"#46039f\"],[0.2222222222222222,\"#7201a8\"],[0.3333333333333333,\"#9c179e\"],[0.4444444444444444,\"#bd3786\"],[0.5555555555555556,\"#d8576b\"],[0.6666666666666666,\"#ed7953\"],[0.7777777777777778,\"#fb9f3a\"],[0.8888888888888888,\"#fdca26\"],[1.0,\"#f0f921\"]],\"type\":\"histogram2d\"}],\"histogram2dcontour\":[{\"colorbar\":{\"outlinewidth\":0,\"ticks\":\"\"},\"colorscale\":[[0.0,\"#0d0887\"],[0.1111111111111111,\"#46039f\"],[0.2222222222222222,\"#7201a8\"],[0.3333333333333333,\"#9c179e\"],[0.4444444444444444,\"#bd3786\"],[0.5555555555555556,\"#d8576b\"],[0.6666666666666666,\"#ed7953\"],[0.7777777777777778,\"#fb9f3a\"],[0.8888888888888888,\"#fdca26\"],[1.0,\"#f0f921\"]],\"type\":\"histogram2dcontour\"}],\"mesh3d\":[{\"colorbar\":{\"outlinewidth\":0,\"ticks\":\"\"},\"type\":\"mesh3d\"}],\"parcoords\":[{\"line\":{\"colorbar\":{\"outlinewidth\":0,\"ticks\":\"\"}},\"type\":\"parcoords\"}],\"pie\":[{\"automargin\":true,\"type\":\"pie\"}],\"scatter\":[{\"marker\":{\"colorbar\":{\"outlinewidth\":0,\"ticks\":\"\"}},\"type\":\"scatter\"}],\"scatter3d\":[{\"line\":{\"colorbar\":{\"outlinewidth\":0,\"ticks\":\"\"}},\"marker\":{\"colorbar\":{\"outlinewidth\":0,\"ticks\":\"\"}},\"type\":\"scatter3d\"}],\"scattercarpet\":[{\"marker\":{\"colorbar\":{\"outlinewidth\":0,\"ticks\":\"\"}},\"type\":\"scattercarpet\"}],\"scattergeo\":[{\"marker\":{\"colorbar\":{\"outlinewidth\":0,\"ticks\":\"\"}},\"type\":\"scattergeo\"}],\"scattergl\":[{\"marker\":{\"colorbar\":{\"outlinewidth\":0,\"ticks\":\"\"}},\"type\":\"scattergl\"}],\"scattermapbox\":[{\"marker\":{\"colorbar\":{\"outlinewidth\":0,\"ticks\":\"\"}},\"type\":\"scattermapbox\"}],\"scatterpolar\":[{\"marker\":{\"colorbar\":{\"outlinewidth\":0,\"ticks\":\"\"}},\"type\":\"scatterpolar\"}],\"scatterpolargl\":[{\"marker\":{\"colorbar\":{\"outlinewidth\":0,\"ticks\":\"\"}},\"type\":\"scatterpolargl\"}],\"scatterternary\":[{\"marker\":{\"colorbar\":{\"outlinewidth\":0,\"ticks\":\"\"}},\"type\":\"scatterternary\"}],\"surface\":[{\"colorbar\":{\"outlinewidth\":0,\"ticks\":\"\"},\"colorscale\":[[0.0,\"#0d0887\"],[0.1111111111111111,\"#46039f\"],[0.2222222222222222,\"#7201a8\"],[0.3333333333333333,\"#9c179e\"],[0.4444444444444444,\"#bd3786\"],[0.5555555555555556,\"#d8576b\"],[0.6666666666666666,\"#ed7953\"],[0.7777777777777778,\"#fb9f3a\"],[0.8888888888888888,\"#fdca26\"],[1.0,\"#f0f921\"]],\"type\":\"surface\"}],\"table\":[{\"cells\":{\"fill\":{\"color\":\"#EBF0F8\"},\"line\":{\"color\":\"white\"}},\"header\":{\"fill\":{\"color\":\"#C8D4E3\"},\"line\":{\"color\":\"white\"}},\"type\":\"table\"}]},\"layout\":{\"annotationdefaults\":{\"arrowcolor\":\"#2a3f5f\",\"arrowhead\":0,\"arrowwidth\":1},\"autotypenumbers\":\"strict\",\"coloraxis\":{\"colorbar\":{\"outlinewidth\":0,\"ticks\":\"\"}},\"colorscale\":{\"diverging\":[[0,\"#8e0152\"],[0.1,\"#c51b7d\"],[0.2,\"#de77ae\"],[0.3,\"#f1b6da\"],[0.4,\"#fde0ef\"],[0.5,\"#f7f7f7\"],[0.6,\"#e6f5d0\"],[0.7,\"#b8e186\"],[0.8,\"#7fbc41\"],[0.9,\"#4d9221\"],[1,\"#276419\"]],\"sequential\":[[0.0,\"#0d0887\"],[0.1111111111111111,\"#46039f\"],[0.2222222222222222,\"#7201a8\"],[0.3333333333333333,\"#9c179e\"],[0.4444444444444444,\"#bd3786\"],[0.5555555555555556,\"#d8576b\"],[0.6666666666666666,\"#ed7953\"],[0.7777777777777778,\"#fb9f3a\"],[0.8888888888888888,\"#fdca26\"],[1.0,\"#f0f921\"]],\"sequentialminus\":[[0.0,\"#0d0887\"],[0.1111111111111111,\"#46039f\"],[0.2222222222222222,\"#7201a8\"],[0.3333333333333333,\"#9c179e\"],[0.4444444444444444,\"#bd3786\"],[0.5555555555555556,\"#d8576b\"],[0.6666666666666666,\"#ed7953\"],[0.7777777777777778,\"#fb9f3a\"],[0.8888888888888888,\"#fdca26\"],[1.0,\"#f0f921\"]]},\"colorway\":[\"#636efa\",\"#EF553B\",\"#00cc96\",\"#ab63fa\",\"#FFA15A\",\"#19d3f3\",\"#FF6692\",\"#B6E880\",\"#FF97FF\",\"#FECB52\"],\"font\":{\"color\":\"#2a3f5f\"},\"geo\":{\"bgcolor\":\"white\",\"lakecolor\":\"white\",\"landcolor\":\"#E5ECF6\",\"showlakes\":true,\"showland\":true,\"subunitcolor\":\"white\"},\"hoverlabel\":{\"align\":\"left\"},\"hovermode\":\"closest\",\"mapbox\":{\"style\":\"light\"},\"paper_bgcolor\":\"white\",\"plot_bgcolor\":\"#E5ECF6\",\"polar\":{\"angularaxis\":{\"gridcolor\":\"white\",\"linecolor\":\"white\",\"ticks\":\"\"},\"bgcolor\":\"#E5ECF6\",\"radialaxis\":{\"gridcolor\":\"white\",\"linecolor\":\"white\",\"ticks\":\"\"}},\"scene\":{\"xaxis\":{\"backgroundcolor\":\"#E5ECF6\",\"gridcolor\":\"white\",\"gridwidth\":2,\"linecolor\":\"white\",\"showbackground\":true,\"ticks\":\"\",\"zerolinecolor\":\"white\"},\"yaxis\":{\"backgroundcolor\":\"#E5ECF6\",\"gridcolor\":\"white\",\"gridwidth\":2,\"linecolor\":\"white\",\"showbackground\":true,\"ticks\":\"\",\"zerolinecolor\":\"white\"},\"zaxis\":{\"backgroundcolor\":\"#E5ECF6\",\"gridcolor\":\"white\",\"gridwidth\":2,\"linecolor\":\"white\",\"showbackground\":true,\"ticks\":\"\",\"zerolinecolor\":\"white\"}},\"shapedefaults\":{\"line\":{\"color\":\"#2a3f5f\"}},\"ternary\":{\"aaxis\":{\"gridcolor\":\"white\",\"linecolor\":\"white\",\"ticks\":\"\"},\"baxis\":{\"gridcolor\":\"white\",\"linecolor\":\"white\",\"ticks\":\"\"},\"bgcolor\":\"#E5ECF6\",\"caxis\":{\"gridcolor\":\"white\",\"linecolor\":\"white\",\"ticks\":\"\"}},\"title\":{\"x\":0.05},\"xaxis\":{\"automargin\":true,\"gridcolor\":\"white\",\"linecolor\":\"white\",\"ticks\":\"\",\"title\":{\"standoff\":15},\"zerolinecolor\":\"white\",\"zerolinewidth\":2},\"yaxis\":{\"automargin\":true,\"gridcolor\":\"white\",\"linecolor\":\"white\",\"ticks\":\"\",\"title\":{\"standoff\":15},\"zerolinecolor\":\"white\",\"zerolinewidth\":2}}},\"xaxis\":{\"anchor\":\"y\",\"domain\":[0.0,1.0],\"title\":{\"text\":\"Votes\"}},\"yaxis\":{\"anchor\":\"x\",\"domain\":[0.0,1.0],\"title\":{\"text\":\"Reviews\"}},\"legend\":{\"tracegroupgap\":0},\"margin\":{\"t\":60},\"height\":400,\"width\":640,\"title\":{\"text\":\"<b>Votes vs Reviews</b>\"}},                        {\"responsive\": true}                    ).then(function(){\n",
              "                            \n",
              "var gd = document.getElementById('c80c032b-b883-42fb-9a9b-9bee3e300f9c');\n",
              "var x = new MutationObserver(function (mutations, observer) {{\n",
              "        var display = window.getComputedStyle(gd).display;\n",
              "        if (!display || display === 'none') {{\n",
              "            console.log([gd, 'removed!']);\n",
              "            Plotly.purge(gd);\n",
              "            observer.disconnect();\n",
              "        }}\n",
              "}});\n",
              "\n",
              "// Listen for the removal of the full notebook cells\n",
              "var notebookContainer = gd.closest('#notebook-container');\n",
              "if (notebookContainer) {{\n",
              "    x.observe(notebookContainer, {childList: true});\n",
              "}}\n",
              "\n",
              "// Listen for the clearing of the current output cell\n",
              "var outputEl = gd.closest('.output');\n",
              "if (outputEl) {{\n",
              "    x.observe(outputEl, {childList: true});\n",
              "}}\n",
              "\n",
              "                        })                };                            </script>        </div>\n",
              "</body>\n",
              "</html>"
            ]
          },
          "metadata": {}
        }
      ]
    },
    {
      "cell_type": "markdown",
      "source": [
        "From the above figure, we can infer that features `Reviews` and `Votes` are positively correlated in our dataset."
      ],
      "metadata": {
        "id": "b-BiwXocbcmJ"
      }
    },
    {
      "cell_type": "code",
      "source": [
        "sns.set(rc={'figure.figsize':(10,8)})\n",
        "sns.set_theme(style='whitegrid')"
      ],
      "metadata": {
        "id": "XxbyOSLS4ueo"
      },
      "execution_count": 21,
      "outputs": []
    },
    {
      "cell_type": "code",
      "source": [
        "cityName=\"Pune\"\n",
        "title = \"<b>Distribution of Reviews in \"+cityName+ \" for different locations</b>\"\n",
        "select_city = df1[(df1.city == cityName)]\n",
        "fig = px.box(select_city, x='Reviews', y=\"Location\", title=title, template=template, width=800, height=400)\n",
        "fig.update_traces(marker_color=cityColor[cityName][1], marker_line_color=cityColor[cityName][0],\n",
        "                  marker_line_width=2)\n",
        "fig.show()"
      ],
      "metadata": {
        "colab": {
          "base_uri": "https://localhost:8080/",
          "height": 417
        },
        "id": "jeZZ0nOGvnxd",
        "outputId": "3bc1d990-7f22-4405-98f1-a3786c65c727"
      },
      "execution_count": 115,
      "outputs": [
        {
          "output_type": "display_data",
          "data": {
            "text/html": [
              "<html>\n",
              "<head><meta charset=\"utf-8\" /></head>\n",
              "<body>\n",
              "    <div>            <script src=\"https://cdnjs.cloudflare.com/ajax/libs/mathjax/2.7.5/MathJax.js?config=TeX-AMS-MML_SVG\"></script><script type=\"text/javascript\">if (window.MathJax) {MathJax.Hub.Config({SVG: {font: \"STIX-Web\"}});}</script>                <script type=\"text/javascript\">window.PlotlyConfig = {MathJaxConfig: 'local'};</script>\n",
              "        <script src=\"https://cdn.plot.ly/plotly-2.8.3.min.js\"></script>                <div id=\"ee12548b-212d-4af9-a5a0-66ce19b64b89\" class=\"plotly-graph-div\" style=\"height:400px; width:800px;\"></div>            <script type=\"text/javascript\">                                    window.PLOTLYENV=window.PLOTLYENV || {};                                    if (document.getElementById(\"ee12548b-212d-4af9-a5a0-66ce19b64b89\")) {                    Plotly.newPlot(                        \"ee12548b-212d-4af9-a5a0-66ce19b64b89\",                        [{\"alignmentgroup\":\"True\",\"hovertemplate\":\"Reviews=%{x}<br>Location=%{y}<extra></extra>\",\"legendgroup\":\"\",\"marker\":{\"color\":\"rgb(58, 153, 91)\",\"line\":{\"color\":\"rgb(124, 235, 163)\",\"width\":2}},\"name\":\"\",\"notched\":false,\"offsetgroup\":\"\",\"orientation\":\"h\",\"showlegend\":false,\"x\":[4,4,4,4,4,74,74,74,74,35,35,4,4,106,106,13,13,0,0,59,59,0,0,40,0,0,0,0,1845,1845,1845,1845,1,32,32,2,26,26,26,0,0,44,44,17,17,17,0,0,0,0,1131,1131,1131,0,366,366,366,9,9,2,2,8,310,310,310,0,165,165,165,9,9,9,9,55,6,120,120,189,107,107,107,107,7,7,42,42,0,0,0,30,30,33,159,24,24,14,14,5,0,0,0,232,232,232,7,7,7,0,0,357,357,357,193,193,193,193,193,32,32,0,0,0,3,205,205,205,205,3,3,90,63,941,941,941,207,207,207,207,5,7,7,7,86,86,0,0,0,0,0,62,62,545,545,545,545,72,0,0,0,0,191,191,191,191,0,0,7,0,0,177,9,9,2359,2359,2359,2359,2359,2359,2359,10,10,314,314,314,314,314,314,0,325,325,325,325,2,2,2,0,0,0,7,370,370,370,370,370,6,0,0,0,0,5,4,4,4,0,0,0,0,0,0,0,0,244,244,244,244,0,0,0,0,0,0,0,0,0,0,0,40,6,0,103,103,103,103,4,4,4,4,12,12,12,0,27,27,135,135,83,83,83,78,78,78,0,0,91,1,37,37,37,93,93,93,93,93,93,9,9,9,5,117,117,6,6,6,6,20,20,20,20,1,1,90,90,90,69,69,69,69,222,97,291,291,0,0,0,0,0,1,23,40,26,26,0,0,0,0,0,0,0,0,67,67,67,0,0,0,0,0,2340,2340,2340,2340,2340,2340,2340,0,0,0,0,0,0,0,0,0,0,1164,1164,1164,1164,0,0,54,54,54,0,13,13,13,10,10,14,14,20,20,62,21,21,1,1,10,10,10,3,9,144,144,144,12,12,225,225,0,0,1289,1289,144,144,144,21,21,0,0,7,7,0,0,0,0,0,0,33,33,33,16,16,23,23,0,1191,1191,1191,1191,1191,1191,1191,1191,8,8,8,0,9,9,148,148,148,148,148,0,25,25,1,54,54,0,255,255,255,0,0,0,0,0,0,0,0,4,4,4,0,1,4,4,1,1,0,0,29,29,1,1,1,147,147,147,147,391,10,28,28,28,28,3,3,2,2,149,149,149,0,10,10,10,30,6,6,6,0,0,0,6,6,150,150,150,5,257,257,1,0,53,53,53,159,159,159,10,10,10,26,26,2931,55,55,40,9,9,9,0,0,0,2,18,18,342,342,342,342,342,0,26,26,26,61,61,62,62,25,25,78,78,78,78,78,26,11,11,35,96,96,96,634,0,0,0,0,145,145,14,14,3,3,8,8,8,503,503,503,503,503,75,75,3,3,0,0,0,0,72,72,72,72,1,1,80,80,80,80,2,2,1510,1510,1510,0,0,0,0,10,9,9,9,1,1,28,1,1318,1318,1318,1318,0,0,0,1,1,111,111,111,111,111,52,1,1,37,117,117,117,117,117,3,0,5,5,66,66,16,0,0,9,9,9,9,259,259,259,259,259,11,5,5,0,0,2,2,2,3,4,1,1,13,13,0,14,14,0,335,335,335,123,123,3,112,112,25,3,3,3,0,0,175,175,9,9,0,0,24,0,0,0,14,14,10,10,0,18,18,123,123,123,20,20,20,10,34,34,18,18,18,18,18,3,244,244,0,0,23,23,23,19,19,19,23,23,3,3,21,21,21,2,0,0,25,25,25,25,7,7,254,1,62,62,62,62,1,991,9,0,0,0,0,0,220,220,220,220,220,220,220,97,97,97,97,97,97,9,24,24,14,24,24,60,60,336,336,336,11,11,10,10,10,10,61,61,105,105,105,15,3,3,43,43,43,43,37,37,0,0,0,30,2,12,12,12,4,4,4,4,9,9,9,5,2,2,174,44,44,5,5,5,5,2,2,334,334,334,334,334,4,4,4,135,135,135,262,262,7,7,7,7,96,96,96,281,281,281,281,141,141,141,3,3,3,318,318,318,318,318,318,318,368,368,368,0,0,0,4,4,23,23,714,19,15,15,206,206,17,17,0,0,0,5,31,31,6,6,0,11,0,0,12,4,4,4,4,0,0,0,99,99,31,31,31,5,5,44,6,6,50,50,0,112,112,112,112,0,0,0,0,0,0,0,0,0,0,175,0,15,15,55,55,4,0,0,0,21,21,21,10,10,10,33,33,33,0,24,24,7,514,514,514,514,13,13,13,13,230,230,230,230,1,1,2503,2503,2503,0,0,0,53,53,1,1,0,0,0,37,37,260,260,260,260,1009,1009,6,14,43,43,43,43,0,0,0,0,625,625,625,625,625,625,7,7,1131,1131,1131,1131,258,258,258,258,15,15,15,15,449,449,449,449,449,449,449,19,14,14,14,15,15,15,15,0,0,0,190,190,0,0,0,160,160,2,2,2,2,25,2,5,3,3,3,3,0,0,0,0,0,7,7,0,1,1,1,0,3,3,2,2,62,62,73,73,10,0,0,536,536,536,3,3,3,8,33,33,35,0,0,0,45,45,45,45,45,818,12,12,122,122,122,147,147,147,2,2,9,0,0,0,0,2,15,0,0,0,0,3,3,3,3,0,0,0,0,0,0,0,0,0,0,0,0,0,4,4,4,4,2,20,20,3,0,0,0,0,37,37,37,0,0,19,19,6,35,35,35,35,35,35,58,58,0,7,7,7,27,27,4,1,17,17,17,16,112,2,2,9,9,0,0,58,7,7,0,0,3,3,3,3,3,0,21,0,18,18,1,107,107,107,107,245,245,245,245,245,0,630,630,630,127,127,94,94,148,148,121,121,121,32,1,1,0,0,20,20,20,20,20,1,1,1,1,1,16,16,28,28,28,0,0,3,3,62,62,20,20,20,20,20,0,26,26,0,7,7,7,0,38,38,38,38,38,2,2,2,2,15,15,1,5,5,5,13,15,15,133,133,4,4,109,109,6,6,23,23,29,29,29,29,0,0,366,366,55,55,55,55,55,7,4,4,8,45,45,45,12,12,12,12,12,12,3,185,185,185,185,185,185,13,13,31,31,108,108,108,108,10,36,36,36,0,0,13,0,137,137,2217,2217,2217,193,193,193,0,0,1239,1239,1239,1239,174,174,174,174,174,174,5,5,690,690,690,296,296,296,0,0,45,45,1603,1603,1603,1603,1603,1603,1603,1603,114,114,114,114,114,3,3,0,0,0,739,739,739,739,739,94,21,21,1,183,183,14,0,0,258,258,2,2,2,2,2,1,1,215,215,215,215,50,50,50,1276,1276,1276,1276,19,19,3,3,3,187,187,187,187,187,32,32,32,51,51,432,432,432,432,23,23,23,0,62,62,62,10,10,117,117,117,117,117,981,206,206,32,32,32,0,0,0,7,0,0,8,8,8,8,8,272,272,272,272,272,272,272,272,2,2,0,0,62,62,2,2,2224,2224,2224,2224,2224,2224,2224,235,235,444,444,444,0,0,124,124,124,609,609,609,609,259,259,8,8,8,8,108,108,108,364,364,364,8,772,772,772,772,30,30,1,1,1,1,7,346,346,346,346,56,56,56,56,56,0,23,23,23,30,30,174,174,201,201,201,201,923,923,923,923,923,923,0,0,0,0,0,0,0,0,28,13,8,169,169,169,193,193,193,193,193,518,518,518,518,23,23,23,47,47,47,10,10,453,453,453,453,453,0,13,13,30,30,30,0,11,11,855,855,855,855,485,485,485,25,25,25,25,5,5,5,1319,1319,1319,41,41,4,4,26,26,20,20,2,2,1967,1967,1967,1967,33,33,33,33,202,202,202,77,77,320,320,320,320,320,320,320,320,38,38,38,13,16,16,205,205,205,194,194,194,75,75,50,28,28,0,0,9,9,9,0,0,26,229,229,229,229,15,15,15,15,9,0,0,251,251,251,389,389,21,4,83,83,0,32,10,10,358,358,19,19,0,0,0,0,0,6,6,6,6,35,124,124,0,89,89,89,101,101,1159,0,0,96,96,96,69,69,69,3,3,0,186,186,0,0,0,0,0,4,1,876,876,876,0,0,0,0,0,0,125,125,5,5,5,296,296,296,10,10,10,30,30,4,4,4,159,159,15,15,67,67,67,199,199,199,199,199,199,1,38,0,0,64,64,64,64,3,3,3,31,31,31,457,457,457,0,1112,1112,1112,1112,1479,1479,1479,5,5,88,88,31,31,31,0,0,0,0,393,393,393,38,26,26,11,11,18,18,18,18,0,0,17,17,42,42,42,39,39,39,39,895,895,895,895,17,0,220,220,220,9,63,63,63,0,0,0,0,0,400,400,400,266,266,266,266,0,247,247,247,28,0,10,70,70,10,10,10,10,10,10,134,134,0,667,667,667,82,82,4,4,4,4,7,7,7,2547,2547,2547,1246,1246,1246,1246,2,2,2,44,0,0,0,0,0,0,0,50,50,50,50,50,3,30,30,5,5,5,1818,1818,1818,1818,1818,185,185,2,2,2,153,168,168,168,168,168,168,529,529,529,6,6,6,6,23,436,436,436,436,154,154,154,91,9,9,15,15,15,15,3,3,3,369,369,369,369,0,0,0,0,120,120,120,120,120,120,120,29,29,29,29,24,24,4,4,4,4,4,53,53,25,25,25,25,25,58,156,156,156,188,188,188,3,0,0,721,721,26,15,6,5,5,5,5,302,302,53,53,294,294,294,10,103,0,0,2,2,1,1,15,0,1616,1616,1616,16,16,1,1,49,49,49,39,39,29,29,29,29,173,173,173,0,0,0,14,14,73,73,228,228,228,143,143,143,143,385,385,385,385,33,33,1,0,0,0,575,575,575,575,575,575,214,214,177,177,177,177,177,177,177,2,2,2,39,39,39,39,39,239,239,239,239,59,59,59,3,3,36,91,91,0,0,0,0,0,3,3,0,0,0,0,41,41,101,9,42,42,42,45,45,77,77,22,22,22,819,819,819,819,819,8,8,8,68,68,0,4,0,0,7,105,105,105,1,1,1,343,3,3,0,0,0,45,0,0,0,0,453,453,83,83,0,0,0,23,691,691,691,34,34,199,11,11,0,62,62,62,62,1,43,899,899,899,899,7,7,2,1415,1415,1415,1415,1415,3,3,17,17,17,5,5,17,17,6,6,6,0,3,0,0,0,7,7,7,14,14,2,2,2,21,21,9,9,69,69,69,69,20,20,20,9,9,6,9,9,9,8,8,8,7,7,0,73,73,73,73,25,25,111,111,51,51,36,268,268,268,48,48,38,38,6,17,17,3,2,2,10,145,145,145,0,0,10,10,10,19,19,1,0,0,0,0,81,81,70,70,1,1,497,497,497,100,62,62,62,62,1,55,55,55,55,55,99,99,5,2,0,0,2217,2217,2217,344,344,344,344,101,101,0,0,260,260,260,260,104,104,104,104,635,635,4,4,0,20,20,0,0,0,0,140,140,40,40,40,110,110,20,609,609,10,10,10,10,19,19,19,74,74,68,68,68,68,68,4,4,93,93,93,93,93,93,3,3,353,353,353,353,26,26,391,0,83,83,370,30,30,2036,2036,2036,2036,46,46,0,0,0,0,0,0,1,1,463,463,463,11,11,19,19,0,66,66,66,10,10,7,7,0,0,0,8,8,13,0,40,3,53,53,0,0,194,194,0,7,7,7,405,405,405,405,405,405,405,405,5,5,6,54,54,54,70,70,70,6,6,28,28,28,148,148,148,94,4,50,50,50,223,223,0,1263,1263,2,2,51,51,2,23,77,77,77,77,77,77,77,0,0,519,519,4,91,109,109,291,291,31,31,3,78,78,3,3,3,0,20,74,74,74,74,74,74,74,16,16,322,322,322,322,68,68,5,991,0,108,108,108,2,106,106,106,106,106,152,336,336,336,38,38,55,55,55,55,17,17,58,58,1,24,24,63,205,205,205,205,75,75,75,129,129,0,0,6,6,8,8,8,0,781,781,781,781,127,127,1318,185,185,185,185,185,185,209,209,209,20,18,18,86,86,122,122,122,1079,1079,1079,1079,179,179,179,0,0,0,289,289,218,218,218,218,218,218,218,218,53,53,53,37,37,37,6,20,20,6,6,6,6,40,0,0,0,0,0,53,53,53,0,0,72,72,72,72,90,630,630,630,38,26,26,26,26,220,220,220,220,220,220,220,4,4,860,860,860,860,860,860,860,1224,1224,1224,1224,1224,0,0,0,1131,1131,1131,1131,1191,1191,1191,1191,1191,1191,1191,1191,467,467,467,467,467,368,368,368,2,2,2,2,2,33,33,15,37,12,12,12,0,0,50,50,0,0,3,169,169,169,10,10,123,123,123,97,97,97,97,97,97,104,104,5,5,5,5,0,72,72,72,72,72,72,72,16,137,137,137,137,19,19,19,53,53,53,1009,1009,97,5,1353,1353,1353,1353,1353,194,194,18,63,63,63,63,318,318,318,318,318,318,318,536,536,536,58,40,40,0,0,232,232,232,44,44,44,11,3,0,9,107,107,107,107,1318,1318,1318,1318,23,23,477,477,477,477,477,4,0,0,0,0,0,50,50,50,50,22,22,22,173,173,173,5,5,5,8,8,41,41,20,20,20,9,0,0,0,1,1,108,7,7,7,29,29,10,8,1,32,32,32,0,110,83,83,232,232,232,855,855,855,855,305,305,305,305,1369,1369,1369,26,26,26,64,64,64,8,8,8,7,7,10,10,47,47,67,67,61,61,61,13,32,32,32,11,0,53,53,0,67,67,67,0,0,12,153,242,242,242,0,0,0,0,296,296,296,37,37,37,37,14,14,111,111,3,3,0,0,256,256,33,33,64,64,64,7,7,819,819,819,819,819,5,2,2,11,11,1,1,1,1,43,43,0,1962,1962,1962,1962,1962,1962,251,251,251,0,2,2,2,294,294,294,294,609,609,609,609,90,90,90,90,59,59,59,59,59,59,59,59,158,158,4,0,5,5,5,3,3,7,2,2,14,14,14,5,5,23,23,3,3,24,24,24,24,296,296,296,123,123,123,123,123,123,0,0,6,6,6,0,0,8,4,4,4,4,0,0,7,101,10,10,10,0,317,317,317,317,0,0,23,23,1914,106,106,96,23,23,17,17,17,138,138,64,64,2,2,0,30,30,0,0,736,736,736,736,0,0,2,2,2,2,15,15,15,24,0,33,33,40,20,20,0,0,3,3,38,38,0,0,0,28,0,4,21,21,21,21,1,4,4,4,4,62,62,62,11,0,0,0,5,5,5,5,139,51,51,306,306,306,2,2,393,393,393,3,3,3,0,186,186,31,31,0,0,4,189,5,5,5,33,164,164,164,9,9,9,1818,1818,1818,1818,1818,0,0,0,0,4,4,4,4,23,23,0,230,230,230,230,0,77,77,294,294,294,0,0,0,3,3,739,739,739,739,739,1,1,1,143,143,143,143,7,7,7,20,1,1,109,109,109,109,5,5,2,2,2,3,8,8,8,0,2,2,2,0,0,236,236,236,236,8,8,3,22,22,22,3,3,1,21,21,21,0,0,0,0,0,1,1,1,3,0,0,1116,1116,1116,1116,369,369,369,369,27,27,53,53,358,358,18,18,18,13,13,21,21,0,6,6,6,5,5,256,256,5,1603,1603,1603,1603,1603,1603,1603,1603,4,4,4,62,15,15,15,15,0,58,62,62,301,301,301,301,301,10,10,10,10,125,125,125,125,4,4,606,606,606,606,4,4,4,10,81,81,32,32,32,6,0,0,0,0,0,0,0,20,20,47,1616,1616,1616,110,110,8,8,7,7,7,96,96,96,2,0,0,0,20,20,20,20,24,24,7,7,0,11,11,11,518,518,518,518,13,13,5,5,5,0,7,7,7,457,457,457,6,6,6,191,191,191,2,229,229,229,229,29,29,1,1,8,8,8,34,34,34,34,2,1,2,2,2,31,31,31,31,4,14,14,0,57,7,13,10,0,0,0,0,41,41,10,41,41,2,91,91,91,0,3,3,3,0,0,0,206,206,2224,2224,2224,2224,2224,2224,2224,19,19,19,3,26,0,0,0,88,88,72,154,154,154,13,13,11,147,147,13,24,24,24,23,23,60,60,3,3,3,14,14,11,11,6,7,7,10,10,42,42,42,529,529,529,7,0,0,0,103,103,103,103,103,119,119,119,119,22,22,22,22,6,35,1,1,1,112,112,31,31,31,30,3,3,0,35,35,55,55,32,0,0,0,0,0,4,6,6,2,2,73,73,51,75,75,0,13,13,8,34,34,4,6,6,6,6,10,10,995,995,995,995,995,7,0,22,22,145,145,1,1,1,0,95,95,15,89,89,89,105,105,105,103,0,0,0,0,21,215,215,215,0,0,97,97,31,31,31,15,15,30,20,20,56,56,56,56,56,74,74,26,26,26,26,26,72,72,72,72,168,168,168,168,168,0,247,247,247,320,320,320,320,320,320,320,320,0,0,235,235,35,35,35,659,659,659,659,659,659,0,2,2,63,63,63,2547,2547,2547,347,347,347,347,43,43,43,0,0,0,0,848,848,848,8,5,5,13,5,5,5,375,375,375,8,313,313,313,313,0,0,0,0,0,0,3,3,3,12,12,12,57,57,4,4,0,0,0,0,0,1246,1246,1246,1246,36,36,36,48,0,26,26,16,16,1,1,1,36,36,36,17,17,17,46,46,46,46,751,751,751,751,751,0,0,0,3,3,3,1,0,0,20,20,10,11,11,11,23,23,3,3,0,2547,2547,2547,138,138,259,259,10,10,10,1,1,1,5,5,5,0,659,659,659,659,659,659,23,23,23,53,53,11,11,11,1,5,5,5,0,220,220,220,70,70,13,13,0,0,0,453,453,453,453,453,56,56,183,183,120,120,120,120,120,120,120,0,3,81,81,29,29,29,29,47,47,15,317,317,317,317,400,400,400,168,168,168,168,168,5,5,5,206,206,4,4,4,4,4,187,187,187,187,187,0,7,7,7,205,205,205,358,358,4,4,4,125,125,14,14,14,117,117,117,117,117,74,294,294,294,294,35,399,399,399,399,10,10,1631,1631,1631,23,23,23,16,16,0,3,3,3,0,143,143,143,143,294,294,294,214,214,23,9,9,15,15,56,56,56,56,56,108,108,108,30,30,0,0,61,61,61,1112,1112,1112,1112,485,485,485,8,8,8,8,8,2224,2224,2224,2224,2224,2224,2224,247,247,247,306,306,306,9,9,9,89,89,89,7,7,7,7,2640,2640,2640,2640,5,5,0,0,0,0,23,23,0,319,0,0,6,201,201,201,201,168,168,168,168,168,168,229,229,229,229,23,23,2,2,45,45,30,30,4,4,8,8,124,124,153,21,12,12,12,91,91,124,124,124,923,923,923,923,923,923,1479,1479,1479,3,3,3,0,0,0,0,77,77,74,74,0,33,33,13,13,101,21,21,22,22,3,3,39,39,0,0,29,29,457,457,457,86,86,86,86,5,5,5,0,0,14,14,432,432,432,432,0,0,0,385,385,385,385,0,3,3,123,123,123,123,123,123,2,2,2,264,264,264,264,13,13,4,4,4,2,2,95,95,0,0,0,8,8,91,91,91,819,819,819,819,819,20,20,266,266,266,266,0,0,0,17,17,0,0,0,7,7,7,296,296,296,1818,1818,1818,1818,1818,7,7,7,1239,1239,1239,1239,10,10,39,39,39,0,5,5,855,855,855,855,10,6,6,6,6,20,20,103,103,103,103,103,29,29,29,29,114,114,114,114,114,8,7,7,7,35,35,35,73,73,73,73,1962,1962,1962,1962,1962,1962,13,13,0,0,6,6,90,90,90,90,11,11,43,43,43,4,667,667,667,2,2,232,232,232,39,39,32,32,32,3,3,3,0,1819,1819,1819,1819,1819,6,6,6,33,33,26,26,26,0,1319,1319,1319,0,0,8,24,24,24,24,0,0,0,10,10,529,529,529,2,10,10,10,63,63,63,4,0,186,186,2,2,2,2,209,209,0,4,4,4,4,4,0,134,134,139,32,32,32,0,364,364,364,9,9,34,34,34,34,3,1246,1246,1246,1246,2,2,4,848,848,848,30,38,0,0,0,0,0,0,1116,1116,1116,1116,11,11,11,193,193,193,193,193,0,0,0,0,6,1,1,0,0,0,0,35,35,35,392,392,392,392,392,436,436,436,436,5,5,5,22,22,22,22,313,313,313,313,5,5,4,4,4,4,375,375,375,9,9,23,23,23,18,18,18,3,3,3,10,10,0,0,16,16,2,2,2,177,177,177,177,177,177,177,389,389,9,9,9,251,251,251,1276,1276,1276,1276,36,36,36,96,31,31,31,31,4,4,4,21,21,6,6,6,6,78,78,78,78,0,0,154,154,154,2,9,9,17,17,1,0,169,169,169,75,75,31,31,0,0,0,0,96,96,96,296,296,296,1616,1616,1616,8,8,8,32,32,32,185,185,96,96,96,202,202,202,13,895,895,895,895,38,38,38,0,0,393,393,393,1,1,1,174,174,174,174,174,174,30,30,5,5,15,0,739,739,739,739,739,24,518,518,518,518,646,646,646,82,82,0,1,559,559,559,559,89,89,89,112,369,369,369,369,0,0,8,8,41,41,14,14,14,0,5,5,5,5,235,235,0,0,173,173,173,3,3,3,175,175,11,11,11,0,188,188,188,22,22,22,22,10,100,100,100,100,0,0,9,0,50,50,50,0,11,103,1,1,0,0,876,876,876,77,77,77,77,77,77,215,215,215,11,11,1603,1603,1603,1603,1603,1603,1603,1603,59,59,59,59,59,59,59,59,94,0,0,0,256,256,4,4,4,4,6,6,6,6,62,62,62,147,147,47,110,91,12,0,0,0,0,13,3,24,24,24,1,51,2,2,34,34,34,34,0,1967,1967,1967,1967,13,606,606,606,606,4,4,12,12,12,36,26,26,26,26,26,71,71,71,5,5,5,53,53,13,7,0,26,26,2,2,2,3,3,3,341,341,341,341,736,736,736,736],\"x0\":\" \",\"xaxis\":\"x\",\"y\":[\"FTI College, Law College Road, Pune\",\"FTI College, Law College Road, Pune\",\"FTI College, Law College Road, Pune\",\"FTI College, Law College Road, Pune\",\"FTI College, Law College Road, Pune\",\"FTI College, Law College Road, Pune\",\"FTI College, Law College Road, Pune\",\"FTI College, Law College Road, Pune\",\"FTI College, Law College Road, Pune\",\"FTI College, Law College Road, Pune\",\"FTI College, Law College Road, Pune\",\"FTI College, Law College Road, Pune\",\"FTI College, Law College Road, Pune\",\"FTI College, Law College Road, Pune\",\"FTI College, Law College Road, Pune\",\"FTI College, Law College Road, Pune\",\"FTI College, Law College Road, Pune\",\"FTI College, Law College Road, Pune\",\"FTI College, Law College Road, Pune\",\"FTI College, Law College Road, Pune\",\"FTI College, Law College Road, Pune\",\"FTI College, Law College Road, Pune\",\"FTI College, Law College Road, Pune\",\"FTI College, Law College Road, Pune\",\"FTI College, Law College Road, Pune\",\"FTI College, Law College Road, Pune\",\"FTI College, Law College Road, Pune\",\"FTI College, Law College Road, Pune\",\"FTI College, Law College Road, Pune\",\"FTI College, Law College Road, Pune\",\"FTI College, Law College Road, Pune\",\"FTI College, Law College Road, Pune\",\"FTI College, Law College Road, Pune\",\"FTI College, Law College Road, Pune\",\"FTI College, Law College Road, Pune\",\"FTI College, Law College Road, Pune\",\"FTI College, Law College Road, Pune\",\"FTI College, Law College Road, Pune\",\"FTI College, Law College Road, Pune\",\"FTI College, Law College Road, Pune\",\"FTI College, Law College Road, Pune\",\"FTI College, Law College Road, Pune\",\"FTI College, Law College Road, Pune\",\"FTI College, Law College Road, Pune\",\"FTI College, Law College Road, Pune\",\"FTI College, Law College Road, Pune\",\"FTI College, Law College Road, Pune\",\"FTI College, Law College Road, Pune\",\"FTI College, Law College Road, Pune\",\"FTI College, Law College Road, Pune\",\"FTI College, Law College Road, Pune\",\"FTI College, Law College Road, Pune\",\"FTI College, Law College Road, Pune\",\"FTI College, Law College Road, Pune\",\"FTI College, Law College Road, Pune\",\"FTI College, Law College Road, Pune\",\"FTI College, Law College Road, Pune\",\"FTI College, Law College Road, Pune\",\"FTI College, Law College Road, Pune\",\"FTI College, Law College Road, Pune\",\"FTI College, Law College Road, Pune\",\"FTI College, Law College Road, Pune\",\"FTI College, Law College Road, Pune\",\"FTI College, Law College Road, Pune\",\"FTI College, Law College Road, Pune\",\"FTI College, Law College Road, Pune\",\"FTI College, Law College Road, Pune\",\"FTI College, Law College Road, Pune\",\"FTI College, Law College Road, Pune\",\"FTI College, Law College Road, Pune\",\"FTI College, Law College Road, Pune\",\"FTI College, Law College Road, Pune\",\"FTI College, Law College Road, Pune\",\"FTI College, Law College Road, Pune\",\"FTI College, Law College Road, Pune\",\"FTI College, Law College Road, Pune\",\"FTI College, Law College Road, Pune\",\"FTI College, Law College Road, Pune\",\"FTI College, Law College Road, Pune\",\"FTI College, Law College Road, Pune\",\"FTI College, Law College Road, Pune\",\"FTI College, Law College Road, Pune\",\"FTI College, Law College Road, Pune\",\"FTI College, Law College Road, Pune\",\"FTI College, Law College Road, Pune\",\"FTI College, Law College Road, Pune\",\"FTI College, Law College Road, Pune\",\"FTI College, Law College Road, Pune\",\"FTI College, Law College Road, Pune\",\"FTI College, Law College Road, Pune\",\"FTI College, Law College Road, Pune\",\"FTI College, Law College Road, Pune\",\"FTI College, Law College Road, Pune\",\"FTI College, Law College Road, Pune\",\"FTI College, Law College Road, Pune\",\"FTI College, Law College Road, Pune\",\"FTI College, Law College Road, Pune\",\"FTI College, Law College Road, Pune\",\"FTI College, Law College Road, Pune\",\"FTI College, Law College Road, Pune\",\"FTI College, Law College Road, Pune\",\"FTI College, Law College Road, Pune\",\"FTI College, Law College Road, Pune\",\"FTI College, Law College Road, Pune\",\"FTI College, Law College Road, Pune\",\"FTI College, Law College Road, Pune\",\"FTI College, Law College Road, Pune\",\"FTI College, Law College Road, Pune\",\"FTI College, Law College Road, Pune\",\"FTI College, Law College Road, Pune\",\"FTI College, Law College Road, Pune\",\"FTI College, Law College Road, Pune\",\"FTI College, Law College Road, Pune\",\"FTI College, Law College Road, Pune\",\"FTI College, Law College Road, Pune\",\"FTI College, Law College Road, Pune\",\"FTI College, Law College Road, Pune\",\"FTI College, Law College Road, Pune\",\"FTI College, Law College Road, Pune\",\"FTI College, Law College Road, Pune\",\"FTI College, Law College Road, Pune\",\"FTI College, Law College Road, Pune\",\"FTI College, Law College Road, Pune\",\"FTI College, Law College Road, Pune\",\"FTI College, Law College Road, Pune\",\"FTI College, Law College Road, Pune\",\"FTI College, Law College Road, Pune\",\"FTI College, Law College Road, Pune\",\"FTI College, Law College Road, Pune\",\"FTI College, Law College Road, Pune\",\"FTI College, Law College Road, Pune\",\"FTI College, Law College Road, Pune\",\"FTI College, Law College Road, Pune\",\"FTI College, Law College Road, Pune\",\"FTI College, Law College Road, Pune\",\"FTI College, Law College Road, Pune\",\"FTI College, Law College Road, Pune\",\"FTI College, Law College Road, Pune\",\"FTI College, Law College Road, Pune\",\"FTI College, Law College Road, Pune\",\"FTI College, Law College Road, Pune\",\"FTI College, Law College Road, Pune\",\"FTI College, Law College Road, Pune\",\"FTI College, Law College Road, Pune\",\"FTI College, Law College Road, Pune\",\"FTI College, Law College Road, Pune\",\"FTI College, Law College Road, Pune\",\"FTI College, Law College Road, Pune\",\"FTI College, Law College Road, Pune\",\"FTI College, Law College Road, Pune\",\"FTI College, Law College Road, Pune\",\"FTI College, Law College Road, Pune\",\"FTI College, Law College Road, Pune\",\"FTI College, Law College Road, Pune\",\"FTI College, Law College Road, Pune\",\"FTI College, Law College Road, Pune\",\"FTI College, Law College Road, Pune\",\"FTI College, Law College Road, Pune\",\"FTI College, Law College Road, Pune\",\"FTI College, Law College Road, Pune\",\"FTI College, Law College Road, Pune\",\"FTI College, Law College Road, Pune\",\"FTI College, Law College Road, Pune\",\"FTI College, Law College Road, Pune\",\"FTI College, Law College Road, Pune\",\"FTI College, Law College Road, Pune\",\"FTI College, Law College Road, Pune\",\"FTI College, Law College Road, Pune\",\"FTI College, Law College Road, Pune\",\"FTI College, Law College Road, Pune\",\"FTI College, Law College Road, Pune\",\"FTI College, Law College Road, Pune\",\"FTI College, Law College Road, Pune\",\"FTI College, Law College Road, Pune\",\"FTI College, Law College Road, Pune\",\"FTI College, Law College Road, Pune\",\"FTI College, Law College Road, Pune\",\"FTI College, Law College Road, Pune\",\"FTI College, Law College Road, Pune\",\"FTI College, Law College Road, Pune\",\"FTI College, Law College Road, Pune\",\"FTI College, Law College Road, Pune\",\"FTI College, Law College Road, Pune\",\"FTI College, Law College Road, Pune\",\"FTI College, Law College Road, Pune\",\"FTI College, Law College Road, Pune\",\"FTI College, Law College Road, Pune\",\"FTI College, Law College Road, Pune\",\"FTI College, Law College Road, Pune\",\"FTI College, Law College Road, Pune\",\"FTI College, Law College Road, Pune\",\"FTI College, Law College Road, Pune\",\"FTI College, Law College Road, Pune\",\"FTI College, Law College Road, Pune\",\"FTI College, Law College Road, Pune\",\"FTI College, Law College Road, Pune\",\"FTI College, Law College Road, Pune\",\"FTI College, Law College Road, Pune\",\"FTI College, Law College Road, Pune\",\"FTI College, Law College Road, Pune\",\"FTI College, Law College Road, Pune\",\"FTI College, Law College Road, Pune\",\"FTI College, Law College Road, Pune\",\"FTI College, Law College Road, Pune\",\"FTI College, Law College Road, Pune\",\"FTI College, Law College Road, Pune\",\"FTI College, Law College Road, Pune\",\"FTI College, Law College Road, Pune\",\"FTI College, Law College Road, Pune\",\"FTI College, Law College Road, Pune\",\"FTI College, Law College Road, Pune\",\"FTI College, Law College Road, Pune\",\"FTI College, Law College Road, Pune\",\"FTI College, Law College Road, Pune\",\"FTI College, Law College Road, Pune\",\"FTI College, Law College Road, Pune\",\"FTI College, Law College Road, Pune\",\"FTI College, Law College Road, Pune\",\"FTI College, Law College Road, Pune\",\"FTI College, Law College Road, Pune\",\"FTI College, Law College Road, Pune\",\"FTI College, Law College Road, Pune\",\"FTI College, Law College Road, Pune\",\"FTI College, Law College Road, Pune\",\"FTI College, Law College Road, Pune\",\"FTI College, Law College Road, Pune\",\"FTI College, Law College Road, Pune\",\"FTI College, Law College Road, Pune\",\"FTI College, Law College Road, Pune\",\"FTI College, Law College Road, Pune\",\"FTI College, Law College Road, Pune\",\"FTI College, Law College Road, Pune\",\"FTI College, Law College Road, Pune\",\"FTI College, Law College Road, Pune\",\"FTI College, Law College Road, Pune\",\"FTI College, Law College Road, Pune\",\"FTI College, Law College Road, Pune\",\"FTI College, Law College Road, Pune\",\"FTI College, Law College Road, Pune\",\"FTI College, Law College Road, Pune\",\"FTI College, Law College Road, Pune\",\"FTI College, Law College Road, Pune\",\"FTI College, Law College Road, Pune\",\"FTI College, Law College Road, Pune\",\"FTI College, Law College Road, Pune\",\"FTI College, Law College Road, Pune\",\"FTI College, Law College Road, Pune\",\"FTI College, Law College Road, Pune\",\"FTI College, Law College Road, Pune\",\"FTI College, Law College Road, Pune\",\"FTI College, Law College Road, Pune\",\"FTI College, Law College Road, Pune\",\"FTI College, Law College Road, Pune\",\"FTI College, Law College Road, Pune\",\"FTI College, Law College Road, Pune\",\"FTI College, Law College Road, Pune\",\"FTI College, Law College Road, Pune\",\"FTI College, Law College Road, Pune\",\"FTI College, Law College Road, Pune\",\"FTI College, Law College Road, Pune\",\"FTI College, Law College Road, Pune\",\"FTI College, Law College Road, Pune\",\"FTI College, Law College Road, Pune\",\"FTI College, Law College Road, Pune\",\"FTI College, Law College Road, Pune\",\"FTI College, Law College Road, Pune\",\"FTI College, Law College Road, Pune\",\"FTI College, Law College Road, Pune\",\"FTI College, Law College Road, Pune\",\"FTI College, Law College Road, Pune\",\"FTI College, Law College Road, Pune\",\"FTI College, Law College Road, Pune\",\"FTI College, Law College Road, Pune\",\"FTI College, Law College Road, Pune\",\"FTI College, Law College Road, Pune\",\"FTI College, Law College Road, Pune\",\"FTI College, Law College Road, Pune\",\"FTI College, Law College Road, Pune\",\"FTI College, Law College Road, Pune\",\"FTI College, Law College Road, Pune\",\"FTI College, Law College Road, Pune\",\"FTI College, Law College Road, Pune\",\"FTI College, Law College Road, Pune\",\"FTI College, Law College Road, Pune\",\"FTI College, Law College Road, Pune\",\"FTI College, Law College Road, Pune\",\"FTI College, Law College Road, Pune\",\"FTI College, Law College Road, Pune\",\"FTI College, Law College Road, Pune\",\"FTI College, Law College Road, Pune\",\"FTI College, Law College Road, Pune\",\"FTI College, Law College Road, Pune\",\"FTI College, Law College Road, Pune\",\"FTI College, Law College Road, Pune\",\"FTI College, Law College Road, Pune\",\"FTI College, Law College Road, Pune\",\"FTI College, Law College Road, Pune\",\"FTI College, Law College Road, Pune\",\"FTI College, Law College Road, Pune\",\"FTI College, Law College Road, Pune\",\"FTI College, Law College Road, Pune\",\"FTI College, Law College Road, Pune\",\"FTI College, Law College Road, Pune\",\"FTI College, Law College Road, Pune\",\"FTI College, Law College Road, Pune\",\"FTI College, Law College Road, Pune\",\"FTI College, Law College Road, Pune\",\"FTI College, Law College Road, Pune\",\"FTI College, Law College Road, Pune\",\"FTI College, Law College Road, Pune\",\"FTI College, Law College Road, Pune\",\"FTI College, Law College Road, Pune\",\"FTI College, Law College Road, Pune\",\"FTI College, Law College Road, Pune\",\"FTI College, Law College Road, Pune\",\"FTI College, Law College Road, Pune\",\"FTI College, Law College Road, Pune\",\"FTI College, Law College Road, Pune\",\"FTI College, Law College Road, Pune\",\"FTI College, Law College Road, Pune\",\"FTI College, Law College Road, Pune\",\"FTI College, Law College Road, Pune\",\"FTI College, Law College Road, Pune\",\"FTI College, Law College Road, Pune\",\"FTI College, Law College Road, Pune\",\"FTI College, Law College Road, Pune\",\"FTI College, Law College Road, Pune\",\"FTI College, Law College Road, Pune\",\"FTI College, Law College Road, Pune\",\"FTI College, Law College Road, Pune\",\"FTI College, Law College Road, Pune\",\"FTI College, Law College Road, Pune\",\"FTI College, Law College Road, Pune\",\"FTI College, Law College Road, Pune\",\"FTI College, Law College Road, Pune\",\"FTI College, Law College Road, Pune\",\"FTI College, Law College Road, Pune\",\"FTI College, Law College Road, Pune\",\"FTI College, Law College Road, Pune\",\"FTI College, Law College Road, Pune\",\"FTI College, Law College Road, Pune\",\"FTI College, Law College Road, Pune\",\"FTI College, Law College Road, Pune\",\"FTI College, Law College Road, Pune\",\"FTI College, Law College Road, Pune\",\"FTI College, Law College Road, Pune\",\"FTI College, Law College Road, Pune\",\"FTI College, Law College Road, Pune\",\"FTI College, Law College Road, Pune\",\"FTI College, Law College Road, Pune\",\"FTI College, Law College Road, Pune\",\"FTI College, Law College Road, Pune\",\"FTI College, Law College Road, Pune\",\"FTI College, Law College Road, Pune\",\"FTI College, Law College Road, Pune\",\"FTI College, Law College Road, Pune\",\"FTI College, Law College Road, Pune\",\"FTI College, Law College Road, Pune\",\"FTI College, Law College Road, Pune\",\"FTI College, Law College Road, Pune\",\"FTI College, Law College Road, Pune\",\"FTI College, Law College Road, Pune\",\"FTI College, Law College Road, Pune\",\"FTI College, Law College Road, Pune\",\"FTI College, Law College Road, Pune\",\"FTI College, Law College Road, Pune\",\"FTI College, Law College Road, Pune\",\"FTI College, Law College Road, Pune\",\"FTI College, Law College Road, Pune\",\"FTI College, Law College Road, Pune\",\"FTI College, Law College Road, Pune\",\"FTI College, Law College Road, Pune\",\"FTI College, Law College Road, Pune\",\"FTI College, Law College Road, Pune\",\"FTI College, Law College Road, Pune\",\"FTI College, Law College Road, Pune\",\"FTI College, Law College Road, Pune\",\"FTI College, Law College Road, Pune\",\"FTI College, Law College Road, Pune\",\"FTI College, Law College Road, Pune\",\"FTI College, Law College Road, Pune\",\"FTI College, Law College Road, Pune\",\"FTI College, Law College Road, Pune\",\"FTI College, Law College Road, Pune\",\"FTI College, Law College Road, Pune\",\"FTI College, Law College Road, Pune\",\"FTI College, Law College Road, Pune\",\"FTI College, Law College Road, Pune\",\"FTI College, Law College Road, Pune\",\"FTI College, Law College Road, Pune\",\"FTI College, Law College Road, Pune\",\"FTI College, Law College Road, Pune\",\"FTI College, Law College Road, Pune\",\"FTI College, Law College Road, Pune\",\"FTI College, Law College Road, Pune\",\"FTI College, Law College Road, Pune\",\"FTI College, Law College Road, Pune\",\"FTI College, Law College Road, Pune\",\"FTI College, Law College Road, Pune\",\"FTI College, Law College Road, Pune\",\"FTI College, Law College Road, Pune\",\"FTI College, Law College Road, Pune\",\"FTI College, Law College Road, Pune\",\"FTI College, Law College Road, Pune\",\"FTI College, Law College Road, Pune\",\"FTI College, Law College Road, Pune\",\"FTI College, Law College Road, Pune\",\"FTI College, Law College Road, Pune\",\"FTI College, Law College Road, Pune\",\"FTI College, Law College Road, Pune\",\"FTI College, Law College Road, Pune\",\"FTI College, Law College Road, Pune\",\"FTI College, Law College Road, Pune\",\"FTI College, Law College Road, Pune\",\"FTI College, Law College Road, Pune\",\"FTI College, Law College Road, Pune\",\"FTI College, Law College Road, Pune\",\"FTI College, Law College Road, Pune\",\"FTI College, Law College Road, Pune\",\"FTI College, Law College Road, Pune\",\"FTI College, Law College Road, Pune\",\"FTI College, Law College Road, Pune\",\"FTI College, Law College Road, Pune\",\"FTI College, Law College Road, Pune\",\"FTI College, Law College Road, Pune\",\"FTI College, Law College Road, Pune\",\"FTI College, Law College Road, Pune\",\"FTI College, Law College Road, Pune\",\"FTI College, Law College Road, Pune\",\"FTI College, Law College Road, Pune\",\"FTI College, Law College Road, Pune\",\"FTI College, Law College Road, Pune\",\"FTI College, Law College Road, Pune\",\"FTI College, Law College Road, Pune\",\"FTI College, Law College Road, Pune\",\"FTI College, Law College Road, Pune\",\"FTI College, Law College Road, Pune\",\"FTI College, Law College Road, Pune\",\"FTI College, Law College Road, Pune\",\"FTI College, Law College Road, Pune\",\"FTI College, Law College Road, Pune\",\"FTI College, Law College Road, Pune\",\"FTI College, Law College Road, Pune\",\"FTI College, Law College Road, Pune\",\"FTI College, Law College Road, Pune\",\"FTI College, Law College Road, Pune\",\"FTI College, Law College Road, Pune\",\"FTI College, Law College Road, Pune\",\"FTI College, Law College Road, Pune\",\"FTI College, Law College Road, Pune\",\"FTI College, Law College Road, Pune\",\"FTI College, Law College Road, Pune\",\"FTI College, Law College Road, Pune\",\"FTI College, Law College Road, Pune\",\"FTI College, Law College Road, Pune\",\"FTI College, Law College Road, Pune\",\"FTI College, Law College Road, Pune\",\"FTI College, Law College Road, Pune\",\"FTI College, Law College Road, Pune\",\"FTI College, Law College Road, Pune\",\"FTI College, Law College Road, Pune\",\"FTI College, Law College Road, Pune\",\"FTI College, Law College Road, Pune\",\"FTI College, Law College Road, Pune\",\"FTI College, Law College Road, Pune\",\"FTI College, Law College Road, Pune\",\"FTI College, Law College Road, Pune\",\"FTI College, Law College Road, Pune\",\"FTI College, Law College Road, Pune\",\"FTI College, Law College Road, Pune\",\"FTI College, Law College Road, Pune\",\"FTI College, Law College Road, Pune\",\"FTI College, Law College Road, Pune\",\"FTI College, Law College Road, Pune\",\"FTI College, Law College Road, Pune\",\"FTI College, Law College Road, Pune\",\"FTI College, Law College Road, Pune\",\"FTI College, Law College Road, Pune\",\"FTI College, Law College Road, Pune\",\"FTI College, Law College Road, Pune\",\"FTI College, Law College Road, Pune\",\"FTI College, Law College Road, Pune\",\"FTI College, Law College Road, Pune\",\"FTI College, Law College Road, Pune\",\"FTI College, Law College Road, Pune\",\"FTI College, Law College Road, Pune\",\"FTI College, Law College Road, Pune\",\"FTI College, Law College Road, Pune\",\"FTI College, Law College Road, Pune\",\"FTI College, Law College Road, Pune\",\"FTI College, Law College Road, Pune\",\"FTI College, Law College Road, Pune\",\"FTI College, Law College Road, Pune\",\"FTI College, Law College Road, Pune\",\"FTI College, Law College Road, Pune\",\"FTI College, Law College Road, Pune\",\"FTI College, Law College Road, Pune\",\"FTI College, Law College Road, Pune\",\"FTI College, Law College Road, Pune\",\"FTI College, Law College Road, Pune\",\"FTI College, Law College Road, Pune\",\"FTI College, Law College Road, Pune\",\"FTI College, Law College Road, Pune\",\"FTI College, Law College Road, Pune\",\"FTI College, Law College Road, Pune\",\"FTI College, Law College Road, Pune\",\"FTI College, Law College Road, Pune\",\"FTI College, Law College Road, Pune\",\"FTI College, Law College Road, Pune\",\"FTI College, Law College Road, Pune\",\"FTI College, Law College Road, Pune\",\"FTI College, Law College Road, Pune\",\"FTI College, Law College Road, Pune\",\"FTI College, Law College Road, Pune\",\"FTI College, Law College Road, Pune\",\"FTI College, Law College Road, Pune\",\"FTI College, Law College Road, Pune\",\"FTI College, Law College Road, Pune\",\"FTI College, Law College Road, Pune\",\"FTI College, Law College Road, Pune\",\"FTI College, Law College Road, Pune\",\"FTI College, Law College Road, Pune\",\"FTI College, Law College Road, Pune\",\"FTI College, Law College Road, Pune\",\"FTI College, Law College Road, Pune\",\"FTI College, Law College Road, Pune\",\"FTI College, Law College Road, Pune\",\"FTI College, Law College Road, Pune\",\"FTI College, Law College Road, Pune\",\"FTI College, Law College Road, Pune\",\"FTI College, Law College Road, Pune\",\"FTI College, Law College Road, Pune\",\"FTI College, Law College Road, Pune\",\"FTI College, Law College Road, Pune\",\"FTI College, Law College Road, Pune\",\"FTI College, Law College Road, Pune\",\"FTI College, Law College Road, Pune\",\"FTI College, Law College Road, Pune\",\"FTI College, Law College Road, Pune\",\"FTI College, Law College Road, Pune\",\"FTI College, Law College Road, Pune\",\"FTI College, Law College Road, Pune\",\"FTI College, Law College Road, Pune\",\"FTI College, Law College Road, Pune\",\"FTI College, Law College Road, Pune\",\"FTI College, Law College Road, Pune\",\"FTI College, Law College Road, Pune\",\"FTI College, Law College Road, Pune\",\"FTI College, Law College Road, Pune\",\"FTI College, Law College Road, Pune\",\"FTI College, Law College Road, Pune\",\"FTI College, Law College Road, Pune\",\"FTI College, Law College Road, Pune\",\"FTI College, Law College Road, Pune\",\"FTI College, Law College Road, Pune\",\"FTI College, Law College Road, Pune\",\"FTI College, Law College Road, Pune\",\"FTI College, Law College Road, Pune\",\"FTI College, Law College Road, Pune\",\"FTI College, Law College Road, Pune\",\"FTI College, Law College Road, Pune\",\"FTI College, Law College Road, Pune\",\"FTI College, Law College Road, Pune\",\"FTI College, Law College Road, Pune\",\"FTI College, Law College Road, Pune\",\"FTI College, Law College Road, Pune\",\"FTI College, Law College Road, Pune\",\"FTI College, Law College Road, Pune\",\"FTI College, Law College Road, Pune\",\"FTI College, Law College Road, Pune\",\"FTI College, Law College Road, Pune\",\"FTI College, Law College Road, Pune\",\"FTI College, Law College Road, Pune\",\"FTI College, Law College Road, Pune\",\"FTI College, Law College Road, Pune\",\"FTI College, Law College Road, Pune\",\"FTI College, Law College Road, Pune\",\"FTI College, Law College Road, Pune\",\"FTI College, Law College Road, Pune\",\"FTI College, Law College Road, Pune\",\"FTI College, Law College Road, Pune\",\"FTI College, Law College Road, Pune\",\"FTI College, Law College Road, Pune\",\"FTI College, Law College Road, Pune\",\"FTI College, Law College Road, Pune\",\"FTI College, Law College Road, Pune\",\"FTI College, Law College Road, Pune\",\"FTI College, Law College Road, Pune\",\"FTI College, Law College Road, Pune\",\"FTI College, Law College Road, Pune\",\"FTI College, Law College Road, Pune\",\"FTI College, Law College Road, Pune\",\"FTI College, Law College Road, Pune\",\"FTI College, Law College Road, Pune\",\"FTI College, Law College Road, Pune\",\"FTI College, Law College Road, Pune\",\"FTI College, Law College Road, Pune\",\"FTI College, Law College Road, Pune\",\"FTI College, Law College Road, Pune\",\"FTI College, Law College Road, Pune\",\"FTI College, Law College Road, Pune\",\"FTI College, Law College Road, Pune\",\"FTI College, Law College Road, Pune\",\"FTI College, Law College Road, Pune\",\"FTI College, Law College Road, Pune\",\"FTI College, Law College Road, Pune\",\"FTI College, Law College Road, Pune\",\"FTI College, Law College Road, Pune\",\"FTI College, Law College Road, Pune\",\"FTI College, Law College Road, Pune\",\"FTI College, Law College Road, Pune\",\"FTI College, Law College Road, Pune\",\"FTI College, Law College Road, Pune\",\"FTI College, Law College Road, Pune\",\"FTI College, Law College Road, Pune\",\"FTI College, Law College Road, Pune\",\"FTI College, Law College Road, Pune\",\"FTI College, Law College Road, Pune\",\"FTI College, Law College Road, Pune\",\"FTI College, Law College Road, Pune\",\"FTI College, Law College Road, Pune\",\"FTI College, Law College Road, Pune\",\"FTI College, Law College Road, Pune\",\"FTI College, Law College Road, Pune\",\"FTI College, Law College Road, Pune\",\"FTI College, Law College Road, Pune\",\"FTI College, Law College Road, Pune\",\"FTI College, Law College Road, Pune\",\"FTI College, Law College Road, Pune\",\"FTI College, Law College Road, Pune\",\"FTI College, Law College Road, Pune\",\"FTI College, Law College Road, Pune\",\"FTI College, Law College Road, Pune\",\"FTI College, Law College Road, Pune\",\"FTI College, Law College Road, Pune\",\"FTI College, Law College Road, Pune\",\"FTI College, Law College Road, Pune\",\"FTI College, Law College Road, Pune\",\"FTI College, Law College Road, Pune\",\"FTI College, Law College Road, Pune\",\"FTI College, Law College Road, Pune\",\"FTI College, Law College Road, Pune\",\"FTI College, Law College Road, Pune\",\"FTI College, Law College Road, Pune\",\"FTI College, Law College Road, Pune\",\"FTI College, Law College Road, Pune\",\"FTI College, Law College Road, Pune\",\"FTI College, Law College Road, Pune\",\"FTI College, Law College Road, Pune\",\"FTI College, Law College Road, Pune\",\"FTI College, Law College Road, Pune\",\"FTI College, Law College Road, Pune\",\"FTI College, Law College Road, Pune\",\"FTI College, Law College Road, Pune\",\"FTI College, Law College Road, Pune\",\"FTI College, Law College Road, Pune\",\"FTI College, Law College Road, Pune\",\"FTI College, Law College Road, Pune\",\"FTI College, Law College Road, Pune\",\"FTI College, Law College Road, Pune\",\"FTI College, Law College Road, Pune\",\"FTI College, Law College Road, Pune\",\"FTI College, Law College Road, Pune\",\"FTI College, Law College Road, Pune\",\"FTI College, Law College Road, Pune\",\"FTI College, Law College Road, Pune\",\"FTI College, Law College Road, Pune\",\"FTI College, Law College Road, Pune\",\"FTI College, Law College Road, Pune\",\"FTI College, Law College Road, Pune\",\"FTI College, Law College Road, Pune\",\"FTI College, Law College Road, Pune\",\"FTI College, Law College Road, Pune\",\"FTI College, Law College Road, Pune\",\"FTI College, Law College Road, Pune\",\"FTI College, Law College Road, Pune\",\"FTI College, Law College Road, Pune\",\"FTI College, Law College Road, Pune\",\"FTI College, Law College Road, Pune\",\"FTI College, Law College Road, Pune\",\"FTI College, Law College Road, Pune\",\"FTI College, Law College Road, Pune\",\"FTI College, Law College Road, Pune\",\"FTI College, Law College Road, Pune\",\"FTI College, Law College Road, Pune\",\"FTI College, Law College Road, Pune\",\"FTI College, Law College Road, Pune\",\"FTI College, Law College Road, Pune\",\"FTI College, Law College Road, Pune\",\"FTI College, Law College Road, Pune\",\"FTI College, Law College Road, Pune\",\"FTI College, Law College Road, Pune\",\"FTI College, Law College Road, Pune\",\"FTI College, Law College Road, Pune\",\"FTI College, Law College Road, Pune\",\"FTI College, Law College Road, Pune\",\"FTI College, Law College Road, Pune\",\"FTI College, Law College Road, Pune\",\"FTI College, Law College Road, Pune\",\"FTI College, Law College Road, Pune\",\"FTI College, Law College Road, Pune\",\"FTI College, Law College Road, Pune\",\"FTI College, Law College Road, Pune\",\"FTI College, Law College Road, Pune\",\"FTI College, Law College Road, Pune\",\"FTI College, Law College Road, Pune\",\"FTI College, Law College Road, Pune\",\"FTI College, Law College Road, Pune\",\"FTI College, Law College Road, Pune\",\"FTI College, Law College Road, Pune\",\"FTI College, Law College Road, Pune\",\"FTI College, Law College Road, Pune\",\"FTI College, Law College Road, Pune\",\"FTI College, Law College Road, Pune\",\"FTI College, Law College Road, Pune\",\"FTI College, Law College Road, Pune\",\"FTI College, Law College Road, Pune\",\"FTI College, Law College Road, Pune\",\"FTI College, Law College Road, Pune\",\"FTI College, Law College Road, Pune\",\"FTI College, Law College Road, Pune\",\"FTI College, Law College Road, Pune\",\"FTI College, Law College Road, Pune\",\"FTI College, Law College Road, Pune\",\"FTI College, Law College Road, Pune\",\"FTI College, Law College Road, Pune\",\"FTI College, Law College Road, Pune\",\"FTI College, Law College Road, Pune\",\"FTI College, Law College Road, Pune\",\"FTI College, Law College Road, Pune\",\"FTI College, Law College Road, Pune\",\"FTI College, Law College Road, Pune\",\"FTI College, Law College Road, Pune\",\"FTI College, Law College Road, Pune\",\"FTI College, Law College Road, Pune\",\"FTI College, Law College Road, Pune\",\"FTI College, Law College Road, Pune\",\"FTI College, Law College Road, Pune\",\"FTI College, Law College Road, Pune\",\"FTI College, Law College Road, Pune\",\"FTI College, Law College Road, Pune\",\"FTI College, Law College Road, Pune\",\"FTI College, Law College Road, Pune\",\"FTI College, Law College Road, Pune\",\"FTI College, Law College Road, Pune\",\"FTI College, Law College Road, Pune\",\"FTI College, Law College Road, Pune\",\"FTI College, Law College Road, Pune\",\"FTI College, Law College Road, Pune\",\"FTI College, Law College Road, Pune\",\"FTI College, Law College Road, Pune\",\"FTI College, Law College Road, Pune\",\"FTI College, Law College Road, Pune\",\"FTI College, Law College Road, Pune\",\"FTI College, Law College Road, Pune\",\"FTI College, Law College Road, Pune\",\"FTI College, Law College Road, Pune\",\"FTI College, Law College Road, Pune\",\"FTI College, Law College Road, Pune\",\"FTI College, Law College Road, Pune\",\"FTI College, Law College Road, Pune\",\"FTI College, Law College Road, Pune\",\"FTI College, Law College Road, Pune\",\"FTI College, Law College Road, Pune\",\"FTI College, Law College Road, Pune\",\"FTI College, Law College Road, Pune\",\"FTI College, Law College Road, Pune\",\"FTI College, Law College Road, Pune\",\"FTI College, Law College Road, Pune\",\"FTI College, Law College Road, Pune\",\"FTI College, Law College Road, Pune\",\"FTI College, Law College Road, Pune\",\"FTI College, Law College Road, Pune\",\"FTI College, Law College Road, Pune\",\"FTI College, Law College Road, Pune\",\"FTI College, Law College Road, Pune\",\"FTI College, Law College Road, Pune\",\"FTI College, Law College Road, Pune\",\"FTI College, Law College Road, Pune\",\"FTI College, Law College Road, Pune\",\"FTI College, Law College Road, Pune\",\"FTI College, Law College Road, Pune\",\"FTI College, Law College Road, Pune\",\"FTI College, Law College Road, Pune\",\"FTI College, Law College Road, Pune\",\"FTI College, Law College Road, Pune\",\"FTI College, Law College Road, Pune\",\"FTI College, Law College Road, Pune\",\"FTI College, Law College Road, Pune\",\"FTI College, Law College Road, Pune\",\"FTI College, Law College Road, Pune\",\"FTI College, Law College Road, Pune\",\"FTI College, Law College Road, Pune\",\"FTI College, Law College Road, Pune\",\"FTI College, Law College Road, Pune\",\"FTI College, Law College Road, Pune\",\"FTI College, Law College Road, Pune\",\"FTI College, Law College Road, Pune\",\"FTI College, Law College Road, Pune\",\"FTI College, Law College Road, Pune\",\"FTI College, Law College Road, Pune\",\"FTI College, Law College Road, Pune\",\"FTI College, Law College Road, Pune\",\"FTI College, Law College Road, Pune\",\"FTI College, Law College Road, Pune\",\"FTI College, Law College Road, Pune\",\"FTI College, Law College Road, Pune\",\"FTI College, Law College Road, Pune\",\"FTI College, Law College Road, Pune\",\"FTI College, Law College Road, Pune\",\"FTI College, Law College Road, Pune\",\"FTI College, Law College Road, Pune\",\"FTI College, Law College Road, Pune\",\"FTI College, Law College Road, Pune\",\"FTI College, Law College Road, Pune\",\"FTI College, Law College Road, Pune\",\"FTI College, Law College Road, Pune\",\"FTI College, Law College Road, Pune\",\"FTI College, Law College Road, Pune\",\"FTI College, Law College Road, Pune\",\"FTI College, Law College Road, Pune\",\"FTI College, Law College Road, Pune\",\"FTI College, Law College Road, Pune\",\"FTI College, Law College Road, Pune\",\"FTI College, Law College Road, Pune\",\"FTI College, Law College Road, Pune\",\"FTI College, Law College Road, Pune\",\"FTI College, Law College Road, Pune\",\"FTI College, Law College Road, Pune\",\"FTI College, Law College Road, Pune\",\"FTI College, Law College Road, Pune\",\"FTI College, Law College Road, Pune\",\"FTI College, Law College Road, Pune\",\"FTI College, Law College Road, Pune\",\"FTI College, Law College Road, Pune\",\"FTI College, Law College Road, Pune\",\"FTI College, Law College Road, Pune\",\"FTI College, Law College Road, Pune\",\"FTI College, Law College Road, Pune\",\"FTI College, Law College Road, Pune\",\"FTI College, Law College Road, Pune\",\"FTI College, Law College Road, Pune\",\"FTI College, Law College Road, Pune\",\"FTI College, Law College Road, Pune\",\"FTI College, Law College Road, Pune\",\"FTI College, Law College Road, Pune\",\"FTI College, Law College Road, Pune\",\"FTI College, Law College Road, Pune\",\"FTI College, Law College Road, Pune\",\"FTI College, Law College Road, Pune\",\"FTI College, Law College Road, Pune\",\"FTI College, Law College Road, Pune\",\"FTI College, Law College Road, Pune\",\"FTI College, Law College Road, Pune\",\"FTI College, Law College Road, Pune\",\"FTI College, Law College Road, Pune\",\"FTI College, Law College Road, Pune\",\"FTI College, Law College Road, Pune\",\"FTI College, Law College Road, Pune\",\"FTI College, Law College Road, Pune\",\"FTI College, Law College Road, Pune\",\"FTI College, Law College Road, Pune\",\"FTI College, Law College Road, Pune\",\"FTI College, Law College Road, Pune\",\"FTI College, Law College Road, Pune\",\"FTI College, Law College Road, Pune\",\"FTI College, Law College Road, Pune\",\"FTI College, Law College Road, Pune\",\"FTI College, Law College Road, Pune\",\"FTI College, Law College Road, Pune\",\"FTI College, Law College Road, Pune\",\"FTI College, Law College Road, Pune\",\"FTI College, Law College Road, Pune\",\"FTI College, Law College Road, Pune\",\"FTI College, Law College Road, Pune\",\"FTI College, Law College Road, Pune\",\"FTI College, Law College Road, Pune\",\"FTI College, Law College Road, Pune\",\"FTI College, Law College Road, Pune\",\"FTI College, Law College Road, Pune\",\"FTI College, Law College Road, Pune\",\"FTI College, Law College Road, Pune\",\"FTI College, Law College Road, Pune\",\"FTI College, Law College Road, Pune\",\"FTI College, Law College Road, Pune\",\"FTI College, Law College Road, Pune\",\"FTI College, Law College Road, Pune\",\"FTI College, Law College Road, Pune\",\"FTI College, Law College Road, Pune\",\"FTI College, Law College Road, Pune\",\"FTI College, Law College Road, Pune\",\"FTI College, Law College Road, Pune\",\"FTI College, Law College Road, Pune\",\"FTI College, Law College Road, Pune\",\"FTI College, Law College Road, Pune\",\"FTI College, Law College Road, Pune\",\"FTI College, Law College Road, Pune\",\"FTI College, Law College Road, Pune\",\"FTI College, Law College Road, Pune\",\"FTI College, Law College Road, Pune\",\"FTI College, Law College Road, Pune\",\"FTI College, Law College Road, Pune\",\"FTI College, Law College Road, Pune\",\"FTI College, Law College Road, Pune\",\"FTI College, Law College Road, Pune\",\"FTI College, Law College Road, Pune\",\"FTI College, Law College Road, Pune\",\"FTI College, Law College Road, Pune\",\"FTI College, Law College Road, Pune\",\"FTI College, Law College Road, Pune\",\"FTI College, Law College Road, Pune\",\"FTI College, Law College Road, Pune\",\"FTI College, Law College Road, Pune\",\"FTI College, Law College Road, Pune\",\"FTI College, Law College Road, Pune\",\"FTI College, Law College Road, Pune\",\"FTI College, Law College Road, Pune\",\"FTI College, Law College Road, Pune\",\"FTI College, Law College Road, Pune\",\"FTI College, Law College Road, Pune\",\"FTI College, Law College Road, Pune\",\"FTI College, Law College Road, Pune\",\"FTI College, Law College Road, Pune\",\"FTI College, Law College Road, Pune\",\"FTI College, Law College Road, Pune\",\"FTI College, Law College Road, Pune\",\"FTI College, Law College Road, Pune\",\"FTI College, Law College Road, Pune\",\"FTI College, Law College Road, Pune\",\"FTI College, Law College Road, Pune\",\"FTI College, Law College Road, Pune\",\"FTI College, Law College Road, Pune\",\"FTI College, Law College Road, Pune\",\"FTI College, Law College Road, Pune\",\"FTI College, Law College Road, Pune\",\"FTI College, Law College Road, Pune\",\"FTI College, Law College Road, Pune\",\"FTI College, Law College Road, Pune\",\"FTI College, Law College Road, Pune\",\"FTI College, Law College Road, Pune\",\"FTI College, Law College Road, Pune\",\"FTI College, Law College Road, Pune\",\"FTI College, Law College Road, Pune\",\"FTI College, Law College Road, Pune\",\"FTI College, Law College Road, Pune\",\"FTI College, Law College Road, Pune\",\"FTI College, Law College Road, Pune\",\"FTI College, Law College Road, Pune\",\"FTI College, Law College Road, Pune\",\"FTI College, Law College Road, Pune\",\"FTI College, Law College Road, Pune\",\"FTI College, Law College Road, Pune\",\"FTI College, Law College Road, Pune\",\"FTI College, Law College Road, Pune\",\"FTI College, Law College Road, Pune\",\"FTI College, Law College Road, Pune\",\"FTI College, Law College Road, Pune\",\"FTI College, Law College Road, Pune\",\"FTI College, Law College Road, Pune\",\"FTI College, Law College Road, Pune\",\"FTI College, Law College Road, Pune\",\"FTI College, Law College Road, Pune\",\"FTI College, Law College Road, Pune\",\"FTI College, Law College Road, Pune\",\"FTI College, Law College Road, Pune\",\"FTI College, Law College Road, Pune\",\"FTI College, Law College Road, Pune\",\"FTI College, Law College Road, Pune\",\"FTI College, Law College Road, Pune\",\"FTI College, Law College Road, Pune\",\"FTI College, Law College Road, Pune\",\"FTI College, Law College Road, Pune\",\"FTI College, Law College Road, Pune\",\"FTI College, Law College Road, Pune\",\"FTI College, Law College Road, Pune\",\"FTI College, Law College Road, Pune\",\"FTI College, Law College Road, Pune\",\"FTI College, Law College Road, Pune\",\"FTI College, Law College Road, Pune\",\"FTI College, Law College Road, Pune\",\"FTI College, Law College Road, Pune\",\"FTI College, Law College Road, Pune\",\"FTI College, Law College Road, Pune\",\"FTI College, Law College Road, Pune\",\"FTI College, Law College Road, Pune\",\"FTI College, Law College Road, Pune\",\"FTI College, Law College Road, Pune\",\"FTI College, Law College Road, Pune\",\"FTI College, Law College Road, Pune\",\"FTI College, Law College Road, Pune\",\"FTI College, Law College Road, Pune\",\"FTI College, Law College Road, Pune\",\"FTI College, Law College Road, Pune\",\"FTI College, Law College Road, Pune\",\"FTI College, Law College Road, Pune\",\"FTI College, Law College Road, Pune\",\"FTI College, Law College Road, Pune\",\"FTI College, Law College Road, Pune\",\"FTI College, Law College Road, Pune\",\"FTI College, Law College Road, Pune\",\"FTI College, Law College Road, Pune\",\"FTI College, Law College Road, Pune\",\"FTI College, Law College Road, Pune\",\"FTI College, Law College Road, Pune\",\"FTI College, Law College Road, Pune\",\"FTI College, Law College Road, Pune\",\"FTI College, Law College Road, Pune\",\"FTI College, Law College Road, Pune\",\"FTI College, Law College Road, Pune\",\"FTI College, Law College Road, Pune\",\"FTI College, Law College Road, Pune\",\"FTI College, Law College Road, Pune\",\"FTI College, Law College Road, Pune\",\"FTI College, Law College Road, Pune\",\"FTI College, Law College Road, Pune\",\"FTI College, Law College Road, Pune\",\"FTI College, Law College Road, Pune\",\"FTI College, Law College Road, Pune\",\"FTI College, Law College Road, Pune\",\"FTI College, Law College Road, Pune\",\"FTI College, Law College Road, Pune\",\"FTI College, Law College Road, Pune\",\"FTI College, Law College Road, Pune\",\"FTI College, Law College Road, Pune\",\"FTI College, Law College Road, Pune\",\"FTI College, Law College Road, Pune\",\"FTI College, Law College Road, Pune\",\"FTI College, Law College Road, Pune\",\"FTI College, Law College Road, Pune\",\"FTI College, Law College Road, Pune\",\"FTI College, Law College Road, Pune\",\"FTI College, Law College Road, Pune\",\"FTI College, Law College Road, Pune\",\"FTI College, Law College Road, Pune\",\"FTI College, Law College Road, Pune\",\"FTI College, Law College Road, Pune\",\"FTI College, Law College Road, Pune\",\"FTI College, Law College Road, Pune\",\"FTI College, Law College Road, Pune\",\"FTI College, Law College Road, Pune\",\"FTI College, Law College Road, Pune\",\"FTI College, Law College Road, Pune\",\"FTI College, Law College Road, Pune\",\"FTI College, Law College Road, Pune\",\"FTI College, Law College Road, Pune\",\"FTI College, Law College Road, Pune\",\"FTI College, Law College Road, Pune\",\"FTI College, Law College Road, Pune\",\"FTI College, Law College Road, Pune\",\"FTI College, Law College Road, Pune\",\"FTI College, Law College Road, Pune\",\"FTI College, Law College Road, Pune\",\"FTI College, Law College Road, Pune\",\"FTI College, Law College Road, Pune\",\"FTI College, Law College Road, Pune\",\"FTI College, Law College Road, Pune\",\"FTI College, Law College Road, Pune\",\"FTI College, Law College Road, Pune\",\"FTI College, Law College Road, Pune\",\"FTI College, Law College Road, Pune\",\"FTI College, Law College Road, Pune\",\"FTI College, Law College Road, Pune\",\"FTI College, Law College Road, Pune\",\"FTI College, Law College Road, Pune\",\"FTI College, Law College Road, Pune\",\"FTI College, Law College Road, Pune\",\"FTI College, Law College Road, Pune\",\"FTI College, Law College Road, Pune\",\"FTI College, Law College Road, Pune\",\"FTI College, Law College Road, Pune\",\"FTI College, Law College Road, Pune\",\"FTI College, Law College Road, Pune\",\"FTI College, Law College Road, Pune\",\"FTI College, Law College Road, Pune\",\"FTI College, Law College Road, Pune\",\"FTI College, Law College Road, Pune\",\"FTI College, Law College Road, Pune\",\"FTI College, Law College Road, Pune\",\"FTI College, Law College Road, Pune\",\"FTI College, Law College Road, Pune\",\"FTI College, Law College Road, Pune\",\"FTI College, Law College Road, Pune\",\"FTI College, Law College Road, Pune\",\"FTI College, Law College Road, Pune\",\"FTI College, Law College Road, Pune\",\"FTI College, Law College Road, Pune\",\"FTI College, Law College Road, Pune\",\"FTI College, Law College Road, Pune\",\"FTI College, Law College Road, Pune\",\"FTI College, Law College Road, Pune\",\"FTI College, Law College Road, Pune\",\"FTI College, Law College Road, Pune\",\"FTI College, Law College Road, Pune\",\"FTI College, Law College Road, Pune\",\"FTI College, Law College Road, Pune\",\"FTI College, Law College Road, Pune\",\"FTI College, Law College Road, Pune\",\"FTI College, Law College Road, Pune\",\"FTI College, Law College Road, Pune\",\"FTI College, Law College Road, Pune\",\"FTI College, Law College Road, Pune\",\"FTI College, Law College Road, Pune\",\"FTI College, Law College Road, Pune\",\"FTI College, Law College Road, Pune\",\"FTI College, Law College Road, Pune\",\"FTI College, Law College Road, Pune\",\"FTI College, Law College Road, Pune\",\"FTI College, Law College Road, Pune\",\"FTI College, Law College Road, Pune\",\"FTI College, Law College Road, Pune\",\"FTI College, Law College Road, Pune\",\"FTI College, Law College Road, Pune\",\"FTI College, Law College Road, Pune\",\"FTI College, Law College Road, Pune\",\"FTI College, Law College Road, Pune\",\"FTI College, Law College Road, Pune\",\"FTI College, Law College Road, Pune\",\"FTI College, Law College Road, Pune\",\"FTI College, Law College Road, Pune\",\"FTI College, Law College Road, Pune\",\"FTI College, Law College Road, Pune\",\"FTI College, Law College Road, Pune\",\"FTI College, Law College Road, Pune\",\"FTI College, Law College Road, Pune\",\"FTI College, Law College Road, Pune\",\"FTI College, Law College Road, Pune\",\"FTI College, Law College Road, Pune\",\"FTI College, Law College Road, Pune\",\"FTI College, Law College Road, Pune\",\"FTI College, Law College Road, Pune\",\"FTI College, Law College Road, Pune\",\"FTI College, Law College Road, Pune\",\"FTI College, Law College Road, Pune\",\"FTI College, Law College Road, Pune\",\"FTI College, Law College Road, Pune\",\"FTI College, Law College Road, Pune\",\"FTI College, Law College Road, Pune\",\"FTI College, Law College Road, Pune\",\"FTI College, Law College Road, Pune\",\"FTI College, Law College Road, Pune\",\"FTI College, Law College Road, Pune\",\"FTI College, Law College Road, Pune\",\"FTI College, Law College Road, Pune\",\"FTI College, Law College Road, Pune\",\"FTI College, Law College Road, Pune\",\"FTI College, Law College Road, Pune\",\"FTI College, Law College Road, Pune\",\"FTI College, Law College Road, Pune\",\"FTI College, Law College Road, Pune\",\"FTI College, Law College Road, Pune\",\"FTI College, Law College Road, Pune\",\"FTI College, Law College Road, Pune\",\"FTI College, Law College Road, Pune\",\"FTI College, Law College Road, Pune\",\"FTI College, Law College Road, Pune\",\"FTI College, Law College Road, Pune\",\"FTI College, Law College Road, Pune\",\"FTI College, Law College Road, Pune\",\"FTI College, Law College Road, Pune\",\"FTI College, Law College Road, Pune\",\"FTI College, Law College Road, Pune\",\"FTI College, Law College Road, Pune\",\"FTI College, Law College Road, Pune\",\"FTI College, Law College Road, Pune\",\"FTI College, Law College Road, Pune\",\"FTI College, Law College Road, Pune\",\"FTI College, Law College Road, Pune\",\"FTI College, Law College Road, Pune\",\"FTI College, Law College Road, Pune\",\"FTI College, Law College Road, Pune\",\"FTI College, Law College Road, Pune\",\"FTI College, Law College Road, Pune\",\"FTI College, Law College Road, Pune\",\"FTI College, Law College Road, Pune\",\"FTI College, Law College Road, Pune\",\"FTI College, Law College Road, Pune\",\"FTI College, Law College Road, Pune\",\"FTI College, Law College Road, Pune\",\"FTI College, Law College Road, Pune\",\"FTI College, Law College Road, Pune\",\"FTI College, Law College Road, Pune\",\"FTI College, Law College Road, Pune\",\"FTI College, Law College Road, Pune\",\"FTI College, Law College Road, Pune\",\"FTI College, Law College Road, Pune\",\"FTI College, Law College Road, Pune\",\"FTI College, Law College Road, Pune\",\"FTI College, Law College Road, Pune\",\"FTI College, Law College Road, Pune\",\"FTI College, Law College Road, Pune\",\"FTI College, Law College Road, Pune\",\"FTI College, Law College Road, Pune\",\"FTI College, Law College Road, Pune\",\"FTI College, Law College Road, Pune\",\"FTI College, Law College Road, Pune\",\"FTI College, Law College Road, Pune\",\"FTI College, Law College Road, Pune\",\"FTI College, Law College Road, Pune\",\"FTI College, Law College Road, Pune\",\"FTI College, Law College Road, Pune\",\"FTI College, Law College Road, Pune\",\"FTI College, Law College Road, Pune\",\"FTI College, Law College Road, Pune\",\"FTI College, Law College Road, Pune\",\"FTI College, Law College Road, Pune\",\"FTI College, Law College Road, Pune\",\"FTI College, Law College Road, Pune\",\"FTI College, Law College Road, Pune\",\"FTI College, Law College Road, Pune\",\"FTI College, Law College Road, Pune\",\"FTI College, Law College Road, Pune\",\"FTI College, Law College Road, Pune\",\"FTI College, Law College Road, Pune\",\"FTI College, Law College Road, Pune\",\"FTI College, Law College Road, Pune\",\"FTI College, Law College Road, Pune\",\"FTI College, Law College Road, Pune\",\"FTI College, Law College Road, Pune\",\"FTI College, Law College Road, Pune\",\"FTI College, Law College Road, Pune\",\"FTI College, Law College Road, Pune\",\"FTI College, Law College Road, Pune\",\"FTI College, Law College Road, Pune\",\"FTI College, Law College Road, Pune\",\"FTI College, Law College Road, Pune\",\"FTI College, Law College Road, Pune\",\"FTI College, Law College Road, Pune\",\"FTI College, Law College Road, Pune\",\"FTI College, Law College Road, Pune\",\"FTI College, Law College Road, Pune\",\"FTI College, Law College Road, Pune\",\"FTI College, Law College Road, Pune\",\"FTI College, Law College Road, Pune\",\"FTI College, Law College Road, Pune\",\"FTI College, Law College Road, Pune\",\"FTI College, Law College Road, Pune\",\"FTI College, Law College Road, Pune\",\"FTI College, Law College Road, Pune\",\"FTI College, Law College Road, Pune\",\"FTI College, Law College Road, Pune\",\"FTI College, Law College Road, Pune\",\"FTI College, Law College Road, Pune\",\"FTI College, Law College Road, Pune\",\"FTI College, Law College Road, Pune\",\"FTI College, Law College Road, Pune\",\"FTI College, Law College Road, Pune\",\"FTI College, Law College Road, Pune\",\"FTI College, Law College Road, Pune\",\"FTI College, Law College Road, Pune\",\"FTI College, Law College Road, Pune\",\"FTI College, Law College Road, Pune\",\"FTI College, Law College Road, Pune\",\"FTI College, Law College Road, Pune\",\"FTI College, Law College Road, Pune\",\"FTI College, Law College Road, Pune\",\"FTI College, Law College Road, Pune\",\"FTI College, Law College Road, Pune\",\"FTI College, Law College Road, Pune\",\"FTI College, Law College Road, Pune\",\"FTI College, Law College Road, Pune\",\"FTI College, Law College Road, Pune\",\"FTI College, Law College Road, Pune\",\"FTI College, Law College Road, Pune\",\"FTI College, Law College Road, Pune\",\"FTI College, Law College Road, Pune\",\"FTI College, Law College Road, Pune\",\"FTI College, Law College Road, Pune\",\"FTI College, Law College Road, Pune\",\"FTI College, Law College Road, Pune\",\"FTI College, Law College Road, Pune\",\"FTI College, Law College Road, Pune\",\"FTI College, Law College Road, Pune\",\"FTI College, Law College Road, Pune\",\"FTI College, Law College Road, Pune\",\"FTI College, Law College Road, Pune\",\"FTI College, Law College Road, Pune\",\"FTI College, Law College Road, Pune\",\"FTI College, Law College Road, Pune\",\"FTI College, Law College Road, Pune\",\"FTI College, Law College Road, Pune\",\"FTI College, Law College Road, Pune\",\"FTI College, Law College Road, Pune\",\"FTI College, Law College Road, Pune\",\"FTI College, Law College Road, Pune\",\"FTI College, Law College Road, Pune\",\"FTI College, Law College Road, Pune\",\"FTI College, Law College Road, Pune\",\"FTI College, Law College Road, Pune\",\"FTI College, Law College Road, Pune\",\"FTI College, Law College Road, Pune\",\"FTI College, Law College Road, Pune\",\"FTI College, Law College Road, Pune\",\"FTI College, Law College Road, Pune\",\"FTI College, Law College Road, Pune\",\"FTI College, Law College Road, Pune\",\"FTI College, Law College Road, Pune\",\"FTI College, Law College Road, Pune\",\"FTI College, Law College Road, Pune\",\"FTI College, Law College Road, Pune\",\"FTI College, Law College Road, Pune\",\"FTI College, Law College Road, Pune\",\"FTI College, Law College Road, Pune\",\"FTI College, Law College Road, Pune\",\"FTI College, Law College Road, Pune\",\"FTI College, Law College Road, Pune\",\"FTI College, Law College Road, Pune\",\"FTI College, Law College Road, Pune\",\"FTI College, Law College Road, Pune\",\"FTI College, Law College Road, Pune\",\"FTI College, Law College Road, Pune\",\"FTI College, Law College Road, Pune\",\"FTI College, Law College Road, Pune\",\"FTI College, Law College Road, Pune\",\"FTI College, Law College Road, Pune\",\"FTI College, Law College Road, Pune\",\"FTI College, Law College Road, Pune\",\"FTI College, Law College Road, Pune\",\"FTI College, Law College Road, Pune\",\"FTI College, Law College Road, Pune\",\"FTI College, Law College Road, Pune\",\"FTI College, Law College Road, Pune\",\"FTI College, Law College Road, Pune\",\"FTI College, Law College Road, Pune\",\"FTI College, Law College Road, Pune\",\"FTI College, Law College Road, Pune\",\"FTI College, Law College Road, Pune\",\"FTI College, Law College Road, Pune\",\"FTI College, Law College Road, Pune\",\"FTI College, Law College Road, Pune\",\"FTI College, Law College Road, Pune\",\"FTI College, Law College Road, Pune\",\"FTI College, Law College Road, Pune\",\"FTI College, Law College Road, Pune\",\"FTI College, Law College Road, Pune\",\"FTI College, Law College Road, Pune\",\"FTI College, Law College Road, Pune\",\"Yerawada, Pune, Maharashtra\",\"Yerawada, Pune, Maharashtra\",\"Yerawada, Pune, Maharashtra\",\"Yerawada, Pune, Maharashtra\",\"Yerawada, Pune, Maharashtra\",\"Yerawada, Pune, Maharashtra\",\"Yerawada, Pune, Maharashtra\",\"Yerawada, Pune, Maharashtra\",\"Yerawada, Pune, Maharashtra\",\"Yerawada, Pune, Maharashtra\",\"Yerawada, Pune, Maharashtra\",\"Yerawada, Pune, Maharashtra\",\"Yerawada, Pune, Maharashtra\",\"Yerawada, Pune, Maharashtra\",\"Yerawada, Pune, Maharashtra\",\"Yerawada, Pune, Maharashtra\",\"Yerawada, Pune, Maharashtra\",\"Yerawada, Pune, Maharashtra\",\"Yerawada, Pune, Maharashtra\",\"Yerawada, Pune, Maharashtra\",\"Yerawada, Pune, Maharashtra\",\"Yerawada, Pune, Maharashtra\",\"Yerawada, Pune, Maharashtra\",\"Yerawada, Pune, Maharashtra\",\"Yerawada, Pune, Maharashtra\",\"Yerawada, Pune, Maharashtra\",\"Yerawada, Pune, Maharashtra\",\"Yerawada, Pune, Maharashtra\",\"Yerawada, Pune, Maharashtra\",\"Yerawada, Pune, Maharashtra\",\"Yerawada, Pune, Maharashtra\",\"Yerawada, Pune, Maharashtra\",\"Yerawada, Pune, Maharashtra\",\"Yerawada, Pune, Maharashtra\",\"Yerawada, Pune, Maharashtra\",\"Yerawada, Pune, Maharashtra\",\"Yerawada, Pune, Maharashtra\",\"Yerawada, Pune, Maharashtra\",\"Yerawada, Pune, Maharashtra\",\"Yerawada, Pune, Maharashtra\",\"Yerawada, Pune, Maharashtra\",\"Yerawada, Pune, Maharashtra\",\"Yerawada, Pune, Maharashtra\",\"Yerawada, Pune, Maharashtra\",\"Yerawada, Pune, Maharashtra\",\"Yerawada, Pune, Maharashtra\",\"Yerawada, Pune, Maharashtra\",\"Yerawada, Pune, Maharashtra\",\"Yerawada, Pune, Maharashtra\",\"Yerawada, Pune, Maharashtra\",\"Yerawada, Pune, Maharashtra\",\"Yerawada, Pune, Maharashtra\",\"Yerawada, Pune, Maharashtra\",\"Yerawada, Pune, Maharashtra\",\"Yerawada, Pune, Maharashtra\",\"Yerawada, Pune, Maharashtra\",\"Yerawada, Pune, Maharashtra\",\"Yerawada, Pune, Maharashtra\",\"Yerawada, Pune, Maharashtra\",\"Yerawada, Pune, Maharashtra\",\"Yerawada, Pune, Maharashtra\",\"Yerawada, Pune, Maharashtra\",\"Yerawada, Pune, Maharashtra\",\"Yerawada, Pune, Maharashtra\",\"Yerawada, Pune, Maharashtra\",\"Yerawada, Pune, Maharashtra\",\"Yerawada, Pune, Maharashtra\",\"Yerawada, Pune, Maharashtra\",\"Yerawada, Pune, Maharashtra\",\"Yerawada, Pune, Maharashtra\",\"Yerawada, Pune, Maharashtra\",\"Yerawada, Pune, Maharashtra\",\"Yerawada, Pune, Maharashtra\",\"Yerawada, Pune, Maharashtra\",\"Yerawada, Pune, Maharashtra\",\"Yerawada, Pune, Maharashtra\",\"Yerawada, Pune, Maharashtra\",\"Yerawada, Pune, Maharashtra\",\"Yerawada, Pune, Maharashtra\",\"Yerawada, Pune, Maharashtra\",\"Yerawada, Pune, Maharashtra\",\"Yerawada, Pune, Maharashtra\",\"Yerawada, Pune, Maharashtra\",\"Yerawada, Pune, Maharashtra\",\"Yerawada, Pune, Maharashtra\",\"Yerawada, Pune, Maharashtra\",\"Yerawada, Pune, Maharashtra\",\"Yerawada, Pune, Maharashtra\",\"Yerawada, Pune, Maharashtra\",\"Yerawada, Pune, Maharashtra\",\"Yerawada, Pune, Maharashtra\",\"Yerawada, Pune, Maharashtra\",\"Yerawada, Pune, Maharashtra\",\"Yerawada, Pune, Maharashtra\",\"Yerawada, Pune, Maharashtra\",\"Yerawada, Pune, Maharashtra\",\"Yerawada, Pune, Maharashtra\",\"Yerawada, Pune, Maharashtra\",\"Yerawada, Pune, Maharashtra\",\"Yerawada, Pune, Maharashtra\",\"Yerawada, Pune, Maharashtra\",\"Yerawada, Pune, Maharashtra\",\"Yerawada, Pune, Maharashtra\",\"Yerawada, Pune, Maharashtra\",\"Yerawada, Pune, Maharashtra\",\"Yerawada, Pune, Maharashtra\",\"Yerawada, Pune, Maharashtra\",\"Yerawada, Pune, Maharashtra\",\"Yerawada, Pune, Maharashtra\",\"Yerawada, Pune, Maharashtra\",\"Yerawada, Pune, Maharashtra\",\"Yerawada, Pune, Maharashtra\",\"Yerawada, Pune, Maharashtra\",\"Yerawada, Pune, Maharashtra\",\"Yerawada, Pune, Maharashtra\",\"Yerawada, Pune, Maharashtra\",\"Yerawada, Pune, Maharashtra\",\"Yerawada, Pune, Maharashtra\",\"Yerawada, Pune, Maharashtra\",\"Yerawada, Pune, Maharashtra\",\"Yerawada, Pune, Maharashtra\",\"Yerawada, Pune, Maharashtra\",\"Yerawada, Pune, Maharashtra\",\"Yerawada, Pune, Maharashtra\",\"Yerawada, Pune, Maharashtra\",\"Yerawada, Pune, Maharashtra\",\"Yerawada, Pune, Maharashtra\",\"Yerawada, Pune, Maharashtra\",\"Yerawada, Pune, Maharashtra\",\"Yerawada, Pune, Maharashtra\",\"Yerawada, Pune, Maharashtra\",\"Yerawada, Pune, Maharashtra\",\"Yerawada, Pune, Maharashtra\",\"Yerawada, Pune, Maharashtra\",\"Yerawada, Pune, Maharashtra\",\"Yerawada, Pune, Maharashtra\",\"Yerawada, Pune, Maharashtra\",\"Yerawada, Pune, Maharashtra\",\"Yerawada, Pune, Maharashtra\",\"Yerawada, Pune, Maharashtra\",\"Yerawada, Pune, Maharashtra\",\"Yerawada, Pune, Maharashtra\",\"Yerawada, Pune, Maharashtra\",\"Yerawada, Pune, Maharashtra\",\"Yerawada, Pune, Maharashtra\",\"Yerawada, Pune, Maharashtra\",\"Yerawada, Pune, Maharashtra\",\"Yerawada, Pune, Maharashtra\",\"Yerawada, Pune, Maharashtra\",\"Yerawada, Pune, Maharashtra\",\"Yerawada, Pune, Maharashtra\",\"Yerawada, Pune, Maharashtra\",\"Yerawada, Pune, Maharashtra\",\"Yerawada, Pune, Maharashtra\",\"Yerawada, Pune, Maharashtra\",\"Yerawada, Pune, Maharashtra\",\"Yerawada, Pune, Maharashtra\",\"Yerawada, Pune, Maharashtra\",\"Yerawada, Pune, Maharashtra\",\"Yerawada, Pune, Maharashtra\",\"Yerawada, Pune, Maharashtra\",\"Yerawada, Pune, Maharashtra\",\"Yerawada, Pune, Maharashtra\",\"Yerawada, Pune, Maharashtra\",\"Yerawada, Pune, Maharashtra\",\"Yerawada, Pune, Maharashtra\",\"Yerawada, Pune, Maharashtra\",\"Yerawada, Pune, Maharashtra\",\"Yerawada, Pune, Maharashtra\",\"Yerawada, Pune, Maharashtra\",\"Yerawada, Pune, Maharashtra\",\"Yerawada, Pune, Maharashtra\",\"Yerawada, Pune, Maharashtra\",\"Yerawada, Pune, Maharashtra\",\"Yerawada, Pune, Maharashtra\",\"Yerawada, Pune, Maharashtra\",\"Yerawada, Pune, Maharashtra\",\"Yerawada, Pune, Maharashtra\",\"Yerawada, Pune, Maharashtra\",\"Yerawada, Pune, Maharashtra\",\"Yerawada, Pune, Maharashtra\",\"Yerawada, Pune, Maharashtra\",\"Yerawada, Pune, Maharashtra\",\"Yerawada, Pune, Maharashtra\",\"Yerawada, Pune, Maharashtra\",\"Yerawada, Pune, Maharashtra\",\"Yerawada, Pune, Maharashtra\",\"Yerawada, Pune, Maharashtra\",\"Yerawada, Pune, Maharashtra\",\"Yerawada, Pune, Maharashtra\",\"Yerawada, Pune, Maharashtra\",\"Yerawada, Pune, Maharashtra\",\"Yerawada, Pune, Maharashtra\",\"Yerawada, Pune, Maharashtra\",\"Yerawada, Pune, Maharashtra\",\"Yerawada, Pune, Maharashtra\",\"Yerawada, Pune, Maharashtra\",\"Yerawada, Pune, Maharashtra\",\"Yerawada, Pune, Maharashtra\",\"Yerawada, Pune, Maharashtra\",\"Yerawada, Pune, Maharashtra\",\"Yerawada, Pune, Maharashtra\",\"Yerawada, Pune, Maharashtra\",\"Yerawada, Pune, Maharashtra\",\"Yerawada, Pune, Maharashtra\",\"Yerawada, Pune, Maharashtra\",\"Yerawada, Pune, Maharashtra\",\"Yerawada, Pune, Maharashtra\",\"Yerawada, Pune, Maharashtra\",\"Yerawada, Pune, Maharashtra\",\"Yerawada, Pune, Maharashtra\",\"Yerawada, Pune, Maharashtra\",\"Yerawada, Pune, Maharashtra\",\"Yerawada, Pune, Maharashtra\",\"Yerawada, Pune, Maharashtra\",\"Yerawada, Pune, Maharashtra\",\"Yerawada, Pune, Maharashtra\",\"Yerawada, Pune, Maharashtra\",\"Yerawada, Pune, Maharashtra\",\"Yerawada, Pune, Maharashtra\",\"Yerawada, Pune, Maharashtra\",\"Yerawada, Pune, Maharashtra\",\"Yerawada, Pune, Maharashtra\",\"Yerawada, Pune, Maharashtra\",\"Yerawada, Pune, Maharashtra\",\"Yerawada, Pune, Maharashtra\",\"Yerawada, Pune, Maharashtra\",\"Yerawada, Pune, Maharashtra\",\"Yerawada, Pune, Maharashtra\",\"Yerawada, Pune, Maharashtra\",\"Yerawada, Pune, Maharashtra\",\"Yerawada, Pune, Maharashtra\",\"Yerawada, Pune, Maharashtra\",\"Yerawada, Pune, Maharashtra\",\"Yerawada, Pune, Maharashtra\",\"Yerawada, Pune, Maharashtra\",\"Yerawada, Pune, Maharashtra\",\"Yerawada, Pune, Maharashtra\",\"Yerawada, Pune, Maharashtra\",\"Yerawada, Pune, Maharashtra\",\"Yerawada, Pune, Maharashtra\",\"Yerawada, Pune, Maharashtra\",\"Yerawada, Pune, Maharashtra\",\"Yerawada, Pune, Maharashtra\",\"Yerawada, Pune, Maharashtra\",\"Yerawada, Pune, Maharashtra\",\"Yerawada, Pune, Maharashtra\",\"Yerawada, Pune, Maharashtra\",\"Yerawada, Pune, Maharashtra\",\"Yerawada, Pune, Maharashtra\",\"Yerawada, Pune, Maharashtra\",\"Yerawada, Pune, Maharashtra\",\"Yerawada, Pune, Maharashtra\",\"Yerawada, Pune, Maharashtra\",\"Yerawada, Pune, Maharashtra\",\"Yerawada, Pune, Maharashtra\",\"Yerawada, Pune, Maharashtra\",\"Yerawada, Pune, Maharashtra\",\"Yerawada, Pune, Maharashtra\",\"Yerawada, Pune, Maharashtra\",\"Yerawada, Pune, Maharashtra\",\"Yerawada, Pune, Maharashtra\",\"Yerawada, Pune, Maharashtra\",\"Yerawada, Pune, Maharashtra\",\"Yerawada, Pune, Maharashtra\",\"Yerawada, Pune, Maharashtra\",\"Yerawada, Pune, Maharashtra\",\"Yerawada, Pune, Maharashtra\",\"Yerawada, Pune, Maharashtra\",\"Yerawada, Pune, Maharashtra\",\"Yerawada, Pune, Maharashtra\",\"Yerawada, Pune, Maharashtra\",\"Yerawada, Pune, Maharashtra\",\"Yerawada, Pune, Maharashtra\",\"Yerawada, Pune, Maharashtra\",\"Yerawada, Pune, Maharashtra\",\"Yerawada, Pune, Maharashtra\",\"Yerawada, Pune, Maharashtra\",\"Yerawada, Pune, Maharashtra\",\"Yerawada, Pune, Maharashtra\",\"Yerawada, Pune, Maharashtra\",\"Yerawada, Pune, Maharashtra\",\"Yerawada, Pune, Maharashtra\",\"Yerawada, Pune, Maharashtra\",\"Yerawada, Pune, Maharashtra\",\"Yerawada, Pune, Maharashtra\",\"Yerawada, Pune, Maharashtra\",\"Yerawada, Pune, Maharashtra\",\"Yerawada, Pune, Maharashtra\",\"Yerawada, Pune, Maharashtra\",\"Yerawada, Pune, Maharashtra\",\"Yerawada, Pune, Maharashtra\",\"Yerawada, Pune, Maharashtra\",\"Yerawada, Pune, Maharashtra\",\"Yerawada, Pune, Maharashtra\",\"Yerawada, Pune, Maharashtra\",\"Yerawada, Pune, Maharashtra\",\"Yerawada, Pune, Maharashtra\",\"Yerawada, Pune, Maharashtra\",\"Yerawada, Pune, Maharashtra\",\"Yerawada, Pune, Maharashtra\",\"Yerawada, Pune, Maharashtra\",\"Yerawada, Pune, Maharashtra\",\"Yerawada, Pune, Maharashtra\",\"Yerawada, Pune, Maharashtra\",\"Yerawada, Pune, Maharashtra\",\"Yerawada, Pune, Maharashtra\",\"Yerawada, Pune, Maharashtra\",\"Yerawada, Pune, Maharashtra\",\"Yerawada, Pune, Maharashtra\",\"Yerawada, Pune, Maharashtra\",\"Yerawada, Pune, Maharashtra\",\"Yerawada, Pune, Maharashtra\",\"Yerawada, Pune, Maharashtra\",\"Yerawada, Pune, Maharashtra\",\"Yerawada, Pune, Maharashtra\",\"Yerawada, Pune, Maharashtra\",\"Yerawada, Pune, Maharashtra\",\"Yerawada, Pune, Maharashtra\",\"Yerawada, Pune, Maharashtra\",\"Yerawada, Pune, Maharashtra\",\"Yerawada, Pune, Maharashtra\",\"Yerawada, Pune, Maharashtra\",\"Yerawada, Pune, Maharashtra\",\"Yerawada, Pune, Maharashtra\",\"Yerawada, Pune, Maharashtra\",\"Yerawada, Pune, Maharashtra\",\"Yerawada, Pune, Maharashtra\",\"Yerawada, Pune, Maharashtra\",\"Yerawada, Pune, Maharashtra\",\"Yerawada, Pune, Maharashtra\",\"Yerawada, Pune, Maharashtra\",\"Yerawada, Pune, Maharashtra\",\"Yerawada, Pune, Maharashtra\",\"Yerawada, Pune, Maharashtra\",\"Yerawada, Pune, Maharashtra\",\"Yerawada, Pune, Maharashtra\",\"Yerawada, Pune, Maharashtra\",\"Yerawada, Pune, Maharashtra\",\"Yerawada, Pune, Maharashtra\",\"Yerawada, Pune, Maharashtra\",\"Yerawada, Pune, Maharashtra\",\"Yerawada, Pune, Maharashtra\",\"Yerawada, Pune, Maharashtra\",\"Yerawada, Pune, Maharashtra\",\"Yerawada, Pune, Maharashtra\",\"Yerawada, Pune, Maharashtra\",\"Yerawada, Pune, Maharashtra\",\"Yerawada, Pune, Maharashtra\",\"Yerawada, Pune, Maharashtra\",\"Yerawada, Pune, Maharashtra\",\"Yerawada, Pune, Maharashtra\",\"Yerawada, Pune, Maharashtra\",\"Yerawada, Pune, Maharashtra\",\"Yerawada, Pune, Maharashtra\",\"Yerawada, Pune, Maharashtra\",\"Yerawada, Pune, Maharashtra\",\"Yerawada, Pune, Maharashtra\",\"Yerawada, Pune, Maharashtra\",\"Yerawada, Pune, Maharashtra\",\"Yerawada, Pune, Maharashtra\",\"Yerawada, Pune, Maharashtra\",\"Yerawada, Pune, Maharashtra\",\"Yerawada, Pune, Maharashtra\",\"Yerawada, Pune, Maharashtra\",\"Yerawada, Pune, Maharashtra\",\"Yerawada, Pune, Maharashtra\",\"Yerawada, Pune, Maharashtra\",\"Yerawada, Pune, Maharashtra\",\"Yerawada, Pune, Maharashtra\",\"Yerawada, Pune, Maharashtra\",\"Yerawada, Pune, Maharashtra\",\"Yerawada, Pune, Maharashtra\",\"Yerawada, Pune, Maharashtra\",\"Yerawada, Pune, Maharashtra\",\"Yerawada, Pune, Maharashtra\",\"Yerawada, Pune, Maharashtra\",\"Yerawada, Pune, Maharashtra\",\"Yerawada, Pune, Maharashtra\",\"Yerawada, Pune, Maharashtra\",\"Yerawada, Pune, Maharashtra\",\"Yerawada, Pune, Maharashtra\",\"Yerawada, Pune, Maharashtra\",\"Yerawada, Pune, Maharashtra\",\"Yerawada, Pune, Maharashtra\",\"Yerawada, Pune, Maharashtra\",\"Yerawada, Pune, Maharashtra\",\"Yerawada, Pune, Maharashtra\",\"Yerawada, Pune, Maharashtra\",\"Yerawada, Pune, Maharashtra\",\"Yerawada, Pune, Maharashtra\",\"Yerawada, Pune, Maharashtra\",\"Yerawada, Pune, Maharashtra\",\"Yerawada, Pune, Maharashtra\",\"Yerawada, Pune, Maharashtra\",\"Yerawada, Pune, Maharashtra\",\"Yerawada, Pune, Maharashtra\",\"Yerawada, Pune, Maharashtra\",\"Yerawada, Pune, Maharashtra\",\"Yerawada, Pune, Maharashtra\",\"Yerawada, Pune, Maharashtra\",\"Yerawada, Pune, Maharashtra\",\"Yerawada, Pune, Maharashtra\",\"Yerawada, Pune, Maharashtra\",\"Yerawada, Pune, Maharashtra\",\"Yerawada, Pune, Maharashtra\",\"Yerawada, Pune, Maharashtra\",\"Yerawada, Pune, Maharashtra\",\"Yerawada, Pune, Maharashtra\",\"Yerawada, Pune, Maharashtra\",\"Yerawada, Pune, Maharashtra\",\"Yerawada, Pune, Maharashtra\",\"Yerawada, Pune, Maharashtra\",\"Yerawada, Pune, Maharashtra\",\"Yerawada, Pune, Maharashtra\",\"Yerawada, Pune, Maharashtra\",\"Yerawada, Pune, Maharashtra\",\"Yerawada, Pune, Maharashtra\",\"Yerawada, Pune, Maharashtra\",\"Yerawada, Pune, Maharashtra\",\"Yerawada, Pune, Maharashtra\",\"Yerawada, Pune, Maharashtra\",\"Yerawada, Pune, Maharashtra\",\"Yerawada, Pune, Maharashtra\",\"Yerawada, Pune, Maharashtra\",\"Yerawada, Pune, Maharashtra\",\"Yerawada, Pune, Maharashtra\",\"Yerawada, Pune, Maharashtra\",\"Yerawada, Pune, Maharashtra\",\"Yerawada, Pune, Maharashtra\",\"Yerawada, Pune, Maharashtra\",\"Yerawada, Pune, Maharashtra\",\"Yerawada, Pune, Maharashtra\",\"Yerawada, Pune, Maharashtra\",\"Yerawada, Pune, Maharashtra\",\"Yerawada, Pune, Maharashtra\",\"Yerawada, Pune, Maharashtra\",\"Yerawada, Pune, Maharashtra\",\"Yerawada, Pune, Maharashtra\",\"Yerawada, Pune, Maharashtra\",\"Yerawada, Pune, Maharashtra\",\"Yerawada, Pune, Maharashtra\",\"Yerawada, Pune, Maharashtra\",\"Yerawada, Pune, Maharashtra\",\"Yerawada, Pune, Maharashtra\",\"Yerawada, Pune, Maharashtra\",\"Yerawada, Pune, Maharashtra\",\"Yerawada, Pune, Maharashtra\",\"Yerawada, Pune, Maharashtra\",\"Yerawada, Pune, Maharashtra\",\"Yerawada, Pune, Maharashtra\",\"Yerawada, Pune, Maharashtra\",\"Yerawada, Pune, Maharashtra\",\"Yerawada, Pune, Maharashtra\",\"Yerawada, Pune, Maharashtra\",\"Yerawada, Pune, Maharashtra\",\"Yerawada, Pune, Maharashtra\",\"Yerawada, Pune, Maharashtra\",\"Yerawada, Pune, Maharashtra\",\"Yerawada, Pune, Maharashtra\",\"Yerawada, Pune, Maharashtra\",\"Yerawada, Pune, Maharashtra\",\"Yerawada, Pune, Maharashtra\",\"Yerawada, Pune, Maharashtra\",\"Yerawada, Pune, Maharashtra\",\"Yerawada, Pune, Maharashtra\",\"Yerawada, Pune, Maharashtra\",\"Yerawada, Pune, Maharashtra\",\"Yerawada, Pune, Maharashtra\",\"Yerawada, Pune, Maharashtra\",\"Yerawada, Pune, Maharashtra\",\"Yerawada, Pune, Maharashtra\",\"Yerawada, Pune, Maharashtra\",\"Yerawada, Pune, Maharashtra\",\"Yerawada, Pune, Maharashtra\",\"Yerawada, Pune, Maharashtra\",\"Yerawada, Pune, Maharashtra\",\"Yerawada, Pune, Maharashtra\",\"Yerawada, Pune, Maharashtra\",\"Yerawada, Pune, Maharashtra\",\"Yerawada, Pune, Maharashtra\",\"Yerawada, Pune, Maharashtra\",\"Yerawada, Pune, Maharashtra\",\"Yerawada, Pune, Maharashtra\",\"Yerawada, Pune, Maharashtra\",\"Yerawada, Pune, Maharashtra\",\"Yerawada, Pune, Maharashtra\",\"Yerawada, Pune, Maharashtra\",\"Yerawada, Pune, Maharashtra\",\"Yerawada, Pune, Maharashtra\",\"Yerawada, Pune, Maharashtra\",\"Yerawada, Pune, Maharashtra\",\"Yerawada, Pune, Maharashtra\",\"Yerawada, Pune, Maharashtra\",\"Yerawada, Pune, Maharashtra\",\"Yerawada, Pune, Maharashtra\",\"Yerawada, Pune, Maharashtra\",\"Yerawada, Pune, Maharashtra\",\"Yerawada, Pune, Maharashtra\",\"Yerawada, Pune, Maharashtra\",\"Yerawada, Pune, Maharashtra\",\"Yerawada, Pune, Maharashtra\",\"Yerawada, Pune, Maharashtra\",\"Yerawada, Pune, Maharashtra\",\"Yerawada, Pune, Maharashtra\",\"Yerawada, Pune, Maharashtra\",\"Yerawada, Pune, Maharashtra\",\"Yerawada, Pune, Maharashtra\",\"Yerawada, Pune, Maharashtra\",\"Yerawada, Pune, Maharashtra\",\"Yerawada, Pune, Maharashtra\",\"Yerawada, Pune, Maharashtra\",\"Yerawada, Pune, Maharashtra\",\"Yerawada, Pune, Maharashtra\",\"Yerawada, Pune, Maharashtra\",\"Yerawada, Pune, Maharashtra\",\"Yerawada, Pune, Maharashtra\",\"Yerawada, Pune, Maharashtra\",\"Yerawada, Pune, Maharashtra\",\"Yerawada, Pune, Maharashtra\",\"Yerawada, Pune, Maharashtra\",\"Yerawada, Pune, Maharashtra\",\"Yerawada, Pune, Maharashtra\",\"Yerawada, Pune, Maharashtra\",\"Yerawada, Pune, Maharashtra\",\"Yerawada, Pune, Maharashtra\",\"Yerawada, Pune, Maharashtra\",\"Yerawada, Pune, Maharashtra\",\"Yerawada, Pune, Maharashtra\",\"Yerawada, Pune, Maharashtra\",\"Yerawada, Pune, Maharashtra\",\"Yerawada, Pune, Maharashtra\",\"Yerawada, Pune, Maharashtra\",\"Yerawada, Pune, Maharashtra\",\"Yerawada, Pune, Maharashtra\",\"Yerawada, Pune, Maharashtra\",\"Yerawada, Pune, Maharashtra\",\"Yerawada, Pune, Maharashtra\",\"Yerawada, Pune, Maharashtra\",\"Yerawada, Pune, Maharashtra\",\"Yerawada, Pune, Maharashtra\",\"Yerawada, Pune, Maharashtra\",\"Yerawada, Pune, Maharashtra\",\"Yerawada, Pune, Maharashtra\",\"Yerawada, Pune, Maharashtra\",\"Yerawada, Pune, Maharashtra\",\"Yerawada, Pune, Maharashtra\",\"Yerawada, Pune, Maharashtra\",\"Yerawada, Pune, Maharashtra\",\"Yerawada, Pune, Maharashtra\",\"Yerawada, Pune, Maharashtra\",\"Yerawada, Pune, Maharashtra\",\"Yerawada, Pune, Maharashtra\",\"Yerawada, Pune, Maharashtra\",\"Yerawada, Pune, Maharashtra\",\"Yerawada, Pune, Maharashtra\",\"Yerawada, Pune, Maharashtra\",\"Yerawada, Pune, Maharashtra\",\"Yerawada, Pune, Maharashtra\",\"Yerawada, Pune, Maharashtra\",\"Yerawada, Pune, Maharashtra\",\"Yerawada, Pune, Maharashtra\",\"Yerawada, Pune, Maharashtra\",\"Yerawada, Pune, Maharashtra\",\"Yerawada, Pune, Maharashtra\",\"Yerawada, Pune, Maharashtra\",\"Yerawada, Pune, Maharashtra\",\"Yerawada, Pune, Maharashtra\",\"Yerawada, Pune, Maharashtra\",\"Yerawada, Pune, Maharashtra\",\"Yerawada, Pune, Maharashtra\",\"Yerawada, Pune, Maharashtra\",\"Yerawada, Pune, Maharashtra\",\"Yerawada, Pune, Maharashtra\",\"Yerawada, Pune, Maharashtra\",\"Yerawada, Pune, Maharashtra\",\"Yerawada, Pune, Maharashtra\",\"Yerawada, Pune, Maharashtra\",\"Yerawada, Pune, Maharashtra\",\"Yerawada, Pune, Maharashtra\",\"Yerawada, Pune, Maharashtra\",\"Yerawada, Pune, Maharashtra\",\"Yerawada, Pune, Maharashtra\",\"Yerawada, Pune, Maharashtra\",\"Yerawada, Pune, Maharashtra\",\"Yerawada, Pune, Maharashtra\",\"Yerawada, Pune, Maharashtra\",\"Yerawada, Pune, Maharashtra\",\"Yerawada, Pune, Maharashtra\",\"Yerawada, Pune, Maharashtra\",\"Yerawada, Pune, Maharashtra\",\"Yerawada, Pune, Maharashtra\",\"Yerawada, Pune, Maharashtra\",\"Yerawada, Pune, Maharashtra\",\"Yerawada, Pune, Maharashtra\",\"Yerawada, Pune, Maharashtra\",\"Yerawada, Pune, Maharashtra\",\"Yerawada, Pune, Maharashtra\",\"Yerawada, Pune, Maharashtra\",\"Yerawada, Pune, Maharashtra\",\"Yerawada, Pune, Maharashtra\",\"Yerawada, Pune, Maharashtra\",\"Yerawada, Pune, Maharashtra\",\"Yerawada, Pune, Maharashtra\",\"Yerawada, Pune, Maharashtra\",\"Yerawada, Pune, Maharashtra\",\"Yerawada, Pune, Maharashtra\",\"Yerawada, Pune, Maharashtra\",\"Yerawada, Pune, Maharashtra\",\"Yerawada, Pune, Maharashtra\",\"Yerawada, Pune, Maharashtra\",\"Yerawada, Pune, Maharashtra\",\"Yerawada, Pune, Maharashtra\",\"Yerawada, Pune, Maharashtra\",\"Yerawada, Pune, Maharashtra\",\"Yerawada, Pune, Maharashtra\",\"Yerawada, Pune, Maharashtra\",\"Yerawada, Pune, Maharashtra\",\"Yerawada, Pune, Maharashtra\",\"Yerawada, Pune, Maharashtra\",\"Yerawada, Pune, Maharashtra\",\"Yerawada, Pune, Maharashtra\",\"Yerawada, Pune, Maharashtra\",\"Yerawada, Pune, Maharashtra\",\"Yerawada, Pune, Maharashtra\",\"Yerawada, Pune, Maharashtra\",\"Yerawada, Pune, Maharashtra\",\"Yerawada, Pune, Maharashtra\",\"Yerawada, Pune, Maharashtra\",\"Yerawada, Pune, Maharashtra\",\"Yerawada, Pune, Maharashtra\",\"Yerawada, Pune, Maharashtra\",\"Yerawada, Pune, Maharashtra\",\"Yerawada, Pune, Maharashtra\",\"Yerawada, Pune, Maharashtra\",\"Yerawada, Pune, Maharashtra\",\"Yerawada, Pune, Maharashtra\",\"Yerawada, Pune, Maharashtra\",\"Yerawada, Pune, Maharashtra\",\"Yerawada, Pune, Maharashtra\",\"Yerawada, Pune, Maharashtra\",\"Yerawada, Pune, Maharashtra\",\"Yerawada, Pune, Maharashtra\",\"Yerawada, Pune, Maharashtra\",\"Yerawada, Pune, Maharashtra\",\"Yerawada, Pune, Maharashtra\",\"Yerawada, Pune, Maharashtra\",\"Yerawada, Pune, Maharashtra\",\"Yerawada, Pune, Maharashtra\",\"Yerawada, Pune, Maharashtra\",\"Yerawada, Pune, Maharashtra\",\"Yerawada, Pune, Maharashtra\",\"Yerawada, Pune, Maharashtra\",\"Yerawada, Pune, Maharashtra\",\"Yerawada, Pune, Maharashtra\",\"Yerawada, Pune, Maharashtra\",\"Yerawada, Pune, Maharashtra\",\"Yerawada, Pune, Maharashtra\",\"Yerawada, Pune, Maharashtra\",\"Yerawada, Pune, Maharashtra\",\"Yerawada, Pune, Maharashtra\",\"Yerawada, Pune, Maharashtra\",\"Yerawada, Pune, Maharashtra\",\"Yerawada, Pune, Maharashtra\",\"Yerawada, Pune, Maharashtra\",\"Yerawada, Pune, Maharashtra\",\"Yerawada, Pune, Maharashtra\",\"Yerawada, Pune, Maharashtra\",\"Yerawada, Pune, Maharashtra\",\"Yerawada, Pune, Maharashtra\",\"Yerawada, Pune, Maharashtra\",\"Yerawada, Pune, Maharashtra\",\"Yerawada, Pune, Maharashtra\",\"Yerawada, Pune, Maharashtra\",\"Yerawada, Pune, Maharashtra\",\"Yerawada, Pune, Maharashtra\",\"Yerawada, Pune, Maharashtra\",\"Yerawada, Pune, Maharashtra\",\"Yerawada, Pune, Maharashtra\",\"Yerawada, Pune, Maharashtra\",\"Yerawada, Pune, Maharashtra\",\"Yerawada, Pune, Maharashtra\",\"Yerawada, Pune, Maharashtra\",\"Yerawada, Pune, Maharashtra\",\"Yerawada, Pune, Maharashtra\",\"Yerawada, Pune, Maharashtra\",\"Yerawada, Pune, Maharashtra\",\"Yerawada, Pune, Maharashtra\",\"Yerawada, Pune, Maharashtra\",\"Yerawada, Pune, Maharashtra\",\"Yerawada, Pune, Maharashtra\",\"Yerawada, Pune, Maharashtra\",\"Yerawada, Pune, Maharashtra\",\"Yerawada, Pune, Maharashtra\",\"Yerawada, Pune, Maharashtra\",\"Yerawada, Pune, Maharashtra\",\"Yerawada, Pune, Maharashtra\",\"Yerawada, Pune, Maharashtra\",\"Yerawada, Pune, Maharashtra\",\"Yerawada, Pune, Maharashtra\",\"Yerawada, Pune, Maharashtra\",\"Yerawada, Pune, Maharashtra\",\"Yerawada, Pune, Maharashtra\",\"Yerawada, Pune, Maharashtra\",\"Yerawada, Pune, Maharashtra\",\"Yerawada, Pune, Maharashtra\",\"Yerawada, Pune, Maharashtra\",\"Yerawada, Pune, Maharashtra\",\"Yerawada, Pune, Maharashtra\",\"Yerawada, Pune, Maharashtra\",\"Yerawada, Pune, Maharashtra\",\"Yerawada, Pune, Maharashtra\",\"Yerawada, Pune, Maharashtra\",\"Yerawada, Pune, Maharashtra\",\"Yerawada, Pune, Maharashtra\",\"Yerawada, Pune, Maharashtra\",\"Yerawada, Pune, Maharashtra\",\"Yerawada, Pune, Maharashtra\",\"Yerawada, Pune, Maharashtra\",\"Yerawada, Pune, Maharashtra\",\"Yerawada, Pune, Maharashtra\",\"Yerawada, Pune, Maharashtra\",\"Yerawada, Pune, Maharashtra\",\"Yerawada, Pune, Maharashtra\",\"Yerawada, Pune, Maharashtra\",\"Yerawada, Pune, Maharashtra\",\"Yerawada, Pune, Maharashtra\",\"Yerawada, Pune, Maharashtra\",\"Yerawada, Pune, Maharashtra\",\"Yerawada, Pune, Maharashtra\",\"Yerawada, Pune, Maharashtra\",\"Yerawada, Pune, Maharashtra\",\"Yerawada, Pune, Maharashtra\",\"Yerawada, Pune, Maharashtra\",\"Yerawada, Pune, Maharashtra\",\"Yerawada, Pune, Maharashtra\",\"Yerawada, Pune, Maharashtra\",\"Yerawada, Pune, Maharashtra\",\"Yerawada, Pune, Maharashtra\",\"Yerawada, Pune, Maharashtra\",\"Yerawada, Pune, Maharashtra\",\"Yerawada, Pune, Maharashtra\",\"Yerawada, Pune, Maharashtra\",\"Yerawada, Pune, Maharashtra\",\"Yerawada, Pune, Maharashtra\",\"Yerawada, Pune, Maharashtra\",\"Yerawada, Pune, Maharashtra\",\"Yerawada, Pune, Maharashtra\",\"Yerawada, Pune, Maharashtra\",\"Yerawada, Pune, Maharashtra\",\"Yerawada, Pune, Maharashtra\",\"Yerawada, Pune, Maharashtra\",\"Yerawada, Pune, Maharashtra\",\"Yerawada, Pune, Maharashtra\",\"Yerawada, Pune, Maharashtra\",\"Yerawada, Pune, Maharashtra\",\"Yerawada, Pune, Maharashtra\",\"Yerawada, Pune, Maharashtra\",\"Yerawada, Pune, Maharashtra\",\"Yerawada, Pune, Maharashtra\",\"Yerawada, Pune, Maharashtra\",\"Yerawada, Pune, Maharashtra\",\"Yerawada, Pune, Maharashtra\",\"Yerawada, Pune, Maharashtra\",\"Yerawada, Pune, Maharashtra\",\"Yerawada, Pune, Maharashtra\",\"Yerawada, Pune, Maharashtra\",\"Yerawada, Pune, Maharashtra\",\"Yerawada, Pune, Maharashtra\",\"Yerawada, Pune, Maharashtra\",\"Yerawada, Pune, Maharashtra\",\"Yerawada, Pune, Maharashtra\",\"Yerawada, Pune, Maharashtra\",\"Yerawada, Pune, Maharashtra\",\"Yerawada, Pune, Maharashtra\",\"Yerawada, Pune, Maharashtra\",\"Yerawada, Pune, Maharashtra\",\"Yerawada, Pune, Maharashtra\",\"Yerawada, Pune, Maharashtra\",\"Yerawada, Pune, Maharashtra\",\"Yerawada, Pune, Maharashtra\",\"Yerawada, Pune, Maharashtra\",\"Yerawada, Pune, Maharashtra\",\"Yerawada, Pune, Maharashtra\",\"Yerawada, Pune, Maharashtra\",\"Yerawada, Pune, Maharashtra\",\"Yerawada, Pune, Maharashtra\",\"Yerawada, Pune, Maharashtra\",\"Yerawada, Pune, Maharashtra\",\"Yerawada, Pune, Maharashtra\",\"Yerawada, Pune, Maharashtra\",\"Yerawada, Pune, Maharashtra\",\"Yerawada, Pune, Maharashtra\",\"Yerawada, Pune, Maharashtra\",\"Yerawada, Pune, Maharashtra\",\"Yerawada, Pune, Maharashtra\",\"Yerawada, Pune, Maharashtra\",\"Yerawada, Pune, Maharashtra\",\"Yerawada, Pune, Maharashtra\",\"Yerawada, Pune, Maharashtra\",\"Yerawada, Pune, Maharashtra\",\"Yerawada, Pune, Maharashtra\",\"Yerawada, Pune, Maharashtra\",\"Yerawada, Pune, Maharashtra\",\"Pune University\",\"Pune University\",\"Pune University\",\"Pune University\",\"Pune University\",\"Pune University\",\"Pune University\",\"Pune University\",\"Pune University\",\"Pune University\",\"Pune University\",\"Pune University\",\"Pune University\",\"Pune University\",\"Pune University\",\"Pune University\",\"Pune University\",\"Pune University\",\"Pune University\",\"Pune University\",\"Pune University\",\"Pune University\",\"Pune University\",\"Pune University\",\"Pune University\",\"Pune University\",\"Pune University\",\"Pune University\",\"Pune University\",\"Pune University\",\"Pune University\",\"Pune University\",\"Pune University\",\"Pune University\",\"Pune University\",\"Pune University\",\"Pune University\",\"Pune University\",\"Pune University\",\"Pune University\",\"Pune University\",\"Pune University\",\"Pune University\",\"Pune University\",\"Pune University\",\"Pune University\",\"Pune University\",\"Pune University\",\"Pune University\",\"Pune University\",\"Pune University\",\"Pune University\",\"Pune University\",\"Pune University\",\"Pune University\",\"Pune University\",\"Pune University\",\"Pune University\",\"Pune University\",\"Pune University\",\"Pune University\",\"Pune University\",\"Pune University\",\"Pune University\",\"Pune University\",\"Pune University\",\"Pune University\",\"Pune University\",\"Pune University\",\"Pune University\",\"Pune University\",\"Pune University\",\"Pune University\",\"Pune University\",\"Pune University\",\"Pune University\",\"Pune University\",\"Pune University\",\"Pune University\",\"Pune University\",\"Pune University\",\"Pune University\",\"Pune University\",\"Pune University\",\"Pune University\",\"Pune University\",\"Pune University\",\"Pune University\",\"Pune University\",\"Pune University\",\"Pune University\",\"Pune University\",\"Pune University\",\"Pune University\",\"Pune University\",\"Pune University\",\"Pune University\",\"Pune University\",\"Pune University\",\"Pune University\",\"Pune University\",\"Pune University\",\"Pune University\",\"Pune University\",\"Pune University\",\"Pune University\",\"Pune University\",\"Pune University\",\"Pune University\",\"Pune University\",\"Pune University\",\"Pune University\",\"Pune University\",\"Pune University\",\"Pune University\",\"Pune University\",\"Pune University\",\"Pune University\",\"Pune University\",\"Pune University\",\"Pune University\",\"Pune University\",\"Pune University\",\"Pune University\",\"Pune University\",\"Pune University\",\"Pune University\",\"Pune University\",\"Pune University\",\"Pune University\",\"Pune University\",\"Pune University\",\"Pune University\",\"Pune University\",\"Pune University\",\"Pune University\",\"Pune University\",\"Pune University\",\"Pune University\",\"Pune University\",\"Pune University\",\"Pune University\",\"Pune University\",\"Pune University\",\"Pune University\",\"Pune University\",\"Pune University\",\"Pune University\",\"Pune University\",\"Pune University\",\"Pune University\",\"Pune University\",\"Pune University\",\"Pune University\",\"Pune University\",\"Pune University\",\"Pune University\",\"Pune University\",\"Pune University\",\"Pune University\",\"Pune University\",\"Pune University\",\"Pune University\",\"Pune University\",\"Pune University\",\"Pune University\",\"Pune University\",\"Pune University\",\"Pune University\",\"Pune University\",\"Pune University\",\"Pune University\",\"Pune University\",\"Pune University\",\"Pune University\",\"Pune University\",\"Pune University\",\"Pune University\",\"Pune University\",\"Pune University\",\"Pune University\",\"Pune University\",\"Pune University\",\"Pune University\",\"Pune University\",\"Pune University\",\"Pune University\",\"Pune University\",\"Pune University\",\"Pune University\",\"Pune University\",\"Pune University\",\"Pune University\",\"Pune University\",\"Pune University\",\"Pune University\",\"Pune University\",\"Pune University\",\"Pune University\",\"Pune University\",\"Pune University\",\"Pune University\",\"Pune University\",\"Pune University\",\"Pune University\",\"Pune University\",\"Pune University\",\"Pune University\",\"Pune University\",\"Pune University\",\"Pune University\",\"Pune University\",\"Pune University\",\"Pune University\",\"Pune University\",\"Pune University\",\"Pune University\",\"Pune University\",\"Pune University\",\"Pune University\",\"Pune University\",\"Pune University\",\"Pune University\",\"Pune University\",\"Pune University\",\"Pune University\",\"Pune University\",\"Pune University\",\"Pune University\",\"Pune University\",\"Pune University\",\"Pune University\",\"Pune University\",\"Pune University\",\"Pune University\",\"Pune University\",\"Pune University\",\"Pune University\",\"Pune University\",\"Pune University\",\"Pune University\",\"Pune University\",\"Pune University\",\"Pune University\",\"Pune University\",\"Pune University\",\"Pune University\",\"Pune University\",\"Pune University\",\"Pune University\",\"Pune University\",\"Pune University\",\"Pune University\",\"Pune University\",\"Pune University\",\"Pune University\",\"Pune University\",\"Pune University\",\"Pune University\",\"Pune University\",\"Pune University\",\"Pune University\",\"Pune University\",\"Pune University\",\"Pune University\",\"Pune University\",\"Pune University\",\"Pune University\",\"Pune University\",\"Pune University\",\"Pune University\",\"Pune University\",\"Pune University\",\"Pune University\",\"Pune University\",\"Pune University\",\"Pune University\",\"Pune University\",\"Pune University\",\"Pune University\",\"Pune University\",\"Pune University\",\"Pune University\",\"Pune University\",\"Pune University\",\"Pune University\",\"Pune University\",\"Pune University\",\"Pune University\",\"Pune University\",\"Pune University\",\"Pune University\",\"Pune University\",\"Pune University\",\"Pune University\",\"Pune University\",\"Pune University\",\"Pune University\",\"Pune University\",\"Pune University\",\"Pune University\",\"Pune University\",\"Pune University\",\"Pune University\",\"Pune University\",\"Pune University\",\"Pune University\",\"Pune University\",\"Pune University\",\"Pune University\",\"Pune University\",\"Pune University\",\"Pune University\",\"Pune University\",\"Pune University\",\"Pune University\",\"Pune University\",\"Pune University\",\"Pune University\",\"Pune University\",\"Pune University\",\"Pune University\",\"Pune University\",\"Pune University\",\"Pune University\",\"Pune University\",\"Pune University\",\"Pune University\",\"Pune University\",\"Pune University\",\"Pune University\",\"Pune University\",\"Pune University\",\"Pune University\",\"Pune University\",\"Pune University\",\"Pune University\",\"Pune University\",\"Pune University\",\"Pune University\",\"Pune University\",\"Pune University\",\"Pune University\",\"Pune University\",\"Pune University\",\"Pune University\",\"Pune University\",\"Pune University\",\"Pune University\",\"Pune University\",\"Pune University\",\"Pune University\",\"Pune University\",\"Pune University\",\"Pune University\",\"Pune University\",\"Pune University\",\"Pune University\",\"Pune University\",\"Pune University\",\"Pune University\",\"Pune University\",\"Pune University\",\"Pune University\",\"Pune University\",\"Pune University\",\"Pune University\",\"Pune University\",\"Pune University\",\"Pune University\",\"Pune University\",\"Pune University\",\"Pune University\",\"Pune University\",\"Pune University\",\"Pune University\",\"Pune University\",\"Pune University\",\"Pune University\",\"Pune University\",\"Pune University\",\"Pune University\",\"Pune University\",\"Pune University\",\"Pune University\",\"Pune University\",\"Pune University\",\"Pune University\",\"Pune University\",\"Pune University\",\"Pune University\",\"Pune University\",\"Pune University\",\"Pune University\",\"Pune University\",\"Pune University\",\"Pune University\",\"Pune University\",\"Pune University\",\"Pune University\",\"Pune University\",\"Pune University\",\"Pune University\",\"Pune University\",\"Pune University\",\"Pune University\",\"Pune University\",\"Pune University\",\"Pune University\",\"Pune University\",\"Pune University\",\"Pune University\",\"Pune University\",\"Pune University\",\"Pune University\",\"Pune University\",\"Pune University\",\"Pune University\",\"Pune University\",\"Pune University\",\"Pune University\",\"Pune University\",\"Pune University\",\"Pune University\",\"Pune University\",\"Pune University\",\"Pune University\",\"Pune University\",\"Pune University\",\"Pune University\",\"Pune University\",\"Pune University\",\"Pune University\",\"Pune University\",\"Pune University\",\"Pune University\",\"Pune University\",\"Pune University\",\"Pune University\",\"Pune University\",\"Pune University\",\"Pune University\",\"Pune University\",\"Pune University\",\"Pune University\",\"Pune University\",\"Pune University\",\"Pune University\",\"Pune University\",\"Pune University\",\"Pune University\",\"Pune University\",\"Pune University\",\"Pune University\",\"Pune University\",\"Pune University\",\"Pune University\",\"Pune University\",\"Pune University\",\"Pune University\",\"Pune University\",\"Pune University\",\"Pune University\",\"Pune University\",\"Pune University\",\"Pune University\",\"Pune University\",\"Pune University\",\"Pune University\",\"Pune University\",\"Pune University\",\"Pune University\",\"Pune University\",\"Pune University\",\"Pune University\",\"Pune University\",\"Pune University\",\"Pune University\",\"Pune University\",\"Pune University\",\"Pune University\",\"Pune University\",\"Pune University\",\"Pune University\",\"Pune University\",\"Pune University\",\"Pune University\",\"Pune University\",\"Pune University\",\"Pune University\",\"Pune University\",\"Pune University\",\"Pune University\",\"Pune University\",\"Pune University\",\"Pune University\",\"Pune University\",\"Pune University\",\"Pune University\",\"Pune University\",\"Pune University\",\"Pune University\",\"Pune University\",\"Pune University\",\"Pune University\",\"Pune University\",\"Pune University\",\"Pune University\",\"Pune University\",\"Pune University\",\"Pune University\",\"Pune University\",\"Pune University\",\"Pune University\",\"Pune University\",\"Pune University\",\"Pune University\",\"Pune University\",\"Pune University\",\"Pune University\",\"Pune University\",\"Pune University\",\"Pune University\",\"Pune University\",\"Pune University\",\"Pune University\",\"Pune University\",\"Pune University\",\"Pune University\",\"Pune University\",\"Pune University\",\"Pune University\",\"Pune University\",\"Pune University\",\"Pune University\",\"Pune University\",\"Pune University\",\"Pune University\",\"Pune University\",\"Pune University\",\"Pune University\",\"Pune University\",\"Pune University\",\"Pune University\",\"Pune University\",\"Pune University\",\"Pune University\",\"Pune University\",\"Pune University\",\"Pune University\",\"Pune University\",\"Pune University\",\"Pune University\",\"Pune University\",\"Pune University\",\"Pune University\",\"Pune University\",\"Pune University\",\"Pune University\",\"Pune University\",\"Pune University\",\"Pune University\",\"Pune University\",\"Pune University\",\"Pune University\",\"Pune University\",\"Pune University\",\"Pune University\",\"Pune University\",\"Pune University\",\"Pune University\",\"Pune University\",\"Pune University\",\"Pune University\",\"Pune University\",\"Pune University\",\"Pune University\",\"Pune University\",\"Pune University\",\"Pune University\",\"Pune University\",\"Pune University\",\"Pune University\",\"Pune University\",\"Pune University\",\"Pune University\",\"Pune University\",\"Pune University\",\"Pune University\",\"Pune University\",\"Pune University\",\"Pune University\",\"Pune University\",\"Pune University\",\"Pune University\",\"Pune University\",\"Pune University\",\"Pune University\",\"Pune University\",\"Pune University\",\"Pune University\",\"Pune University\",\"Pune University\",\"Pune University\",\"Pune University\",\"Pune University\",\"Pune University\",\"Pune University\",\"Pune University\",\"Pune University\",\"Pune University\",\"Pune University\",\"Pune University\",\"Pune University\",\"Pune University\",\"Pune University\",\"Pune University\",\"Pune University\",\"Pune University\",\"Pune University\",\"Pune University\",\"Pune University\",\"Pune University\",\"Pune University\",\"Pune University\",\"Pune University\",\"Pune University\",\"Pune University\",\"Pune University\",\"Pune University\",\"Pune University\",\"Pune University\",\"Pune University\",\"Pune University\",\"Pune University\",\"Pune University\",\"Pune University\",\"Pune University\",\"Pune University\",\"Pune University\",\"Pune University\",\"Pune University\",\"Pune University\",\"Pune University\",\"Pune University\",\"Pune University\",\"Pune University\",\"Pune University\",\"Pune University\",\"Pune University\",\"Pune University\",\"Pune University\",\"Pune University\",\"Pune University\",\"Pune University\",\"Pune University\",\"Pune University\",\"Pune University\",\"Pune University\",\"Pune University\",\"Pune University\",\"Pune University\",\"Pune University\",\"Pune University\",\"Pune University\",\"Pune University\",\"Pune University\",\"Pune University\",\"Pune University\",\"Pune University\",\"Pune University\",\"Pune University\",\"Pune University\",\"MG Road, Pune\",\"MG Road, Pune\",\"MG Road, Pune\",\"MG Road, Pune\",\"MG Road, Pune\",\"MG Road, Pune\",\"MG Road, Pune\",\"MG Road, Pune\",\"MG Road, Pune\",\"MG Road, Pune\",\"MG Road, Pune\",\"MG Road, Pune\",\"MG Road, Pune\",\"MG Road, Pune\",\"MG Road, Pune\",\"MG Road, Pune\",\"MG Road, Pune\",\"MG Road, Pune\",\"MG Road, Pune\",\"MG Road, Pune\",\"MG Road, Pune\",\"MG Road, Pune\",\"MG Road, Pune\",\"MG Road, Pune\",\"MG Road, Pune\",\"MG Road, Pune\",\"MG Road, Pune\",\"MG Road, Pune\",\"MG Road, Pune\",\"MG Road, Pune\",\"MG Road, Pune\",\"MG Road, Pune\",\"MG Road, Pune\",\"MG Road, Pune\",\"MG Road, Pune\",\"MG Road, Pune\",\"MG Road, Pune\",\"MG Road, Pune\",\"MG Road, Pune\",\"MG Road, Pune\",\"MG Road, Pune\",\"MG Road, Pune\",\"MG Road, Pune\",\"MG Road, Pune\",\"MG Road, Pune\",\"MG Road, Pune\",\"MG Road, Pune\",\"MG Road, Pune\",\"MG Road, Pune\",\"MG Road, Pune\",\"MG Road, Pune\",\"MG Road, Pune\",\"MG Road, Pune\",\"MG Road, Pune\",\"MG Road, Pune\",\"MG Road, Pune\",\"MG Road, Pune\",\"MG Road, Pune\",\"MG Road, Pune\",\"MG Road, Pune\",\"MG Road, Pune\",\"MG Road, Pune\",\"MG Road, Pune\",\"MG Road, Pune\",\"MG Road, Pune\",\"MG Road, Pune\",\"MG Road, Pune\",\"MG Road, Pune\",\"MG Road, Pune\",\"MG Road, Pune\",\"MG Road, Pune\",\"MG Road, Pune\",\"MG Road, Pune\",\"MG Road, Pune\",\"MG Road, Pune\",\"MG Road, Pune\",\"MG Road, Pune\",\"MG Road, Pune\",\"MG Road, Pune\",\"MG Road, Pune\",\"MG Road, Pune\",\"MG Road, Pune\",\"MG Road, Pune\",\"MG Road, Pune\",\"MG Road, Pune\",\"MG Road, Pune\",\"MG Road, Pune\",\"MG Road, Pune\",\"MG Road, Pune\",\"MG Road, Pune\",\"MG Road, Pune\",\"MG Road, Pune\",\"MG Road, Pune\",\"MG Road, Pune\",\"MG Road, Pune\",\"MG Road, Pune\",\"MG Road, Pune\",\"MG Road, Pune\",\"MG Road, Pune\",\"MG Road, Pune\",\"MG Road, Pune\",\"MG Road, Pune\",\"MG Road, Pune\",\"MG Road, Pune\",\"MG Road, Pune\",\"MG Road, Pune\",\"MG Road, Pune\",\"MG Road, Pune\",\"MG Road, Pune\",\"MG Road, Pune\",\"MG Road, Pune\",\"MG Road, Pune\",\"MG Road, Pune\",\"MG Road, Pune\",\"MG Road, Pune\",\"MG Road, Pune\",\"MG Road, Pune\",\"MG Road, Pune\",\"MG Road, Pune\",\"MG Road, Pune\",\"MG Road, Pune\",\"MG Road, Pune\",\"MG Road, Pune\",\"MG Road, Pune\",\"MG Road, Pune\",\"MG Road, Pune\",\"MG Road, Pune\",\"MG Road, Pune\",\"MG Road, Pune\",\"MG Road, Pune\",\"MG Road, Pune\",\"MG Road, Pune\",\"MG Road, Pune\",\"MG Road, Pune\",\"MG Road, Pune\",\"MG Road, Pune\",\"MG Road, Pune\",\"MG Road, Pune\",\"MG Road, Pune\",\"MG Road, Pune\",\"MG Road, Pune\",\"MG Road, Pune\",\"MG Road, Pune\",\"MG Road, Pune\",\"MG Road, Pune\",\"MG Road, Pune\",\"MG Road, Pune\",\"MG Road, Pune\",\"MG Road, Pune\",\"MG Road, Pune\",\"MG Road, Pune\",\"MG Road, Pune\",\"MG Road, Pune\",\"MG Road, Pune\",\"MG Road, Pune\",\"MG Road, Pune\",\"MG Road, Pune\",\"MG Road, Pune\",\"MG Road, Pune\",\"MG Road, Pune\",\"MG Road, Pune\",\"MG Road, Pune\",\"MG Road, Pune\",\"MG Road, Pune\",\"MG Road, Pune\",\"MG Road, Pune\",\"MG Road, Pune\",\"MG Road, Pune\",\"MG Road, Pune\",\"MG Road, Pune\",\"MG Road, Pune\",\"MG Road, Pune\",\"MG Road, Pune\",\"MG Road, Pune\",\"MG Road, Pune\",\"MG Road, Pune\",\"MG Road, Pune\",\"MG Road, Pune\",\"MG Road, Pune\",\"MG Road, Pune\",\"MG Road, Pune\",\"MG Road, Pune\",\"MG Road, Pune\",\"MG Road, Pune\",\"MG Road, Pune\",\"MG Road, Pune\",\"MG Road, Pune\",\"MG Road, Pune\",\"MG Road, Pune\",\"MG Road, Pune\",\"MG Road, Pune\",\"MG Road, Pune\",\"MG Road, Pune\",\"MG Road, Pune\",\"MG Road, Pune\",\"MG Road, Pune\",\"MG Road, Pune\",\"MG Road, Pune\",\"MG Road, Pune\",\"MG Road, Pune\",\"MG Road, Pune\",\"MG Road, Pune\",\"MG Road, Pune\",\"MG Road, Pune\",\"MG Road, Pune\",\"MG Road, Pune\",\"MG Road, Pune\",\"MG Road, Pune\",\"MG Road, Pune\",\"MG Road, Pune\",\"MG Road, Pune\",\"MG Road, Pune\",\"MG Road, Pune\",\"MG Road, Pune\",\"MG Road, Pune\",\"MG Road, Pune\",\"MG Road, Pune\",\"MG Road, Pune\",\"MG Road, Pune\",\"MG Road, Pune\",\"MG Road, Pune\",\"MG Road, Pune\",\"MG Road, Pune\",\"MG Road, Pune\",\"MG Road, Pune\",\"MG Road, Pune\",\"MG Road, Pune\",\"MG Road, Pune\",\"MG Road, Pune\",\"MG Road, Pune\",\"MG Road, Pune\",\"MG Road, Pune\",\"MG Road, Pune\",\"MG Road, Pune\",\"MG Road, Pune\",\"MG Road, Pune\",\"MG Road, Pune\",\"MG Road, Pune\",\"MG Road, Pune\",\"MG Road, Pune\",\"MG Road, Pune\",\"MG Road, Pune\",\"MG Road, Pune\",\"MG Road, Pune\",\"MG Road, Pune\",\"MG Road, Pune\",\"MG Road, Pune\",\"MG Road, Pune\",\"MG Road, Pune\",\"MG Road, Pune\",\"MG Road, Pune\",\"MG Road, Pune\",\"MG Road, Pune\",\"MG Road, Pune\",\"MG Road, Pune\",\"MG Road, Pune\",\"MG Road, Pune\",\"MG Road, Pune\",\"MG Road, Pune\",\"MG Road, Pune\",\"MG Road, Pune\",\"MG Road, Pune\",\"MG Road, Pune\",\"MG Road, Pune\",\"MG Road, Pune\",\"MG Road, Pune\",\"MG Road, Pune\",\"MG Road, Pune\",\"MG Road, Pune\",\"MG Road, Pune\",\"MG Road, Pune\",\"MG Road, Pune\",\"MG Road, Pune\",\"MG Road, Pune\",\"MG Road, Pune\",\"MG Road, Pune\",\"MG Road, Pune\",\"MG Road, Pune\",\"MG Road, Pune\",\"MG Road, Pune\",\"MG Road, Pune\",\"MG Road, Pune\",\"MG Road, Pune\",\"MG Road, Pune\",\"MG Road, Pune\",\"MG Road, Pune\",\"MG Road, Pune\",\"MG Road, Pune\",\"MG Road, Pune\",\"MG Road, Pune\",\"MG Road, Pune\",\"MG Road, Pune\",\"MG Road, Pune\",\"MG Road, Pune\",\"MG Road, Pune\",\"MG Road, Pune\",\"MG Road, Pune\",\"MG Road, Pune\",\"MG Road, Pune\",\"MG Road, Pune\",\"MG Road, Pune\",\"MG Road, Pune\",\"MG Road, Pune\",\"MG Road, Pune\",\"MG Road, Pune\",\"MG Road, Pune\",\"MG Road, Pune\",\"MG Road, Pune\",\"MG Road, Pune\",\"MG Road, Pune\",\"MG Road, Pune\",\"MG Road, Pune\",\"MG Road, Pune\",\"MG Road, Pune\",\"MG Road, Pune\",\"MG Road, Pune\",\"MG Road, Pune\",\"MG Road, Pune\",\"MG Road, Pune\",\"MG Road, Pune\",\"MG Road, Pune\",\"MG Road, Pune\",\"MG Road, Pune\",\"MG Road, Pune\",\"MG Road, Pune\",\"MG Road, Pune\",\"MG Road, Pune\",\"MG Road, Pune\",\"MG Road, Pune\",\"MG Road, Pune\",\"MG Road, Pune\",\"MG Road, Pune\",\"MG Road, Pune\",\"MG Road, Pune\",\"MG Road, Pune\",\"MG Road, Pune\",\"MG Road, Pune\",\"MG Road, Pune\",\"MG Road, Pune\",\"MG Road, Pune\",\"MG Road, Pune\",\"MG Road, Pune\",\"MG Road, Pune\",\"MG Road, Pune\",\"MG Road, Pune\",\"MG Road, Pune\",\"MG Road, Pune\",\"MG Road, Pune\",\"MG Road, Pune\",\"MG Road, Pune\",\"MG Road, Pune\",\"MG Road, Pune\",\"MG Road, Pune\",\"MG Road, Pune\",\"MG Road, Pune\",\"MG Road, Pune\",\"MG Road, Pune\",\"MG Road, Pune\",\"MG Road, Pune\",\"MG Road, Pune\",\"MG Road, Pune\",\"MG Road, Pune\",\"MG Road, Pune\",\"MG Road, Pune\",\"MG Road, Pune\",\"MG Road, Pune\",\"MG Road, Pune\",\"MG Road, Pune\",\"MG Road, Pune\",\"MG Road, Pune\",\"MG Road, Pune\",\"MG Road, Pune\",\"MG Road, Pune\",\"MG Road, Pune\",\"MG Road, Pune\",\"MG Road, Pune\",\"MG Road, Pune\",\"MG Road, Pune\",\"MG Road, Pune\",\"MG Road, Pune\",\"MG Road, Pune\",\"MG Road, Pune\",\"MG Road, Pune\",\"MG Road, Pune\",\"MG Road, Pune\",\"MG Road, Pune\",\"MG Road, Pune\",\"MG Road, Pune\",\"MG Road, Pune\",\"MG Road, Pune\",\"MG Road, Pune\",\"MG Road, Pune\",\"MG Road, Pune\",\"MG Road, Pune\",\"MG Road, Pune\",\"MG Road, Pune\",\"MG Road, Pune\",\"MG Road, Pune\",\"MG Road, Pune\",\"MG Road, Pune\",\"MG Road, Pune\",\"MG Road, Pune\",\"MG Road, Pune\",\"MG Road, Pune\",\"MG Road, Pune\",\"MG Road, Pune\",\"MG Road, Pune\",\"MG Road, Pune\",\"MG Road, Pune\",\"MG Road, Pune\",\"MG Road, Pune\",\"MG Road, Pune\",\"MG Road, Pune\",\"MG Road, Pune\",\"MG Road, Pune\",\"MG Road, Pune\",\"MG Road, Pune\",\"MG Road, Pune\",\"MG Road, Pune\",\"MG Road, Pune\",\"MG Road, Pune\",\"MG Road, Pune\",\"MG Road, Pune\",\"MG Road, Pune\",\"MG Road, Pune\",\"MG Road, Pune\",\"MG Road, Pune\",\"MG Road, Pune\",\"MG Road, Pune\",\"MG Road, Pune\",\"MG Road, Pune\",\"MG Road, Pune\",\"MG Road, Pune\",\"MG Road, Pune\",\"MG Road, Pune\",\"MG Road, Pune\",\"MG Road, Pune\",\"MG Road, Pune\",\"MG Road, Pune\",\"MG Road, Pune\",\"MG Road, Pune\",\"MG Road, Pune\",\"MG Road, Pune\",\"MG Road, Pune\",\"MG Road, Pune\",\"MG Road, Pune\",\"MG Road, Pune\",\"MG Road, Pune\",\"MG Road, Pune\",\"MG Road, Pune\",\"MG Road, Pune\",\"MG Road, Pune\",\"MG Road, Pune\",\"MG Road, Pune\",\"MG Road, Pune\",\"MG Road, Pune\",\"MG Road, Pune\",\"MG Road, Pune\",\"MG Road, Pune\",\"MG Road, Pune\",\"MG Road, Pune\",\"MG Road, Pune\",\"MG Road, Pune\",\"MG Road, Pune\",\"MG Road, Pune\",\"MG Road, Pune\",\"MG Road, Pune\",\"MG Road, Pune\",\"MG Road, Pune\",\"MG Road, Pune\",\"MG Road, Pune\",\"MG Road, Pune\",\"MG Road, Pune\",\"MG Road, Pune\",\"MG Road, Pune\",\"MG Road, Pune\",\"MG Road, Pune\",\"MG Road, Pune\",\"MG Road, Pune\",\"MG Road, Pune\",\"MG Road, Pune\",\"MG Road, Pune\",\"MG Road, Pune\",\"MG Road, Pune\",\"MG Road, Pune\",\"MG Road, Pune\",\"MG Road, Pune\",\"MG Road, Pune\",\"MG Road, Pune\",\"MG Road, Pune\",\"MG Road, Pune\",\"MG Road, Pune\",\"MG Road, Pune\",\"MG Road, Pune\",\"MG Road, Pune\",\"MG Road, Pune\",\"MG Road, Pune\",\"MG Road, Pune\",\"MG Road, Pune\",\"MG Road, Pune\",\"MG Road, Pune\",\"MG Road, Pune\",\"MG Road, Pune\",\"MG Road, Pune\",\"MG Road, Pune\",\"MG Road, Pune\",\"MG Road, Pune\",\"MG Road, Pune\",\"MG Road, Pune\",\"MG Road, Pune\",\"MG Road, Pune\",\"MG Road, Pune\",\"MG Road, Pune\",\"MG Road, Pune\",\"MG Road, Pune\",\"MG Road, Pune\",\"MG Road, Pune\",\"MG Road, Pune\",\"MG Road, Pune\",\"MG Road, Pune\",\"MG Road, Pune\",\"MG Road, Pune\",\"MG Road, Pune\",\"MG Road, Pune\",\"MG Road, Pune\",\"MG Road, Pune\",\"MG Road, Pune\",\"MG Road, Pune\",\"MG Road, Pune\",\"MG Road, Pune\",\"MG Road, Pune\",\"MG Road, Pune\",\"MG Road, Pune\",\"MG Road, Pune\",\"MG Road, Pune\",\"MG Road, Pune\",\"MG Road, Pune\",\"MG Road, Pune\",\"MG Road, Pune\",\"MG Road, Pune\",\"MG Road, Pune\",\"MG Road, Pune\",\"MG Road, Pune\",\"MG Road, Pune\",\"MG Road, Pune\",\"MG Road, Pune\",\"MG Road, Pune\",\"MG Road, Pune\",\"MG Road, Pune\",\"MG Road, Pune\",\"MG Road, Pune\",\"MG Road, Pune\",\"MG Road, Pune\",\"MG Road, Pune\",\"MG Road, Pune\",\"MG Road, Pune\",\"MG Road, Pune\",\"MG Road, Pune\",\"MG Road, Pune\",\"MG Road, Pune\",\"MG Road, Pune\",\"MG Road, Pune\",\"MG Road, Pune\",\"MG Road, Pune\",\"MG Road, Pune\",\"MG Road, Pune\",\"MG Road, Pune\",\"MG Road, Pune\",\"MG Road, Pune\",\"MG Road, Pune\",\"MG Road, Pune\",\"MG Road, Pune\",\"MG Road, Pune\",\"MG Road, Pune\",\"MG Road, Pune\",\"MG Road, Pune\",\"MG Road, Pune\",\"MG Road, Pune\",\"MG Road, Pune\",\"MG Road, Pune\",\"MG Road, Pune\",\"MG Road, Pune\",\"MG Road, Pune\",\"MG Road, Pune\",\"MG Road, Pune\",\"MG Road, Pune\",\"MG Road, Pune\",\"MG Road, Pune\",\"MG Road, Pune\",\"MG Road, Pune\",\"MG Road, Pune\",\"MG Road, Pune\",\"MG Road, Pune\",\"MG Road, Pune\",\"MG Road, Pune\",\"MG Road, Pune\",\"MG Road, Pune\",\"MG Road, Pune\",\"MG Road, Pune\",\"MG Road, Pune\",\"MG Road, Pune\",\"MG Road, Pune\",\"MG Road, Pune\",\"MG Road, Pune\",\"MG Road, Pune\",\"MG Road, Pune\",\"MG Road, Pune\",\"MG Road, Pune\",\"MG Road, Pune\",\"MG Road, Pune\",\"MG Road, Pune\",\"MG Road, Pune\",\"MG Road, Pune\",\"MG Road, Pune\",\"MG Road, Pune\",\"MG Road, Pune\",\"MG Road, Pune\",\"MG Road, Pune\",\"MG Road, Pune\",\"MG Road, Pune\",\"MG Road, Pune\",\"MG Road, Pune\",\"MG Road, Pune\",\"MG Road, Pune\",\"MG Road, Pune\",\"MG Road, Pune\",\"MG Road, Pune\",\"MG Road, Pune\",\"MG Road, Pune\",\"MG Road, Pune\",\"MG Road, Pune\",\"MG Road, Pune\",\"MG Road, Pune\",\"MG Road, Pune\",\"MG Road, Pune\",\"MG Road, Pune\",\"MG Road, Pune\",\"MG Road, Pune\",\"MG Road, Pune\",\"MG Road, Pune\",\"MG Road, Pune\",\"MG Road, Pune\",\"MG Road, Pune\",\"MG Road, Pune\",\"MG Road, Pune\",\"MG Road, Pune\",\"MG Road, Pune\",\"MG Road, Pune\",\"MG Road, Pune\",\"MG Road, Pune\",\"MG Road, Pune\",\"MG Road, Pune\",\"MG Road, Pune\",\"MG Road, Pune\",\"MG Road, Pune\",\"MG Road, Pune\",\"MG Road, Pune\",\"MG Road, Pune\",\"MG Road, Pune\",\"MG Road, Pune\",\"MG Road, Pune\",\"MG Road, Pune\",\"MG Road, Pune\",\"MG Road, Pune\",\"MG Road, Pune\",\"MG Road, Pune\",\"MG Road, Pune\",\"MG Road, Pune\",\"MG Road, Pune\",\"MG Road, Pune\",\"MG Road, Pune\",\"MG Road, Pune\",\"MG Road, Pune\",\"MG Road, Pune\",\"MG Road, Pune\",\"MG Road, Pune\",\"MG Road, Pune\",\"MG Road, Pune\",\"MG Road, Pune\",\"MG Road, Pune\",\"MG Road, Pune\",\"MG Road, Pune\",\"MG Road, Pune\",\"MG Road, Pune\",\"MG Road, Pune\",\"MG Road, Pune\",\"MG Road, Pune\",\"MG Road, Pune\",\"MG Road, Pune\",\"MG Road, Pune\",\"MG Road, Pune\",\"MG Road, Pune\",\"MG Road, Pune\",\"MG Road, Pune\",\"MG Road, Pune\",\"MG Road, Pune\",\"MG Road, Pune\",\"MG Road, Pune\",\"MG Road, Pune\",\"MG Road, Pune\",\"MG Road, Pune\",\"MG Road, Pune\",\"MG Road, Pune\",\"MG Road, Pune\",\"MG Road, Pune\",\"MG Road, Pune\",\"MG Road, Pune\",\"MG Road, Pune\",\"MG Road, Pune\",\"MG Road, Pune\",\"MG Road, Pune\",\"MG Road, Pune\",\"MG Road, Pune\",\"MG Road, Pune\",\"MG Road, Pune\",\"MG Road, Pune\",\"MG Road, Pune\",\"MG Road, Pune\",\"MG Road, Pune\",\"MG Road, Pune\",\"MG Road, Pune\",\"MG Road, Pune\",\"MG Road, Pune\",\"MG Road, Pune\",\"MG Road, Pune\",\"MG Road, Pune\",\"MG Road, Pune\",\"MG Road, Pune\",\"MG Road, Pune\",\"MG Road, Pune\",\"MG Road, Pune\",\"MG Road, Pune\",\"MG Road, Pune\",\"MG Road, Pune\",\"MG Road, Pune\",\"MG Road, Pune\",\"MG Road, Pune\",\"MG Road, Pune\",\"MG Road, Pune\",\"MG Road, Pune\",\"MG Road, Pune\",\"MG Road, Pune\",\"MG Road, Pune\",\"MG Road, Pune\",\"MG Road, Pune\",\"MG Road, Pune\",\"MG Road, Pune\",\"MG Road, Pune\",\"MG Road, Pune\",\"MG Road, Pune\",\"MG Road, Pune\",\"MG Road, Pune\",\"MG Road, Pune\",\"MG Road, Pune\",\"MG Road, Pune\",\"MG Road, Pune\",\"MG Road, Pune\",\"MG Road, Pune\",\"MG Road, Pune\",\"MG Road, Pune\",\"MG Road, Pune\",\"MG Road, Pune\",\"MG Road, Pune\",\"MG Road, Pune\",\"MG Road, Pune\",\"MG Road, Pune\",\"MG Road, Pune\",\"MG Road, Pune\",\"MG Road, Pune\",\"MG Road, Pune\",\"MG Road, Pune\",\"MG Road, Pune\",\"MG Road, Pune\",\"MG Road, Pune\",\"MG Road, Pune\",\"MG Road, Pune\",\"MG Road, Pune\",\"MG Road, Pune\",\"MG Road, Pune\",\"MG Road, Pune\",\"MG Road, Pune\",\"MG Road, Pune\",\"MG Road, Pune\",\"MG Road, Pune\",\"MG Road, Pune\",\"MG Road, Pune\",\"MG Road, Pune\",\"MG Road, Pune\",\"MG Road, Pune\",\"MG Road, Pune\",\"MG Road, Pune\",\"MG Road, Pune\",\"MG Road, Pune\",\"MG Road, Pune\",\"MG Road, Pune\",\"MG Road, Pune\",\"MG Road, Pune\",\"MG Road, Pune\",\"MG Road, Pune\",\"MG Road, Pune\",\"MG Road, Pune\",\"MG Road, Pune\",\"MG Road, Pune\",\"MG Road, Pune\",\"MG Road, Pune\",\"MG Road, Pune\",\"MG Road, Pune\",\"MG Road, Pune\",\"MG Road, Pune\",\"MG Road, Pune\",\"MG Road, Pune\",\"MG Road, Pune\",\"MG Road, Pune\",\"MG Road, Pune\",\"MG Road, Pune\",\"MG Road, Pune\",\"MG Road, Pune\",\"MG Road, Pune\",\"MG Road, Pune\",\"MG Road, Pune\",\"MG Road, Pune\",\"MG Road, Pune\",\"MG Road, Pune\",\"MG Road, Pune\",\"MG Road, Pune\",\"MG Road, Pune\",\"MG Road, Pune\",\"MG Road, Pune\",\"MG Road, Pune\",\"MG Road, Pune\",\"MG Road, Pune\",\"MG Road, Pune\",\"MG Road, Pune\",\"MG Road, Pune\",\"MG Road, Pune\",\"MG Road, Pune\",\"MG Road, Pune\",\"MG Road, Pune\",\"MG Road, Pune\",\"MG Road, Pune\",\"MG Road, Pune\",\"MG Road, Pune\",\"MG Road, Pune\",\"MG Road, Pune\",\"MG Road, Pune\",\"MG Road, Pune\",\"MG Road, Pune\",\"MG Road, Pune\",\"MG Road, Pune\",\"MG Road, Pune\",\"MG Road, Pune\",\"MG Road, Pune\",\"MG Road, Pune\",\"MG Road, Pune\",\"MG Road, Pune\",\"MG Road, Pune\",\"MG Road, Pune\",\"MG Road, Pune\",\"MG Road, Pune\",\"MG Road, Pune\",\"MG Road, Pune\",\"MG Road, Pune\",\"MG Road, Pune\",\"MG Road, Pune\",\"MG Road, Pune\",\"MG Road, Pune\",\"MG Road, Pune\",\"MG Road, Pune\",\"MG Road, Pune\",\"MG Road, Pune\",\"MG Road, Pune\",\"MG Road, Pune\",\"MG Road, Pune\",\"MG Road, Pune\",\"MG Road, Pune\",\"MG Road, Pune\",\"MG Road, Pune\",\"MG Road, Pune\",\"MG Road, Pune\",\"MG Road, Pune\",\"MG Road, Pune\",\"MG Road, Pune\",\"MG Road, Pune\",\"MG Road, Pune\",\"MG Road, Pune\",\"MG Road, Pune\",\"MG Road, Pune\",\"MG Road, Pune\",\"MG Road, Pune\",\"MG Road, Pune\",\"MG Road, Pune\",\"MG Road, Pune\",\"MG Road, Pune\",\"MG Road, Pune\",\"MG Road, Pune\",\"MG Road, Pune\",\"MG Road, Pune\",\"MG Road, Pune\",\"MG Road, Pune\",\"MG Road, Pune\",\"MG Road, Pune\",\"MG Road, Pune\",\"MG Road, Pune\",\"MG Road, Pune\",\"MG Road, Pune\",\"MG Road, Pune\",\"MG Road, Pune\",\"MG Road, Pune\",\"MG Road, Pune\",\"MG Road, Pune\",\"MG Road, Pune\",\"MG Road, Pune\",\"MG Road, Pune\",\"MG Road, Pune\",\"MG Road, Pune\",\"MG Road, Pune\",\"MG Road, Pune\",\"MG Road, Pune\",\"MG Road, Pune\",\"MG Road, Pune\",\"MG Road, Pune\",\"MG Road, Pune\",\"MG Road, Pune\",\"MG Road, Pune\",\"MG Road, Pune\",\"MG Road, Pune\",\"MG Road, Pune\",\"MG Road, Pune\",\"MG Road, Pune\",\"MG Road, Pune\",\"MG Road, Pune\",\"MG Road, Pune\",\"MG Road, Pune\",\"MG Road, Pune\",\"MG Road, Pune\",\"MG Road, Pune\",\"MG Road, Pune\",\"MG Road, Pune\",\"MG Road, Pune\",\"MG Road, Pune\",\"MG Road, Pune\",\"MG Road, Pune\",\"MG Road, Pune\",\"Nathan Road, Mangaldas Road, Pune\",\"Nathan Road, Mangaldas Road, Pune\",\"Nathan Road, Mangaldas Road, Pune\",\"Nathan Road, Mangaldas Road, Pune\",\"Nathan Road, Mangaldas Road, Pune\",\"Nathan Road, Mangaldas Road, Pune\",\"Nathan Road, Mangaldas Road, Pune\",\"Nathan Road, Mangaldas Road, Pune\",\"Nathan Road, Mangaldas Road, Pune\",\"Nathan Road, Mangaldas Road, Pune\",\"Nathan Road, Mangaldas Road, Pune\",\"Nathan Road, Mangaldas Road, Pune\",\"Nathan Road, Mangaldas Road, Pune\",\"Nathan Road, Mangaldas Road, Pune\",\"Nathan Road, Mangaldas Road, Pune\",\"Nathan Road, Mangaldas Road, Pune\",\"Nathan Road, Mangaldas Road, Pune\",\"Nathan Road, Mangaldas Road, Pune\",\"Nathan Road, Mangaldas Road, Pune\",\"Nathan Road, Mangaldas Road, Pune\",\"Nathan Road, Mangaldas Road, Pune\",\"Nathan Road, Mangaldas Road, Pune\",\"Nathan Road, Mangaldas Road, Pune\",\"Nathan Road, Mangaldas Road, Pune\",\"Nathan Road, Mangaldas Road, Pune\",\"Nathan Road, Mangaldas Road, Pune\",\"Nathan Road, Mangaldas Road, Pune\",\"Nathan Road, Mangaldas Road, Pune\",\"Nathan Road, Mangaldas Road, Pune\",\"Nathan Road, Mangaldas Road, Pune\",\"Nathan Road, Mangaldas Road, Pune\",\"Nathan Road, Mangaldas Road, Pune\",\"Nathan Road, Mangaldas Road, Pune\",\"Nathan Road, Mangaldas Road, Pune\",\"Nathan Road, Mangaldas Road, Pune\",\"Nathan Road, Mangaldas Road, Pune\",\"Nathan Road, Mangaldas Road, Pune\",\"Nathan Road, Mangaldas Road, Pune\",\"Nathan Road, Mangaldas Road, Pune\",\"Nathan Road, Mangaldas Road, Pune\",\"Nathan Road, Mangaldas Road, Pune\",\"Nathan Road, Mangaldas Road, Pune\",\"Nathan Road, Mangaldas Road, Pune\",\"Nathan Road, Mangaldas Road, Pune\",\"Nathan Road, Mangaldas Road, Pune\",\"Nathan Road, Mangaldas Road, Pune\",\"Nathan Road, Mangaldas Road, Pune\",\"Nathan Road, Mangaldas Road, Pune\",\"Nathan Road, Mangaldas Road, Pune\",\"Nathan Road, Mangaldas Road, Pune\",\"Nathan Road, Mangaldas Road, Pune\",\"Nathan Road, Mangaldas Road, Pune\",\"Nathan Road, Mangaldas Road, Pune\",\"Nathan Road, Mangaldas Road, Pune\",\"Nathan Road, Mangaldas Road, Pune\",\"Nathan Road, Mangaldas Road, Pune\",\"Nathan Road, Mangaldas Road, Pune\",\"Nathan Road, Mangaldas Road, Pune\",\"Nathan Road, Mangaldas Road, Pune\",\"Nathan Road, Mangaldas Road, Pune\",\"Nathan Road, Mangaldas Road, Pune\",\"Nathan Road, Mangaldas Road, Pune\",\"Nathan Road, Mangaldas Road, Pune\",\"Nathan Road, Mangaldas Road, Pune\",\"Nathan Road, Mangaldas Road, Pune\",\"Nathan Road, Mangaldas Road, Pune\",\"Nathan Road, Mangaldas Road, Pune\",\"Nathan Road, Mangaldas Road, Pune\",\"Nathan Road, Mangaldas Road, Pune\",\"Nathan Road, Mangaldas Road, Pune\",\"Nathan Road, Mangaldas Road, Pune\",\"Nathan Road, Mangaldas Road, Pune\",\"Nathan Road, Mangaldas Road, Pune\",\"Nathan Road, Mangaldas Road, Pune\",\"Nathan Road, Mangaldas Road, Pune\",\"Nathan Road, Mangaldas Road, Pune\",\"Nathan Road, Mangaldas Road, Pune\",\"Nathan Road, Mangaldas Road, Pune\",\"Nathan Road, Mangaldas Road, Pune\",\"Nathan Road, Mangaldas Road, Pune\",\"Nathan Road, Mangaldas Road, Pune\",\"Nathan Road, Mangaldas Road, Pune\",\"Nathan Road, Mangaldas Road, Pune\",\"Nathan Road, Mangaldas Road, Pune\",\"Nathan Road, Mangaldas Road, Pune\",\"Nathan Road, Mangaldas Road, Pune\",\"Nathan Road, Mangaldas Road, Pune\",\"Nathan Road, Mangaldas Road, Pune\",\"Nathan Road, Mangaldas Road, Pune\",\"Nathan Road, Mangaldas Road, Pune\",\"Nathan Road, Mangaldas Road, Pune\",\"Nathan Road, Mangaldas Road, Pune\",\"Nathan Road, Mangaldas Road, Pune\",\"Nathan Road, Mangaldas Road, Pune\",\"Nathan Road, Mangaldas Road, Pune\",\"Nathan Road, Mangaldas Road, Pune\",\"Nathan Road, Mangaldas Road, Pune\",\"Nathan Road, Mangaldas Road, Pune\",\"Nathan Road, Mangaldas Road, Pune\",\"Nathan Road, Mangaldas Road, Pune\",\"Nathan Road, Mangaldas Road, Pune\",\"Nathan Road, Mangaldas Road, Pune\",\"Nathan Road, Mangaldas Road, Pune\",\"Nathan Road, Mangaldas Road, Pune\",\"Nathan Road, Mangaldas Road, Pune\",\"Nathan Road, Mangaldas Road, Pune\",\"Nathan Road, Mangaldas Road, Pune\",\"Nathan Road, Mangaldas Road, Pune\",\"Nathan Road, Mangaldas Road, Pune\",\"Nathan Road, Mangaldas Road, Pune\",\"Nathan Road, Mangaldas Road, Pune\",\"Nathan Road, Mangaldas Road, Pune\",\"Nathan Road, Mangaldas Road, Pune\",\"Nathan Road, Mangaldas Road, Pune\",\"Nathan Road, Mangaldas Road, Pune\",\"Nathan Road, Mangaldas Road, Pune\",\"Nathan Road, Mangaldas Road, Pune\",\"Nathan Road, Mangaldas Road, Pune\",\"Nathan Road, Mangaldas Road, Pune\",\"Nathan Road, Mangaldas Road, Pune\",\"Nathan Road, Mangaldas Road, Pune\",\"Nathan Road, Mangaldas Road, Pune\",\"Nathan Road, Mangaldas Road, Pune\",\"Nathan Road, Mangaldas Road, Pune\",\"Nathan Road, Mangaldas Road, Pune\",\"Nathan Road, Mangaldas Road, Pune\",\"Nathan Road, Mangaldas Road, Pune\",\"Nathan Road, Mangaldas Road, Pune\",\"Nathan Road, Mangaldas Road, Pune\",\"Nathan Road, Mangaldas Road, Pune\",\"Nathan Road, Mangaldas Road, Pune\",\"Nathan Road, Mangaldas Road, Pune\",\"Nathan Road, Mangaldas Road, Pune\",\"Nathan Road, Mangaldas Road, Pune\",\"Nathan Road, Mangaldas Road, Pune\",\"Nathan Road, Mangaldas Road, Pune\",\"Nathan Road, Mangaldas Road, Pune\",\"Nathan Road, Mangaldas Road, Pune\",\"Nathan Road, Mangaldas Road, Pune\",\"Nathan Road, Mangaldas Road, Pune\",\"Nathan Road, Mangaldas Road, Pune\",\"Nathan Road, Mangaldas Road, Pune\",\"Nathan Road, Mangaldas Road, Pune\",\"Nathan Road, Mangaldas Road, Pune\",\"Nathan Road, Mangaldas Road, Pune\",\"Nathan Road, Mangaldas Road, Pune\",\"Nathan Road, Mangaldas Road, Pune\",\"Nathan Road, Mangaldas Road, Pune\",\"Nathan Road, Mangaldas Road, Pune\",\"Nathan Road, Mangaldas Road, Pune\",\"Nathan Road, Mangaldas Road, Pune\",\"Nathan Road, Mangaldas Road, Pune\",\"Nathan Road, Mangaldas Road, Pune\",\"Nathan Road, Mangaldas Road, Pune\",\"Nathan Road, Mangaldas Road, Pune\",\"Nathan Road, Mangaldas Road, Pune\",\"Nathan Road, Mangaldas Road, Pune\",\"Nathan Road, Mangaldas Road, Pune\",\"Nathan Road, Mangaldas Road, Pune\",\"Nathan Road, Mangaldas Road, Pune\",\"Nathan Road, Mangaldas Road, Pune\",\"Nathan Road, Mangaldas Road, Pune\",\"Nathan Road, Mangaldas Road, Pune\",\"Nathan Road, Mangaldas Road, Pune\",\"Nathan Road, Mangaldas Road, Pune\",\"Nathan Road, Mangaldas Road, Pune\",\"Nathan Road, Mangaldas Road, Pune\",\"Nathan Road, Mangaldas Road, Pune\",\"Nathan Road, Mangaldas Road, Pune\",\"Nathan Road, Mangaldas Road, Pune\",\"Nathan Road, Mangaldas Road, Pune\",\"Nathan Road, Mangaldas Road, Pune\",\"Nathan Road, Mangaldas Road, Pune\",\"Nathan Road, Mangaldas Road, Pune\",\"Nathan Road, Mangaldas Road, Pune\",\"Nathan Road, Mangaldas Road, Pune\",\"Nathan Road, Mangaldas Road, Pune\",\"Nathan Road, Mangaldas Road, Pune\",\"Nathan Road, Mangaldas Road, Pune\",\"Nathan Road, Mangaldas Road, Pune\",\"Nathan Road, Mangaldas Road, Pune\",\"Nathan Road, Mangaldas Road, Pune\",\"Nathan Road, Mangaldas Road, Pune\",\"Nathan Road, Mangaldas Road, Pune\",\"Nathan Road, Mangaldas Road, Pune\",\"Nathan Road, Mangaldas Road, Pune\",\"Nathan Road, Mangaldas Road, Pune\",\"Nathan Road, Mangaldas Road, Pune\",\"Nathan Road, Mangaldas Road, Pune\",\"Nathan Road, Mangaldas Road, Pune\",\"Nathan Road, Mangaldas Road, Pune\",\"Nathan Road, Mangaldas Road, Pune\",\"Nathan Road, Mangaldas Road, Pune\",\"Nathan Road, Mangaldas Road, Pune\",\"Nathan Road, Mangaldas Road, Pune\",\"Nathan Road, Mangaldas Road, Pune\",\"Nathan Road, Mangaldas Road, Pune\",\"Nathan Road, Mangaldas Road, Pune\",\"Nathan Road, Mangaldas Road, Pune\",\"Nathan Road, Mangaldas Road, Pune\",\"Nathan Road, Mangaldas Road, Pune\",\"Nathan Road, Mangaldas Road, Pune\",\"Nathan Road, Mangaldas Road, Pune\",\"Nathan Road, Mangaldas Road, Pune\",\"Nathan Road, Mangaldas Road, Pune\",\"Nathan Road, Mangaldas Road, Pune\",\"Nathan Road, Mangaldas Road, Pune\",\"Nathan Road, Mangaldas Road, Pune\",\"Nathan Road, Mangaldas Road, Pune\",\"Nathan Road, Mangaldas Road, Pune\",\"Nathan Road, Mangaldas Road, Pune\",\"Nathan Road, Mangaldas Road, Pune\",\"Nathan Road, Mangaldas Road, Pune\",\"Nathan Road, Mangaldas Road, Pune\",\"Nathan Road, Mangaldas Road, Pune\",\"Nathan Road, Mangaldas Road, Pune\",\"Nathan Road, Mangaldas Road, Pune\",\"Nathan Road, Mangaldas Road, Pune\",\"Nathan Road, Mangaldas Road, Pune\",\"Nathan Road, Mangaldas Road, Pune\",\"Nathan Road, Mangaldas Road, Pune\",\"Nathan Road, Mangaldas Road, Pune\",\"Nathan Road, Mangaldas Road, Pune\",\"Nathan Road, Mangaldas Road, Pune\",\"Nathan Road, Mangaldas Road, Pune\",\"Nathan Road, Mangaldas Road, Pune\",\"Nathan Road, Mangaldas Road, Pune\",\"Nathan Road, Mangaldas Road, Pune\",\"Nathan Road, Mangaldas Road, Pune\",\"Nathan Road, Mangaldas Road, Pune\",\"Nathan Road, Mangaldas Road, Pune\",\"Nathan Road, Mangaldas Road, Pune\",\"Nathan Road, Mangaldas Road, Pune\",\"Nathan Road, Mangaldas Road, Pune\",\"Nathan Road, Mangaldas Road, Pune\",\"Nathan Road, Mangaldas Road, Pune\",\"Nathan Road, Mangaldas Road, Pune\",\"Nathan Road, Mangaldas Road, Pune\",\"Nathan Road, Mangaldas Road, Pune\",\"Nathan Road, Mangaldas Road, Pune\",\"Nathan Road, Mangaldas Road, Pune\",\"Nathan Road, Mangaldas Road, Pune\",\"Nathan Road, Mangaldas Road, Pune\",\"Nathan Road, Mangaldas Road, Pune\",\"Nathan Road, Mangaldas Road, Pune\",\"Nathan Road, Mangaldas Road, Pune\",\"Nathan Road, Mangaldas Road, Pune\",\"Nathan Road, Mangaldas Road, Pune\",\"Nathan Road, Mangaldas Road, Pune\",\"Nathan Road, Mangaldas Road, Pune\",\"Nathan Road, Mangaldas Road, Pune\",\"Nathan Road, Mangaldas Road, Pune\",\"Nathan Road, Mangaldas Road, Pune\",\"Nathan Road, Mangaldas Road, Pune\",\"Nathan Road, Mangaldas Road, Pune\",\"Nathan Road, Mangaldas Road, Pune\",\"Nathan Road, Mangaldas Road, Pune\",\"Nathan Road, Mangaldas Road, Pune\",\"Nathan Road, Mangaldas Road, Pune\",\"Nathan Road, Mangaldas Road, Pune\",\"Nathan Road, Mangaldas Road, Pune\",\"Nathan Road, Mangaldas Road, Pune\",\"Nathan Road, Mangaldas Road, Pune\",\"Nathan Road, Mangaldas Road, Pune\",\"Nathan Road, Mangaldas Road, Pune\",\"Nathan Road, Mangaldas Road, Pune\",\"Nathan Road, Mangaldas Road, Pune\",\"Nathan Road, Mangaldas Road, Pune\",\"Nathan Road, Mangaldas Road, Pune\",\"Nathan Road, Mangaldas Road, Pune\",\"Nathan Road, Mangaldas Road, Pune\",\"Nathan Road, Mangaldas Road, Pune\",\"Nathan Road, Mangaldas Road, Pune\",\"Nathan Road, Mangaldas Road, Pune\",\"Nathan Road, Mangaldas Road, Pune\",\"Nathan Road, Mangaldas Road, Pune\",\"Nathan Road, Mangaldas Road, Pune\",\"Nathan Road, Mangaldas Road, Pune\",\"Nathan Road, Mangaldas Road, Pune\",\"Nathan Road, Mangaldas Road, Pune\",\"Nathan Road, Mangaldas Road, Pune\",\"Nathan Road, Mangaldas Road, Pune\",\"Nathan Road, Mangaldas Road, Pune\",\"Nathan Road, Mangaldas Road, Pune\",\"Nathan Road, Mangaldas Road, Pune\",\"Nathan Road, Mangaldas Road, Pune\",\"Nathan Road, Mangaldas Road, Pune\",\"Nathan Road, Mangaldas Road, Pune\",\"Nathan Road, Mangaldas Road, Pune\",\"Nathan Road, Mangaldas Road, Pune\",\"Nathan Road, Mangaldas Road, Pune\",\"Nathan Road, Mangaldas Road, Pune\",\"Nathan Road, Mangaldas Road, Pune\",\"Nathan Road, Mangaldas Road, Pune\",\"Nathan Road, Mangaldas Road, Pune\",\"Nathan Road, Mangaldas Road, Pune\",\"Nathan Road, Mangaldas Road, Pune\",\"Nathan Road, Mangaldas Road, Pune\",\"Nathan Road, Mangaldas Road, Pune\",\"Nathan Road, Mangaldas Road, Pune\",\"Nathan Road, Mangaldas Road, Pune\",\"Nathan Road, Mangaldas Road, Pune\",\"Nathan Road, Mangaldas Road, Pune\",\"Nathan Road, Mangaldas Road, Pune\",\"Nathan Road, Mangaldas Road, Pune\",\"Nathan Road, Mangaldas Road, Pune\",\"Nathan Road, Mangaldas Road, Pune\",\"Nathan Road, Mangaldas Road, Pune\",\"Nathan Road, Mangaldas Road, Pune\",\"Nathan Road, Mangaldas Road, Pune\",\"Nathan Road, Mangaldas Road, Pune\",\"Nathan Road, Mangaldas Road, Pune\",\"Nathan Road, Mangaldas Road, Pune\",\"Nathan Road, Mangaldas Road, Pune\",\"Nathan Road, Mangaldas Road, Pune\",\"Nathan Road, Mangaldas Road, Pune\",\"Nathan Road, Mangaldas Road, Pune\",\"Nathan Road, Mangaldas Road, Pune\",\"Nathan Road, Mangaldas Road, Pune\",\"Nathan Road, Mangaldas Road, Pune\",\"Nathan Road, Mangaldas Road, Pune\",\"Nathan Road, Mangaldas Road, Pune\",\"Nathan Road, Mangaldas Road, Pune\",\"Nathan Road, Mangaldas Road, Pune\",\"Nathan Road, Mangaldas Road, Pune\",\"Nathan Road, Mangaldas Road, Pune\",\"Nathan Road, Mangaldas Road, Pune\",\"Nathan Road, Mangaldas Road, Pune\",\"Nathan Road, Mangaldas Road, Pune\",\"Nathan Road, Mangaldas Road, Pune\",\"Nathan Road, Mangaldas Road, Pune\",\"Nathan Road, Mangaldas Road, Pune\",\"Nathan Road, Mangaldas Road, Pune\",\"Nathan Road, Mangaldas Road, Pune\",\"Nathan Road, Mangaldas Road, Pune\",\"Nathan Road, Mangaldas Road, Pune\",\"Nathan Road, Mangaldas Road, Pune\",\"Nathan Road, Mangaldas Road, Pune\",\"Nathan Road, Mangaldas Road, Pune\",\"Nathan Road, Mangaldas Road, Pune\",\"Nathan Road, Mangaldas Road, Pune\",\"Nathan Road, Mangaldas Road, Pune\",\"Nathan Road, Mangaldas Road, Pune\",\"Nathan Road, Mangaldas Road, Pune\",\"Nathan Road, Mangaldas Road, Pune\",\"Nathan Road, Mangaldas Road, Pune\",\"Nathan Road, Mangaldas Road, Pune\",\"Nathan Road, Mangaldas Road, Pune\",\"Nathan Road, Mangaldas Road, Pune\",\"Nathan Road, Mangaldas Road, Pune\",\"Nathan Road, Mangaldas Road, Pune\",\"Nathan Road, Mangaldas Road, Pune\",\"Nathan Road, Mangaldas Road, Pune\",\"Nathan Road, Mangaldas Road, Pune\",\"Nathan Road, Mangaldas Road, Pune\",\"Nathan Road, Mangaldas Road, Pune\",\"Nathan Road, Mangaldas Road, Pune\",\"Nathan Road, Mangaldas Road, Pune\",\"Nathan Road, Mangaldas Road, Pune\",\"Nathan Road, Mangaldas Road, Pune\",\"Nathan Road, Mangaldas Road, Pune\",\"Nathan Road, Mangaldas Road, Pune\",\"Nathan Road, Mangaldas Road, Pune\",\"Nathan Road, Mangaldas Road, Pune\",\"Nathan Road, Mangaldas Road, Pune\",\"Nathan Road, Mangaldas Road, Pune\",\"Nathan Road, Mangaldas Road, Pune\",\"Nathan Road, Mangaldas Road, Pune\",\"Nathan Road, Mangaldas Road, Pune\",\"Nathan Road, Mangaldas Road, Pune\",\"Nathan Road, Mangaldas Road, Pune\",\"Nathan Road, Mangaldas Road, Pune\",\"Nathan Road, Mangaldas Road, Pune\",\"Nathan Road, Mangaldas Road, Pune\",\"Nathan Road, Mangaldas Road, Pune\",\"Nathan Road, Mangaldas Road, Pune\",\"Nathan Road, Mangaldas Road, Pune\",\"Nathan Road, Mangaldas Road, Pune\",\"Nathan Road, Mangaldas Road, Pune\",\"Nathan Road, Mangaldas Road, Pune\",\"Nathan Road, Mangaldas Road, Pune\",\"Nathan Road, Mangaldas Road, Pune\",\"Nathan Road, Mangaldas Road, Pune\",\"Nathan Road, Mangaldas Road, Pune\",\"Nathan Road, Mangaldas Road, Pune\",\"Nathan Road, Mangaldas Road, Pune\",\"Nathan Road, Mangaldas Road, Pune\",\"Nathan Road, Mangaldas Road, Pune\",\"Nathan Road, Mangaldas Road, Pune\",\"Nathan Road, Mangaldas Road, Pune\",\"Nathan Road, Mangaldas Road, Pune\",\"Nathan Road, Mangaldas Road, Pune\",\"Nathan Road, Mangaldas Road, Pune\",\"Nathan Road, Mangaldas Road, Pune\",\"Nathan Road, Mangaldas Road, Pune\",\"Nathan Road, Mangaldas Road, Pune\",\"Nathan Road, Mangaldas Road, Pune\",\"Nathan Road, Mangaldas Road, Pune\",\"Nathan Road, Mangaldas Road, Pune\",\"Nathan Road, Mangaldas Road, Pune\",\"Nathan Road, Mangaldas Road, Pune\",\"Nathan Road, Mangaldas Road, Pune\",\"Nathan Road, Mangaldas Road, Pune\",\"Nathan Road, Mangaldas Road, Pune\",\"Nathan Road, Mangaldas Road, Pune\",\"Nathan Road, Mangaldas Road, Pune\",\"Nathan Road, Mangaldas Road, Pune\",\"Nathan Road, Mangaldas Road, Pune\",\"Nathan Road, Mangaldas Road, Pune\",\"Nathan Road, Mangaldas Road, Pune\",\"Nathan Road, Mangaldas Road, Pune\",\"Nathan Road, Mangaldas Road, Pune\",\"Nathan Road, Mangaldas Road, Pune\",\"Nathan Road, Mangaldas Road, Pune\",\"Nathan Road, Mangaldas Road, Pune\",\"Nathan Road, Mangaldas Road, Pune\",\"Nathan Road, Mangaldas Road, Pune\",\"Nathan Road, Mangaldas Road, Pune\",\"Nathan Road, Mangaldas Road, Pune\",\"Nathan Road, Mangaldas Road, Pune\",\"Nathan Road, Mangaldas Road, Pune\",\"Nathan Road, Mangaldas Road, Pune\",\"Nathan Road, Mangaldas Road, Pune\",\"Nathan Road, Mangaldas Road, Pune\",\"Nathan Road, Mangaldas Road, Pune\",\"Nathan Road, Mangaldas Road, Pune\",\"Nathan Road, Mangaldas Road, Pune\",\"Nathan Road, Mangaldas Road, Pune\",\"Nathan Road, Mangaldas Road, Pune\",\"Nathan Road, Mangaldas Road, Pune\",\"Nathan Road, Mangaldas Road, Pune\",\"Nathan Road, Mangaldas Road, Pune\",\"Nathan Road, Mangaldas Road, Pune\",\"Nathan Road, Mangaldas Road, Pune\",\"Nathan Road, Mangaldas Road, Pune\",\"Nathan Road, Mangaldas Road, Pune\",\"Nathan Road, Mangaldas Road, Pune\",\"Nathan Road, Mangaldas Road, Pune\",\"Nathan Road, Mangaldas Road, Pune\",\"Nathan Road, Mangaldas Road, Pune\",\"Nathan Road, Mangaldas Road, Pune\",\"Nathan Road, Mangaldas Road, Pune\",\"Nathan Road, Mangaldas Road, Pune\",\"Nathan Road, Mangaldas Road, Pune\",\"Nathan Road, Mangaldas Road, Pune\",\"Nathan Road, Mangaldas Road, Pune\",\"Nathan Road, Mangaldas Road, Pune\",\"Nathan Road, Mangaldas Road, Pune\",\"Nathan Road, Mangaldas Road, Pune\",\"Nathan Road, Mangaldas Road, Pune\",\"Nathan Road, Mangaldas Road, Pune\",\"Nathan Road, Mangaldas Road, Pune\",\"Nathan Road, Mangaldas Road, Pune\",\"Nathan Road, Mangaldas Road, Pune\",\"Nathan Road, Mangaldas Road, Pune\",\"Nathan Road, Mangaldas Road, Pune\",\"Nathan Road, Mangaldas Road, Pune\",\"Nathan Road, Mangaldas Road, Pune\",\"Nathan Road, Mangaldas Road, Pune\",\"Nathan Road, Mangaldas Road, Pune\",\"Nathan Road, Mangaldas Road, Pune\",\"Nathan Road, Mangaldas Road, Pune\",\"Nathan Road, Mangaldas Road, Pune\",\"Nathan Road, Mangaldas Road, Pune\",\"Nathan Road, Mangaldas Road, Pune\",\"Nathan Road, Mangaldas Road, Pune\",\"Nathan Road, Mangaldas Road, Pune\",\"Nathan Road, Mangaldas Road, Pune\",\"Nathan Road, Mangaldas Road, Pune\",\"Nathan Road, Mangaldas Road, Pune\",\"Nathan Road, Mangaldas Road, Pune\",\"Nathan Road, Mangaldas Road, Pune\",\"Nathan Road, Mangaldas Road, Pune\",\"Nathan Road, Mangaldas Road, Pune\",\"Nathan Road, Mangaldas Road, Pune\",\"Nathan Road, Mangaldas Road, Pune\",\"Nathan Road, Mangaldas Road, Pune\",\"Nathan Road, Mangaldas Road, Pune\",\"Nathan Road, Mangaldas Road, Pune\",\"Nathan Road, Mangaldas Road, Pune\",\"Nathan Road, Mangaldas Road, Pune\",\"Nathan Road, Mangaldas Road, Pune\",\"Nathan Road, Mangaldas Road, Pune\",\"Nathan Road, Mangaldas Road, Pune\",\"Nathan Road, Mangaldas Road, Pune\",\"Nathan Road, Mangaldas Road, Pune\",\"Nathan Road, Mangaldas Road, Pune\",\"Nathan Road, Mangaldas Road, Pune\",\"Nathan Road, Mangaldas Road, Pune\",\"Nathan Road, Mangaldas Road, Pune\",\"Nathan Road, Mangaldas Road, Pune\",\"Nathan Road, Mangaldas Road, Pune\",\"Nathan Road, Mangaldas Road, Pune\",\"Nathan Road, Mangaldas Road, Pune\",\"Nathan Road, Mangaldas Road, Pune\",\"Nathan Road, Mangaldas Road, Pune\",\"Nathan Road, Mangaldas Road, Pune\",\"Nathan Road, Mangaldas Road, Pune\",\"Nathan Road, Mangaldas Road, Pune\",\"Nathan Road, Mangaldas Road, Pune\",\"Nathan Road, Mangaldas Road, Pune\",\"Nathan Road, Mangaldas Road, Pune\",\"Nathan Road, Mangaldas Road, Pune\",\"Nathan Road, Mangaldas Road, Pune\",\"Nathan Road, Mangaldas Road, Pune\",\"Nathan Road, Mangaldas Road, Pune\",\"Nathan Road, Mangaldas Road, Pune\",\"Nathan Road, Mangaldas Road, Pune\",\"Nathan Road, Mangaldas Road, Pune\",\"Nathan Road, Mangaldas Road, Pune\",\"Nathan Road, Mangaldas Road, Pune\",\"Nathan Road, Mangaldas Road, Pune\",\"Nathan Road, Mangaldas Road, Pune\",\"Nathan Road, Mangaldas Road, Pune\",\"Nathan Road, Mangaldas Road, Pune\",\"Nathan Road, Mangaldas Road, Pune\",\"Nathan Road, Mangaldas Road, Pune\",\"Nathan Road, Mangaldas Road, Pune\",\"Nathan Road, Mangaldas Road, Pune\",\"Nathan Road, Mangaldas Road, Pune\",\"Nathan Road, Mangaldas Road, Pune\",\"Nathan Road, Mangaldas Road, Pune\",\"Nathan Road, Mangaldas Road, Pune\",\"Nathan Road, Mangaldas Road, Pune\",\"Nathan Road, Mangaldas Road, Pune\",\"Nathan Road, Mangaldas Road, Pune\",\"Nathan Road, Mangaldas Road, Pune\",\"Nathan Road, Mangaldas Road, Pune\",\"Nathan Road, Mangaldas Road, Pune\",\"Nathan Road, Mangaldas Road, Pune\",\"Nathan Road, Mangaldas Road, Pune\",\"Nathan Road, Mangaldas Road, Pune\",\"Nathan Road, Mangaldas Road, Pune\",\"Nathan Road, Mangaldas Road, Pune\",\"Nathan Road, Mangaldas Road, Pune\",\"Nathan Road, Mangaldas Road, Pune\",\"Nathan Road, Mangaldas Road, Pune\",\"Nathan Road, Mangaldas Road, Pune\",\"Nathan Road, Mangaldas Road, Pune\",\"Nathan Road, Mangaldas Road, Pune\",\"Nathan Road, Mangaldas Road, Pune\",\"Nathan Road, Mangaldas Road, Pune\",\"Nathan Road, Mangaldas Road, Pune\",\"Nathan Road, Mangaldas Road, Pune\",\"Nathan Road, Mangaldas Road, Pune\",\"Nathan Road, Mangaldas Road, Pune\",\"Nathan Road, Mangaldas Road, Pune\",\"Nathan Road, Mangaldas Road, Pune\",\"Nathan Road, Mangaldas Road, Pune\",\"Nathan Road, Mangaldas Road, Pune\",\"Nathan Road, Mangaldas Road, Pune\",\"Nathan Road, Mangaldas Road, Pune\",\"Nathan Road, Mangaldas Road, Pune\",\"Nathan Road, Mangaldas Road, Pune\",\"Nathan Road, Mangaldas Road, Pune\",\"Nathan Road, Mangaldas Road, Pune\",\"Nathan Road, Mangaldas Road, Pune\",\"Nathan Road, Mangaldas Road, Pune\",\"Nathan Road, Mangaldas Road, Pune\",\"Nathan Road, Mangaldas Road, Pune\",\"Nathan Road, Mangaldas Road, Pune\",\"Nathan Road, Mangaldas Road, Pune\",\"Nathan Road, Mangaldas Road, Pune\",\"Nathan Road, Mangaldas Road, Pune\",\"Nathan Road, Mangaldas Road, Pune\",\"Nathan Road, Mangaldas Road, Pune\",\"Nathan Road, Mangaldas Road, Pune\",\"Nathan Road, Mangaldas Road, Pune\",\"Nathan Road, Mangaldas Road, Pune\",\"Nathan Road, Mangaldas Road, Pune\",\"Nathan Road, Mangaldas Road, Pune\",\"Nathan Road, Mangaldas Road, Pune\",\"Nathan Road, Mangaldas Road, Pune\",\"Nathan Road, Mangaldas Road, Pune\",\"Nathan Road, Mangaldas Road, Pune\",\"Nathan Road, Mangaldas Road, Pune\",\"Nathan Road, Mangaldas Road, Pune\",\"Nathan Road, Mangaldas Road, Pune\",\"Nathan Road, Mangaldas Road, Pune\",\"Nathan Road, Mangaldas Road, Pune\",\"Nathan Road, Mangaldas Road, Pune\",\"Nathan Road, Mangaldas Road, Pune\",\"Nathan Road, Mangaldas Road, Pune\",\"Nathan Road, Mangaldas Road, Pune\",\"Nathan Road, Mangaldas Road, Pune\",\"Nathan Road, Mangaldas Road, Pune\",\"Nathan Road, Mangaldas Road, Pune\",\"Nathan Road, Mangaldas Road, Pune\",\"Nathan Road, Mangaldas Road, Pune\",\"Nathan Road, Mangaldas Road, Pune\",\"Nathan Road, Mangaldas Road, Pune\",\"Nathan Road, Mangaldas Road, Pune\",\"Nathan Road, Mangaldas Road, Pune\",\"Nathan Road, Mangaldas Road, Pune\",\"Nathan Road, Mangaldas Road, Pune\",\"Nathan Road, Mangaldas Road, Pune\",\"Nathan Road, Mangaldas Road, Pune\",\"Nathan Road, Mangaldas Road, Pune\",\"Nathan Road, Mangaldas Road, Pune\",\"Nathan Road, Mangaldas Road, Pune\",\"Nathan Road, Mangaldas Road, Pune\",\"Nathan Road, Mangaldas Road, Pune\",\"Nathan Road, Mangaldas Road, Pune\",\"Nathan Road, Mangaldas Road, Pune\",\"Nathan Road, Mangaldas Road, Pune\",\"Nathan Road, Mangaldas Road, Pune\",\"Nathan Road, Mangaldas Road, Pune\",\"Nathan Road, Mangaldas Road, Pune\",\"Nathan Road, Mangaldas Road, Pune\",\"Nathan Road, Mangaldas Road, Pune\",\"Nathan Road, Mangaldas Road, Pune\",\"Nathan Road, Mangaldas Road, Pune\",\"Nathan Road, Mangaldas Road, Pune\",\"Nathan Road, Mangaldas Road, Pune\",\"Nathan Road, Mangaldas Road, Pune\",\"Nathan Road, Mangaldas Road, Pune\",\"Nathan Road, Mangaldas Road, Pune\",\"Nathan Road, Mangaldas Road, Pune\",\"Nathan Road, Mangaldas Road, Pune\",\"Nathan Road, Mangaldas Road, Pune\",\"Nathan Road, Mangaldas Road, Pune\",\"Nathan Road, Mangaldas Road, Pune\",\"Nathan Road, Mangaldas Road, Pune\",\"Nathan Road, Mangaldas Road, Pune\",\"Nathan Road, Mangaldas Road, Pune\",\"Nathan Road, Mangaldas Road, Pune\",\"Nathan Road, Mangaldas Road, Pune\",\"Nathan Road, Mangaldas Road, Pune\",\"Nathan Road, Mangaldas Road, Pune\",\"Nathan Road, Mangaldas Road, Pune\",\"Nathan Road, Mangaldas Road, Pune\",\"Nathan Road, Mangaldas Road, Pune\",\"Nathan Road, Mangaldas Road, Pune\",\"Nathan Road, Mangaldas Road, Pune\",\"Nathan Road, Mangaldas Road, Pune\",\"Nathan Road, Mangaldas Road, Pune\",\"Nathan Road, Mangaldas Road, Pune\",\"Nathan Road, Mangaldas Road, Pune\",\"Nathan Road, Mangaldas Road, Pune\",\"Nathan Road, Mangaldas Road, Pune\",\"Nathan Road, Mangaldas Road, Pune\",\"Nathan Road, Mangaldas Road, Pune\",\"Nathan Road, Mangaldas Road, Pune\",\"Nathan Road, Mangaldas Road, Pune\",\"Nathan Road, Mangaldas Road, Pune\",\"Nathan Road, Mangaldas Road, Pune\",\"Nathan Road, Mangaldas Road, Pune\",\"Nathan Road, Mangaldas Road, Pune\",\"Nathan Road, Mangaldas Road, Pune\",\"Nathan Road, Mangaldas Road, Pune\",\"Nathan Road, Mangaldas Road, Pune\",\"Nathan Road, Mangaldas Road, Pune\",\"Nathan Road, Mangaldas Road, Pune\",\"Nathan Road, Mangaldas Road, Pune\",\"Nathan Road, Mangaldas Road, Pune\",\"Nathan Road, Mangaldas Road, Pune\",\"Nathan Road, Mangaldas Road, Pune\",\"Nathan Road, Mangaldas Road, Pune\",\"Nathan Road, Mangaldas Road, Pune\",\"Nathan Road, Mangaldas Road, Pune\",\"Nathan Road, Mangaldas Road, Pune\",\"Nathan Road, Mangaldas Road, Pune\",\"Nathan Road, Mangaldas Road, Pune\",\"Nathan Road, Mangaldas Road, Pune\",\"Nathan Road, Mangaldas Road, Pune\",\"Nathan Road, Mangaldas Road, Pune\",\"Nathan Road, Mangaldas Road, Pune\",\"Nathan Road, Mangaldas Road, Pune\",\"Nathan Road, Mangaldas Road, Pune\",\"Nathan Road, Mangaldas Road, Pune\",\"Nathan Road, Mangaldas Road, Pune\",\"Nathan Road, Mangaldas Road, Pune\",\"Nathan Road, Mangaldas Road, Pune\",\"Nathan Road, Mangaldas Road, Pune\",\"Nathan Road, Mangaldas Road, Pune\",\"Nathan Road, Mangaldas Road, Pune\",\"Nathan Road, Mangaldas Road, Pune\",\"Nathan Road, Mangaldas Road, Pune\",\"Nathan Road, Mangaldas Road, Pune\",\"Nathan Road, Mangaldas Road, Pune\",\"Nathan Road, Mangaldas Road, Pune\",\"Nathan Road, Mangaldas Road, Pune\",\"Nathan Road, Mangaldas Road, Pune\",\"Nathan Road, Mangaldas Road, Pune\",\"Nathan Road, Mangaldas Road, Pune\",\"Nathan Road, Mangaldas Road, Pune\",\"Nathan Road, Mangaldas Road, Pune\",\"Nathan Road, Mangaldas Road, Pune\",\"Nathan Road, Mangaldas Road, Pune\",\"Nathan Road, Mangaldas Road, Pune\",\"Nathan Road, Mangaldas Road, Pune\",\"Nathan Road, Mangaldas Road, Pune\",\"Nathan Road, Mangaldas Road, Pune\",\"Nathan Road, Mangaldas Road, Pune\",\"Nathan Road, Mangaldas Road, Pune\",\"Nathan Road, Mangaldas Road, Pune\",\"Nathan Road, Mangaldas Road, Pune\",\"Nathan Road, Mangaldas Road, Pune\",\"Nathan Road, Mangaldas Road, Pune\",\"Nathan Road, Mangaldas Road, Pune\",\"Nathan Road, Mangaldas Road, Pune\",\"Nathan Road, Mangaldas Road, Pune\",\"Nathan Road, Mangaldas Road, Pune\",\"Nathan Road, Mangaldas Road, Pune\",\"Nathan Road, Mangaldas Road, Pune\",\"Nathan Road, Mangaldas Road, Pune\",\"Nathan Road, Mangaldas Road, Pune\",\"Nathan Road, Mangaldas Road, Pune\",\"Nathan Road, Mangaldas Road, Pune\",\"Nathan Road, Mangaldas Road, Pune\",\"Nathan Road, Mangaldas Road, Pune\",\"Nathan Road, Mangaldas Road, Pune\",\"Nathan Road, Mangaldas Road, Pune\",\"Nathan Road, Mangaldas Road, Pune\",\"Nathan Road, Mangaldas Road, Pune\",\"Nathan Road, Mangaldas Road, Pune\",\"Nathan Road, Mangaldas Road, Pune\",\"Nathan Road, Mangaldas Road, Pune\",\"Nathan Road, Mangaldas Road, Pune\",\"Nathan Road, Mangaldas Road, Pune\",\"Nathan Road, Mangaldas Road, Pune\",\"Nathan Road, Mangaldas Road, Pune\",\"Nathan Road, Mangaldas Road, Pune\",\"Nathan Road, Mangaldas Road, Pune\",\"Nathan Road, Mangaldas Road, Pune\",\"Nathan Road, Mangaldas Road, Pune\",\"Nathan Road, Mangaldas Road, Pune\",\"Nathan Road, Mangaldas Road, Pune\",\"Nathan Road, Mangaldas Road, Pune\",\"Nathan Road, Mangaldas Road, Pune\",\"Nathan Road, Mangaldas Road, Pune\",\"Nathan Road, Mangaldas Road, Pune\",\"Nathan Road, Mangaldas Road, Pune\",\"Nathan Road, Mangaldas Road, Pune\",\"Nathan Road, Mangaldas Road, Pune\",\"Nathan Road, Mangaldas Road, Pune\",\"Nathan Road, Mangaldas Road, Pune\",\"Nathan Road, Mangaldas Road, Pune\",\"Nathan Road, Mangaldas Road, Pune\",\"Nathan Road, Mangaldas Road, Pune\",\"Nathan Road, Mangaldas Road, Pune\",\"Nathan Road, Mangaldas Road, Pune\",\"Nathan Road, Mangaldas Road, Pune\",\"Nathan Road, Mangaldas Road, Pune\",\"Nathan Road, Mangaldas Road, Pune\",\"Nathan Road, Mangaldas Road, Pune\",\"Nathan Road, Mangaldas Road, Pune\",\"Nathan Road, Mangaldas Road, Pune\",\"Nathan Road, Mangaldas Road, Pune\",\"Nathan Road, Mangaldas Road, Pune\",\"Nathan Road, Mangaldas Road, Pune\",\"Nathan Road, Mangaldas Road, Pune\",\"Nathan Road, Mangaldas Road, Pune\",\"Nathan Road, Mangaldas Road, Pune\",\"Nathan Road, Mangaldas Road, Pune\",\"Nathan Road, Mangaldas Road, Pune\",\"Nathan Road, Mangaldas Road, Pune\",\"Nathan Road, Mangaldas Road, Pune\",\"Nathan Road, Mangaldas Road, Pune\",\"Nathan Road, Mangaldas Road, Pune\",\"Nathan Road, Mangaldas Road, Pune\",\"Nathan Road, Mangaldas Road, Pune\",\"Nathan Road, Mangaldas Road, Pune\",\"Nathan Road, Mangaldas Road, Pune\",\"Nathan Road, Mangaldas Road, Pune\",\"Nathan Road, Mangaldas Road, Pune\",\"Nathan Road, Mangaldas Road, Pune\",\"Nathan Road, Mangaldas Road, Pune\",\"Nathan Road, Mangaldas Road, Pune\",\"Nathan Road, Mangaldas Road, Pune\",\"Nathan Road, Mangaldas Road, Pune\",\"Nathan Road, Mangaldas Road, Pune\",\"Nathan Road, Mangaldas Road, Pune\",\"Nathan Road, Mangaldas Road, Pune\",\"Nathan Road, Mangaldas Road, Pune\",\"Nathan Road, Mangaldas Road, Pune\",\"Nathan Road, Mangaldas Road, Pune\",\"Nathan Road, Mangaldas Road, Pune\",\"Nathan Road, Mangaldas Road, Pune\",\"Nathan Road, Mangaldas Road, Pune\",\"Nathan Road, Mangaldas Road, Pune\",\"Nathan Road, Mangaldas Road, Pune\",\"Nathan Road, Mangaldas Road, Pune\",\"Nathan Road, Mangaldas Road, Pune\",\"Nathan Road, Mangaldas Road, Pune\",\"Nathan Road, Mangaldas Road, Pune\",\"Nathan Road, Mangaldas Road, Pune\",\"Nathan Road, Mangaldas Road, Pune\",\"Nathan Road, Mangaldas Road, Pune\",\"Nathan Road, Mangaldas Road, Pune\",\"Nathan Road, Mangaldas Road, Pune\",\"Nathan Road, Mangaldas Road, Pune\",\"Nathan Road, Mangaldas Road, Pune\",\"Nathan Road, Mangaldas Road, Pune\",\"Nathan Road, Mangaldas Road, Pune\",\"Nathan Road, Mangaldas Road, Pune\",\"Nathan Road, Mangaldas Road, Pune\",\"Nathan Road, Mangaldas Road, Pune\",\"Nathan Road, Mangaldas Road, Pune\",\"Nathan Road, Mangaldas Road, Pune\",\"Nathan Road, Mangaldas Road, Pune\",\"Nathan Road, Mangaldas Road, Pune\",\"Nathan Road, Mangaldas Road, Pune\",\"Nathan Road, Mangaldas Road, Pune\",\"Nathan Road, Mangaldas Road, Pune\",\"Nathan Road, Mangaldas Road, Pune\",\"Nathan Road, Mangaldas Road, Pune\",\"Nathan Road, Mangaldas Road, Pune\",\"Nathan Road, Mangaldas Road, Pune\",\"Nathan Road, Mangaldas Road, Pune\",\"Nathan Road, Mangaldas Road, Pune\",\"Nathan Road, Mangaldas Road, Pune\",\"Nathan Road, Mangaldas Road, Pune\",\"Nathan Road, Mangaldas Road, Pune\",\"Nathan Road, Mangaldas Road, Pune\",\"Nathan Road, Mangaldas Road, Pune\",\"Nathan Road, Mangaldas Road, Pune\",\"Nathan Road, Mangaldas Road, Pune\",\"Nathan Road, Mangaldas Road, Pune\",\"Nathan Road, Mangaldas Road, Pune\",\"Nathan Road, Mangaldas Road, Pune\",\"Nathan Road, Mangaldas Road, Pune\",\"Nathan Road, Mangaldas Road, Pune\",\"Nathan Road, Mangaldas Road, Pune\",\"Nathan Road, Mangaldas Road, Pune\",\"Nathan Road, Mangaldas Road, Pune\",\"Nathan Road, Mangaldas Road, Pune\",\"Nathan Road, Mangaldas Road, Pune\",\"Nathan Road, Mangaldas Road, Pune\",\"Nathan Road, Mangaldas Road, Pune\",\"Nathan Road, Mangaldas Road, Pune\",\"Nathan Road, Mangaldas Road, Pune\",\"Nathan Road, Mangaldas Road, Pune\",\"Nathan Road, Mangaldas Road, Pune\",\"Nathan Road, Mangaldas Road, Pune\",\"Nathan Road, Mangaldas Road, Pune\",\"Nathan Road, Mangaldas Road, Pune\",\"Nathan Road, Mangaldas Road, Pune\",\"Nathan Road, Mangaldas Road, Pune\",\"Nathan Road, Mangaldas Road, Pune\",\"Nathan Road, Mangaldas Road, Pune\",\"Nathan Road, Mangaldas Road, Pune\",\"Nathan Road, Mangaldas Road, Pune\",\"Nathan Road, Mangaldas Road, Pune\",\"Nathan Road, Mangaldas Road, Pune\",\"Nathan Road, Mangaldas Road, Pune\",\"Nathan Road, Mangaldas Road, Pune\",\"Nathan Road, Mangaldas Road, Pune\",\"Nathan Road, Mangaldas Road, Pune\",\"Nathan Road, Mangaldas Road, Pune\",\"Nathan Road, Mangaldas Road, Pune\",\"Nathan Road, Mangaldas Road, Pune\",\"Nathan Road, Mangaldas Road, Pune\",\"Nathan Road, Mangaldas Road, Pune\",\"Nathan Road, Mangaldas Road, Pune\",\"Nathan Road, Mangaldas Road, Pune\",\"Nathan Road, Mangaldas Road, Pune\",\"Nathan Road, Mangaldas Road, Pune\",\"Nathan Road, Mangaldas Road, Pune\",\"Nathan Road, Mangaldas Road, Pune\",\"Nathan Road, Mangaldas Road, Pune\",\"Nathan Road, Mangaldas Road, Pune\",\"Nathan Road, Mangaldas Road, Pune\",\"Nathan Road, Mangaldas Road, Pune\",\"Nathan Road, Mangaldas Road, Pune\",\"Nathan Road, Mangaldas Road, Pune\",\"Nathan Road, Mangaldas Road, Pune\",\"Nathan Road, Mangaldas Road, Pune\",\"Nathan Road, Mangaldas Road, Pune\",\"Nathan Road, Mangaldas Road, Pune\",\"Nathan Road, Mangaldas Road, Pune\",\"Nathan Road, Mangaldas Road, Pune\",\"Nathan Road, Mangaldas Road, Pune\",\"Nathan Road, Mangaldas Road, Pune\",\"Nathan Road, Mangaldas Road, Pune\",\"Nathan Road, Mangaldas Road, Pune\",\"Nathan Road, Mangaldas Road, Pune\",\"Nathan Road, Mangaldas Road, Pune\",\"Nathan Road, Mangaldas Road, Pune\",\"Nathan Road, Mangaldas Road, Pune\",\"Nathan Road, Mangaldas Road, Pune\",\"Nathan Road, Mangaldas Road, Pune\",\"Nathan Road, Mangaldas Road, Pune\",\"Nathan Road, Mangaldas Road, Pune\",\"Nathan Road, Mangaldas Road, Pune\",\"Nathan Road, Mangaldas Road, Pune\",\"Nathan Road, Mangaldas Road, Pune\",\"Nathan Road, Mangaldas Road, Pune\",\"Nathan Road, Mangaldas Road, Pune\",\"Nathan Road, Mangaldas Road, Pune\",\"Nathan Road, Mangaldas Road, Pune\",\"Nathan Road, Mangaldas Road, Pune\",\"Nathan Road, Mangaldas Road, Pune\",\"Nathan Road, Mangaldas Road, Pune\",\"Nathan Road, Mangaldas Road, Pune\",\"Nathan Road, Mangaldas Road, Pune\",\"Nathan Road, Mangaldas Road, Pune\",\"Nathan Road, Mangaldas Road, Pune\",\"Nathan Road, Mangaldas Road, Pune\",\"Nathan Road, Mangaldas Road, Pune\",\"Nathan Road, Mangaldas Road, Pune\",\"Nathan Road, Mangaldas Road, Pune\",\"Nathan Road, Mangaldas Road, Pune\",\"Nathan Road, Mangaldas Road, Pune\",\"Nathan Road, Mangaldas Road, Pune\",\"Nathan Road, Mangaldas Road, Pune\",\"Nathan Road, Mangaldas Road, Pune\",\"Nathan Road, Mangaldas Road, Pune\",\"Nathan Road, Mangaldas Road, Pune\",\"Nathan Road, Mangaldas Road, Pune\",\"Nathan Road, Mangaldas Road, Pune\",\"Nathan Road, Mangaldas Road, Pune\",\"Nathan Road, Mangaldas Road, Pune\",\"Nathan Road, Mangaldas Road, Pune\",\"Nathan Road, Mangaldas Road, Pune\",\"Nathan Road, Mangaldas Road, Pune\",\"Nathan Road, Mangaldas Road, Pune\",\"Nathan Road, Mangaldas Road, Pune\",\"Nathan Road, Mangaldas Road, Pune\",\"Nathan Road, Mangaldas Road, Pune\",\"Nathan Road, Mangaldas Road, Pune\",\"Nathan Road, Mangaldas Road, Pune\",\"Nathan Road, Mangaldas Road, Pune\",\"Nathan Road, Mangaldas Road, Pune\",\"Nathan Road, Mangaldas Road, Pune\",\"Nathan Road, Mangaldas Road, Pune\",\"Nathan Road, Mangaldas Road, Pune\",\"Nathan Road, Mangaldas Road, Pune\",\"Nathan Road, Mangaldas Road, Pune\",\"Nathan Road, Mangaldas Road, Pune\",\"Nathan Road, Mangaldas Road, Pune\",\"Nathan Road, Mangaldas Road, Pune\",\"Nathan Road, Mangaldas Road, Pune\",\"Nathan Road, Mangaldas Road, Pune\",\"Nathan Road, Mangaldas Road, Pune\",\"Nathan Road, Mangaldas Road, Pune\",\"Nathan Road, Mangaldas Road, Pune\",\"Nathan Road, Mangaldas Road, Pune\",\"Nathan Road, Mangaldas Road, Pune\",\"Nathan Road, Mangaldas Road, Pune\",\"Nathan Road, Mangaldas Road, Pune\",\"Nathan Road, Mangaldas Road, Pune\",\"Nathan Road, Mangaldas Road, Pune\",\"Nathan Road, Mangaldas Road, Pune\",\"Nathan Road, Mangaldas Road, Pune\",\"Nathan Road, Mangaldas Road, Pune\",\"Nathan Road, Mangaldas Road, Pune\",\"Nathan Road, Mangaldas Road, Pune\",\"Nathan Road, Mangaldas Road, Pune\",\"Nathan Road, Mangaldas Road, Pune\",\"Nathan Road, Mangaldas Road, Pune\",\"Nathan Road, Mangaldas Road, Pune\",\"Nathan Road, Mangaldas Road, Pune\",\"Nathan Road, Mangaldas Road, Pune\",\"Nathan Road, Mangaldas Road, Pune\",\"Nathan Road, Mangaldas Road, Pune\",\"Nathan Road, Mangaldas Road, Pune\",\"Nathan Road, Mangaldas Road, Pune\",\"Nathan Road, Mangaldas Road, Pune\",\"Nathan Road, Mangaldas Road, Pune\",\"Nathan Road, Mangaldas Road, Pune\",\"Nathan Road, Mangaldas Road, Pune\",\"Nathan Road, Mangaldas Road, Pune\",\"Nathan Road, Mangaldas Road, Pune\",\"Nathan Road, Mangaldas Road, Pune\"],\"y0\":\" \",\"yaxis\":\"y\",\"type\":\"box\"}],                        {\"template\":{\"data\":{\"bar\":[{\"error_x\":{\"color\":\"#2a3f5f\"},\"error_y\":{\"color\":\"#2a3f5f\"},\"marker\":{\"line\":{\"color\":\"#E5ECF6\",\"width\":0.5},\"pattern\":{\"fillmode\":\"overlay\",\"size\":10,\"solidity\":0.2}},\"type\":\"bar\"}],\"barpolar\":[{\"marker\":{\"line\":{\"color\":\"#E5ECF6\",\"width\":0.5},\"pattern\":{\"fillmode\":\"overlay\",\"size\":10,\"solidity\":0.2}},\"type\":\"barpolar\"}],\"carpet\":[{\"aaxis\":{\"endlinecolor\":\"#2a3f5f\",\"gridcolor\":\"white\",\"linecolor\":\"white\",\"minorgridcolor\":\"white\",\"startlinecolor\":\"#2a3f5f\"},\"baxis\":{\"endlinecolor\":\"#2a3f5f\",\"gridcolor\":\"white\",\"linecolor\":\"white\",\"minorgridcolor\":\"white\",\"startlinecolor\":\"#2a3f5f\"},\"type\":\"carpet\"}],\"choropleth\":[{\"colorbar\":{\"outlinewidth\":0,\"ticks\":\"\"},\"type\":\"choropleth\"}],\"contour\":[{\"colorbar\":{\"outlinewidth\":0,\"ticks\":\"\"},\"colorscale\":[[0.0,\"#0d0887\"],[0.1111111111111111,\"#46039f\"],[0.2222222222222222,\"#7201a8\"],[0.3333333333333333,\"#9c179e\"],[0.4444444444444444,\"#bd3786\"],[0.5555555555555556,\"#d8576b\"],[0.6666666666666666,\"#ed7953\"],[0.7777777777777778,\"#fb9f3a\"],[0.8888888888888888,\"#fdca26\"],[1.0,\"#f0f921\"]],\"type\":\"contour\"}],\"contourcarpet\":[{\"colorbar\":{\"outlinewidth\":0,\"ticks\":\"\"},\"type\":\"contourcarpet\"}],\"heatmap\":[{\"colorbar\":{\"outlinewidth\":0,\"ticks\":\"\"},\"colorscale\":[[0.0,\"#0d0887\"],[0.1111111111111111,\"#46039f\"],[0.2222222222222222,\"#7201a8\"],[0.3333333333333333,\"#9c179e\"],[0.4444444444444444,\"#bd3786\"],[0.5555555555555556,\"#d8576b\"],[0.6666666666666666,\"#ed7953\"],[0.7777777777777778,\"#fb9f3a\"],[0.8888888888888888,\"#fdca26\"],[1.0,\"#f0f921\"]],\"type\":\"heatmap\"}],\"heatmapgl\":[{\"colorbar\":{\"outlinewidth\":0,\"ticks\":\"\"},\"colorscale\":[[0.0,\"#0d0887\"],[0.1111111111111111,\"#46039f\"],[0.2222222222222222,\"#7201a8\"],[0.3333333333333333,\"#9c179e\"],[0.4444444444444444,\"#bd3786\"],[0.5555555555555556,\"#d8576b\"],[0.6666666666666666,\"#ed7953\"],[0.7777777777777778,\"#fb9f3a\"],[0.8888888888888888,\"#fdca26\"],[1.0,\"#f0f921\"]],\"type\":\"heatmapgl\"}],\"histogram\":[{\"marker\":{\"pattern\":{\"fillmode\":\"overlay\",\"size\":10,\"solidity\":0.2}},\"type\":\"histogram\"}],\"histogram2d\":[{\"colorbar\":{\"outlinewidth\":0,\"ticks\":\"\"},\"colorscale\":[[0.0,\"#0d0887\"],[0.1111111111111111,\"#46039f\"],[0.2222222222222222,\"#7201a8\"],[0.3333333333333333,\"#9c179e\"],[0.4444444444444444,\"#bd3786\"],[0.5555555555555556,\"#d8576b\"],[0.6666666666666666,\"#ed7953\"],[0.7777777777777778,\"#fb9f3a\"],[0.8888888888888888,\"#fdca26\"],[1.0,\"#f0f921\"]],\"type\":\"histogram2d\"}],\"histogram2dcontour\":[{\"colorbar\":{\"outlinewidth\":0,\"ticks\":\"\"},\"colorscale\":[[0.0,\"#0d0887\"],[0.1111111111111111,\"#46039f\"],[0.2222222222222222,\"#7201a8\"],[0.3333333333333333,\"#9c179e\"],[0.4444444444444444,\"#bd3786\"],[0.5555555555555556,\"#d8576b\"],[0.6666666666666666,\"#ed7953\"],[0.7777777777777778,\"#fb9f3a\"],[0.8888888888888888,\"#fdca26\"],[1.0,\"#f0f921\"]],\"type\":\"histogram2dcontour\"}],\"mesh3d\":[{\"colorbar\":{\"outlinewidth\":0,\"ticks\":\"\"},\"type\":\"mesh3d\"}],\"parcoords\":[{\"line\":{\"colorbar\":{\"outlinewidth\":0,\"ticks\":\"\"}},\"type\":\"parcoords\"}],\"pie\":[{\"automargin\":true,\"type\":\"pie\"}],\"scatter\":[{\"marker\":{\"colorbar\":{\"outlinewidth\":0,\"ticks\":\"\"}},\"type\":\"scatter\"}],\"scatter3d\":[{\"line\":{\"colorbar\":{\"outlinewidth\":0,\"ticks\":\"\"}},\"marker\":{\"colorbar\":{\"outlinewidth\":0,\"ticks\":\"\"}},\"type\":\"scatter3d\"}],\"scattercarpet\":[{\"marker\":{\"colorbar\":{\"outlinewidth\":0,\"ticks\":\"\"}},\"type\":\"scattercarpet\"}],\"scattergeo\":[{\"marker\":{\"colorbar\":{\"outlinewidth\":0,\"ticks\":\"\"}},\"type\":\"scattergeo\"}],\"scattergl\":[{\"marker\":{\"colorbar\":{\"outlinewidth\":0,\"ticks\":\"\"}},\"type\":\"scattergl\"}],\"scattermapbox\":[{\"marker\":{\"colorbar\":{\"outlinewidth\":0,\"ticks\":\"\"}},\"type\":\"scattermapbox\"}],\"scatterpolar\":[{\"marker\":{\"colorbar\":{\"outlinewidth\":0,\"ticks\":\"\"}},\"type\":\"scatterpolar\"}],\"scatterpolargl\":[{\"marker\":{\"colorbar\":{\"outlinewidth\":0,\"ticks\":\"\"}},\"type\":\"scatterpolargl\"}],\"scatterternary\":[{\"marker\":{\"colorbar\":{\"outlinewidth\":0,\"ticks\":\"\"}},\"type\":\"scatterternary\"}],\"surface\":[{\"colorbar\":{\"outlinewidth\":0,\"ticks\":\"\"},\"colorscale\":[[0.0,\"#0d0887\"],[0.1111111111111111,\"#46039f\"],[0.2222222222222222,\"#7201a8\"],[0.3333333333333333,\"#9c179e\"],[0.4444444444444444,\"#bd3786\"],[0.5555555555555556,\"#d8576b\"],[0.6666666666666666,\"#ed7953\"],[0.7777777777777778,\"#fb9f3a\"],[0.8888888888888888,\"#fdca26\"],[1.0,\"#f0f921\"]],\"type\":\"surface\"}],\"table\":[{\"cells\":{\"fill\":{\"color\":\"#EBF0F8\"},\"line\":{\"color\":\"white\"}},\"header\":{\"fill\":{\"color\":\"#C8D4E3\"},\"line\":{\"color\":\"white\"}},\"type\":\"table\"}]},\"layout\":{\"annotationdefaults\":{\"arrowcolor\":\"#2a3f5f\",\"arrowhead\":0,\"arrowwidth\":1},\"autotypenumbers\":\"strict\",\"coloraxis\":{\"colorbar\":{\"outlinewidth\":0,\"ticks\":\"\"}},\"colorscale\":{\"diverging\":[[0,\"#8e0152\"],[0.1,\"#c51b7d\"],[0.2,\"#de77ae\"],[0.3,\"#f1b6da\"],[0.4,\"#fde0ef\"],[0.5,\"#f7f7f7\"],[0.6,\"#e6f5d0\"],[0.7,\"#b8e186\"],[0.8,\"#7fbc41\"],[0.9,\"#4d9221\"],[1,\"#276419\"]],\"sequential\":[[0.0,\"#0d0887\"],[0.1111111111111111,\"#46039f\"],[0.2222222222222222,\"#7201a8\"],[0.3333333333333333,\"#9c179e\"],[0.4444444444444444,\"#bd3786\"],[0.5555555555555556,\"#d8576b\"],[0.6666666666666666,\"#ed7953\"],[0.7777777777777778,\"#fb9f3a\"],[0.8888888888888888,\"#fdca26\"],[1.0,\"#f0f921\"]],\"sequentialminus\":[[0.0,\"#0d0887\"],[0.1111111111111111,\"#46039f\"],[0.2222222222222222,\"#7201a8\"],[0.3333333333333333,\"#9c179e\"],[0.4444444444444444,\"#bd3786\"],[0.5555555555555556,\"#d8576b\"],[0.6666666666666666,\"#ed7953\"],[0.7777777777777778,\"#fb9f3a\"],[0.8888888888888888,\"#fdca26\"],[1.0,\"#f0f921\"]]},\"colorway\":[\"#636efa\",\"#EF553B\",\"#00cc96\",\"#ab63fa\",\"#FFA15A\",\"#19d3f3\",\"#FF6692\",\"#B6E880\",\"#FF97FF\",\"#FECB52\"],\"font\":{\"color\":\"#2a3f5f\"},\"geo\":{\"bgcolor\":\"white\",\"lakecolor\":\"white\",\"landcolor\":\"#E5ECF6\",\"showlakes\":true,\"showland\":true,\"subunitcolor\":\"white\"},\"hoverlabel\":{\"align\":\"left\"},\"hovermode\":\"closest\",\"mapbox\":{\"style\":\"light\"},\"paper_bgcolor\":\"white\",\"plot_bgcolor\":\"#E5ECF6\",\"polar\":{\"angularaxis\":{\"gridcolor\":\"white\",\"linecolor\":\"white\",\"ticks\":\"\"},\"bgcolor\":\"#E5ECF6\",\"radialaxis\":{\"gridcolor\":\"white\",\"linecolor\":\"white\",\"ticks\":\"\"}},\"scene\":{\"xaxis\":{\"backgroundcolor\":\"#E5ECF6\",\"gridcolor\":\"white\",\"gridwidth\":2,\"linecolor\":\"white\",\"showbackground\":true,\"ticks\":\"\",\"zerolinecolor\":\"white\"},\"yaxis\":{\"backgroundcolor\":\"#E5ECF6\",\"gridcolor\":\"white\",\"gridwidth\":2,\"linecolor\":\"white\",\"showbackground\":true,\"ticks\":\"\",\"zerolinecolor\":\"white\"},\"zaxis\":{\"backgroundcolor\":\"#E5ECF6\",\"gridcolor\":\"white\",\"gridwidth\":2,\"linecolor\":\"white\",\"showbackground\":true,\"ticks\":\"\",\"zerolinecolor\":\"white\"}},\"shapedefaults\":{\"line\":{\"color\":\"#2a3f5f\"}},\"ternary\":{\"aaxis\":{\"gridcolor\":\"white\",\"linecolor\":\"white\",\"ticks\":\"\"},\"baxis\":{\"gridcolor\":\"white\",\"linecolor\":\"white\",\"ticks\":\"\"},\"bgcolor\":\"#E5ECF6\",\"caxis\":{\"gridcolor\":\"white\",\"linecolor\":\"white\",\"ticks\":\"\"}},\"title\":{\"x\":0.05},\"xaxis\":{\"automargin\":true,\"gridcolor\":\"white\",\"linecolor\":\"white\",\"ticks\":\"\",\"title\":{\"standoff\":15},\"zerolinecolor\":\"white\",\"zerolinewidth\":2},\"yaxis\":{\"automargin\":true,\"gridcolor\":\"white\",\"linecolor\":\"white\",\"ticks\":\"\",\"title\":{\"standoff\":15},\"zerolinecolor\":\"white\",\"zerolinewidth\":2}}},\"xaxis\":{\"anchor\":\"y\",\"domain\":[0.0,1.0],\"title\":{\"text\":\"Reviews\"}},\"yaxis\":{\"anchor\":\"x\",\"domain\":[0.0,1.0],\"title\":{\"text\":\"Location\"}},\"legend\":{\"tracegroupgap\":0},\"title\":{\"text\":\"Distribution of Reviews in Pune for different locations\"},\"boxmode\":\"group\",\"height\":400,\"width\":800},                        {\"responsive\": true}                    ).then(function(){\n",
              "                            \n",
              "var gd = document.getElementById('ee12548b-212d-4af9-a5a0-66ce19b64b89');\n",
              "var x = new MutationObserver(function (mutations, observer) {{\n",
              "        var display = window.getComputedStyle(gd).display;\n",
              "        if (!display || display === 'none') {{\n",
              "            console.log([gd, 'removed!']);\n",
              "            Plotly.purge(gd);\n",
              "            observer.disconnect();\n",
              "        }}\n",
              "}});\n",
              "\n",
              "// Listen for the removal of the full notebook cells\n",
              "var notebookContainer = gd.closest('#notebook-container');\n",
              "if (notebookContainer) {{\n",
              "    x.observe(notebookContainer, {childList: true});\n",
              "}}\n",
              "\n",
              "// Listen for the clearing of the current output cell\n",
              "var outputEl = gd.closest('.output');\n",
              "if (outputEl) {{\n",
              "    x.observe(outputEl, {childList: true});\n",
              "}}\n",
              "\n",
              "                        })                };                            </script>        </div>\n",
              "</body>\n",
              "</html>"
            ]
          },
          "metadata": {}
        }
      ]
    },
    {
      "cell_type": "markdown",
      "source": [
        "There are many outliers in the distribution of reviews for different locations in Pune city. however, the location `Pune University` has the highest median value of 58 reviews. The maximum number of reviews for a restaurant in Pune is around 3000 in our dataset."
      ],
      "metadata": {
        "id": "yVC5wvYaY4jh"
      }
    },
    {
      "cell_type": "code",
      "source": [
        "cityName = \"Gurgaon\"\n",
        "title=\"<b>Popular cuisines in \" +cityName+ \"</b>\"\n",
        "city_cuisine = df1[df1.city==cityName][['cuisine']]\n",
        "top = city_cuisine.cuisine.value_counts().reset_index(level=0)\n",
        "top.columns = ['Cuisine','Restaurants']\n",
        "top = top[top['Restaurants']>30]\n",
        "\n",
        "fig = px.bar(top, x='Cuisine', y='Restaurants', title=title, labels={'Restaurants':'Total Number of Restaurants'}, width=700, height=350, \n",
        "             template=template)\n",
        "fig.update_traces(marker_color=cityColor[cityName][1], marker_line_color=cityColor[cityName][0],\n",
        "                  marker_line_width=1.5, opacity=0.6)\n",
        "fig.update_xaxes(tickangle=45)\n",
        "fig.show()"
      ],
      "metadata": {
        "colab": {
          "base_uri": "https://localhost:8080/",
          "height": 366
        },
        "id": "1z5GwkEK0l31",
        "outputId": "6936ffa7-f1bb-46f9-e087-26e6057200d4"
      },
      "execution_count": 42,
      "outputs": [
        {
          "output_type": "display_data",
          "data": {
            "text/html": [
              "<html>\n",
              "<head><meta charset=\"utf-8\" /></head>\n",
              "<body>\n",
              "    <div>            <script src=\"https://cdnjs.cloudflare.com/ajax/libs/mathjax/2.7.5/MathJax.js?config=TeX-AMS-MML_SVG\"></script><script type=\"text/javascript\">if (window.MathJax) {MathJax.Hub.Config({SVG: {font: \"STIX-Web\"}});}</script>                <script type=\"text/javascript\">window.PlotlyConfig = {MathJaxConfig: 'local'};</script>\n",
              "        <script src=\"https://cdn.plot.ly/plotly-2.8.3.min.js\"></script>                <div id=\"94e11c4c-1f64-4c64-86be-a2a8441c7a38\" class=\"plotly-graph-div\" style=\"height:350px; width:700px;\"></div>            <script type=\"text/javascript\">                                    window.PLOTLYENV=window.PLOTLYENV || {};                                    if (document.getElementById(\"94e11c4c-1f64-4c64-86be-a2a8441c7a38\")) {                    Plotly.newPlot(                        \"94e11c4c-1f64-4c64-86be-a2a8441c7a38\",                        [{\"alignmentgroup\":\"True\",\"hovertemplate\":\"Cuisine=%{x}<br>Total Number of Restaurants=%{y}<extra></extra>\",\"legendgroup\":\"\",\"marker\":{\"color\":\"rgb(145, 31, 130)\",\"pattern\":{\"shape\":\"\"},\"line\":{\"color\":\"rgb(235, 164, 225)\",\"width\":1.5}},\"name\":\"\",\"offsetgroup\":\"\",\"orientation\":\"v\",\"showlegend\":false,\"textposition\":\"auto\",\"x\":[\"North Indian\",\"Chinese\",\"Fast Food\",\"Beverages\",\"Mughlai\",\"Desserts\",\"Bakery\",\"South Indian\",\"Biryani\",\"Mithai\",\"Pizza\",\"Healthy Food\",\"Street Food\",\"Burger\",\"Rolls\",\"Italian\",\"Continental\"],\"xaxis\":\"x\",\"y\":[403,246,218,86,73,59,57,47,46,35,32,32,31,30,29,27,27],\"yaxis\":\"y\",\"type\":\"bar\",\"opacity\":0.6}],                        {\"template\":{\"data\":{\"barpolar\":[{\"marker\":{\"line\":{\"color\":\"white\",\"width\":0.5},\"pattern\":{\"fillmode\":\"overlay\",\"size\":10,\"solidity\":0.2}},\"type\":\"barpolar\"}],\"bar\":[{\"error_x\":{\"color\":\"#2a3f5f\"},\"error_y\":{\"color\":\"#2a3f5f\"},\"marker\":{\"line\":{\"color\":\"white\",\"width\":0.5},\"pattern\":{\"fillmode\":\"overlay\",\"size\":10,\"solidity\":0.2}},\"type\":\"bar\"}],\"carpet\":[{\"aaxis\":{\"endlinecolor\":\"#2a3f5f\",\"gridcolor\":\"#C8D4E3\",\"linecolor\":\"#C8D4E3\",\"minorgridcolor\":\"#C8D4E3\",\"startlinecolor\":\"#2a3f5f\"},\"baxis\":{\"endlinecolor\":\"#2a3f5f\",\"gridcolor\":\"#C8D4E3\",\"linecolor\":\"#C8D4E3\",\"minorgridcolor\":\"#C8D4E3\",\"startlinecolor\":\"#2a3f5f\"},\"type\":\"carpet\"}],\"choropleth\":[{\"colorbar\":{\"outlinewidth\":0,\"ticks\":\"\"},\"type\":\"choropleth\"}],\"contourcarpet\":[{\"colorbar\":{\"outlinewidth\":0,\"ticks\":\"\"},\"type\":\"contourcarpet\"}],\"contour\":[{\"colorbar\":{\"outlinewidth\":0,\"ticks\":\"\"},\"colorscale\":[[0.0,\"#0d0887\"],[0.1111111111111111,\"#46039f\"],[0.2222222222222222,\"#7201a8\"],[0.3333333333333333,\"#9c179e\"],[0.4444444444444444,\"#bd3786\"],[0.5555555555555556,\"#d8576b\"],[0.6666666666666666,\"#ed7953\"],[0.7777777777777778,\"#fb9f3a\"],[0.8888888888888888,\"#fdca26\"],[1.0,\"#f0f921\"]],\"type\":\"contour\"}],\"heatmapgl\":[{\"colorbar\":{\"outlinewidth\":0,\"ticks\":\"\"},\"colorscale\":[[0.0,\"#0d0887\"],[0.1111111111111111,\"#46039f\"],[0.2222222222222222,\"#7201a8\"],[0.3333333333333333,\"#9c179e\"],[0.4444444444444444,\"#bd3786\"],[0.5555555555555556,\"#d8576b\"],[0.6666666666666666,\"#ed7953\"],[0.7777777777777778,\"#fb9f3a\"],[0.8888888888888888,\"#fdca26\"],[1.0,\"#f0f921\"]],\"type\":\"heatmapgl\"}],\"heatmap\":[{\"colorbar\":{\"outlinewidth\":0,\"ticks\":\"\"},\"colorscale\":[[0.0,\"#0d0887\"],[0.1111111111111111,\"#46039f\"],[0.2222222222222222,\"#7201a8\"],[0.3333333333333333,\"#9c179e\"],[0.4444444444444444,\"#bd3786\"],[0.5555555555555556,\"#d8576b\"],[0.6666666666666666,\"#ed7953\"],[0.7777777777777778,\"#fb9f3a\"],[0.8888888888888888,\"#fdca26\"],[1.0,\"#f0f921\"]],\"type\":\"heatmap\"}],\"histogram2dcontour\":[{\"colorbar\":{\"outlinewidth\":0,\"ticks\":\"\"},\"colorscale\":[[0.0,\"#0d0887\"],[0.1111111111111111,\"#46039f\"],[0.2222222222222222,\"#7201a8\"],[0.3333333333333333,\"#9c179e\"],[0.4444444444444444,\"#bd3786\"],[0.5555555555555556,\"#d8576b\"],[0.6666666666666666,\"#ed7953\"],[0.7777777777777778,\"#fb9f3a\"],[0.8888888888888888,\"#fdca26\"],[1.0,\"#f0f921\"]],\"type\":\"histogram2dcontour\"}],\"histogram2d\":[{\"colorbar\":{\"outlinewidth\":0,\"ticks\":\"\"},\"colorscale\":[[0.0,\"#0d0887\"],[0.1111111111111111,\"#46039f\"],[0.2222222222222222,\"#7201a8\"],[0.3333333333333333,\"#9c179e\"],[0.4444444444444444,\"#bd3786\"],[0.5555555555555556,\"#d8576b\"],[0.6666666666666666,\"#ed7953\"],[0.7777777777777778,\"#fb9f3a\"],[0.8888888888888888,\"#fdca26\"],[1.0,\"#f0f921\"]],\"type\":\"histogram2d\"}],\"histogram\":[{\"marker\":{\"pattern\":{\"fillmode\":\"overlay\",\"size\":10,\"solidity\":0.2}},\"type\":\"histogram\"}],\"mesh3d\":[{\"colorbar\":{\"outlinewidth\":0,\"ticks\":\"\"},\"type\":\"mesh3d\"}],\"parcoords\":[{\"line\":{\"colorbar\":{\"outlinewidth\":0,\"ticks\":\"\"}},\"type\":\"parcoords\"}],\"pie\":[{\"automargin\":true,\"type\":\"pie\"}],\"scatter3d\":[{\"line\":{\"colorbar\":{\"outlinewidth\":0,\"ticks\":\"\"}},\"marker\":{\"colorbar\":{\"outlinewidth\":0,\"ticks\":\"\"}},\"type\":\"scatter3d\"}],\"scattercarpet\":[{\"marker\":{\"colorbar\":{\"outlinewidth\":0,\"ticks\":\"\"}},\"type\":\"scattercarpet\"}],\"scattergeo\":[{\"marker\":{\"colorbar\":{\"outlinewidth\":0,\"ticks\":\"\"}},\"type\":\"scattergeo\"}],\"scattergl\":[{\"marker\":{\"colorbar\":{\"outlinewidth\":0,\"ticks\":\"\"}},\"type\":\"scattergl\"}],\"scattermapbox\":[{\"marker\":{\"colorbar\":{\"outlinewidth\":0,\"ticks\":\"\"}},\"type\":\"scattermapbox\"}],\"scatterpolargl\":[{\"marker\":{\"colorbar\":{\"outlinewidth\":0,\"ticks\":\"\"}},\"type\":\"scatterpolargl\"}],\"scatterpolar\":[{\"marker\":{\"colorbar\":{\"outlinewidth\":0,\"ticks\":\"\"}},\"type\":\"scatterpolar\"}],\"scatter\":[{\"marker\":{\"colorbar\":{\"outlinewidth\":0,\"ticks\":\"\"}},\"type\":\"scatter\"}],\"scatterternary\":[{\"marker\":{\"colorbar\":{\"outlinewidth\":0,\"ticks\":\"\"}},\"type\":\"scatterternary\"}],\"surface\":[{\"colorbar\":{\"outlinewidth\":0,\"ticks\":\"\"},\"colorscale\":[[0.0,\"#0d0887\"],[0.1111111111111111,\"#46039f\"],[0.2222222222222222,\"#7201a8\"],[0.3333333333333333,\"#9c179e\"],[0.4444444444444444,\"#bd3786\"],[0.5555555555555556,\"#d8576b\"],[0.6666666666666666,\"#ed7953\"],[0.7777777777777778,\"#fb9f3a\"],[0.8888888888888888,\"#fdca26\"],[1.0,\"#f0f921\"]],\"type\":\"surface\"}],\"table\":[{\"cells\":{\"fill\":{\"color\":\"#EBF0F8\"},\"line\":{\"color\":\"white\"}},\"header\":{\"fill\":{\"color\":\"#C8D4E3\"},\"line\":{\"color\":\"white\"}},\"type\":\"table\"}]},\"layout\":{\"annotationdefaults\":{\"arrowcolor\":\"#2a3f5f\",\"arrowhead\":0,\"arrowwidth\":1},\"autotypenumbers\":\"strict\",\"coloraxis\":{\"colorbar\":{\"outlinewidth\":0,\"ticks\":\"\"}},\"colorscale\":{\"diverging\":[[0,\"#8e0152\"],[0.1,\"#c51b7d\"],[0.2,\"#de77ae\"],[0.3,\"#f1b6da\"],[0.4,\"#fde0ef\"],[0.5,\"#f7f7f7\"],[0.6,\"#e6f5d0\"],[0.7,\"#b8e186\"],[0.8,\"#7fbc41\"],[0.9,\"#4d9221\"],[1,\"#276419\"]],\"sequential\":[[0.0,\"#0d0887\"],[0.1111111111111111,\"#46039f\"],[0.2222222222222222,\"#7201a8\"],[0.3333333333333333,\"#9c179e\"],[0.4444444444444444,\"#bd3786\"],[0.5555555555555556,\"#d8576b\"],[0.6666666666666666,\"#ed7953\"],[0.7777777777777778,\"#fb9f3a\"],[0.8888888888888888,\"#fdca26\"],[1.0,\"#f0f921\"]],\"sequentialminus\":[[0.0,\"#0d0887\"],[0.1111111111111111,\"#46039f\"],[0.2222222222222222,\"#7201a8\"],[0.3333333333333333,\"#9c179e\"],[0.4444444444444444,\"#bd3786\"],[0.5555555555555556,\"#d8576b\"],[0.6666666666666666,\"#ed7953\"],[0.7777777777777778,\"#fb9f3a\"],[0.8888888888888888,\"#fdca26\"],[1.0,\"#f0f921\"]]},\"colorway\":[\"#636efa\",\"#EF553B\",\"#00cc96\",\"#ab63fa\",\"#FFA15A\",\"#19d3f3\",\"#FF6692\",\"#B6E880\",\"#FF97FF\",\"#FECB52\"],\"font\":{\"color\":\"#2a3f5f\"},\"geo\":{\"bgcolor\":\"white\",\"lakecolor\":\"white\",\"landcolor\":\"white\",\"showlakes\":true,\"showland\":true,\"subunitcolor\":\"#C8D4E3\"},\"hoverlabel\":{\"align\":\"left\"},\"hovermode\":\"closest\",\"mapbox\":{\"style\":\"light\"},\"paper_bgcolor\":\"white\",\"plot_bgcolor\":\"white\",\"polar\":{\"angularaxis\":{\"gridcolor\":\"#EBF0F8\",\"linecolor\":\"#EBF0F8\",\"ticks\":\"\"},\"bgcolor\":\"white\",\"radialaxis\":{\"gridcolor\":\"#EBF0F8\",\"linecolor\":\"#EBF0F8\",\"ticks\":\"\"}},\"scene\":{\"xaxis\":{\"backgroundcolor\":\"white\",\"gridcolor\":\"#DFE8F3\",\"gridwidth\":2,\"linecolor\":\"#EBF0F8\",\"showbackground\":true,\"ticks\":\"\",\"zerolinecolor\":\"#EBF0F8\"},\"yaxis\":{\"backgroundcolor\":\"white\",\"gridcolor\":\"#DFE8F3\",\"gridwidth\":2,\"linecolor\":\"#EBF0F8\",\"showbackground\":true,\"ticks\":\"\",\"zerolinecolor\":\"#EBF0F8\"},\"zaxis\":{\"backgroundcolor\":\"white\",\"gridcolor\":\"#DFE8F3\",\"gridwidth\":2,\"linecolor\":\"#EBF0F8\",\"showbackground\":true,\"ticks\":\"\",\"zerolinecolor\":\"#EBF0F8\"}},\"shapedefaults\":{\"line\":{\"color\":\"#2a3f5f\"}},\"ternary\":{\"aaxis\":{\"gridcolor\":\"#DFE8F3\",\"linecolor\":\"#A2B1C6\",\"ticks\":\"\"},\"baxis\":{\"gridcolor\":\"#DFE8F3\",\"linecolor\":\"#A2B1C6\",\"ticks\":\"\"},\"bgcolor\":\"white\",\"caxis\":{\"gridcolor\":\"#DFE8F3\",\"linecolor\":\"#A2B1C6\",\"ticks\":\"\"}},\"title\":{\"x\":0.05},\"xaxis\":{\"automargin\":true,\"gridcolor\":\"#EBF0F8\",\"linecolor\":\"#EBF0F8\",\"ticks\":\"\",\"title\":{\"standoff\":15},\"zerolinecolor\":\"#EBF0F8\",\"zerolinewidth\":2},\"yaxis\":{\"automargin\":true,\"gridcolor\":\"#EBF0F8\",\"linecolor\":\"#EBF0F8\",\"ticks\":\"\",\"title\":{\"standoff\":15},\"zerolinecolor\":\"#EBF0F8\",\"zerolinewidth\":2}}},\"xaxis\":{\"anchor\":\"y\",\"domain\":[0.0,1.0],\"title\":{\"text\":\"Cuisine\"},\"tickangle\":45},\"yaxis\":{\"anchor\":\"x\",\"domain\":[0.0,1.0],\"title\":{\"text\":\"Total Number of Restaurants\"}},\"legend\":{\"tracegroupgap\":0},\"title\":{\"text\":\"<b>Popular cuisines in Gurgaon</b>\"},\"barmode\":\"relative\",\"height\":350,\"width\":700},                        {\"responsive\": true}                    ).then(function(){\n",
              "                            \n",
              "var gd = document.getElementById('94e11c4c-1f64-4c64-86be-a2a8441c7a38');\n",
              "var x = new MutationObserver(function (mutations, observer) {{\n",
              "        var display = window.getComputedStyle(gd).display;\n",
              "        if (!display || display === 'none') {{\n",
              "            console.log([gd, 'removed!']);\n",
              "            Plotly.purge(gd);\n",
              "            observer.disconnect();\n",
              "        }}\n",
              "}});\n",
              "\n",
              "// Listen for the removal of the full notebook cells\n",
              "var notebookContainer = gd.closest('#notebook-container');\n",
              "if (notebookContainer) {{\n",
              "    x.observe(notebookContainer, {childList: true});\n",
              "}}\n",
              "\n",
              "// Listen for the clearing of the current output cell\n",
              "var outputEl = gd.closest('.output');\n",
              "if (outputEl) {{\n",
              "    x.observe(outputEl, {childList: true});\n",
              "}}\n",
              "\n",
              "                        })                };                            </script>        </div>\n",
              "</body>\n",
              "</html>"
            ]
          },
          "metadata": {}
        }
      ]
    },
    {
      "cell_type": "code",
      "source": [
        "cuisine_time = df1.groupby(['cuisine','minOrder'])['deliveryTime'].agg(['median','mean','min','max','count']).round()\n",
        "cuisine_time.reset_index(level=['cuisine','minOrder'], inplace=True)\n",
        "cuisine_time = cuisine_time[cuisine_time['count'] > 30]\n",
        "cuisine_time['minOrder']=cuisine_time.minOrder.astype('int')\n",
        "cuisine_time.columns = ['Cuisines','Minimum Order Value','Delivery Time Median','Average Delivery Time Taken','Minimum Delivery Time Taken','Maximum Delivery Time Taken','count']\n",
        "cuisine_time.head()"
      ],
      "metadata": {
        "colab": {
          "base_uri": "https://localhost:8080/",
          "height": 206
        },
        "id": "uzHrBHr0hG88",
        "outputId": "ed6864dd-d951-496a-d3df-9380f6c4a2a8"
      },
      "execution_count": 209,
      "outputs": [
        {
          "output_type": "execute_result",
          "data": {
            "text/html": [
              "\n",
              "  <div id=\"df-9cb8af52-ea29-4dad-ba5a-5714dece571d\">\n",
              "    <div class=\"colab-df-container\">\n",
              "      <div>\n",
              "<style scoped>\n",
              "    .dataframe tbody tr th:only-of-type {\n",
              "        vertical-align: middle;\n",
              "    }\n",
              "\n",
              "    .dataframe tbody tr th {\n",
              "        vertical-align: top;\n",
              "    }\n",
              "\n",
              "    .dataframe thead th {\n",
              "        text-align: right;\n",
              "    }\n",
              "</style>\n",
              "<table border=\"1\" class=\"dataframe\">\n",
              "  <thead>\n",
              "    <tr style=\"text-align: right;\">\n",
              "      <th></th>\n",
              "      <th>Cuisines</th>\n",
              "      <th>Minimum Order Value</th>\n",
              "      <th>Delivery Time Median</th>\n",
              "      <th>Average Delivery Time Taken</th>\n",
              "      <th>Minimum Delivery Time Taken</th>\n",
              "      <th>Maximum Delivery Time Taken</th>\n",
              "      <th>count</th>\n",
              "    </tr>\n",
              "  </thead>\n",
              "  <tbody>\n",
              "    <tr>\n",
              "      <th>4</th>\n",
              "      <td>American</td>\n",
              "      <td>50</td>\n",
              "      <td>30.0</td>\n",
              "      <td>39.0</td>\n",
              "      <td>30</td>\n",
              "      <td>65</td>\n",
              "      <td>114</td>\n",
              "    </tr>\n",
              "    <tr>\n",
              "      <th>6</th>\n",
              "      <td>Andhra</td>\n",
              "      <td>50</td>\n",
              "      <td>45.0</td>\n",
              "      <td>43.0</td>\n",
              "      <td>30</td>\n",
              "      <td>65</td>\n",
              "      <td>38</td>\n",
              "    </tr>\n",
              "    <tr>\n",
              "      <th>8</th>\n",
              "      <td>Arabian</td>\n",
              "      <td>50</td>\n",
              "      <td>30.0</td>\n",
              "      <td>36.0</td>\n",
              "      <td>30</td>\n",
              "      <td>65</td>\n",
              "      <td>44</td>\n",
              "    </tr>\n",
              "    <tr>\n",
              "      <th>11</th>\n",
              "      <td>Asian</td>\n",
              "      <td>50</td>\n",
              "      <td>45.0</td>\n",
              "      <td>40.0</td>\n",
              "      <td>30</td>\n",
              "      <td>65</td>\n",
              "      <td>177</td>\n",
              "    </tr>\n",
              "    <tr>\n",
              "      <th>20</th>\n",
              "      <td>BBQ</td>\n",
              "      <td>50</td>\n",
              "      <td>30.0</td>\n",
              "      <td>38.0</td>\n",
              "      <td>30</td>\n",
              "      <td>65</td>\n",
              "      <td>34</td>\n",
              "    </tr>\n",
              "  </tbody>\n",
              "</table>\n",
              "</div>\n",
              "      <button class=\"colab-df-convert\" onclick=\"convertToInteractive('df-9cb8af52-ea29-4dad-ba5a-5714dece571d')\"\n",
              "              title=\"Convert this dataframe to an interactive table.\"\n",
              "              style=\"display:none;\">\n",
              "        \n",
              "  <svg xmlns=\"http://www.w3.org/2000/svg\" height=\"24px\"viewBox=\"0 0 24 24\"\n",
              "       width=\"24px\">\n",
              "    <path d=\"M0 0h24v24H0V0z\" fill=\"none\"/>\n",
              "    <path d=\"M18.56 5.44l.94 2.06.94-2.06 2.06-.94-2.06-.94-.94-2.06-.94 2.06-2.06.94zm-11 1L8.5 8.5l.94-2.06 2.06-.94-2.06-.94L8.5 2.5l-.94 2.06-2.06.94zm10 10l.94 2.06.94-2.06 2.06-.94-2.06-.94-.94-2.06-.94 2.06-2.06.94z\"/><path d=\"M17.41 7.96l-1.37-1.37c-.4-.4-.92-.59-1.43-.59-.52 0-1.04.2-1.43.59L10.3 9.45l-7.72 7.72c-.78.78-.78 2.05 0 2.83L4 21.41c.39.39.9.59 1.41.59.51 0 1.02-.2 1.41-.59l7.78-7.78 2.81-2.81c.8-.78.8-2.07 0-2.86zM5.41 20L4 18.59l7.72-7.72 1.47 1.35L5.41 20z\"/>\n",
              "  </svg>\n",
              "      </button>\n",
              "      \n",
              "  <style>\n",
              "    .colab-df-container {\n",
              "      display:flex;\n",
              "      flex-wrap:wrap;\n",
              "      gap: 12px;\n",
              "    }\n",
              "\n",
              "    .colab-df-convert {\n",
              "      background-color: #E8F0FE;\n",
              "      border: none;\n",
              "      border-radius: 50%;\n",
              "      cursor: pointer;\n",
              "      display: none;\n",
              "      fill: #1967D2;\n",
              "      height: 32px;\n",
              "      padding: 0 0 0 0;\n",
              "      width: 32px;\n",
              "    }\n",
              "\n",
              "    .colab-df-convert:hover {\n",
              "      background-color: #E2EBFA;\n",
              "      box-shadow: 0px 1px 2px rgba(60, 64, 67, 0.3), 0px 1px 3px 1px rgba(60, 64, 67, 0.15);\n",
              "      fill: #174EA6;\n",
              "    }\n",
              "\n",
              "    [theme=dark] .colab-df-convert {\n",
              "      background-color: #3B4455;\n",
              "      fill: #D2E3FC;\n",
              "    }\n",
              "\n",
              "    [theme=dark] .colab-df-convert:hover {\n",
              "      background-color: #434B5C;\n",
              "      box-shadow: 0px 1px 3px 1px rgba(0, 0, 0, 0.15);\n",
              "      filter: drop-shadow(0px 1px 2px rgba(0, 0, 0, 0.3));\n",
              "      fill: #FFFFFF;\n",
              "    }\n",
              "  </style>\n",
              "\n",
              "      <script>\n",
              "        const buttonEl =\n",
              "          document.querySelector('#df-9cb8af52-ea29-4dad-ba5a-5714dece571d button.colab-df-convert');\n",
              "        buttonEl.style.display =\n",
              "          google.colab.kernel.accessAllowed ? 'block' : 'none';\n",
              "\n",
              "        async function convertToInteractive(key) {\n",
              "          const element = document.querySelector('#df-9cb8af52-ea29-4dad-ba5a-5714dece571d');\n",
              "          const dataTable =\n",
              "            await google.colab.kernel.invokeFunction('convertToInteractive',\n",
              "                                                     [key], {});\n",
              "          if (!dataTable) return;\n",
              "\n",
              "          const docLinkHtml = 'Like what you see? Visit the ' +\n",
              "            '<a target=\"_blank\" href=https://colab.research.google.com/notebooks/data_table.ipynb>data table notebook</a>'\n",
              "            + ' to learn more about interactive tables.';\n",
              "          element.innerHTML = '';\n",
              "          dataTable['output_type'] = 'display_data';\n",
              "          await google.colab.output.renderOutput(dataTable, element);\n",
              "          const docLink = document.createElement('div');\n",
              "          docLink.innerHTML = docLinkHtml;\n",
              "          element.appendChild(docLink);\n",
              "        }\n",
              "      </script>\n",
              "    </div>\n",
              "  </div>\n",
              "  "
            ],
            "text/plain": [
              "    Cuisines  Minimum Order Value  ...  Maximum Delivery Time Taken  count\n",
              "4   American                   50  ...                           65    114\n",
              "6     Andhra                   50  ...                           65     38\n",
              "8    Arabian                   50  ...                           65     44\n",
              "11     Asian                   50  ...                           65    177\n",
              "20       BBQ                   50  ...                           65     34\n",
              "\n",
              "[5 rows x 7 columns]"
            ]
          },
          "metadata": {},
          "execution_count": 209
        }
      ]
    },
    {
      "cell_type": "markdown",
      "source": [
        "Average delivery time taken by different cuisines"
      ],
      "metadata": {
        "id": "qQsWw54Kai4X"
      }
    },
    {
      "cell_type": "code",
      "source": [
        "y='Average Delivery Time Taken'\n",
        "fig = px.strip(cuisine_time, x='Cuisines', y=y,color='Minimum Order Value', template=template, width=1000, height=400, labels={y:y+' (in minutes)'})\n",
        "fig.update_xaxes(tickangle=45)\n",
        "fig.show()"
      ],
      "metadata": {
        "colab": {
          "base_uri": "https://localhost:8080/",
          "height": 417
        },
        "id": "3i0SedL5_VKX",
        "outputId": "94da1457-feb1-4dd5-9d98-2eddb95dc66f"
      },
      "execution_count": 210,
      "outputs": [
        {
          "output_type": "display_data",
          "data": {
            "text/html": [
              "<html>\n",
              "<head><meta charset=\"utf-8\" /></head>\n",
              "<body>\n",
              "    <div>            <script src=\"https://cdnjs.cloudflare.com/ajax/libs/mathjax/2.7.5/MathJax.js?config=TeX-AMS-MML_SVG\"></script><script type=\"text/javascript\">if (window.MathJax) {MathJax.Hub.Config({SVG: {font: \"STIX-Web\"}});}</script>                <script type=\"text/javascript\">window.PlotlyConfig = {MathJaxConfig: 'local'};</script>\n",
              "        <script src=\"https://cdn.plot.ly/plotly-2.8.3.min.js\"></script>                <div id=\"f899e031-870b-4a1a-90bf-c26f5be19a93\" class=\"plotly-graph-div\" style=\"height:400px; width:1000px;\"></div>            <script type=\"text/javascript\">                                    window.PLOTLYENV=window.PLOTLYENV || {};                                    if (document.getElementById(\"f899e031-870b-4a1a-90bf-c26f5be19a93\")) {                    Plotly.newPlot(                        \"f899e031-870b-4a1a-90bf-c26f5be19a93\",                        [{\"alignmentgroup\":\"True\",\"boxpoints\":\"all\",\"fillcolor\":\"rgba(255,255,255,0)\",\"hoveron\":\"points\",\"hovertemplate\":\"Minimum Order Value=50<br>Cuisines=%{x}<br>Average Delivery Time Taken (in minutes)=%{y}<extra></extra>\",\"legendgroup\":\"50\",\"line\":{\"color\":\"rgba(255,255,255,0)\"},\"marker\":{\"color\":\"#636efa\"},\"name\":\"50\",\"offsetgroup\":\"50\",\"orientation\":\"v\",\"pointpos\":0,\"showlegend\":true,\"x\":[\"American\",\"Andhra\",\"Arabian\",\"Asian\",\"BBQ\",\"Bakery\",\"Bengali\",\"Beverages\",\"Biryani\",\"Burger\",\"Cafe\",\"Chinese\",\"Coffee\",\"Continental\",\"Desserts\",\"European\",\"Fast Food\",\"Finger Food\",\"Healthy Food\",\"Hyderabadi\",\"Ice Cream\",\"Italian\",\"Japanese\",\"Juices\",\"Kebab\",\"Kerala\",\"Lebanese\",\"Maharashtrian\",\"Mexican\",\"Mishti\",\"Mithai\",\"Momos\",\"Mughlai\",\"North Indian\",\"Pizza\",\"Rolls\",\"Salad\",\"Sandwich\",\"Seafood\",\"South Indian\",\"Street Food\",\"Sushi\",\"Tea\",\"Thai\",\"Tibetan\",\"Wraps\"],\"x0\":\" \",\"xaxis\":\"x\",\"y\":[39.0,43.0,36.0,40.0,38.0,41.0,35.0,35.0,36.0,36.0,38.0,36.0,32.0,38.0,38.0,39.0,36.0,41.0,37.0,35.0,35.0,40.0,44.0,35.0,38.0,36.0,34.0,35.0,43.0,42.0,35.0,38.0,38.0,36.0,37.0,37.0,41.0,37.0,38.0,35.0,36.0,42.0,33.0,43.0,35.0,41.0],\"y0\":\" \",\"yaxis\":\"y\",\"type\":\"box\"},{\"alignmentgroup\":\"True\",\"boxpoints\":\"all\",\"fillcolor\":\"rgba(255,255,255,0)\",\"hoveron\":\"points\",\"hovertemplate\":\"Minimum Order Value=99<br>Cuisines=%{x}<br>Average Delivery Time Taken (in minutes)=%{y}<extra></extra>\",\"legendgroup\":\"99\",\"line\":{\"color\":\"rgba(255,255,255,0)\"},\"marker\":{\"color\":\"#EF553B\"},\"name\":\"99\",\"offsetgroup\":\"99\",\"orientation\":\"v\",\"pointpos\":0,\"showlegend\":true,\"x\":[\"Bakery\",\"Beverages\",\"Biryani\",\"Burger\",\"Chinese\",\"Continental\",\"Desserts\",\"Fast Food\",\"Italian\",\"Mughlai\",\"North Indian\",\"Pizza\",\"Seafood\",\"South Indian\",\"Street Food\",\"Thai\"],\"x0\":\" \",\"xaxis\":\"x\",\"y\":[74.0,49.0,53.0,52.0,48.0,54.0,63.0,48.0,50.0,50.0,47.0,50.0,51.0,50.0,43.0,50.0],\"y0\":\" \",\"yaxis\":\"y\",\"type\":\"box\"},{\"alignmentgroup\":\"True\",\"boxpoints\":\"all\",\"fillcolor\":\"rgba(255,255,255,0)\",\"hoveron\":\"points\",\"hovertemplate\":\"Minimum Order Value=0<br>Cuisines=%{x}<br>Average Delivery Time Taken (in minutes)=%{y}<extra></extra>\",\"legendgroup\":\"0\",\"line\":{\"color\":\"rgba(255,255,255,0)\"},\"marker\":{\"color\":\"#00cc96\"},\"name\":\"0\",\"offsetgroup\":\"0\",\"orientation\":\"v\",\"pointpos\":0,\"showlegend\":true,\"x\":[\"Chinese\",\"Fast Food\",\"North Indian\"],\"x0\":\" \",\"xaxis\":\"x\",\"y\":[40.0,34.0,38.0],\"y0\":\" \",\"yaxis\":\"y\",\"type\":\"box\"}],                        {\"template\":{\"data\":{\"bar\":[{\"error_x\":{\"color\":\"#2a3f5f\"},\"error_y\":{\"color\":\"#2a3f5f\"},\"marker\":{\"line\":{\"color\":\"#E5ECF6\",\"width\":0.5},\"pattern\":{\"fillmode\":\"overlay\",\"size\":10,\"solidity\":0.2}},\"type\":\"bar\"}],\"barpolar\":[{\"marker\":{\"line\":{\"color\":\"#E5ECF6\",\"width\":0.5},\"pattern\":{\"fillmode\":\"overlay\",\"size\":10,\"solidity\":0.2}},\"type\":\"barpolar\"}],\"carpet\":[{\"aaxis\":{\"endlinecolor\":\"#2a3f5f\",\"gridcolor\":\"white\",\"linecolor\":\"white\",\"minorgridcolor\":\"white\",\"startlinecolor\":\"#2a3f5f\"},\"baxis\":{\"endlinecolor\":\"#2a3f5f\",\"gridcolor\":\"white\",\"linecolor\":\"white\",\"minorgridcolor\":\"white\",\"startlinecolor\":\"#2a3f5f\"},\"type\":\"carpet\"}],\"choropleth\":[{\"colorbar\":{\"outlinewidth\":0,\"ticks\":\"\"},\"type\":\"choropleth\"}],\"contour\":[{\"colorbar\":{\"outlinewidth\":0,\"ticks\":\"\"},\"colorscale\":[[0.0,\"#0d0887\"],[0.1111111111111111,\"#46039f\"],[0.2222222222222222,\"#7201a8\"],[0.3333333333333333,\"#9c179e\"],[0.4444444444444444,\"#bd3786\"],[0.5555555555555556,\"#d8576b\"],[0.6666666666666666,\"#ed7953\"],[0.7777777777777778,\"#fb9f3a\"],[0.8888888888888888,\"#fdca26\"],[1.0,\"#f0f921\"]],\"type\":\"contour\"}],\"contourcarpet\":[{\"colorbar\":{\"outlinewidth\":0,\"ticks\":\"\"},\"type\":\"contourcarpet\"}],\"heatmap\":[{\"colorbar\":{\"outlinewidth\":0,\"ticks\":\"\"},\"colorscale\":[[0.0,\"#0d0887\"],[0.1111111111111111,\"#46039f\"],[0.2222222222222222,\"#7201a8\"],[0.3333333333333333,\"#9c179e\"],[0.4444444444444444,\"#bd3786\"],[0.5555555555555556,\"#d8576b\"],[0.6666666666666666,\"#ed7953\"],[0.7777777777777778,\"#fb9f3a\"],[0.8888888888888888,\"#fdca26\"],[1.0,\"#f0f921\"]],\"type\":\"heatmap\"}],\"heatmapgl\":[{\"colorbar\":{\"outlinewidth\":0,\"ticks\":\"\"},\"colorscale\":[[0.0,\"#0d0887\"],[0.1111111111111111,\"#46039f\"],[0.2222222222222222,\"#7201a8\"],[0.3333333333333333,\"#9c179e\"],[0.4444444444444444,\"#bd3786\"],[0.5555555555555556,\"#d8576b\"],[0.6666666666666666,\"#ed7953\"],[0.7777777777777778,\"#fb9f3a\"],[0.8888888888888888,\"#fdca26\"],[1.0,\"#f0f921\"]],\"type\":\"heatmapgl\"}],\"histogram\":[{\"marker\":{\"pattern\":{\"fillmode\":\"overlay\",\"size\":10,\"solidity\":0.2}},\"type\":\"histogram\"}],\"histogram2d\":[{\"colorbar\":{\"outlinewidth\":0,\"ticks\":\"\"},\"colorscale\":[[0.0,\"#0d0887\"],[0.1111111111111111,\"#46039f\"],[0.2222222222222222,\"#7201a8\"],[0.3333333333333333,\"#9c179e\"],[0.4444444444444444,\"#bd3786\"],[0.5555555555555556,\"#d8576b\"],[0.6666666666666666,\"#ed7953\"],[0.7777777777777778,\"#fb9f3a\"],[0.8888888888888888,\"#fdca26\"],[1.0,\"#f0f921\"]],\"type\":\"histogram2d\"}],\"histogram2dcontour\":[{\"colorbar\":{\"outlinewidth\":0,\"ticks\":\"\"},\"colorscale\":[[0.0,\"#0d0887\"],[0.1111111111111111,\"#46039f\"],[0.2222222222222222,\"#7201a8\"],[0.3333333333333333,\"#9c179e\"],[0.4444444444444444,\"#bd3786\"],[0.5555555555555556,\"#d8576b\"],[0.6666666666666666,\"#ed7953\"],[0.7777777777777778,\"#fb9f3a\"],[0.8888888888888888,\"#fdca26\"],[1.0,\"#f0f921\"]],\"type\":\"histogram2dcontour\"}],\"mesh3d\":[{\"colorbar\":{\"outlinewidth\":0,\"ticks\":\"\"},\"type\":\"mesh3d\"}],\"parcoords\":[{\"line\":{\"colorbar\":{\"outlinewidth\":0,\"ticks\":\"\"}},\"type\":\"parcoords\"}],\"pie\":[{\"automargin\":true,\"type\":\"pie\"}],\"scatter\":[{\"marker\":{\"colorbar\":{\"outlinewidth\":0,\"ticks\":\"\"}},\"type\":\"scatter\"}],\"scatter3d\":[{\"line\":{\"colorbar\":{\"outlinewidth\":0,\"ticks\":\"\"}},\"marker\":{\"colorbar\":{\"outlinewidth\":0,\"ticks\":\"\"}},\"type\":\"scatter3d\"}],\"scattercarpet\":[{\"marker\":{\"colorbar\":{\"outlinewidth\":0,\"ticks\":\"\"}},\"type\":\"scattercarpet\"}],\"scattergeo\":[{\"marker\":{\"colorbar\":{\"outlinewidth\":0,\"ticks\":\"\"}},\"type\":\"scattergeo\"}],\"scattergl\":[{\"marker\":{\"colorbar\":{\"outlinewidth\":0,\"ticks\":\"\"}},\"type\":\"scattergl\"}],\"scattermapbox\":[{\"marker\":{\"colorbar\":{\"outlinewidth\":0,\"ticks\":\"\"}},\"type\":\"scattermapbox\"}],\"scatterpolar\":[{\"marker\":{\"colorbar\":{\"outlinewidth\":0,\"ticks\":\"\"}},\"type\":\"scatterpolar\"}],\"scatterpolargl\":[{\"marker\":{\"colorbar\":{\"outlinewidth\":0,\"ticks\":\"\"}},\"type\":\"scatterpolargl\"}],\"scatterternary\":[{\"marker\":{\"colorbar\":{\"outlinewidth\":0,\"ticks\":\"\"}},\"type\":\"scatterternary\"}],\"surface\":[{\"colorbar\":{\"outlinewidth\":0,\"ticks\":\"\"},\"colorscale\":[[0.0,\"#0d0887\"],[0.1111111111111111,\"#46039f\"],[0.2222222222222222,\"#7201a8\"],[0.3333333333333333,\"#9c179e\"],[0.4444444444444444,\"#bd3786\"],[0.5555555555555556,\"#d8576b\"],[0.6666666666666666,\"#ed7953\"],[0.7777777777777778,\"#fb9f3a\"],[0.8888888888888888,\"#fdca26\"],[1.0,\"#f0f921\"]],\"type\":\"surface\"}],\"table\":[{\"cells\":{\"fill\":{\"color\":\"#EBF0F8\"},\"line\":{\"color\":\"white\"}},\"header\":{\"fill\":{\"color\":\"#C8D4E3\"},\"line\":{\"color\":\"white\"}},\"type\":\"table\"}]},\"layout\":{\"annotationdefaults\":{\"arrowcolor\":\"#2a3f5f\",\"arrowhead\":0,\"arrowwidth\":1},\"autotypenumbers\":\"strict\",\"coloraxis\":{\"colorbar\":{\"outlinewidth\":0,\"ticks\":\"\"}},\"colorscale\":{\"diverging\":[[0,\"#8e0152\"],[0.1,\"#c51b7d\"],[0.2,\"#de77ae\"],[0.3,\"#f1b6da\"],[0.4,\"#fde0ef\"],[0.5,\"#f7f7f7\"],[0.6,\"#e6f5d0\"],[0.7,\"#b8e186\"],[0.8,\"#7fbc41\"],[0.9,\"#4d9221\"],[1,\"#276419\"]],\"sequential\":[[0.0,\"#0d0887\"],[0.1111111111111111,\"#46039f\"],[0.2222222222222222,\"#7201a8\"],[0.3333333333333333,\"#9c179e\"],[0.4444444444444444,\"#bd3786\"],[0.5555555555555556,\"#d8576b\"],[0.6666666666666666,\"#ed7953\"],[0.7777777777777778,\"#fb9f3a\"],[0.8888888888888888,\"#fdca26\"],[1.0,\"#f0f921\"]],\"sequentialminus\":[[0.0,\"#0d0887\"],[0.1111111111111111,\"#46039f\"],[0.2222222222222222,\"#7201a8\"],[0.3333333333333333,\"#9c179e\"],[0.4444444444444444,\"#bd3786\"],[0.5555555555555556,\"#d8576b\"],[0.6666666666666666,\"#ed7953\"],[0.7777777777777778,\"#fb9f3a\"],[0.8888888888888888,\"#fdca26\"],[1.0,\"#f0f921\"]]},\"colorway\":[\"#636efa\",\"#EF553B\",\"#00cc96\",\"#ab63fa\",\"#FFA15A\",\"#19d3f3\",\"#FF6692\",\"#B6E880\",\"#FF97FF\",\"#FECB52\"],\"font\":{\"color\":\"#2a3f5f\"},\"geo\":{\"bgcolor\":\"white\",\"lakecolor\":\"white\",\"landcolor\":\"#E5ECF6\",\"showlakes\":true,\"showland\":true,\"subunitcolor\":\"white\"},\"hoverlabel\":{\"align\":\"left\"},\"hovermode\":\"closest\",\"mapbox\":{\"style\":\"light\"},\"paper_bgcolor\":\"white\",\"plot_bgcolor\":\"#E5ECF6\",\"polar\":{\"angularaxis\":{\"gridcolor\":\"white\",\"linecolor\":\"white\",\"ticks\":\"\"},\"bgcolor\":\"#E5ECF6\",\"radialaxis\":{\"gridcolor\":\"white\",\"linecolor\":\"white\",\"ticks\":\"\"}},\"scene\":{\"xaxis\":{\"backgroundcolor\":\"#E5ECF6\",\"gridcolor\":\"white\",\"gridwidth\":2,\"linecolor\":\"white\",\"showbackground\":true,\"ticks\":\"\",\"zerolinecolor\":\"white\"},\"yaxis\":{\"backgroundcolor\":\"#E5ECF6\",\"gridcolor\":\"white\",\"gridwidth\":2,\"linecolor\":\"white\",\"showbackground\":true,\"ticks\":\"\",\"zerolinecolor\":\"white\"},\"zaxis\":{\"backgroundcolor\":\"#E5ECF6\",\"gridcolor\":\"white\",\"gridwidth\":2,\"linecolor\":\"white\",\"showbackground\":true,\"ticks\":\"\",\"zerolinecolor\":\"white\"}},\"shapedefaults\":{\"line\":{\"color\":\"#2a3f5f\"}},\"ternary\":{\"aaxis\":{\"gridcolor\":\"white\",\"linecolor\":\"white\",\"ticks\":\"\"},\"baxis\":{\"gridcolor\":\"white\",\"linecolor\":\"white\",\"ticks\":\"\"},\"bgcolor\":\"#E5ECF6\",\"caxis\":{\"gridcolor\":\"white\",\"linecolor\":\"white\",\"ticks\":\"\"}},\"title\":{\"x\":0.05},\"xaxis\":{\"automargin\":true,\"gridcolor\":\"white\",\"linecolor\":\"white\",\"ticks\":\"\",\"title\":{\"standoff\":15},\"zerolinecolor\":\"white\",\"zerolinewidth\":2},\"yaxis\":{\"automargin\":true,\"gridcolor\":\"white\",\"linecolor\":\"white\",\"ticks\":\"\",\"title\":{\"standoff\":15},\"zerolinecolor\":\"white\",\"zerolinewidth\":2}}},\"xaxis\":{\"anchor\":\"y\",\"domain\":[0.0,1.0],\"title\":{\"text\":\"Cuisines\"},\"tickangle\":45},\"yaxis\":{\"anchor\":\"x\",\"domain\":[0.0,1.0],\"title\":{\"text\":\"Average Delivery Time Taken (in minutes)\"}},\"legend\":{\"title\":{\"text\":\"Minimum Order Value\"},\"tracegroupgap\":0},\"margin\":{\"t\":60},\"boxmode\":\"group\",\"height\":400,\"width\":1000},                        {\"responsive\": true}                    ).then(function(){\n",
              "                            \n",
              "var gd = document.getElementById('f899e031-870b-4a1a-90bf-c26f5be19a93');\n",
              "var x = new MutationObserver(function (mutations, observer) {{\n",
              "        var display = window.getComputedStyle(gd).display;\n",
              "        if (!display || display === 'none') {{\n",
              "            console.log([gd, 'removed!']);\n",
              "            Plotly.purge(gd);\n",
              "            observer.disconnect();\n",
              "        }}\n",
              "}});\n",
              "\n",
              "// Listen for the removal of the full notebook cells\n",
              "var notebookContainer = gd.closest('#notebook-container');\n",
              "if (notebookContainer) {{\n",
              "    x.observe(notebookContainer, {childList: true});\n",
              "}}\n",
              "\n",
              "// Listen for the clearing of the current output cell\n",
              "var outputEl = gd.closest('.output');\n",
              "if (outputEl) {{\n",
              "    x.observe(outputEl, {childList: true});\n",
              "}}\n",
              "\n",
              "                        })                };                            </script>        </div>\n",
              "</body>\n",
              "</html>"
            ]
          },
          "metadata": {}
        }
      ]
    },
    {
      "cell_type": "markdown",
      "source": [
        "The figure shows the average delivery time for popular cuisines for different restaurants. We can observe that most of the cuisines with a minimum order value of 50 rupees has delivery time within 30-40 minutes."
      ],
      "metadata": {
        "id": "HaKaBp2qPLXL"
      }
    },
    {
      "cell_type": "code",
      "source": [
        "location_votes = df1.groupby(['city','Location'])['Votes','Reviews'].sum()\n",
        "location_votes.reset_index(level=['city', 'Location'], inplace=True)\n",
        "location_votes.head()"
      ],
      "metadata": {
        "colab": {
          "base_uri": "https://localhost:8080/",
          "height": 276
        },
        "id": "tW7b8bwWLZUw",
        "outputId": "a4573f9e-8f09-4a77-fe10-0df987c12043"
      },
      "execution_count": 117,
      "outputs": [
        {
          "output_type": "stream",
          "name": "stderr",
          "text": [
            "/usr/local/lib/python3.7/dist-packages/ipykernel_launcher.py:1: FutureWarning:\n",
            "\n",
            "Indexing with multiple keys (implicitly converted to a tuple of keys) will be deprecated, use a list instead.\n",
            "\n"
          ]
        },
        {
          "output_type": "execute_result",
          "data": {
            "text/html": [
              "\n",
              "  <div id=\"df-28ef9c7a-a6c4-4864-b7b7-ff9fae05f1e4\">\n",
              "    <div class=\"colab-df-container\">\n",
              "      <div>\n",
              "<style scoped>\n",
              "    .dataframe tbody tr th:only-of-type {\n",
              "        vertical-align: middle;\n",
              "    }\n",
              "\n",
              "    .dataframe tbody tr th {\n",
              "        vertical-align: top;\n",
              "    }\n",
              "\n",
              "    .dataframe thead th {\n",
              "        text-align: right;\n",
              "    }\n",
              "</style>\n",
              "<table border=\"1\" class=\"dataframe\">\n",
              "  <thead>\n",
              "    <tr style=\"text-align: right;\">\n",
              "      <th></th>\n",
              "      <th>city</th>\n",
              "      <th>Location</th>\n",
              "      <th>Votes</th>\n",
              "      <th>Reviews</th>\n",
              "    </tr>\n",
              "  </thead>\n",
              "  <tbody>\n",
              "    <tr>\n",
              "      <th>0</th>\n",
              "      <td>Banglore</td>\n",
              "      <td>BTM Layout 1, Electronic City</td>\n",
              "      <td>52948</td>\n",
              "      <td>19087</td>\n",
              "    </tr>\n",
              "    <tr>\n",
              "      <th>1</th>\n",
              "      <td>Banglore</td>\n",
              "      <td>Mico Layout, Stage 2, BTM Layout,Bangalore</td>\n",
              "      <td>673232</td>\n",
              "      <td>326695</td>\n",
              "    </tr>\n",
              "    <tr>\n",
              "      <th>2</th>\n",
              "      <td>Delhi</td>\n",
              "      <td>Babarpur, New Delhi, Delhi</td>\n",
              "      <td>29181</td>\n",
              "      <td>10104</td>\n",
              "    </tr>\n",
              "    <tr>\n",
              "      <th>3</th>\n",
              "      <td>Delhi</td>\n",
              "      <td>Delhi Administration Flats, Timarpur</td>\n",
              "      <td>244669</td>\n",
              "      <td>124823</td>\n",
              "    </tr>\n",
              "    <tr>\n",
              "      <th>4</th>\n",
              "      <td>Delhi</td>\n",
              "      <td>Delhi Cantt.</td>\n",
              "      <td>136227</td>\n",
              "      <td>72522</td>\n",
              "    </tr>\n",
              "  </tbody>\n",
              "</table>\n",
              "</div>\n",
              "      <button class=\"colab-df-convert\" onclick=\"convertToInteractive('df-28ef9c7a-a6c4-4864-b7b7-ff9fae05f1e4')\"\n",
              "              title=\"Convert this dataframe to an interactive table.\"\n",
              "              style=\"display:none;\">\n",
              "        \n",
              "  <svg xmlns=\"http://www.w3.org/2000/svg\" height=\"24px\"viewBox=\"0 0 24 24\"\n",
              "       width=\"24px\">\n",
              "    <path d=\"M0 0h24v24H0V0z\" fill=\"none\"/>\n",
              "    <path d=\"M18.56 5.44l.94 2.06.94-2.06 2.06-.94-2.06-.94-.94-2.06-.94 2.06-2.06.94zm-11 1L8.5 8.5l.94-2.06 2.06-.94-2.06-.94L8.5 2.5l-.94 2.06-2.06.94zm10 10l.94 2.06.94-2.06 2.06-.94-2.06-.94-.94-2.06-.94 2.06-2.06.94z\"/><path d=\"M17.41 7.96l-1.37-1.37c-.4-.4-.92-.59-1.43-.59-.52 0-1.04.2-1.43.59L10.3 9.45l-7.72 7.72c-.78.78-.78 2.05 0 2.83L4 21.41c.39.39.9.59 1.41.59.51 0 1.02-.2 1.41-.59l7.78-7.78 2.81-2.81c.8-.78.8-2.07 0-2.86zM5.41 20L4 18.59l7.72-7.72 1.47 1.35L5.41 20z\"/>\n",
              "  </svg>\n",
              "      </button>\n",
              "      \n",
              "  <style>\n",
              "    .colab-df-container {\n",
              "      display:flex;\n",
              "      flex-wrap:wrap;\n",
              "      gap: 12px;\n",
              "    }\n",
              "\n",
              "    .colab-df-convert {\n",
              "      background-color: #E8F0FE;\n",
              "      border: none;\n",
              "      border-radius: 50%;\n",
              "      cursor: pointer;\n",
              "      display: none;\n",
              "      fill: #1967D2;\n",
              "      height: 32px;\n",
              "      padding: 0 0 0 0;\n",
              "      width: 32px;\n",
              "    }\n",
              "\n",
              "    .colab-df-convert:hover {\n",
              "      background-color: #E2EBFA;\n",
              "      box-shadow: 0px 1px 2px rgba(60, 64, 67, 0.3), 0px 1px 3px 1px rgba(60, 64, 67, 0.15);\n",
              "      fill: #174EA6;\n",
              "    }\n",
              "\n",
              "    [theme=dark] .colab-df-convert {\n",
              "      background-color: #3B4455;\n",
              "      fill: #D2E3FC;\n",
              "    }\n",
              "\n",
              "    [theme=dark] .colab-df-convert:hover {\n",
              "      background-color: #434B5C;\n",
              "      box-shadow: 0px 1px 3px 1px rgba(0, 0, 0, 0.15);\n",
              "      filter: drop-shadow(0px 1px 2px rgba(0, 0, 0, 0.3));\n",
              "      fill: #FFFFFF;\n",
              "    }\n",
              "  </style>\n",
              "\n",
              "      <script>\n",
              "        const buttonEl =\n",
              "          document.querySelector('#df-28ef9c7a-a6c4-4864-b7b7-ff9fae05f1e4 button.colab-df-convert');\n",
              "        buttonEl.style.display =\n",
              "          google.colab.kernel.accessAllowed ? 'block' : 'none';\n",
              "\n",
              "        async function convertToInteractive(key) {\n",
              "          const element = document.querySelector('#df-28ef9c7a-a6c4-4864-b7b7-ff9fae05f1e4');\n",
              "          const dataTable =\n",
              "            await google.colab.kernel.invokeFunction('convertToInteractive',\n",
              "                                                     [key], {});\n",
              "          if (!dataTable) return;\n",
              "\n",
              "          const docLinkHtml = 'Like what you see? Visit the ' +\n",
              "            '<a target=\"_blank\" href=https://colab.research.google.com/notebooks/data_table.ipynb>data table notebook</a>'\n",
              "            + ' to learn more about interactive tables.';\n",
              "          element.innerHTML = '';\n",
              "          dataTable['output_type'] = 'display_data';\n",
              "          await google.colab.output.renderOutput(dataTable, element);\n",
              "          const docLink = document.createElement('div');\n",
              "          docLink.innerHTML = docLinkHtml;\n",
              "          element.appendChild(docLink);\n",
              "        }\n",
              "      </script>\n",
              "    </div>\n",
              "  </div>\n",
              "  "
            ],
            "text/plain": [
              "       city                                    Location   Votes  Reviews\n",
              "0  Banglore               BTM Layout 1, Electronic City   52948    19087\n",
              "1  Banglore  Mico Layout, Stage 2, BTM Layout,Bangalore  673232   326695\n",
              "2     Delhi                  Babarpur, New Delhi, Delhi   29181    10104\n",
              "3     Delhi        Delhi Administration Flats, Timarpur  244669   124823\n",
              "4     Delhi                                Delhi Cantt.  136227    72522"
            ]
          },
          "metadata": {},
          "execution_count": 117
        }
      ]
    },
    {
      "cell_type": "code",
      "source": [
        "fig = px.treemap(location_votes, path=[px.Constant('cities'),'city','Location'], values = \"Votes\", color='Reviews', labels={'Reviews':'Reviews'},\n",
        "                 width=900,height=500, template=template)\n",
        "fig.update_layout(title = \"<b>Total number of Votes and Reviews for restaurants in different locations</b>\")\n",
        "fig.show()"
      ],
      "metadata": {
        "colab": {
          "base_uri": "https://localhost:8080/",
          "height": 517
        },
        "id": "52p0ckaiFfNG",
        "outputId": "978bc487-7cd8-4d03-ef80-bd712b12170b"
      },
      "execution_count": 120,
      "outputs": [
        {
          "output_type": "display_data",
          "data": {
            "text/html": [
              "<html>\n",
              "<head><meta charset=\"utf-8\" /></head>\n",
              "<body>\n",
              "    <div>            <script src=\"https://cdnjs.cloudflare.com/ajax/libs/mathjax/2.7.5/MathJax.js?config=TeX-AMS-MML_SVG\"></script><script type=\"text/javascript\">if (window.MathJax) {MathJax.Hub.Config({SVG: {font: \"STIX-Web\"}});}</script>                <script type=\"text/javascript\">window.PlotlyConfig = {MathJaxConfig: 'local'};</script>\n",
              "        <script src=\"https://cdn.plot.ly/plotly-2.8.3.min.js\"></script>                <div id=\"0498c816-2e8e-4722-8d6a-33cbf90fa6e3\" class=\"plotly-graph-div\" style=\"height:500px; width:900px;\"></div>            <script type=\"text/javascript\">                                    window.PLOTLYENV=window.PLOTLYENV || {};                                    if (document.getElementById(\"0498c816-2e8e-4722-8d6a-33cbf90fa6e3\")) {                    Plotly.newPlot(                        \"0498c816-2e8e-4722-8d6a-33cbf90fa6e3\",                        [{\"branchvalues\":\"total\",\"customdata\":[[19087.0],[10104.0],[50010.0],[3329.0],[137159.0],[124823.0],[72522.0],[328108.0],[156335.0],[63144.0],[185874.0],[11630.0],[12876.0],[1682.0],[52587.0],[165844.0],[326695.0],[60551.0],[200311.0],[3659.0],[241662.0],[3718.0],[2866.0],[139067.0],[32367.0],[134469.0],[242459.0],[185189.0],[52681.0],[11616.0],[22754.0],[192847.0],[304266.36194331985],[214199.7668482596],[52630.92288336155],[6439.588403011976],[42867.15040817875],[151330.22550558968],[196172.17421904934],[191155.58992291318],[186564.97968840212]],\"domain\":{\"x\":[0.0,1.0],\"y\":[0.0,1.0]},\"hovertemplate\":\"labels=%{label}<br>Votes=%{value}<br>parent=%{parent}<br>id=%{id}<br>Reviews=%{color}<extra></extra>\",\"ids\":[\"cities/Banglore/BTM Layout 1, Electronic City\",\"cities/Delhi/Babarpur, New Delhi, Delhi\",\"cities/Kolkata/Chandni Chowk, Kolkata\",\"cities/Hyderabad/Chatta Bazaar, Malakpet, Hyderabad\",\"cities/Noida/D-Block, Sector 63, Noida\",\"cities/Delhi/Delhi Administration Flats, Timarpur\",\"cities/Delhi/Delhi Cantt.\",\"cities/Delhi/Delhi High Court, India Gate\",\"cities/Delhi/Delhi University-GTB Nagar\",\"cities/Mumbai/Dockyard Road, Mumbai CST Area\",\"cities/Pune/FTI College, Law College Road, Pune\",\"cities/Kolkata/Gora Bazar, Rajbari, North Dumdum, Kolkata\",\"cities/Hyderabad/Hyderabad Public School, Begumpet\",\"cities/Hyderabad/Jaya Nagar, Saidabad, Hyderabad\",\"cities/Gurgaon/Laxman Vihar Industrial Area, Sector 3A, Gurgoan\",\"cities/Pune/MG Road, Pune\",\"cities/Banglore/Mico Layout, Stage 2, BTM Layout,Bangalore\",\"cities/Kolkata/Moulali, Kolkata\",\"cities/Mumbai/Mumbai Central\",\"cities/Hyderabad/Musi Nagar, Malakpet, Hyderabad\",\"cities/Pune/Nathan Road, Mangaldas Road, Pune\",\"cities/Hyderabad/Noorkhan Bazaar, Malakpet, Hyderabad\",\"cities/Hyderabad/Panjetan Colony, Malakpet, Hyderabad\",\"cities/Pune/Pune University\",\"cities/Kolkata/Raja Bazar, Kolkata\",\"cities/Mumbai/Sandhurst Road, Mumbai CST Area\",\"cities/Noida/Sector 1, Noida\",\"cities/Noida/Sector 14, Noida\",\"cities/Gurgaon/Sector 63A,Gurgaon\",\"cities/Mumbai/Tejas Nagar Colony, Wadala West, Mumbai\",\"cities/Kolkata/Tiretti, Kolkata\",\"cities/Pune/Yerawada, Pune, Maharashtra\",\"cities/Banglore\",\"cities/Delhi\",\"cities/Gurgaon\",\"cities/Hyderabad\",\"cities/Kolkata\",\"cities/Mumbai\",\"cities/Noida\",\"cities/Pune\",\"cities\"],\"labels\":[\"BTM Layout 1, Electronic City\",\"Babarpur, New Delhi, Delhi\",\"Chandni Chowk, Kolkata\",\"Chatta Bazaar, Malakpet, Hyderabad\",\"D-Block, Sector 63, Noida\",\"Delhi Administration Flats, Timarpur\",\"Delhi Cantt.\",\"Delhi High Court, India Gate\",\"Delhi University-GTB Nagar\",\"Dockyard Road, Mumbai CST Area\",\"FTI College, Law College Road, Pune\",\"Gora Bazar, Rajbari, North Dumdum, Kolkata\",\"Hyderabad Public School, Begumpet\",\"Jaya Nagar, Saidabad, Hyderabad\",\"Laxman Vihar Industrial Area, Sector 3A, Gurgoan\",\"MG Road, Pune\",\"Mico Layout, Stage 2, BTM Layout,Bangalore\",\"Moulali, Kolkata\",\"Mumbai Central\",\"Musi Nagar, Malakpet, Hyderabad\",\"Nathan Road, Mangaldas Road, Pune\",\"Noorkhan Bazaar, Malakpet, Hyderabad\",\"Panjetan Colony, Malakpet, Hyderabad\",\"Pune University\",\"Raja Bazar, Kolkata\",\"Sandhurst Road, Mumbai CST Area\",\"Sector 1, Noida\",\"Sector 14, Noida\",\"Sector 63A,Gurgaon\",\"Tejas Nagar Colony, Wadala West, Mumbai\",\"Tiretti, Kolkata\",\"Yerawada, Pune, Maharashtra\",\"Banglore\",\"Delhi\",\"Gurgaon\",\"Hyderabad\",\"Kolkata\",\"Mumbai\",\"Noida\",\"Pune\",\"cities\"],\"marker\":{\"coloraxis\":\"coloraxis\",\"colors\":[19087.0,10104.0,50010.0,3329.0,137159.0,124823.0,72522.0,328108.0,156335.0,63144.0,185874.0,11630.0,12876.0,1682.0,52587.0,165844.0,326695.0,60551.0,200311.0,3659.0,241662.0,3718.0,2866.0,139067.0,32367.0,134469.0,242459.0,185189.0,52681.0,11616.0,22754.0,192847.0,304266.36194331985,214199.7668482596,52630.92288336155,6439.588403011976,42867.15040817875,151330.22550558968,196172.17421904934,191155.58992291318,186564.97968840212]},\"name\":\"\",\"parents\":[\"cities/Banglore\",\"cities/Delhi\",\"cities/Kolkata\",\"cities/Hyderabad\",\"cities/Noida\",\"cities/Delhi\",\"cities/Delhi\",\"cities/Delhi\",\"cities/Delhi\",\"cities/Mumbai\",\"cities/Pune\",\"cities/Kolkata\",\"cities/Hyderabad\",\"cities/Hyderabad\",\"cities/Gurgaon\",\"cities/Pune\",\"cities/Banglore\",\"cities/Kolkata\",\"cities/Mumbai\",\"cities/Hyderabad\",\"cities/Pune\",\"cities/Hyderabad\",\"cities/Hyderabad\",\"cities/Pune\",\"cities/Kolkata\",\"cities/Mumbai\",\"cities/Noida\",\"cities/Noida\",\"cities/Gurgaon\",\"cities/Mumbai\",\"cities/Kolkata\",\"cities/Pune\",\"cities\",\"cities\",\"cities\",\"cities\",\"cities\",\"cities\",\"cities\",\"cities\",\"\"],\"values\":[52948,29181,99118,23398,277465,244669,136227,567376,302516,134420,372404,38559,52935,11645,113902,338748,673232,120573,393932,25799,467097,25402,20052,262473,61473,268557,432403,331459,99904,20849,49233,367499,726180,1279969,213806,159231,368956,817758,1041327,1808221,6415448],\"type\":\"treemap\"}],                        {\"template\":{\"data\":{\"bar\":[{\"error_x\":{\"color\":\"#2a3f5f\"},\"error_y\":{\"color\":\"#2a3f5f\"},\"marker\":{\"line\":{\"color\":\"#E5ECF6\",\"width\":0.5},\"pattern\":{\"fillmode\":\"overlay\",\"size\":10,\"solidity\":0.2}},\"type\":\"bar\"}],\"barpolar\":[{\"marker\":{\"line\":{\"color\":\"#E5ECF6\",\"width\":0.5},\"pattern\":{\"fillmode\":\"overlay\",\"size\":10,\"solidity\":0.2}},\"type\":\"barpolar\"}],\"carpet\":[{\"aaxis\":{\"endlinecolor\":\"#2a3f5f\",\"gridcolor\":\"white\",\"linecolor\":\"white\",\"minorgridcolor\":\"white\",\"startlinecolor\":\"#2a3f5f\"},\"baxis\":{\"endlinecolor\":\"#2a3f5f\",\"gridcolor\":\"white\",\"linecolor\":\"white\",\"minorgridcolor\":\"white\",\"startlinecolor\":\"#2a3f5f\"},\"type\":\"carpet\"}],\"choropleth\":[{\"colorbar\":{\"outlinewidth\":0,\"ticks\":\"\"},\"type\":\"choropleth\"}],\"contour\":[{\"colorbar\":{\"outlinewidth\":0,\"ticks\":\"\"},\"colorscale\":[[0.0,\"#0d0887\"],[0.1111111111111111,\"#46039f\"],[0.2222222222222222,\"#7201a8\"],[0.3333333333333333,\"#9c179e\"],[0.4444444444444444,\"#bd3786\"],[0.5555555555555556,\"#d8576b\"],[0.6666666666666666,\"#ed7953\"],[0.7777777777777778,\"#fb9f3a\"],[0.8888888888888888,\"#fdca26\"],[1.0,\"#f0f921\"]],\"type\":\"contour\"}],\"contourcarpet\":[{\"colorbar\":{\"outlinewidth\":0,\"ticks\":\"\"},\"type\":\"contourcarpet\"}],\"heatmap\":[{\"colorbar\":{\"outlinewidth\":0,\"ticks\":\"\"},\"colorscale\":[[0.0,\"#0d0887\"],[0.1111111111111111,\"#46039f\"],[0.2222222222222222,\"#7201a8\"],[0.3333333333333333,\"#9c179e\"],[0.4444444444444444,\"#bd3786\"],[0.5555555555555556,\"#d8576b\"],[0.6666666666666666,\"#ed7953\"],[0.7777777777777778,\"#fb9f3a\"],[0.8888888888888888,\"#fdca26\"],[1.0,\"#f0f921\"]],\"type\":\"heatmap\"}],\"heatmapgl\":[{\"colorbar\":{\"outlinewidth\":0,\"ticks\":\"\"},\"colorscale\":[[0.0,\"#0d0887\"],[0.1111111111111111,\"#46039f\"],[0.2222222222222222,\"#7201a8\"],[0.3333333333333333,\"#9c179e\"],[0.4444444444444444,\"#bd3786\"],[0.5555555555555556,\"#d8576b\"],[0.6666666666666666,\"#ed7953\"],[0.7777777777777778,\"#fb9f3a\"],[0.8888888888888888,\"#fdca26\"],[1.0,\"#f0f921\"]],\"type\":\"heatmapgl\"}],\"histogram\":[{\"marker\":{\"pattern\":{\"fillmode\":\"overlay\",\"size\":10,\"solidity\":0.2}},\"type\":\"histogram\"}],\"histogram2d\":[{\"colorbar\":{\"outlinewidth\":0,\"ticks\":\"\"},\"colorscale\":[[0.0,\"#0d0887\"],[0.1111111111111111,\"#46039f\"],[0.2222222222222222,\"#7201a8\"],[0.3333333333333333,\"#9c179e\"],[0.4444444444444444,\"#bd3786\"],[0.5555555555555556,\"#d8576b\"],[0.6666666666666666,\"#ed7953\"],[0.7777777777777778,\"#fb9f3a\"],[0.8888888888888888,\"#fdca26\"],[1.0,\"#f0f921\"]],\"type\":\"histogram2d\"}],\"histogram2dcontour\":[{\"colorbar\":{\"outlinewidth\":0,\"ticks\":\"\"},\"colorscale\":[[0.0,\"#0d0887\"],[0.1111111111111111,\"#46039f\"],[0.2222222222222222,\"#7201a8\"],[0.3333333333333333,\"#9c179e\"],[0.4444444444444444,\"#bd3786\"],[0.5555555555555556,\"#d8576b\"],[0.6666666666666666,\"#ed7953\"],[0.7777777777777778,\"#fb9f3a\"],[0.8888888888888888,\"#fdca26\"],[1.0,\"#f0f921\"]],\"type\":\"histogram2dcontour\"}],\"mesh3d\":[{\"colorbar\":{\"outlinewidth\":0,\"ticks\":\"\"},\"type\":\"mesh3d\"}],\"parcoords\":[{\"line\":{\"colorbar\":{\"outlinewidth\":0,\"ticks\":\"\"}},\"type\":\"parcoords\"}],\"pie\":[{\"automargin\":true,\"type\":\"pie\"}],\"scatter\":[{\"marker\":{\"colorbar\":{\"outlinewidth\":0,\"ticks\":\"\"}},\"type\":\"scatter\"}],\"scatter3d\":[{\"line\":{\"colorbar\":{\"outlinewidth\":0,\"ticks\":\"\"}},\"marker\":{\"colorbar\":{\"outlinewidth\":0,\"ticks\":\"\"}},\"type\":\"scatter3d\"}],\"scattercarpet\":[{\"marker\":{\"colorbar\":{\"outlinewidth\":0,\"ticks\":\"\"}},\"type\":\"scattercarpet\"}],\"scattergeo\":[{\"marker\":{\"colorbar\":{\"outlinewidth\":0,\"ticks\":\"\"}},\"type\":\"scattergeo\"}],\"scattergl\":[{\"marker\":{\"colorbar\":{\"outlinewidth\":0,\"ticks\":\"\"}},\"type\":\"scattergl\"}],\"scattermapbox\":[{\"marker\":{\"colorbar\":{\"outlinewidth\":0,\"ticks\":\"\"}},\"type\":\"scattermapbox\"}],\"scatterpolar\":[{\"marker\":{\"colorbar\":{\"outlinewidth\":0,\"ticks\":\"\"}},\"type\":\"scatterpolar\"}],\"scatterpolargl\":[{\"marker\":{\"colorbar\":{\"outlinewidth\":0,\"ticks\":\"\"}},\"type\":\"scatterpolargl\"}],\"scatterternary\":[{\"marker\":{\"colorbar\":{\"outlinewidth\":0,\"ticks\":\"\"}},\"type\":\"scatterternary\"}],\"surface\":[{\"colorbar\":{\"outlinewidth\":0,\"ticks\":\"\"},\"colorscale\":[[0.0,\"#0d0887\"],[0.1111111111111111,\"#46039f\"],[0.2222222222222222,\"#7201a8\"],[0.3333333333333333,\"#9c179e\"],[0.4444444444444444,\"#bd3786\"],[0.5555555555555556,\"#d8576b\"],[0.6666666666666666,\"#ed7953\"],[0.7777777777777778,\"#fb9f3a\"],[0.8888888888888888,\"#fdca26\"],[1.0,\"#f0f921\"]],\"type\":\"surface\"}],\"table\":[{\"cells\":{\"fill\":{\"color\":\"#EBF0F8\"},\"line\":{\"color\":\"white\"}},\"header\":{\"fill\":{\"color\":\"#C8D4E3\"},\"line\":{\"color\":\"white\"}},\"type\":\"table\"}]},\"layout\":{\"annotationdefaults\":{\"arrowcolor\":\"#2a3f5f\",\"arrowhead\":0,\"arrowwidth\":1},\"autotypenumbers\":\"strict\",\"coloraxis\":{\"colorbar\":{\"outlinewidth\":0,\"ticks\":\"\"}},\"colorscale\":{\"diverging\":[[0,\"#8e0152\"],[0.1,\"#c51b7d\"],[0.2,\"#de77ae\"],[0.3,\"#f1b6da\"],[0.4,\"#fde0ef\"],[0.5,\"#f7f7f7\"],[0.6,\"#e6f5d0\"],[0.7,\"#b8e186\"],[0.8,\"#7fbc41\"],[0.9,\"#4d9221\"],[1,\"#276419\"]],\"sequential\":[[0.0,\"#0d0887\"],[0.1111111111111111,\"#46039f\"],[0.2222222222222222,\"#7201a8\"],[0.3333333333333333,\"#9c179e\"],[0.4444444444444444,\"#bd3786\"],[0.5555555555555556,\"#d8576b\"],[0.6666666666666666,\"#ed7953\"],[0.7777777777777778,\"#fb9f3a\"],[0.8888888888888888,\"#fdca26\"],[1.0,\"#f0f921\"]],\"sequentialminus\":[[0.0,\"#0d0887\"],[0.1111111111111111,\"#46039f\"],[0.2222222222222222,\"#7201a8\"],[0.3333333333333333,\"#9c179e\"],[0.4444444444444444,\"#bd3786\"],[0.5555555555555556,\"#d8576b\"],[0.6666666666666666,\"#ed7953\"],[0.7777777777777778,\"#fb9f3a\"],[0.8888888888888888,\"#fdca26\"],[1.0,\"#f0f921\"]]},\"colorway\":[\"#636efa\",\"#EF553B\",\"#00cc96\",\"#ab63fa\",\"#FFA15A\",\"#19d3f3\",\"#FF6692\",\"#B6E880\",\"#FF97FF\",\"#FECB52\"],\"font\":{\"color\":\"#2a3f5f\"},\"geo\":{\"bgcolor\":\"white\",\"lakecolor\":\"white\",\"landcolor\":\"#E5ECF6\",\"showlakes\":true,\"showland\":true,\"subunitcolor\":\"white\"},\"hoverlabel\":{\"align\":\"left\"},\"hovermode\":\"closest\",\"mapbox\":{\"style\":\"light\"},\"paper_bgcolor\":\"white\",\"plot_bgcolor\":\"#E5ECF6\",\"polar\":{\"angularaxis\":{\"gridcolor\":\"white\",\"linecolor\":\"white\",\"ticks\":\"\"},\"bgcolor\":\"#E5ECF6\",\"radialaxis\":{\"gridcolor\":\"white\",\"linecolor\":\"white\",\"ticks\":\"\"}},\"scene\":{\"xaxis\":{\"backgroundcolor\":\"#E5ECF6\",\"gridcolor\":\"white\",\"gridwidth\":2,\"linecolor\":\"white\",\"showbackground\":true,\"ticks\":\"\",\"zerolinecolor\":\"white\"},\"yaxis\":{\"backgroundcolor\":\"#E5ECF6\",\"gridcolor\":\"white\",\"gridwidth\":2,\"linecolor\":\"white\",\"showbackground\":true,\"ticks\":\"\",\"zerolinecolor\":\"white\"},\"zaxis\":{\"backgroundcolor\":\"#E5ECF6\",\"gridcolor\":\"white\",\"gridwidth\":2,\"linecolor\":\"white\",\"showbackground\":true,\"ticks\":\"\",\"zerolinecolor\":\"white\"}},\"shapedefaults\":{\"line\":{\"color\":\"#2a3f5f\"}},\"ternary\":{\"aaxis\":{\"gridcolor\":\"white\",\"linecolor\":\"white\",\"ticks\":\"\"},\"baxis\":{\"gridcolor\":\"white\",\"linecolor\":\"white\",\"ticks\":\"\"},\"bgcolor\":\"#E5ECF6\",\"caxis\":{\"gridcolor\":\"white\",\"linecolor\":\"white\",\"ticks\":\"\"}},\"title\":{\"x\":0.05},\"xaxis\":{\"automargin\":true,\"gridcolor\":\"white\",\"linecolor\":\"white\",\"ticks\":\"\",\"title\":{\"standoff\":15},\"zerolinecolor\":\"white\",\"zerolinewidth\":2},\"yaxis\":{\"automargin\":true,\"gridcolor\":\"white\",\"linecolor\":\"white\",\"ticks\":\"\",\"title\":{\"standoff\":15},\"zerolinecolor\":\"white\",\"zerolinewidth\":2}}},\"coloraxis\":{\"colorbar\":{\"title\":{\"text\":\"Reviews\"}},\"colorscale\":[[0.0,\"#0d0887\"],[0.1111111111111111,\"#46039f\"],[0.2222222222222222,\"#7201a8\"],[0.3333333333333333,\"#9c179e\"],[0.4444444444444444,\"#bd3786\"],[0.5555555555555556,\"#d8576b\"],[0.6666666666666666,\"#ed7953\"],[0.7777777777777778,\"#fb9f3a\"],[0.8888888888888888,\"#fdca26\"],[1.0,\"#f0f921\"]]},\"legend\":{\"tracegroupgap\":0},\"margin\":{\"t\":60},\"height\":500,\"width\":900,\"title\":{\"text\":\"<b>Total number of Votes and Reviews for restaurants in different locations</b>\"}},                        {\"responsive\": true}                    ).then(function(){\n",
              "                            \n",
              "var gd = document.getElementById('0498c816-2e8e-4722-8d6a-33cbf90fa6e3');\n",
              "var x = new MutationObserver(function (mutations, observer) {{\n",
              "        var display = window.getComputedStyle(gd).display;\n",
              "        if (!display || display === 'none') {{\n",
              "            console.log([gd, 'removed!']);\n",
              "            Plotly.purge(gd);\n",
              "            observer.disconnect();\n",
              "        }}\n",
              "}});\n",
              "\n",
              "// Listen for the removal of the full notebook cells\n",
              "var notebookContainer = gd.closest('#notebook-container');\n",
              "if (notebookContainer) {{\n",
              "    x.observe(notebookContainer, {childList: true});\n",
              "}}\n",
              "\n",
              "// Listen for the clearing of the current output cell\n",
              "var outputEl = gd.closest('.output');\n",
              "if (outputEl) {{\n",
              "    x.observe(outputEl, {childList: true});\n",
              "}}\n",
              "\n",
              "                        })                };                            </script>        </div>\n",
              "</body>\n",
              "</html>"
            ]
          },
          "metadata": {}
        }
      ]
    },
    {
      "cell_type": "markdown",
      "source": [
        "The total number of votes are more than 6.4mn and with city Pune having the most number of votes in total for its restaurants. We have two locations in Delhi and Banglore having more than 300k reviews. "
      ],
      "metadata": {
        "id": "2SY4aj-2Z32X"
      }
    },
    {
      "cell_type": "code",
      "source": [
        "df1.columns"
      ],
      "metadata": {
        "id": "Ti9GXkwzjgXw",
        "colab": {
          "base_uri": "https://localhost:8080/"
        },
        "outputId": "259f65c4-24a3-4d68-c5bd-e451232cfa8e"
      },
      "execution_count": 128,
      "outputs": [
        {
          "output_type": "execute_result",
          "data": {
            "text/plain": [
              "Index(['Restaurant', 'Location', 'Votes', 'Reviews', 'deliveryTime',\n",
              "       'numRating', 'avgCost', 'minOrder', 'city', 'cuisine'],\n",
              "      dtype='object')"
            ]
          },
          "metadata": {},
          "execution_count": 128
        }
      ]
    },
    {
      "cell_type": "code",
      "source": [
        "#top 10 most voted restaurants\n",
        "top_restaurant = df1.groupby(['Restaurant','city'])['Votes'].sum()\n",
        "top_restaurant.sort_values(ascending=False)[:10]"
      ],
      "metadata": {
        "colab": {
          "base_uri": "https://localhost:8080/"
        },
        "id": "_S-ef2wDa_Ru",
        "outputId": "7a5f9682-48ec-4442-ea63-522ec10c8ac9"
      },
      "execution_count": 132,
      "outputs": [
        {
          "output_type": "execute_result",
          "data": {
            "text/plain": [
              "Restaurant  city   \n",
              "ID_4539     Pune       101094\n",
              "ID_2421     Pune        88695\n",
              "ID_2041     Pune        77952\n",
              "ID_13       Pune        46320\n",
              "ID_5332     Delhi       42372\n",
              "ID_2885     Pune        42219\n",
              "ID_1666     Noida       39224\n",
              "ID_5945     Delhi       39209\n",
              "ID_7555     Kolkata     36996\n",
              "ID_4360     Pune        35612\n",
              "Name: Votes, dtype: int64"
            ]
          },
          "metadata": {},
          "execution_count": 132
        }
      ]
    },
    {
      "cell_type": "markdown",
      "source": [
        "The most voted restaurant is in `Pune` city with more than 100k votes. From the top ten restaurants, six are in `Pune` and two are from `Delhi`.\n",
        "\n",
        "\n",
        "Let's next answer the question, What is the average cost for popular cuisines in Mumbai vs the rest of the cities?"
      ],
      "metadata": {
        "id": "JAKlQ4I4cSXU"
      }
    },
    {
      "cell_type": "code",
      "source": [
        "ind = (df1[df1['avgCost']=='']).index.to_list()\n",
        "df1.drop(index=ind, inplace=True)\n",
        "df1['avgCost'] = df1.avgCost.astype('int')"
      ],
      "metadata": {
        "id": "i-oWQJn-ejkA"
      },
      "execution_count": 154,
      "outputs": []
    },
    {
      "cell_type": "code",
      "source": [
        "cityName = \"Mumbai\"\n",
        "\n",
        "#popular cuisines in the selected city in sorted order\n",
        "cuisine_cost_city = df1[df1.city==cityName].groupby(['cuisine'])['avgCost'].agg(['count', 'mean'])\\\n",
        ".reset_index(level=['cuisine']).sort_values(by=['count'], ascending=False)[:15]\n",
        "\n",
        "#popular cuisines for the rest of the cities\n",
        "cuisine_cost_rest = df1[df1.city!=cityName].groupby(['cuisine'])['avgCost'].agg(['count', 'mean'])\n",
        "\n",
        "#xticks\n",
        "x=cuisine_cost_city['cuisine'].values\n",
        "\n",
        "#yticks for city\n",
        "y1 = cuisine_cost_city['mean'].values\n",
        "\n",
        "#yticks for the rest\n",
        "y2 = []\n",
        "for cuisine in x:\n",
        "    #add the avg cost of the cuisine for rest of the cities\n",
        "    y2.append(cuisine_cost_rest.loc[cuisine,'mean'])"
      ],
      "metadata": {
        "id": "mqFhpv81zwIQ"
      },
      "execution_count": 226,
      "outputs": []
    },
    {
      "cell_type": "code",
      "source": [
        "fig = go.Figure()\n",
        "fig.add_trace(go.Bar(x=x, y=y1, \n",
        "                     name=cityName, \n",
        "                     marker_color=cityColor[cityName][0]))\n",
        "\n",
        "fig.add_trace(go.Bar(x=x, y=y2, \n",
        "                     name='Rest of the cities', \n",
        "                     marker_color='rgb(66, 79, 94)'))\n",
        "\n",
        "fig.update_layout(title=\"<b>Popular Cuisines in \" +cityName+ \"</b>\", \n",
        "                  xaxis_tickfont_size=14,\n",
        "                  xaxis=dict(title='Popular Cuisines',\n",
        "                        titlefont_size=16,\n",
        "                        tickfont_size=14),\n",
        "                  yaxis=dict(title='Average Cost',\n",
        "                        titlefont_size=16,\n",
        "                        tickfont_size=14),\n",
        "                  legend=dict(x=0,\n",
        "                              y=1.0,\n",
        "                              bgcolor='rgba(255, 255, 255, 0)',\n",
        "                              bordercolor='rgba(255, 255, 255, 0)'),\n",
        "                  barmode='group',\n",
        "                  bargap=0.15, # gap between bars of adjacent location coordinates.\n",
        "                  bargroupgap=0.1, # gap between bars of the same location coordinate.\n",
        "                  width=600,height=500\n",
        "\n",
        ")\n",
        "fig.show()"
      ],
      "metadata": {
        "colab": {
          "base_uri": "https://localhost:8080/",
          "height": 517
        },
        "id": "wWSQktDYb3za",
        "outputId": "60a23624-cade-4df0-d54f-f7c90b2ba62b"
      },
      "execution_count": 227,
      "outputs": [
        {
          "output_type": "display_data",
          "data": {
            "text/html": [
              "<html>\n",
              "<head><meta charset=\"utf-8\" /></head>\n",
              "<body>\n",
              "    <div>            <script src=\"https://cdnjs.cloudflare.com/ajax/libs/mathjax/2.7.5/MathJax.js?config=TeX-AMS-MML_SVG\"></script><script type=\"text/javascript\">if (window.MathJax) {MathJax.Hub.Config({SVG: {font: \"STIX-Web\"}});}</script>                <script type=\"text/javascript\">window.PlotlyConfig = {MathJaxConfig: 'local'};</script>\n",
              "        <script src=\"https://cdn.plot.ly/plotly-2.8.3.min.js\"></script>                <div id=\"af6bc6ec-89fb-49de-9645-c5d536dd727a\" class=\"plotly-graph-div\" style=\"height:500px; width:600px;\"></div>            <script type=\"text/javascript\">                                    window.PLOTLYENV=window.PLOTLYENV || {};                                    if (document.getElementById(\"af6bc6ec-89fb-49de-9645-c5d536dd727a\")) {                    Plotly.newPlot(                        \"af6bc6ec-89fb-49de-9645-c5d536dd727a\",                        [{\"marker\":{\"color\":\"rgb(85, 188, 194)\"},\"name\":\"Mumbai\",\"x\":[\"Fast Food\",\"North Indian\",\"Chinese\",\"Desserts\",\"Beverages\",\"Mughlai\",\"South Indian\",\"Street Food\",\"Bakery\",\"Italian\",\"Biryani\",\"Ice Cream\",\"Seafood\",\"Pizza\",\"Rolls\"],\"y\":[188.47874720357942,275.59681697612734,266.8032786885246,192.41071428571428,189.10614525139664,282.41379310344826,208.8235294117647,152.77777777777777,189.28571428571428,421.42857142857144,223.02631578947367,138.98305084745763,300.8474576271187,243.75,172.1153846153846],\"type\":\"bar\"},{\"marker\":{\"color\":\"rgb(66, 79, 94)\"},\"name\":\"Rest of the cities\",\"x\":[\"Fast Food\",\"North Indian\",\"Chinese\",\"Desserts\",\"Beverages\",\"Mughlai\",\"South Indian\",\"Street Food\",\"Bakery\",\"Italian\",\"Biryani\",\"Ice Cream\",\"Seafood\",\"Pizza\",\"Rolls\"],\"y\":[181.64636707265853,227.80469148393678,235.82749723553263,190.41420118343194,189.35361216730038,273.9067055393586,169.95661605206072,134.02777777777777,172.09302325581396,379.6257796257796,206.89127105666157,148.81422924901185,354.6296296296296,234.30379746835442,168.86075949367088],\"type\":\"bar\"}],                        {\"template\":{\"data\":{\"bar\":[{\"error_x\":{\"color\":\"#2a3f5f\"},\"error_y\":{\"color\":\"#2a3f5f\"},\"marker\":{\"line\":{\"color\":\"#E5ECF6\",\"width\":0.5},\"pattern\":{\"fillmode\":\"overlay\",\"size\":10,\"solidity\":0.2}},\"type\":\"bar\"}],\"barpolar\":[{\"marker\":{\"line\":{\"color\":\"#E5ECF6\",\"width\":0.5},\"pattern\":{\"fillmode\":\"overlay\",\"size\":10,\"solidity\":0.2}},\"type\":\"barpolar\"}],\"carpet\":[{\"aaxis\":{\"endlinecolor\":\"#2a3f5f\",\"gridcolor\":\"white\",\"linecolor\":\"white\",\"minorgridcolor\":\"white\",\"startlinecolor\":\"#2a3f5f\"},\"baxis\":{\"endlinecolor\":\"#2a3f5f\",\"gridcolor\":\"white\",\"linecolor\":\"white\",\"minorgridcolor\":\"white\",\"startlinecolor\":\"#2a3f5f\"},\"type\":\"carpet\"}],\"choropleth\":[{\"colorbar\":{\"outlinewidth\":0,\"ticks\":\"\"},\"type\":\"choropleth\"}],\"contour\":[{\"colorbar\":{\"outlinewidth\":0,\"ticks\":\"\"},\"colorscale\":[[0.0,\"#0d0887\"],[0.1111111111111111,\"#46039f\"],[0.2222222222222222,\"#7201a8\"],[0.3333333333333333,\"#9c179e\"],[0.4444444444444444,\"#bd3786\"],[0.5555555555555556,\"#d8576b\"],[0.6666666666666666,\"#ed7953\"],[0.7777777777777778,\"#fb9f3a\"],[0.8888888888888888,\"#fdca26\"],[1.0,\"#f0f921\"]],\"type\":\"contour\"}],\"contourcarpet\":[{\"colorbar\":{\"outlinewidth\":0,\"ticks\":\"\"},\"type\":\"contourcarpet\"}],\"heatmap\":[{\"colorbar\":{\"outlinewidth\":0,\"ticks\":\"\"},\"colorscale\":[[0.0,\"#0d0887\"],[0.1111111111111111,\"#46039f\"],[0.2222222222222222,\"#7201a8\"],[0.3333333333333333,\"#9c179e\"],[0.4444444444444444,\"#bd3786\"],[0.5555555555555556,\"#d8576b\"],[0.6666666666666666,\"#ed7953\"],[0.7777777777777778,\"#fb9f3a\"],[0.8888888888888888,\"#fdca26\"],[1.0,\"#f0f921\"]],\"type\":\"heatmap\"}],\"heatmapgl\":[{\"colorbar\":{\"outlinewidth\":0,\"ticks\":\"\"},\"colorscale\":[[0.0,\"#0d0887\"],[0.1111111111111111,\"#46039f\"],[0.2222222222222222,\"#7201a8\"],[0.3333333333333333,\"#9c179e\"],[0.4444444444444444,\"#bd3786\"],[0.5555555555555556,\"#d8576b\"],[0.6666666666666666,\"#ed7953\"],[0.7777777777777778,\"#fb9f3a\"],[0.8888888888888888,\"#fdca26\"],[1.0,\"#f0f921\"]],\"type\":\"heatmapgl\"}],\"histogram\":[{\"marker\":{\"pattern\":{\"fillmode\":\"overlay\",\"size\":10,\"solidity\":0.2}},\"type\":\"histogram\"}],\"histogram2d\":[{\"colorbar\":{\"outlinewidth\":0,\"ticks\":\"\"},\"colorscale\":[[0.0,\"#0d0887\"],[0.1111111111111111,\"#46039f\"],[0.2222222222222222,\"#7201a8\"],[0.3333333333333333,\"#9c179e\"],[0.4444444444444444,\"#bd3786\"],[0.5555555555555556,\"#d8576b\"],[0.6666666666666666,\"#ed7953\"],[0.7777777777777778,\"#fb9f3a\"],[0.8888888888888888,\"#fdca26\"],[1.0,\"#f0f921\"]],\"type\":\"histogram2d\"}],\"histogram2dcontour\":[{\"colorbar\":{\"outlinewidth\":0,\"ticks\":\"\"},\"colorscale\":[[0.0,\"#0d0887\"],[0.1111111111111111,\"#46039f\"],[0.2222222222222222,\"#7201a8\"],[0.3333333333333333,\"#9c179e\"],[0.4444444444444444,\"#bd3786\"],[0.5555555555555556,\"#d8576b\"],[0.6666666666666666,\"#ed7953\"],[0.7777777777777778,\"#fb9f3a\"],[0.8888888888888888,\"#fdca26\"],[1.0,\"#f0f921\"]],\"type\":\"histogram2dcontour\"}],\"mesh3d\":[{\"colorbar\":{\"outlinewidth\":0,\"ticks\":\"\"},\"type\":\"mesh3d\"}],\"parcoords\":[{\"line\":{\"colorbar\":{\"outlinewidth\":0,\"ticks\":\"\"}},\"type\":\"parcoords\"}],\"pie\":[{\"automargin\":true,\"type\":\"pie\"}],\"scatter\":[{\"marker\":{\"colorbar\":{\"outlinewidth\":0,\"ticks\":\"\"}},\"type\":\"scatter\"}],\"scatter3d\":[{\"line\":{\"colorbar\":{\"outlinewidth\":0,\"ticks\":\"\"}},\"marker\":{\"colorbar\":{\"outlinewidth\":0,\"ticks\":\"\"}},\"type\":\"scatter3d\"}],\"scattercarpet\":[{\"marker\":{\"colorbar\":{\"outlinewidth\":0,\"ticks\":\"\"}},\"type\":\"scattercarpet\"}],\"scattergeo\":[{\"marker\":{\"colorbar\":{\"outlinewidth\":0,\"ticks\":\"\"}},\"type\":\"scattergeo\"}],\"scattergl\":[{\"marker\":{\"colorbar\":{\"outlinewidth\":0,\"ticks\":\"\"}},\"type\":\"scattergl\"}],\"scattermapbox\":[{\"marker\":{\"colorbar\":{\"outlinewidth\":0,\"ticks\":\"\"}},\"type\":\"scattermapbox\"}],\"scatterpolar\":[{\"marker\":{\"colorbar\":{\"outlinewidth\":0,\"ticks\":\"\"}},\"type\":\"scatterpolar\"}],\"scatterpolargl\":[{\"marker\":{\"colorbar\":{\"outlinewidth\":0,\"ticks\":\"\"}},\"type\":\"scatterpolargl\"}],\"scatterternary\":[{\"marker\":{\"colorbar\":{\"outlinewidth\":0,\"ticks\":\"\"}},\"type\":\"scatterternary\"}],\"surface\":[{\"colorbar\":{\"outlinewidth\":0,\"ticks\":\"\"},\"colorscale\":[[0.0,\"#0d0887\"],[0.1111111111111111,\"#46039f\"],[0.2222222222222222,\"#7201a8\"],[0.3333333333333333,\"#9c179e\"],[0.4444444444444444,\"#bd3786\"],[0.5555555555555556,\"#d8576b\"],[0.6666666666666666,\"#ed7953\"],[0.7777777777777778,\"#fb9f3a\"],[0.8888888888888888,\"#fdca26\"],[1.0,\"#f0f921\"]],\"type\":\"surface\"}],\"table\":[{\"cells\":{\"fill\":{\"color\":\"#EBF0F8\"},\"line\":{\"color\":\"white\"}},\"header\":{\"fill\":{\"color\":\"#C8D4E3\"},\"line\":{\"color\":\"white\"}},\"type\":\"table\"}]},\"layout\":{\"annotationdefaults\":{\"arrowcolor\":\"#2a3f5f\",\"arrowhead\":0,\"arrowwidth\":1},\"autotypenumbers\":\"strict\",\"coloraxis\":{\"colorbar\":{\"outlinewidth\":0,\"ticks\":\"\"}},\"colorscale\":{\"diverging\":[[0,\"#8e0152\"],[0.1,\"#c51b7d\"],[0.2,\"#de77ae\"],[0.3,\"#f1b6da\"],[0.4,\"#fde0ef\"],[0.5,\"#f7f7f7\"],[0.6,\"#e6f5d0\"],[0.7,\"#b8e186\"],[0.8,\"#7fbc41\"],[0.9,\"#4d9221\"],[1,\"#276419\"]],\"sequential\":[[0.0,\"#0d0887\"],[0.1111111111111111,\"#46039f\"],[0.2222222222222222,\"#7201a8\"],[0.3333333333333333,\"#9c179e\"],[0.4444444444444444,\"#bd3786\"],[0.5555555555555556,\"#d8576b\"],[0.6666666666666666,\"#ed7953\"],[0.7777777777777778,\"#fb9f3a\"],[0.8888888888888888,\"#fdca26\"],[1.0,\"#f0f921\"]],\"sequentialminus\":[[0.0,\"#0d0887\"],[0.1111111111111111,\"#46039f\"],[0.2222222222222222,\"#7201a8\"],[0.3333333333333333,\"#9c179e\"],[0.4444444444444444,\"#bd3786\"],[0.5555555555555556,\"#d8576b\"],[0.6666666666666666,\"#ed7953\"],[0.7777777777777778,\"#fb9f3a\"],[0.8888888888888888,\"#fdca26\"],[1.0,\"#f0f921\"]]},\"colorway\":[\"#636efa\",\"#EF553B\",\"#00cc96\",\"#ab63fa\",\"#FFA15A\",\"#19d3f3\",\"#FF6692\",\"#B6E880\",\"#FF97FF\",\"#FECB52\"],\"font\":{\"color\":\"#2a3f5f\"},\"geo\":{\"bgcolor\":\"white\",\"lakecolor\":\"white\",\"landcolor\":\"#E5ECF6\",\"showlakes\":true,\"showland\":true,\"subunitcolor\":\"white\"},\"hoverlabel\":{\"align\":\"left\"},\"hovermode\":\"closest\",\"mapbox\":{\"style\":\"light\"},\"paper_bgcolor\":\"white\",\"plot_bgcolor\":\"#E5ECF6\",\"polar\":{\"angularaxis\":{\"gridcolor\":\"white\",\"linecolor\":\"white\",\"ticks\":\"\"},\"bgcolor\":\"#E5ECF6\",\"radialaxis\":{\"gridcolor\":\"white\",\"linecolor\":\"white\",\"ticks\":\"\"}},\"scene\":{\"xaxis\":{\"backgroundcolor\":\"#E5ECF6\",\"gridcolor\":\"white\",\"gridwidth\":2,\"linecolor\":\"white\",\"showbackground\":true,\"ticks\":\"\",\"zerolinecolor\":\"white\"},\"yaxis\":{\"backgroundcolor\":\"#E5ECF6\",\"gridcolor\":\"white\",\"gridwidth\":2,\"linecolor\":\"white\",\"showbackground\":true,\"ticks\":\"\",\"zerolinecolor\":\"white\"},\"zaxis\":{\"backgroundcolor\":\"#E5ECF6\",\"gridcolor\":\"white\",\"gridwidth\":2,\"linecolor\":\"white\",\"showbackground\":true,\"ticks\":\"\",\"zerolinecolor\":\"white\"}},\"shapedefaults\":{\"line\":{\"color\":\"#2a3f5f\"}},\"ternary\":{\"aaxis\":{\"gridcolor\":\"white\",\"linecolor\":\"white\",\"ticks\":\"\"},\"baxis\":{\"gridcolor\":\"white\",\"linecolor\":\"white\",\"ticks\":\"\"},\"bgcolor\":\"#E5ECF6\",\"caxis\":{\"gridcolor\":\"white\",\"linecolor\":\"white\",\"ticks\":\"\"}},\"title\":{\"x\":0.05},\"xaxis\":{\"automargin\":true,\"gridcolor\":\"white\",\"linecolor\":\"white\",\"ticks\":\"\",\"title\":{\"standoff\":15},\"zerolinecolor\":\"white\",\"zerolinewidth\":2},\"yaxis\":{\"automargin\":true,\"gridcolor\":\"white\",\"linecolor\":\"white\",\"ticks\":\"\",\"title\":{\"standoff\":15},\"zerolinecolor\":\"white\",\"zerolinewidth\":2}}},\"xaxis\":{\"tickfont\":{\"size\":14},\"title\":{\"text\":\"Popular Cuisines\",\"font\":{\"size\":16}}},\"yaxis\":{\"title\":{\"text\":\"Average Cost\",\"font\":{\"size\":16}},\"tickfont\":{\"size\":14}},\"legend\":{\"x\":0,\"y\":1.0,\"bgcolor\":\"rgba(255, 255, 255, 0)\",\"bordercolor\":\"rgba(255, 255, 255, 0)\"},\"title\":{\"text\":\"<b>Popular Cuisines in Mumbai</b>\"},\"barmode\":\"group\",\"bargap\":0.15,\"bargroupgap\":0.1,\"width\":600,\"height\":500},                        {\"responsive\": true}                    ).then(function(){\n",
              "                            \n",
              "var gd = document.getElementById('af6bc6ec-89fb-49de-9645-c5d536dd727a');\n",
              "var x = new MutationObserver(function (mutations, observer) {{\n",
              "        var display = window.getComputedStyle(gd).display;\n",
              "        if (!display || display === 'none') {{\n",
              "            console.log([gd, 'removed!']);\n",
              "            Plotly.purge(gd);\n",
              "            observer.disconnect();\n",
              "        }}\n",
              "}});\n",
              "\n",
              "// Listen for the removal of the full notebook cells\n",
              "var notebookContainer = gd.closest('#notebook-container');\n",
              "if (notebookContainer) {{\n",
              "    x.observe(notebookContainer, {childList: true});\n",
              "}}\n",
              "\n",
              "// Listen for the clearing of the current output cell\n",
              "var outputEl = gd.closest('.output');\n",
              "if (outputEl) {{\n",
              "    x.observe(outputEl, {childList: true});\n",
              "}}\n",
              "\n",
              "                        })                };                            </script>        </div>\n",
              "</body>\n",
              "</html>"
            ]
          },
          "metadata": {}
        }
      ]
    },
    {
      "cell_type": "markdown",
      "source": [
        "Excluding `Beverages`,`Ice Cream` and `Seafood`, all the other cuisines have slightly higher average cost than other cities in our data. The average cost of `Seafood` is lower than 50 rupees from the rest of the cities."
      ],
      "metadata": {
        "id": "yapUAxD47V9G"
      }
    },
    {
      "cell_type": "code",
      "source": [
        "votes_reviews = df1.groupby('cuisine')[['Votes','Reviews']].sum().sort_values(by=['Votes'],ascending=False)\n",
        "votes_reviews"
      ],
      "metadata": {
        "colab": {
          "base_uri": "https://localhost:8080/",
          "height": 454
        },
        "id": "lNpgXz4iNdxq",
        "outputId": "961f924b-0190-48a0-d782-46bed4a0dc59"
      },
      "execution_count": 217,
      "outputs": [
        {
          "output_type": "execute_result",
          "data": {
            "text/html": [
              "\n",
              "  <div id=\"df-908e4f1e-8c29-4b28-9231-82870850ea00\">\n",
              "    <div class=\"colab-df-container\">\n",
              "      <div>\n",
              "<style scoped>\n",
              "    .dataframe tbody tr th:only-of-type {\n",
              "        vertical-align: middle;\n",
              "    }\n",
              "\n",
              "    .dataframe tbody tr th {\n",
              "        vertical-align: top;\n",
              "    }\n",
              "\n",
              "    .dataframe thead th {\n",
              "        text-align: right;\n",
              "    }\n",
              "</style>\n",
              "<table border=\"1\" class=\"dataframe\">\n",
              "  <thead>\n",
              "    <tr style=\"text-align: right;\">\n",
              "      <th></th>\n",
              "      <th>Votes</th>\n",
              "      <th>Reviews</th>\n",
              "    </tr>\n",
              "    <tr>\n",
              "      <th>cuisine</th>\n",
              "      <th></th>\n",
              "      <th></th>\n",
              "    </tr>\n",
              "  </thead>\n",
              "  <tbody>\n",
              "    <tr>\n",
              "      <th>North Indian</th>\n",
              "      <td>925409</td>\n",
              "      <td>451194</td>\n",
              "    </tr>\n",
              "    <tr>\n",
              "      <th>Chinese</th>\n",
              "      <td>694761</td>\n",
              "      <td>342186</td>\n",
              "    </tr>\n",
              "    <tr>\n",
              "      <th>Fast Food</th>\n",
              "      <td>483055</td>\n",
              "      <td>226878</td>\n",
              "    </tr>\n",
              "    <tr>\n",
              "      <th>Italian</th>\n",
              "      <td>369321</td>\n",
              "      <td>208909</td>\n",
              "    </tr>\n",
              "    <tr>\n",
              "      <th>Continental</th>\n",
              "      <td>347305</td>\n",
              "      <td>196572</td>\n",
              "    </tr>\n",
              "    <tr>\n",
              "      <th>...</th>\n",
              "      <td>...</td>\n",
              "      <td>...</td>\n",
              "    </tr>\n",
              "    <tr>\n",
              "      <th>Bangladeshi</th>\n",
              "      <td>56</td>\n",
              "      <td>13</td>\n",
              "    </tr>\n",
              "    <tr>\n",
              "      <th>Hot dogs</th>\n",
              "      <td>37</td>\n",
              "      <td>13</td>\n",
              "    </tr>\n",
              "    <tr>\n",
              "      <th>Roast Chicken</th>\n",
              "      <td>18</td>\n",
              "      <td>10</td>\n",
              "    </tr>\n",
              "    <tr>\n",
              "      <th>Indian</th>\n",
              "      <td>6</td>\n",
              "      <td>2</td>\n",
              "    </tr>\n",
              "    <tr>\n",
              "      <th>Israeli</th>\n",
              "      <td>0</td>\n",
              "      <td>0</td>\n",
              "    </tr>\n",
              "  </tbody>\n",
              "</table>\n",
              "<p>100 rows × 2 columns</p>\n",
              "</div>\n",
              "      <button class=\"colab-df-convert\" onclick=\"convertToInteractive('df-908e4f1e-8c29-4b28-9231-82870850ea00')\"\n",
              "              title=\"Convert this dataframe to an interactive table.\"\n",
              "              style=\"display:none;\">\n",
              "        \n",
              "  <svg xmlns=\"http://www.w3.org/2000/svg\" height=\"24px\"viewBox=\"0 0 24 24\"\n",
              "       width=\"24px\">\n",
              "    <path d=\"M0 0h24v24H0V0z\" fill=\"none\"/>\n",
              "    <path d=\"M18.56 5.44l.94 2.06.94-2.06 2.06-.94-2.06-.94-.94-2.06-.94 2.06-2.06.94zm-11 1L8.5 8.5l.94-2.06 2.06-.94-2.06-.94L8.5 2.5l-.94 2.06-2.06.94zm10 10l.94 2.06.94-2.06 2.06-.94-2.06-.94-.94-2.06-.94 2.06-2.06.94z\"/><path d=\"M17.41 7.96l-1.37-1.37c-.4-.4-.92-.59-1.43-.59-.52 0-1.04.2-1.43.59L10.3 9.45l-7.72 7.72c-.78.78-.78 2.05 0 2.83L4 21.41c.39.39.9.59 1.41.59.51 0 1.02-.2 1.41-.59l7.78-7.78 2.81-2.81c.8-.78.8-2.07 0-2.86zM5.41 20L4 18.59l7.72-7.72 1.47 1.35L5.41 20z\"/>\n",
              "  </svg>\n",
              "      </button>\n",
              "      \n",
              "  <style>\n",
              "    .colab-df-container {\n",
              "      display:flex;\n",
              "      flex-wrap:wrap;\n",
              "      gap: 12px;\n",
              "    }\n",
              "\n",
              "    .colab-df-convert {\n",
              "      background-color: #E8F0FE;\n",
              "      border: none;\n",
              "      border-radius: 50%;\n",
              "      cursor: pointer;\n",
              "      display: none;\n",
              "      fill: #1967D2;\n",
              "      height: 32px;\n",
              "      padding: 0 0 0 0;\n",
              "      width: 32px;\n",
              "    }\n",
              "\n",
              "    .colab-df-convert:hover {\n",
              "      background-color: #E2EBFA;\n",
              "      box-shadow: 0px 1px 2px rgba(60, 64, 67, 0.3), 0px 1px 3px 1px rgba(60, 64, 67, 0.15);\n",
              "      fill: #174EA6;\n",
              "    }\n",
              "\n",
              "    [theme=dark] .colab-df-convert {\n",
              "      background-color: #3B4455;\n",
              "      fill: #D2E3FC;\n",
              "    }\n",
              "\n",
              "    [theme=dark] .colab-df-convert:hover {\n",
              "      background-color: #434B5C;\n",
              "      box-shadow: 0px 1px 3px 1px rgba(0, 0, 0, 0.15);\n",
              "      filter: drop-shadow(0px 1px 2px rgba(0, 0, 0, 0.3));\n",
              "      fill: #FFFFFF;\n",
              "    }\n",
              "  </style>\n",
              "\n",
              "      <script>\n",
              "        const buttonEl =\n",
              "          document.querySelector('#df-908e4f1e-8c29-4b28-9231-82870850ea00 button.colab-df-convert');\n",
              "        buttonEl.style.display =\n",
              "          google.colab.kernel.accessAllowed ? 'block' : 'none';\n",
              "\n",
              "        async function convertToInteractive(key) {\n",
              "          const element = document.querySelector('#df-908e4f1e-8c29-4b28-9231-82870850ea00');\n",
              "          const dataTable =\n",
              "            await google.colab.kernel.invokeFunction('convertToInteractive',\n",
              "                                                     [key], {});\n",
              "          if (!dataTable) return;\n",
              "\n",
              "          const docLinkHtml = 'Like what you see? Visit the ' +\n",
              "            '<a target=\"_blank\" href=https://colab.research.google.com/notebooks/data_table.ipynb>data table notebook</a>'\n",
              "            + ' to learn more about interactive tables.';\n",
              "          element.innerHTML = '';\n",
              "          dataTable['output_type'] = 'display_data';\n",
              "          await google.colab.output.renderOutput(dataTable, element);\n",
              "          const docLink = document.createElement('div');\n",
              "          docLink.innerHTML = docLinkHtml;\n",
              "          element.appendChild(docLink);\n",
              "        }\n",
              "      </script>\n",
              "    </div>\n",
              "  </div>\n",
              "  "
            ],
            "text/plain": [
              "                Votes  Reviews\n",
              "cuisine                       \n",
              "North Indian   925409   451194\n",
              "Chinese        694761   342186\n",
              "Fast Food      483055   226878\n",
              "Italian        369321   208909\n",
              "Continental    347305   196572\n",
              "...               ...      ...\n",
              "Bangladeshi        56       13\n",
              "Hot dogs           37       13\n",
              "Roast Chicken      18       10\n",
              "Indian              6        2\n",
              "Israeli             0        0\n",
              "\n",
              "[100 rows x 2 columns]"
            ]
          },
          "metadata": {},
          "execution_count": 217
        }
      ]
    },
    {
      "cell_type": "code",
      "source": [
        "votes_reviews = df1.groupby('cuisine')[['Votes','Reviews']].sum().sort_values(by=['Votes'],ascending=False)\n",
        "x = votes_reviews.index.values[:10]\n",
        "y1 = votes_reviews['Votes'].values[:10]\n",
        "y2 = votes_reviews['Reviews'].values[:10]\n",
        "\n",
        "fig = go.Figure()\n",
        "fig.add_trace(go.Bar(x=x, y=y1, \n",
        "                     name='Votes', \n",
        "                     marker_color='rgb(189, 245, 255)',\n",
        "                     marker_line_color='rgb(9, 168, 189)',\n",
        "                     marker_line_width=2))\n",
        "\n",
        "fig.add_trace(go.Bar(x=x, y=y2, \n",
        "                     name='Reviews', \n",
        "                     marker_color='rgb(255, 194, 219)',\n",
        "                     marker_line_color='rgb(158, 22, 78)',\n",
        "                     marker_line_width=2))\n",
        "\n",
        "fig.update_layout(title=\"<b>Votes and Reviews</b>\", \n",
        "                  xaxis_tickfont_size=14,\n",
        "                  xaxis=dict(title='Top Ten Cuisines',\n",
        "                        titlefont_size=16,\n",
        "                        tickfont_size=14),\n",
        "                  yaxis=dict(title='Total Count',\n",
        "                        titlefont_size=16,\n",
        "                        tickfont_size=14),\n",
        "                  legend=dict(x=0.75,\n",
        "                              y=1.0,\n",
        "                              bgcolor='rgba(255, 255, 255, 0)',\n",
        "                              bordercolor='rgba(255, 255, 255, 0)'\n",
        "                              ),\n",
        "                  barmode='group',\n",
        "                  bargap=0.4, # gap between bars of adjacent location coordinates.\n",
        "                  bargroupgap=0.1, # gap between bars of the same location coordinate.\n",
        "                  width=600,height=500\n",
        "\n",
        ")\n",
        "fig.show()"
      ],
      "metadata": {
        "colab": {
          "base_uri": "https://localhost:8080/",
          "height": 517
        },
        "id": "J0E24NYieWRJ",
        "outputId": "82f23267-33a9-453d-e7a3-f5b6af716777"
      },
      "execution_count": 250,
      "outputs": [
        {
          "output_type": "display_data",
          "data": {
            "text/html": [
              "<html>\n",
              "<head><meta charset=\"utf-8\" /></head>\n",
              "<body>\n",
              "    <div>            <script src=\"https://cdnjs.cloudflare.com/ajax/libs/mathjax/2.7.5/MathJax.js?config=TeX-AMS-MML_SVG\"></script><script type=\"text/javascript\">if (window.MathJax) {MathJax.Hub.Config({SVG: {font: \"STIX-Web\"}});}</script>                <script type=\"text/javascript\">window.PlotlyConfig = {MathJaxConfig: 'local'};</script>\n",
              "        <script src=\"https://cdn.plot.ly/plotly-2.8.3.min.js\"></script>                <div id=\"129f04c3-f9bc-4751-a70f-fa33c15c5006\" class=\"plotly-graph-div\" style=\"height:500px; width:600px;\"></div>            <script type=\"text/javascript\">                                    window.PLOTLYENV=window.PLOTLYENV || {};                                    if (document.getElementById(\"129f04c3-f9bc-4751-a70f-fa33c15c5006\")) {                    Plotly.newPlot(                        \"129f04c3-f9bc-4751-a70f-fa33c15c5006\",                        [{\"marker\":{\"color\":\"rgb(189, 245, 255)\",\"line\":{\"color\":\"rgb(9, 168, 189)\",\"width\":2}},\"name\":\"Votes\",\"x\":[\"North Indian\",\"Chinese\",\"Fast Food\",\"Italian\",\"Continental\",\"Mughlai\",\"Beverages\",\"Desserts\",\"Cafe\",\"South Indian\"],\"y\":[925409,694761,483055,369321,347305,260695,249518,243792,218097,188431],\"type\":\"bar\"},{\"marker\":{\"color\":\"rgb(255, 194, 219)\",\"line\":{\"color\":\"rgb(158, 22, 78)\",\"width\":2}},\"name\":\"Reviews\",\"x\":[\"North Indian\",\"Chinese\",\"Fast Food\",\"Italian\",\"Continental\",\"Mughlai\",\"Beverages\",\"Desserts\",\"Cafe\",\"South Indian\"],\"y\":[451194,342186,226878,208909,196572,133784,129077,127650,122638,75723],\"type\":\"bar\"}],                        {\"template\":{\"data\":{\"bar\":[{\"error_x\":{\"color\":\"#2a3f5f\"},\"error_y\":{\"color\":\"#2a3f5f\"},\"marker\":{\"line\":{\"color\":\"#E5ECF6\",\"width\":0.5},\"pattern\":{\"fillmode\":\"overlay\",\"size\":10,\"solidity\":0.2}},\"type\":\"bar\"}],\"barpolar\":[{\"marker\":{\"line\":{\"color\":\"#E5ECF6\",\"width\":0.5},\"pattern\":{\"fillmode\":\"overlay\",\"size\":10,\"solidity\":0.2}},\"type\":\"barpolar\"}],\"carpet\":[{\"aaxis\":{\"endlinecolor\":\"#2a3f5f\",\"gridcolor\":\"white\",\"linecolor\":\"white\",\"minorgridcolor\":\"white\",\"startlinecolor\":\"#2a3f5f\"},\"baxis\":{\"endlinecolor\":\"#2a3f5f\",\"gridcolor\":\"white\",\"linecolor\":\"white\",\"minorgridcolor\":\"white\",\"startlinecolor\":\"#2a3f5f\"},\"type\":\"carpet\"}],\"choropleth\":[{\"colorbar\":{\"outlinewidth\":0,\"ticks\":\"\"},\"type\":\"choropleth\"}],\"contour\":[{\"colorbar\":{\"outlinewidth\":0,\"ticks\":\"\"},\"colorscale\":[[0.0,\"#0d0887\"],[0.1111111111111111,\"#46039f\"],[0.2222222222222222,\"#7201a8\"],[0.3333333333333333,\"#9c179e\"],[0.4444444444444444,\"#bd3786\"],[0.5555555555555556,\"#d8576b\"],[0.6666666666666666,\"#ed7953\"],[0.7777777777777778,\"#fb9f3a\"],[0.8888888888888888,\"#fdca26\"],[1.0,\"#f0f921\"]],\"type\":\"contour\"}],\"contourcarpet\":[{\"colorbar\":{\"outlinewidth\":0,\"ticks\":\"\"},\"type\":\"contourcarpet\"}],\"heatmap\":[{\"colorbar\":{\"outlinewidth\":0,\"ticks\":\"\"},\"colorscale\":[[0.0,\"#0d0887\"],[0.1111111111111111,\"#46039f\"],[0.2222222222222222,\"#7201a8\"],[0.3333333333333333,\"#9c179e\"],[0.4444444444444444,\"#bd3786\"],[0.5555555555555556,\"#d8576b\"],[0.6666666666666666,\"#ed7953\"],[0.7777777777777778,\"#fb9f3a\"],[0.8888888888888888,\"#fdca26\"],[1.0,\"#f0f921\"]],\"type\":\"heatmap\"}],\"heatmapgl\":[{\"colorbar\":{\"outlinewidth\":0,\"ticks\":\"\"},\"colorscale\":[[0.0,\"#0d0887\"],[0.1111111111111111,\"#46039f\"],[0.2222222222222222,\"#7201a8\"],[0.3333333333333333,\"#9c179e\"],[0.4444444444444444,\"#bd3786\"],[0.5555555555555556,\"#d8576b\"],[0.6666666666666666,\"#ed7953\"],[0.7777777777777778,\"#fb9f3a\"],[0.8888888888888888,\"#fdca26\"],[1.0,\"#f0f921\"]],\"type\":\"heatmapgl\"}],\"histogram\":[{\"marker\":{\"pattern\":{\"fillmode\":\"overlay\",\"size\":10,\"solidity\":0.2}},\"type\":\"histogram\"}],\"histogram2d\":[{\"colorbar\":{\"outlinewidth\":0,\"ticks\":\"\"},\"colorscale\":[[0.0,\"#0d0887\"],[0.1111111111111111,\"#46039f\"],[0.2222222222222222,\"#7201a8\"],[0.3333333333333333,\"#9c179e\"],[0.4444444444444444,\"#bd3786\"],[0.5555555555555556,\"#d8576b\"],[0.6666666666666666,\"#ed7953\"],[0.7777777777777778,\"#fb9f3a\"],[0.8888888888888888,\"#fdca26\"],[1.0,\"#f0f921\"]],\"type\":\"histogram2d\"}],\"histogram2dcontour\":[{\"colorbar\":{\"outlinewidth\":0,\"ticks\":\"\"},\"colorscale\":[[0.0,\"#0d0887\"],[0.1111111111111111,\"#46039f\"],[0.2222222222222222,\"#7201a8\"],[0.3333333333333333,\"#9c179e\"],[0.4444444444444444,\"#bd3786\"],[0.5555555555555556,\"#d8576b\"],[0.6666666666666666,\"#ed7953\"],[0.7777777777777778,\"#fb9f3a\"],[0.8888888888888888,\"#fdca26\"],[1.0,\"#f0f921\"]],\"type\":\"histogram2dcontour\"}],\"mesh3d\":[{\"colorbar\":{\"outlinewidth\":0,\"ticks\":\"\"},\"type\":\"mesh3d\"}],\"parcoords\":[{\"line\":{\"colorbar\":{\"outlinewidth\":0,\"ticks\":\"\"}},\"type\":\"parcoords\"}],\"pie\":[{\"automargin\":true,\"type\":\"pie\"}],\"scatter\":[{\"marker\":{\"colorbar\":{\"outlinewidth\":0,\"ticks\":\"\"}},\"type\":\"scatter\"}],\"scatter3d\":[{\"line\":{\"colorbar\":{\"outlinewidth\":0,\"ticks\":\"\"}},\"marker\":{\"colorbar\":{\"outlinewidth\":0,\"ticks\":\"\"}},\"type\":\"scatter3d\"}],\"scattercarpet\":[{\"marker\":{\"colorbar\":{\"outlinewidth\":0,\"ticks\":\"\"}},\"type\":\"scattercarpet\"}],\"scattergeo\":[{\"marker\":{\"colorbar\":{\"outlinewidth\":0,\"ticks\":\"\"}},\"type\":\"scattergeo\"}],\"scattergl\":[{\"marker\":{\"colorbar\":{\"outlinewidth\":0,\"ticks\":\"\"}},\"type\":\"scattergl\"}],\"scattermapbox\":[{\"marker\":{\"colorbar\":{\"outlinewidth\":0,\"ticks\":\"\"}},\"type\":\"scattermapbox\"}],\"scatterpolar\":[{\"marker\":{\"colorbar\":{\"outlinewidth\":0,\"ticks\":\"\"}},\"type\":\"scatterpolar\"}],\"scatterpolargl\":[{\"marker\":{\"colorbar\":{\"outlinewidth\":0,\"ticks\":\"\"}},\"type\":\"scatterpolargl\"}],\"scatterternary\":[{\"marker\":{\"colorbar\":{\"outlinewidth\":0,\"ticks\":\"\"}},\"type\":\"scatterternary\"}],\"surface\":[{\"colorbar\":{\"outlinewidth\":0,\"ticks\":\"\"},\"colorscale\":[[0.0,\"#0d0887\"],[0.1111111111111111,\"#46039f\"],[0.2222222222222222,\"#7201a8\"],[0.3333333333333333,\"#9c179e\"],[0.4444444444444444,\"#bd3786\"],[0.5555555555555556,\"#d8576b\"],[0.6666666666666666,\"#ed7953\"],[0.7777777777777778,\"#fb9f3a\"],[0.8888888888888888,\"#fdca26\"],[1.0,\"#f0f921\"]],\"type\":\"surface\"}],\"table\":[{\"cells\":{\"fill\":{\"color\":\"#EBF0F8\"},\"line\":{\"color\":\"white\"}},\"header\":{\"fill\":{\"color\":\"#C8D4E3\"},\"line\":{\"color\":\"white\"}},\"type\":\"table\"}]},\"layout\":{\"annotationdefaults\":{\"arrowcolor\":\"#2a3f5f\",\"arrowhead\":0,\"arrowwidth\":1},\"autotypenumbers\":\"strict\",\"coloraxis\":{\"colorbar\":{\"outlinewidth\":0,\"ticks\":\"\"}},\"colorscale\":{\"diverging\":[[0,\"#8e0152\"],[0.1,\"#c51b7d\"],[0.2,\"#de77ae\"],[0.3,\"#f1b6da\"],[0.4,\"#fde0ef\"],[0.5,\"#f7f7f7\"],[0.6,\"#e6f5d0\"],[0.7,\"#b8e186\"],[0.8,\"#7fbc41\"],[0.9,\"#4d9221\"],[1,\"#276419\"]],\"sequential\":[[0.0,\"#0d0887\"],[0.1111111111111111,\"#46039f\"],[0.2222222222222222,\"#7201a8\"],[0.3333333333333333,\"#9c179e\"],[0.4444444444444444,\"#bd3786\"],[0.5555555555555556,\"#d8576b\"],[0.6666666666666666,\"#ed7953\"],[0.7777777777777778,\"#fb9f3a\"],[0.8888888888888888,\"#fdca26\"],[1.0,\"#f0f921\"]],\"sequentialminus\":[[0.0,\"#0d0887\"],[0.1111111111111111,\"#46039f\"],[0.2222222222222222,\"#7201a8\"],[0.3333333333333333,\"#9c179e\"],[0.4444444444444444,\"#bd3786\"],[0.5555555555555556,\"#d8576b\"],[0.6666666666666666,\"#ed7953\"],[0.7777777777777778,\"#fb9f3a\"],[0.8888888888888888,\"#fdca26\"],[1.0,\"#f0f921\"]]},\"colorway\":[\"#636efa\",\"#EF553B\",\"#00cc96\",\"#ab63fa\",\"#FFA15A\",\"#19d3f3\",\"#FF6692\",\"#B6E880\",\"#FF97FF\",\"#FECB52\"],\"font\":{\"color\":\"#2a3f5f\"},\"geo\":{\"bgcolor\":\"white\",\"lakecolor\":\"white\",\"landcolor\":\"#E5ECF6\",\"showlakes\":true,\"showland\":true,\"subunitcolor\":\"white\"},\"hoverlabel\":{\"align\":\"left\"},\"hovermode\":\"closest\",\"mapbox\":{\"style\":\"light\"},\"paper_bgcolor\":\"white\",\"plot_bgcolor\":\"#E5ECF6\",\"polar\":{\"angularaxis\":{\"gridcolor\":\"white\",\"linecolor\":\"white\",\"ticks\":\"\"},\"bgcolor\":\"#E5ECF6\",\"radialaxis\":{\"gridcolor\":\"white\",\"linecolor\":\"white\",\"ticks\":\"\"}},\"scene\":{\"xaxis\":{\"backgroundcolor\":\"#E5ECF6\",\"gridcolor\":\"white\",\"gridwidth\":2,\"linecolor\":\"white\",\"showbackground\":true,\"ticks\":\"\",\"zerolinecolor\":\"white\"},\"yaxis\":{\"backgroundcolor\":\"#E5ECF6\",\"gridcolor\":\"white\",\"gridwidth\":2,\"linecolor\":\"white\",\"showbackground\":true,\"ticks\":\"\",\"zerolinecolor\":\"white\"},\"zaxis\":{\"backgroundcolor\":\"#E5ECF6\",\"gridcolor\":\"white\",\"gridwidth\":2,\"linecolor\":\"white\",\"showbackground\":true,\"ticks\":\"\",\"zerolinecolor\":\"white\"}},\"shapedefaults\":{\"line\":{\"color\":\"#2a3f5f\"}},\"ternary\":{\"aaxis\":{\"gridcolor\":\"white\",\"linecolor\":\"white\",\"ticks\":\"\"},\"baxis\":{\"gridcolor\":\"white\",\"linecolor\":\"white\",\"ticks\":\"\"},\"bgcolor\":\"#E5ECF6\",\"caxis\":{\"gridcolor\":\"white\",\"linecolor\":\"white\",\"ticks\":\"\"}},\"title\":{\"x\":0.05},\"xaxis\":{\"automargin\":true,\"gridcolor\":\"white\",\"linecolor\":\"white\",\"ticks\":\"\",\"title\":{\"standoff\":15},\"zerolinecolor\":\"white\",\"zerolinewidth\":2},\"yaxis\":{\"automargin\":true,\"gridcolor\":\"white\",\"linecolor\":\"white\",\"ticks\":\"\",\"title\":{\"standoff\":15},\"zerolinecolor\":\"white\",\"zerolinewidth\":2}}},\"xaxis\":{\"tickfont\":{\"size\":14},\"title\":{\"text\":\"Top Ten Cuisines\",\"font\":{\"size\":16}}},\"yaxis\":{\"title\":{\"text\":\"Total Count\",\"font\":{\"size\":16}},\"tickfont\":{\"size\":14}},\"legend\":{\"x\":0.75,\"y\":1.0,\"bgcolor\":\"rgba(255, 255, 255, 0)\",\"bordercolor\":\"rgba(255, 255, 255, 0)\"},\"title\":{\"text\":\"<b>Votes and Reviews</b>\"},\"barmode\":\"group\",\"bargap\":0.4,\"bargroupgap\":0.1,\"width\":600,\"height\":500},                        {\"responsive\": true}                    ).then(function(){\n",
              "                            \n",
              "var gd = document.getElementById('129f04c3-f9bc-4751-a70f-fa33c15c5006');\n",
              "var x = new MutationObserver(function (mutations, observer) {{\n",
              "        var display = window.getComputedStyle(gd).display;\n",
              "        if (!display || display === 'none') {{\n",
              "            console.log([gd, 'removed!']);\n",
              "            Plotly.purge(gd);\n",
              "            observer.disconnect();\n",
              "        }}\n",
              "}});\n",
              "\n",
              "// Listen for the removal of the full notebook cells\n",
              "var notebookContainer = gd.closest('#notebook-container');\n",
              "if (notebookContainer) {{\n",
              "    x.observe(notebookContainer, {childList: true});\n",
              "}}\n",
              "\n",
              "// Listen for the clearing of the current output cell\n",
              "var outputEl = gd.closest('.output');\n",
              "if (outputEl) {{\n",
              "    x.observe(outputEl, {childList: true});\n",
              "}}\n",
              "\n",
              "                        })                };                            </script>        </div>\n",
              "</body>\n",
              "</html>"
            ]
          },
          "metadata": {}
        }
      ]
    },
    {
      "cell_type": "markdown",
      "source": [
        "What are the ratings for top 20 voted cuisines?"
      ],
      "metadata": {
        "id": "WnktMdPSQGo-"
      }
    },
    {
      "cell_type": "code",
      "source": [
        "top_cuisine_rating = df1.groupby('cuisine')[['Votes','numRating']].agg(['sum','mean']).sort_values(by=[('Votes','sum')],ascending=False)[:20]\n",
        "x= top_cuisine_rating.index.values\n",
        "y = top_cuisine_rating[('numRating','mean')].values\n",
        "\n",
        "\n",
        "fig = go.Figure()\n",
        "fig.add_trace(go.Bar(x=x, y=y, name='Average Ratings', marker_color='rgb(255, 174, 0)', marker_line_color='rgb(250, 244, 187)', marker_line_width=2))\n",
        "fig.update_layout(title=\"<b>Average Ratings</b>\", \n",
        "                  xaxis_tickfont_size=14,\n",
        "                  xaxis=dict(title='Top 20 Most Voted Cuisines',\n",
        "                        titlefont_size=16,\n",
        "                        tickfont_size=14,\n",
        "                        tickangle=45),\n",
        "                  yaxis=dict(title='Average Rating',\n",
        "                        titlefont_size=16,\n",
        "                        tickfont_size=14),\n",
        "                  legend=dict(x=0.75,\n",
        "                              y=1.0,\n",
        "                              bgcolor='rgba(255, 255, 255, 0)',\n",
        "                              bordercolor='rgba(255, 255, 255, 0)'\n",
        "                              ),\n",
        "                  bargap=0.4,\n",
        "                  width=600,height=400)\n",
        "fig.show()"
      ],
      "metadata": {
        "colab": {
          "base_uri": "https://localhost:8080/",
          "height": 417
        },
        "id": "MhK4z0i7MVJG",
        "outputId": "88dc1e38-30f6-49d7-8e19-26257e3f4224"
      },
      "execution_count": 249,
      "outputs": [
        {
          "output_type": "display_data",
          "data": {
            "text/html": [
              "<html>\n",
              "<head><meta charset=\"utf-8\" /></head>\n",
              "<body>\n",
              "    <div>            <script src=\"https://cdnjs.cloudflare.com/ajax/libs/mathjax/2.7.5/MathJax.js?config=TeX-AMS-MML_SVG\"></script><script type=\"text/javascript\">if (window.MathJax) {MathJax.Hub.Config({SVG: {font: \"STIX-Web\"}});}</script>                <script type=\"text/javascript\">window.PlotlyConfig = {MathJaxConfig: 'local'};</script>\n",
              "        <script src=\"https://cdn.plot.ly/plotly-2.8.3.min.js\"></script>                <div id=\"7f46f194-b502-4a37-a82e-c79cb6db3769\" class=\"plotly-graph-div\" style=\"height:400px; width:600px;\"></div>            <script type=\"text/javascript\">                                    window.PLOTLYENV=window.PLOTLYENV || {};                                    if (document.getElementById(\"7f46f194-b502-4a37-a82e-c79cb6db3769\")) {                    Plotly.newPlot(                        \"7f46f194-b502-4a37-a82e-c79cb6db3769\",                        [{\"marker\":{\"color\":\"rgb(255, 174, 0)\",\"line\":{\"color\":\"rgb(250, 244, 187)\",\"width\":2}},\"name\":\"Average Ratings\",\"x\":[\"North Indian\",\"Chinese\",\"Fast Food\",\"Italian\",\"Continental\",\"Mughlai\",\"Beverages\",\"Desserts\",\"Cafe\",\"South Indian\",\"Salad\",\"Asian\",\"Biryani\",\"Pizza\",\"American\",\"Street Food\",\"Bakery\",\"Burger\",\"Momos\",\"Thai\"],\"y\":[2.943963712491268,2.99681714842482,2.988189533239033,3.611648745519716,3.5727999999999955,3.228880866425994,3.0455727051177868,3.28175865294668,3.593409090909089,3.1371093750000063,3.8598173515981737,3.8298507462686575,2.8765432098765427,3.2006651884700674,3.5492187499999996,3.0701201201201216,3.112908242612755,3.229109589041093,3.2856164383561652,3.7547770700636955],\"type\":\"bar\"}],                        {\"template\":{\"data\":{\"bar\":[{\"error_x\":{\"color\":\"#2a3f5f\"},\"error_y\":{\"color\":\"#2a3f5f\"},\"marker\":{\"line\":{\"color\":\"#E5ECF6\",\"width\":0.5},\"pattern\":{\"fillmode\":\"overlay\",\"size\":10,\"solidity\":0.2}},\"type\":\"bar\"}],\"barpolar\":[{\"marker\":{\"line\":{\"color\":\"#E5ECF6\",\"width\":0.5},\"pattern\":{\"fillmode\":\"overlay\",\"size\":10,\"solidity\":0.2}},\"type\":\"barpolar\"}],\"carpet\":[{\"aaxis\":{\"endlinecolor\":\"#2a3f5f\",\"gridcolor\":\"white\",\"linecolor\":\"white\",\"minorgridcolor\":\"white\",\"startlinecolor\":\"#2a3f5f\"},\"baxis\":{\"endlinecolor\":\"#2a3f5f\",\"gridcolor\":\"white\",\"linecolor\":\"white\",\"minorgridcolor\":\"white\",\"startlinecolor\":\"#2a3f5f\"},\"type\":\"carpet\"}],\"choropleth\":[{\"colorbar\":{\"outlinewidth\":0,\"ticks\":\"\"},\"type\":\"choropleth\"}],\"contour\":[{\"colorbar\":{\"outlinewidth\":0,\"ticks\":\"\"},\"colorscale\":[[0.0,\"#0d0887\"],[0.1111111111111111,\"#46039f\"],[0.2222222222222222,\"#7201a8\"],[0.3333333333333333,\"#9c179e\"],[0.4444444444444444,\"#bd3786\"],[0.5555555555555556,\"#d8576b\"],[0.6666666666666666,\"#ed7953\"],[0.7777777777777778,\"#fb9f3a\"],[0.8888888888888888,\"#fdca26\"],[1.0,\"#f0f921\"]],\"type\":\"contour\"}],\"contourcarpet\":[{\"colorbar\":{\"outlinewidth\":0,\"ticks\":\"\"},\"type\":\"contourcarpet\"}],\"heatmap\":[{\"colorbar\":{\"outlinewidth\":0,\"ticks\":\"\"},\"colorscale\":[[0.0,\"#0d0887\"],[0.1111111111111111,\"#46039f\"],[0.2222222222222222,\"#7201a8\"],[0.3333333333333333,\"#9c179e\"],[0.4444444444444444,\"#bd3786\"],[0.5555555555555556,\"#d8576b\"],[0.6666666666666666,\"#ed7953\"],[0.7777777777777778,\"#fb9f3a\"],[0.8888888888888888,\"#fdca26\"],[1.0,\"#f0f921\"]],\"type\":\"heatmap\"}],\"heatmapgl\":[{\"colorbar\":{\"outlinewidth\":0,\"ticks\":\"\"},\"colorscale\":[[0.0,\"#0d0887\"],[0.1111111111111111,\"#46039f\"],[0.2222222222222222,\"#7201a8\"],[0.3333333333333333,\"#9c179e\"],[0.4444444444444444,\"#bd3786\"],[0.5555555555555556,\"#d8576b\"],[0.6666666666666666,\"#ed7953\"],[0.7777777777777778,\"#fb9f3a\"],[0.8888888888888888,\"#fdca26\"],[1.0,\"#f0f921\"]],\"type\":\"heatmapgl\"}],\"histogram\":[{\"marker\":{\"pattern\":{\"fillmode\":\"overlay\",\"size\":10,\"solidity\":0.2}},\"type\":\"histogram\"}],\"histogram2d\":[{\"colorbar\":{\"outlinewidth\":0,\"ticks\":\"\"},\"colorscale\":[[0.0,\"#0d0887\"],[0.1111111111111111,\"#46039f\"],[0.2222222222222222,\"#7201a8\"],[0.3333333333333333,\"#9c179e\"],[0.4444444444444444,\"#bd3786\"],[0.5555555555555556,\"#d8576b\"],[0.6666666666666666,\"#ed7953\"],[0.7777777777777778,\"#fb9f3a\"],[0.8888888888888888,\"#fdca26\"],[1.0,\"#f0f921\"]],\"type\":\"histogram2d\"}],\"histogram2dcontour\":[{\"colorbar\":{\"outlinewidth\":0,\"ticks\":\"\"},\"colorscale\":[[0.0,\"#0d0887\"],[0.1111111111111111,\"#46039f\"],[0.2222222222222222,\"#7201a8\"],[0.3333333333333333,\"#9c179e\"],[0.4444444444444444,\"#bd3786\"],[0.5555555555555556,\"#d8576b\"],[0.6666666666666666,\"#ed7953\"],[0.7777777777777778,\"#fb9f3a\"],[0.8888888888888888,\"#fdca26\"],[1.0,\"#f0f921\"]],\"type\":\"histogram2dcontour\"}],\"mesh3d\":[{\"colorbar\":{\"outlinewidth\":0,\"ticks\":\"\"},\"type\":\"mesh3d\"}],\"parcoords\":[{\"line\":{\"colorbar\":{\"outlinewidth\":0,\"ticks\":\"\"}},\"type\":\"parcoords\"}],\"pie\":[{\"automargin\":true,\"type\":\"pie\"}],\"scatter\":[{\"marker\":{\"colorbar\":{\"outlinewidth\":0,\"ticks\":\"\"}},\"type\":\"scatter\"}],\"scatter3d\":[{\"line\":{\"colorbar\":{\"outlinewidth\":0,\"ticks\":\"\"}},\"marker\":{\"colorbar\":{\"outlinewidth\":0,\"ticks\":\"\"}},\"type\":\"scatter3d\"}],\"scattercarpet\":[{\"marker\":{\"colorbar\":{\"outlinewidth\":0,\"ticks\":\"\"}},\"type\":\"scattercarpet\"}],\"scattergeo\":[{\"marker\":{\"colorbar\":{\"outlinewidth\":0,\"ticks\":\"\"}},\"type\":\"scattergeo\"}],\"scattergl\":[{\"marker\":{\"colorbar\":{\"outlinewidth\":0,\"ticks\":\"\"}},\"type\":\"scattergl\"}],\"scattermapbox\":[{\"marker\":{\"colorbar\":{\"outlinewidth\":0,\"ticks\":\"\"}},\"type\":\"scattermapbox\"}],\"scatterpolar\":[{\"marker\":{\"colorbar\":{\"outlinewidth\":0,\"ticks\":\"\"}},\"type\":\"scatterpolar\"}],\"scatterpolargl\":[{\"marker\":{\"colorbar\":{\"outlinewidth\":0,\"ticks\":\"\"}},\"type\":\"scatterpolargl\"}],\"scatterternary\":[{\"marker\":{\"colorbar\":{\"outlinewidth\":0,\"ticks\":\"\"}},\"type\":\"scatterternary\"}],\"surface\":[{\"colorbar\":{\"outlinewidth\":0,\"ticks\":\"\"},\"colorscale\":[[0.0,\"#0d0887\"],[0.1111111111111111,\"#46039f\"],[0.2222222222222222,\"#7201a8\"],[0.3333333333333333,\"#9c179e\"],[0.4444444444444444,\"#bd3786\"],[0.5555555555555556,\"#d8576b\"],[0.6666666666666666,\"#ed7953\"],[0.7777777777777778,\"#fb9f3a\"],[0.8888888888888888,\"#fdca26\"],[1.0,\"#f0f921\"]],\"type\":\"surface\"}],\"table\":[{\"cells\":{\"fill\":{\"color\":\"#EBF0F8\"},\"line\":{\"color\":\"white\"}},\"header\":{\"fill\":{\"color\":\"#C8D4E3\"},\"line\":{\"color\":\"white\"}},\"type\":\"table\"}]},\"layout\":{\"annotationdefaults\":{\"arrowcolor\":\"#2a3f5f\",\"arrowhead\":0,\"arrowwidth\":1},\"autotypenumbers\":\"strict\",\"coloraxis\":{\"colorbar\":{\"outlinewidth\":0,\"ticks\":\"\"}},\"colorscale\":{\"diverging\":[[0,\"#8e0152\"],[0.1,\"#c51b7d\"],[0.2,\"#de77ae\"],[0.3,\"#f1b6da\"],[0.4,\"#fde0ef\"],[0.5,\"#f7f7f7\"],[0.6,\"#e6f5d0\"],[0.7,\"#b8e186\"],[0.8,\"#7fbc41\"],[0.9,\"#4d9221\"],[1,\"#276419\"]],\"sequential\":[[0.0,\"#0d0887\"],[0.1111111111111111,\"#46039f\"],[0.2222222222222222,\"#7201a8\"],[0.3333333333333333,\"#9c179e\"],[0.4444444444444444,\"#bd3786\"],[0.5555555555555556,\"#d8576b\"],[0.6666666666666666,\"#ed7953\"],[0.7777777777777778,\"#fb9f3a\"],[0.8888888888888888,\"#fdca26\"],[1.0,\"#f0f921\"]],\"sequentialminus\":[[0.0,\"#0d0887\"],[0.1111111111111111,\"#46039f\"],[0.2222222222222222,\"#7201a8\"],[0.3333333333333333,\"#9c179e\"],[0.4444444444444444,\"#bd3786\"],[0.5555555555555556,\"#d8576b\"],[0.6666666666666666,\"#ed7953\"],[0.7777777777777778,\"#fb9f3a\"],[0.8888888888888888,\"#fdca26\"],[1.0,\"#f0f921\"]]},\"colorway\":[\"#636efa\",\"#EF553B\",\"#00cc96\",\"#ab63fa\",\"#FFA15A\",\"#19d3f3\",\"#FF6692\",\"#B6E880\",\"#FF97FF\",\"#FECB52\"],\"font\":{\"color\":\"#2a3f5f\"},\"geo\":{\"bgcolor\":\"white\",\"lakecolor\":\"white\",\"landcolor\":\"#E5ECF6\",\"showlakes\":true,\"showland\":true,\"subunitcolor\":\"white\"},\"hoverlabel\":{\"align\":\"left\"},\"hovermode\":\"closest\",\"mapbox\":{\"style\":\"light\"},\"paper_bgcolor\":\"white\",\"plot_bgcolor\":\"#E5ECF6\",\"polar\":{\"angularaxis\":{\"gridcolor\":\"white\",\"linecolor\":\"white\",\"ticks\":\"\"},\"bgcolor\":\"#E5ECF6\",\"radialaxis\":{\"gridcolor\":\"white\",\"linecolor\":\"white\",\"ticks\":\"\"}},\"scene\":{\"xaxis\":{\"backgroundcolor\":\"#E5ECF6\",\"gridcolor\":\"white\",\"gridwidth\":2,\"linecolor\":\"white\",\"showbackground\":true,\"ticks\":\"\",\"zerolinecolor\":\"white\"},\"yaxis\":{\"backgroundcolor\":\"#E5ECF6\",\"gridcolor\":\"white\",\"gridwidth\":2,\"linecolor\":\"white\",\"showbackground\":true,\"ticks\":\"\",\"zerolinecolor\":\"white\"},\"zaxis\":{\"backgroundcolor\":\"#E5ECF6\",\"gridcolor\":\"white\",\"gridwidth\":2,\"linecolor\":\"white\",\"showbackground\":true,\"ticks\":\"\",\"zerolinecolor\":\"white\"}},\"shapedefaults\":{\"line\":{\"color\":\"#2a3f5f\"}},\"ternary\":{\"aaxis\":{\"gridcolor\":\"white\",\"linecolor\":\"white\",\"ticks\":\"\"},\"baxis\":{\"gridcolor\":\"white\",\"linecolor\":\"white\",\"ticks\":\"\"},\"bgcolor\":\"#E5ECF6\",\"caxis\":{\"gridcolor\":\"white\",\"linecolor\":\"white\",\"ticks\":\"\"}},\"title\":{\"x\":0.05},\"xaxis\":{\"automargin\":true,\"gridcolor\":\"white\",\"linecolor\":\"white\",\"ticks\":\"\",\"title\":{\"standoff\":15},\"zerolinecolor\":\"white\",\"zerolinewidth\":2},\"yaxis\":{\"automargin\":true,\"gridcolor\":\"white\",\"linecolor\":\"white\",\"ticks\":\"\",\"title\":{\"standoff\":15},\"zerolinecolor\":\"white\",\"zerolinewidth\":2}}},\"xaxis\":{\"tickfont\":{\"size\":14},\"title\":{\"text\":\"Top 20 Most Voted Cuisines\",\"font\":{\"size\":16}},\"tickangle\":45},\"yaxis\":{\"title\":{\"text\":\"Average Rating\",\"font\":{\"size\":16}},\"tickfont\":{\"size\":14}},\"legend\":{\"x\":0.75,\"y\":1.0,\"bgcolor\":\"rgba(255, 255, 255, 0)\",\"bordercolor\":\"rgba(255, 255, 255, 0)\"},\"title\":{\"text\":\"<b>Average Ratings</b>\"},\"bargap\":0.4,\"width\":600,\"height\":400},                        {\"responsive\": true}                    ).then(function(){\n",
              "                            \n",
              "var gd = document.getElementById('7f46f194-b502-4a37-a82e-c79cb6db3769');\n",
              "var x = new MutationObserver(function (mutations, observer) {{\n",
              "        var display = window.getComputedStyle(gd).display;\n",
              "        if (!display || display === 'none') {{\n",
              "            console.log([gd, 'removed!']);\n",
              "            Plotly.purge(gd);\n",
              "            observer.disconnect();\n",
              "        }}\n",
              "}});\n",
              "\n",
              "// Listen for the removal of the full notebook cells\n",
              "var notebookContainer = gd.closest('#notebook-container');\n",
              "if (notebookContainer) {{\n",
              "    x.observe(notebookContainer, {childList: true});\n",
              "}}\n",
              "\n",
              "// Listen for the clearing of the current output cell\n",
              "var outputEl = gd.closest('.output');\n",
              "if (outputEl) {{\n",
              "    x.observe(outputEl, {childList: true});\n",
              "}}\n",
              "\n",
              "                        })                };                            </script>        </div>\n",
              "</body>\n",
              "</html>"
            ]
          },
          "metadata": {}
        }
      ]
    },
    {
      "cell_type": "markdown",
      "source": [
        "Among the top twenty most voted cuisines, `Salad` and `Asian` cuisines have the highest average rating of 3.8 stars. All of the most voted cuisines have average ratings from 2.5 to 4 stars."
      ],
      "metadata": {
        "id": "OWFBnJICV7Yt"
      }
    },
    {
      "cell_type": "code",
      "source": [
        ""
      ],
      "metadata": {
        "id": "ezqW2utBS4TC"
      },
      "execution_count": null,
      "outputs": []
    }
  ]
}