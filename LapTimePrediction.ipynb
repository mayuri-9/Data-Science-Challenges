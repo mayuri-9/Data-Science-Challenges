{
  "nbformat": 4,
  "nbformat_minor": 0,
  "metadata": {
    "colab": {
      "name": "EDA.ipynb",
      "provenance": [],
      "collapsed_sections": []
    },
    "kernelspec": {
      "display_name": "Python 3",
      "name": "python3"
    },
    "language_info": {
      "name": "python"
    }
  },
  "cells": [
    {
      "cell_type": "markdown",
      "metadata": {
        "id": "GTGmTN3OqknY"
      },
      "source": [
        "## Reading the Data"
      ]
    },
    {
      "cell_type": "code",
      "metadata": {
        "id": "es6WzpJQwXn3"
      },
      "source": [
        "#required libraries\n",
        "import pandas as pd\n",
        "import numpy as np\n",
        "import datetime\n",
        "import time\n",
        "import seaborn as sns\n",
        "import matplotlib.pyplot as plt\n",
        "import plotly.express as px\n",
        "from sklearn.preprocessing import OneHotEncoder, StandardScaler\n",
        "from sklearn.model_selection import train_test_split\n",
        "from xgboost import XGBRegressor\n",
        "from sklearn.ensemble import RandomForestRegressor\n",
        "from sklearn.metrics import mean_squared_log_error"
      ],
      "execution_count": 1,
      "outputs": []
    },
    {
      "cell_type": "code",
      "metadata": {
        "id": "RKvsZl6LjB58"
      },
      "source": [
        "sns.set(rc={'figure.figsize':(10,10)});"
      ],
      "execution_count": 2,
      "outputs": []
    },
    {
      "cell_type": "code",
      "metadata": {
        "colab": {
          "base_uri": "https://localhost:8080/",
          "height": 400
        },
        "id": "VsKOX_oGxjgj",
        "outputId": "335db48d-443d-46e9-9627-fd218d6d0552"
      },
      "source": [
        "train = pd.read_csv('train.csv')\n",
        "test = pd.read_csv('test.csv')\n",
        "train.head()"
      ],
      "execution_count": 3,
      "outputs": [
        {
          "output_type": "execute_result",
          "data": {
            "text/html": [
              "<div>\n",
              "<style scoped>\n",
              "    .dataframe tbody tr th:only-of-type {\n",
              "        vertical-align: middle;\n",
              "    }\n",
              "\n",
              "    .dataframe tbody tr th {\n",
              "        vertical-align: top;\n",
              "    }\n",
              "\n",
              "    .dataframe thead th {\n",
              "        text-align: right;\n",
              "    }\n",
              "</style>\n",
              "<table border=\"1\" class=\"dataframe\">\n",
              "  <thead>\n",
              "    <tr style=\"text-align: right;\">\n",
              "      <th></th>\n",
              "      <th>NUMBER</th>\n",
              "      <th>DRIVER_NUMBER</th>\n",
              "      <th>LAP_NUMBER</th>\n",
              "      <th>LAP_TIME</th>\n",
              "      <th>LAP_IMPROVEMENT</th>\n",
              "      <th>CROSSING_FINISH_LINE_IN_PIT</th>\n",
              "      <th>S1</th>\n",
              "      <th>S1_IMPROVEMENT</th>\n",
              "      <th>S2</th>\n",
              "      <th>S2_IMPROVEMENT</th>\n",
              "      <th>S3</th>\n",
              "      <th>S3_IMPROVEMENT</th>\n",
              "      <th>KPH</th>\n",
              "      <th>ELAPSED</th>\n",
              "      <th>HOUR</th>\n",
              "      <th>S1_LARGE</th>\n",
              "      <th>S2_LARGE</th>\n",
              "      <th>S3_LARGE</th>\n",
              "      <th>DRIVER_NAME</th>\n",
              "      <th>PIT_TIME</th>\n",
              "      <th>GROUP</th>\n",
              "      <th>TEAM</th>\n",
              "      <th>POWER</th>\n",
              "      <th>LOCATION</th>\n",
              "      <th>EVENT</th>\n",
              "    </tr>\n",
              "  </thead>\n",
              "  <tbody>\n",
              "    <tr>\n",
              "      <th>0</th>\n",
              "      <td>10</td>\n",
              "      <td>1</td>\n",
              "      <td>1</td>\n",
              "      <td>92</td>\n",
              "      <td>0</td>\n",
              "      <td>NaN</td>\n",
              "      <td>05:43.3</td>\n",
              "      <td>0</td>\n",
              "      <td>35.427</td>\n",
              "      <td>0</td>\n",
              "      <td>43.313</td>\n",
              "      <td>0</td>\n",
              "      <td>28.8</td>\n",
              "      <td>07:02.0</td>\n",
              "      <td>22:02.0</td>\n",
              "      <td>05:43.3</td>\n",
              "      <td>00:35.4</td>\n",
              "      <td>00:43.3</td>\n",
              "      <td>SB</td>\n",
              "      <td>05:14.7</td>\n",
              "      <td>NaN</td>\n",
              "      <td>JR</td>\n",
              "      <td>NaN</td>\n",
              "      <td>Location 2</td>\n",
              "      <td>Free Practice 2</td>\n",
              "    </tr>\n",
              "    <tr>\n",
              "      <th>1</th>\n",
              "      <td>10</td>\n",
              "      <td>1</td>\n",
              "      <td>2</td>\n",
              "      <td>87</td>\n",
              "      <td>2</td>\n",
              "      <td>NaN</td>\n",
              "      <td>25.674</td>\n",
              "      <td>2</td>\n",
              "      <td>33.399</td>\n",
              "      <td>2</td>\n",
              "      <td>41.922</td>\n",
              "      <td>2</td>\n",
              "      <td>120.5</td>\n",
              "      <td>08:43.0</td>\n",
              "      <td>23:43.0</td>\n",
              "      <td>00:25.7</td>\n",
              "      <td>00:33.4</td>\n",
              "      <td>00:41.9</td>\n",
              "      <td>SB</td>\n",
              "      <td>NaN</td>\n",
              "      <td>NaN</td>\n",
              "      <td>JR</td>\n",
              "      <td>NaN</td>\n",
              "      <td>Location 2</td>\n",
              "      <td>Free Practice 2</td>\n",
              "    </tr>\n",
              "    <tr>\n",
              "      <th>2</th>\n",
              "      <td>10</td>\n",
              "      <td>1</td>\n",
              "      <td>3</td>\n",
              "      <td>73</td>\n",
              "      <td>0</td>\n",
              "      <td>B</td>\n",
              "      <td>28.129</td>\n",
              "      <td>0</td>\n",
              "      <td>34.091</td>\n",
              "      <td>0</td>\n",
              "      <td>57.248</td>\n",
              "      <td>0</td>\n",
              "      <td>101.9</td>\n",
              "      <td>10:42.5</td>\n",
              "      <td>25:42.5</td>\n",
              "      <td>00:28.1</td>\n",
              "      <td>00:34.1</td>\n",
              "      <td>00:57.2</td>\n",
              "      <td>SB</td>\n",
              "      <td>NaN</td>\n",
              "      <td>NaN</td>\n",
              "      <td>JR</td>\n",
              "      <td>NaN</td>\n",
              "      <td>Location 2</td>\n",
              "      <td>Free Practice 2</td>\n",
              "    </tr>\n",
              "    <tr>\n",
              "      <th>3</th>\n",
              "      <td>11</td>\n",
              "      <td>1</td>\n",
              "      <td>1</td>\n",
              "      <td>73</td>\n",
              "      <td>0</td>\n",
              "      <td>NaN</td>\n",
              "      <td>01:05.0</td>\n",
              "      <td>0</td>\n",
              "      <td>38.416</td>\n",
              "      <td>0</td>\n",
              "      <td>56.833</td>\n",
              "      <td>0</td>\n",
              "      <td>75.9</td>\n",
              "      <td>02:40.2</td>\n",
              "      <td>17:40.2</td>\n",
              "      <td>01:05.0</td>\n",
              "      <td>00:38.4</td>\n",
              "      <td>00:56.8</td>\n",
              "      <td>LGRA</td>\n",
              "      <td>00:33.0</td>\n",
              "      <td>NaN</td>\n",
              "      <td>AD</td>\n",
              "      <td>NaN</td>\n",
              "      <td>Location 2</td>\n",
              "      <td>Free Practice 2</td>\n",
              "    </tr>\n",
              "    <tr>\n",
              "      <th>4</th>\n",
              "      <td>11</td>\n",
              "      <td>1</td>\n",
              "      <td>2</td>\n",
              "      <td>73</td>\n",
              "      <td>0</td>\n",
              "      <td>NaN</td>\n",
              "      <td>28.013</td>\n",
              "      <td>0</td>\n",
              "      <td>36.743</td>\n",
              "      <td>0</td>\n",
              "      <td>44.716</td>\n",
              "      <td>0</td>\n",
              "      <td>111.2</td>\n",
              "      <td>04:29.7</td>\n",
              "      <td>19:29.7</td>\n",
              "      <td>00:28.0</td>\n",
              "      <td>00:36.7</td>\n",
              "      <td>00:44.7</td>\n",
              "      <td>LGRA</td>\n",
              "      <td>NaN</td>\n",
              "      <td>NaN</td>\n",
              "      <td>AD</td>\n",
              "      <td>NaN</td>\n",
              "      <td>Location 2</td>\n",
              "      <td>Free Practice 2</td>\n",
              "    </tr>\n",
              "  </tbody>\n",
              "</table>\n",
              "</div>"
            ],
            "text/plain": [
              "   NUMBER   DRIVER_NUMBER   LAP_NUMBER  ...  POWER    LOCATION            EVENT\n",
              "0      10               1            1  ...    NaN  Location 2  Free Practice 2\n",
              "1      10               1            2  ...    NaN  Location 2  Free Practice 2\n",
              "2      10               1            3  ...    NaN  Location 2  Free Practice 2\n",
              "3      11               1            1  ...    NaN  Location 2  Free Practice 2\n",
              "4      11               1            2  ...    NaN  Location 2  Free Practice 2\n",
              "\n",
              "[5 rows x 25 columns]"
            ]
          },
          "metadata": {},
          "execution_count": 3
        }
      ]
    },
    {
      "cell_type": "code",
      "metadata": {
        "colab": {
          "base_uri": "https://localhost:8080/",
          "height": 206
        },
        "id": "tCKuX1RnNefy",
        "outputId": "1fa35402-7398-4c84-8d93-76fdc4485d0f"
      },
      "source": [
        "#reading the weather data\n",
        "train_weather = pd.read_csv('train_weather.csv')\n",
        "test_weather = pd.read_csv('test_weather.csv')\n",
        "train_weather.head()"
      ],
      "execution_count": 4,
      "outputs": [
        {
          "output_type": "execute_result",
          "data": {
            "text/html": [
              "<div>\n",
              "<style scoped>\n",
              "    .dataframe tbody tr th:only-of-type {\n",
              "        vertical-align: middle;\n",
              "    }\n",
              "\n",
              "    .dataframe tbody tr th {\n",
              "        vertical-align: top;\n",
              "    }\n",
              "\n",
              "    .dataframe thead th {\n",
              "        text-align: right;\n",
              "    }\n",
              "</style>\n",
              "<table border=\"1\" class=\"dataframe\">\n",
              "  <thead>\n",
              "    <tr style=\"text-align: right;\">\n",
              "      <th></th>\n",
              "      <th>TIME_UTC_SECONDS</th>\n",
              "      <th>TIME_UTC_STR</th>\n",
              "      <th>AIR_TEMP</th>\n",
              "      <th>TRACK_TEMP</th>\n",
              "      <th>HUMIDITY</th>\n",
              "      <th>PRESSURE</th>\n",
              "      <th>WIND_SPEED</th>\n",
              "      <th>WIND_DIRECTION</th>\n",
              "      <th>RAIN</th>\n",
              "      <th>LOCATION</th>\n",
              "      <th>EVENT</th>\n",
              "    </tr>\n",
              "  </thead>\n",
              "  <tbody>\n",
              "    <tr>\n",
              "      <th>0</th>\n",
              "      <td>1618042506</td>\n",
              "      <td>10/04/21 8:15</td>\n",
              "      <td>15</td>\n",
              "      <td>18.4</td>\n",
              "      <td>60</td>\n",
              "      <td>1018.05</td>\n",
              "      <td>2.12187</td>\n",
              "      <td>165</td>\n",
              "      <td>-1</td>\n",
              "      <td>Location 2</td>\n",
              "      <td>Free Practice 2</td>\n",
              "    </tr>\n",
              "    <tr>\n",
              "      <th>1</th>\n",
              "      <td>1618042567</td>\n",
              "      <td>10/04/21 8:16</td>\n",
              "      <td>15.0556</td>\n",
              "      <td>18.4</td>\n",
              "      <td>60</td>\n",
              "      <td>1018.12</td>\n",
              "      <td>1.06093</td>\n",
              "      <td>177</td>\n",
              "      <td>-1</td>\n",
              "      <td>Location 2</td>\n",
              "      <td>Free Practice 2</td>\n",
              "    </tr>\n",
              "    <tr>\n",
              "      <th>2</th>\n",
              "      <td>1618042632</td>\n",
              "      <td>10/04/21 8:17</td>\n",
              "      <td>15.0556</td>\n",
              "      <td>18.5</td>\n",
              "      <td>60</td>\n",
              "      <td>1018.12</td>\n",
              "      <td>2.12187</td>\n",
              "      <td>157</td>\n",
              "      <td>-1</td>\n",
              "      <td>Location 2</td>\n",
              "      <td>Free Practice 2</td>\n",
              "    </tr>\n",
              "    <tr>\n",
              "      <th>3</th>\n",
              "      <td>1618042697</td>\n",
              "      <td>10/04/21 8:18</td>\n",
              "      <td>15.0556</td>\n",
              "      <td>18.5</td>\n",
              "      <td>60</td>\n",
              "      <td>1018.08</td>\n",
              "      <td>2.12187</td>\n",
              "      <td>163</td>\n",
              "      <td>-1</td>\n",
              "      <td>Location 2</td>\n",
              "      <td>Free Practice 2</td>\n",
              "    </tr>\n",
              "    <tr>\n",
              "      <th>4</th>\n",
              "      <td>1618042762</td>\n",
              "      <td>10/04/21 8:19</td>\n",
              "      <td>15.1111</td>\n",
              "      <td>18.5</td>\n",
              "      <td>60</td>\n",
              "      <td>1018.15</td>\n",
              "      <td>3.1828</td>\n",
              "      <td>149</td>\n",
              "      <td>-1</td>\n",
              "      <td>Location 2</td>\n",
              "      <td>Free Practice 2</td>\n",
              "    </tr>\n",
              "  </tbody>\n",
              "</table>\n",
              "</div>"
            ],
            "text/plain": [
              "   TIME_UTC_SECONDS   TIME_UTC_STR AIR_TEMP  ... RAIN    LOCATION            EVENT\n",
              "0        1618042506  10/04/21 8:15       15  ...   -1  Location 2  Free Practice 2\n",
              "1        1618042567  10/04/21 8:16  15.0556  ...   -1  Location 2  Free Practice 2\n",
              "2        1618042632  10/04/21 8:17  15.0556  ...   -1  Location 2  Free Practice 2\n",
              "3        1618042697  10/04/21 8:18  15.0556  ...   -1  Location 2  Free Practice 2\n",
              "4        1618042762  10/04/21 8:19  15.1111  ...   -1  Location 2  Free Practice 2\n",
              "\n",
              "[5 rows x 11 columns]"
            ]
          },
          "metadata": {},
          "execution_count": 4
        }
      ]
    },
    {
      "cell_type": "code",
      "metadata": {
        "colab": {
          "base_uri": "https://localhost:8080/"
        },
        "id": "-BWdHXpCTrXM",
        "outputId": "77de7568-32bd-487f-e5a2-5bb09d01495e"
      },
      "source": [
        "print(\"Number of Training Instances: \", train.shape[0])\n",
        "print(\"Number of Test Instances: \", test.shape[0])\n",
        "print(\"\\nNumber of Training Weather Instances: \",train_weather.shape[0])\n",
        "print(\"Number of Test Weather Instances: \",test_weather.shape[0])\n",
        "print(\"\\nTotal Number of Features in Train Data: \", train.shape[1] + train_weather.shape[1] -2)\n",
        "print(\"Total Number of Features in Test Data: \",   test.shape[1] + test_weather.shape[1] -2)\n",
        "print(\"\\nTarget Variable: LAP_TIME\")"
      ],
      "execution_count": 5,
      "outputs": [
        {
          "output_type": "stream",
          "name": "stdout",
          "text": [
            "Number of Training Instances:  10276\n",
            "Number of Test Instances:  420\n",
            "\n",
            "Number of Training Weather Instances:  914\n",
            "Number of Test Weather Instances:  167\n",
            "\n",
            "Total Number of Features in Train Data:  34\n",
            "Total Number of Features in Test Data:  34\n",
            "\n",
            "Target Variable: LAP_TIME\n"
          ]
        }
      ]
    },
    {
      "cell_type": "code",
      "metadata": {
        "colab": {
          "base_uri": "https://localhost:8080/"
        },
        "id": "LgnjIoUrO8aY",
        "outputId": "f2a33d6e-d5ad-40a6-abd1-61b28c00f5dc"
      },
      "source": [
        "train_weather.info()"
      ],
      "execution_count": 6,
      "outputs": [
        {
          "output_type": "stream",
          "name": "stdout",
          "text": [
            "<class 'pandas.core.frame.DataFrame'>\n",
            "RangeIndex: 914 entries, 0 to 913\n",
            "Data columns (total 11 columns):\n",
            " #   Column            Non-Null Count  Dtype \n",
            "---  ------            --------------  ----- \n",
            " 0   TIME_UTC_SECONDS  914 non-null    int64 \n",
            " 1   TIME_UTC_STR      914 non-null    object\n",
            " 2   AIR_TEMP          914 non-null    object\n",
            " 3   TRACK_TEMP        914 non-null    object\n",
            " 4   HUMIDITY          914 non-null    object\n",
            " 5   PRESSURE          914 non-null    object\n",
            " 6   WIND_SPEED        914 non-null    object\n",
            " 7   WIND_DIRECTION    914 non-null    int64 \n",
            " 8   RAIN              914 non-null    object\n",
            " 9   LOCATION          914 non-null    object\n",
            " 10  EVENT             914 non-null    object\n",
            "dtypes: int64(2), object(9)\n",
            "memory usage: 78.7+ KB\n"
          ]
        }
      ]
    },
    {
      "cell_type": "code",
      "metadata": {
        "colab": {
          "base_uri": "https://localhost:8080/"
        },
        "id": "4YXPCKfOtd03",
        "outputId": "e35c1260-4d14-4cf3-f71c-5f7eb88b9996"
      },
      "source": [
        "train.info()"
      ],
      "execution_count": 7,
      "outputs": [
        {
          "output_type": "stream",
          "name": "stdout",
          "text": [
            "<class 'pandas.core.frame.DataFrame'>\n",
            "RangeIndex: 10276 entries, 0 to 10275\n",
            "Data columns (total 25 columns):\n",
            " #   Column                        Non-Null Count  Dtype  \n",
            "---  ------                        --------------  -----  \n",
            " 0   NUMBER                        10276 non-null  int64  \n",
            " 1    DRIVER_NUMBER                10276 non-null  int64  \n",
            " 2    LAP_NUMBER                   10276 non-null  int64  \n",
            " 3   LAP_TIME                      10276 non-null  int64  \n",
            " 4    LAP_IMPROVEMENT              10276 non-null  int64  \n",
            " 5    CROSSING_FINISH_LINE_IN_PIT  1234 non-null   object \n",
            " 6    S1                           10272 non-null  object \n",
            " 7    S1_IMPROVEMENT               10276 non-null  int64  \n",
            " 8    S2                           10268 non-null  object \n",
            " 9    S2_IMPROVEMENT               10276 non-null  int64  \n",
            " 10   S3                           10242 non-null  object \n",
            " 11   S3_IMPROVEMENT               10276 non-null  int64  \n",
            " 12   KPH                          10246 non-null  float64\n",
            " 13   ELAPSED                      10276 non-null  object \n",
            " 14   HOUR                         10276 non-null  object \n",
            " 15  S1_LARGE                      10272 non-null  object \n",
            " 16  S2_LARGE                      10268 non-null  object \n",
            " 17  S3_LARGE                      10242 non-null  object \n",
            " 18  DRIVER_NAME                   10276 non-null  object \n",
            " 19  PIT_TIME                      1898 non-null   object \n",
            " 20  GROUP                         508 non-null    float64\n",
            " 21  TEAM                          10276 non-null  object \n",
            " 22  POWER                         2903 non-null   float64\n",
            " 23  LOCATION                      10276 non-null  object \n",
            " 24  EVENT                         10276 non-null  object \n",
            "dtypes: float64(3), int64(8), object(14)\n",
            "memory usage: 2.0+ MB\n"
          ]
        }
      ]
    },
    {
      "cell_type": "code",
      "metadata": {
        "colab": {
          "base_uri": "https://localhost:8080/"
        },
        "id": "EQNMP9aYt4ov",
        "outputId": "c8e5879a-f2a2-48d2-f9fb-86513e35b3d7"
      },
      "source": [
        "#missing values\n",
        "print(\"Train data Missing Values: \\n\", train.isna().sum()[train.isna().sum()>0])\n",
        "print(\"\\nTest data Missing Values: \\n\",test.isna().sum()[test.isna().sum()>0][1:])\n",
        "print(\"\\nTrain Weather data Missing Values: \\n\", train_weather.isna().sum()[train_weather.isna().sum()>0])\n",
        "print(\"\\nTest Weather data Missing Values: \\n\", test_weather.isna().sum()[test_weather.isna().sum()>0])"
      ],
      "execution_count": 8,
      "outputs": [
        {
          "output_type": "stream",
          "name": "stdout",
          "text": [
            "Train data Missing Values: \n",
            "  CROSSING_FINISH_LINE_IN_PIT    9042\n",
            " S1                                4\n",
            " S2                                8\n",
            " S3                               34\n",
            " KPH                              30\n",
            "S1_LARGE                           4\n",
            "S2_LARGE                           8\n",
            "S3_LARGE                          34\n",
            "PIT_TIME                        8378\n",
            "GROUP                           9768\n",
            "POWER                           7373\n",
            "dtype: int64\n",
            "\n",
            "Test data Missing Values: \n",
            "  CROSSING_FINISH_LINE_IN_PIT    404\n",
            " S3                               2\n",
            " KPH                              2\n",
            "S3_LARGE                          2\n",
            "PIT_TIME                        265\n",
            "GROUP                            29\n",
            "POWER                           111\n",
            "dtype: int64\n",
            "\n",
            "Train Weather data Missing Values: \n",
            " Series([], dtype: int64)\n",
            "\n",
            "Test Weather data Missing Values: \n",
            " Series([], dtype: int64)\n"
          ]
        }
      ]
    },
    {
      "cell_type": "markdown",
      "metadata": {
        "id": "ZaNSxt1BtsdJ"
      },
      "source": [
        "The dataset contains datetime, numerical and categorical types of data. Both training & test weather dataset do not have any missing values, however the `train` & `test` data frames contains a lot of missing values in the `CROSSING_FINISH_LINE_IN_PIT`, `PIT_TIME`, `GROUP`, `POWER`columns and few null values in some features relating to sector and speed.\n",
        "\n",
        "## Cleaning the Data"
      ]
    },
    {
      "cell_type": "code",
      "metadata": {
        "id": "1jBTo6yU8Cr4"
      },
      "source": [
        "train.columns = [col.strip() for col in train.columns]\n",
        "test.columns = [col.strip() for col in test.columns]\n",
        "train_weather.columns = [col.strip() for col in train_weather.columns]\n",
        "test_weather.columns = [col.strip() for col in test_weather.columns]\n",
        "#renaming events column\n",
        "test_weather.rename(columns={'EVENTS': 'EVENT'}, inplace=True)"
      ],
      "execution_count": 9,
      "outputs": []
    },
    {
      "cell_type": "markdown",
      "metadata": {
        "id": "KozuA3z1zXBg"
      },
      "source": [
        "**Weather Data**\n",
        "\n",
        "*Let's look at the numerical columns like `AIR_TEMP`, `TRACK_TEMP`, `HUMIDITY`, `PRESSURE` and `WIND_SPEED`.*\n"
      ]
    },
    {
      "cell_type": "code",
      "metadata": {
        "colab": {
          "base_uri": "https://localhost:8080/"
        },
        "id": "6fsSNSX4xsRv",
        "outputId": "6fe93ba0-8e76-46ea-e822-02fbe425fb4a"
      },
      "source": [
        "#merging the train & test data frames\n",
        "wdf = pd.concat([train_weather,test_weather], axis=0)\n",
        "wdf = wdf.reset_index(drop=True)\n",
        "wdf.shape"
      ],
      "execution_count": 10,
      "outputs": [
        {
          "output_type": "execute_result",
          "data": {
            "text/plain": [
              "(1081, 11)"
            ]
          },
          "metadata": {},
          "execution_count": 10
        }
      ]
    },
    {
      "cell_type": "code",
      "metadata": {
        "colab": {
          "base_uri": "https://localhost:8080/"
        },
        "id": "GVBX5y9HzLT8",
        "outputId": "fa15344b-9f41-4d1a-c0b1-af6fae890a63"
      },
      "source": [
        "print(\"Unique values in weather data: \")\n",
        "for nc in ['AIR_TEMP','TRACK_TEMP','HUMIDITY','PRESSURE','WIND_SPEED']:\n",
        "  print(nc, \": \\n\", wdf[nc].unique()[:15])"
      ],
      "execution_count": 11,
      "outputs": [
        {
          "output_type": "stream",
          "name": "stdout",
          "text": [
            "Unique values in weather data: \n",
            "AIR_TEMP : \n",
            " ['15' '15.0556' '15.1111' '14.9444' '14.8889' '14.8333' '15.3333'\n",
            " '15.2778' '15.2222' '15.1667' '9.77778' '9.83333' '9.94445' '10'\n",
            " '10.0556']\n",
            "TRACK_TEMP : \n",
            " ['18.4' '18.5' '18.6' '18.7' '18.8' '18.9' '19' '19.1' '19.2' '19.3'\n",
            " '19.5' '19.6' '19.7' '19.9' '20']\n",
            "HUMIDITY : \n",
            " ['60' '61' '62' '63' '68' '67' '66' '65' '64' '30' '32' '31' '29' '87'\n",
            " '92']\n",
            "PRESSURE : \n",
            " ['1018.05' '1018.12' '1018.08' '1018.15' '1018.25' '1018.22' '1018.29'\n",
            " '1018.35' '1018.39' '1018.19' '1017.98' '1017.58' '1017.64' '1017.61'\n",
            " '1017.68']\n",
            "WIND_SPEED : \n",
            " ['2.12187' '1.06093' '3.1828' '6.3656' '4.24374' '7.42654' '5.30467' '0'\n",
            " '8.48747' '10.6093' '1,06' '11,61' '11,59' '21,6' '14,56']\n"
          ]
        }
      ]
    },
    {
      "cell_type": "markdown",
      "metadata": {
        "id": "iPxb39nG2hN1"
      },
      "source": [
        "We have some inconsistent values in these columns. Some of the values in the `PRESSURE` column also seem to be represented in different units, so let's drop the column."
      ]
    },
    {
      "cell_type": "code",
      "metadata": {
        "id": "gcgYjWA05IPR"
      },
      "source": [
        "wdf['AIR_TEMP'] = wdf['AIR_TEMP'].str.replace(',', '.')\n",
        "wdf['AIR_TEMP'] = wdf['AIR_TEMP'].str[:4]\n",
        "\n",
        "wdf['TRACK_TEMP'] = wdf['TRACK_TEMP'].str.replace(',','.')"
      ],
      "execution_count": 12,
      "outputs": []
    },
    {
      "cell_type": "code",
      "metadata": {
        "id": "Y3uVgdiVwLfJ"
      },
      "source": [
        "wdf['WIND_SPEED'] = wdf['WIND_SPEED'].str.replace(',','.',1)\n",
        "wdf['WIND_SPEED'] = wdf['WIND_SPEED'].str.replace(',','')\n",
        "wdf['WIND_SPEED'] = wdf['WIND_SPEED'].str[:4]\n",
        "\n",
        "wdf['HUMIDITY'] = wdf['HUMIDITY'].str.replace(',','.')"
      ],
      "execution_count": 13,
      "outputs": []
    },
    {
      "cell_type": "code",
      "metadata": {
        "id": "3UN4HMkcwxOi",
        "colab": {
          "base_uri": "https://localhost:8080/",
          "height": 300
        },
        "outputId": "9b4b60e8-d0c4-4f73-cf30-cc4505dc47ec"
      },
      "source": [
        "#converting data type from object to numeric\n",
        "wdf = wdf.astype({\"AIR_TEMP\": float, \"TRACK_TEMP\": float, \"WIND_SPEED\":float, \n",
        "                  \"HUMIDITY\": float})\n",
        "wdf['AIR_TEMP'] = wdf['AIR_TEMP'].round(2)\n",
        "wdf['HUMIDITY'] = wdf['HUMIDITY'].round()\n",
        "wdf.describe()"
      ],
      "execution_count": 14,
      "outputs": [
        {
          "output_type": "execute_result",
          "data": {
            "text/html": [
              "<div>\n",
              "<style scoped>\n",
              "    .dataframe tbody tr th:only-of-type {\n",
              "        vertical-align: middle;\n",
              "    }\n",
              "\n",
              "    .dataframe tbody tr th {\n",
              "        vertical-align: top;\n",
              "    }\n",
              "\n",
              "    .dataframe thead th {\n",
              "        text-align: right;\n",
              "    }\n",
              "</style>\n",
              "<table border=\"1\" class=\"dataframe\">\n",
              "  <thead>\n",
              "    <tr style=\"text-align: right;\">\n",
              "      <th></th>\n",
              "      <th>TIME_UTC_SECONDS</th>\n",
              "      <th>AIR_TEMP</th>\n",
              "      <th>TRACK_TEMP</th>\n",
              "      <th>HUMIDITY</th>\n",
              "      <th>WIND_SPEED</th>\n",
              "      <th>WIND_DIRECTION</th>\n",
              "    </tr>\n",
              "  </thead>\n",
              "  <tbody>\n",
              "    <tr>\n",
              "      <th>count</th>\n",
              "      <td>1.081000e+03</td>\n",
              "      <td>1081.000000</td>\n",
              "      <td>1081.000000</td>\n",
              "      <td>1081.000000</td>\n",
              "      <td>1081.000000</td>\n",
              "      <td>1081.000000</td>\n",
              "    </tr>\n",
              "    <tr>\n",
              "      <th>mean</th>\n",
              "      <td>1.622303e+09</td>\n",
              "      <td>14.508770</td>\n",
              "      <td>23.418779</td>\n",
              "      <td>68.081406</td>\n",
              "      <td>5.383617</td>\n",
              "      <td>182.490287</td>\n",
              "    </tr>\n",
              "    <tr>\n",
              "      <th>std</th>\n",
              "      <td>4.850934e+06</td>\n",
              "      <td>7.876356</td>\n",
              "      <td>8.534886</td>\n",
              "      <td>17.784222</td>\n",
              "      <td>8.772248</td>\n",
              "      <td>113.542650</td>\n",
              "    </tr>\n",
              "    <tr>\n",
              "      <th>min</th>\n",
              "      <td>1.614266e+09</td>\n",
              "      <td>1.380000</td>\n",
              "      <td>10.200000</td>\n",
              "      <td>29.000000</td>\n",
              "      <td>0.000000</td>\n",
              "      <td>1.000000</td>\n",
              "    </tr>\n",
              "    <tr>\n",
              "      <th>25%</th>\n",
              "      <td>1.618119e+09</td>\n",
              "      <td>10.700000</td>\n",
              "      <td>17.100000</td>\n",
              "      <td>61.000000</td>\n",
              "      <td>1.060000</td>\n",
              "      <td>71.000000</td>\n",
              "    </tr>\n",
              "    <tr>\n",
              "      <th>50%</th>\n",
              "      <td>1.624108e+09</td>\n",
              "      <td>15.300000</td>\n",
              "      <td>23.200000</td>\n",
              "      <td>70.000000</td>\n",
              "      <td>2.120000</td>\n",
              "      <td>175.000000</td>\n",
              "    </tr>\n",
              "    <tr>\n",
              "      <th>75%</th>\n",
              "      <td>1.627057e+09</td>\n",
              "      <td>20.500000</td>\n",
              "      <td>30.300000</td>\n",
              "      <td>81.000000</td>\n",
              "      <td>5.300000</td>\n",
              "      <td>297.000000</td>\n",
              "    </tr>\n",
              "    <tr>\n",
              "      <th>max</th>\n",
              "      <td>1.629021e+09</td>\n",
              "      <td>30.000000</td>\n",
              "      <td>48.100000</td>\n",
              "      <td>95.000000</td>\n",
              "      <td>63.600000</td>\n",
              "      <td>360.000000</td>\n",
              "    </tr>\n",
              "  </tbody>\n",
              "</table>\n",
              "</div>"
            ],
            "text/plain": [
              "       TIME_UTC_SECONDS     AIR_TEMP  ...   WIND_SPEED  WIND_DIRECTION\n",
              "count      1.081000e+03  1081.000000  ...  1081.000000     1081.000000\n",
              "mean       1.622303e+09    14.508770  ...     5.383617      182.490287\n",
              "std        4.850934e+06     7.876356  ...     8.772248      113.542650\n",
              "min        1.614266e+09     1.380000  ...     0.000000        1.000000\n",
              "25%        1.618119e+09    10.700000  ...     1.060000       71.000000\n",
              "50%        1.624108e+09    15.300000  ...     2.120000      175.000000\n",
              "75%        1.627057e+09    20.500000  ...     5.300000      297.000000\n",
              "max        1.629021e+09    30.000000  ...    63.600000      360.000000\n",
              "\n",
              "[8 rows x 6 columns]"
            ]
          },
          "metadata": {},
          "execution_count": 14
        }
      ]
    },
    {
      "cell_type": "markdown",
      "metadata": {
        "id": "1Mm5eB_YAaf2"
      },
      "source": [
        "The average humidity is around 68% with an average wind speed of 5kph. The mean track temperature is much higher than the air temperature. *Let's now look at the datetime column `TIME_IN_UTC_STR`.*"
      ]
    },
    {
      "cell_type": "code",
      "metadata": {
        "colab": {
          "base_uri": "https://localhost:8080/"
        },
        "id": "KvfYK_cMw1RI",
        "outputId": "cb7c37b3-883f-491b-998d-91c29837131c"
      },
      "source": [
        "#extracting the month and hour of the day from the column\n",
        "hour=[]\n",
        "month=[]\n",
        "for i in wdf['TIME_UTC_STR']:\n",
        "  temp = datetime.datetime.strptime(i,  '%d/%m/%y  %H:%M')\n",
        "  hour.append(temp.hour)\n",
        "  month.append(temp.month)\n",
        "wdf['TIME_HOUR'] = hour\n",
        "wdf['TIME_MONTH'] = month\n",
        "\n",
        "print(\"Hour:\\n\", wdf.TIME_HOUR.unique())\n",
        "print(\"Month:\\n\", wdf.TIME_MONTH.unique())\n",
        "for cc in ['RAIN','LOCATION','EVENT']:\n",
        "  print(cc, \": \\n\", wdf[cc].unique())"
      ],
      "execution_count": 15,
      "outputs": [
        {
          "output_type": "stream",
          "name": "stdout",
          "text": [
            "Hour:\n",
            " [ 8  9 10  6 13 11 17 14  7  5 16 15 12]\n",
            "Month:\n",
            " [4 2 7 6 5 8]\n",
            "RAIN : \n",
            " ['-1' '0' '0,01' '0,25' '0,03' '0,02' 0]\n",
            "LOCATION : \n",
            " ['Location 2' 'Location 1' 'Location 3' 'Location 7' 'Location 5'\n",
            " 'Location 6' 'Location 4' 'Location 8']\n",
            "EVENT : \n",
            " ['Free Practice 2' 'Qualifying Group 1' 'Free Practice 1'\n",
            " 'Qualifying Group 2' 'Qualifying Group 4' 'Qualifying Group 3'\n",
            " 'Free Practice 3']\n"
          ]
        }
      ]
    },
    {
      "cell_type": "markdown",
      "metadata": {
        "id": "NRxfd3BdHWor"
      },
      "source": [
        "We have the weather data for the month of Febraury and from the April month to August. The time ranges from 5 to 17 hours. There are four Qualifying Groups and three Free Practice events along with the eight different locations.\n",
        "\n"
      ]
    },
    {
      "cell_type": "code",
      "metadata": {
        "colab": {
          "base_uri": "https://localhost:8080/"
        },
        "id": "5tCfcgVjESEl",
        "outputId": "5ccfbb47-0058-46b2-c08c-7cb9e8f392c5"
      },
      "source": [
        "wdf[['LOCATION','EVENT']] = wdf[['LOCATION','EVENT']]\n",
        "wdf = wdf.drop(columns = ['RAIN','TIME_UTC_SECONDS', 'TIME_UTC_STR','PRESSURE'], axis=1)\n",
        "wdf.columns"
      ],
      "execution_count": 16,
      "outputs": [
        {
          "output_type": "execute_result",
          "data": {
            "text/plain": [
              "Index(['AIR_TEMP', 'TRACK_TEMP', 'HUMIDITY', 'WIND_SPEED', 'WIND_DIRECTION',\n",
              "       'LOCATION', 'EVENT', 'TIME_HOUR', 'TIME_MONTH'],\n",
              "      dtype='object')"
            ]
          },
          "metadata": {},
          "execution_count": 16
        }
      ]
    },
    {
      "cell_type": "markdown",
      "metadata": {
        "id": "ZnCGqpNbCb5x"
      },
      "source": [
        "**Training & Test Data**"
      ]
    },
    {
      "cell_type": "code",
      "metadata": {
        "colab": {
          "base_uri": "https://localhost:8080/"
        },
        "id": "_MI8fcO_syGI",
        "outputId": "e5084274-08da-48a7-c765-001ba2831b7c"
      },
      "source": [
        "#merging train & test data frames\n",
        "df = pd.concat([train, test], axis=0)\n",
        "df.shape"
      ],
      "execution_count": 17,
      "outputs": [
        {
          "output_type": "execute_result",
          "data": {
            "text/plain": [
              "(10696, 25)"
            ]
          },
          "metadata": {},
          "execution_count": 17
        }
      ]
    },
    {
      "cell_type": "markdown",
      "metadata": {
        "id": "UpXdDUocSYUX"
      },
      "source": [
        "*Let's first look at the columns with missing values, `CROSSING_FINISH_LINE_IN_PIT`, `S1`, `S2`, `S3`, `S1_LARGE`, `S2_LARGE`, `S3_LARGE`, `KPH`, `PIT_TIME`, `GROUP`, `POWER`. Since the data in `S1_LARGE`, `S2_LARGE`, `S3_LARGE` columns is also represented in different format in `S1`, `S2`, `S3`, we'll be dropping these columns.*"
      ]
    },
    {
      "cell_type": "code",
      "metadata": {
        "id": "0HnRSockySJ-"
      },
      "source": [
        "df = df.drop(['S1','S2','S3'], axis=1)"
      ],
      "execution_count": 18,
      "outputs": []
    },
    {
      "cell_type": "code",
      "metadata": {
        "colab": {
          "base_uri": "https://localhost:8080/"
        },
        "id": "ewzvcvYEZgI6",
        "outputId": "ead4cd4a-b075-447d-d1ed-d60dd4ae7a38"
      },
      "source": [
        "#number of unique values\n",
        "df.nunique()"
      ],
      "execution_count": 19,
      "outputs": [
        {
          "output_type": "execute_result",
          "data": {
            "text/plain": [
              "NUMBER                           24\n",
              "DRIVER_NUMBER                     1\n",
              "LAP_NUMBER                       31\n",
              "LAP_TIME                        161\n",
              "LAP_IMPROVEMENT                   4\n",
              "CROSSING_FINISH_LINE_IN_PIT       1\n",
              "S1_IMPROVEMENT                    4\n",
              "S2_IMPROVEMENT                    4\n",
              "S3_IMPROVEMENT                    4\n",
              "KPH                            1258\n",
              "ELAPSED                        8541\n",
              "HOUR                           9145\n",
              "S1_LARGE                       1437\n",
              "S2_LARGE                        476\n",
              "S3_LARGE                        904\n",
              "DRIVER_NAME                      24\n",
              "PIT_TIME                       1562\n",
              "GROUP                             4\n",
              "TEAM                             23\n",
              "POWER                             2\n",
              "LOCATION                          8\n",
              "EVENT                             7\n",
              "dtype: int64"
            ]
          },
          "metadata": {},
          "execution_count": 19
        }
      ]
    },
    {
      "cell_type": "code",
      "metadata": {
        "colab": {
          "base_uri": "https://localhost:8080/",
          "height": 333
        },
        "id": "GaEAJaOSsrqQ",
        "outputId": "a9aa0136-a070-4bdb-9189-45776bc0f217"
      },
      "source": [
        "df[df.S1_LARGE.isna()]"
      ],
      "execution_count": 20,
      "outputs": [
        {
          "output_type": "execute_result",
          "data": {
            "text/html": [
              "<div>\n",
              "<style scoped>\n",
              "    .dataframe tbody tr th:only-of-type {\n",
              "        vertical-align: middle;\n",
              "    }\n",
              "\n",
              "    .dataframe tbody tr th {\n",
              "        vertical-align: top;\n",
              "    }\n",
              "\n",
              "    .dataframe thead th {\n",
              "        text-align: right;\n",
              "    }\n",
              "</style>\n",
              "<table border=\"1\" class=\"dataframe\">\n",
              "  <thead>\n",
              "    <tr style=\"text-align: right;\">\n",
              "      <th></th>\n",
              "      <th>NUMBER</th>\n",
              "      <th>DRIVER_NUMBER</th>\n",
              "      <th>LAP_NUMBER</th>\n",
              "      <th>LAP_TIME</th>\n",
              "      <th>LAP_IMPROVEMENT</th>\n",
              "      <th>CROSSING_FINISH_LINE_IN_PIT</th>\n",
              "      <th>S1_IMPROVEMENT</th>\n",
              "      <th>S2_IMPROVEMENT</th>\n",
              "      <th>S3_IMPROVEMENT</th>\n",
              "      <th>KPH</th>\n",
              "      <th>ELAPSED</th>\n",
              "      <th>HOUR</th>\n",
              "      <th>S1_LARGE</th>\n",
              "      <th>S2_LARGE</th>\n",
              "      <th>S3_LARGE</th>\n",
              "      <th>DRIVER_NAME</th>\n",
              "      <th>PIT_TIME</th>\n",
              "      <th>GROUP</th>\n",
              "      <th>TEAM</th>\n",
              "      <th>POWER</th>\n",
              "      <th>LOCATION</th>\n",
              "      <th>EVENT</th>\n",
              "    </tr>\n",
              "  </thead>\n",
              "  <tbody>\n",
              "    <tr>\n",
              "      <th>5819</th>\n",
              "      <td>28</td>\n",
              "      <td>1</td>\n",
              "      <td>7</td>\n",
              "      <td>89.0</td>\n",
              "      <td>0</td>\n",
              "      <td>B</td>\n",
              "      <td>0</td>\n",
              "      <td>0</td>\n",
              "      <td>0</td>\n",
              "      <td>119.8</td>\n",
              "      <td>17:14.2</td>\n",
              "      <td>32:14.2</td>\n",
              "      <td>NaN</td>\n",
              "      <td>NaN</td>\n",
              "      <td>00:32.5</td>\n",
              "      <td>M¬úNT</td>\n",
              "      <td>NaN</td>\n",
              "      <td>NaN</td>\n",
              "      <td>BMWl</td>\n",
              "      <td>NaN</td>\n",
              "      <td>Location 3</td>\n",
              "      <td>Free Practice 2</td>\n",
              "    </tr>\n",
              "    <tr>\n",
              "      <th>6051</th>\n",
              "      <td>10</td>\n",
              "      <td>1</td>\n",
              "      <td>9</td>\n",
              "      <td>86.0</td>\n",
              "      <td>0</td>\n",
              "      <td>NaN</td>\n",
              "      <td>0</td>\n",
              "      <td>0</td>\n",
              "      <td>0</td>\n",
              "      <td>131.0</td>\n",
              "      <td>17:20.1</td>\n",
              "      <td>37:20.1</td>\n",
              "      <td>NaN</td>\n",
              "      <td>NaN</td>\n",
              "      <td>00:28.1</td>\n",
              "      <td>SB</td>\n",
              "      <td>NaN</td>\n",
              "      <td>NaN</td>\n",
              "      <td>JR</td>\n",
              "      <td>NaN</td>\n",
              "      <td>Location 3</td>\n",
              "      <td>Free Practice 1</td>\n",
              "    </tr>\n",
              "    <tr>\n",
              "      <th>8050</th>\n",
              "      <td>13</td>\n",
              "      <td>1</td>\n",
              "      <td>19</td>\n",
              "      <td>73.0</td>\n",
              "      <td>0</td>\n",
              "      <td>B</td>\n",
              "      <td>0</td>\n",
              "      <td>0</td>\n",
              "      <td>0</td>\n",
              "      <td>NaN</td>\n",
              "      <td>29:21.4</td>\n",
              "      <td>0:00</td>\n",
              "      <td>NaN</td>\n",
              "      <td>NaN</td>\n",
              "      <td>NaN</td>\n",
              "      <td>ACO</td>\n",
              "      <td>NaN</td>\n",
              "      <td>NaN</td>\n",
              "      <td>DSo</td>\n",
              "      <td>NaN</td>\n",
              "      <td>Location 6</td>\n",
              "      <td>Free Practice 1</td>\n",
              "    </tr>\n",
              "    <tr>\n",
              "      <th>8141</th>\n",
              "      <td>25</td>\n",
              "      <td>1</td>\n",
              "      <td>19</td>\n",
              "      <td>94.0</td>\n",
              "      <td>0</td>\n",
              "      <td>B</td>\n",
              "      <td>0</td>\n",
              "      <td>0</td>\n",
              "      <td>0</td>\n",
              "      <td>NaN</td>\n",
              "      <td>33:10.0</td>\n",
              "      <td>0:00</td>\n",
              "      <td>NaN</td>\n",
              "      <td>NaN</td>\n",
              "      <td>NaN</td>\n",
              "      <td>JVER</td>\n",
              "      <td>NaN</td>\n",
              "      <td>NaN</td>\n",
              "      <td>DS¬â</td>\n",
              "      <td>NaN</td>\n",
              "      <td>Location 6</td>\n",
              "      <td>Free Practice 1</td>\n",
              "    </tr>\n",
              "  </tbody>\n",
              "</table>\n",
              "</div>"
            ],
            "text/plain": [
              "      NUMBER  DRIVER_NUMBER  LAP_NUMBER  ...  POWER    LOCATION            EVENT\n",
              "5819      28              1           7  ...    NaN  Location 3  Free Practice 2\n",
              "6051      10              1           9  ...    NaN  Location 3  Free Practice 1\n",
              "8050      13              1          19  ...    NaN  Location 6  Free Practice 1\n",
              "8141      25              1          19  ...    NaN  Location 6  Free Practice 1\n",
              "\n",
              "[4 rows x 22 columns]"
            ]
          },
          "metadata": {},
          "execution_count": 20
        }
      ]
    },
    {
      "cell_type": "markdown",
      "metadata": {
        "id": "08SaAl6by58W"
      },
      "source": [
        "*Let's also remove the four rows with missing values in `S1_LARGE` in training dataset.*"
      ]
    },
    {
      "cell_type": "code",
      "metadata": {
        "id": "TBOFxKa_czBT"
      },
      "source": [
        "df = df.dropna(axis=0, subset=['S1_LARGE'])\n",
        "df = df.dropna(axis=0, subset=['S2_LARGE'])"
      ],
      "execution_count": 21,
      "outputs": []
    },
    {
      "cell_type": "code",
      "metadata": {
        "colab": {
          "base_uri": "https://localhost:8080/"
        },
        "id": "LQjT2fv_73b8",
        "outputId": "a00d4711-9f1f-4f6d-b5ba-4370c67a63fe"
      },
      "source": [
        "df['PT'] = df['PIT_TIME'].isna().map({True:0,False:1})\n",
        "df['PT'].value_counts()"
      ],
      "execution_count": 22,
      "outputs": [
        {
          "output_type": "execute_result",
          "data": {
            "text/plain": [
              "0    8635\n",
              "1    2053\n",
              "Name: PT, dtype: int64"
            ]
          },
          "metadata": {},
          "execution_count": 22
        }
      ]
    },
    {
      "cell_type": "code",
      "metadata": {
        "colab": {
          "base_uri": "https://localhost:8080/"
        },
        "id": "4U6e4yXxdwEo",
        "outputId": "65fd2fb1-3ce1-4424-b293-43c7e7a234dd"
      },
      "source": [
        "print(round(df.PIT_TIME.isna().sum()/df.shape[0]*100))"
      ],
      "execution_count": 23,
      "outputs": [
        {
          "output_type": "stream",
          "name": "stdout",
          "text": [
            "81\n"
          ]
        }
      ]
    },
    {
      "cell_type": "markdown",
      "metadata": {
        "id": "H2c3juO05x54"
      },
      "source": [
        "The `PIT_TIME` column has 81% null values, so we will discard the feature along with `CROSSING_FINISH_LINE_IN_PIT`,`POWER` & `GROUP`. The `ELAPSED` time equals to the total of the time taken to complete the three sectors for the driver. Let's convert these time columns in the format of seconds."
      ]
    },
    {
      "cell_type": "code",
      "metadata": {
        "id": "OrtQ4mrD73jj"
      },
      "source": [
        "def convert2sec(i):\n",
        "  t = i.split(':')\n",
        "  hr = int(t[0])\n",
        "  min = int(t[1].split('.')[0])\n",
        "  sec = int(t[1].split('.')[1])\n",
        "  t_seconds = (hr*60*60) + (min*60) + sec\n",
        "  return t_seconds\n",
        "\n",
        "def convert2hms(sec):\n",
        "  hr =  sec // 3600\n",
        "  sec = sec % 3600\n",
        "  min, sec = sec // 60, sec % 60\n",
        "  t = str(hr) +':'+ str(min) +'.'+ str(sec)\n",
        "  return t"
      ],
      "execution_count": 24,
      "outputs": []
    },
    {
      "cell_type": "code",
      "metadata": {
        "id": "Ouvi_amGEIKP",
        "colab": {
          "base_uri": "https://localhost:8080/",
          "height": 136
        },
        "outputId": "bdcc691d-a4b7-4d3f-ca14-0f16fbff7b07"
      },
      "source": [
        "#filling missing values in S3_LARGE\n",
        "li=[]\n",
        "for i in df['S3_LARGE'][df['S3_LARGE'].isna()].index:\n",
        "  et = convert2sec(df.iloc[i]['ELAPSED'])\n",
        "  s1 = convert2sec(df.iloc[i]['S1_LARGE'])\n",
        "  s2 = convert2sec(df.iloc[i]['S2_LARGE'])\n",
        "  s3 = et - (s1 + s2)\n",
        "  \n",
        "  s3 = convert2hms(s3)\n",
        "  li.append(s3)\n",
        "\n",
        "df.loc[df['S3_LARGE'].isna(),'S3_LARGE'] = li\n",
        "df[df.S3_LARGE == '44:33.57']"
      ],
      "execution_count": 25,
      "outputs": [
        {
          "output_type": "execute_result",
          "data": {
            "text/html": [
              "<div>\n",
              "<style scoped>\n",
              "    .dataframe tbody tr th:only-of-type {\n",
              "        vertical-align: middle;\n",
              "    }\n",
              "\n",
              "    .dataframe tbody tr th {\n",
              "        vertical-align: top;\n",
              "    }\n",
              "\n",
              "    .dataframe thead th {\n",
              "        text-align: right;\n",
              "    }\n",
              "</style>\n",
              "<table border=\"1\" class=\"dataframe\">\n",
              "  <thead>\n",
              "    <tr style=\"text-align: right;\">\n",
              "      <th></th>\n",
              "      <th>NUMBER</th>\n",
              "      <th>DRIVER_NUMBER</th>\n",
              "      <th>LAP_NUMBER</th>\n",
              "      <th>LAP_TIME</th>\n",
              "      <th>LAP_IMPROVEMENT</th>\n",
              "      <th>CROSSING_FINISH_LINE_IN_PIT</th>\n",
              "      <th>S1_IMPROVEMENT</th>\n",
              "      <th>S2_IMPROVEMENT</th>\n",
              "      <th>S3_IMPROVEMENT</th>\n",
              "      <th>KPH</th>\n",
              "      <th>ELAPSED</th>\n",
              "      <th>HOUR</th>\n",
              "      <th>S1_LARGE</th>\n",
              "      <th>S2_LARGE</th>\n",
              "      <th>S3_LARGE</th>\n",
              "      <th>DRIVER_NAME</th>\n",
              "      <th>PIT_TIME</th>\n",
              "      <th>GROUP</th>\n",
              "      <th>TEAM</th>\n",
              "      <th>POWER</th>\n",
              "      <th>LOCATION</th>\n",
              "      <th>EVENT</th>\n",
              "      <th>PT</th>\n",
              "    </tr>\n",
              "  </thead>\n",
              "  <tbody>\n",
              "    <tr>\n",
              "      <th>2479</th>\n",
              "      <td>33</td>\n",
              "      <td>1</td>\n",
              "      <td>21</td>\n",
              "      <td>89.0</td>\n",
              "      <td>0</td>\n",
              "      <td>B</td>\n",
              "      <td>0</td>\n",
              "      <td>0</td>\n",
              "      <td>0</td>\n",
              "      <td>NaN</td>\n",
              "      <td>45:37.0</td>\n",
              "      <td>0:00</td>\n",
              "      <td>00:27.3</td>\n",
              "      <td>00:36.0</td>\n",
              "      <td>44:33.57</td>\n",
              "      <td>RR</td>\n",
              "      <td>NaN</td>\n",
              "      <td>NaN</td>\n",
              "      <td>AR</td>\n",
              "      <td>NaN</td>\n",
              "      <td>Location 6</td>\n",
              "      <td>Free Practice 3</td>\n",
              "      <td>0</td>\n",
              "    </tr>\n",
              "  </tbody>\n",
              "</table>\n",
              "</div>"
            ],
            "text/plain": [
              "      NUMBER  DRIVER_NUMBER  LAP_NUMBER  ...    LOCATION            EVENT PT\n",
              "2479      33              1          21  ...  Location 6  Free Practice 3  0\n",
              "\n",
              "[1 rows x 23 columns]"
            ]
          },
          "metadata": {},
          "execution_count": 25
        }
      ]
    },
    {
      "cell_type": "code",
      "metadata": {
        "id": "QjSlBGDUa9Th"
      },
      "source": [
        "df['elapsed_sec'] = df['ELAPSED'].apply(lambda x: convert2sec(x))\n",
        "df['s1_sec'] = df['S1_LARGE'].apply(lambda x: convert2sec(x))\n",
        "df['s2_sec'] = df['S2_LARGE'].apply(lambda x: convert2sec(x))\n",
        "df['s3_sec'] = df['S3_LARGE'].apply(lambda x: convert2sec(x))\n",
        "\n",
        "df =df.reset_index(drop=True)"
      ],
      "execution_count": 26,
      "outputs": []
    },
    {
      "cell_type": "code",
      "metadata": {
        "colab": {
          "base_uri": "https://localhost:8080/"
        },
        "id": "-dreJJguk2V-",
        "outputId": "6481debe-c1fc-4be5-c6af-06ab4ef5c3bc"
      },
      "source": [
        "#fill the missing values\n",
        "kph = []\n",
        "for i in df[df.KPH.isna()].index:\n",
        "  name = df.loc[i, 'DRIVER_NAME']\n",
        "  speed = df[df.DRIVER_NAME == name]['KPH'].mean()\n",
        "  kph.append(round(speed,1))\n",
        "\n",
        "df.loc[df.KPH.isna(),'KPH'] = kph\n",
        "df.KPH.isna().sum()"
      ],
      "execution_count": 27,
      "outputs": [
        {
          "output_type": "execute_result",
          "data": {
            "text/plain": [
              "0"
            ]
          },
          "metadata": {},
          "execution_count": 27
        }
      ]
    },
    {
      "cell_type": "code",
      "metadata": {
        "id": "q4CuAj6GomfV"
      },
      "source": [
        "df['mps'] = df['KPH'] / 3.6\n",
        "df['mps'] = df['mps'].round(2)"
      ],
      "execution_count": 28,
      "outputs": []
    },
    {
      "cell_type": "code",
      "metadata": {
        "id": "0lkOmEyRjz7w"
      },
      "source": [
        "df_num = df.groupby(['NUMBER'])['mps'].agg(['mean','min','max'])\n",
        "df['num_mean'] = 0\n",
        "df['num_min'] = 0\n",
        "df['num_max'] = 0\n",
        "numbers = list(df_num.index)\n",
        "for i in numbers:\n",
        "  df.loc[df['NUMBER']== i, 'num_mean'] = df_num['mean']\n",
        "  df.loc[df['NUMBER'] == i, 'num_min'] = df_num['min']\n",
        "  df.loc[df['NUMBER'] == i, 'num_max'] = df_num['max']"
      ],
      "execution_count": 29,
      "outputs": []
    },
    {
      "cell_type": "code",
      "metadata": {
        "colab": {
          "base_uri": "https://localhost:8080/"
        },
        "id": "ZL4vwnB3qNxa",
        "outputId": "76f35b38-4cea-4b25-87f2-5bd11a494cc9"
      },
      "source": [
        "df.drop(columns=['DRIVER_NUMBER','KPH', 'ELAPSED', 'HOUR', 'S1_LARGE', 'S2_LARGE', 'S3_LARGE', 'DRIVER_NAME', \n",
        "                 'PIT_TIME','CROSSING_FINISH_LINE_IN_PIT','POWER','GROUP'],axis=1,inplace=True)\n",
        "df.columns"
      ],
      "execution_count": 30,
      "outputs": [
        {
          "output_type": "execute_result",
          "data": {
            "text/plain": [
              "Index(['NUMBER', 'LAP_NUMBER', 'LAP_TIME', 'LAP_IMPROVEMENT', 'S1_IMPROVEMENT',\n",
              "       'S2_IMPROVEMENT', 'S3_IMPROVEMENT', 'TEAM', 'LOCATION', 'EVENT', 'PT',\n",
              "       'elapsed_sec', 's1_sec', 's2_sec', 's3_sec', 'mps', 'num_mean',\n",
              "       'num_min', 'num_max'],\n",
              "      dtype='object')"
            ]
          },
          "metadata": {},
          "execution_count": 30
        }
      ]
    },
    {
      "cell_type": "markdown",
      "metadata": {
        "id": "bPkQ6V1lO-vj"
      },
      "source": [
        "## Exploratory Data Analysis & Visualization\n",
        "\n",
        "*Let's further analyze the datasets and visualize the distribution of the numerical and categorical columns.*"
      ]
    },
    {
      "cell_type": "code",
      "metadata": {
        "id": "6rbVfcwNwoQ6"
      },
      "source": [
        "#creating new columns by binning\n",
        "bins = [0,30,60,90,120]\n",
        "labels=['Less than 30','30-60','60-90','Above 90']\n",
        "wdf['HUMIDITY_BIN'] = pd.cut(wdf['HUMIDITY'], bins=bins, labels=labels, include_lowest=True)\n",
        "\n",
        "bins = [ 0, 22.5, 45, 67.5, 90, 112.5, 135, 157.5, 180, 202.5, 225, 247.5, 270, 292.5, 315, 337.5, 360 ]\n",
        "labels = ['N', 'NNE', 'NE', 'ENE', 'E', 'ESE', 'SE', 'SSE', 'S', 'SSW', 'SW','WSW', 'W', 'WNW', 'NW', 'NNW']\n",
        "wdf['WIND_DIRECTION_BIN'] = pd.cut(wdf['WIND_DIRECTION'], bins=bins, labels=labels, include_lowest=True)"
      ],
      "execution_count": 31,
      "outputs": []
    },
    {
      "cell_type": "markdown",
      "metadata": {
        "id": "IrzS0IAm6ERT"
      },
      "source": [
        "LOCATION"
      ]
    },
    {
      "cell_type": "code",
      "metadata": {
        "colab": {
          "base_uri": "https://localhost:8080/",
          "height": 590
        },
        "id": "CBt_JaLxRRkc",
        "outputId": "d0be34e8-ab97-40c9-889f-6596c8d05129"
      },
      "source": [
        "trainWLoc = train_weather.LOCATION.value_counts()\n",
        "testWLoc = test_weather.LOCATION.value_counts()\n",
        "trainLoc = train.LOCATION.value_counts()\n",
        "testLoc = test.LOCATION.value_counts()\n",
        "dataLoc = ['Train Weather Data', 'Test Weather Data','Train Data','Test Data']\n",
        "num_plots = 4\n",
        "total_cols = 2\n",
        "total_rows = num_plots // total_cols\n",
        "fig, axes = plt.subplots(nrows=total_rows, ncols=total_cols,\n",
        "                         figsize=(5*total_cols, 5*total_rows))\n",
        "\n",
        "for idx, feature in enumerate([trainWLoc, testWLoc, trainLoc, testLoc]):\n",
        "\n",
        "    row = idx // total_cols\n",
        "    pos = idx % total_cols\n",
        "    ax = axes[row][pos]\n",
        "    ax.pie(feature,  labels=feature.index, \n",
        "            autopct='%1.1f%%');\n",
        "    ax.title.set_text(dataLoc[idx]);\n"
      ],
      "execution_count": 32,
      "outputs": [
        {
          "output_type": "display_data",
          "data": {
            "image/png": "[encoded data removed]",
            "text/plain": [
              "<Figure size 720x720 with 4 Axes>"
            ]
          },
          "metadata": {}
        }
      ]
    },
    {
      "cell_type": "markdown",
      "metadata": {
        "id": "Ab5fuTTC6AKl"
      },
      "source": [
        "EVENT"
      ]
    },
    {
      "cell_type": "code",
      "metadata": {
        "colab": {
          "base_uri": "https://localhost:8080/",
          "height": 590
        },
        "id": "qXqzCRRB4HCv",
        "outputId": "61231102-9f43-463c-be0d-9d958be675c1"
      },
      "source": [
        "trainWEvent = train_weather.EVENT.value_counts()\n",
        "testWEvent = test_weather.EVENT.value_counts()\n",
        "trainEvent = train.EVENT.value_counts()\n",
        "testEvent = test.EVENT.value_counts()\n",
        "dataLoc = ['Train Weather Data', 'Test Weather Data','Train Data','Test Data']\n",
        "num_plots = 4\n",
        "total_cols = 2\n",
        "total_rows = num_plots // total_cols\n",
        "fig, axes = plt.subplots(nrows=total_rows, ncols=total_cols,\n",
        "                         figsize=(5*total_cols, 5*total_rows))\n",
        "\n",
        "for idx, feature in enumerate([trainWEvent, testWEvent, trainEvent, testEvent]):\n",
        "\n",
        "    row = idx // total_cols\n",
        "    pos = idx % total_cols\n",
        "    ax = axes[row][pos]\n",
        "    ax.pie(feature,  labels=feature.index, \n",
        "            autopct='%1.1f%%');\n",
        "    ax.title.set_text(dataLoc[idx]);"
      ],
      "execution_count": 34,
      "outputs": [
        {
          "output_type": "display_data",
          "data": {
            "image/png": "[encoded data removed]",
            "text/plain": [
              "<Figure size 720x720 with 4 Axes>"
            ]
          },
          "metadata": {}
        }
      ]
    },
    {
      "cell_type": "markdown",
      "metadata": {
        "id": "2vKLETTMEN1T"
      },
      "source": [
        "**Weather Data**"
      ]
    },
    {
      "cell_type": "markdown",
      "metadata": {
        "id": "Ebhqlu5T6IZD"
      },
      "source": [
        "TIME"
      ]
    },
    {
      "cell_type": "code",
      "metadata": {
        "colab": {
          "base_uri": "https://localhost:8080/",
          "height": 376
        },
        "id": "-dJfzvUI5M5o",
        "outputId": "520a0313-a32d-4575-c3cd-09361b030e80"
      },
      "source": [
        "\n",
        "fig,axes = plt.subplots(1,2, figsize = (14,5));\n",
        "\n",
        "fig = sns.histplot(x = train_weather['TIME_UTC_SECONDS'], ax = axes[0]);\n",
        "axes[0].title.set_text('Distribution of Time UTC (seconds) in Train');\n",
        "\n",
        "fig = sns.histplot(x = test_weather['TIME_UTC_SECONDS'], ax = axes[1]);\n",
        "axes[1].title.set_text('Distribution of Time UTC (seconds) in Test');\n",
        "\n",
        "for label in axes[0].get_xmajorticklabels() + axes[1].get_xmajorticklabels():\n",
        "    label.set_rotation(30)\n",
        "    label.set_horizontalalignment(\"right\")\n",
        "plt.show();"
      ],
      "execution_count": 35,
      "outputs": [
        {
          "output_type": "display_data",
          "data": {
            "image/png": "[encoded data removed]",
            "text/plain": [
              "<Figure size 1008x360 with 2 Axes>"
            ]
          },
          "metadata": {}
        }
      ]
    },
    {
      "cell_type": "code",
      "metadata": {
        "colab": {
          "base_uri": "https://localhost:8080/",
          "height": 610
        },
        "id": "OuE08-hiKo5U",
        "outputId": "84287471-85ee-46cc-c8eb-26752e2519b2"
      },
      "source": [
        "sns.boxplot(data=wdf, x=\"AIR_TEMP\", y='LOCATION');"
      ],
      "execution_count": 36,
      "outputs": [
        {
          "output_type": "display_data",
          "data": {
            "image/png": "[encoded data removed]",
            "text/plain": [
              "<Figure size 720x720 with 1 Axes>"
            ]
          },
          "metadata": {}
        }
      ]
    },
    {
      "cell_type": "markdown",
      "metadata": {
        "id": "BHRdNKWmgLrd"
      },
      "source": [
        "WIND ROSE CHART"
      ]
    },
    {
      "cell_type": "code",
      "metadata": {
        "colab": {
          "base_uri": "https://localhost:8080/",
          "height": 542
        },
        "id": "_hK4ghkJmbGv",
        "outputId": "ab737836-12b7-46d7-c3c0-c0c5dfa92e04"
      },
      "source": [
        "fig = px.bar_polar(wdf, r=\"WIND_SPEED\", theta=\"WIND_DIRECTION_BIN\",\n",
        "                   color=\"HUMIDITY_BIN\", template=\"plotly_dark\",\n",
        "                   color_discrete_sequence= px.colors.qualitative.Bold_r)\n",
        "fig.show()"
      ],
      "execution_count": 37,
      "outputs": [
        {
          "output_type": "display_data",
          "data": {
            "text/html": [
              "<html>\n",
              "<head><meta charset=\"utf-8\" /></head>\n",
              "<body>\n",
              "    <div>\n",
              "            <script src=\"https://cdnjs.cloudflare.com/ajax/libs/mathjax/2.7.5/MathJax.js?config=TeX-AMS-MML_SVG\"></script><script type=\"text/javascript\">if (window.MathJax) {MathJax.Hub.Config({SVG: {font: \"STIX-Web\"}});}</script>\n",
              "                <script type=\"text/javascript\">window.PlotlyConfig = {MathJaxConfig: 'local'};</script>\n",
              "        <script src=\"https://cdn.plot.ly/plotly-latest.min.js\"></script>    \n",
              "            <div id=\"f35c212c-d9f5-41b0-b818-0961b21d9053\" class=\"plotly-graph-div\" style=\"height:525px; width:100%;\"></div>\n",
              "            <script type=\"text/javascript\">\n",
              "                \n",
              "                    window.PLOTLYENV=window.PLOTLYENV || {};\n",
              "                    \n",
              "                if (document.getElementById(\"f35c212c-d9f5-41b0-b818-0961b21d9053\")) {\n",
              "                    Plotly.newPlot(\n",
              "                        'f35c212c-d9f5-41b0-b818-0961b21d9053',\n",
              "                        [{\"hoverlabel\": {\"namelength\": 0}, \"hovertemplate\": \"HUMIDITY_BIN=30-60<br>WIND_SPEED=%{r}<br>WIND_DIRECTION_BIN=%{theta}\", \"legendgroup\": \"HUMIDITY_BIN=30-60\", \"marker\": {\"color\": \"rgb(165, 170, 153)\"}, \"name\": \"HUMIDITY_BIN=30-60\", \"r\": [2.12, 1.06, 2.12, 2.12, 3.18, 2.12, 6.36, 3.18, 4.24, 4.24, 3.18, 2.12, 4.24, 1.06, 6.36, 4.24, 7.42, 2.12, 5.3, 6.36, 4.24, 2.12, 8.48, 4.24, 4.24, 4.24, 2.12, 1.06, 3.18, 2.12, 3.18, 3.18, 3.18, 2.12, 0.0, 1.06, 5.3, 2.12, 10.6, 1.06, 4.24, 1.06, 1.06, 6.36, 9.54, 3.18, 3.18, 4.24, 5.3, 3.18, 3.18, 3.18, 3.18, 4.24, 5.3, 4.24, 1.06, 5.3, 5.3, 2.12, 3.18, 5.3, 2.12, 2.12, 2.12, 1.06, 3.18, 1.06, 4.24, 2.12, 3.18, 4.24, 8.48, 5.3, 2.12, 6.36, 5.3, 3.18, 3.18, 6.36, 6.36, 3.18, 7.42, 9.54, 5.3, 2.12, 5.3, 3.18, 6.36, 4.24, 3.18, 4.24, 8.48, 3.18, 4.24, 5.3, 3.18, 10.6, 5.3, 2.12, 4.24, 1.06, 5.3, 8.48, 4.24, 3.18, 6.36, 2.12, 2.12, 4.24, 4.24, 1.06, 4.24, 4.24, 1.06, 2.12, 3.18, 1.06, 2.12, 0.0, 2.12, 4.24, 6.36, 3.18, 3.18, 7.42, 4.08, 15.5, 5.23, 4.76, 3.66, 0.0, 0.0, 11.8, 9.32, 5.63, 7.8, 14.7, 14.9, 22.3, 5.04, 8.59, 5.95, 19.1, 6.26, 1.57, 8.65, 17.1, 0.97, 2.04, 12.4, 6.5, 1.63, 0.45, 8.27, 0.0, 3.53, 2.75, 13.9, 2.54, 4.44, 9.97, 4.33, 0.0, 3.98, 9.64, 21.5, 5.21, 2.8, 8.87, 5.1, 12.0, 4.21, 2.45, 0.0, 7.47, 1.93, 2.66, 4.44, 15.4, 5.45, 7.01, 4.01, 3.74, 9.05, 5.28, 7.84, 0.0, 5.96, 1.78, 6.23, 1.75, 3.67, 0.0, 10.6, 3.16, 5.38, 4.91, 0.65, 15.6, 9.32, 14.5, 16.7, 17.4, 4.13, 11.8, 0.0, 4.91, 12.8, 9.18, 1.27, 0.0, 2.5, 20.8, 0.0, 22.3, 5.01, 12.6, 9.93, 9.9, 3.36, 17.3, 9.11, 6.18, 5.95, 9.53, 3.29], \"showlegend\": true, \"subplot\": \"polar\", \"theta\": [\"SSE\", \"SSE\", \"SE\", \"SSE\", \"SE\", \"ESE\", \"SSE\", \"SSE\", \"SSE\", \"SE\", \"SE\", \"ENE\", \"SE\", \"SE\", \"SSE\", \"ESE\", \"SE\", \"SE\", \"SSE\", \"SE\", \"SE\", \"W\", \"WSW\", \"WNW\", \"WNW\", \"WNW\", \"WNW\", \"W\", \"NW\", \"NW\", \"WNW\", \"W\", \"N\", \"N\", \"NW\", \"NW\", \"WNW\", \"NE\", \"WNW\", \"WNW\", \"WNW\", \"WNW\", \"WNW\", \"W\", \"WNW\", \"WSW\", \"WNW\", \"NW\", \"WSW\", \"WNW\", \"NW\", \"W\", \"W\", \"W\", \"WNW\", \"W\", \"W\", \"WNW\", \"W\", \"WSW\", \"W\", \"NW\", \"W\", \"NW\", \"WNW\", \"W\", \"W\", \"W\", \"NW\", \"NW\", \"NW\", \"NW\", \"NW\", \"WNW\", \"NW\", \"WNW\", \"WNW\", \"WNW\", \"WNW\", \"W\", \"NW\", \"W\", \"WNW\", \"W\", \"WNW\", \"WNW\", \"NW\", \"NNW\", \"NNW\", \"NW\", \"NW\", \"WNW\", \"NW\", \"W\", \"NNW\", \"SW\", \"NW\", \"WSW\", \"NW\", \"WNW\", \"NNW\", \"WNW\", \"NW\", \"W\", \"WNW\", \"NW\", \"WNW\", \"WNW\", \"WNW\", \"WNW\", \"WNW\", \"WNW\", \"WSW\", \"W\", \"NW\", \"NNW\", \"NW\", \"WNW\", \"W\", \"W\", \"WNW\", \"NW\", \"NW\", \"W\", \"W\", \"WNW\", \"WNW\", \"SSW\", \"W\", \"S\", \"SSW\", \"N\", \"W\", \"SSW\", \"SSW\", \"SSW\", \"SW\", \"SSW\", \"SSW\", \"SSW\", \"SSW\", \"SSW\", \"SSW\", \"SSW\", \"W\", \"SSW\", \"SSW\", \"SSW\", \"S\", \"SW\", \"SSW\", \"SW\", \"E\", \"SSE\", \"SSW\", \"S\", \"SSW\", \"SW\", \"SSW\", \"W\", \"S\", \"S\", \"SSW\", \"WSW\", \"SSW\", \"SSW\", \"SSW\", \"SSW\", \"SW\", \"SSW\", \"SSW\", \"SSW\", \"SSW\", \"SSW\", \"SSW\", \"NNE\", \"NW\", \"NNE\", \"SSW\", \"SSW\", \"WNW\", \"SSW\", \"SSW\", \"N\", \"SW\", \"SSW\", \"SSW\", \"NE\", \"N\", \"N\", \"ESE\", \"SSW\", \"SW\", \"E\", \"S\", \"ENE\", \"SSE\", \"S\", \"ESE\", \"SSW\", \"S\", \"ESE\", \"S\", \"S\", \"SSE\", \"SE\", \"SSW\", \"SE\", \"E\", \"E\", \"ENE\", \"SE\", \"NE\", \"S\", \"SSW\", \"SSW\", \"SSW\", \"SW\", \"SW\", \"SSW\", \"S\", \"SSW\", \"SSW\", \"SSW\", \"SSW\", \"SSW\", \"SW\"], \"type\": \"barpolar\"}, {\"hoverlabel\": {\"namelength\": 0}, \"hovertemplate\": \"HUMIDITY_BIN=60-90<br>WIND_SPEED=%{r}<br>WIND_DIRECTION_BIN=%{theta}\", \"legendgroup\": \"HUMIDITY_BIN=60-90\", \"marker\": {\"color\": \"rgb(249, 123, 114)\"}, \"name\": \"HUMIDITY_BIN=60-90\", \"r\": [2.12, 6.36, 3.18, 1.06, 2.12, 1.06, 2.12, 4.24, 7.42, 3.18, 3.18, 4.24, 2.12, 6.36, 4.24, 2.12, 2.12, 3.18, 1.06, 4.24, 0.0, 0.0, 1.06, 0.0, 0.0, 0.0, 0.0, 0.0, 0.0, 0.0, 0.0, 0.0, 2.12, 1.06, 2.12, 1.06, 0.0, 1.06, 0.0, 0.0, 0.0, 0.0, 0.0, 0.0, 0.0, 0.0, 0.0, 0.0, 0.0, 0.0, 0.0, 0.0, 0.0, 0.0, 0.0, 0.0, 0.0, 0.0, 0.0, 0.0, 0.0, 0.0, 2.12, 1.06, 2.12, 4.24, 1.06, 0.0, 2.12, 2.12, 2.12, 1.06, 1.06, 2.12, 0.0, 0.0, 2.12, 1.06, 2.12, 1.06, 0.0, 2.12, 2.12, 1.06, 0.0, 0.0, 1.06, 1.06, 1.06, 11.6, 11.5, 21.6, 14.5, 11.9, 17.5, 0.0, 10.0, 9.24, 8.79, 6.99, 5.87, 0.64, 0.0, 4.4, 2.12, 31.8, 1.06, 63.6, 0.0, 0.0, 0.0, 0.0, 0.0, 2.12, 0.0, 0.0, 0.0, 2.12, 2.12, 1.06, 2.12, 2.12, 1.06, 1.06, 1.06, 1.06, 0.0, 2.12, 0.0, 1.06, 2.12, 0.0, 0.0, 1.06, 1.06, 0.0, 0.0, 1.06, 1.06, 0.0, 0.0, 0.0, 0.0, 0.0, 0.0, 0.0, 1.06, 2.12, 1.06, 1.06, 5.3, 5.3, 4.24, 4.24, 5.3, 1.16, 9.54, 9.54, 63.6, 9.54, 8.48, 0.44, 0.44, 0.56, 0.0, 1.66, 2.0, 1.11, 1.14, 31.8, 2.12, 0.0, 1.06, 2.12, 2.12, 3.18, 2.12, 4.24, 4.24, 2.12, 5.3, 4.24, 4.24, 2.12, 2.12, 2.12, 5.3, 4.24, 5.3, 2.12, 4.24, 6.36, 5.3, 6.36, 4.24, 4.24, 2.12, 2.12, 5.3, 1.06, 3.18, 1.06, 5.3, 4.24, 3.18, 4.24, 4.24, 4.24, 2.12, 2.12, 4.24, 4.24, 4.24, 3.18, 2.12, 5.3, 3.18, 2.12, 8.48, 3.18, 2.12, 7.42, 3.18, 6.36, 3.18, 6.36, 1.06, 2.12, 3.18, 2.12, 3.18, 6.26, 8.29, 10.0, 5.48, 4.11, 7.06, 3.5, 11.3, 6.34, 7.25, 7.08, 0.0, 21.9, 12.4, 21.6, 8.04, 0.0, 21.8, 22.3, 21.8, 9.77, 0.0, 8.34, 13.8, 21.2, 21.6, 10.5, 5.73, 14.1, 14.5, 21.6, 12.7, 8.78, 6.1, 10.7, 14.0, 11.7, 11.0, 6.88, 13.2, 15.4, 8.4, 12.7, 14.9, 13.0, 22.4, 18.4, 21.6, 4.14, 15.2, 27.8, 11.3, 10.6, 15.5, 15.0, 21.6, 9.73, 1.23, 5.74, 2.2, 14.1, 9.2, 0.0, 8.23, 18.2, 2.19, 4.11, 9.76, 9.7, 8.92, 10.9, 5.04, 7.36, 5.66, 10.9, 10.6, 9.47, 8.15, 10.1, 7.59, 1.06, 3.18, 9.54, 3.18, 5.3, 4.24, 3.18, 4.24, 5.3, 6.36, 3.18, 3.18, 6.36, 2.12, 4.24, 8.48, 2.12, 5.3, 4.24, 2.12, 5.3, 0.0, 2.12, 1.06, 1.06, 2.12, 4.24, 3.18, 1.06, 1.06, 2.12, 0.0, 0.0, 0.0, 5.3, 2.12, 1.06, 2.12, 5.3, 3.18, 4.24, 4.24, 2.12, 5.3, 3.18, 2.12, 3.18, 1.06, 1.06, 3.18, 1.06, 2.12, 1.06, 1.06, 0.0, 0.0, 0.0, 0.0, 0.0, 0.0, 0.0, 0.0, 0.0, 0.0, 2.12, 3.18, 4.24, 1.06, 4.24, 2.12, 2.12, 6.36, 4.24, 3.18, 2.12, 2.12, 1.06, 1.06, 1.06, 6.36, 5.3, 5.3, 1.06, 0.0, 0.0, 1.06, 1.06, 1.06, 1.06, 0.0, 0.0, 0.0, 0.0, 4.24, 2.12, 1.06, 31.8, 2.12, 4.24, 31.8, 1.06, 5.3, 1.06, 4.24, 2.12, 2.12, 4.24, 4.24, 31.8, 2.12, 2.12, 2.12, 2.12, 2.12, 5.3, 2.12, 1.06, 0.0, 31.8, 1.06, 2.12, 31.8, 5.3, 5.3, 1.06, 1.06, 1.06, 1.06, 2.12, 1.06, 31.8, 31.8, 2.12, 5.3, 31.8, 5.3, 31.8, 7.42, 63.6, 63.6, 4.24, 4.24, 5.3, 1.06, 1.06, 0.0, 0.0, 1.06, 2.12, 1.06, 2.12, 2.12, 0.0, 1.06, 0.0, 0.0, 0.0, 0.0, 1.06, 0.0, 2.12, 1.06, 1.06, 2.12, 1.06, 2.12, 1.06, 2.12, 1.06, 0.0, 2.12, 0.0, 0.0, 0.0, 0.0, 0.0, 0.0, 0.0, 2.12, 1.06, 0.0, 0.0, 0.0, 1.06, 0.0, 1.06, 0.0, 2.12, 0.0, 1.06, 0.0, 0.0, 1.06, 1.06, 1.06, 0.0, 0.0, 0.0, 0.0, 0.0, 1.06, 1.06, 0.0, 2.12, 0.0, 1.06, 1.06, 1.06, 1.06, 1.06, 1.06, 0.0, 1.06, 1.06, 3.18, 1.06, 2.12, 2.12, 1.06, 2.12, 1.06, 3.18, 3.18, 1.06, 1.06, 0.0, 0.0, 0.0, 0.0, 5.3, 5.3, 4.24, 4.24, 5.3, 4.24, 5.3, 4.24, 4.24, 63.6, 5.3, 2.12, 31.8, 5.3, 4.24, 5.3, 5.3, 4.24, 7.42, 7.42, 4.24, 63.6, 5.3, 1.27, 5.3, 4.24, 4.24, 4.24, 2.12, 31.8, 5.3, 31.8, 4.24, 5.3, 2.12, 5.3, 63.6, 31.8, 1.06, 1.06, 1.06, 31.8, 63.6, 5.3, 4.24, 2.12, 2.12, 31.8, 4.24, 31.8, 31.8, 31.8, 31.8, 31.8, 4.24, 5.3, 4.24, 31.8, 5.3, 2.12, 4.24, 5.3, 4.24, 31.8, 2.12, 4.24, 7.42, 8.48, 4.24, 63.6, 4.24, 31.8, 4.24, 63.6, 31.8, 2.12, 2.12, 2.12, 31.8, 4.24, 4.24, 1.06, 2.12, 2.12, 31.8, 31.8, 1.06, 31.8, 1.06, 2.12, 31.8, 2.12, 31.8, 1.06, 2.12, 1.06, 31.8, 1.18, 10.8, 12.5, 2.28, 11.2, 8.6, 6.77, 7.58, 0.0, 6.59, 1.79, 15.9, 6.62, 0.93, 7.17, 4.57, 7.21, 14.0, 7.14, 12.8, 0.0, 12.3, 1.72, 10.3, 4.29, 0.0, 5.59, 0.0, 3.89, 11.2, 11.7, 13.7, 6.41, 1.53, 9.43, 3.56, 0.0, 7.45, 9.67, 5.4, 12.3, 2.46, 2.96, 0.78, 0.0, 0.0, 4.01, 6.67, 0.0, 1.5, 6.65, 7.2, 14.6, 0.79, 1.5, 1.47, 6.45, 10.3, 6.52, 8.65, 3.26, 0.0, 10.1, 4.08, 1.06, 2.96], \"showlegend\": true, \"subplot\": \"polar\", \"theta\": [\"SSE\", \"SE\", \"ENE\", \"SSE\", \"SE\", \"SE\", \"SE\", \"SSE\", \"E\", \"SE\", \"SE\", \"SE\", \"SSE\", \"SSE\", \"SSE\", \"E\", \"SE\", \"E\", \"S\", \"SSE\", \"ENE\", \"ENE\", \"ENE\", \"ENE\", \"ENE\", \"ENE\", \"ENE\", \"ENE\", \"ENE\", \"ENE\", \"ENE\", \"ENE\", \"ENE\", \"ENE\", \"ENE\", \"ENE\", \"ENE\", \"ENE\", \"ENE\", \"ENE\", \"ENE\", \"ENE\", \"ENE\", \"ENE\", \"ENE\", \"ENE\", \"ENE\", \"ENE\", \"ENE\", \"ENE\", \"ENE\", \"ENE\", \"ENE\", \"ENE\", \"ENE\", \"ENE\", \"ENE\", \"ENE\", \"ENE\", \"ENE\", \"ENE\", \"ENE\", \"SSE\", \"SSE\", \"SSE\", \"SSE\", \"S\", \"S\", \"S\", \"S\", \"SSE\", \"SE\", \"SSE\", \"SSE\", \"NW\", \"NW\", \"W\", \"W\", \"WSW\", \"W\", \"NNW\", \"WSW\", \"WSW\", \"WSW\", \"WNW\", \"WNW\", \"WNW\", \"SE\", \"NW\", \"NW\", \"WNW\", \"WNW\", \"WNW\", \"WNW\", \"NW\", \"WNW\", \"WNW\", \"NW\", \"WNW\", \"NE\", \"W\", \"NNE\", \"NNE\", \"E\", \"SW\", \"SW\", \"SW\", \"SSW\", \"S\", \"S\", \"S\", \"S\", \"S\", \"S\", \"S\", \"S\", \"S\", \"NE\", \"NE\", \"NE\", \"NE\", \"NE\", \"NE\", \"NE\", \"NE\", \"NE\", \"NE\", \"NE\", \"NNW\", \"SW\", \"NNW\", \"NNW\", \"NNW\", \"NNW\", \"NNW\", \"NNW\", \"NNW\", \"NNW\", \"NNW\", \"NNW\", \"NNW\", \"NNW\", \"NNW\", \"NNW\", \"NNW\", \"NNW\", \"NNW\", \"NNW\", \"NNW\", \"N\", \"SW\", \"SW\", \"SW\", \"SSW\", \"SW\", \"SW\", \"SW\", \"SSW\", \"SW\", \"SW\", \"SSW\", \"WSW\", \"SSW\", \"WSW\", \"SSW\", \"SSW\", \"SSW\", \"SSW\", \"SE\", \"SSW\", \"S\", \"SSW\", \"SW\", \"SSW\", \"SSE\", \"SE\", \"SE\", \"SSE\", \"SSE\", \"SSE\", \"S\", \"SSE\", \"ESE\", \"SSE\", \"SSE\", \"SE\", \"SSE\", \"ENE\", \"SSE\", \"SSE\", \"SSE\", \"SSE\", \"SSE\", \"SE\", \"SE\", \"SSE\", \"SE\", \"SSE\", \"SSE\", \"SSE\", \"SSW\", \"S\", \"SSE\", \"S\", \"SE\", \"SSE\", \"SSE\", \"SSE\", \"ESE\", \"S\", \"SE\", \"SSE\", \"SSE\", \"SSE\", \"ESE\", \"SE\", \"ESE\", \"S\", \"S\", \"NE\", \"SSE\", \"SSE\", \"SE\", \"SSE\", \"ESE\", \"SSE\", \"E\", \"SE\", \"ESE\", \"SSE\", \"SE\", \"N\", \"NW\", \"NNW\", \"N\", \"NW\", \"N\", \"NW\", \"ENE\", \"NNE\", \"NNW\", \"NNE\", \"ENE\", \"NE\", \"N\", \"N\", \"NNE\", \"NE\", \"N\", \"NNE\", \"NNE\", \"ESE\", \"NE\", \"NE\", \"NNE\", \"NE\", \"NNE\", \"NNW\", \"NNW\", \"NNE\", \"NNW\", \"NNW\", \"NW\", \"NW\", \"NNE\", \"NE\", \"ENE\", \"E\", \"NE\", \"NE\", \"NE\", \"ENE\", \"ENE\", \"NNE\", \"ENE\", \"ESE\", \"NNW\", \"NNW\", \"N\", \"N\", \"N\", \"NE\", \"ENE\", \"N\", \"N\", \"N\", \"NE\", \"WNW\", \"NNW\", \"NE\", \"NW\", \"NNE\", \"NW\", \"NNW\", \"NNE\", \"NW\", \"NNE\", \"NNE\", \"ENE\", \"N\", \"WNW\", \"NNW\", \"NNW\", \"N\", \"NNW\", \"N\", \"NNW\", \"NW\", \"NNW\", \"NW\", \"NNE\", \"SSE\", \"SE\", \"SE\", \"SE\", \"SE\", \"SE\", \"SE\", \"SSE\", \"SSE\", \"SE\", \"SE\", \"SE\", \"SE\", \"SE\", \"SE\", \"SE\", \"SE\", \"SE\", \"SSE\", \"SSE\", \"SE\", \"SE\", \"SE\", \"SE\", \"SE\", \"SE\", \"SSE\", \"SSW\", \"SSW\", \"SSW\", \"SSW\", \"S\", \"S\", \"S\", \"SSE\", \"SE\", \"SE\", \"SSE\", \"SSE\", \"SE\", \"SE\", \"SSE\", \"SSE\", \"SSE\", \"SE\", \"SSE\", \"SSE\", \"SSE\", \"SE\", \"SE\", \"SE\", \"SE\", \"SE\", \"SE\", \"SE\", \"SE\", \"SE\", \"SE\", \"SE\", \"SE\", \"SE\", \"SE\", \"SE\", \"SE\", \"SSE\", \"SE\", \"SE\", \"SSE\", \"SSE\", \"SSE\", \"SE\", \"SE\", \"SSE\", \"SSE\", \"N\", \"N\", \"N\", \"SW\", \"SSW\", \"SSE\", \"SSE\", \"SSE\", \"SW\", \"SSW\", \"SSW\", \"N\", \"N\", \"W\", \"W\", \"W\", \"ENE\", \"ENE\", \"ENE\", \"SE\", \"SW\", \"SSE\", \"NNE\", \"S\", \"E\", \"WSW\", \"WSW\", \"SW\", \"SSW\", \"SW\", \"NW\", \"WNW\", \"WSW\", \"SW\", \"ESE\", \"ESE\", \"S\", \"ENE\", \"ESE\", \"ESE\", \"SW\", \"S\", \"ENE\", \"ENE\", \"SW\", \"SW\", \"SW\", \"SE\", \"SW\", \"SSW\", \"SSE\", \"SSE\", \"NE\", \"E\", \"ENE\", \"ENE\", \"E\", \"ENE\", \"E\", \"SSW\", \"SW\", \"SW\", \"S\", \"W\", \"SSW\", \"SW\", \"SSW\", \"SW\", \"SSW\", \"NE\", \"NE\", \"NE\", \"NE\", \"NW\", \"NW\", \"NW\", \"WNW\", \"WNW\", \"WNW\", \"WNW\", \"WNW\", \"WNW\", \"NW\", \"NW\", \"NW\", \"NW\", \"NW\", \"NW\", \"NNW\", \"N\", \"N\", \"N\", \"N\", \"NNE\", \"NNE\", \"NNE\", \"N\", \"NNE\", \"NNE\", \"NNE\", \"NNE\", \"NNE\", \"NNE\", \"NNE\", \"NNE\", \"NNE\", \"N\", \"N\", \"N\", \"N\", \"N\", \"N\", \"N\", \"N\", \"N\", \"NNW\", \"NNW\", \"NNW\", \"NNW\", \"NNW\", \"NNW\", \"NNW\", \"NNW\", \"NNW\", \"NNW\", \"NNW\", \"NNW\", \"N\", \"N\", \"NNE\", \"NNE\", \"NNW\", \"NNW\", \"NE\", \"NNE\", \"NNE\", \"NNE\", \"NNE\", \"NNE\", \"NNE\", \"NNE\", \"NNW\", \"NW\", \"NNE\", \"NNE\", \"NNE\", \"NNE\", \"NNE\", \"NE\", \"NE\", \"NE\", \"NNE\", \"NNE\", \"NNE\", \"NNE\", \"N\", \"N\", \"N\", \"N\", \"NNW\", \"NNW\", \"N\", \"NW\", \"NNW\", \"NNE\", \"N\", \"N\", \"N\", \"NNE\", \"NNW\", \"NNW\", \"N\", \"N\", \"N\", \"N\", \"NNW\", \"NNW\", \"N\", \"N\", \"N\", \"NNW\", \"NNW\", \"NNW\", \"N\", \"NNW\", \"N\", \"N\", \"WNW\", \"NW\", \"N\", \"NNW\", \"NNW\", \"NNW\", \"N\", \"N\", \"NNW\", \"NW\", \"NNW\", \"NW\", \"NW\", \"N\", \"NNW\", \"N\", \"N\", \"N\", \"NNE\", \"N\", \"N\", \"NNW\", \"N\", \"NNW\", \"NNW\", \"NNW\", \"NNW\", \"N\", \"NNE\", \"NNW\", \"NNW\", \"NNW\", \"NNW\", \"NNE\", \"N\", \"NNW\", \"NW\", \"NNW\", \"NW\", \"N\", \"NNW\", \"NNE\", \"N\", \"N\", \"N\", \"NNE\", \"NNE\", \"NNW\", \"NNW\", \"NNW\", \"N\", \"N\", \"NW\", \"NNW\", \"N\", \"ENE\", \"NNE\", \"N\", \"NNW\", \"NNW\", \"NW\", \"N\", \"N\", \"NW\", \"NW\", \"SSW\", \"SSW\", \"S\", \"S\", \"SSW\", \"SSW\", \"SSW\", \"SSW\", \"SSW\", \"S\", \"S\", \"SSW\", \"SSW\", \"S\", \"S\", \"SSW\", \"SSW\", \"SSW\", \"SSW\", \"SSW\", \"SSE\", \"S\", \"S\", \"SSW\", \"SW\", \"SW\", \"SW\", \"WSW\", \"SSW\", \"S\", \"S\", \"ESE\", \"E\", \"ENE\", \"SSE\", \"NNE\", \"NNW\", \"SSW\", \"NE\", \"NNE\", \"NNE\", \"E\", \"SSE\", \"NNE\", \"SW\", \"NE\", \"W\", \"NNE\", \"W\", \"ENE\", \"NE\", \"NNE\", \"NE\", \"NNE\", \"NE\", \"SSW\", \"S\", \"NE\", \"ENE\", \"NE\", \"ENE\", \"SE\", \"SE\", \"ENE\", \"NE\", \"ENE\"], \"type\": \"barpolar\"}, {\"hoverlabel\": {\"namelength\": 0}, \"hovertemplate\": \"HUMIDITY_BIN=Less than 30<br>WIND_SPEED=%{r}<br>WIND_DIRECTION_BIN=%{theta}\", \"legendgroup\": \"HUMIDITY_BIN=Less than 30\", \"marker\": {\"color\": \"rgb(207, 28, 144)\"}, \"name\": \"HUMIDITY_BIN=Less than 30\", \"r\": [1.06, 1.06, 1.06, 2.12, 1.06, 2.12, 5.3, 2.12, 2.12, 3.18, 3.18, 1.06, 2.12, 2.12, 6.36, 4.24, 2.12, 1.06, 2.12, 2.12, 5.3, 2.12, 4.24, 5.3, 2.12, 2.12, 2.12, 2.12, 0.0, 3.18, 3.18, 2.12, 3.18, 1.06, 1.06, 0.0, 0.0], \"showlegend\": true, \"subplot\": \"polar\", \"theta\": [\"NW\", \"WNW\", \"ESE\", \"NE\", \"NNW\", \"N\", \"WNW\", \"W\", \"W\", \"NNW\", \"W\", \"WNW\", \"WNW\", \"WNW\", \"NE\", \"N\", \"N\", \"NNW\", \"NNE\", \"NE\", \"NNW\", \"W\", \"WNW\", \"NNE\", \"NE\", \"W\", \"WNW\", \"E\", \"ENE\", \"ENE\", \"NNW\", \"NE\", \"NNE\", \"E\", \"NE\", \"NE\", \"ENE\"], \"type\": \"barpolar\"}, {\"hoverlabel\": {\"namelength\": 0}, \"hovertemplate\": \"HUMIDITY_BIN=Above 90<br>WIND_SPEED=%{r}<br>WIND_DIRECTION_BIN=%{theta}\", \"legendgroup\": \"HUMIDITY_BIN=Above 90\", \"marker\": {\"color\": \"rgb(0, 134, 149)\"}, \"name\": \"HUMIDITY_BIN=Above 90\", \"r\": [0.0, 0.0, 0.0, 0.0, 0.0, 0.0, 0.0, 0.0, 0.0, 0.0, 0.0, 0.0, 0.0, 0.0, 0.0, 0.0, 0.0, 0.0, 0.0, 0.0, 0.0, 0.0, 0.0, 0.0, 0.0, 0.0, 0.0, 0.0, 0.0, 0.0, 0.0, 0.0, 0.0, 0.0, 0.0, 0.0, 0.0, 0.0, 0.0, 0.0, 0.0, 0.0, 4.31, 13.0, 3.54, 5.01, 4.62, 4.06, 4.56, 3.57, 3.23, 7.88, 2.78, 5.49, 7.35, 0.72, 1.29, 1.69, 22.2, 13.7, 9.52, 2.07, 12.2, 16.2, 10.0, 0.0, 0.0, 0.0, 0.0, 0.0, 0.0, 0.0, 0.0, 0.0, 0.0, 0.0, 0.0, 0.0, 0.0, 0.0, 0.0, 0.0, 31.8, 31.8, 1.06, 31.8, 31.8, 2.12, 2.12, 1.06, 0.0, 1.06, 2.12, 0.0, 1.06, 0.0, 2.12, 2.12, 0.0, 0.0, 0.0, 0.0, 0.0, 1.06, 0.0, 0.0, 0.0, 0.0, 0.0, 0.0, 2.12, 2.12, 31.8, 4.24], \"showlegend\": true, \"subplot\": \"polar\", \"theta\": [\"NW\", \"NW\", \"NW\", \"NW\", \"NW\", \"NW\", \"NW\", \"NW\", \"NW\", \"NW\", \"NW\", \"NW\", \"NW\", \"NW\", \"NW\", \"NW\", \"NW\", \"NW\", \"NW\", \"NW\", \"NW\", \"NW\", \"NW\", \"NW\", \"NW\", \"NW\", \"NW\", \"NW\", \"NW\", \"NW\", \"NW\", \"NW\", \"NW\", \"NW\", \"NW\", \"NW\", \"NW\", \"NW\", \"NW\", \"NW\", \"NW\", \"NW\", \"N\", \"NW\", \"NW\", \"N\", \"ENE\", \"E\", \"NNW\", \"N\", \"NNE\", \"ENE\", \"NE\", \"NNE\", \"WNW\", \"NNW\", \"WNW\", \"E\", \"NNW\", \"WNW\", \"NNE\", \"NNE\", \"NW\", \"NNW\", \"NNE\", \"E\", \"E\", \"E\", \"E\", \"ENE\", \"ENE\", \"ENE\", \"ENE\", \"ENE\", \"ENE\", \"ENE\", \"ENE\", \"ENE\", \"ENE\", \"ENE\", \"ENE\", \"ENE\", \"ENE\", \"ENE\", \"ENE\", \"ENE\", \"ENE\", \"ENE\", \"NE\", \"NE\", \"NE\", \"NE\", \"NE\", \"NE\", \"NE\", \"NE\", \"NE\", \"NE\", \"NE\", \"NE\", \"NE\", \"NE\", \"NE\", \"NE\", \"NE\", \"NE\", \"NE\", \"NE\", \"NE\", \"NE\", \"NE\", \"NE\", \"E\", \"E\"], \"type\": \"barpolar\"}],\n",
              "                        {\"barmode\": \"relative\", \"legend\": {\"tracegroupgap\": 0}, \"margin\": {\"t\": 60}, \"polar\": {\"angularaxis\": {\"direction\": \"clockwise\", \"rotation\": 90}, \"domain\": {\"x\": [0.0, 1.0], \"y\": [0.0, 1.0]}}, \"template\": {\"data\": {\"bar\": [{\"error_x\": {\"color\": \"#f2f5fa\"}, \"error_y\": {\"color\": \"#f2f5fa\"}, \"marker\": {\"line\": {\"color\": \"rgb(17,17,17)\", \"width\": 0.5}}, \"type\": \"bar\"}], \"barpolar\": [{\"marker\": {\"line\": {\"color\": \"rgb(17,17,17)\", \"width\": 0.5}}, \"type\": \"barpolar\"}], \"carpet\": [{\"aaxis\": {\"endlinecolor\": \"#A2B1C6\", \"gridcolor\": \"#506784\", \"linecolor\": \"#506784\", \"minorgridcolor\": \"#506784\", \"startlinecolor\": \"#A2B1C6\"}, \"baxis\": {\"endlinecolor\": \"#A2B1C6\", \"gridcolor\": \"#506784\", \"linecolor\": \"#506784\", \"minorgridcolor\": \"#506784\", \"startlinecolor\": \"#A2B1C6\"}, \"type\": \"carpet\"}], \"choropleth\": [{\"colorbar\": {\"outlinewidth\": 0, \"ticks\": \"\"}, \"type\": \"choropleth\"}], \"contour\": [{\"colorbar\": {\"outlinewidth\": 0, \"ticks\": \"\"}, \"colorscale\": [[0.0, \"#0d0887\"], [0.1111111111111111, \"#46039f\"], [0.2222222222222222, \"#7201a8\"], [0.3333333333333333, \"#9c179e\"], [0.4444444444444444, \"#bd3786\"], [0.5555555555555556, \"#d8576b\"], [0.6666666666666666, \"#ed7953\"], [0.7777777777777778, \"#fb9f3a\"], [0.8888888888888888, \"#fdca26\"], [1.0, \"#f0f921\"]], \"type\": \"contour\"}], \"contourcarpet\": [{\"colorbar\": {\"outlinewidth\": 0, \"ticks\": \"\"}, \"type\": \"contourcarpet\"}], \"heatmap\": [{\"colorbar\": {\"outlinewidth\": 0, \"ticks\": \"\"}, \"colorscale\": [[0.0, \"#0d0887\"], [0.1111111111111111, \"#46039f\"], [0.2222222222222222, \"#7201a8\"], [0.3333333333333333, \"#9c179e\"], [0.4444444444444444, \"#bd3786\"], [0.5555555555555556, \"#d8576b\"], [0.6666666666666666, \"#ed7953\"], [0.7777777777777778, \"#fb9f3a\"], [0.8888888888888888, \"#fdca26\"], [1.0, \"#f0f921\"]], \"type\": \"heatmap\"}], \"heatmapgl\": [{\"colorbar\": {\"outlinewidth\": 0, \"ticks\": \"\"}, \"colorscale\": [[0.0, \"#0d0887\"], [0.1111111111111111, \"#46039f\"], [0.2222222222222222, \"#7201a8\"], [0.3333333333333333, \"#9c179e\"], [0.4444444444444444, \"#bd3786\"], [0.5555555555555556, \"#d8576b\"], [0.6666666666666666, \"#ed7953\"], [0.7777777777777778, \"#fb9f3a\"], [0.8888888888888888, \"#fdca26\"], [1.0, \"#f0f921\"]], \"type\": \"heatmapgl\"}], \"histogram\": [{\"marker\": {\"colorbar\": {\"outlinewidth\": 0, \"ticks\": \"\"}}, \"type\": \"histogram\"}], \"histogram2d\": [{\"colorbar\": {\"outlinewidth\": 0, \"ticks\": \"\"}, \"colorscale\": [[0.0, \"#0d0887\"], [0.1111111111111111, \"#46039f\"], [0.2222222222222222, \"#7201a8\"], [0.3333333333333333, \"#9c179e\"], [0.4444444444444444, \"#bd3786\"], [0.5555555555555556, \"#d8576b\"], [0.6666666666666666, \"#ed7953\"], [0.7777777777777778, \"#fb9f3a\"], [0.8888888888888888, \"#fdca26\"], [1.0, \"#f0f921\"]], \"type\": \"histogram2d\"}], \"histogram2dcontour\": [{\"colorbar\": {\"outlinewidth\": 0, \"ticks\": \"\"}, \"colorscale\": [[0.0, \"#0d0887\"], [0.1111111111111111, \"#46039f\"], [0.2222222222222222, \"#7201a8\"], [0.3333333333333333, \"#9c179e\"], [0.4444444444444444, \"#bd3786\"], [0.5555555555555556, \"#d8576b\"], [0.6666666666666666, \"#ed7953\"], [0.7777777777777778, \"#fb9f3a\"], [0.8888888888888888, \"#fdca26\"], [1.0, \"#f0f921\"]], \"type\": \"histogram2dcontour\"}], \"mesh3d\": [{\"colorbar\": {\"outlinewidth\": 0, \"ticks\": \"\"}, \"type\": \"mesh3d\"}], \"parcoords\": [{\"line\": {\"colorbar\": {\"outlinewidth\": 0, \"ticks\": \"\"}}, \"type\": \"parcoords\"}], \"pie\": [{\"automargin\": true, \"type\": \"pie\"}], \"scatter\": [{\"marker\": {\"line\": {\"color\": \"#283442\"}}, \"type\": \"scatter\"}], \"scatter3d\": [{\"line\": {\"colorbar\": {\"outlinewidth\": 0, \"ticks\": \"\"}}, \"marker\": {\"colorbar\": {\"outlinewidth\": 0, \"ticks\": \"\"}}, \"type\": \"scatter3d\"}], \"scattercarpet\": [{\"marker\": {\"colorbar\": {\"outlinewidth\": 0, \"ticks\": \"\"}}, \"type\": \"scattercarpet\"}], \"scattergeo\": [{\"marker\": {\"colorbar\": {\"outlinewidth\": 0, \"ticks\": \"\"}}, \"type\": \"scattergeo\"}], \"scattergl\": [{\"marker\": {\"line\": {\"color\": \"#283442\"}}, \"type\": \"scattergl\"}], \"scattermapbox\": [{\"marker\": {\"colorbar\": {\"outlinewidth\": 0, \"ticks\": \"\"}}, \"type\": \"scattermapbox\"}], \"scatterpolar\": [{\"marker\": {\"colorbar\": {\"outlinewidth\": 0, \"ticks\": \"\"}}, \"type\": \"scatterpolar\"}], \"scatterpolargl\": [{\"marker\": {\"colorbar\": {\"outlinewidth\": 0, \"ticks\": \"\"}}, \"type\": \"scatterpolargl\"}], \"scatterternary\": [{\"marker\": {\"colorbar\": {\"outlinewidth\": 0, \"ticks\": \"\"}}, \"type\": \"scatterternary\"}], \"surface\": [{\"colorbar\": {\"outlinewidth\": 0, \"ticks\": \"\"}, \"colorscale\": [[0.0, \"#0d0887\"], [0.1111111111111111, \"#46039f\"], [0.2222222222222222, \"#7201a8\"], [0.3333333333333333, \"#9c179e\"], [0.4444444444444444, \"#bd3786\"], [0.5555555555555556, \"#d8576b\"], [0.6666666666666666, \"#ed7953\"], [0.7777777777777778, \"#fb9f3a\"], [0.8888888888888888, \"#fdca26\"], [1.0, \"#f0f921\"]], \"type\": \"surface\"}], \"table\": [{\"cells\": {\"fill\": {\"color\": \"#506784\"}, \"line\": {\"color\": \"rgb(17,17,17)\"}}, \"header\": {\"fill\": {\"color\": \"#2a3f5f\"}, \"line\": {\"color\": \"rgb(17,17,17)\"}}, \"type\": \"table\"}]}, \"layout\": {\"annotationdefaults\": {\"arrowcolor\": \"#f2f5fa\", \"arrowhead\": 0, \"arrowwidth\": 1}, \"coloraxis\": {\"colorbar\": {\"outlinewidth\": 0, \"ticks\": \"\"}}, \"colorscale\": {\"diverging\": [[0, \"#8e0152\"], [0.1, \"#c51b7d\"], [0.2, \"#de77ae\"], [0.3, \"#f1b6da\"], [0.4, \"#fde0ef\"], [0.5, \"#f7f7f7\"], [0.6, \"#e6f5d0\"], [0.7, \"#b8e186\"], [0.8, \"#7fbc41\"], [0.9, \"#4d9221\"], [1, \"#276419\"]], \"sequential\": [[0.0, \"#0d0887\"], [0.1111111111111111, \"#46039f\"], [0.2222222222222222, \"#7201a8\"], [0.3333333333333333, \"#9c179e\"], [0.4444444444444444, \"#bd3786\"], [0.5555555555555556, \"#d8576b\"], [0.6666666666666666, \"#ed7953\"], [0.7777777777777778, \"#fb9f3a\"], [0.8888888888888888, \"#fdca26\"], [1.0, \"#f0f921\"]], \"sequentialminus\": [[0.0, \"#0d0887\"], [0.1111111111111111, \"#46039f\"], [0.2222222222222222, \"#7201a8\"], [0.3333333333333333, \"#9c179e\"], [0.4444444444444444, \"#bd3786\"], [0.5555555555555556, \"#d8576b\"], [0.6666666666666666, \"#ed7953\"], [0.7777777777777778, \"#fb9f3a\"], [0.8888888888888888, \"#fdca26\"], [1.0, \"#f0f921\"]]}, \"colorway\": [\"#636efa\", \"#EF553B\", \"#00cc96\", \"#ab63fa\", \"#FFA15A\", \"#19d3f3\", \"#FF6692\", \"#B6E880\", \"#FF97FF\", \"#FECB52\"], \"font\": {\"color\": \"#f2f5fa\"}, \"geo\": {\"bgcolor\": \"rgb(17,17,17)\", \"lakecolor\": \"rgb(17,17,17)\", \"landcolor\": \"rgb(17,17,17)\", \"showlakes\": true, \"showland\": true, \"subunitcolor\": \"#506784\"}, \"hoverlabel\": {\"align\": \"left\"}, \"hovermode\": \"closest\", \"mapbox\": {\"style\": \"dark\"}, \"paper_bgcolor\": \"rgb(17,17,17)\", \"plot_bgcolor\": \"rgb(17,17,17)\", \"polar\": {\"angularaxis\": {\"gridcolor\": \"#506784\", \"linecolor\": \"#506784\", \"ticks\": \"\"}, \"bgcolor\": \"rgb(17,17,17)\", \"radialaxis\": {\"gridcolor\": \"#506784\", \"linecolor\": \"#506784\", \"ticks\": \"\"}}, \"scene\": {\"xaxis\": {\"backgroundcolor\": \"rgb(17,17,17)\", \"gridcolor\": \"#506784\", \"gridwidth\": 2, \"linecolor\": \"#506784\", \"showbackground\": true, \"ticks\": \"\", \"zerolinecolor\": \"#C8D4E3\"}, \"yaxis\": {\"backgroundcolor\": \"rgb(17,17,17)\", \"gridcolor\": \"#506784\", \"gridwidth\": 2, \"linecolor\": \"#506784\", \"showbackground\": true, \"ticks\": \"\", \"zerolinecolor\": \"#C8D4E3\"}, \"zaxis\": {\"backgroundcolor\": \"rgb(17,17,17)\", \"gridcolor\": \"#506784\", \"gridwidth\": 2, \"linecolor\": \"#506784\", \"showbackground\": true, \"ticks\": \"\", \"zerolinecolor\": \"#C8D4E3\"}}, \"shapedefaults\": {\"line\": {\"color\": \"#f2f5fa\"}}, \"sliderdefaults\": {\"bgcolor\": \"#C8D4E3\", \"bordercolor\": \"rgb(17,17,17)\", \"borderwidth\": 1, \"tickwidth\": 0}, \"ternary\": {\"aaxis\": {\"gridcolor\": \"#506784\", \"linecolor\": \"#506784\", \"ticks\": \"\"}, \"baxis\": {\"gridcolor\": \"#506784\", \"linecolor\": \"#506784\", \"ticks\": \"\"}, \"bgcolor\": \"rgb(17,17,17)\", \"caxis\": {\"gridcolor\": \"#506784\", \"linecolor\": \"#506784\", \"ticks\": \"\"}}, \"title\": {\"x\": 0.05}, \"updatemenudefaults\": {\"bgcolor\": \"#506784\", \"borderwidth\": 0}, \"xaxis\": {\"automargin\": true, \"gridcolor\": \"#283442\", \"linecolor\": \"#506784\", \"ticks\": \"\", \"title\": {\"standoff\": 15}, \"zerolinecolor\": \"#283442\", \"zerolinewidth\": 2}, \"yaxis\": {\"automargin\": true, \"gridcolor\": \"#283442\", \"linecolor\": \"#506784\", \"ticks\": \"\", \"title\": {\"standoff\": 15}, \"zerolinecolor\": \"#283442\", \"zerolinewidth\": 2}}}},\n",
              "                        {\"responsive\": true}\n",
              "                    ).then(function(){\n",
              "                            \n",
              "var gd = document.getElementById('f35c212c-d9f5-41b0-b818-0961b21d9053');\n",
              "var x = new MutationObserver(function (mutations, observer) {{\n",
              "        var display = window.getComputedStyle(gd).display;\n",
              "        if (!display || display === 'none') {{\n",
              "            console.log([gd, 'removed!']);\n",
              "            Plotly.purge(gd);\n",
              "            observer.disconnect();\n",
              "        }}\n",
              "}});\n",
              "\n",
              "// Listen for the removal of the full notebook cells\n",
              "var notebookContainer = gd.closest('#notebook-container');\n",
              "if (notebookContainer) {{\n",
              "    x.observe(notebookContainer, {childList: true});\n",
              "}}\n",
              "\n",
              "// Listen for the clearing of the current output cell\n",
              "var outputEl = gd.closest('.output');\n",
              "if (outputEl) {{\n",
              "    x.observe(outputEl, {childList: true});\n",
              "}}\n",
              "\n",
              "                        })\n",
              "                };\n",
              "                \n",
              "            </script>\n",
              "        </div>\n",
              "</body>\n",
              "</html>"
            ]
          },
          "metadata": {}
        }
      ]
    },
    {
      "cell_type": "markdown",
      "metadata": {
        "id": "uoy6g54eR-R6"
      },
      "source": [
        "AIR TEMPERATURE"
      ]
    },
    {
      "cell_type": "code",
      "metadata": {
        "id": "zB7JXFiWR-A6",
        "colab": {
          "base_uri": "https://localhost:8080/",
          "height": 610
        },
        "outputId": "7fc61355-33a1-494a-d08f-4c737b08f029"
      },
      "source": [
        "sns.scatterplot(x = wdf['TIME_HOUR'], y = wdf['AIR_TEMP'], hue=wdf['LOCATION']);"
      ],
      "execution_count": 38,
      "outputs": [
        {
          "output_type": "display_data",
          "data": {
            "image/png": "[encoded data removed]",
            "text/plain": [
              "<Figure size 720x720 with 1 Axes>"
            ]
          },
          "metadata": {}
        }
      ]
    },
    {
      "cell_type": "markdown",
      "metadata": {
        "id": "eCgHmfaIorbz"
      },
      "source": [
        "## Baseline Model"
      ]
    },
    {
      "cell_type": "code",
      "metadata": {
        "id": "ZaH_ez7qo1n9",
        "colab": {
          "base_uri": "https://localhost:8080/",
          "height": 522
        },
        "outputId": "98378855-64aa-434c-e5fd-dfa1880da6d0"
      },
      "source": [
        "left=wdf.groupby(['LOCATION']).agg(['mean','median','min','max'])\n",
        "left"
      ],
      "execution_count": 39,
      "outputs": [
        {
          "output_type": "execute_result",
          "data": {
            "text/html": [
              "<div>\n",
              "<style scoped>\n",
              "    .dataframe tbody tr th:only-of-type {\n",
              "        vertical-align: middle;\n",
              "    }\n",
              "\n",
              "    .dataframe tbody tr th {\n",
              "        vertical-align: top;\n",
              "    }\n",
              "\n",
              "    .dataframe thead tr th {\n",
              "        text-align: left;\n",
              "    }\n",
              "\n",
              "    .dataframe thead tr:last-of-type th {\n",
              "        text-align: right;\n",
              "    }\n",
              "</style>\n",
              "<table border=\"1\" class=\"dataframe\">\n",
              "  <thead>\n",
              "    <tr>\n",
              "      <th></th>\n",
              "      <th colspan=\"4\" halign=\"left\">AIR_TEMP</th>\n",
              "      <th colspan=\"4\" halign=\"left\">TRACK_TEMP</th>\n",
              "      <th colspan=\"4\" halign=\"left\">HUMIDITY</th>\n",
              "      <th colspan=\"4\" halign=\"left\">WIND_SPEED</th>\n",
              "      <th colspan=\"4\" halign=\"left\">WIND_DIRECTION</th>\n",
              "      <th colspan=\"4\" halign=\"left\">TIME_HOUR</th>\n",
              "      <th colspan=\"4\" halign=\"left\">TIME_MONTH</th>\n",
              "    </tr>\n",
              "    <tr>\n",
              "      <th></th>\n",
              "      <th>mean</th>\n",
              "      <th>median</th>\n",
              "      <th>min</th>\n",
              "      <th>max</th>\n",
              "      <th>mean</th>\n",
              "      <th>median</th>\n",
              "      <th>min</th>\n",
              "      <th>max</th>\n",
              "      <th>mean</th>\n",
              "      <th>median</th>\n",
              "      <th>min</th>\n",
              "      <th>max</th>\n",
              "      <th>mean</th>\n",
              "      <th>median</th>\n",
              "      <th>min</th>\n",
              "      <th>max</th>\n",
              "      <th>mean</th>\n",
              "      <th>median</th>\n",
              "      <th>min</th>\n",
              "      <th>max</th>\n",
              "      <th>mean</th>\n",
              "      <th>median</th>\n",
              "      <th>min</th>\n",
              "      <th>max</th>\n",
              "      <th>mean</th>\n",
              "      <th>median</th>\n",
              "      <th>min</th>\n",
              "      <th>max</th>\n",
              "    </tr>\n",
              "    <tr>\n",
              "      <th>LOCATION</th>\n",
              "      <th></th>\n",
              "      <th></th>\n",
              "      <th></th>\n",
              "      <th></th>\n",
              "      <th></th>\n",
              "      <th></th>\n",
              "      <th></th>\n",
              "      <th></th>\n",
              "      <th></th>\n",
              "      <th></th>\n",
              "      <th></th>\n",
              "      <th></th>\n",
              "      <th></th>\n",
              "      <th></th>\n",
              "      <th></th>\n",
              "      <th></th>\n",
              "      <th></th>\n",
              "      <th></th>\n",
              "      <th></th>\n",
              "      <th></th>\n",
              "      <th></th>\n",
              "      <th></th>\n",
              "      <th></th>\n",
              "      <th></th>\n",
              "      <th></th>\n",
              "      <th></th>\n",
              "      <th></th>\n",
              "      <th></th>\n",
              "    </tr>\n",
              "  </thead>\n",
              "  <tbody>\n",
              "    <tr>\n",
              "      <th>Location 1</th>\n",
              "      <td>20.612676</td>\n",
              "      <td>21.55</td>\n",
              "      <td>17.20</td>\n",
              "      <td>23.0</td>\n",
              "      <td>28.434507</td>\n",
              "      <td>29.10</td>\n",
              "      <td>19.0</td>\n",
              "      <td>35.1</td>\n",
              "      <td>35.802817</td>\n",
              "      <td>33.0</td>\n",
              "      <td>29.0</td>\n",
              "      <td>45.0</td>\n",
              "      <td>3.500986</td>\n",
              "      <td>3.18</td>\n",
              "      <td>0.0</td>\n",
              "      <td>10.60</td>\n",
              "      <td>265.690141</td>\n",
              "      <td>297.5</td>\n",
              "      <td>5</td>\n",
              "      <td>355</td>\n",
              "      <td>12.514085</td>\n",
              "      <td>13</td>\n",
              "      <td>10</td>\n",
              "      <td>15</td>\n",
              "      <td>2</td>\n",
              "      <td>2</td>\n",
              "      <td>2</td>\n",
              "      <td>2</td>\n",
              "    </tr>\n",
              "    <tr>\n",
              "      <th>Location 2</th>\n",
              "      <td>12.935828</td>\n",
              "      <td>12.90</td>\n",
              "      <td>9.77</td>\n",
              "      <td>15.3</td>\n",
              "      <td>14.193377</td>\n",
              "      <td>12.00</td>\n",
              "      <td>10.2</td>\n",
              "      <td>21.0</td>\n",
              "      <td>65.695364</td>\n",
              "      <td>65.0</td>\n",
              "      <td>60.0</td>\n",
              "      <td>78.0</td>\n",
              "      <td>2.527152</td>\n",
              "      <td>2.12</td>\n",
              "      <td>0.0</td>\n",
              "      <td>8.48</td>\n",
              "      <td>133.430464</td>\n",
              "      <td>149.0</td>\n",
              "      <td>56</td>\n",
              "      <td>208</td>\n",
              "      <td>6.761589</td>\n",
              "      <td>6</td>\n",
              "      <td>5</td>\n",
              "      <td>10</td>\n",
              "      <td>4</td>\n",
              "      <td>4</td>\n",
              "      <td>4</td>\n",
              "      <td>4</td>\n",
              "    </tr>\n",
              "    <tr>\n",
              "      <th>Location 3</th>\n",
              "      <td>13.173239</td>\n",
              "      <td>13.00</td>\n",
              "      <td>12.20</td>\n",
              "      <td>14.7</td>\n",
              "      <td>14.017606</td>\n",
              "      <td>14.25</td>\n",
              "      <td>11.9</td>\n",
              "      <td>17.3</td>\n",
              "      <td>85.394366</td>\n",
              "      <td>85.0</td>\n",
              "      <td>78.0</td>\n",
              "      <td>93.0</td>\n",
              "      <td>0.619577</td>\n",
              "      <td>0.00</td>\n",
              "      <td>0.0</td>\n",
              "      <td>3.18</td>\n",
              "      <td>213.239437</td>\n",
              "      <td>312.0</td>\n",
              "      <td>5</td>\n",
              "      <td>360</td>\n",
              "      <td>6.464789</td>\n",
              "      <td>6</td>\n",
              "      <td>5</td>\n",
              "      <td>9</td>\n",
              "      <td>4</td>\n",
              "      <td>4</td>\n",
              "      <td>4</td>\n",
              "      <td>4</td>\n",
              "    </tr>\n",
              "    <tr>\n",
              "      <th>Location 4</th>\n",
              "      <td>18.694681</td>\n",
              "      <td>18.70</td>\n",
              "      <td>16.60</td>\n",
              "      <td>20.6</td>\n",
              "      <td>23.247872</td>\n",
              "      <td>20.90</td>\n",
              "      <td>16.4</td>\n",
              "      <td>35.7</td>\n",
              "      <td>70.478723</td>\n",
              "      <td>70.0</td>\n",
              "      <td>64.0</td>\n",
              "      <td>78.0</td>\n",
              "      <td>2.458298</td>\n",
              "      <td>2.12</td>\n",
              "      <td>0.0</td>\n",
              "      <td>9.54</td>\n",
              "      <td>155.861702</td>\n",
              "      <td>155.0</td>\n",
              "      <td>5</td>\n",
              "      <td>273</td>\n",
              "      <td>7.617021</td>\n",
              "      <td>8</td>\n",
              "      <td>6</td>\n",
              "      <td>10</td>\n",
              "      <td>5</td>\n",
              "      <td>5</td>\n",
              "      <td>5</td>\n",
              "      <td>5</td>\n",
              "    </tr>\n",
              "    <tr>\n",
              "      <th>Location 5</th>\n",
              "      <td>2.672194</td>\n",
              "      <td>1.78</td>\n",
              "      <td>1.38</td>\n",
              "      <td>20.5</td>\n",
              "      <td>27.562581</td>\n",
              "      <td>27.20</td>\n",
              "      <td>16.0</td>\n",
              "      <td>48.1</td>\n",
              "      <td>82.651613</td>\n",
              "      <td>81.0</td>\n",
              "      <td>68.0</td>\n",
              "      <td>95.0</td>\n",
              "      <td>6.196516</td>\n",
              "      <td>1.06</td>\n",
              "      <td>0.0</td>\n",
              "      <td>63.60</td>\n",
              "      <td>165.316129</td>\n",
              "      <td>157.0</td>\n",
              "      <td>11</td>\n",
              "      <td>355</td>\n",
              "      <td>14.380645</td>\n",
              "      <td>14</td>\n",
              "      <td>13</td>\n",
              "      <td>17</td>\n",
              "      <td>6</td>\n",
              "      <td>6</td>\n",
              "      <td>6</td>\n",
              "      <td>6</td>\n",
              "    </tr>\n",
              "    <tr>\n",
              "      <th>Location 6</th>\n",
              "      <td>4.868288</td>\n",
              "      <td>2.46</td>\n",
              "      <td>2.29</td>\n",
              "      <td>25.0</td>\n",
              "      <td>29.101802</td>\n",
              "      <td>26.90</td>\n",
              "      <td>24.9</td>\n",
              "      <td>36.4</td>\n",
              "      <td>78.702703</td>\n",
              "      <td>78.0</td>\n",
              "      <td>75.0</td>\n",
              "      <td>87.0</td>\n",
              "      <td>12.539820</td>\n",
              "      <td>4.24</td>\n",
              "      <td>0.0</td>\n",
              "      <td>63.60</td>\n",
              "      <td>180.441441</td>\n",
              "      <td>211.0</td>\n",
              "      <td>5</td>\n",
              "      <td>360</td>\n",
              "      <td>13.603604</td>\n",
              "      <td>13</td>\n",
              "      <td>12</td>\n",
              "      <td>17</td>\n",
              "      <td>7</td>\n",
              "      <td>7</td>\n",
              "      <td>7</td>\n",
              "      <td>7</td>\n",
              "    </tr>\n",
              "    <tr>\n",
              "      <th>Location 7</th>\n",
              "      <td>19.147899</td>\n",
              "      <td>19.10</td>\n",
              "      <td>17.10</td>\n",
              "      <td>21.0</td>\n",
              "      <td>20.063866</td>\n",
              "      <td>19.20</td>\n",
              "      <td>17.1</td>\n",
              "      <td>24.2</td>\n",
              "      <td>78.899160</td>\n",
              "      <td>81.0</td>\n",
              "      <td>65.0</td>\n",
              "      <td>93.0</td>\n",
              "      <td>9.868151</td>\n",
              "      <td>9.47</td>\n",
              "      <td>0.0</td>\n",
              "      <td>27.80</td>\n",
              "      <td>162.210084</td>\n",
              "      <td>75.0</td>\n",
              "      <td>1</td>\n",
              "      <td>358</td>\n",
              "      <td>11.630252</td>\n",
              "      <td>10</td>\n",
              "      <td>8</td>\n",
              "      <td>16</td>\n",
              "      <td>7</td>\n",
              "      <td>7</td>\n",
              "      <td>7</td>\n",
              "      <td>7</td>\n",
              "    </tr>\n",
              "    <tr>\n",
              "      <th>Location 8</th>\n",
              "      <td>23.608383</td>\n",
              "      <td>21.70</td>\n",
              "      <td>19.80</td>\n",
              "      <td>30.0</td>\n",
              "      <td>30.352695</td>\n",
              "      <td>29.20</td>\n",
              "      <td>23.9</td>\n",
              "      <td>39.3</td>\n",
              "      <td>53.323353</td>\n",
              "      <td>58.0</td>\n",
              "      <td>38.0</td>\n",
              "      <td>64.0</td>\n",
              "      <td>6.558084</td>\n",
              "      <td>5.45</td>\n",
              "      <td>0.0</td>\n",
              "      <td>22.30</td>\n",
              "      <td>176.700599</td>\n",
              "      <td>204.0</td>\n",
              "      <td>9</td>\n",
              "      <td>347</td>\n",
              "      <td>9.083832</td>\n",
              "      <td>7</td>\n",
              "      <td>6</td>\n",
              "      <td>15</td>\n",
              "      <td>8</td>\n",
              "      <td>8</td>\n",
              "      <td>8</td>\n",
              "      <td>8</td>\n",
              "    </tr>\n",
              "  </tbody>\n",
              "</table>\n",
              "</div>"
            ],
            "text/plain": [
              "             AIR_TEMP                      ... TIME_MONTH               \n",
              "                 mean median    min   max  ...       mean median min max\n",
              "LOCATION                                   ...                          \n",
              "Location 1  20.612676  21.55  17.20  23.0  ...          2      2   2   2\n",
              "Location 2  12.935828  12.90   9.77  15.3  ...          4      4   4   4\n",
              "Location 3  13.173239  13.00  12.20  14.7  ...          4      4   4   4\n",
              "Location 4  18.694681  18.70  16.60  20.6  ...          5      5   5   5\n",
              "Location 5   2.672194   1.78   1.38  20.5  ...          6      6   6   6\n",
              "Location 6   4.868288   2.46   2.29  25.0  ...          7      7   7   7\n",
              "Location 7  19.147899  19.10  17.10  21.0  ...          7      7   7   7\n",
              "Location 8  23.608383  21.70  19.80  30.0  ...          8      8   8   8\n",
              "\n",
              "[8 rows x 28 columns]"
            ]
          },
          "metadata": {},
          "execution_count": 39
        }
      ]
    },
    {
      "cell_type": "code",
      "metadata": {
        "id": "pVVd7g-Oo1lw"
      },
      "source": [
        "loc_dict = {}\n",
        "for loc in left.index:\n",
        "  loc_dict[loc] = {}\n",
        "for loc in left.index:\n",
        "  loc_dict[loc]['AIR_TEMP_MEDIAN'] = left.loc[loc]['AIR_TEMP']['median']\n",
        "  loc_dict[loc]['AIR_TEMP_MIN'] = left.loc[loc]['AIR_TEMP']['min']\n",
        "  loc_dict[loc]['AIR_TEMP_MAX'] = left.loc[loc]['AIR_TEMP']['max']\n",
        "  loc_dict[loc]['TRACK_TEMP_MEDIAN'] = left.loc[loc]['TRACK_TEMP']['median']\n",
        "  loc_dict[loc]['HUMIDITY_MEDIAN'] = left.loc[loc]['HUMIDITY']['median']\n",
        "  loc_dict[loc]['WIND_SPEED_MEDIAN'] = left.loc[loc]['WIND_SPEED']['median']\n",
        "  loc_dict[loc]['WIND_SPEED_MAX'] = left.loc[loc]['WIND_SPEED']['max']\n",
        "  loc_dict[loc]['TIME_HR_DIFF'] = left.loc[loc]['TIME_HOUR']['max'] - left.loc[loc]['TIME_HOUR']['min']\n",
        "\n",
        "df[['AIR_TEMP_MIN','AIR_TEMP_MAX','AIR_TEMP_MEDIAN','HUMIDITY_MEDIAN','TIME_HR_DIFF','TRACK_TEMP_MEDIAN','WIND_SPEED_MAX','WIND_SPEED_MEDIAN']]=0\n",
        "cols = list(loc_dict['Location 8'].keys())\n",
        "for loc in left.index:\n",
        "  for col in cols:\n",
        "    df.loc[df.LOCATION == loc, col] = loc_dict[loc][col]"
      ],
      "execution_count": 40,
      "outputs": []
    },
    {
      "cell_type": "code",
      "metadata": {
        "colab": {
          "base_uri": "https://localhost:8080/"
        },
        "id": "FCZaFYcYGD6L",
        "outputId": "b4a409e9-8280-4aa7-c6a2-ea6e557d1f26"
      },
      "source": [
        "X = df[df.LAP_TIME.isna() == False]\n",
        "y = X['LAP_TIME']\n",
        "X = X.drop(columns = ['LAP_TIME'], axis=1)\n",
        "X.shape, y.shape, train.shape"
      ],
      "execution_count": 42,
      "outputs": [
        {
          "output_type": "execute_result",
          "data": {
            "text/plain": [
              "((10268, 26), (10268,), (10276, 25))"
            ]
          },
          "metadata": {},
          "execution_count": 42
        }
      ]
    },
    {
      "cell_type": "code",
      "metadata": {
        "colab": {
          "base_uri": "https://localhost:8080/"
        },
        "id": "TrLYBxXZHDmc",
        "outputId": "48387619-6dab-42bb-f23d-31871f58cf95"
      },
      "source": [
        "testData = df[df.LAP_TIME.isna()]\n",
        "testData = testData.drop(columns = ['LAP_TIME'], axis=1)\n",
        "testData.shape, test.shape"
      ],
      "execution_count": 43,
      "outputs": [
        {
          "output_type": "execute_result",
          "data": {
            "text/plain": [
              "((420, 26), (420, 25))"
            ]
          },
          "metadata": {},
          "execution_count": 43
        }
      ]
    },
    {
      "cell_type": "code",
      "metadata": {
        "id": "ehaoUd9BML3g"
      },
      "source": [
        "cat_cols = ['EVENT']\n",
        "cat = ['EVENT','LOCATION','TEAM']"
      ],
      "execution_count": 44,
      "outputs": []
    },
    {
      "cell_type": "code",
      "metadata": {
        "id": "bkpIG3yY67q-",
        "colab": {
          "base_uri": "https://localhost:8080/"
        },
        "outputId": "8370f688-035b-4812-9c67-b092e1864da6"
      },
      "source": [
        "#categorical encoding\n",
        "encoder = OneHotEncoder()\n",
        "\n",
        "encoder.fit(df[cat_cols])\n",
        "enc = list(encoder.get_feature_names_out(cat_cols))\n",
        "X[enc] = encoder.transform(X[cat_cols]).toarray()\n",
        "\n",
        "testData[enc] = encoder.transform(testData[cat_cols]).toarray()\n",
        "\n",
        "X = X.drop(columns = cat, axis=1)\n",
        "testData = testData.drop(columns = cat, axis=1)\n",
        "input_cols = X.columns\n",
        "input_cols"
      ],
      "execution_count": 45,
      "outputs": [
        {
          "output_type": "execute_result",
          "data": {
            "text/plain": [
              "Index(['NUMBER', 'LAP_NUMBER', 'LAP_IMPROVEMENT', 'S1_IMPROVEMENT',\n",
              "       'S2_IMPROVEMENT', 'S3_IMPROVEMENT', 'PT', 'elapsed_sec', 's1_sec',\n",
              "       's2_sec', 's3_sec', 'mps', 'num_mean', 'num_min', 'num_max',\n",
              "       'AIR_TEMP_MIN', 'AIR_TEMP_MAX', 'AIR_TEMP_MEDIAN', 'HUMIDITY_MEDIAN',\n",
              "       'TIME_HR_DIFF', 'TRACK_TEMP_MEDIAN', 'WIND_SPEED_MAX',\n",
              "       'WIND_SPEED_MEDIAN', 'EVENT_Free Practice 1', 'EVENT_Free Practice 2',\n",
              "       'EVENT_Free Practice 3', 'EVENT_Qualifying Group 1',\n",
              "       'EVENT_Qualifying Group 2', 'EVENT_Qualifying Group 3',\n",
              "       'EVENT_Qualifying Group 4'],\n",
              "      dtype='object')"
            ]
          },
          "metadata": {},
          "execution_count": 45
        }
      ]
    },
    {
      "cell_type": "code",
      "metadata": {
        "id": "z4CBEyF-3dx1"
      },
      "source": [
        "#scaling\n",
        "scaler = StandardScaler()\n",
        "X = scaler.fit_transform(X)\n",
        "testData = scaler.transform(testData)"
      ],
      "execution_count": 46,
      "outputs": []
    },
    {
      "cell_type": "code",
      "metadata": {
        "id": "xVweTcul-TU1"
      },
      "source": [
        "#splitting data into training and validation sets\n",
        "trainX, valX, trainy, valy = train_test_split(X, y)"
      ],
      "execution_count": 47,
      "outputs": []
    },
    {
      "cell_type": "code",
      "metadata": {
        "colab": {
          "base_uri": "https://localhost:8080/"
        },
        "id": "HA-dydEG-TRu",
        "outputId": "d8a5f722-1f6d-45d6-dcfd-d5086c697528"
      },
      "source": [
        "model = XGBRegressor()\n",
        "model.fit(trainX, trainy)\n",
        "y_pred = model.predict(valX)\n",
        "np.sqrt(mean_squared_log_error(y_pred, valy))"
      ],
      "execution_count": 48,
      "outputs": [
        {
          "output_type": "stream",
          "name": "stdout",
          "text": [
            "[06:59:03] WARNING: /workspace/src/objective/regression_obj.cu:152: reg:linear is now deprecated in favor of reg:squarederror.\n"
          ]
        },
        {
          "output_type": "execute_result",
          "data": {
            "text/plain": [
              "0.5172075865709421"
            ]
          },
          "metadata": {},
          "execution_count": 48
        }
      ]
    },
    {
      "cell_type": "code",
      "metadata": {
        "id": "WTnEcRQsRaGy",
        "colab": {
          "base_uri": "https://localhost:8080/",
          "height": 610
        },
        "outputId": "ce64ad41-0cdf-4116-ba01-9f0e0e795509"
      },
      "source": [
        "importance = model.feature_importances_\n",
        "weights = pd.DataFrame()\n",
        "weights['feature'] = input_cols\n",
        "weights['xgb_importance'] = importance\n",
        "sns.barplot(data=weights, y='feature', x='xgb_importance');"
      ],
      "execution_count": 50,
      "outputs": [
        {
          "output_type": "display_data",
          "data": {
            "image/png": "[encoded data removed]",
            "text/plain": [
              "<Figure size 720x720 with 1 Axes>"
            ]
          },
          "metadata": {}
        }
      ]
    },
    {
      "cell_type": "code",
      "metadata": {
        "colab": {
          "base_uri": "https://localhost:8080/"
        },
        "id": "ViDVpGtUa3kS",
        "outputId": "9e33b7f2-e91a-4cca-f472-9fec712b73c2"
      },
      "source": [
        "#predicting the test data\n",
        "model = XGBRegressor()\n",
        "model.fit(X,y)\n",
        "predictions = model.predict(testData)\n",
        "predictions.shape, test.shape"
      ],
      "execution_count": 51,
      "outputs": [
        {
          "output_type": "stream",
          "name": "stdout",
          "text": [
            "[07:00:12] WARNING: /workspace/src/objective/regression_obj.cu:152: reg:linear is now deprecated in favor of reg:squarederror.\n"
          ]
        },
        {
          "output_type": "execute_result",
          "data": {
            "text/plain": [
              "((420,), (420, 25))"
            ]
          },
          "metadata": {},
          "execution_count": 51
        }
      ]
    },
    {
      "cell_type": "code",
      "metadata": {
        "colab": {
          "base_uri": "https://localhost:8080/",
          "height": 206
        },
        "id": "uGX99NFzRTTu",
        "outputId": "76c8b3fb-b865-4161-8ba6-a31420aef16e"
      },
      "source": [
        "sub = pd.read_csv('submission.csv')\n",
        "sub['LAP_TIME'] = predictions\n",
        "sub.head()"
      ],
      "execution_count": 52,
      "outputs": [
        {
          "output_type": "execute_result",
          "data": {
            "text/html": [
              "<div>\n",
              "<style scoped>\n",
              "    .dataframe tbody tr th:only-of-type {\n",
              "        vertical-align: middle;\n",
              "    }\n",
              "\n",
              "    .dataframe tbody tr th {\n",
              "        vertical-align: top;\n",
              "    }\n",
              "\n",
              "    .dataframe thead th {\n",
              "        text-align: right;\n",
              "    }\n",
              "</style>\n",
              "<table border=\"1\" class=\"dataframe\">\n",
              "  <thead>\n",
              "    <tr style=\"text-align: right;\">\n",
              "      <th></th>\n",
              "      <th>LAP_TIME</th>\n",
              "    </tr>\n",
              "  </thead>\n",
              "  <tbody>\n",
              "    <tr>\n",
              "      <th>0</th>\n",
              "      <td>100.064713</td>\n",
              "    </tr>\n",
              "    <tr>\n",
              "      <th>1</th>\n",
              "      <td>96.900719</td>\n",
              "    </tr>\n",
              "    <tr>\n",
              "      <th>2</th>\n",
              "      <td>96.395889</td>\n",
              "    </tr>\n",
              "    <tr>\n",
              "      <th>3</th>\n",
              "      <td>100.064713</td>\n",
              "    </tr>\n",
              "    <tr>\n",
              "      <th>4</th>\n",
              "      <td>96.900719</td>\n",
              "    </tr>\n",
              "  </tbody>\n",
              "</table>\n",
              "</div>"
            ],
            "text/plain": [
              "     LAP_TIME\n",
              "0  100.064713\n",
              "1   96.900719\n",
              "2   96.395889\n",
              "3  100.064713\n",
              "4   96.900719"
            ]
          },
          "metadata": {},
          "execution_count": 52
        }
      ]
    },
    {
      "cell_type": "code",
      "metadata": {
        "id": "hRKrjghaRTL-"
      },
      "source": [
        "#making submission\n",
        "sub.to_csv('predictions.csv', index=False)"
      ],
      "execution_count": null,
      "outputs": []
    }
  ]
}